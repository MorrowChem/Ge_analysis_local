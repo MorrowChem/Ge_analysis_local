{
 "cells": [
  {
   "cell_type": "code",
   "execution_count": 1,
   "outputs": [],
   "source": [
    "%load_ext autoreload\n",
    "%autoreload 2"
   ],
   "metadata": {
    "collapsed": false,
    "pycharm": {
     "name": "#%%\n"
    }
   }
  },
  {
   "cell_type": "code",
   "execution_count": 2,
   "metadata": {
    "collapsed": true
   },
   "outputs": [],
   "source": [
    "import os\n",
    "from ase import build\n",
    "import numpy as np\n",
    "from lammps import PyLammps, lammps\n",
    "from mpi4py import MPI"
   ]
  },
  {
   "cell_type": "code",
   "execution_count": 3,
   "outputs": [],
   "source": [
    "os.chdir('test')"
   ],
   "metadata": {
    "collapsed": false,
    "pycharm": {
     "name": "#%%\n"
    }
   }
  },
  {
   "cell_type": "code",
   "execution_count": 4,
   "outputs": [
    {
     "data": {
      "text/plain": "'/home/joe/PycharmProjects/Ge_analysis_local/test'"
     },
     "execution_count": 4,
     "metadata": {},
     "output_type": "execute_result"
    }
   ],
   "source": [
    "os.getcwd()"
   ],
   "metadata": {
    "collapsed": false,
    "pycharm": {
     "name": "#%%\n"
    }
   }
  },
  {
   "cell_type": "code",
   "execution_count": 5,
   "outputs": [],
   "source": [
    "env = os.environ\n",
    "env['rundir'] = 'run_1000_test'\n",
    "env['system'] = 'Si'\n",
    "env['model'] = 'MTP'\n",
    "env['units'] = 'metal'\n",
    "env['restart_from'] = 'data'\n",
    "env['data_file'] = '/home/joe/scripts/lammps/rnd_64.data'\n",
    "env['pair_style'] = 'mlip {}/mlip.ini'.format(env['rundir'])\n",
    "env['pair_coeff'] = \"* *\"\n",
    "env['p'] = '0'\n",
    "env['pot'] = 'Si_myDB_liqamocryst_train_24_rb_12.mtp'"
   ],
   "metadata": {
    "collapsed": false,
    "pycharm": {
     "name": "#%%\n"
    }
   }
  },
  {
   "cell_type": "code",
   "execution_count": 46,
   "outputs": [],
   "source": [
    "os.makedirs(os.path.join(os.environ['rundir'],'NPT'))\n",
    "\n",
    "ini_str = 'mtp-filename {}\\nselect FALSE'.format(env['pot'])\n",
    "with open(os.path.join(env['rundir'], 'mlip.ini'), 'w') as f:\n",
    "    f.write(ini_str)"
   ],
   "metadata": {
    "collapsed": false,
    "pycharm": {
     "name": "#%%\n"
    }
   }
  },
  {
   "cell_type": "code",
   "execution_count": 65,
   "outputs": [
    {
     "name": "stdout",
     "output_type": "stream",
     "text": [
      "LAMMPS output is captured by PyLammps wrapper\n"
     ]
    }
   ],
   "source": [
    "lmp = lammps()\n",
    "L = PyLammps(ptr=lmp)"
   ],
   "metadata": {
    "collapsed": false,
    "pycharm": {
     "name": "#%%\n"
    }
   }
  },
  {
   "cell_type": "code",
   "execution_count": 48,
   "outputs": [],
   "source": [
    "L.log(os.path.join(env['rundir'], 'log_npt_{}_{}.dat'.format(env['system'], env['model'])), 'append')"
   ],
   "metadata": {
    "collapsed": false,
    "pycharm": {
     "name": "#%%\n"
    }
   }
  },
  {
   "cell_type": "code",
   "execution_count": 49,
   "outputs": [],
   "source": [
    "L.units(env['units'])\n",
    "L.atom_style('atomic')\n",
    "if env['restart_from'] == 'continuation':\n",
    "    L.read_restart(env['rundir'], 'restart_npt_{}_{}.*'.format(env['system'], env['model']))\n",
    "else:\n",
    "    L.read_data(env['data_file'])\n",
    "\n",
    "L.mass(1, 28.09)"
   ],
   "metadata": {
    "collapsed": false,
    "pycharm": {
     "name": "#%%\n"
    }
   }
  },
  {
   "cell_type": "code",
   "execution_count": 70,
   "outputs": [],
   "source": [
    "L.pair_style(env['pair_style'])\n",
    "L.pair_coeff(env['pair_coeff'])\n",
    "L.neighbor(2.0, 'bin')\n",
    "L.neigh_modify('every', 1, 'delay', 0, 'check', 'yes')\n",
    "\n",
    "Nfreq = 100; Nevery = 10; Nprint = 10; Nrepeat = Nfreq//Nevery; Ndump = 100\n",
    "# L.variable('Nfreq', 'equal', Nfreq)\n",
    "# L.variable('Nprint', 'equal', Nprint)\n",
    "# L.variable('Nevery', 'equal', Nevery)\n",
    "# L.variable('Nrepeat', 'equal', Nrepeat)\n",
    "# L.variable('Ndump', 'equal', Ndump)\n",
    "\n",
    "L.group('silicon', 'type', 1)\n",
    "L.timestep(0.001)"
   ],
   "metadata": {
    "collapsed": false,
    "pycharm": {
     "name": "#%%\n"
    }
   }
  },
  {
   "cell_type": "code",
   "execution_count": 71,
   "outputs": [],
   "source": [
    "L.variable('nAtoms equal atoms')\n",
    "L.fix('removeMomentum', 'all', 'momentum', 1, 'linear', 1, 1, 1)\n",
    "\n",
    "L.compute('T', 'all', 'temp')\n",
    "L.fix('TempAve', 'all', 'ave/time', Nevery, Nrepeat, Nfreq, 'c_T')\n",
    "\n",
    "L.variable('P equal press')\n",
    "L.fix('PressAve', 'all', 'ave/time', Nevery, Nrepeat, Nfreq, 'v_P')\n",
    "\n",
    "L.variable('v equal vol')\n",
    "L.fix('vAve', 'all', 'ave/time', Nevery, Nrepeat, Nfreq, 'v_v')\n",
    "\n",
    "L.compute('PE', 'all', 'pe', 'pair')\n",
    "L.variable('PE_atom equal c_PE/v_nAtoms')\n",
    "L.fix('PEAve_Atom', 'all', 'ave/time', Nevery, Nrepeat, Nfreq, 'v_PE_atom')\n",
    "\n",
    "L.compute('MSD', 'all', 'msd')\n",
    "\n",
    "L.thermo_style('custom', 'step', 'cpu',\n",
    "               'temp', 'f_TempAve',\n",
    "               'press', 'f_PressAve',\n",
    "               'f_PEAve_Atom',\n",
    "               'vol', 'f_vAve',\n",
    "               'c_MSD[4]', 'fmax')\n",
    "\n",
    "L.thermo(Nfreq)\n",
    "L.thermo_modify('flush', 'yes')\n",
    "\n",
    "L.dump('trj_movie all cfg {} {}/NPT/dump_npt_{}_{}.*.cfg mass type xs ys zs'.format(\n",
    "        Nfreq, env['rundir'], env['system'], env['model']))\n",
    "L.dump_modify('trj_movie element {}'.format(env['system']))\n",
    "\n",
    "L.restart(Ndump, '{}/restart_npt_{}_{}.*'.format(env['rundir'], env['system'], env['model']))"
   ],
   "metadata": {
    "collapsed": false,
    "pycharm": {
     "name": "#%%\n"
    }
   }
  },
  {
   "cell_type": "code",
   "execution_count": 52,
   "outputs": [
    {
     "name": "stdout",
     "output_type": "stream",
     "text": [
      "Global constant pressure set\n"
     ]
    }
   ],
   "source": [
    "# env['stages'] = 'melt liquid super_liquid quench amo'\n",
    "env['stages'] = 'melt liquid super_liquid'\n",
    "# env['steps'] = '2e4 1e5 1e5 1e5 2e4'\n",
    "env['steps'] = '3e2 3e2 3e2 3e2 3e2'\n",
    "# env['temps'] = '2500 2500  1800 1800  1500 1500  1500 300  300 300'\n",
    "env['temps'] = '2500 2500  1800 1800'\n",
    "stages = env['stages'].split()\n",
    "steps = [int(float(i)) for i in env['steps'].split()]\n",
    "temps = [float(i) for i in env['temps'].split()]\n",
    "p_bar = [float(i)*1e4 for i in env['p'].split()]\n",
    "if len(p_bar) != len(temps):\n",
    "    print('Global constant pressure set')\n",
    "    p_bar = [p_bar[0] for i in range(len(temps))]\n",
    "\n",
    "for i in range(len(stages)):\n",
    "    L.variable(stages[i], 'equal', sum(steps[:i+1]))"
   ],
   "metadata": {
    "collapsed": false,
    "pycharm": {
     "name": "#%%\n"
    }
   }
  },
  {
   "cell_type": "code",
   "execution_count": 53,
   "outputs": [
    {
     "name": "stdout",
     "output_type": "stream",
     "text": [
      "992114514\n"
     ]
    }
   ],
   "source": [
    "if L.eval('step') == 0 and steps[0] > 0:\n",
    "    np.random.seed()\n",
    "    rand = np.random.randint(0, high=np.iinfo(np.int32).max, dtype=np.uint32)\n",
    "    print(rand)\n",
    "    L.velocity('all', 'create', temps[0], rand)"
   ],
   "metadata": {
    "collapsed": false,
    "pycharm": {
     "name": "#%%\n"
    }
   }
  },
  {
   "cell_type": "code",
   "execution_count": 54,
   "outputs": [],
   "source": [
    "L.run(0)\n",
    "step = 0\n",
    "\n",
    "for i in range(len(stages)):\n",
    "    L.fix('integrate all npt',\n",
    "          'temp', temps[2*i], temps[2*i+1], 0.1,\n",
    "          'iso', p_bar[2*i], p_bar[2*i+1], 1.0,\n",
    "          'nreset', 1000)\n",
    "    # if step < steps[i]:\n",
    "        # L.run(sum(steps[:i+1]), 'upto', 'start', sum(steps[:i]), 'stop', sum(steps[:i+1]), 'pre', 'no', 'post', 'no')\n",
    "    L.run(sum(steps[:i+1]), 'upto')\n",
    "    step += steps[i]\n",
    "    L.unfix('integrate')\n",
    "    L.write_data('{}/post_{}_data_npt_{}_{}'.format(env['rundir'], stages[i], env['system'], env['model']))"
   ],
   "metadata": {
    "collapsed": false,
    "pycharm": {
     "name": "#%%\n"
    }
   }
  },
  {
   "cell_type": "code",
   "execution_count": 72,
   "outputs": [
    {
     "data": {
      "text/plain": "['Unused restart file global fix info:',\n '  fix style: npt, fix ID: integrate',\n 'All restart file peratom fix info was re-assigned',\n 'Neighbor list info ...',\n '  update every 1 steps, delay 0 steps, check yes',\n '  max neighbors/atom: 2000, page size: 100000',\n '  master list distance cutoff = 7',\n '  ghost atom cutoff = 7',\n '  binsize = 3.5, bins = 3 3 3',\n '  1 neighbor lists, perpetual/occasional/extra = 1 0 0',\n '  (1) pair mlip, perpetual',\n '      attributes: full, newton on',\n '      pair build: full/bin/atomonly',\n '      stencil: full/bin/3d',\n '      bin: standard',\n 'Setting up Verlet run ...',\n '  Unit style    : metal',\n '  Current step  : 600',\n '  Time step     : 0.001',\n 'Per MPI rank memory allocation (min/avg/max) = 4.709 | 4.709 | 4.709 Mbytes',\n 'Step CPU Temp f_TempAve Press f_PressAve f_PEAve_Atom Volume f_vAve c_MSD[4] Fmax ',\n '     600            0    1804.6374            0    -3064.086            0            0    1149.4449            0    10.916384    2.3076237 ',\n '     610   0.42374315    1804.6374            0    -3064.086            0            0    1149.4449            0    10.916384    2.3076237 ',\n 'Loop time of 0.423854 on 1 procs for 10 steps with 64 atoms',\n '',\n 'Performance: 2.038 ns/day, 11.774 hours/ns, 23.593 timesteps/s',\n '71.0% CPU use with 1 MPI tasks x no OpenMP threads',\n '',\n 'MPI task timing breakdown:',\n 'Section |  min time  |  avg time  |  max time  |%varavg| %total',\n '---------------------------------------------------------------',\n 'Pair    | 0.42344    | 0.42344    | 0.42344    |   0.0 | 99.90',\n 'Neigh   | 0          | 0          | 0          |   0.0 |  0.00',\n 'Comm    | 6.5945e-05 | 6.5945e-05 | 6.5945e-05 |   0.0 |  0.02',\n 'Output  | 0.00010644 | 0.00010644 | 0.00010644 |   0.0 |  0.03',\n 'Modify  | 0.00017851 | 0.00017851 | 0.00017851 |   0.0 |  0.04',\n 'Other   |            | 6.19e-05   |            |       |  0.01',\n '',\n 'Nlocal:        64.0000 ave          64 max          64 min',\n 'Histogram: 1 0 0 0 0 0 0 0 0 0',\n 'Nghost:        757.000 ave         757 max         757 min',\n 'Histogram: 1 0 0 0 0 0 0 0 0 0',\n 'Neighs:        0.00000 ave           0 max           0 min',\n 'Histogram: 1 0 0 0 0 0 0 0 0 0',\n 'FullNghs:      5058.00 ave        5058 max        5058 min',\n 'Histogram: 1 0 0 0 0 0 0 0 0 0',\n '',\n 'Total # of neighbors = 5058',\n 'Ave neighs/atom = 79.031250',\n 'Neighbor list builds = 0',\n 'Dangerous builds = 0']"
     },
     "execution_count": 72,
     "metadata": {},
     "output_type": "execute_result"
    }
   ],
   "source": [
    "L.run(10)"
   ],
   "metadata": {
    "collapsed": false,
    "pycharm": {
     "name": "#%%\n"
    }
   }
  },
  {
   "cell_type": "code",
   "execution_count": 64,
   "outputs": [
    {
     "data": {
      "text/plain": "610.0"
     },
     "execution_count": 64,
     "metadata": {},
     "output_type": "execute_result"
    }
   ],
   "source": [
    "L.eval('step')"
   ],
   "metadata": {
    "collapsed": false,
    "pycharm": {
     "name": "#%%\n"
    }
   }
  },
  {
   "cell_type": "code",
   "execution_count": 67,
   "outputs": [
    {
     "data": {
      "text/plain": "['Reading restart file ...',\n '  restart file = 29 Oct 2020, LAMMPS = 29 Oct 2020',\n '  restoring atom style atomic from restart',\n '  orthogonal box = (0.25384204 0.25384204 0.25384204) to (10.729051 10.729051 10.729051)',\n '  1 by 1 by 1 MPI processor grid',\n '  pair style mlip stores no restart info',\n '  64 atoms',\n '  read_restart CPU = 0.003 seconds']"
     },
     "execution_count": 67,
     "metadata": {},
     "output_type": "execute_result"
    }
   ],
   "source": [
    "L.read_restart(os.path.join(env['rundir'], 'restart_npt_{}_{}.*'.format(env['system'], env['model'])))"
   ],
   "metadata": {
    "collapsed": false,
    "pycharm": {
     "name": "#%%\n"
    }
   }
  },
  {
   "cell_type": "code",
   "execution_count": 73,
   "outputs": [
    {
     "data": {
      "text/plain": "610.0"
     },
     "execution_count": 73,
     "metadata": {},
     "output_type": "execute_result"
    }
   ],
   "source": [
    "L.eval('step')\n"
   ],
   "metadata": {
    "collapsed": false,
    "pycharm": {
     "name": "#%%\n"
    }
   }
  },
  {
   "cell_type": "code",
   "execution_count": null,
   "outputs": [],
   "source": [],
   "metadata": {
    "collapsed": false,
    "pycharm": {
     "name": "#%%\n"
    }
   }
  }
 ],
 "metadata": {
  "kernelspec": {
   "display_name": "Python 3",
   "language": "python",
   "name": "python3"
  },
  "language_info": {
   "codemirror_mode": {
    "name": "ipython",
    "version": 2
   },
   "file_extension": ".py",
   "mimetype": "text/x-python",
   "name": "python",
   "nbconvert_exporter": "python",
   "pygments_lexer": "ipython2",
   "version": "2.7.6"
  }
 },
 "nbformat": 4,
 "nbformat_minor": 0
}