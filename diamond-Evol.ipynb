{
 "cells": [
  {
   "cell_type": "code",
   "execution_count": 3,
   "outputs": [],
   "source": [
    "from ase.build import bulk\n",
    "from ase import Atoms\n",
    "from ase.io.trajectory import Trajectory\n",
    "from ase.calculators import morse\n",
    "from quippy.potential import Potential\n",
    "import os\n",
    "import numpy as np\n",
    "import matplotlib.pyplot as plt"
   ],
   "metadata": {
    "collapsed": false,
    "pycharm": {
     "name": "#%%\n"
    }
   }
  },
  {
   "cell_type": "code",
   "execution_count": 4,
   "outputs": [],
   "source": [
    "os.chdir('/Users/Moji/Documents/Summer20/Ge/Potentials')\n",
    "#pot = morse.MorsePotential()\n",
    "pot2 = Potential(param_filename='Ge_2bSOAP_5000_125_216_d155/Ge_2bSOAP_5000_125_216_d155.xml')\n",
    "pot_v = Potential(param_filename='Ge_2bSOAP_5000_125_216_d155_v/Ge_2bSOAP_5000_125_216_d155_v.xml')\n",
    "pot_ve4 = Potential(param_filename='Ge_2bSOAP_5000_125_216_d155_ve4/Ge_2bSOAP_5000_125_216_d155_ve4.xml')"
   ],
   "metadata": {
    "collapsed": false,
    "pycharm": {
     "name": "#%%\n"
    }
   }
  },
  {
   "cell_type": "code",
   "execution_count": 23,
   "outputs": [
    {
     "name": "stdout",
     "output_type": "stream",
     "text": [
      "-2537.2917499095433\n"
     ]
    }
   ],
   "source": [
    "a = 5.6858\n",
    "dia = bulk('Ge', crystalstructure='diamond', a=a, cubic=True)\n",
    "dia.set_calculator(pot_ve4)\n",
    "print(dia.get_potential_energy()/len(dia))\n",
    "cell=dia.get_cell()"
   ],
   "metadata": {
    "collapsed": false,
    "pycharm": {
     "name": "#%%\n"
    }
   }
  },
  {
   "cell_type": "code",
   "execution_count": 24,
   "outputs": [],
   "source": [
    "traj = Trajectory('Ge_ve4.traj', 'w')"
   ],
   "metadata": {
    "collapsed": false,
    "pycharm": {
     "name": "#%%\n"
    }
   }
  },
  {
   "cell_type": "code",
   "execution_count": 22,
   "outputs": [],
   "source": [
    "ref = Atoms('Ge', cell=[[20,0,0],[0,20,0],[0,0,20]], pbc=1, calculator=pot)\n",
    "e0 = ref.get_potential_energy()"
   ],
   "metadata": {
    "collapsed": false,
    "pycharm": {
     "name": "#%%\n"
    }
   }
  },
  {
   "cell_type": "code",
   "execution_count": 25,
   "outputs": [],
   "source": [
    "for i in np.linspace(0.9, 1.1, 10):\n",
    "    dia.set_cell(cell*i, scale_atoms=True)\n",
    "    dia.get_potential_energy()\n",
    "    traj.write(dia)"
   ],
   "metadata": {
    "collapsed": false,
    "pycharm": {
     "name": "#%%\n"
    }
   }
  },
  {
   "cell_type": "code",
   "execution_count": 27,
   "outputs": [],
   "source": [
    "from ase.io import read\n",
    "from ase.eos import EquationOfState\n",
    "configs_v = read('Ge_v.traj@0:10')\n",
    "volumes_v = [dia.get_volume() for dia in configs_v]\n",
    "energies_v = [dia.get_potential_energy()/len(dia) for dia in configs_v]\n",
    "configs = read('Ge.traj@0:10')\n",
    "volumes = [dia.get_volume() for dia in configs]\n",
    "energies = [dia.get_potential_energy()/len(dia) for dia in configs]\n",
    "configs_ve4 = read('Ge_ve4.traj@0:10')\n",
    "volumes_ve4 = [dia.get_volume() for dia in configs_ve4]\n",
    "energies_ve4 = [dia.get_potential_energy()/len(dia) for dia in configs_ve4]"
   ],
   "metadata": {
    "collapsed": false,
    "pycharm": {
     "name": "#%%\n"
    }
   }
  },
  {
   "cell_type": "code",
   "execution_count": 16,
   "outputs": [
    {
     "data": {
      "text/plain": "<matplotlib.axes._subplots.AxesSubplot at 0x112dc4e80>"
     },
     "execution_count": 16,
     "metadata": {},
     "output_type": "execute_result"
    }
   ],
   "source": [
    "eos2 = EquationOfState(volumes, energies, eos='birchmurnaghan')\n",
    "v0, e0, B = eos2.fit()\n",
    "eos2.plot(ax=axs, show=False)"
   ],
   "metadata": {
    "collapsed": false,
    "pycharm": {
     "name": "#%%\n"
    }
   }
  },
  {
   "cell_type": "code",
   "execution_count": 18,
   "outputs": [
    {
     "data": {
      "text/plain": "<matplotlib.axes._subplots.AxesSubplot at 0x112dc4e80>"
     },
     "execution_count": 18,
     "metadata": {},
     "output_type": "execute_result"
    }
   ],
   "source": [
    "eos3 = EquationOfState(volumes_v, energies_v, eos='birchmurnaghan')\n",
    "v0, e0, B = eos3.fit()\n",
    "eos3.plot(ax=axs, show=True)"
   ],
   "metadata": {
    "collapsed": false,
    "pycharm": {
     "name": "#%%\n"
    }
   }
  },
  {
   "cell_type": "code",
   "execution_count": 28,
   "outputs": [
    {
     "data": {
      "text/plain": "<matplotlib.axes._subplots.AxesSubplot at 0x12a3b5df0>"
     },
     "execution_count": 28,
     "metadata": {},
     "output_type": "execute_result"
    }
   ],
   "source": [
    "\n",
    "eos4 = EquationOfState(volumes_ve4, energies_ve4, eos='birchmurnaghan')\n",
    "v0, e0, B = eos4.fit()\n",
    "eos4.plot(ax=axs, show=True)"
   ],
   "metadata": {
    "collapsed": false,
    "pycharm": {
     "name": "#%%\n"
    }
   }
  },
  {
   "cell_type": "code",
   "execution_count": 13,
   "outputs": [
    {
     "data": {
      "text/plain": "<Figure size 432x288 with 1 Axes>",
      "image/png": "[encoded data removed]"
     },
     "metadata": {
      "needs_background": "light"
     },
     "output_type": "display_data"
    }
   ],
   "source": [
    "fig, axs = plt.subplots()\n",
    "eos = EquationOfState(DFT_volumes, DFT_energies, eos='birchmurnaghan')\n",
    "v0, e0, B = eos.fit()\n",
    "axs = eos.plot(ax=axs, show=False)"
   ],
   "metadata": {
    "collapsed": false,
    "pycharm": {
     "name": "#%%\n"
    }
   }
  },
  {
   "cell_type": "code",
   "execution_count": 89,
   "outputs": [
    {
     "data": {
      "text/plain": "array([[0.     , 0.     , 0.     ],\n       [1.01875, 1.01875, 1.01875]])"
     },
     "execution_count": 89,
     "metadata": {},
     "output_type": "execute_result"
    }
   ],
   "source": [
    "dia.get_positions()"
   ],
   "metadata": {
    "collapsed": false,
    "pycharm": {
     "name": "#%%\n"
    }
   }
  },
  {
   "cell_type": "code",
   "execution_count": 10,
   "outputs": [],
   "source": [
    "DFT_configs = read('/Users/Moji/Documents/Summer20/Ge/Structure_databases/dia_Evol/Ge_d_castep.traj@0:10')\n",
    "DFT_volumes = [dia.get_volume() for dia in DFT_configs]\n",
    "DFT_energies = [dia.get_potential_energy()/len(dia) for dia in DFT_configs]"
   ],
   "metadata": {
    "collapsed": false,
    "pycharm": {
     "name": "#%%\n"
    }
   }
  },
  {
   "cell_type": "code",
   "execution_count": 9,
   "outputs": [],
   "source": [
    "fig.savefig('/Users/Moji/Documents/Summer20/Ge/Analysis/diamond_EV.png')"
   ],
   "metadata": {
    "collapsed": false,
    "pycharm": {
     "name": "#%%\n"
    }
   }
  },
  {
   "cell_type": "code",
   "execution_count": 29,
   "outputs": [],
   "source": [
    "x1,y1 = eos.getplotdata()[4:6]\n",
    "x2, y2 = eos2.getplotdata()[4:6]\n",
    "x3, y3 = eos3.getplotdata()[4:6]\n",
    "x4, y4 = eos4.getplotdata()[4:6]"
   ],
   "metadata": {
    "collapsed": false,
    "pycharm": {
     "name": "#%%\n"
    }
   }
  },
  {
   "cell_type": "code",
   "execution_count": 32,
   "outputs": [
    {
     "name": "stderr",
     "output_type": "stream",
     "text": [
      "<ipython-input-32-c20d8611fd32>:12: UserWarning: Matplotlib is currently using module://ipykernel.pylab.backend_inline, which is a non-GUI backend, so cannot show the figure.\n",
      "  fig.show()\n"
     ]
    },
    {
     "data": {
      "text/plain": "<Figure size 432x288 with 1 Axes>",
      "image/png": "[encoded data removed]"
     },
     "metadata": {
      "needs_background": "light"
     },
     "output_type": "display_data"
    }
   ],
   "source": [
    "fig, axs = plt.subplots()\n",
    "axs.scatter(DFT_volumes, DFT_energies, label='DFT')\n",
    "axs.scatter(volumes, energies, label='GAP no virial', s=8, marker='x')\n",
    "axs.scatter(volumes_v, energies_v, label='GAP with 0.2 virial', s=8, marker='x')\n",
    "axs.scatter(volumes_ve4, energies_ve4, label='GAP with 0.4 virial', s=8, marker='x')\n",
    "axs.plot(x1, y1)\n",
    "axs.plot(x2, y2)\n",
    "axs.plot(x3,y3)\n",
    "axs.plot(x4,y4)\n",
    "axs.legend()\n",
    "#axs.text(140, -2.029e4 - 3, 'Birch-Murnaghan fit for diamond Ge')\n",
    "fig.show()\n",
    "fig.savefig('/Users/Moji/Documents/Summer20/Ge/Analysis/diamond_EV.png')\n"
   ],
   "metadata": {
    "collapsed": false,
    "pycharm": {
     "name": "#%%\n"
    }
   }
  },
  {
   "cell_type": "code",
   "execution_count": null,
   "outputs": [],
   "source": [],
   "metadata": {
    "collapsed": false,
    "pycharm": {
     "name": "#%%\n"
    }
   }
  }
 ],
 "metadata": {
  "kernelspec": {
   "display_name": "Python 3",
   "language": "python",
   "name": "python3"
  },
  "language_info": {
   "codemirror_mode": {
    "name": "ipython",
    "version": 2
   },
   "file_extension": ".py",
   "mimetype": "text/x-python",
   "name": "python",
   "nbconvert_exporter": "python",
   "pygments_lexer": "ipython2",
   "version": "2.7.6"
  }
 },
 "nbformat": 4,
 "nbformat_minor": 0
}