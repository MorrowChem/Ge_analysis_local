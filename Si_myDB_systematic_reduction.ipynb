{
 "cells": [
  {
   "cell_type": "code",
   "execution_count": 1,
   "outputs": [],
   "source": [
    "%load_ext autoreload\n",
    "%autoreload 2\n",
    "from Ge_calculation import GAP, MD_run\n",
    "from Ge_analysis import *\n",
    "import pickle\n",
    "from ase.io.cfg import read_cfg\n",
    "import numpy as np\n",
    "import os\n",
    "from ase import build\n",
    "from ase.atoms import Atoms\n",
    "from quippy.potential import Potential\n",
    "from quippy.descriptors import Descriptor\n",
    "from ase.io.proteindatabank import read_proteindatabank, write_proteindatabank\n",
    "from ase.io import read\n",
    "from copy import deepcopy\n",
    "from ase.io.castep import read_castep_castep, read_param\n",
    "from ase.io import read\n",
    "from ase.io.extxyz import read_xyz, write_xyz\n",
    "from ase.data import atomic_masses\n",
    "from ase.neighborlist import neighbor_list\n",
    "from ase.data import covalent_radii\n",
    "import pandas as pd\n",
    "from ase.lattice import hexagonal, tetragonal, orthorhombic\n",
    "from ase.constraints import StrainFilter, UnitCellFilter, ExpCellFilter, FixAtoms\n",
    "from ase.optimize import BFGS\n",
    "import pymatgen.ext.matproj as mp\n",
    "import pymatgen.core.periodic_table as pt\n",
    "import pymatgen.io.ase as pase\n",
    "from sklearn import decomposition\n",
    "from pyuoi.decomposition import CUR\n",
    "import matplotlib.pyplot as plt"
   ],
   "metadata": {
    "collapsed": false,
    "pycharm": {
     "name": "#%%\n"
    }
   }
  },
  {
   "cell_type": "code",
   "execution_count": 119,
   "outputs": [],
   "source": [
    "def reduce_DB(xyz, gen_red=1, ctypes = [None], outfile=None, size_dep_prob={}):\n",
    "    '''Reduces a database's configuration count for robustness stress-testing\n",
    "    ctypes: list of str, config_types to keep in new DB. Leave None for all\n",
    "    size_dist: dict, sizes and their desired relative fractions\n",
    "    outfile: str, optional custom name for new DB file'''\n",
    "    r = np.random.rand\n",
    "    ats = list(read_xyz(xyz, index=slice(0,None)))\n",
    "    sizes = np.unique([len(i) for i in ats])\n",
    "    for i in sizes:\n",
    "        if str(i) not in size_dep_prob.keys():\n",
    "            size_dep_prob.update({str(i):1})\n",
    "    ini = sum([len(i) for i in ats])\n",
    "    keeps = []\n",
    "    ct = 0; ct_kept = 0; popped = []\n",
    "\n",
    "    for i in range(len(ats)-1, -1, -1):\n",
    "        if r() > gen_red and len(ats[i]) != 1:\n",
    "            popped.append(ats.pop(i))\n",
    "\n",
    "    for i in range(len(ats)-1, -1, -1):\n",
    "        if r() > size_dep_prob[str(len(ats[i]))]:\n",
    "            popped.append(ats.pop(i))\n",
    "\n",
    "    for i, val in enumerate(ats):\n",
    "        if (val.info['config_type'] in ctypes or 'isol' in val.info['config_type'] or None in ctypes):\n",
    "            keeps.append(val)\n",
    "        else:\n",
    "            popped.append(val)\n",
    "\n",
    "\n",
    "    if outfile is None:\n",
    "        outfile = xyz.split('.')[:-1] + '_red.xyz'\n",
    "        valfile = xyz.split('.')[:-1] + '_extraval.xyz'\n",
    "\n",
    "    write_xyz(outfile, keeps)\n",
    "\n",
    "    print('total {0} popped\\n'.format(len(popped)))\n",
    "    print('final fraction = {:2.2f}%'.format(100*sum([len(i) for i in keeps])/ini))\n",
    "    print_DB_stats(keeps)\n",
    "\n",
    "    return keeps, popped"
   ],
   "metadata": {
    "collapsed": false,
    "pycharm": {
     "name": "#%%\n"
    }
   }
  },
  {
   "cell_type": "code",
   "execution_count": 47,
   "outputs": [],
   "source": [
    "def print_DB_stats(atoms, by_config_type=True):\n",
    "    print('Size statistics:\\n'+'-'*36)\n",
    "    if isinstance(atoms[0], list):\n",
    "        atoms = flatten(atoms)\n",
    "    hist = [len(i) for i in atoms]\n",
    "    tot = sum(hist)\n",
    "    sizes, freq = np.unique(hist, return_counts=True)\n",
    "    print(('{:<12s}'*3).format('size', 'freq', 'percentage'))\n",
    "    for j in range(len(sizes)):\n",
    "        print('{:<12d}{:<12d}{:<11.1f}'.format(sizes[j], freq[j], 100*sizes[j]*freq[j]/tot))\n",
    "\n",
    "    if by_config_type:\n",
    "        labels = []\n",
    "        catoms = []\n",
    "        for i in atoms:\n",
    "            if 'config_type' in i.info.keys():\n",
    "                if (l := i.info['config_type']) not in labels:\n",
    "                    labels.append(l)\n",
    "                    catoms.append([])\n",
    "                catoms[labels.index(l)].append(i)\n",
    "        print('\\nBy config types:\\n'+'-'*36)\n",
    "        for i, val in enumerate(catoms):\n",
    "            hist = [len(j) for j in val]\n",
    "            tot = sum(hist)\n",
    "            sizes, freq = np.unique(hist, return_counts=True)\n",
    "            print('{:<16s} {} atoms'.format(val[0].info['config_type'], tot))\n",
    "            for j in range(len(sizes)):\n",
    "                print('{:<12d}{:<12d}{:<11.1f}'.format(sizes[j], freq[j], 100*sizes[j]*freq[j]/tot))\n",
    "            print('-'*36+'\\n')\n",
    "    return"
   ],
   "metadata": {
    "collapsed": false,
    "pycharm": {
     "name": "#%%\n"
    }
   }
  },
  {
   "cell_type": "code",
   "execution_count": 49,
   "outputs": [
    {
     "name": "stdout",
     "output_type": "stream",
     "text": [
      "Training set structure count: 281\n",
      "Validation set structure count: 70\n",
      "Reading xyz file (may take a while)\n",
      "Read configs, now fixing virials\n",
      "Config labels: ['amorph', 'inter', 'hiT_amorph', 'liq', 'hiT_liq']\n"
     ]
    }
   ],
   "source": [
    "os.chdir('/home/joe/Documents/Ge_od/Potentials/Si_myDB_reduction_testing')\n",
    "my = GAP('Si_myDB_64_125_216_train.xyz',\n",
    "         val_file='Si_myDB_64_125_216_validate.xyz',\n",
    "         pot='/home/joe/Documents/Ge_od/Potentials/Si_myDB_216/Si_myDB_liqamo_loose.xml')"
   ],
   "metadata": {
    "collapsed": false,
    "pycharm": {
     "name": "#%%\n"
    }
   }
  },
  {
   "cell_type": "code",
   "execution_count": 48,
   "outputs": [
    {
     "name": "stdout",
     "output_type": "stream",
     "text": [
      "Size statistics:\n",
      "------------------------------------\n",
      "size        freq        percentage  \n",
      "1           1           0.0        \n",
      "64          200         48.4       \n",
      "125         40          18.9       \n",
      "216         40          32.7       \n",
      "\n",
      "By config types:\n",
      "------------------------------------\n",
      "isol             1 atoms\n",
      "1           1           100.0      \n",
      "------------------------------------\n",
      "\n",
      "amorph           5288 atoms\n",
      "64          40          48.4       \n",
      "125         8           18.9       \n",
      "216         8           32.7       \n",
      "------------------------------------\n",
      "\n",
      "inter            5288 atoms\n",
      "64          40          48.4       \n",
      "125         8           18.9       \n",
      "216         8           32.7       \n",
      "------------------------------------\n",
      "\n",
      "hiT_amorph       5288 atoms\n",
      "64          40          48.4       \n",
      "125         8           18.9       \n",
      "216         8           32.7       \n",
      "------------------------------------\n",
      "\n",
      "liq              5288 atoms\n",
      "64          40          48.4       \n",
      "125         8           18.9       \n",
      "216         8           32.7       \n",
      "------------------------------------\n",
      "\n",
      "hiT_liq          5288 atoms\n",
      "64          40          48.4       \n",
      "125         8           18.9       \n",
      "216         8           32.7       \n",
      "------------------------------------\n",
      "\n"
     ]
    }
   ],
   "source": [
    "print_DB_stats(list(read_xyz('Si_myDB_64_125_216_train.xyz', index=slice(0,None))))"
   ],
   "metadata": {
    "collapsed": false,
    "pycharm": {
     "name": "#%%\n"
    }
   }
  },
  {
   "cell_type": "markdown",
   "source": [
    "Trying various reductions in DB size to see where failure occurs\n",
    "* use loose gap_fit default_sigma\n",
    "* automatic run of 64-atom quench at the end\n",
    "\n",
    "Ideas:\n",
    "* amorphous only\n",
    "* liquid only\n",
    "* 75%, 50%, 25% reduction\n",
    "* 64-atom cells only\n"
   ],
   "metadata": {
    "collapsed": false,
    "pycharm": {
     "name": "#%% md\n"
    }
   }
  },
  {
   "cell_type": "code",
   "execution_count": 52,
   "outputs": [
    {
     "data": {
      "text/plain": "['amorph', 'inter', 'hiT_amorph', 'liq', 'hiT_liq']"
     },
     "execution_count": 52,
     "metadata": {},
     "output_type": "execute_result"
    }
   ],
   "source": [
    "my.config_labels\n"
   ],
   "metadata": {
    "collapsed": false,
    "pycharm": {
     "name": "#%%\n"
    }
   }
  },
  {
   "cell_type": "code",
   "execution_count": 63,
   "outputs": [
    {
     "name": "stdout",
     "output_type": "stream",
     "text": [
      "total 112 popped\n",
      "\n",
      "config_types removed: ['amorph', 'hiT_amorph']\n"
     ]
    }
   ],
   "source": [
    "lk, lp = reduce_DB('Si_myDB_64_125_216_train.xyz', ctypes=['liq', 'inter', 'hiT_liq'],\n",
    "                   outfile='Si_myDB_64_125_216_t_liq.xyz')\n"
   ],
   "metadata": {
    "collapsed": false,
    "pycharm": {
     "name": "#%%\n"
    }
   }
  },
  {
   "cell_type": "code",
   "execution_count": 64,
   "outputs": [
    {
     "name": "stdout",
     "output_type": "stream",
     "text": [
      "total 168 popped\n",
      "\n",
      "config_types removed: ['inter', 'liq', 'hiT_liq']\n"
     ]
    }
   ],
   "source": [
    "ak, ap = reduce_DB('Si_myDB_64_125_216_train.xyz', ctypes=['amorph', 'hiT_amorph'],\n",
    "                   outfile='Si_myDB_64_125_216_t_amo.xyz')\n",
    "\n"
   ],
   "metadata": {
    "collapsed": false,
    "pycharm": {
     "name": "#%%\n"
    }
   }
  },
  {
   "cell_type": "code",
   "execution_count": 112,
   "outputs": [
    {
     "name": "stdout",
     "output_type": "stream",
     "text": [
      "total 56 popped\n",
      "\n",
      "final fraction = 76.21%\n",
      "Size statistics:\n",
      "------------------------------------\n",
      "size        freq        percentage  \n",
      "1           1           0.0        \n",
      "64          166         52.7       \n",
      "125         33          20.5       \n",
      "216         25          26.8       \n",
      "\n",
      "By config types:\n",
      "------------------------------------\n",
      "isol             1 atoms\n",
      "1           1           100.0      \n",
      "------------------------------------\n",
      "\n",
      "amorph           4067 atoms\n",
      "64          33          51.9       \n",
      "125         7           21.5       \n",
      "216         5           26.6       \n",
      "------------------------------------\n",
      "\n",
      "inter            4070 atoms\n",
      "64          35          55.0       \n",
      "125         6           18.4       \n",
      "216         5           26.5       \n",
      "------------------------------------\n",
      "\n",
      "hiT_amorph       4222 atoms\n",
      "64          34          51.5       \n",
      "125         6           17.8       \n",
      "216         6           30.7       \n",
      "------------------------------------\n",
      "\n",
      "liq              3939 atoms\n",
      "64          31          50.4       \n",
      "125         7           22.2       \n",
      "216         5           27.4       \n",
      "------------------------------------\n",
      "\n",
      "hiT_liq          3851 atoms\n",
      "64          33          54.8       \n",
      "125         7           22.7       \n",
      "216         4           22.4       \n",
      "------------------------------------\n",
      "\n"
     ]
    }
   ],
   "source": [
    "r75k, r75p = reduce_DB('Si_myDB_64_125_216_train.xyz', gen_red=0.75,\n",
    "                   outfile='Si_myDB_64_125_216_t_r75.xyz')"
   ],
   "metadata": {
    "collapsed": false,
    "pycharm": {
     "name": "#%%\n"
    }
   }
  },
  {
   "cell_type": "code",
   "execution_count": 113,
   "outputs": [
    {
     "name": "stdout",
     "output_type": "stream",
     "text": [
      "total 141 popped\n",
      "\n",
      "final fraction = 49.07%\n",
      "Size statistics:\n",
      "------------------------------------\n",
      "size        freq        percentage  \n",
      "1           1           0.0        \n",
      "64          99          48.8       \n",
      "125         22          21.2       \n",
      "216         18          30.0       \n",
      "\n",
      "By config types:\n",
      "------------------------------------\n",
      "isol             1 atoms\n",
      "1           1           100.0      \n",
      "------------------------------------\n",
      "\n",
      "amorph           2367 atoms\n",
      "64          21          56.8       \n",
      "125         3           15.8       \n",
      "216         3           27.4       \n",
      "------------------------------------\n",
      "\n",
      "hiT_amorph       2766 atoms\n",
      "64          18          41.6       \n",
      "125         6           27.1       \n",
      "216         4           31.2       \n",
      "------------------------------------\n",
      "\n",
      "inter            2391 atoms\n",
      "64          18          48.2       \n",
      "125         3           15.7       \n",
      "216         4           36.1       \n",
      "------------------------------------\n",
      "\n",
      "hiT_liq          3049 atoms\n",
      "64          21          44.1       \n",
      "125         5           20.5       \n",
      "216         5           35.4       \n",
      "------------------------------------\n",
      "\n",
      "liq              2401 atoms\n",
      "64          21          56.0       \n",
      "125         5           26.0       \n",
      "216         2           18.0       \n",
      "------------------------------------\n",
      "\n"
     ]
    }
   ],
   "source": [
    "r50k, r50p = reduce_DB('Si_myDB_64_125_216_train.xyz', gen_red=0.5,\n",
    "                   outfile='Si_myDB_64_125_216_t_r50.xyz')"
   ],
   "metadata": {
    "collapsed": false,
    "pycharm": {
     "name": "#%%\n"
    }
   }
  },
  {
   "cell_type": "code",
   "execution_count": 116,
   "outputs": [
    {
     "name": "stdout",
     "output_type": "stream",
     "text": [
      "total 220 popped\n",
      "\n",
      "final fraction = 19.48%\n",
      "Size statistics:\n",
      "------------------------------------\n",
      "size        freq        percentage  \n",
      "1           1           0.0        \n",
      "64          46          57.2       \n",
      "125         9           21.8       \n",
      "216         5           21.0       \n",
      "\n",
      "By config types:\n",
      "------------------------------------\n",
      "isol             1 atoms\n",
      "1           1           100.0      \n",
      "------------------------------------\n",
      "\n",
      "amorph           765 atoms\n",
      "64          10          83.7       \n",
      "125         1           16.3       \n",
      "------------------------------------\n",
      "\n",
      "hiT_amorph       1167 atoms\n",
      "64          9           49.4       \n",
      "125         3           32.1       \n",
      "216         1           18.5       \n",
      "------------------------------------\n",
      "\n",
      "inter            1255 atoms\n",
      "64          7           35.7       \n",
      "125         3           29.9       \n",
      "216         2           34.4       \n",
      "------------------------------------\n",
      "\n",
      "hiT_liq          765 atoms\n",
      "64          10          83.7       \n",
      "125         1           16.3       \n",
      "------------------------------------\n",
      "\n",
      "liq              1197 atoms\n",
      "64          10          53.5       \n",
      "125         1           10.4       \n",
      "216         2           36.1       \n",
      "------------------------------------\n",
      "\n"
     ]
    }
   ],
   "source": [
    "r25k, r25p = reduce_DB('Si_myDB_64_125_216_train.xyz', gen_red=0.25,\n",
    "                   outfile='Si_myDB_64_125_216_t_r25.xyz')\n"
   ],
   "metadata": {
    "collapsed": false,
    "pycharm": {
     "name": "#%%\n"
    }
   }
  },
  {
   "cell_type": "code",
   "execution_count": 121,
   "outputs": [
    {
     "name": "stdout",
     "output_type": "stream",
     "text": [
      "total 80 popped\n",
      "\n",
      "final fraction = 48.41%\n",
      "Size statistics:\n",
      "------------------------------------\n",
      "size        freq        percentage  \n",
      "1           1           0.0        \n",
      "64          200         100.0      \n",
      "\n",
      "By config types:\n",
      "------------------------------------\n",
      "isol             1 atoms\n",
      "1           1           100.0      \n",
      "------------------------------------\n",
      "\n",
      "amorph           2560 atoms\n",
      "64          40          100.0      \n",
      "------------------------------------\n",
      "\n",
      "inter            2560 atoms\n",
      "64          40          100.0      \n",
      "------------------------------------\n",
      "\n",
      "hiT_amorph       2560 atoms\n",
      "64          40          100.0      \n",
      "------------------------------------\n",
      "\n",
      "liq              2560 atoms\n",
      "64          40          100.0      \n",
      "------------------------------------\n",
      "\n",
      "hiT_liq          2560 atoms\n",
      "64          40          100.0      \n",
      "------------------------------------\n",
      "\n"
     ]
    }
   ],
   "source": [
    "cell64k, cell64p = reduce_DB('Si_myDB_64_125_216_train.xyz', size_dep_prob={'125':0, '216':0},\n",
    "                             outfile='Si_myDB_64_125_216_64at.xyz')"
   ],
   "metadata": {
    "collapsed": false,
    "pycharm": {
     "name": "#%%\n"
    }
   }
  },
  {
   "cell_type": "code",
   "execution_count": null,
   "outputs": [],
   "source": [],
   "metadata": {
    "collapsed": false,
    "pycharm": {
     "name": "#%%\n"
    }
   }
  }
 ],
 "metadata": {
  "kernelspec": {
   "display_name": "Python 3",
   "language": "python",
   "name": "python3"
  },
  "language_info": {
   "codemirror_mode": {
    "name": "ipython",
    "version": 2
   },
   "file_extension": ".py",
   "mimetype": "text/x-python",
   "name": "python",
   "nbconvert_exporter": "python",
   "pygments_lexer": "ipython2",
   "version": "2.7.6"
  }
 },
 "nbformat": 4,
 "nbformat_minor": 0
}