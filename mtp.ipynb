{
 "cells": [
  {
   "cell_type": "code",
   "execution_count": 1,
   "metadata": {
    "collapsed": true
   },
   "outputs": [],
   "source": [
    "from ase.io.cfg import write_cfg\n",
    "from ase.io.extxyz import read_xyz\n",
    "import numpy as np\n"
   ]
  },
  {
   "cell_type": "code",
   "execution_count": 124,
   "outputs": [],
   "source": [
    "file = '/home/joe/mlip_test/gp_iter6_liqamo_lp.xyz'\n",
    "db = list(read_xyz(file, index=slice(0,None)))\n",
    "my = list(read_xyz('/home/joe/Documents/Ge_od/Potentials/Si_myDB_216/train_64_125_216_full.xyz', index=slice(0,None)))\n",
    "Ge = list(read_xyz('/home/joe/Documents/Ge_od/Potentials/hp_liquid/hpliq_amoliq/hpliq_amoliq_train.xyz', index=slice(0,None)))"
   ],
   "metadata": {
    "collapsed": false,
    "pycharm": {
     "name": "#%%\n"
    }
   }
  },
  {
   "cell_type": "code",
   "execution_count": 114,
   "outputs": [],
   "source": [
    "def write_cfg_db(f, a, force_name='dft_force', virial_name='dft_virial', energy_name='dft_energy'):\n",
    "    \"\"\"Writes a list of atoms to the MTP mlip-2 cfg database file format\n",
    "    WARNING: incurs loss of array information other than positions and forces of atoms.\n",
    "    Atoms.info dict is stored as features\n",
    "    Params: set the key words for the forces, energy, and virials if they differ from the defaults above\n",
    "    \"\"\"\n",
    "    f = open(f, 'w')\n",
    "\n",
    "    for ct, val in enumerate(a):\n",
    "        f.write('BEGIN_CFG\\n Size\\n')\n",
    "        f.write('%i\\n' % len(val))\n",
    "        f.write('Supercell\\n')\n",
    "        cell = val.get_cell(complete=True)\n",
    "        for i in range(3):\n",
    "            f.write(('{:>10.6f}'*3 + '\\n').format(*cell[i]))\n",
    "\n",
    "        types = np.unique(val.get_atomic_numbers(), return_inverse=True)[1]\n",
    "        cart = val.get_positions(wrap=True)\n",
    "        force = val.get_array(force_name)\n",
    "\n",
    "        f.write('AtomData: id type cartes_x cartes_y cartes_z fx fy fz\\n')\n",
    "        for ict, ival in enumerate(val):\n",
    "            f.write(('          {:<5d} {:<5d} ' + '{:<10.8f}   '*6 + '\\n').format(\n",
    "                    ict+1, types[ict], *cart[ict], *force[ict]))\n",
    "\n",
    "        f.write('Energy\\n{}\\n'.format(val.info[energy_name]))\n",
    "\n",
    "        if virial_name in val.info.keys():\n",
    "            if isinstance(val.info[virial_name], np.ndarray):\n",
    "                stress = np.reshape(val.info[virial_name], (3,3))\n",
    "\n",
    "                stress = np.concatenate((stress.diagonal(),\n",
    "                                     stress[1,2], stress[0,2], stress[0,1]),\n",
    "                                     axis=None)\n",
    "\n",
    "            f.write('PlusStress: xx     yy     zz     yz     xz     xy\\n')\n",
    "            f.write(('          '+'{}'*6).format(*stress))\n",
    "\n",
    "        for i,j in val.info.items():\n",
    "            if i != energy_name and i != virial_name:\n",
    "                f.write('Feature    {}    {}\\n'.format(str(i).replace('\\n', ''),\n",
    "                                                       str(j).replace('\\n', '')))\n",
    "        f.write('END_CFG\\n\\n')"
   ],
   "metadata": {
    "collapsed": false,
    "pycharm": {
     "name": "#%%\n"
    }
   }
  },
  {
   "cell_type": "code",
   "execution_count": 115,
   "outputs": [],
   "source": [
    "write_cfg_db('test.cfg', db)"
   ],
   "metadata": {
    "collapsed": false,
    "pycharm": {
     "name": "#%%\n"
    }
   }
  },
  {
   "cell_type": "code",
   "execution_count": 122,
   "outputs": [],
   "source": [
    "write_cfg_db('/home/joe/Documents/Ge_od/Potentials/Si_myDB_216/train_64_125_216_full.cfg', my, force_name='dft_forces')"
   ],
   "metadata": {
    "collapsed": false,
    "pycharm": {
     "name": "#%%\n"
    }
   }
  },
  {
   "cell_type": "code",
   "execution_count": 126,
   "outputs": [],
   "source": [
    "write_cfg_db('/home/joe/Documents/Ge_od/Potentials/hp_liquid/hpliq_amoliq/hpliq_amoliq_train.cfg', Ge, force_name='dft_forces')"
   ],
   "metadata": {
    "collapsed": false,
    "pycharm": {
     "name": "#%%\n"
    }
   }
  },
  {
   "cell_type": "markdown",
   "source": [
    "To do:\n",
    "* write other util functions for reading cfgs (see ase extxyz for inspiration)\n",
    "* could then think about contributing this to ase\n",
    "\n"
   ],
   "metadata": {
    "collapsed": false,
    "pycharm": {
     "name": "#%% md\n"
    }
   }
  }
 ],
 "metadata": {
  "kernelspec": {
   "name": "python3",
   "language": "python",
   "display_name": "Python 3"
  },
  "language_info": {
   "codemirror_mode": {
    "name": "ipython",
    "version": 2
   },
   "file_extension": ".py",
   "mimetype": "text/x-python",
   "name": "python",
   "nbconvert_exporter": "python",
   "pygments_lexer": "ipython2",
   "version": "2.7.6"
  }
 },
 "nbformat": 4,
 "nbformat_minor": 0
}