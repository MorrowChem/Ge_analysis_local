{
 "cells": [
  {
   "cell_type": "code",
   "execution_count": 1,
   "outputs": [],
   "source": [
    "%load_ext autoreload\n",
    "%autoreload 2"
   ],
   "metadata": {
    "collapsed": false,
    "pycharm": {
     "name": "#%%\n"
    }
   }
  },
  {
   "cell_type": "code",
   "execution_count": 3,
   "metadata": {
    "collapsed": true
   },
   "outputs": [],
   "source": [
    "from ase.io.extxyz import read_xyz\n",
    "import numpy as np\n",
    "from ase.atoms import Atoms\n",
    "from ase.io.formats import index2range\n",
    "from io import StringIO, UnsupportedOperation\n",
    "from mtp import *\n",
    "import os\n",
    "from matplotlib import pyplot as plt"
   ]
  },
  {
   "cell_type": "code",
   "execution_count": 1,
   "outputs": [
    {
     "ename": "NameError",
     "evalue": "name 'read_xyz' is not defined",
     "output_type": "error",
     "traceback": [
      "\u001B[0;31m---------------------------------------------------------------------------\u001B[0m",
      "\u001B[0;31mNameError\u001B[0m                                 Traceback (most recent call last)",
      "\u001B[0;32m<ipython-input-1-cdf82553a614>\u001B[0m in \u001B[0;36m<module>\u001B[0;34m\u001B[0m\n\u001B[1;32m      1\u001B[0m \u001B[0mfile\u001B[0m \u001B[0;34m=\u001B[0m \u001B[0;34m'/home/joe/mlip_test/gp_iter6_liqamo_lp.xyz'\u001B[0m\u001B[0;34m\u001B[0m\u001B[0;34m\u001B[0m\u001B[0m\n\u001B[0;32m----> 2\u001B[0;31m \u001B[0mdb\u001B[0m \u001B[0;34m=\u001B[0m \u001B[0mlist\u001B[0m\u001B[0;34m(\u001B[0m\u001B[0mread_xyz\u001B[0m\u001B[0;34m(\u001B[0m\u001B[0mfile\u001B[0m\u001B[0;34m,\u001B[0m \u001B[0mindex\u001B[0m\u001B[0;34m=\u001B[0m\u001B[0mslice\u001B[0m\u001B[0;34m(\u001B[0m\u001B[0;36m0\u001B[0m\u001B[0;34m,\u001B[0m\u001B[0;32mNone\u001B[0m\u001B[0;34m)\u001B[0m\u001B[0;34m)\u001B[0m\u001B[0;34m)\u001B[0m\u001B[0;34m\u001B[0m\u001B[0;34m\u001B[0m\u001B[0m\n\u001B[0m\u001B[1;32m      3\u001B[0m \u001B[0mmy\u001B[0m \u001B[0;34m=\u001B[0m \u001B[0mlist\u001B[0m\u001B[0;34m(\u001B[0m\u001B[0mread_xyz\u001B[0m\u001B[0;34m(\u001B[0m\u001B[0;34m'/home/joe/Documents/Ge_od/Potentials/Si_myDB_216/train_64_125_216_full.xyz'\u001B[0m\u001B[0;34m,\u001B[0m \u001B[0mindex\u001B[0m\u001B[0;34m=\u001B[0m\u001B[0mslice\u001B[0m\u001B[0;34m(\u001B[0m\u001B[0;36m0\u001B[0m\u001B[0;34m,\u001B[0m\u001B[0;32mNone\u001B[0m\u001B[0;34m)\u001B[0m\u001B[0;34m)\u001B[0m\u001B[0;34m)\u001B[0m\u001B[0;34m\u001B[0m\u001B[0;34m\u001B[0m\u001B[0m\n\u001B[1;32m      4\u001B[0m \u001B[0mGe\u001B[0m \u001B[0;34m=\u001B[0m \u001B[0mlist\u001B[0m\u001B[0;34m(\u001B[0m\u001B[0mread_xyz\u001B[0m\u001B[0;34m(\u001B[0m\u001B[0;34m'/home/joe/Documents/Ge_od/Potentials/hp_liquid/hpliq_amoliq/hpliq_amoliq_train.xyz'\u001B[0m\u001B[0;34m,\u001B[0m \u001B[0mindex\u001B[0m\u001B[0;34m=\u001B[0m\u001B[0mslice\u001B[0m\u001B[0;34m(\u001B[0m\u001B[0;36m0\u001B[0m\u001B[0;34m,\u001B[0m\u001B[0;32mNone\u001B[0m\u001B[0;34m)\u001B[0m\u001B[0;34m)\u001B[0m\u001B[0;34m)\u001B[0m\u001B[0;34m\u001B[0m\u001B[0;34m\u001B[0m\u001B[0m\n\u001B[1;32m      5\u001B[0m \u001B[0;34m\u001B[0m\u001B[0m\n",
      "\u001B[0;31mNameError\u001B[0m: name 'read_xyz' is not defined"
     ]
    }
   ],
   "source": [
    "ile = '/home/joe/mlip_test/gp_iter6_liqamo_lp.xyz'\n",
    "db = list(read_xyz(file, index=slice(0,None)))\n",
    "my = list(read_xyz('/home/joe/Documents/Ge_od/Potentials/Si_myDB_216/train_64_125_216_full.xyz', index=slice(0,None)))\n",
    "Ge = list(read_xyz('/home/joe/Documents/Ge_od/Potentials/hp_liquid/hpliq_amoliq/hpliq_amoliq_train.xyz', index=slice(0,None)))"
   ],
   "metadata": {
    "collapsed": false,
    "pycharm": {
     "name": "#%%\n"
    }
   }
  },
  {
   "cell_type": "code",
   "execution_count": 28,
   "outputs": [],
   "source": [
    "with open('/home/joe/Documents/Ge_od/Potentials/Si_myDB_216/train_64_125_216.xyz') as f:\n",
    "    my_80_train = list(read_xyz(f, index=slice(0,None)))\n",
    "with open('/home/joe/Documents/Ge_od/Potentials/Si_myDB_216/validate_64_125_216.xyz') as f:\n",
    "    my_80_val = list(read_xyz(f, index=slice(0,None)))"
   ],
   "metadata": {
    "collapsed": false,
    "pycharm": {
     "name": "#%%\n"
    }
   }
  },
  {
   "cell_type": "code",
   "execution_count": 26,
   "outputs": [],
   "source": [
    "with open('/home/joe/Documents/Ge_od/Potentials/Si_myDB_216/train_64_125_216.cfg', 'w+') as f:\n",
    "    write_cfg_db(f, my_80_train, force_name='dft_forces')"
   ],
   "metadata": {
    "collapsed": false,
    "pycharm": {
     "name": "#%%\n"
    }
   }
  },
  {
   "cell_type": "code",
   "execution_count": 29,
   "outputs": [],
   "source": [
    "with open('/home/joe/Documents/Ge_od/Potentials/Si_myDB_216/validate_64_125_216.cfg', 'w+') as f:\n",
    "    write_cfg_db(f, my_80_val, force_name='dft_forces')"
   ],
   "metadata": {
    "collapsed": false,
    "pycharm": {
     "name": "#%%\n"
    }
   }
  },
  {
   "cell_type": "markdown",
   "source": [
    "To do:\n",
    "* calculator implementation\n",
    "* could then think about contributing this to ase"
   ],
   "metadata": {
    "collapsed": false,
    "pycharm": {
     "name": "#%% md\n"
    }
   }
  },
  {
   "cell_type": "code",
   "execution_count": 45,
   "outputs": [],
   "source": [
    "ats = list(read_cfg_db('test_12_structures.cfg', energy_label='MTP_energy', force_label='MTP_force', stress_label='MTP_stress'))"
   ],
   "metadata": {
    "collapsed": false,
    "pycharm": {
     "name": "#%%\n"
    }
   }
  },
  {
   "cell_type": "code",
   "execution_count": 44,
   "outputs": [
    {
     "data": {
      "text/plain": "['run_1000_Si_myDB_liqamocryst_train_24_rb_8',\n 'Sq_MTP__26_rb_8',\n 'MTP',\n 'test_12_structures.cfg',\n 'run_1000_Si_myDB_liqamocryst_train_24_rb_12',\n 'test_12_rb_4.cfg',\n 'log1.out',\n 'Si_myDB_liqamocryst_train_12_sf_0.2.mtp',\n 'run_1000_22_rb_8',\n 'test_12_sf_0.5.cfg',\n 'run_1000_Si_myDB_liqamocryst_train_06',\n 'slurm-2467737.out',\n 'test_12.cfg',\n 'test_14.cfg',\n 'train_mtp.sh',\n 'Si_myDB_liqamocryst_train_08.mtp',\n 'test_08.cfg',\n 'Si_myDB_liqamocryst_train_26_rb_12.mtp',\n 'slurm-2467744.out',\n 'slurm-2467739.out',\n 'test_12_mindist_1.2.cfg',\n 'Sq_MTP__22_rb_8',\n 'Si_myDB_liqamocryst_train_10.mtp',\n 'run_1000_Si_myDB_liqamocryst_train_04',\n 'run_1000_26_rb_8',\n 'Si_myDB_liqamocryst_train_12_rb_12.mtp',\n 'slurm-2467742.out',\n 'Si_myDB_liqamocryst_train_06.mtp',\n 'run_1000_Si_myDB_liqamocryst_train_12',\n 'test_12_sf_0.1.cfg',\n 'Si_myDB_liqamocryst_train_24.mtp',\n 'test_12_rb_12.cfg',\n 'run_1000_Si_myDB_liqamocryst_train_10',\n 'Si_myDB_liqamocryst_train_12_rb_10.mtp',\n 'init.mtp',\n 'Si_myDB_liqamocryst_train_12_sf_0.1.mtp',\n 'Si_myDB_liqamocryst_train_12_rb_6.mtp',\n 'tmp.mtp',\n 'Si_myDB_liqamocryst_train_26_rb_8_min.mtp',\n 'test_12_rb_10.cfg',\n 'Si_myDB_liqamocryst_train_12_rb_4.mtp',\n 'Sq_MTP_24_rb_12',\n 'Si_myDB_liqamocryst_train_12.mtp',\n 'Si_myDB_liqamocryst_validate.cfg',\n 'Si_myDB_liqamocryst_train_26_rb_8.mtp',\n 'Si_myDB_liqamocryst_train_12_mindist_1.2.mtp',\n 'test_12_rb_6.cfg',\n 'log.lammps',\n 'test_06.cfg',\n 'test_10.cfg',\n 'test',\n 'Si_myDB_liqamocryst_train.cfg',\n 'test_12_sf_0.2.cfg',\n 'slurm-2467740.out',\n 'sh_deficient',\n 'Si_myDB_liqamocryst_train_12_sf_0.5.mtp',\n 'test_04.cfg',\n 'Si_myDB_liqamocryst_train_14.mtp',\n 'Sq_MTP__24_rb_8',\n 'Si_myDB_liqamocryst_train_24_rb_12.mtp',\n 'Si_myDB_liqamocryst_train_12_structures.mtp']"
     },
     "execution_count": 44,
     "metadata": {},
     "output_type": "execute_result"
    }
   ],
   "source": [
    "os.chdir('/home/joe/Documents/Ge_od/Potentials/Si_myDB_supercrystals/MTP')\n",
    "os.listdir()"
   ],
   "metadata": {
    "collapsed": false,
    "pycharm": {
     "name": "#%%\n"
    }
   }
  },
  {
   "cell_type": "code",
   "execution_count": 6,
   "outputs": [],
   "source": [
    "# test_04 = list(read_cfg_db('test_04.cfg', Type_Ar_map={0:14},\n",
    "#                            energy_label='MTP_energy', force_label='MTP_force', stress_label='MTP_stress'))\n",
    "test_06 = list(read_cfg_db('test_06.cfg', Type_Ar_map={0:14},\n",
    "                           energy_label='MTP_energy', force_label='MTP_force', stress_label='MTP_stress'))\n",
    "test_08 = list(read_cfg_db('test_08.cfg', Type_Ar_map={0:14},\n",
    "                           energy_label='MTP_energy', force_label='MTP_force', stress_label='MTP_stress'))\n",
    "test_10 = list(read_cfg_db('test_10.cfg', Type_Ar_map={0:14},\n",
    "                           energy_label='MTP_energy', force_label='MTP_force', stress_label='MTP_stress'))\n",
    "test_12 = list(read_cfg_db('test_12.cfg', Type_Ar_map={0:14},\n",
    "                           energy_label='MTP_energy', force_label='MTP_force', stress_label='MTP_stress'))\n",
    "test_14 = list(read_cfg_db('test_14.cfg', Type_Ar_map={0:14},\n",
    "                           energy_label='MTP_energy', force_label='MTP_force', stress_label='MTP_stress'))\n",
    "ref = list(read_cfg_db('Si_myDB_liqamocryst_validate.cfg', Type_Ar_map={0:14}))\n"
   ],
   "metadata": {
    "collapsed": false,
    "pycharm": {
     "name": "#%%\n"
    }
   }
  },
  {
   "cell_type": "markdown",
   "source": [
    "Above explores the use of different 'untrained_potentials' from the mlip-2 set (need to understand what this is)\n",
    "\n",
    "Below explores changing other hypers, using the 012.mtp (and rb=8 as above) unless specified (found to be best in initial tests):\n",
    "* rb is the number of radial basis functions in init.mtp\n",
    "* sf is --scale-by-force==(0.1, 0.2, 0.5), for scaling the weight of configurations depending on their closeness to\n",
    "equilibrium"
   ],
   "metadata": {
    "collapsed": false,
    "pycharm": {
     "name": "#%% md\n"
    }
   }
  },
  {
   "cell_type": "code",
   "execution_count": 43,
   "outputs": [],
   "source": [
    "test_12_rb_4 = list(read_cfg_db('test_12_rb_4.cfg', Type_Ar_map={0:14},\n",
    "                           energy_label='MTP_energy', force_label='MTP_force', stress_label='MTP_stress'))\n",
    "test_12_rb_6 = list(read_cfg_db('test_12_rb_6.cfg', Type_Ar_map={0:14},\n",
    "                           energy_label='MTP_energy', force_label='MTP_force', stress_label='MTP_stress'))\n",
    "test_12_rb_10 = list(read_cfg_db('test_12_rb_10.cfg', Type_Ar_map={0:14},\n",
    "                           energy_label='MTP_energy', force_label='MTP_force', stress_label='MTP_stress'))\n",
    "test_12_rb_12 = list(read_cfg_db('test_12_rb_12.cfg', Type_Ar_map={0:14},\n",
    "                           energy_label='MTP_energy', force_label='MTP_force', stress_label='MTP_stress'))\n",
    "test_12_sf_01 = list(read_cfg_db('test_12_sf_0.1.cfg', Type_Ar_map={0:14},\n",
    "                           energy_label='MTP_energy', force_label='MTP_force', stress_label='MTP_stress'))\n",
    "test_12_sf_02 = list(read_cfg_db('test_12_sf_0.2.cfg', Type_Ar_map={0:14},\n",
    "                           energy_label='MTP_energy', force_label='MTP_force', stress_label='MTP_stress'))\n",
    "test_12_sf_05 = list(read_cfg_db('test_12_sf_0.5.cfg', Type_Ar_map={0:14},\n",
    "                           energy_label='MTP_energy', force_label='MTP_force', stress_label='MTP_stress'))\n",
    "test_12_mindist_12 = list(read_cfg_db('test_12_mindist_1.2.cfg', Type_Ar_map={0:14},\n",
    "                           energy_label='MTP_energy', force_label='MTP_force', stress_label='MTP_stress'))"
   ],
   "metadata": {
    "collapsed": false,
    "pycharm": {
     "name": "#%%\n"
    }
   }
  },
  {
   "cell_type": "code",
   "execution_count": 44,
   "outputs": [],
   "source": [
    "labels = [#['04',\n",
    "          '06', '08', '10', '12', '14']\n",
    "\n",
    "labels_2 = [#['04',\n",
    "          'rb_4', 'rb_6', 'rb_10', 'rb_12', 'sf_0.1', 'sf_0.2', 'sf_0.5', 'mindist_1.2']"
   ],
   "metadata": {
    "collapsed": false,
    "pycharm": {
     "name": "#%%\n"
    }
   }
  },
  {
   "cell_type": "code",
   "execution_count": 51,
   "outputs": [],
   "source": [
    "tests = [\n",
    "    #test_04,\n",
    "    test_06, test_08, test_10, test_12, test_14]\n",
    "tests_2 = [test_12_rb_4, test_12_rb_6, test_12_rb_10, test_12_rb_12,\n",
    "           test_12_sf_01, test_12_sf_02, test_12_sf_05, test_12_mindist_12]\n",
    "dat = [[], [], []]\n",
    "dat_2 = [[], [], []]\n",
    "for i in tests:\n",
    "    zero = i[0].info['MTP_energy']\n",
    "    for j in dat:\n",
    "        j.append([])\n",
    "    for j in i:\n",
    "        dat[0][-1].append(j.info['MTP_energy']/len(j) - zero)\n",
    "        dat[1][-1].extend(np.linalg.norm(j.arrays['MTP_force'], axis=0).flatten())\n",
    "        dat[2][-1].extend(j.info['MTP_stress'].flatten())\n",
    "\n",
    "for i in tests_2:\n",
    "    zero = i[0].info['MTP_energy']\n",
    "    for j in dat_2:\n",
    "        j.append([])\n",
    "    for j in i:\n",
    "        dat_2[0][-1].append(j.info['MTP_energy']/len(j) - zero)\n",
    "        dat_2[1][-1].extend(np.linalg.norm(j.arrays['MTP_force'], axis=0).flatten())\n",
    "        dat_2[2][-1].extend(j.info['MTP_stress'].flatten())"
   ],
   "metadata": {
    "collapsed": false,
    "pycharm": {
     "name": "#%%\n"
    }
   }
  },
  {
   "cell_type": "code",
   "execution_count": 46,
   "outputs": [],
   "source": [
    "zero = ref[0].info['dft_energy']\n",
    "ref_dat = [[], [], []]\n",
    "for j in ref:\n",
    "    ref_dat[0].append(j.info['dft_energy']/len(j) - zero)\n",
    "    ref_dat[1].extend(np.linalg.norm(j.arrays['dft_force'], axis=0).flatten())\n",
    "    ref_dat[2].extend(j.info['dft_virial'].flatten())\n"
   ],
   "metadata": {
    "collapsed": false,
    "pycharm": {
     "name": "#%%\n"
    }
   }
  },
  {
   "cell_type": "code",
   "execution_count": 47,
   "outputs": [
    {
     "data": {
      "text/plain": "<matplotlib.legend.Legend at 0x7f2ac93103d0>"
     },
     "execution_count": 47,
     "metadata": {},
     "output_type": "execute_result"
    },
    {
     "data": {
      "text/plain": "<Figure size 432x288 with 1 Axes>",
      "image/png": "[encoded data removed]"
     },
     "metadata": {
      "needs_background": "light"
     },
     "output_type": "display_data"
    }
   ],
   "source": [
    "fig, ax = plt.subplots()\n",
    "for i in range(len(tests)):\n",
    "    ax.scatter(ref_dat[0], dat[0][i], label=labels[i], s=2)\n",
    "ax.plot(x := [min(ref_dat[0]) - 0.1, max(ref_dat[0]) + 0.1], x, color='k', linewidth=0.5)\n",
    "ax.set(xlim=(-5.6,-4.5),\n",
    "       #ylim=(-5.6,-3),\n",
    "       ylim=(-5.6,-4.4),\n",
    "       xlabel='DFT E / eV', ylabel='MTP E / eV')\n",
    "ax.legend(bbox_to_anchor=(1.04, 1.0), markerscale=3)"
   ],
   "metadata": {
    "collapsed": false,
    "pycharm": {
     "name": "#%%\n"
    }
   }
  },
  {
   "cell_type": "code",
   "execution_count": 48,
   "outputs": [
    {
     "data": {
      "text/plain": "<matplotlib.legend.Legend at 0x7f2ac91c5460>"
     },
     "execution_count": 48,
     "metadata": {},
     "output_type": "execute_result"
    },
    {
     "data": {
      "text/plain": "<Figure size 432x288 with 1 Axes>",
      "image/png": "[encoded data removed]"
     },
     "metadata": {
      "needs_background": "light"
     },
     "output_type": "display_data"
    }
   ],
   "source": [
    "fig, ax = plt.subplots()\n",
    "for i in range(len(tests)):\n",
    "    ax.scatter(ref_dat[1], dat[1][i], label=labels[i], s=2)\n",
    "ax.plot(x := [min(ref_dat[1]) - 0.5, max(ref_dat[1]) + 0.5], x, color='k', linewidth=0.5)\n",
    "# ax.set(xlim=(-6,-4.5))\n",
    "ax.legend(bbox_to_anchor=(1.04, 1.0), markerscale=3)"
   ],
   "metadata": {
    "collapsed": false,
    "pycharm": {
     "name": "#%%\n"
    }
   }
  },
  {
   "cell_type": "code",
   "execution_count": 49,
   "outputs": [
    {
     "data": {
      "text/plain": "<matplotlib.legend.Legend at 0x7f2ac8a234f0>"
     },
     "execution_count": 49,
     "metadata": {},
     "output_type": "execute_result"
    },
    {
     "data": {
      "text/plain": "<Figure size 432x288 with 1 Axes>",
      "image/png": "[encoded data removed]"
     },
     "metadata": {
      "needs_background": "light"
     },
     "output_type": "display_data"
    }
   ],
   "source": [
    "fig, ax = plt.subplots()\n",
    "for i in range(len(tests)):\n",
    "    ax.scatter(ref_dat[2], dat[2][i], label=labels[i], s=2)\n",
    "ax.plot(x := [min(ref_dat[2]) - 0.5, max(ref_dat[2]) + 0.5], x, color='k', linewidth=0.5)\n",
    "# ax.set(xlim=(-6,-4.5))\n",
    "ax.legend(bbox_to_anchor=(1.04, 1.0), markerscale=3)"
   ],
   "metadata": {
    "collapsed": false,
    "pycharm": {
     "name": "#%%\n"
    }
   }
  },
  {
   "cell_type": "code",
   "execution_count": 68,
   "outputs": [
    {
     "data": {
      "text/plain": "<matplotlib.legend.Legend at 0x7f2ac8702280>"
     },
     "execution_count": 68,
     "metadata": {},
     "output_type": "execute_result"
    },
    {
     "data": {
      "text/plain": "<Figure size 432x288 with 1 Axes>",
      "image/png": "[encoded data removed]"
     },
     "metadata": {
      "needs_background": "light"
     },
     "output_type": "display_data"
    }
   ],
   "source": [
    "fig, ax = plt.subplots()\n",
    "for i in range(len(tests_2)):\n",
    "    ax.scatter(ref_dat[0], dat_2[0][i], label=labels_2[i], s=2)\n",
    "ax.plot(x := [min(ref_dat[0]) - 0.1, max(ref_dat[0]) + 0.1], x, color='k', linewidth=0.5)\n",
    "# ax.set(xlim=(-5.6,-4.5),\n",
    "ax.set(xlim=(-7,0.5),\n",
    "       ylim=(-7,0.5),\n",
    "       # ylim=(-5.6,-4.4),\n",
    "       xlabel='DFT E / eV', ylabel='MTP E / eV')\n",
    "ax.legend(loc='upper left', bbox_to_anchor=(1.04, 1.0), markerscale=3)"
   ],
   "metadata": {
    "collapsed": false,
    "pycharm": {
     "name": "#%%\n"
    }
   }
  },
  {
   "cell_type": "code",
   "execution_count": 53,
   "outputs": [
    {
     "data": {
      "text/plain": "<matplotlib.legend.Legend at 0x7f2ac88a5c70>"
     },
     "execution_count": 53,
     "metadata": {},
     "output_type": "execute_result"
    },
    {
     "data": {
      "text/plain": "<Figure size 432x288 with 1 Axes>",
      "image/png": "[encoded data removed]"
     },
     "metadata": {
      "needs_background": "light"
     },
     "output_type": "display_data"
    }
   ],
   "source": [
    "fig, ax = plt.subplots()\n",
    "for i in range(len(tests_2)):\n",
    "    ax.scatter(ref_dat[1], dat_2[1][i], label=labels_2[i], s=2)\n",
    "ax.plot(x := [min(ref_dat[1]) - 0.5, max(ref_dat[1]) + 0.5], x, color='k', linewidth=0.5)\n",
    "# ax.set(xlim=(-6,-4.5))\n",
    "ax.legend(bbox_to_anchor=(1.04, 1.0), markerscale=3)"
   ],
   "metadata": {
    "collapsed": false,
    "pycharm": {
     "name": "#%%\n"
    }
   }
  },
  {
   "cell_type": "code",
   "execution_count": 55,
   "outputs": [
    {
     "data": {
      "text/plain": "<matplotlib.legend.Legend at 0x7f2ac86f27f0>"
     },
     "execution_count": 55,
     "metadata": {},
     "output_type": "execute_result"
    },
    {
     "data": {
      "text/plain": "<Figure size 432x288 with 1 Axes>",
      "image/png": "[encoded data removed]"
     },
     "metadata": {
      "needs_background": "light"
     },
     "output_type": "display_data"
    }
   ],
   "source": [
    "fig, ax = plt.subplots()\n",
    "for i in range(len(tests_2)):\n",
    "    ax.scatter(ref_dat[2], dat_2[2][i], label=labels_2[i], s=2)\n",
    "ax.plot(x := [min(ref_dat[2]) - 0.5, max(ref_dat[2]) + 0.5], x, color='k', linewidth=0.5)\n",
    "# ax.set(xlim=(-6,-4.5))\n",
    "ax.legend(loc='upper left', bbox_to_anchor=(1.04, 1.0), markerscale=3)"
   ],
   "metadata": {
    "collapsed": false,
    "pycharm": {
     "name": "#%%\n"
    }
   }
  },
  {
   "cell_type": "code",
   "execution_count": 40,
   "outputs": [],
   "source": [
    "def calc_RMSE(dat, ref):\n",
    "\n",
    "    rmses = [ [[] for i in range(len(j))] for j in dat]\n",
    "\n",
    "    for i in range(len(dat)):\n",
    "        for j in range(len(dat[i])):\n",
    "            rmses[i][j].append( np.sqrt(((np.array(dat[i][j]) - np.array(ref_dat[i]))**2).mean()) )\n",
    "\n",
    "    return rmses\n"
   ],
   "metadata": {
    "collapsed": false,
    "pycharm": {
     "name": "#%%\n"
    }
   }
  },
  {
   "cell_type": "code",
   "execution_count": 36,
   "outputs": [
    {
     "name": "stdout",
     "output_type": "stream",
     "text": [
      "[[[], [], [], [], []], [[], [], [], [], []], [[], [], [], [], []]]\n"
     ]
    },
    {
     "data": {
      "text/plain": "[[[2.0331491475929973],\n  [0.37658997116886084],\n  [0.3524441002045977],\n  [0.051056915385401934],\n  [0.11470655109473109]],\n [[0.7674185677233254],\n  [0.449965578733021],\n  [0.3540529708587838],\n  [0.25544884931477396],\n  [0.21589229975013388]],\n [[9.331400347584445],\n  [5.368291826879886],\n  [4.515615008219421],\n  [4.066737394192009],\n  [3.360283351698521]]]"
     },
     "execution_count": 36,
     "metadata": {},
     "output_type": "execute_result"
    }
   ],
   "source": [
    "calc_RMSE(dat, ref)"
   ],
   "metadata": {
    "collapsed": false,
    "pycharm": {
     "name": "#%%\n"
    }
   }
  },
  {
   "cell_type": "code",
   "execution_count": 37,
   "outputs": [
    {
     "name": "stdout",
     "output_type": "stream",
     "text": [
      "['06', '08', '10', '12', '14']\n"
     ]
    }
   ],
   "source": [
    "print(labels)\n"
   ],
   "metadata": {
    "collapsed": false,
    "pycharm": {
     "name": "#%%\n"
    }
   }
  },
  {
   "cell_type": "code",
   "execution_count": 41,
   "outputs": [
    {
     "data": {
      "text/plain": "[[[0.04886489055067283],\n  [0.04876302055831905],\n  [0.04899310612403095],\n  [0.047951801927671275],\n  [0.04149733701664958],\n  [0.057874303140807576],\n  [0.05109433544472493]],\n [[0.2556736142006959],\n  [0.25610427319628554],\n  [0.25732890487437166],\n  [0.25684456406336725],\n  [0.3054690395717579],\n  [0.24988826365264968],\n  [0.24951774245651215]],\n [[4.0738248229391365],\n  [4.06711038092277],\n  [4.039589677886528],\n  [4.059675789633806],\n  [4.374158998331222],\n  [4.104060874976878],\n  [4.072534521867647]]]"
     },
     "execution_count": 41,
     "metadata": {},
     "output_type": "execute_result"
    }
   ],
   "source": [
    "calc_RMSE(dat_2, ref)"
   ],
   "metadata": {
    "collapsed": false,
    "pycharm": {
     "name": "#%%\n"
    }
   }
  },
  {
   "cell_type": "code",
   "execution_count": 5,
   "outputs": [],
   "source": [
    "from ase.io.castep import read_castep_castep"
   ],
   "metadata": {
    "collapsed": false,
    "pycharm": {
     "name": "#%%\n"
    }
   }
  },
  {
   "cell_type": "code",
   "execution_count": 6,
   "outputs": [],
   "source": [
    "from mtp import write_cfg_db, read_cfg_db"
   ],
   "metadata": {
    "collapsed": false,
    "pycharm": {
     "name": "#%%\n"
    }
   }
  },
  {
   "cell_type": "code",
   "execution_count": 57,
   "outputs": [],
   "source": [
    "DFT_struct = []\n",
    "DFT_dir = '/home/joe/Documents/Ge_od/Structure_databases/crystals/Si_MP_dense_cryst'\n",
    "for i in os.listdir(DFT_dir):\n",
    "    if '.castep' in i:\n",
    "        DFT_struct.append(read_castep_castep(os.path.join(DFT_dir, i))[0])\n",
    "        DFT_struct[-1].info['energy'] = DFT_struct[-1].calc.get_total_energy_corrected()"
   ],
   "metadata": {
    "collapsed": false,
    "pycharm": {
     "name": "#%%\n"
    }
   }
  },
  {
   "cell_type": "code",
   "execution_count": 58,
   "outputs": [],
   "source": [
    "mtp = MTP('/home/joe/Documents/Ge_od/Potentials/Si_myDB_supercrystals/MTP/Si_myDB_liqamocryst_train_24_rb_12.mtp',\n",
    "          train='/home/joe/Documents/Ge_od/Potentials/Si_myDB_supercrystals/MTP/Si_myDB_liqamocryst_train.cfg')"
   ],
   "metadata": {
    "collapsed": false,
    "pycharm": {
     "name": "#%%\n"
    }
   }
  },
  {
   "cell_type": "code",
   "execution_count": 9,
   "outputs": [],
   "source": [
    "DFT_struct[0].calc = mtp"
   ],
   "metadata": {
    "collapsed": false,
    "pycharm": {
     "name": "#%%\n"
    }
   }
  },
  {
   "cell_type": "code",
   "execution_count": 341,
   "outputs": [
    {
     "data": {
      "text/plain": "array([[ 0.01847787, -0.00094722, -0.00067236],\n       [-0.00094722,  0.01847787, -0.00067236],\n       [-0.00067236, -0.00067236,  0.00935469]])"
     },
     "execution_count": 341,
     "metadata": {},
     "output_type": "execute_result"
    }
   ],
   "source": [
    "DFT_struct[4].get_stress(voigt=False)"
   ],
   "metadata": {
    "collapsed": false,
    "pycharm": {
     "name": "#%%\n"
    }
   }
  },
  {
   "cell_type": "code",
   "execution_count": 342,
   "outputs": [
    {
     "data": {
      "text/plain": "array([[-0.00138,  0.00138,  0.     ],\n       [ 0.00138, -0.00138, -0.     ]])"
     },
     "execution_count": 342,
     "metadata": {},
     "output_type": "execute_result"
    }
   ],
   "source": [
    "DFT_struct[4].get_forces()"
   ],
   "metadata": {
    "collapsed": false,
    "pycharm": {
     "name": "#%%\n"
    }
   }
  },
  {
   "cell_type": "code",
   "execution_count": 27,
   "outputs": [],
   "source": [
    "import time"
   ],
   "metadata": {
    "collapsed": false,
    "pycharm": {
     "name": "#%%\n"
    }
   }
  },
  {
   "cell_type": "code",
   "execution_count": 48,
   "outputs": [
    {
     "data": {
      "text/plain": "30.05262064933777"
     },
     "execution_count": 48,
     "metadata": {},
     "output_type": "execute_result"
    }
   ],
   "source": [
    "s = time.time()\n",
    "mtp.calculate(DFT_struct[1], properties=['grade'],\n",
    "              timeout=60)\n",
    "f = time.time()\n",
    "f-s"
   ],
   "metadata": {
    "collapsed": false,
    "pycharm": {
     "name": "#%%\n"
    }
   }
  },
  {
   "cell_type": "code",
   "execution_count": null,
   "outputs": [],
   "source": [
    "s = time.time()\n",
    "o = mtp.calc_grade_bulk(DFT_struct)\n",
    "f = time.time()\n",
    "f-s"
   ],
   "metadata": {
    "collapsed": false,
    "pycharm": {
     "name": "#%%\n",
     "is_executing": true
    }
   }
  },
  {
   "cell_type": "code",
   "execution_count": null,
   "outputs": [],
   "source": [
    "DFT_struct[0].info\n"
   ],
   "metadata": {
    "collapsed": false,
    "pycharm": {
     "name": "#%%\n",
     "is_executing": true
    }
   }
  },
  {
   "cell_type": "code",
   "execution_count": 344,
   "outputs": [],
   "source": [
    "from quippy.potential import Potential"
   ],
   "metadata": {
    "collapsed": false,
    "pycharm": {
     "name": "#%%\n"
    }
   }
  },
  {
   "cell_type": "code",
   "execution_count": 348,
   "outputs": [
    {
     "data": {
      "text/plain": "True"
     },
     "execution_count": 348,
     "metadata": {},
     "output_type": "execute_result"
    }
   ],
   "source": [
    "hasattr(Potential, 'calculate')"
   ],
   "metadata": {
    "collapsed": false,
    "pycharm": {
     "name": "#%%\n"
    }
   }
  },
  {
   "cell_type": "code",
   "execution_count": 349,
   "outputs": [
    {
     "data": {
      "text/plain": "True"
     },
     "execution_count": 349,
     "metadata": {},
     "output_type": "execute_result"
    }
   ],
   "source": [
    "hasattr(MTP, 'calculate')\n"
   ],
   "metadata": {
    "collapsed": false,
    "pycharm": {
     "name": "#%%\n"
    }
   }
  },
  {
   "cell_type": "code",
   "execution_count": null,
   "outputs": [],
   "source": [],
   "metadata": {
    "collapsed": false,
    "pycharm": {
     "name": "#%%\n"
    }
   }
  }
 ],
 "metadata": {
  "kernelspec": {
   "name": "python3",
   "language": "python",
   "display_name": "Python 3"
  },
  "language_info": {
   "codemirror_mode": {
    "name": "ipython",
    "version": 2
   },
   "file_extension": ".py",
   "mimetype": "text/x-python",
   "name": "python",
   "nbconvert_exporter": "python",
   "pygments_lexer": "ipython2",
   "version": "2.7.6"
  }
 },
 "nbformat": 4,
 "nbformat_minor": 0
}