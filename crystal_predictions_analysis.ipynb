{
 "cells": [
  {
   "cell_type": "code",
   "execution_count": 1,
   "outputs": [],
   "source": [
    "%load_ext autoreload\n",
    "%autoreload 2"
   ],
   "metadata": {
    "collapsed": false,
    "pycharm": {
     "name": "#%%\n"
    }
   }
  },
  {
   "cell_type": "code",
   "execution_count": 2,
   "outputs": [],
   "source": [
    "from Ge_calculation import GAP, MD_run\n",
    "from mtp import *\n",
    "from snap import *\n",
    "from Ge_analysis import get_castep_E\n",
    "import matplotlib.pyplot as plt\n",
    "import pickle\n",
    "import numpy as np\n",
    "import os\n",
    "from ase import build\n",
    "from ase.atoms import Atoms\n",
    "from quippy.potential import Potential\n",
    "from quippy.descriptors import Descriptor\n",
    "from copy import deepcopy\n",
    "from ase.io.castep import read_castep_castep, read_param\n",
    "import pandas as pd\n",
    "from ase.lattice import hexagonal, tetragonal, orthorhombic\n",
    "from ase.constraints import StrainFilter, UnitCellFilter, ExpCellFilter, FixAtoms\n",
    "from ase.spacegroup.symmetrize import FixSymmetry\n",
    "from ase.optimize import BFGS\n",
    "from ase.data import covalent_radii, atomic_numbers\n",
    "import warnings\n",
    "from ase.spacegroup.symmetrize import check_symmetry"
   ],
   "metadata": {
    "collapsed": false,
    "pycharm": {
     "name": "#%%\n"
    }
   }
  },
  {
   "cell_type": "markdown",
   "source": [
    "# Plan for this analysis package\n",
    "\n",
    "Compare the EV and HP curves across potentials. Will need to find a way to use SNAP and MTPs with ASE, either as\n",
    "calculators in their own right, but most likely via the lammps interface for the latter."
   ],
   "metadata": {
    "collapsed": false,
    "pycharm": {
     "name": "#%% md\n"
    }
   }
  },
  {
   "cell_type": "code",
   "execution_count": 3,
   "outputs": [
    {
     "data": {
      "text/plain": "1.2"
     },
     "execution_count": 3,
     "metadata": {},
     "output_type": "execute_result"
    }
   ],
   "source": [
    "covalent_radii[atomic_numbers['Ge']]"
   ],
   "metadata": {
    "collapsed": false,
    "pycharm": {
     "name": "#%%\n"
    }
   }
  },
  {
   "cell_type": "code",
   "execution_count": 4,
   "metadata": {
    "collapsed": true
   },
   "outputs": [],
   "source": [
    "class Cmca_factory(orthorhombic.BaseCenteredOrthorhombicFactory):\n",
    "    xtal_name='Cmca'\n",
    "    bravais_basis=[[0.717993, 0.282007, 0.5     ],\n",
    "                  [0.217993, 0.782007, 0.      ],\n",
    "                  [0.282007, 0.717993, 0.5     ],\n",
    "                  [0.782007, 0.217993, 0.      ],\n",
    "                  [0.331168, 0.331168, 0.829096],\n",
    "                  [0.668832, 0.668832, 0.170904],\n",
    "                  [0.168832, 0.168832, 0.329096],\n",
    "                  [0.831168, 0.831168, 0.670904]]\n",
    "\n",
    "class bSn_factory(tetragonal.CenteredTetragonalFactory):\n",
    "    xtal_name='bSn'\n",
    "    bravais_basis=[[0, 0.5, 0.25], [0.0, 0.0, 0.5]]\n",
    "\n",
    "class Imma_factory(orthorhombic.BodyCenteredOrthorhombicFactory):\n",
    "    xtal_name='Imma'\n",
    "    bravais_basis=[[0.0641, 0.0000, 0.7500], [0.4359, 0.5000, 0.7500]]\n",
    "\n",
    "class CrystTest:\n",
    "    '''Centre for the analysis of crystal structure minima using ASE calculators\n",
    "\n",
    "    Data is returned in a pandas DataFrame, indexed by the crystal structures\n",
    "                        Default V   V           E           V           E\n",
    "                Atoms   1st pot     1st pot     1st pot     2nd pot     2nd pot\n",
    "    --------------------------------------------------------------------------\n",
    "    fcc     .\n",
    "    bcc     .\n",
    "    diamond .\n",
    "    .       .\n",
    "    .       .\n",
    "    .       .\n",
    "    TODO:\n",
    "        Automatic scaling of lattice parameter initial guesses using covalent radii\n",
    "        Ability to add custom crystal structures\n",
    "        Better error handling for unconverged geometries\n",
    "\n",
    "        '''\n",
    "\n",
    "    def __init__(self, pots, element,\n",
    "                 extra_configs=[], extra_labels=[], n=10, opt=True, silent=False,\n",
    "                 load=False, start_cells = {}, steps=100):\n",
    "        '''pots: list of ase calculator objects (currently GAPs and MTPs). Strings will be\n",
    "                    interpreted as GAP param_filenames\n",
    "        element: element used for the pots (multicomponent systems not yet supported)\n",
    "        extra_configs/labels: custom crystal structures for evaluation (see add_config method)\n",
    "        n: number of V points calculated per crystal structure\n",
    "        opt: bool, optimize the crystal structures? If a particular calculator is unstable, add this using\n",
    "            add_pot()\n",
    "        silent: bool, silence output\n",
    "\n",
    "        '''\n",
    "        if not isinstance(pots, list):\n",
    "            self.pots = [pots]\n",
    "        else:\n",
    "            self.pots = pots\n",
    "        if load: # awaiting implementation\n",
    "            raise NotImplementedError('Hang tight, coming soon')\n",
    "\n",
    "        for i in range(len(pots)):\n",
    "            if not hasattr(pots[i], 'calculate'):\n",
    "                # assume is the filename (str) of a GAP from typical analysis\n",
    "                pots[i] = Potential(param_filename=pots[i])\n",
    "\n",
    "        # Need a better way of guessing the initial latice parameters - e.g. scaling by atomic radius\n",
    "        # based on True Si data\n",
    "        e_r = covalent_radii[atomic_numbers[element]]\n",
    "        Si_r = covalent_radii[14]\n",
    "\n",
    "        bSn_fact = bSn_factory()\n",
    "        bSn = Atoms(bSn_fact(symbol=element, latticeconstant={'a':5.2, 'c':2.87}))\n",
    "\n",
    "        Imma_fact = Imma_factory()\n",
    "        Imma = Imma_fact(symbol=element, latticeconstant={'a':2.87, 'b':4.99, 'c':5.30})\n",
    "\n",
    "        structs = [build.bulk(element, crystalstructure='fcc', a=3.0, cubic=True),\n",
    "                   build.bulk(element, crystalstructure='diamond', a=5.0,  cubic=True),\n",
    "                   build.bulk(element, crystalstructure='hcp', a=3, c=5),\n",
    "                   build.bulk(element, crystalstructure='bcc', a=3.0, cubic=True),\n",
    "                   build.bulk(element, crystalstructure='sc', a=3.0),\n",
    "                   Atoms(hexagonal.Hexagonal(symbol=element, latticeconstant={'a':3.0, 'c':3.0})),\n",
    "                   bSn,\n",
    "                   Imma] +\\\n",
    "            [deepcopy(i) for i in extra_configs]\n",
    "\n",
    "        self.labels = ['fcc', 'dia', 'hcp', 'bcc', 'sc', 'sh', 'bSn', 'Imma'] + extra_labels\n",
    "        self.opt_structs = []\n",
    "\n",
    "        # Optimise the unit cell vectors if required\n",
    "        cells = [[] for i in range(len(pots))]\n",
    "        for j, pot in enumerate(self.pots):\n",
    "            copy_structs = deepcopy(structs)\n",
    "            for ct, val in enumerate(copy_structs):\n",
    "                if opt:\n",
    "                    val.set_calculator(pot)\n",
    "                    uf = StrainFilter(val) # should ensure only the lattice can move, not atomic positions\n",
    "                    opt = BFGS(uf, logfile='/dev/null')\n",
    "                    opt.run(0.05, steps=steps)\n",
    "                    if not opt.converged():\n",
    "                        warnings.warn(('Warning: pot \\'{}\\' failed to converge on structure {}\\n' +\\\n",
    "                                      'in {} steps').format(pot.name, val, steps))\n",
    "                        val.set_cell(np.NaN*np.ones(3)) # flag unconverged geometry\n",
    "                    val.set_calculator(None)\n",
    "                cells[j].append(val.get_cell())\n",
    "                if j == 0:\n",
    "                    self.opt_structs.append(val)\n",
    "        if not silent:\n",
    "            print('opts done')\n",
    "\n",
    "        # Evaluate the E/V curves on the optimised cells\n",
    "        E = [[[] for j in range(len(structs))] for i in range(len(pots))]\n",
    "        V = [[[] for j in range(len(structs))] for i in range(len(pots))]\n",
    "        for j, pot in enumerate(self.pots):\n",
    "            copy_structs = deepcopy(structs)\n",
    "            for ct, val in enumerate(copy_structs):\n",
    "                for i in np.linspace(0.95, 1.05, n):\n",
    "                    val.set_cell(i*cells[j][ct], scale_atoms=True)\n",
    "                    val.set_calculator(pot)\n",
    "                    E[j][ct].append(val.get_potential_energy()/len(val))\n",
    "                    V[j][ct].append(val.get_volume()/len(val))\n",
    "\n",
    "            if not silent:\n",
    "                print('pot {0} done'.format(pot.name))\n",
    "\n",
    "        # Construct a DataFrame with the data\n",
    "        dat = {'Structure':structs, 'Volumes':V[0]}\n",
    "        for i, val in enumerate(self.pots):\n",
    "            dat.update({val.name +  '_V' : V[i], val.name + '_E' : E[i]})\n",
    "        print(dat)\n",
    "        self.df = pd.DataFrame(dat, index=self.labels)\n",
    "\n",
    "    def add_config(self, config, label, opt=False, n=10):\n",
    "\n",
    "        config = deepcopy(config)\n",
    "        if opt:\n",
    "            config.set_calculator(self.pots[0])\n",
    "            uf = UnitCellFilter(config)\n",
    "            opt = BFGS(uf, logfile='dump')\n",
    "            opt.run(0.05)\n",
    "            config.set_calculator(None)\n",
    "        cell = config.get_cell()\n",
    "\n",
    "        E = [[] for i in self.pots]; V = []\n",
    "        for j, p in enumerate(self.pots):\n",
    "            for i in np.linspace(0.95, 1.05, n):\n",
    "                config.set_cell(i*cell)\n",
    "                config.set_calculator(p)\n",
    "                E[j].append(config.get_potential_energy()/len(config))\n",
    "                if j == 0:\n",
    "                    V.append(config.get_volume()/len(config))\n",
    "            print('pot {0} done'.format(p.name))\n",
    "\n",
    "        dat = {'Structure':[config], 'Volumes':[V]}\n",
    "        for i, val in enumerate(self.pots):\n",
    "            dat.update({val.name:[E[i]]})\n",
    "        tdf = pd.DataFrame(dat, index=[label])\n",
    "        self.df = self.df.append(tdf)\n",
    "\n",
    "    def add_config_by_mpid(self):\n",
    "        return\n",
    "\n",
    "    def calc_HP(self, ps, pf, pn, opt_freq=4, subset=slice(0, 8, None)):\n",
    "        '''Calculates the Enthalpy/Pressure curves for the structures.\n",
    "        ps: float Starting pressure / GPa\n",
    "        pf: float Final pressure\n",
    "        pn: int number of pressure points\n",
    "        opt_freq: how often is the geom reoptimised w.r.t. pressure points\n",
    "        subset: slice which crystal structures to include'''\n",
    "\n",
    "\n",
    "        p = np.linspace(ps, pf, pn)\n",
    "        pea = p*0.05/8\n",
    "        copy_structs = deepcopy(self.df['Structure'][subset])\n",
    "        # consider initializing below as NaNs for pandas\n",
    "        v = [[np.zeros(pn) for i in range(len(self.df))] for j in range(len(self.pots))]\n",
    "        H = [[np.zeros(pn) for i in range(len(self.df))] for j in range(len(self.pots))]\n",
    "        for j, pot in enumerate(self.pots):\n",
    "            for ct, val in enumerate(copy_structs):\n",
    "                val.set_calculator(pot)\n",
    "                for i in range(len(p)):\n",
    "                    if i % opt_freq == 0:\n",
    "                        #val.set_constraint(FixAtoms(mask=[True for atom in val]))\n",
    "                        #uf = ExpCellFilter(val, scalar_pressure=pea[i], hydrostatic_strain=True)\n",
    "                        uf = ExpCellFilter(val, scalar_pressure=pea[i], hydrostatic_strain=True)\n",
    "                        opt = BFGS(uf, logfile='/dev/null')\n",
    "                        opt.run(0.05, steps=20)\n",
    "                        if not opt.converged():\n",
    "                            warnings.warn('Warning: {} did not converge at pressure {}'.format(\n",
    "                                            self.labels[ct],p[i]))\n",
    "                    v[j][ct][i] = (vt := val.get_volume()/len(val))\n",
    "                    H[j][ct][i] = val.get_potential_energy()/len(val) + pea[i]*vt\n",
    "                print('struct {} done'.format(self.df.index[ct]))\n",
    "\n",
    "            print('\\npot {0} done\\n'.format(pot.name))\n",
    "            self.df['H(P) {}'.format(pot.name)] = H[j]\n",
    "        self.df['P'] = [p for i in range(len(self.df))]\n",
    "\n",
    "        return\n",
    "\n",
    "    def save(self, outfile):\n",
    "        for i in flatten(self.df['Structure']):\n",
    "            i.calc = None\n",
    "        f = open(outfile, 'wb')\n",
    "        pickle.dump(self.df, f)\n",
    "        f.close()\n",
    "\n",
    "    def load(self, infile):\n",
    "        f = open(infile, 'rb')\n",
    "        self.df = pickle.load(f)\n",
    "\n",
    "\n",
    "    def add_pot(self, pot, opt=True, steps=100, n=10):\n",
    "\n",
    "        if not hasattr(pot, 'calculate'):\n",
    "            # assume is the filename (str) of a GAP from typical analysis\n",
    "            print('Interpreting {} as a GAP'.format(pot))\n",
    "            pot = Potential(param_filename=pot)\n",
    "            pot.name = os.path.splitext(os.path.basename(pot))[0]\n",
    "\n",
    "        self.pots.append(pot)\n",
    "        cells = []\n",
    "\n",
    "        if opt:\n",
    "            copy_structs = deepcopy(self.df['Structure'])\n",
    "            for ct, val in enumerate(copy_structs):\n",
    "                if opt and ct < 8:\n",
    "                    val.set_calculator(pot)\n",
    "                    uf = StrainFilter(val)\n",
    "                    opt = BFGS(uf, logfile='/dev/null')\n",
    "                    opt.run(0.05, steps=steps)\n",
    "                    if not opt.converged():\n",
    "                        warnings.warn(('Warning: pot \\'{}\\' failed to converge on structure {}\\n' +\\\n",
    "                                      'in {} steps').format(pot.name, val, steps))\n",
    "                    val.set_calculator(None)\n",
    "                cells.append(val.get_cell())\n",
    "        else:\n",
    "            cells = [i.get_cell() for i in self.opt_structs]\n",
    "\n",
    "        E = [[] for j in range(len(self.df['Structure']))]\n",
    "        V = [[] for j in range(len(self.df['Structure']))]\n",
    "        copy_structs = deepcopy(self.df['Structure'])\n",
    "        for ct, val in enumerate(copy_structs):\n",
    "            val.set_calculator(pot)\n",
    "            for i in np.linspace(0.95, 1.05, n):\n",
    "                val.set_cell(i*cells[ct], scale_atoms=True)\n",
    "                E[ct].append(val.get_potential_energy()/len(val))\n",
    "                V[ct].append(val.get_volume()/len(val))\n",
    "\n",
    "        self.df = self.df.join(pd.DataFrame({pot.name+'_V':V, pot.name+'_E':E}, index=self.labels))\n",
    "\n",
    "\n",
    "\n",
    "    def plot_EV(self):\n",
    "        return"
   ]
  },
  {
   "cell_type": "code",
   "execution_count": 5,
   "outputs": [],
   "source": [
    "DFT_struct = []\n",
    "DFT_struct_labels = ['', '', '', '', '', '', '', '', '', 'diamond']\n",
    "DFT_dir = '/home/joe/Documents/Ge_od/Structure_databases/crystals/Si_MP_dense_cryst'\n",
    "for i in os.listdir(DFT_dir):\n",
    "    if '.castep' in i:\n",
    "        DFT_struct.append(read_castep_castep(os.path.join(DFT_dir, i))[0])\n",
    "        DFT_struct[-1].info['energy'] = get_castep_E(os.path.join(DFT_dir, i))"
   ],
   "metadata": {
    "collapsed": false,
    "pycharm": {
     "name": "#%%\n"
    }
   }
  },
  {
   "cell_type": "code",
   "execution_count": 56,
   "outputs": [
    {
     "name": "stdout",
     "output_type": "stream",
     "text": [
      "I4/mmm\n",
      "P6/mmm\n",
      "R-3m\n",
      "Fm-3m\n",
      "I4_1/amd\n",
      "P6_3/mmc\n",
      "Im-3m\n",
      "Fmmm\n",
      "Cmcm\n",
      "Cmce\n"
     ]
    }
   ],
   "source": [
    "for i in DFT_struct:\n",
    "    print(check_symmetry(i, symprec=1e-5)['international'])"
   ],
   "metadata": {
    "collapsed": false,
    "pycharm": {
     "name": "#%%\n"
    }
   }
  },
  {
   "cell_type": "code",
   "execution_count": 6,
   "outputs": [],
   "source": [
    "supers = '/home/joe/Documents/Ge_od/Potentials/Si_myDB_supercrystals/'"
   ],
   "metadata": {
    "collapsed": false,
    "pycharm": {
     "name": "#%%\n"
    }
   }
  },
  {
   "cell_type": "code",
   "execution_count": 7,
   "outputs": [
    {
     "name": "stderr",
     "output_type": "stream",
     "text": [
      "/home/joe/ase/ase/calculators/calculator.py:507: FutureWarning: The keyword \"ignore_bad_restart_file\" is deprecated and will be removed in a future version of ASE.  Passing more than one positional argument to Calculator is also deprecated and will stop functioning in the future.  Please pass arguments by keyword (key=value) except optionally the \"restart\" keyword.\n",
      "  warnings.warn(FutureWarning(\n"
     ]
    }
   ],
   "source": [
    "pots = [\n",
    "        Potential(param_filename='/home/joe/Documents/Ge_od/Potentials/Si_myDB_supercrystals/GAP/Si_litDB_liqamocryst_loose_ns4000.xml'),\n",
    "        Potential(param_filename='/home/joe/Documents/Ge_od/Potentials/Si_myDB_reg_testing/Si_myDB_ds0.075_0.75_0.375_0.0.xml'),\n",
    "        MTP(os.path.join(supers, 'MTP/Si_myDB_liqamocryst_train_24_rb_12.mtp'), potential_name='MTP_24_rb_12'),\n",
    "        SNAP({'Si':1}, potential_seed=\"/home/joe/Documents/Ge_od/Potentials/SNAP_pots/litDB_full_costbased_paper/t1/Si_pot\",\n",
    "                     potential_name='snap_test'),\n",
    "        MTP(os.path.join(supers, 'MTP/Si_myDB_liqamocryst_train_26_rb_12.mtp'), potential_name='MTP_26_rb_12'),\n",
    "        SNAP({'Si':1}, potential_seed='/home/joe/Documents/Ge_od/Potentials/SNAP_pots/litDB_full_costbased_paper/t2/Si_pot',\n",
    "             potential_name='snap_shift'),\n",
    "        SNAP({'Si':1}, potential_seed=os.path.join(supers, 'SNAP/Si_pot'), potential_name='SNAP_myDB'),\n",
    "        MTP(os.path.join(supers, 'MTP/Si_myDB_liqamocryst_train_26_rb_8_min.mtp'), potential_name='MTP_26_rb_8_min'),\n",
    "        ]\n",
    "pots[0].name = 'liq_amo_cryst_loose'\n",
    "pots[1].name = 'liq_amo_0.75loose'"
   ],
   "metadata": {
    "collapsed": false,
    "pycharm": {
     "name": "#%%\n"
    }
   }
  },
  {
   "cell_type": "code",
   "execution_count": 89,
   "outputs": [],
   "source": [
    "pots.append(\n",
    "        SNAP({'Si':1}, potential_seed=os.path.join(supers, 'SNAP/Si_pot_j12'), potential_name='SNAP_myDB_j12')\n",
    "    )"
   ],
   "metadata": {
    "collapsed": false,
    "pycharm": {
     "name": "#%%\n"
    }
   }
  },
  {
   "cell_type": "code",
   "execution_count": null,
   "outputs": [],
   "source": [
    "pots.append(\n",
    "        SNAP({'Si':1}, potential_seed=os.path.join(supers, 'SNAP/Si_pot_noisol'), potential_name='SNAP_myDB_noisol')\n",
    "    )"
   ],
   "metadata": {
    "collapsed": false,
    "pycharm": {
     "name": "#%%\n"
    }
   }
  },
  {
   "cell_type": "code",
   "execution_count": 100,
   "outputs": [],
   "source": [
    "pots.append(\n",
    "        SNAP({'Si':1}, potential_seed=os.path.join(supers, 'SNAP/Si_pot_customreg'), potential_name='SNAP_myDB_customreg')\n",
    "    )"
   ],
   "metadata": {
    "collapsed": false,
    "pycharm": {
     "name": "#%%\n"
    }
   }
  },
  {
   "cell_type": "code",
   "execution_count": 107,
   "outputs": [],
   "source": [
    "pots.append(\n",
    "        SNAP({'Si':1}, potential_seed=os.path.join(supers, 'SNAP/Si_pot_j16'), potential_name='SNAP_myDB_j16')\n",
    "    )"
   ],
   "metadata": {
    "collapsed": false,
    "pycharm": {
     "name": "#%%\n"
    }
   }
  },
  {
   "cell_type": "code",
   "execution_count": 8,
   "outputs": [
    {
     "name": "stdout",
     "output_type": "stream",
     "text": [
      "WARNING: Got volume 77.604800, expected 155.209600\n",
      "WARNING: Got volume 75.902890, expected 151.805780\n",
      "opts done\n",
      "pot liq_amo_cryst_loose done\n",
      "pot liq_amo_0.75loose done\n",
      "{'Structure': [Atoms(symbols='Si4', pbc=True, cell=[3.0, 3.0, 3.0]), Atoms(symbols='Si8', pbc=True, cell=[5.0, 5.0, 5.0]), Atoms(symbols='Si2', pbc=True, cell=[[3.0, 0.0, 0.0], [-1.5, 2.598076211353316, 0.0], [0.0, 0.0, 5.0]]), Atoms(symbols='Si2', pbc=True, cell=[3.0, 3.0, 3.0]), Atoms(symbols='Si', pbc=True, cell=[3.0, 3.0, 3.0]), Atoms(symbols='Si', pbc=True, cell=[[3.0, 0.0, 0.0], [-1.4999999999999993, 2.598076211353316, 0.0], [0.0, 0.0, 3.0]]), Atoms(symbols='Si4', pbc=True, cell=[5.2, 5.2, 2.87]), Lattice(symbols='Si4', pbc=True, cell=[2.87, 4.99, 5.3])], 'Volumes': [[8.406153645561451, 8.704569594210222, 9.009965718282869, 9.322422713449026, 9.642021275378335, 9.968842099740433, 10.302965882204964, 10.644473318441568, 10.993445104119884, 11.349961934909562], [17.294465307055443, 17.90841367019335, 18.536722751299962, 19.17955857023614, 19.837087146862817, 20.509474501040916, 21.196886652631317, 21.899489621494958, 22.61744942749274, 23.350932090485585], [8.845462943895184, 9.159474241682222, 9.480830501940464, 9.809616637530835, 10.145917561314278, 10.489818186151735, 10.841403424904131, 11.200758190432424, 11.567967395597547, 11.943115953260422], [13.287752533865383, 13.759463787905721, 14.242208726028718, 14.736114905275791, 15.241309882688338, 15.757921215307807, 16.286076460175593, 16.825903174333128, 17.37752891482182, 17.941081238683093], [13.742117306655627, 14.229958374689597, 14.729210415391972, 15.240005347521915, 15.76247508983861, 16.296751561101214, 16.84296668006891, 17.40125236550086, 17.971740536156258, 18.554563110794255], [12.539144498889566, 12.9842803908389, 13.439828348990925, 13.905908744053178, 14.382641946733209, 14.870148327738555, 15.368548257776766, 15.877962107555387, 16.398510247781985, 16.930313049164063], [12.892030873141804, 13.349694126186105, 13.818062469912647, 14.297259662595188, 14.787409462507528, 15.288635627923455, 15.801061917116744, 16.32481208836116, 16.860009899930535, 17.40677911009859], [12.765299549014562, 13.21846387782936, 13.68222806407568, 14.156714649457921, 14.642046175680518, 15.138345184447845, 15.645734217464332, 16.164335816434402, 16.694272523062466, 17.235666879052907]], 'liq_amo_cryst_loose_V': [[8.406153645561451, 8.704569594210222, 9.009965718282869, 9.322422713449026, 9.642021275378335, 9.968842099740433, 10.302965882204964, 10.644473318441568, 10.993445104119884, 11.349961934909562], [17.294465307055443, 17.90841367019335, 18.536722751299962, 19.17955857023614, 19.837087146862817, 20.509474501040916, 21.196886652631317, 21.899489621494958, 22.61744942749274, 23.350932090485585], [8.845462943895184, 9.159474241682222, 9.480830501940464, 9.809616637530835, 10.145917561314278, 10.489818186151735, 10.841403424904131, 11.200758190432424, 11.567967395597547, 11.943115953260422], [13.287752533865383, 13.759463787905721, 14.242208726028718, 14.736114905275791, 15.241309882688338, 15.757921215307807, 16.286076460175593, 16.825903174333128, 17.37752891482182, 17.941081238683093], [13.742117306655627, 14.229958374689597, 14.729210415391972, 15.240005347521915, 15.76247508983861, 16.296751561101214, 16.84296668006891, 17.40125236550086, 17.971740536156258, 18.554563110794255], [12.539144498889566, 12.9842803908389, 13.439828348990925, 13.905908744053178, 14.382641946733209, 14.870148327738555, 15.368548257776766, 15.877962107555387, 16.398510247781985, 16.930313049164063], [12.892030873141804, 13.349694126186105, 13.818062469912647, 14.297259662595188, 14.787409462507528, 15.288635627923455, 15.801061917116744, 16.32481208836116, 16.860009899930535, 17.40677911009859], [12.765299549014562, 13.21846387782936, 13.68222806407568, 14.156714649457921, 14.642046175680518, 15.138345184447845, 15.645734217464332, 16.164335816434402, 16.694272523062466, 17.235666879052907]], 'liq_amo_cryst_loose_E': [[-168.60516057829332, -168.6761871089022, -168.7285356717022, -168.76574246130525, -168.7862792248729, -168.7861493465487, -168.76252935936193, -168.71743968565744, -168.66039730225535, -168.6025427936475], [-168.79152465988741, -168.84834650662236, -168.89127071039366, -168.92131487384992, -168.93882601553935, -168.9388638537099, -168.91677929972383, -168.88033664419225, -168.83346619329242, -168.78147689735414], [-168.5451705294643, -168.57232418385234, -168.59313630061996, -168.61136296725192, -168.62355830766325, -168.62368976858582, -168.60847752165697, -168.581950245761, -168.55322672683573, -168.52463703976042], [-168.42054098300423, -168.4427880776708, -168.4746705721391, -168.50233880305743, -168.51950529898596, -168.51904810654426, -168.49530175150963, -168.43985193995718, -168.3632690556315, -168.27945645983016], [-168.60962456717678, -168.64844594604864, -168.6761238813957, -168.69300068882015, -168.7027775213882, -168.7027893610254, -168.69100692900855, -168.6682009739701, -168.63275564430324, -168.5832803400125], [-168.56497839887965, -168.62702953835282, -168.6790847661587, -168.71731344391372, -168.73852033165417, -168.7396985828878, -168.72694297221165, -168.70621735101236, -168.67863898131463, -168.64463338740617], [-168.61538104574458, -168.6697675201978, -168.71310892149984, -168.7423993733635, -168.75618308481566, -168.75631187647065, -168.7432503936089, -168.71842657710712, -168.68514810809253, -168.6452339931309], [-168.59132610800344, -168.65228515881566, -168.70251068944427, -168.73542427379564, -168.75110098144734, -168.75116632163594, -168.7383245785538, -168.71672706890345, -168.68664270321676, -168.64731899023622]], 'liq_amo_0.75loose_V': [[8.495818684515855, 8.797417715319487, 9.106071376253357, 9.421861223735144, 9.74486881418254, 10.075175704013239, 10.412863449644927, 10.758013607495306, 11.110707733982064, 11.471027385522877], [16.87367615373889, 17.472686627366016, 18.085708410393956, 18.712903483278193, 19.354433826474263, 20.010461420437615, 20.681148245623795, 21.366656282488268, 22.067147511486606, 22.782783913074198], [9.00026810359603, 9.319774938406985, 9.646755280469158, 9.981295528710312, 10.32348208205821, 10.673401339440602, 11.031139699785252, 11.396783562019921, 11.770419325072382, 12.152133387870371], [12.977457851426319, 13.438153736735018, 13.90962564829524, 14.39199816444513, 14.885395863522879, 15.389943323866653, 15.9057651238146, 16.432985841704916, 16.97173005587576, 17.522122344665288], [13.872100465334393, 14.36455589675512, 14.868530234304421, 15.384156644527135, 15.911568293968104, 16.45089834917216, 17.00227997668414, 17.5658463430489, 18.14173061481128, 18.730065958516104], [12.793549161910107, 13.24771634356184, 13.712506840133747, 14.18804346451505, 14.674449029595019, 15.171846348262905, 15.680358233407947, 16.200107497919404, 16.731216954686527, 17.27380941659856], [12.983045059486473, 13.44393928901583, 13.915614184218489, 14.398194377067552, 14.891804499536155, 15.396569183597338, 15.912613061224231, 16.440060764389955, 16.97903692506759, 17.529666175230247], [12.869697649830622, 13.326568080104629, 13.794125056334833, 14.27249212240507, 14.76179282219929, 15.26215069960133, 15.773689298495107, 16.296532162764496, 16.830802836293397, 17.376624862965652]], 'liq_amo_0.75loose_E': [[-168.53713282566392, -168.60333813051116, -168.65289422072277, -168.68916339091453, -168.70959087366114, -168.70949240284526, -168.68650317053755, -168.64501114387355, -168.59896967294975, -168.55540752671496], [-168.6580683555932, -168.73401291561456, -168.79412996943677, -168.83665027500848, -168.85914975155552, -168.8590728549455, -168.8245122827682, -168.75497534678018, -168.66144973395572, -168.5528117427552], [-168.51484346332649, -168.53571987754847, -168.55448707073552, -168.573098305128, -168.58592597222093, -168.58582016924092, -168.57074091932637, -168.54938689316916, -168.53149449715414, -168.52114168921904], [-168.38619106640942, -168.39016537382838, -168.4133813518263, -168.438701903536, -168.45436328017365, -168.4542584690681, -168.4332248879195, -168.38585458024681, -168.30561613585104, -168.2076953227916], [-168.5692274483907, -168.61016205379596, -168.63804901855676, -168.65491420117303, -168.66584314056254, -168.66561913666743, -168.65415180028702, -168.6327023266175, -168.59573877448543, -168.54373968969816], [-168.56318404924676, -168.6138347930809, -168.661897126126, -168.6950563333987, -168.71389675116444, -168.7142751822363, -168.69459162810134, -168.66127992568553, -168.61873202823338, -168.5689769856881], [-168.54885674050374, -168.5964145423946, -168.6371523880804, -168.6700934292521, -168.6862981754676, -168.68634359100034, -168.6726087362406, -168.64901242488648, -168.6189795927044, -168.57935677591502], [-168.5530809288474, -168.60690969194775, -168.65396585065668, -168.68613195733485, -168.70201898261087, -168.70208361151487, -168.68750144666097, -168.66068600110322, -168.62467315310946, -168.5815483923911]]}\n"
     ]
    }
   ],
   "source": [
    "Si_Cryst = CrystTest(pots[:2], 'Si')"
   ],
   "metadata": {
    "collapsed": false,
    "pycharm": {
     "name": "#%%\n"
    }
   }
  },
  {
   "cell_type": "code",
   "execution_count": null,
   "outputs": [],
   "source": [
    "Si_Cryst.add_pot(pots[4], opt=False)"
   ],
   "metadata": {
    "collapsed": false,
    "pycharm": {
     "name": "#%%\n"
    }
   }
  },
  {
   "cell_type": "code",
   "execution_count": 59,
   "outputs": [],
   "source": [
    "Si_Cryst.add_pot(pots[2], opt=False)"
   ],
   "metadata": {
    "collapsed": false,
    "pycharm": {
     "name": "#%%\n"
    }
   }
  },
  {
   "cell_type": "code",
   "execution_count": 60,
   "outputs": [],
   "source": [
    "Si_Cryst.add_pot(pots[3], opt=False)"
   ],
   "metadata": {
    "collapsed": false,
    "pycharm": {
     "name": "#%%\n"
    }
   }
  },
  {
   "cell_type": "code",
   "execution_count": 75,
   "outputs": [],
   "source": [
    "Si_Cryst.add_pot(pots[5], opt=False)"
   ],
   "metadata": {
    "collapsed": false,
    "pycharm": {
     "name": "#%%\n"
    }
   }
  },
  {
   "cell_type": "code",
   "execution_count": 84,
   "outputs": [],
   "source": [
    "Si_Cryst.add_pot(pots[6], opt=False)"
   ],
   "metadata": {
    "collapsed": false,
    "pycharm": {
     "name": "#%%\n"
    }
   }
  },
  {
   "cell_type": "code",
   "execution_count": 9,
   "outputs": [
    {
     "name": "stderr",
     "output_type": "stream",
     "text": [
      "<ipython-input-4-db03d9561be4>:232: UserWarning: Warning: pot 'MTP_26_rb_8_min' failed to converge on structure Atoms(symbols='Si4', pbc=True, cell=[2.8580973065498347, 2.858097306549893, 2.8580973065511794], calculator=MTP(...))\n",
      "in 100 steps\n",
      "  warnings.warn(('Warning: pot \\'{}\\' failed to converge on structure {}\\n' +\\\n"
     ]
    },
    {
     "ename": "TimeoutExpired",
     "evalue": "Command '['mlp', 'calc-efs', '/home/joe/Documents/Ge_od/Potentials/Si_myDB_supercrystals/MTP/Si_myDB_liqamocryst_train_26_rb_8_min.mtp', '/tmp/tmpwq4ml29h.cfg', '/tmp/tmp0bo6q31m.cfg']' timed out after 10 seconds",
     "output_type": "error",
     "traceback": [
      "\u001B[0;31m---------------------------------------------------------------------------\u001B[0m",
      "\u001B[0;31mTimeoutExpired\u001B[0m                            Traceback (most recent call last)",
      "\u001B[0;32m<ipython-input-9-1644a2d9de97>\u001B[0m in \u001B[0;36m<module>\u001B[0;34m\u001B[0m\n\u001B[0;32m----> 1\u001B[0;31m \u001B[0mSi_Cryst\u001B[0m\u001B[0;34m.\u001B[0m\u001B[0madd_pot\u001B[0m\u001B[0;34m(\u001B[0m\u001B[0mpots\u001B[0m\u001B[0;34m[\u001B[0m\u001B[0;34m-\u001B[0m\u001B[0;36m1\u001B[0m\u001B[0;34m]\u001B[0m\u001B[0;34m,\u001B[0m \u001B[0mopt\u001B[0m\u001B[0;34m=\u001B[0m\u001B[0;32mTrue\u001B[0m\u001B[0;34m)\u001B[0m\u001B[0;34m\u001B[0m\u001B[0;34m\u001B[0m\u001B[0m\n\u001B[0m\u001B[1;32m      2\u001B[0m \u001B[0;34m\u001B[0m\u001B[0m\n",
      "\u001B[0;32m<ipython-input-4-db03d9561be4>\u001B[0m in \u001B[0;36madd_pot\u001B[0;34m(self, pot, opt, steps, n)\u001B[0m\n\u001B[1;32m    228\u001B[0m                     \u001B[0muf\u001B[0m \u001B[0;34m=\u001B[0m \u001B[0mStrainFilter\u001B[0m\u001B[0;34m(\u001B[0m\u001B[0mval\u001B[0m\u001B[0;34m)\u001B[0m\u001B[0;34m\u001B[0m\u001B[0;34m\u001B[0m\u001B[0m\n\u001B[1;32m    229\u001B[0m                     \u001B[0mopt\u001B[0m \u001B[0;34m=\u001B[0m \u001B[0mBFGS\u001B[0m\u001B[0;34m(\u001B[0m\u001B[0muf\u001B[0m\u001B[0;34m,\u001B[0m \u001B[0mlogfile\u001B[0m\u001B[0;34m=\u001B[0m\u001B[0;34m'/dev/null'\u001B[0m\u001B[0;34m)\u001B[0m\u001B[0;34m\u001B[0m\u001B[0;34m\u001B[0m\u001B[0m\n\u001B[0;32m--> 230\u001B[0;31m                     \u001B[0mopt\u001B[0m\u001B[0;34m.\u001B[0m\u001B[0mrun\u001B[0m\u001B[0;34m(\u001B[0m\u001B[0;36m0.05\u001B[0m\u001B[0;34m,\u001B[0m \u001B[0msteps\u001B[0m\u001B[0;34m=\u001B[0m\u001B[0msteps\u001B[0m\u001B[0;34m)\u001B[0m\u001B[0;34m\u001B[0m\u001B[0;34m\u001B[0m\u001B[0m\n\u001B[0m\u001B[1;32m    231\u001B[0m                     \u001B[0;32mif\u001B[0m \u001B[0;32mnot\u001B[0m \u001B[0mopt\u001B[0m\u001B[0;34m.\u001B[0m\u001B[0mconverged\u001B[0m\u001B[0;34m(\u001B[0m\u001B[0;34m)\u001B[0m\u001B[0;34m:\u001B[0m\u001B[0;34m\u001B[0m\u001B[0;34m\u001B[0m\u001B[0m\n\u001B[1;32m    232\u001B[0m                         warnings.warn(('Warning: pot \\'{}\\' failed to converge on structure {}\\n' +\\\n",
      "\u001B[0;32m~/ase/ase/optimize/optimize.py\u001B[0m in \u001B[0;36mrun\u001B[0;34m(self, fmax, steps)\u001B[0m\n\u001B[1;32m    292\u001B[0m         \u001B[0;32mif\u001B[0m \u001B[0msteps\u001B[0m\u001B[0;34m:\u001B[0m\u001B[0;34m\u001B[0m\u001B[0;34m\u001B[0m\u001B[0m\n\u001B[1;32m    293\u001B[0m             \u001B[0mself\u001B[0m\u001B[0;34m.\u001B[0m\u001B[0mmax_steps\u001B[0m \u001B[0;34m=\u001B[0m \u001B[0msteps\u001B[0m\u001B[0;34m\u001B[0m\u001B[0;34m\u001B[0m\u001B[0m\n\u001B[0;32m--> 294\u001B[0;31m         \u001B[0;32mreturn\u001B[0m \u001B[0mDynamics\u001B[0m\u001B[0;34m.\u001B[0m\u001B[0mrun\u001B[0m\u001B[0;34m(\u001B[0m\u001B[0mself\u001B[0m\u001B[0;34m)\u001B[0m\u001B[0;34m\u001B[0m\u001B[0;34m\u001B[0m\u001B[0m\n\u001B[0m\u001B[1;32m    295\u001B[0m \u001B[0;34m\u001B[0m\u001B[0m\n\u001B[1;32m    296\u001B[0m     \u001B[0;32mdef\u001B[0m \u001B[0mconverged\u001B[0m\u001B[0;34m(\u001B[0m\u001B[0mself\u001B[0m\u001B[0;34m,\u001B[0m \u001B[0mforces\u001B[0m\u001B[0;34m=\u001B[0m\u001B[0;32mNone\u001B[0m\u001B[0;34m)\u001B[0m\u001B[0;34m:\u001B[0m\u001B[0;34m\u001B[0m\u001B[0;34m\u001B[0m\u001B[0m\n",
      "\u001B[0;32m~/ase/ase/optimize/optimize.py\u001B[0m in \u001B[0;36mrun\u001B[0;34m(self)\u001B[0m\n\u001B[1;32m    179\u001B[0m         *steps*.\"\"\"\n\u001B[1;32m    180\u001B[0m \u001B[0;34m\u001B[0m\u001B[0m\n\u001B[0;32m--> 181\u001B[0;31m         \u001B[0;32mfor\u001B[0m \u001B[0mconverged\u001B[0m \u001B[0;32min\u001B[0m \u001B[0mDynamics\u001B[0m\u001B[0;34m.\u001B[0m\u001B[0mirun\u001B[0m\u001B[0;34m(\u001B[0m\u001B[0mself\u001B[0m\u001B[0;34m)\u001B[0m\u001B[0;34m:\u001B[0m\u001B[0;34m\u001B[0m\u001B[0;34m\u001B[0m\u001B[0m\n\u001B[0m\u001B[1;32m    182\u001B[0m             \u001B[0;32mpass\u001B[0m\u001B[0;34m\u001B[0m\u001B[0;34m\u001B[0m\u001B[0m\n\u001B[1;32m    183\u001B[0m         \u001B[0;32mreturn\u001B[0m \u001B[0mconverged\u001B[0m\u001B[0;34m\u001B[0m\u001B[0;34m\u001B[0m\u001B[0m\n",
      "\u001B[0;32m~/ase/ase/optimize/optimize.py\u001B[0m in \u001B[0;36mirun\u001B[0;34m(self)\u001B[0m\n\u001B[1;32m    166\u001B[0m \u001B[0;34m\u001B[0m\u001B[0m\n\u001B[1;32m    167\u001B[0m             \u001B[0;31m# log the step\u001B[0m\u001B[0;34m\u001B[0m\u001B[0;34m\u001B[0m\u001B[0;34m\u001B[0m\u001B[0m\n\u001B[0;32m--> 168\u001B[0;31m             \u001B[0mself\u001B[0m\u001B[0;34m.\u001B[0m\u001B[0mlog\u001B[0m\u001B[0;34m(\u001B[0m\u001B[0;34m)\u001B[0m\u001B[0;34m\u001B[0m\u001B[0;34m\u001B[0m\u001B[0m\n\u001B[0m\u001B[1;32m    169\u001B[0m             \u001B[0mself\u001B[0m\u001B[0;34m.\u001B[0m\u001B[0mcall_observers\u001B[0m\u001B[0;34m(\u001B[0m\u001B[0;34m)\u001B[0m\u001B[0;34m\u001B[0m\u001B[0;34m\u001B[0m\u001B[0m\n\u001B[1;32m    170\u001B[0m \u001B[0;34m\u001B[0m\u001B[0m\n",
      "\u001B[0;32m~/ase/ase/optimize/optimize.py\u001B[0m in \u001B[0;36mlog\u001B[0;34m(self, forces)\u001B[0m\n\u001B[1;32m    306\u001B[0m     \u001B[0;32mdef\u001B[0m \u001B[0mlog\u001B[0m\u001B[0;34m(\u001B[0m\u001B[0mself\u001B[0m\u001B[0;34m,\u001B[0m \u001B[0mforces\u001B[0m\u001B[0;34m=\u001B[0m\u001B[0;32mNone\u001B[0m\u001B[0;34m)\u001B[0m\u001B[0;34m:\u001B[0m\u001B[0;34m\u001B[0m\u001B[0;34m\u001B[0m\u001B[0m\n\u001B[1;32m    307\u001B[0m         \u001B[0;32mif\u001B[0m \u001B[0mforces\u001B[0m \u001B[0;32mis\u001B[0m \u001B[0;32mNone\u001B[0m\u001B[0;34m:\u001B[0m\u001B[0;34m\u001B[0m\u001B[0;34m\u001B[0m\u001B[0m\n\u001B[0;32m--> 308\u001B[0;31m             \u001B[0mforces\u001B[0m \u001B[0;34m=\u001B[0m \u001B[0mself\u001B[0m\u001B[0;34m.\u001B[0m\u001B[0matoms\u001B[0m\u001B[0;34m.\u001B[0m\u001B[0mget_forces\u001B[0m\u001B[0;34m(\u001B[0m\u001B[0;34m)\u001B[0m\u001B[0;34m\u001B[0m\u001B[0;34m\u001B[0m\u001B[0m\n\u001B[0m\u001B[1;32m    309\u001B[0m         \u001B[0mfmax\u001B[0m \u001B[0;34m=\u001B[0m \u001B[0msqrt\u001B[0m\u001B[0;34m(\u001B[0m\u001B[0;34m(\u001B[0m\u001B[0mforces\u001B[0m \u001B[0;34m**\u001B[0m \u001B[0;36m2\u001B[0m\u001B[0;34m)\u001B[0m\u001B[0;34m.\u001B[0m\u001B[0msum\u001B[0m\u001B[0;34m(\u001B[0m\u001B[0maxis\u001B[0m\u001B[0;34m=\u001B[0m\u001B[0;36m1\u001B[0m\u001B[0;34m)\u001B[0m\u001B[0;34m.\u001B[0m\u001B[0mmax\u001B[0m\u001B[0;34m(\u001B[0m\u001B[0;34m)\u001B[0m\u001B[0;34m)\u001B[0m\u001B[0;34m\u001B[0m\u001B[0;34m\u001B[0m\u001B[0m\n\u001B[1;32m    310\u001B[0m         e = self.atoms.get_potential_energy(\n",
      "\u001B[0;32m~/ase/ase/constraints.py\u001B[0m in \u001B[0;36mget_forces\u001B[0;34m(self, **kwargs)\u001B[0m\n\u001B[1;32m   2231\u001B[0m \u001B[0;34m\u001B[0m\u001B[0m\n\u001B[1;32m   2232\u001B[0m     \u001B[0;32mdef\u001B[0m \u001B[0mget_forces\u001B[0m\u001B[0;34m(\u001B[0m\u001B[0mself\u001B[0m\u001B[0;34m,\u001B[0m \u001B[0;34m**\u001B[0m\u001B[0mkwargs\u001B[0m\u001B[0;34m)\u001B[0m\u001B[0;34m:\u001B[0m\u001B[0;34m\u001B[0m\u001B[0;34m\u001B[0m\u001B[0m\n\u001B[0;32m-> 2233\u001B[0;31m         \u001B[0mstress\u001B[0m \u001B[0;34m=\u001B[0m \u001B[0mself\u001B[0m\u001B[0;34m.\u001B[0m\u001B[0matoms\u001B[0m\u001B[0;34m.\u001B[0m\u001B[0mget_stress\u001B[0m\u001B[0;34m(\u001B[0m\u001B[0minclude_ideal_gas\u001B[0m\u001B[0;34m=\u001B[0m\u001B[0mself\u001B[0m\u001B[0;34m.\u001B[0m\u001B[0minclude_ideal_gas\u001B[0m\u001B[0;34m)\u001B[0m\u001B[0;34m\u001B[0m\u001B[0;34m\u001B[0m\u001B[0m\n\u001B[0m\u001B[1;32m   2234\u001B[0m         \u001B[0;32mreturn\u001B[0m \u001B[0;34m-\u001B[0m\u001B[0mself\u001B[0m\u001B[0;34m.\u001B[0m\u001B[0matoms\u001B[0m\u001B[0;34m.\u001B[0m\u001B[0mget_volume\u001B[0m\u001B[0;34m(\u001B[0m\u001B[0;34m)\u001B[0m \u001B[0;34m*\u001B[0m \u001B[0;34m(\u001B[0m\u001B[0mstress\u001B[0m \u001B[0;34m*\u001B[0m \u001B[0mself\u001B[0m\u001B[0;34m.\u001B[0m\u001B[0mmask\u001B[0m\u001B[0;34m)\u001B[0m\u001B[0;34m.\u001B[0m\u001B[0mreshape\u001B[0m\u001B[0;34m(\u001B[0m\u001B[0;34m(\u001B[0m\u001B[0;36m2\u001B[0m\u001B[0;34m,\u001B[0m \u001B[0;36m3\u001B[0m\u001B[0;34m)\u001B[0m\u001B[0;34m)\u001B[0m\u001B[0;34m\u001B[0m\u001B[0;34m\u001B[0m\u001B[0m\n\u001B[1;32m   2235\u001B[0m \u001B[0;34m\u001B[0m\u001B[0m\n",
      "\u001B[0;32m~/ase/ase/atoms.py\u001B[0m in \u001B[0;36mget_stress\u001B[0;34m(self, voigt, apply_constraint, include_ideal_gas)\u001B[0m\n\u001B[1;32m    820\u001B[0m             \u001B[0;32mraise\u001B[0m \u001B[0mRuntimeError\u001B[0m\u001B[0;34m(\u001B[0m\u001B[0;34m'Atoms object has no calculator.'\u001B[0m\u001B[0;34m)\u001B[0m\u001B[0;34m\u001B[0m\u001B[0;34m\u001B[0m\u001B[0m\n\u001B[1;32m    821\u001B[0m \u001B[0;34m\u001B[0m\u001B[0m\n\u001B[0;32m--> 822\u001B[0;31m         \u001B[0mstress\u001B[0m \u001B[0;34m=\u001B[0m \u001B[0mself\u001B[0m\u001B[0;34m.\u001B[0m\u001B[0m_calc\u001B[0m\u001B[0;34m.\u001B[0m\u001B[0mget_stress\u001B[0m\u001B[0;34m(\u001B[0m\u001B[0mself\u001B[0m\u001B[0;34m)\u001B[0m\u001B[0;34m\u001B[0m\u001B[0;34m\u001B[0m\u001B[0m\n\u001B[0m\u001B[1;32m    823\u001B[0m         \u001B[0mshape\u001B[0m \u001B[0;34m=\u001B[0m \u001B[0mstress\u001B[0m\u001B[0;34m.\u001B[0m\u001B[0mshape\u001B[0m\u001B[0;34m\u001B[0m\u001B[0;34m\u001B[0m\u001B[0m\n\u001B[1;32m    824\u001B[0m \u001B[0;34m\u001B[0m\u001B[0m\n",
      "\u001B[0;32m~/ase/ase/calculators/abc.py\u001B[0m in \u001B[0;36mget_stress\u001B[0;34m(self, atoms)\u001B[0m\n\u001B[1;32m     24\u001B[0m \u001B[0;34m\u001B[0m\u001B[0m\n\u001B[1;32m     25\u001B[0m     \u001B[0;32mdef\u001B[0m \u001B[0mget_stress\u001B[0m\u001B[0;34m(\u001B[0m\u001B[0mself\u001B[0m\u001B[0;34m,\u001B[0m \u001B[0matoms\u001B[0m\u001B[0;34m=\u001B[0m\u001B[0;32mNone\u001B[0m\u001B[0;34m)\u001B[0m\u001B[0;34m:\u001B[0m\u001B[0;34m\u001B[0m\u001B[0;34m\u001B[0m\u001B[0m\n\u001B[0;32m---> 26\u001B[0;31m         \u001B[0;32mreturn\u001B[0m \u001B[0mself\u001B[0m\u001B[0;34m.\u001B[0m\u001B[0mget_property\u001B[0m\u001B[0;34m(\u001B[0m\u001B[0;34m'stress'\u001B[0m\u001B[0;34m,\u001B[0m \u001B[0matoms\u001B[0m\u001B[0;34m)\u001B[0m\u001B[0;34m\u001B[0m\u001B[0;34m\u001B[0m\u001B[0m\n\u001B[0m\u001B[1;32m     27\u001B[0m \u001B[0;34m\u001B[0m\u001B[0m\n\u001B[1;32m     28\u001B[0m     \u001B[0;32mdef\u001B[0m \u001B[0mget_stresses\u001B[0m\u001B[0;34m(\u001B[0m\u001B[0mself\u001B[0m\u001B[0;34m,\u001B[0m \u001B[0matoms\u001B[0m\u001B[0;34m=\u001B[0m\u001B[0;32mNone\u001B[0m\u001B[0;34m)\u001B[0m\u001B[0;34m:\u001B[0m\u001B[0;34m\u001B[0m\u001B[0;34m\u001B[0m\u001B[0m\n",
      "\u001B[0;32m~/ase/ase/calculators/calculator.py\u001B[0m in \u001B[0;36mget_property\u001B[0;34m(self, name, atoms, allow_calculation)\u001B[0m\n\u001B[1;32m    734\u001B[0m             \u001B[0;32mif\u001B[0m \u001B[0;32mnot\u001B[0m \u001B[0mallow_calculation\u001B[0m\u001B[0;34m:\u001B[0m\u001B[0;34m\u001B[0m\u001B[0;34m\u001B[0m\u001B[0m\n\u001B[1;32m    735\u001B[0m                 \u001B[0;32mreturn\u001B[0m \u001B[0;32mNone\u001B[0m\u001B[0;34m\u001B[0m\u001B[0;34m\u001B[0m\u001B[0m\n\u001B[0;32m--> 736\u001B[0;31m             \u001B[0mself\u001B[0m\u001B[0;34m.\u001B[0m\u001B[0mcalculate\u001B[0m\u001B[0;34m(\u001B[0m\u001B[0matoms\u001B[0m\u001B[0;34m,\u001B[0m \u001B[0;34m[\u001B[0m\u001B[0mname\u001B[0m\u001B[0;34m]\u001B[0m\u001B[0;34m,\u001B[0m \u001B[0msystem_changes\u001B[0m\u001B[0;34m)\u001B[0m\u001B[0;34m\u001B[0m\u001B[0;34m\u001B[0m\u001B[0m\n\u001B[0m\u001B[1;32m    737\u001B[0m \u001B[0;34m\u001B[0m\u001B[0m\n\u001B[1;32m    738\u001B[0m         \u001B[0;32mif\u001B[0m \u001B[0mname\u001B[0m \u001B[0;32mnot\u001B[0m \u001B[0;32min\u001B[0m \u001B[0mself\u001B[0m\u001B[0;34m.\u001B[0m\u001B[0mresults\u001B[0m\u001B[0;34m:\u001B[0m\u001B[0;34m\u001B[0m\u001B[0;34m\u001B[0m\u001B[0m\n",
      "\u001B[0;32m~/PycharmProjects/Ge_analysis_local/mtp.py\u001B[0m in \u001B[0;36mcalculate\u001B[0;34m(self, atoms, properties, system_changes)\u001B[0m\n\u001B[1;32m    423\u001B[0m             \u001B[0moutput\u001B[0m \u001B[0;34m=\u001B[0m \u001B[0mNamedTemporaryFile\u001B[0m\u001B[0;34m(\u001B[0m\u001B[0mmode\u001B[0m\u001B[0;34m=\u001B[0m\u001B[0;34m'w+'\u001B[0m\u001B[0;34m,\u001B[0m \u001B[0msuffix\u001B[0m\u001B[0;34m=\u001B[0m\u001B[0;34m'.cfg'\u001B[0m\u001B[0;34m)\u001B[0m\u001B[0;34m\u001B[0m\u001B[0;34m\u001B[0m\u001B[0m\n\u001B[1;32m    424\u001B[0m             \u001B[0mself\u001B[0m\u001B[0;34m.\u001B[0m\u001B[0mwrite_input\u001B[0m\u001B[0;34m(\u001B[0m\u001B[0minput\u001B[0m\u001B[0;34m)\u001B[0m\u001B[0;34m\u001B[0m\u001B[0;34m\u001B[0m\u001B[0m\n\u001B[0;32m--> 425\u001B[0;31m             \u001B[0mself\u001B[0m\u001B[0;34m.\u001B[0m\u001B[0mrun\u001B[0m\u001B[0;34m(\u001B[0m\u001B[0minput\u001B[0m\u001B[0;34m,\u001B[0m \u001B[0moutput\u001B[0m\u001B[0;34m)\u001B[0m\u001B[0;34m\u001B[0m\u001B[0;34m\u001B[0m\u001B[0m\n\u001B[0m\u001B[1;32m    426\u001B[0m             \u001B[0mself\u001B[0m\u001B[0;34m.\u001B[0m\u001B[0mread_results\u001B[0m\u001B[0;34m(\u001B[0m\u001B[0moutput\u001B[0m\u001B[0;34m)\u001B[0m\u001B[0;34m\u001B[0m\u001B[0;34m\u001B[0m\u001B[0m\n\u001B[1;32m    427\u001B[0m \u001B[0;34m\u001B[0m\u001B[0m\n",
      "\u001B[0;32m~/PycharmProjects/Ge_analysis_local/mtp.py\u001B[0m in \u001B[0;36mrun\u001B[0;34m(self, input, output)\u001B[0m\n\u001B[1;32m    440\u001B[0m         \u001B[0mself\u001B[0m\u001B[0;34m.\u001B[0m\u001B[0m_calls\u001B[0m \u001B[0;34m+=\u001B[0m \u001B[0;36m1\u001B[0m\u001B[0;34m\u001B[0m\u001B[0;34m\u001B[0m\u001B[0m\n\u001B[1;32m    441\u001B[0m         \u001B[0mefs_command\u001B[0m \u001B[0;34m=\u001B[0m \u001B[0;34m[\u001B[0m\u001B[0mself\u001B[0m\u001B[0;34m.\u001B[0m\u001B[0mcommand\u001B[0m\u001B[0;34m,\u001B[0m \u001B[0;34m'calc-efs'\u001B[0m\u001B[0;34m,\u001B[0m \u001B[0mself\u001B[0m\u001B[0;34m.\u001B[0m\u001B[0mpotential_file\u001B[0m\u001B[0;34m,\u001B[0m \u001B[0minput\u001B[0m\u001B[0;34m.\u001B[0m\u001B[0mname\u001B[0m\u001B[0;34m,\u001B[0m \u001B[0moutput\u001B[0m\u001B[0;34m.\u001B[0m\u001B[0mname\u001B[0m\u001B[0;34m]\u001B[0m\u001B[0;34m\u001B[0m\u001B[0;34m\u001B[0m\u001B[0m\n\u001B[0;32m--> 442\u001B[0;31m         \u001B[0mout\u001B[0m \u001B[0;34m=\u001B[0m \u001B[0msubprocess\u001B[0m\u001B[0;34m.\u001B[0m\u001B[0mrun\u001B[0m\u001B[0;34m(\u001B[0m\u001B[0mefs_command\u001B[0m\u001B[0;34m,\u001B[0m \u001B[0mcapture_output\u001B[0m\u001B[0;34m=\u001B[0m\u001B[0;32mTrue\u001B[0m\u001B[0;34m,\u001B[0m \u001B[0mtext\u001B[0m\u001B[0;34m=\u001B[0m\u001B[0;32mTrue\u001B[0m\u001B[0;34m,\u001B[0m \u001B[0mtimeout\u001B[0m\u001B[0;34m=\u001B[0m\u001B[0;36m10\u001B[0m\u001B[0;34m)\u001B[0m\u001B[0;34m\u001B[0m\u001B[0;34m\u001B[0m\u001B[0m\n\u001B[0m\u001B[1;32m    443\u001B[0m \u001B[0;34m\u001B[0m\u001B[0m\n\u001B[1;32m    444\u001B[0m         \u001B[0;32mif\u001B[0m \u001B[0mout\u001B[0m\u001B[0;34m.\u001B[0m\u001B[0mstdout\u001B[0m\u001B[0;34m:\u001B[0m\u001B[0;34m\u001B[0m\u001B[0;34m\u001B[0m\u001B[0m\n",
      "\u001B[0;32m~/miniconda3/envs/Q/lib/python3.8/subprocess.py\u001B[0m in \u001B[0;36mrun\u001B[0;34m(input, capture_output, timeout, check, *popenargs, **kwargs)\u001B[0m\n\u001B[1;32m    489\u001B[0m     \u001B[0;32mwith\u001B[0m \u001B[0mPopen\u001B[0m\u001B[0;34m(\u001B[0m\u001B[0;34m*\u001B[0m\u001B[0mpopenargs\u001B[0m\u001B[0;34m,\u001B[0m \u001B[0;34m**\u001B[0m\u001B[0mkwargs\u001B[0m\u001B[0;34m)\u001B[0m \u001B[0;32mas\u001B[0m \u001B[0mprocess\u001B[0m\u001B[0;34m:\u001B[0m\u001B[0;34m\u001B[0m\u001B[0;34m\u001B[0m\u001B[0m\n\u001B[1;32m    490\u001B[0m         \u001B[0;32mtry\u001B[0m\u001B[0;34m:\u001B[0m\u001B[0;34m\u001B[0m\u001B[0;34m\u001B[0m\u001B[0m\n\u001B[0;32m--> 491\u001B[0;31m             \u001B[0mstdout\u001B[0m\u001B[0;34m,\u001B[0m \u001B[0mstderr\u001B[0m \u001B[0;34m=\u001B[0m \u001B[0mprocess\u001B[0m\u001B[0;34m.\u001B[0m\u001B[0mcommunicate\u001B[0m\u001B[0;34m(\u001B[0m\u001B[0minput\u001B[0m\u001B[0;34m,\u001B[0m \u001B[0mtimeout\u001B[0m\u001B[0;34m=\u001B[0m\u001B[0mtimeout\u001B[0m\u001B[0;34m)\u001B[0m\u001B[0;34m\u001B[0m\u001B[0;34m\u001B[0m\u001B[0m\n\u001B[0m\u001B[1;32m    492\u001B[0m         \u001B[0;32mexcept\u001B[0m \u001B[0mTimeoutExpired\u001B[0m \u001B[0;32mas\u001B[0m \u001B[0mexc\u001B[0m\u001B[0;34m:\u001B[0m\u001B[0;34m\u001B[0m\u001B[0;34m\u001B[0m\u001B[0m\n\u001B[1;32m    493\u001B[0m             \u001B[0mprocess\u001B[0m\u001B[0;34m.\u001B[0m\u001B[0mkill\u001B[0m\u001B[0;34m(\u001B[0m\u001B[0;34m)\u001B[0m\u001B[0;34m\u001B[0m\u001B[0;34m\u001B[0m\u001B[0m\n",
      "\u001B[0;32m~/miniconda3/envs/Q/lib/python3.8/subprocess.py\u001B[0m in \u001B[0;36mcommunicate\u001B[0;34m(self, input, timeout)\u001B[0m\n\u001B[1;32m   1022\u001B[0m \u001B[0;34m\u001B[0m\u001B[0m\n\u001B[1;32m   1023\u001B[0m             \u001B[0;32mtry\u001B[0m\u001B[0;34m:\u001B[0m\u001B[0;34m\u001B[0m\u001B[0;34m\u001B[0m\u001B[0m\n\u001B[0;32m-> 1024\u001B[0;31m                 \u001B[0mstdout\u001B[0m\u001B[0;34m,\u001B[0m \u001B[0mstderr\u001B[0m \u001B[0;34m=\u001B[0m \u001B[0mself\u001B[0m\u001B[0;34m.\u001B[0m\u001B[0m_communicate\u001B[0m\u001B[0;34m(\u001B[0m\u001B[0minput\u001B[0m\u001B[0;34m,\u001B[0m \u001B[0mendtime\u001B[0m\u001B[0;34m,\u001B[0m \u001B[0mtimeout\u001B[0m\u001B[0;34m)\u001B[0m\u001B[0;34m\u001B[0m\u001B[0;34m\u001B[0m\u001B[0m\n\u001B[0m\u001B[1;32m   1025\u001B[0m             \u001B[0;32mexcept\u001B[0m \u001B[0mKeyboardInterrupt\u001B[0m\u001B[0;34m:\u001B[0m\u001B[0;34m\u001B[0m\u001B[0;34m\u001B[0m\u001B[0m\n\u001B[1;32m   1026\u001B[0m                 \u001B[0;31m# https://bugs.python.org/issue25942\u001B[0m\u001B[0;34m\u001B[0m\u001B[0;34m\u001B[0m\u001B[0;34m\u001B[0m\u001B[0m\n",
      "\u001B[0;32m~/miniconda3/envs/Q/lib/python3.8/subprocess.py\u001B[0m in \u001B[0;36m_communicate\u001B[0;34m(self, input, endtime, orig_timeout)\u001B[0m\n\u001B[1;32m   1865\u001B[0m \u001B[0;34m\u001B[0m\u001B[0m\n\u001B[1;32m   1866\u001B[0m                     \u001B[0mready\u001B[0m \u001B[0;34m=\u001B[0m \u001B[0mselector\u001B[0m\u001B[0;34m.\u001B[0m\u001B[0mselect\u001B[0m\u001B[0;34m(\u001B[0m\u001B[0mtimeout\u001B[0m\u001B[0;34m)\u001B[0m\u001B[0;34m\u001B[0m\u001B[0;34m\u001B[0m\u001B[0m\n\u001B[0;32m-> 1867\u001B[0;31m                     \u001B[0mself\u001B[0m\u001B[0;34m.\u001B[0m\u001B[0m_check_timeout\u001B[0m\u001B[0;34m(\u001B[0m\u001B[0mendtime\u001B[0m\u001B[0;34m,\u001B[0m \u001B[0morig_timeout\u001B[0m\u001B[0;34m,\u001B[0m \u001B[0mstdout\u001B[0m\u001B[0;34m,\u001B[0m \u001B[0mstderr\u001B[0m\u001B[0;34m)\u001B[0m\u001B[0;34m\u001B[0m\u001B[0;34m\u001B[0m\u001B[0m\n\u001B[0m\u001B[1;32m   1868\u001B[0m \u001B[0;34m\u001B[0m\u001B[0m\n\u001B[1;32m   1869\u001B[0m                     \u001B[0;31m# XXX Rewrite these to use non-blocking I/O on the file\u001B[0m\u001B[0;34m\u001B[0m\u001B[0;34m\u001B[0m\u001B[0;34m\u001B[0m\u001B[0m\n",
      "\u001B[0;32m~/miniconda3/envs/Q/lib/python3.8/subprocess.py\u001B[0m in \u001B[0;36m_check_timeout\u001B[0;34m(self, endtime, orig_timeout, stdout_seq, stderr_seq, skip_check_and_raise)\u001B[0m\n\u001B[1;32m   1066\u001B[0m             \u001B[0;32mreturn\u001B[0m\u001B[0;34m\u001B[0m\u001B[0;34m\u001B[0m\u001B[0m\n\u001B[1;32m   1067\u001B[0m         \u001B[0;32mif\u001B[0m \u001B[0mskip_check_and_raise\u001B[0m \u001B[0;32mor\u001B[0m \u001B[0m_time\u001B[0m\u001B[0;34m(\u001B[0m\u001B[0;34m)\u001B[0m \u001B[0;34m>\u001B[0m \u001B[0mendtime\u001B[0m\u001B[0;34m:\u001B[0m\u001B[0;34m\u001B[0m\u001B[0;34m\u001B[0m\u001B[0m\n\u001B[0;32m-> 1068\u001B[0;31m             raise TimeoutExpired(\n\u001B[0m\u001B[1;32m   1069\u001B[0m                     \u001B[0mself\u001B[0m\u001B[0;34m.\u001B[0m\u001B[0margs\u001B[0m\u001B[0;34m,\u001B[0m \u001B[0morig_timeout\u001B[0m\u001B[0;34m,\u001B[0m\u001B[0;34m\u001B[0m\u001B[0;34m\u001B[0m\u001B[0m\n\u001B[1;32m   1070\u001B[0m                     \u001B[0moutput\u001B[0m\u001B[0;34m=\u001B[0m\u001B[0;34mb''\u001B[0m\u001B[0;34m.\u001B[0m\u001B[0mjoin\u001B[0m\u001B[0;34m(\u001B[0m\u001B[0mstdout_seq\u001B[0m\u001B[0;34m)\u001B[0m \u001B[0;32mif\u001B[0m \u001B[0mstdout_seq\u001B[0m \u001B[0;32melse\u001B[0m \u001B[0;32mNone\u001B[0m\u001B[0;34m,\u001B[0m\u001B[0;34m\u001B[0m\u001B[0;34m\u001B[0m\u001B[0m\n",
      "\u001B[0;31mTimeoutExpired\u001B[0m: Command '['mlp', 'calc-efs', '/home/joe/Documents/Ge_od/Potentials/Si_myDB_supercrystals/MTP/Si_myDB_liqamocryst_train_26_rb_8_min.mtp', '/tmp/tmpwq4ml29h.cfg', '/tmp/tmp0bo6q31m.cfg']' timed out after 10 seconds"
     ]
    }
   ],
   "source": [
    "Si_Cryst.add_pot(pots[-1], opt=True)"
   ],
   "metadata": {
    "collapsed": false,
    "pycharm": {
     "name": "#%%\n"
    }
   }
  },
  {
   "cell_type": "code",
   "execution_count": 104,
   "outputs": [
    {
     "data": {
      "text/plain": "                                             Structure  \\\nfcc  (Atom('Si', [0.0, 0.0, 0.0], index=0), Atom('S...   \n\n                                               Volumes  \\\nfcc  [8.406153645561451, 8.704569594210222, 9.00996...   \n\n                                 liq_amo_cryst_loose_V  \\\nfcc  [8.406153645561451, 8.704569594210222, 9.00996...   \n\n                                 liq_amo_cryst_loose_E  \\\nfcc  [-168.60516057829332, -168.6761871089022, -168...   \n\n                                   liq_amo_0.75loose_V  \\\nfcc  [8.495818684515855, 8.797417715319487, 9.10607...   \n\n                                   liq_amo_0.75loose_E  \\\nfcc  [-168.53713282566392, -168.60333813051116, -16...   \n\n                                          snap_shift_V  \\\nfcc  [8.406153645561451, 8.704569594210222, 9.00996...   \n\n                                          snap_shift_E  \\\nfcc  [-4.807385004518217, -4.468191134848084, -4.21...   \n\n                                           SNAP_myDB_V  \\\nfcc  [8.406153645561451, 8.704569594210222, 9.00996...   \n\n                                           SNAP_myDB_E  \\\nfcc  [821.9410650709559, 658.6374131410942, 513.690...   \n\n                                       SNAP_myDB_j12_V  \\\nfcc  [8.406153645561451, 8.704569594210222, 9.00996...   \n\n                                       SNAP_myDB_j12_E  \\\nfcc  [567.73518191036, 437.67155871913616, 323.8468...   \n\n                                    SNAP_myDB_noisol_V  \\\nfcc  [8.406153645561451, 8.704569594210222, 9.00996...   \n\n                                    SNAP_myDB_noisol_E  \\\nfcc  [821.9410650703342, 658.6374131405872, 513.690...   \n\n                                 SNAP_myDB_customreg_V  \\\nfcc  [8.406153645561451, 8.704569594210222, 9.00996...   \n\n                                 SNAP_myDB_customreg_E  \nfcc  [329.7637441899547, 263.1841459514398, 203.817...  ",
      "text/html": "<div>\n<style scoped>\n    .dataframe tbody tr th:only-of-type {\n        vertical-align: middle;\n    }\n\n    .dataframe tbody tr th {\n        vertical-align: top;\n    }\n\n    .dataframe thead th {\n        text-align: right;\n    }\n</style>\n<table border=\"1\" class=\"dataframe\">\n  <thead>\n    <tr style=\"text-align: right;\">\n      <th></th>\n      <th>Structure</th>\n      <th>Volumes</th>\n      <th>liq_amo_cryst_loose_V</th>\n      <th>liq_amo_cryst_loose_E</th>\n      <th>liq_amo_0.75loose_V</th>\n      <th>liq_amo_0.75loose_E</th>\n      <th>snap_shift_V</th>\n      <th>snap_shift_E</th>\n      <th>SNAP_myDB_V</th>\n      <th>SNAP_myDB_E</th>\n      <th>SNAP_myDB_j12_V</th>\n      <th>SNAP_myDB_j12_E</th>\n      <th>SNAP_myDB_noisol_V</th>\n      <th>SNAP_myDB_noisol_E</th>\n      <th>SNAP_myDB_customreg_V</th>\n      <th>SNAP_myDB_customreg_E</th>\n    </tr>\n  </thead>\n  <tbody>\n    <tr>\n      <th>fcc</th>\n      <td>(Atom('Si', [0.0, 0.0, 0.0], index=0), Atom('S...</td>\n      <td>[8.406153645561451, 8.704569594210222, 9.00996...</td>\n      <td>[8.406153645561451, 8.704569594210222, 9.00996...</td>\n      <td>[-168.60516057829332, -168.6761871089022, -168...</td>\n      <td>[8.495818684515855, 8.797417715319487, 9.10607...</td>\n      <td>[-168.53713282566392, -168.60333813051116, -16...</td>\n      <td>[8.406153645561451, 8.704569594210222, 9.00996...</td>\n      <td>[-4.807385004518217, -4.468191134848084, -4.21...</td>\n      <td>[8.406153645561451, 8.704569594210222, 9.00996...</td>\n      <td>[821.9410650709559, 658.6374131410942, 513.690...</td>\n      <td>[8.406153645561451, 8.704569594210222, 9.00996...</td>\n      <td>[567.73518191036, 437.67155871913616, 323.8468...</td>\n      <td>[8.406153645561451, 8.704569594210222, 9.00996...</td>\n      <td>[821.9410650703342, 658.6374131405872, 513.690...</td>\n      <td>[8.406153645561451, 8.704569594210222, 9.00996...</td>\n      <td>[329.7637441899547, 263.1841459514398, 203.817...</td>\n    </tr>\n  </tbody>\n</table>\n</div>"
     },
     "execution_count": 104,
     "metadata": {},
     "output_type": "execute_result"
    }
   ],
   "source": [
    "Si_Cryst.df.head(1)"
   ],
   "metadata": {
    "collapsed": false,
    "pycharm": {
     "name": "#%%\n"
    }
   }
  },
  {
   "cell_type": "code",
   "execution_count": 213,
   "outputs": [
    {
     "name": "stdout",
     "output_type": "stream",
     "text": [
      "struct fcc done\n",
      "struct dia done\n",
      "struct hcp done\n",
      "struct bcc done\n",
      "struct sc done\n",
      "struct sh done\n",
      "struct bSn done\n",
      "struct Imma done\n",
      "\n",
      "pot liq_amo_cryst_loose done\n",
      "\n",
      "struct fcc done\n",
      "struct dia done\n",
      "struct hcp done\n",
      "struct bcc done\n",
      "struct sc done\n",
      "struct sh done\n",
      "struct bSn done\n",
      "struct Imma done\n",
      "\n",
      "pot liq_amo_0.75loose done\n",
      "\n"
     ]
    }
   ],
   "source": [
    "Si_Cryst.calc_HP(0, 75, 75, opt_freq=1)\n"
   ],
   "metadata": {
    "collapsed": false,
    "pycharm": {
     "name": "#%%\n"
    }
   }
  },
  {
   "cell_type": "code",
   "execution_count": 110,
   "outputs": [
    {
     "data": {
      "text/plain": "<matplotlib.legend.Legend at 0x7f410b31d280>"
     },
     "execution_count": 110,
     "metadata": {},
     "output_type": "execute_result"
    },
    {
     "data": {
      "text/plain": "<Figure size 576x432 with 1 Axes>",
      "image/png": "[encoded data removed]"
     },
     "metadata": {
      "needs_background": "light"
     },
     "output_type": "display_data"
    }
   ],
   "source": [
    "styl_list=['-','--','-.',':', (0, (3,6,3,6,3,10)), '-', '--', '-.', ':', ':', '--', '--', ':', ':']\n",
    "df = Si_Cryst.df\n",
    "cols = []\n",
    "fig, axs = plt.subplots(figsize=(8,6))\n",
    "for i in range(len(df['Structure'])):\n",
    "    if i in []:\n",
    "        continue\n",
    "    line, = axs.plot(df['Volumes'][i], df[df.columns[3]][i], label=df.index[i])\n",
    "    cols.append(df.columns[3][:-2])\n",
    "    if i == 0:\n",
    "        hands = [line]\n",
    "    for j, val in enumerate(df.keys()):\n",
    "        if val[-2:] == '_V' and j >= 6:\n",
    "            if 'snap_shift' in val:\n",
    "                pass\n",
    "            else:\n",
    "                tmp, = axs.plot(df[df.columns[j]][i], df[df.columns[j+1]][i], linestyle=styl_list[j-3], color=line.get_color())\n",
    "                cols.append(val[:-2])\n",
    "            if i == 0:\n",
    "                hands.append(tmp)\n",
    "l1 = axs.legend(loc='upper left')\n",
    "axs.legend()\n",
    "l2 = axs.legend(hands, cols, loc='upper right')\n",
    "# axs.set(ylim=(-169, -168))\n",
    "axs.set(ylim=(-172, -165))\n",
    "axs.add_artist(l1)"
   ],
   "metadata": {
    "collapsed": false,
    "pycharm": {
     "name": "#%%\n"
    }
   }
  },
  {
   "cell_type": "code",
   "execution_count": 220,
   "outputs": [
    {
     "data": {
      "text/plain": "                                             Structure  \\\nfcc  (Atom('Si', [4.976860425487557e-14, 1.40406380...   \n\n                                               Volumes  \\\nfcc  [8.406153645561451, 8.704569594210222, 9.00996...   \n\n                                 liq_amo_cryst_loose_V  \\\nfcc  [8.406153645561451, 8.704569594210222, 9.00996...   \n\n                                 liq_amo_cryst_loose_E  \\\nfcc  [-168.60516057829332, -168.6761871089022, -168...   \n\n                                   liq_amo_0.75loose_V  \\\nfcc  [8.495818684515855, 8.797417715319487, 9.10607...   \n\n                                   liq_amo_0.75loose_E  \\\nfcc  [-168.53713282566392, -168.60333813051116, -16...   \n\n                              H(P) liq_amo_cryst_loose  \\\nfcc  [-168.78904694482554, -168.72703457429606, -16...   \n\n                                H(P) liq_amo_0.75loose  \\\nfcc  [-168.55014483399114, -168.45867309901834, -16...   \n\n                                                     P  \nfcc  [0.0, 1.0135135135135136, 2.027027027027027, 3...  ",
      "text/html": "<div>\n<style scoped>\n    .dataframe tbody tr th:only-of-type {\n        vertical-align: middle;\n    }\n\n    .dataframe tbody tr th {\n        vertical-align: top;\n    }\n\n    .dataframe thead th {\n        text-align: right;\n    }\n</style>\n<table border=\"1\" class=\"dataframe\">\n  <thead>\n    <tr style=\"text-align: right;\">\n      <th></th>\n      <th>Structure</th>\n      <th>Volumes</th>\n      <th>liq_amo_cryst_loose_V</th>\n      <th>liq_amo_cryst_loose_E</th>\n      <th>liq_amo_0.75loose_V</th>\n      <th>liq_amo_0.75loose_E</th>\n      <th>H(P) liq_amo_cryst_loose</th>\n      <th>H(P) liq_amo_0.75loose</th>\n      <th>P</th>\n    </tr>\n  </thead>\n  <tbody>\n    <tr>\n      <th>fcc</th>\n      <td>(Atom('Si', [4.976860425487557e-14, 1.40406380...</td>\n      <td>[8.406153645561451, 8.704569594210222, 9.00996...</td>\n      <td>[8.406153645561451, 8.704569594210222, 9.00996...</td>\n      <td>[-168.60516057829332, -168.6761871089022, -168...</td>\n      <td>[8.495818684515855, 8.797417715319487, 9.10607...</td>\n      <td>[-168.53713282566392, -168.60333813051116, -16...</td>\n      <td>[-168.78904694482554, -168.72703457429606, -16...</td>\n      <td>[-168.55014483399114, -168.45867309901834, -16...</td>\n      <td>[0.0, 1.0135135135135136, 2.027027027027027, 3...</td>\n    </tr>\n  </tbody>\n</table>\n</div>"
     },
     "execution_count": 220,
     "metadata": {},
     "output_type": "execute_result"
    }
   ],
   "source": [
    "Si_Cryst.df.head(1)"
   ],
   "metadata": {
    "collapsed": false,
    "pycharm": {
     "name": "#%%\n"
    }
   }
  },
  {
   "cell_type": "code",
   "execution_count": 229,
   "outputs": [
    {
     "data": {
      "text/plain": "<matplotlib.legend.Legend at 0x7f96fafa49a0>"
     },
     "execution_count": 229,
     "metadata": {},
     "output_type": "execute_result"
    },
    {
     "data": {
      "text/plain": "<Figure size 576x432 with 1 Axes>",
      "image/png": "[encoded data removed]"
     },
     "metadata": {
      "needs_background": "light"
     },
     "output_type": "display_data"
    }
   ],
   "source": [
    "styl_list=['-','--','-.',':', (0, (3,6,3,6,3,10))]\n",
    "df = Si_Cryst.df\n",
    "cols = []\n",
    "fig, axs = plt.subplots(figsize=(8,6))\n",
    "for i in range(len(df['Structure'])):\n",
    "    if i in []:\n",
    "        continue\n",
    "    line, = axs.plot(df['P'][i], df[df.columns[-2]][i] - df[df.columns[-2]]['dia'], label=df.index[i])\n",
    "    cols.append(df.columns[-2][4:])\n",
    "    if i == 0:\n",
    "        hands = [line]\n",
    "\n",
    "    ct = 0\n",
    "    for j, val in enumerate(df.keys()):\n",
    "        if 'H(P)' in val and j >= 4:\n",
    "            ct += 1\n",
    "            tmp, = axs.plot(df['P'][i], df[df.columns[j]][i]- df[df.columns[-2]]['dia'], linestyle=styl_list[ct], color=line.get_color())\n",
    "            cols.append(val[4:])\n",
    "            if i == 0:\n",
    "                hands.append(tmp)\n",
    "l1 = axs.legend(loc='lower left')\n",
    "axs.legend()\n",
    "l2 = axs.legend(hands, cols, loc='lower left', bbox_to_anchor=(0.17, 0.0))\n",
    "#axs.set(ylim=(-169, -168))\n",
    "axs.add_artist(l1)"
   ],
   "metadata": {
    "collapsed": false,
    "pycharm": {
     "name": "#%%\n"
    }
   }
  },
  {
   "cell_type": "code",
   "execution_count": 22,
   "outputs": [],
   "source": [],
   "metadata": {
    "collapsed": false,
    "pycharm": {
     "name": "#%%\n"
    }
   }
  },
  {
   "cell_type": "code",
   "execution_count": 113,
   "outputs": [],
   "source": [
    "c = read_castep_castep('/home/joe/Documents/Ge_od/Structure_databases/crystals/Si_crystals_DFT/geom/diamond_geom.castep')"
   ],
   "metadata": {
    "collapsed": false,
    "pycharm": {
     "name": "#%%\n"
    }
   }
  },
  {
   "cell_type": "code",
   "execution_count": 31,
   "outputs": [
    {
     "name": "stdout",
     "output_type": "stream",
     "text": [
      "Using new read_Castep\n"
     ]
    },
    {
     "name": "stderr",
     "output_type": "stream",
     "text": [
      "/home/joe/ase/ase/calculators/castep.py:897: UserWarning: No regular end found in //home/joe/Documents/Ge_od/Structure_databases/dia_Evol_first/CASTEP/dia.castep file. None\n",
      "  warnings.warn('No regular end found in %s file. %s' % (castep_file, self._error))\n"
     ]
    }
   ],
   "source": [
    "d = read_castep_castep('//home/joe/Documents/Ge_od/Structure_databases/dia_Evol_first/CASTEP/dia.castep')"
   ],
   "metadata": {
    "collapsed": false,
    "pycharm": {
     "name": "#%%\n"
    }
   }
  },
  {
   "cell_type": "code",
   "execution_count": 36,
   "outputs": [
    {
     "data": {
      "text/plain": "[]"
     },
     "execution_count": 36,
     "metadata": {},
     "output_type": "execute_result"
    }
   ],
   "source": [
    "c[0].calc._warnings"
   ],
   "metadata": {
    "collapsed": false,
    "pycharm": {
     "name": "#%%\n"
    }
   }
  },
  {
   "cell_type": "code",
   "execution_count": 10,
   "outputs": [],
   "source": [
    "\n",
    "from ase.calculators.castep import Castep\n"
   ],
   "metadata": {
    "collapsed": false,
    "pycharm": {
     "name": "#%%\n"
    }
   }
  },
  {
   "cell_type": "code",
   "execution_count": 14,
   "outputs": [],
   "source": [
    "calc = Castep()"
   ],
   "metadata": {
    "collapsed": false,
    "pycharm": {
     "name": "#%%\n"
    }
   }
  },
  {
   "cell_type": "code",
   "execution_count": 39,
   "outputs": [
    {
     "data": {
      "text/plain": "[Atoms(symbols='Si8', pbc=True, cell=[5.4322234, 5.4322234, 5.4322234], initial_magmoms=..., calculator=Castep(...))]"
     },
     "execution_count": 39,
     "metadata": {},
     "output_type": "execute_result"
    }
   ],
   "source": [
    "[c[0]]"
   ],
   "metadata": {
    "collapsed": false,
    "pycharm": {
     "name": "#%%\n"
    }
   }
  },
  {
   "cell_type": "code",
   "execution_count": 101,
   "outputs": [],
   "source": [
    "c[0].set_calculator(pots[2])"
   ],
   "metadata": {
    "collapsed": false,
    "pycharm": {
     "name": "#%%\n"
    }
   }
  },
  {
   "cell_type": "code",
   "execution_count": 102,
   "outputs": [
    {
     "data": {
      "text/plain": "array([ 0.21632,  0.21632,  0.21632, -0.     , -0.     , -0.     ])"
     },
     "execution_count": 102,
     "metadata": {},
     "output_type": "execute_result"
    }
   ],
   "source": [
    "c[0].get_stress()"
   ],
   "metadata": {
    "collapsed": false,
    "pycharm": {
     "name": "#%%\n"
    }
   }
  },
  {
   "cell_type": "code",
   "execution_count": 107,
   "outputs": [],
   "source": [
    "c[0].set_cell([5.44, 5.44, 5.40])"
   ],
   "metadata": {
    "collapsed": false,
    "pycharm": {
     "name": "#%%\n"
    }
   }
  },
  {
   "cell_type": "code",
   "execution_count": 104,
   "outputs": [
    {
     "data": {
      "text/plain": "Cell([5.44, 5.44, 5.4])"
     },
     "execution_count": 104,
     "metadata": {},
     "output_type": "execute_result"
    }
   ],
   "source": [
    "c[0].get_cell()"
   ],
   "metadata": {
    "collapsed": false,
    "pycharm": {
     "name": "#%%\n"
    }
   }
  },
  {
   "cell_type": "code",
   "execution_count": 105,
   "outputs": [
    {
     "data": {
      "text/plain": "array([ 0.34104,  0.34104,  0.87072,  0.07879,  0.07879, -0.34307])"
     },
     "execution_count": 105,
     "metadata": {},
     "output_type": "execute_result"
    }
   ],
   "source": [
    "c[0].get_stress(include_ideal_gas=False)"
   ],
   "metadata": {
    "collapsed": false,
    "pycharm": {
     "name": "#%%\n"
    }
   }
  },
  {
   "cell_type": "code",
   "execution_count": 109,
   "outputs": [
    {
     "name": "stdout",
     "output_type": "stream",
     "text": [
      "[-0.19598 -0.19598 -0.19598  0.07824  0.07824  0.07824]\n",
      "[-2.94113 -2.94113 -2.94113  0.55338  0.55338  0.55338]\n",
      "[-5.40834 -5.40834 -5.40834  0.93631  0.93631  0.93631]\n",
      "[-7.57342 -7.57342 -7.57342  1.26388  1.26388  1.26388]\n",
      "[-9.48317 -9.48317 -9.48317  1.54092  1.54092  1.54092]\n",
      "[-11.26924 -11.26924 -11.26924   1.74449   1.74449   1.74449]\n",
      "[-13.00014 -13.00014 -13.00014   1.90817   1.90817   1.90817]\n",
      "[-14.65586 -14.65586 -14.65586   2.00861   2.00861   2.00861]\n",
      "[-16.1835  -16.1835  -16.1835    2.08213   2.08213   2.08213]\n",
      "[-17.53441 -17.53441 -17.53441   2.03102   2.03102   2.03102]\n",
      "[-17.91931 -17.91931 -17.91931   1.69317   1.69317   1.69317]\n",
      "[-18.65981 -18.65981 -18.65981   1.58379   1.58379   1.58379]\n",
      "[-19.19049 -19.19049 -19.19049   1.45073   1.45073   1.45073]\n",
      "[-19.69254 -19.69254 -19.69254   1.31333   1.31333   1.31333]\n",
      "[-20.14085 -20.14085 -20.14085   1.1668    1.1668    1.1668 ]\n",
      "[-19.37568 -19.37568 -19.37568   0.91484   0.91484   0.91484]\n",
      "[-19.72135 -19.72135 -19.72135   0.7631    0.7631    0.7631 ]\n",
      "[-19.99284 -19.99284 -19.99284   0.62039   0.62039   0.62039]\n",
      "[-20.1555  -20.1555  -20.1555    0.48146   0.48146   0.48146]\n",
      "[-20.15333 -20.15333 -20.15333   0.32925   0.32925   0.32925]\n"
     ]
    }
   ],
   "source": [
    "for i in range(20):\n",
    "    c[0].set_cell(np.array([5.44, 5.44, 5.44])*(1+i/100))\n",
    "    print(c[0].get_stress())"
   ],
   "metadata": {
    "collapsed": false,
    "pycharm": {
     "name": "#%%\n"
    }
   }
  },
  {
   "cell_type": "code",
   "execution_count": 120,
   "outputs": [],
   "source": [],
   "metadata": {
    "collapsed": false,
    "pycharm": {
     "name": "#%%\n"
    }
   }
  },
  {
   "cell_type": "code",
   "execution_count": 24,
   "outputs": [],
   "source": [
    "DFT_struct[0].set_calculator(snap_test)"
   ],
   "metadata": {
    "collapsed": false,
    "pycharm": {
     "name": "#%%\n"
    }
   }
  },
  {
   "cell_type": "code",
   "execution_count": 11,
   "outputs": [
    {
     "name": "stdout",
     "output_type": "stream",
     "text": [
      "pot set\n",
      "      Step     Time          Energy         fmax\n",
      "BFGS:    0 12:25:57     -152.177096       69.7714\n",
      "BFGS:    1 12:25:57     -209.046499      516.3118\n",
      "BFGS:    2 12:25:57     -519.158330     3581.6417\n",
      "BFGS:    3 12:25:57    -1602.561136     7798.5796\n",
      "BFGS:    4 12:25:57    -8389.742155    47094.8928\n"
     ]
    },
    {
     "name": "stderr",
     "output_type": "stream",
     "text": [
      "/home/joe/ase/ase/spacegroup/symmetrize.py:217: UserWarning: FixSymmetry adjust_cell may be ill behaved with large deformation gradient step 0.15891118497923473\n",
      "  warnings.warn('FixSymmetry adjust_cell may be ill behaved with'\n",
      "/home/joe/ase/ase/spacegroup/symmetrize.py:217: UserWarning: FixSymmetry adjust_cell may be ill behaved with large deformation gradient step 0.15142726911616045\n",
      "  warnings.warn('FixSymmetry adjust_cell may be ill behaved with'\n",
      "/home/joe/ase/ase/spacegroup/symmetrize.py:217: UserWarning: FixSymmetry adjust_cell may be ill behaved with large deformation gradient step 0.2293819686966998\n",
      "  warnings.warn('FixSymmetry adjust_cell may be ill behaved with'\n"
     ]
    },
    {
     "ename": "RuntimeError",
     "evalue": "FixSymmetry adjust_cell does not work properly with large deformation gradient step 0.2933145750426954 > 0.25",
     "output_type": "error",
     "traceback": [
      "\u001B[0;31m---------------------------------------------------------------------------\u001B[0m",
      "\u001B[0;31mRuntimeError\u001B[0m                              Traceback (most recent call last)",
      "\u001B[0;32m<ipython-input-11-1c03050301e3>\u001B[0m in \u001B[0;36m<module>\u001B[0;34m\u001B[0m\n\u001B[1;32m      7\u001B[0m         \u001B[0muf\u001B[0m \u001B[0;34m=\u001B[0m \u001B[0mStrainFilter\u001B[0m\u001B[0;34m(\u001B[0m\u001B[0mval\u001B[0m\u001B[0;34m)\u001B[0m\u001B[0;34m\u001B[0m\u001B[0;34m\u001B[0m\u001B[0m\n\u001B[1;32m      8\u001B[0m         \u001B[0mopt\u001B[0m \u001B[0;34m=\u001B[0m \u001B[0mBFGS\u001B[0m\u001B[0;34m(\u001B[0m\u001B[0muf\u001B[0m\u001B[0;34m,\u001B[0m \u001B[0mtrajectory\u001B[0m\u001B[0;34m=\u001B[0m\u001B[0;34m'MTP_test.traj'\u001B[0m\u001B[0;34m)\u001B[0m\u001B[0;34m\u001B[0m\u001B[0;34m\u001B[0m\u001B[0m\n\u001B[0;32m----> 9\u001B[0;31m         \u001B[0mopt\u001B[0m\u001B[0;34m.\u001B[0m\u001B[0mrun\u001B[0m\u001B[0;34m(\u001B[0m\u001B[0;36m0.05\u001B[0m\u001B[0;34m,\u001B[0m \u001B[0msteps\u001B[0m\u001B[0;34m=\u001B[0m\u001B[0;36m50\u001B[0m\u001B[0;34m)\u001B[0m\u001B[0;34m\u001B[0m\u001B[0;34m\u001B[0m\u001B[0m\n\u001B[0m\u001B[1;32m     10\u001B[0m         \u001B[0mval\u001B[0m\u001B[0;34m.\u001B[0m\u001B[0mset_calculator\u001B[0m\u001B[0;34m(\u001B[0m\u001B[0;32mNone\u001B[0m\u001B[0;34m)\u001B[0m\u001B[0;34m\u001B[0m\u001B[0;34m\u001B[0m\u001B[0m\n\u001B[1;32m     11\u001B[0m \u001B[0;34m\u001B[0m\u001B[0m\n",
      "\u001B[0;32m~/ase/ase/optimize/optimize.py\u001B[0m in \u001B[0;36mrun\u001B[0;34m(self, fmax, steps)\u001B[0m\n\u001B[1;32m    292\u001B[0m         \u001B[0;32mif\u001B[0m \u001B[0msteps\u001B[0m\u001B[0;34m:\u001B[0m\u001B[0;34m\u001B[0m\u001B[0;34m\u001B[0m\u001B[0m\n\u001B[1;32m    293\u001B[0m             \u001B[0mself\u001B[0m\u001B[0;34m.\u001B[0m\u001B[0mmax_steps\u001B[0m \u001B[0;34m=\u001B[0m \u001B[0msteps\u001B[0m\u001B[0;34m\u001B[0m\u001B[0;34m\u001B[0m\u001B[0m\n\u001B[0;32m--> 294\u001B[0;31m         \u001B[0;32mreturn\u001B[0m \u001B[0mDynamics\u001B[0m\u001B[0;34m.\u001B[0m\u001B[0mrun\u001B[0m\u001B[0;34m(\u001B[0m\u001B[0mself\u001B[0m\u001B[0;34m)\u001B[0m\u001B[0;34m\u001B[0m\u001B[0;34m\u001B[0m\u001B[0m\n\u001B[0m\u001B[1;32m    295\u001B[0m \u001B[0;34m\u001B[0m\u001B[0m\n\u001B[1;32m    296\u001B[0m     \u001B[0;32mdef\u001B[0m \u001B[0mconverged\u001B[0m\u001B[0;34m(\u001B[0m\u001B[0mself\u001B[0m\u001B[0;34m,\u001B[0m \u001B[0mforces\u001B[0m\u001B[0;34m=\u001B[0m\u001B[0;32mNone\u001B[0m\u001B[0;34m)\u001B[0m\u001B[0;34m:\u001B[0m\u001B[0;34m\u001B[0m\u001B[0;34m\u001B[0m\u001B[0m\n",
      "\u001B[0;32m~/ase/ase/optimize/optimize.py\u001B[0m in \u001B[0;36mrun\u001B[0;34m(self)\u001B[0m\n\u001B[1;32m    179\u001B[0m         *steps*.\"\"\"\n\u001B[1;32m    180\u001B[0m \u001B[0;34m\u001B[0m\u001B[0m\n\u001B[0;32m--> 181\u001B[0;31m         \u001B[0;32mfor\u001B[0m \u001B[0mconverged\u001B[0m \u001B[0;32min\u001B[0m \u001B[0mDynamics\u001B[0m\u001B[0;34m.\u001B[0m\u001B[0mirun\u001B[0m\u001B[0;34m(\u001B[0m\u001B[0mself\u001B[0m\u001B[0;34m)\u001B[0m\u001B[0;34m:\u001B[0m\u001B[0;34m\u001B[0m\u001B[0;34m\u001B[0m\u001B[0m\n\u001B[0m\u001B[1;32m    182\u001B[0m             \u001B[0;32mpass\u001B[0m\u001B[0;34m\u001B[0m\u001B[0;34m\u001B[0m\u001B[0m\n\u001B[1;32m    183\u001B[0m         \u001B[0;32mreturn\u001B[0m \u001B[0mconverged\u001B[0m\u001B[0;34m\u001B[0m\u001B[0;34m\u001B[0m\u001B[0m\n",
      "\u001B[0;32m~/ase/ase/optimize/optimize.py\u001B[0m in \u001B[0;36mirun\u001B[0;34m(self)\u001B[0m\n\u001B[1;32m    158\u001B[0m \u001B[0;34m\u001B[0m\u001B[0m\n\u001B[1;32m    159\u001B[0m             \u001B[0;31m# compute the next step\u001B[0m\u001B[0;34m\u001B[0m\u001B[0;34m\u001B[0m\u001B[0;34m\u001B[0m\u001B[0m\n\u001B[0;32m--> 160\u001B[0;31m             \u001B[0mself\u001B[0m\u001B[0;34m.\u001B[0m\u001B[0mstep\u001B[0m\u001B[0;34m(\u001B[0m\u001B[0;34m)\u001B[0m\u001B[0;34m\u001B[0m\u001B[0;34m\u001B[0m\u001B[0m\n\u001B[0m\u001B[1;32m    161\u001B[0m             \u001B[0mself\u001B[0m\u001B[0;34m.\u001B[0m\u001B[0mnsteps\u001B[0m \u001B[0;34m+=\u001B[0m \u001B[0;36m1\u001B[0m\u001B[0;34m\u001B[0m\u001B[0;34m\u001B[0m\u001B[0m\n\u001B[1;32m    162\u001B[0m \u001B[0;34m\u001B[0m\u001B[0m\n",
      "\u001B[0;32m~/ase/ase/optimize/bfgs.py\u001B[0m in \u001B[0;36mstep\u001B[0;34m(self, f)\u001B[0m\n\u001B[1;32m    105\u001B[0m         \u001B[0msteplengths\u001B[0m \u001B[0;34m=\u001B[0m \u001B[0;34m(\u001B[0m\u001B[0mdr\u001B[0m\u001B[0;34m**\u001B[0m\u001B[0;36m2\u001B[0m\u001B[0;34m)\u001B[0m\u001B[0;34m.\u001B[0m\u001B[0msum\u001B[0m\u001B[0;34m(\u001B[0m\u001B[0;36m1\u001B[0m\u001B[0;34m)\u001B[0m\u001B[0;34m**\u001B[0m\u001B[0;36m0.5\u001B[0m\u001B[0;34m\u001B[0m\u001B[0;34m\u001B[0m\u001B[0m\n\u001B[1;32m    106\u001B[0m         \u001B[0mdr\u001B[0m \u001B[0;34m=\u001B[0m \u001B[0mself\u001B[0m\u001B[0;34m.\u001B[0m\u001B[0mdetermine_step\u001B[0m\u001B[0;34m(\u001B[0m\u001B[0mdr\u001B[0m\u001B[0;34m,\u001B[0m \u001B[0msteplengths\u001B[0m\u001B[0;34m)\u001B[0m\u001B[0;34m\u001B[0m\u001B[0;34m\u001B[0m\u001B[0m\n\u001B[0;32m--> 107\u001B[0;31m         \u001B[0matoms\u001B[0m\u001B[0;34m.\u001B[0m\u001B[0mset_positions\u001B[0m\u001B[0;34m(\u001B[0m\u001B[0mr\u001B[0m \u001B[0;34m+\u001B[0m \u001B[0mdr\u001B[0m\u001B[0;34m)\u001B[0m\u001B[0;34m\u001B[0m\u001B[0;34m\u001B[0m\u001B[0m\n\u001B[0m\u001B[1;32m    108\u001B[0m         \u001B[0mself\u001B[0m\u001B[0;34m.\u001B[0m\u001B[0mr0\u001B[0m \u001B[0;34m=\u001B[0m \u001B[0mr\u001B[0m\u001B[0;34m.\u001B[0m\u001B[0mflat\u001B[0m\u001B[0;34m.\u001B[0m\u001B[0mcopy\u001B[0m\u001B[0;34m(\u001B[0m\u001B[0;34m)\u001B[0m\u001B[0;34m\u001B[0m\u001B[0;34m\u001B[0m\u001B[0m\n\u001B[1;32m    109\u001B[0m         \u001B[0mself\u001B[0m\u001B[0;34m.\u001B[0m\u001B[0mf0\u001B[0m \u001B[0;34m=\u001B[0m \u001B[0mf\u001B[0m\u001B[0;34m.\u001B[0m\u001B[0mcopy\u001B[0m\u001B[0;34m(\u001B[0m\u001B[0;34m)\u001B[0m\u001B[0;34m\u001B[0m\u001B[0;34m\u001B[0m\u001B[0m\n",
      "\u001B[0;32m~/ase/ase/constraints.py\u001B[0m in \u001B[0;36mset_positions\u001B[0;34m(self, new)\u001B[0m\n\u001B[1;32m   2227\u001B[0m                         [0.5 * new[4], 0.5 * new[3], 1.0 + new[2]]])\n\u001B[1;32m   2228\u001B[0m \u001B[0;34m\u001B[0m\u001B[0m\n\u001B[0;32m-> 2229\u001B[0;31m         \u001B[0mself\u001B[0m\u001B[0;34m.\u001B[0m\u001B[0matoms\u001B[0m\u001B[0;34m.\u001B[0m\u001B[0mset_cell\u001B[0m\u001B[0;34m(\u001B[0m\u001B[0mnp\u001B[0m\u001B[0;34m.\u001B[0m\u001B[0mdot\u001B[0m\u001B[0;34m(\u001B[0m\u001B[0mself\u001B[0m\u001B[0;34m.\u001B[0m\u001B[0morigcell\u001B[0m\u001B[0;34m,\u001B[0m \u001B[0meps\u001B[0m\u001B[0;34m)\u001B[0m\u001B[0;34m,\u001B[0m \u001B[0mscale_atoms\u001B[0m\u001B[0;34m=\u001B[0m\u001B[0;32mTrue\u001B[0m\u001B[0;34m)\u001B[0m\u001B[0;34m\u001B[0m\u001B[0;34m\u001B[0m\u001B[0m\n\u001B[0m\u001B[1;32m   2230\u001B[0m         \u001B[0mself\u001B[0m\u001B[0;34m.\u001B[0m\u001B[0mstrain\u001B[0m\u001B[0;34m[\u001B[0m\u001B[0;34m:\u001B[0m\u001B[0;34m]\u001B[0m \u001B[0;34m=\u001B[0m \u001B[0mnew\u001B[0m\u001B[0;34m\u001B[0m\u001B[0;34m\u001B[0m\u001B[0m\n\u001B[1;32m   2231\u001B[0m \u001B[0;34m\u001B[0m\u001B[0m\n",
      "\u001B[0;32m~/ase/ase/atoms.py\u001B[0m in \u001B[0;36mset_cell\u001B[0;34m(self, cell, scale_atoms, apply_constraint)\u001B[0m\n\u001B[1;32m    382\u001B[0m             \u001B[0;32mfor\u001B[0m \u001B[0mconstraint\u001B[0m \u001B[0;32min\u001B[0m \u001B[0mself\u001B[0m\u001B[0;34m.\u001B[0m\u001B[0mconstraints\u001B[0m\u001B[0;34m:\u001B[0m\u001B[0;34m\u001B[0m\u001B[0;34m\u001B[0m\u001B[0m\n\u001B[1;32m    383\u001B[0m                 \u001B[0;32mif\u001B[0m \u001B[0mhasattr\u001B[0m\u001B[0;34m(\u001B[0m\u001B[0mconstraint\u001B[0m\u001B[0;34m,\u001B[0m \u001B[0;34m'adjust_cell'\u001B[0m\u001B[0;34m)\u001B[0m\u001B[0;34m:\u001B[0m\u001B[0;34m\u001B[0m\u001B[0;34m\u001B[0m\u001B[0m\n\u001B[0;32m--> 384\u001B[0;31m                     \u001B[0mconstraint\u001B[0m\u001B[0;34m.\u001B[0m\u001B[0madjust_cell\u001B[0m\u001B[0;34m(\u001B[0m\u001B[0mself\u001B[0m\u001B[0;34m,\u001B[0m \u001B[0mcell\u001B[0m\u001B[0;34m)\u001B[0m\u001B[0;34m\u001B[0m\u001B[0;34m\u001B[0m\u001B[0m\n\u001B[0m\u001B[1;32m    385\u001B[0m \u001B[0;34m\u001B[0m\u001B[0m\n\u001B[1;32m    386\u001B[0m         \u001B[0;32mif\u001B[0m \u001B[0mscale_atoms\u001B[0m\u001B[0;34m:\u001B[0m\u001B[0;34m\u001B[0m\u001B[0;34m\u001B[0m\u001B[0m\n",
      "\u001B[0;32m~/ase/ase/spacegroup/symmetrize.py\u001B[0m in \u001B[0;36madjust_cell\u001B[0;34m(self, atoms, cell)\u001B[0m\n\u001B[1;32m    211\u001B[0m         \u001B[0mmax_delta_deform_grad\u001B[0m \u001B[0;34m=\u001B[0m \u001B[0mnp\u001B[0m\u001B[0;34m.\u001B[0m\u001B[0mmax\u001B[0m\u001B[0;34m(\u001B[0m\u001B[0mnp\u001B[0m\u001B[0;34m.\u001B[0m\u001B[0mabs\u001B[0m\u001B[0;34m(\u001B[0m\u001B[0mdelta_deform_grad\u001B[0m\u001B[0;34m)\u001B[0m\u001B[0;34m)\u001B[0m\u001B[0;34m\u001B[0m\u001B[0;34m\u001B[0m\u001B[0m\n\u001B[1;32m    212\u001B[0m         \u001B[0;32mif\u001B[0m \u001B[0mmax_delta_deform_grad\u001B[0m \u001B[0;34m>\u001B[0m \u001B[0;36m0.25\u001B[0m\u001B[0;34m:\u001B[0m\u001B[0;34m\u001B[0m\u001B[0;34m\u001B[0m\u001B[0m\n\u001B[0;32m--> 213\u001B[0;31m             raise RuntimeError('FixSymmetry adjust_cell does not work properly'\n\u001B[0m\u001B[1;32m    214\u001B[0m                                \u001B[0;34m' with large deformation gradient step {} > 0.25'\u001B[0m\u001B[0;34m\u001B[0m\u001B[0;34m\u001B[0m\u001B[0m\n\u001B[1;32m    215\u001B[0m                                .format(max_delta_deform_grad))\n",
      "\u001B[0;31mRuntimeError\u001B[0m: FixSymmetry adjust_cell does not work properly with large deformation gradient step 0.2933145750426954 > 0.25"
     ]
    }
   ],
   "source": [
    "copy_structs = [deepcopy(DFT_struct[0])]\n",
    "for ct, val in enumerate(copy_structs):\n",
    "    if True and ct < 8:\n",
    "        val.set_calculator(snap_test)\n",
    "        print('pot set')\n",
    "        val.set_constraint(FixSymmetry(val))\n",
    "        uf = StrainFilter(val)\n",
    "        opt = BFGS(uf, trajectory='MTP_test.traj')\n",
    "        opt.run(0.05, steps=50)\n",
    "        val.set_calculator(None)"
   ],
   "metadata": {
    "collapsed": false,
    "pycharm": {
     "name": "#%%\n"
    }
   }
  },
  {
   "cell_type": "code",
   "execution_count": 1,
   "outputs": [
    {
     "ename": "NameError",
     "evalue": "name 'os' is not defined",
     "output_type": "error",
     "traceback": [
      "\u001B[0;31m---------------------------------------------------------------------------\u001B[0m",
      "\u001B[0;31mNameError\u001B[0m                                 Traceback (most recent call last)",
      "\u001B[0;32m<ipython-input-1-a78b1fb2bab9>\u001B[0m in \u001B[0;36m<module>\u001B[0;34m\u001B[0m\n\u001B[0;32m----> 1\u001B[0;31m \u001B[0mos\u001B[0m\u001B[0;34m.\u001B[0m\u001B[0mgetcwd\u001B[0m\u001B[0;34m(\u001B[0m\u001B[0;34m)\u001B[0m\u001B[0;34m\u001B[0m\u001B[0;34m\u001B[0m\u001B[0m\n\u001B[0m",
      "\u001B[0;31mNameError\u001B[0m: name 'os' is not defined"
     ]
    }
   ],
   "source": [
    "os.getcwd()"
   ],
   "metadata": {
    "collapsed": false,
    "pycharm": {
     "name": "#%%\n"
    }
   }
  },
  {
   "cell_type": "code",
   "execution_count": 123,
   "outputs": [
    {
     "data": {
      "text/plain": "<mtp.MTP at 0x7f96f32b4ca0>"
     },
     "execution_count": 123,
     "metadata": {},
     "output_type": "execute_result"
    }
   ],
   "source": [
    "MTP('/home/joe/Documents/Ge_od/Potentials/Si_myDB_supercrystals/MTP/Si_myDB_liqamocryst_train_24_rb_12.mtp', potential_name='MTP_24_rb_12')"
   ],
   "metadata": {
    "collapsed": false,
    "pycharm": {
     "name": "#%%\n"
    }
   }
  },
  {
   "cell_type": "code",
   "execution_count": 48,
   "outputs": [],
   "source": [
    "snap_test = SNAP({'Si':1}, potential_seed=\"/home/joe/Documents/Ge_od/Potentials/SNAP_pots/litDB_full_costbased_paper/Si_pot\",\n",
    "                 potential_name='snap_test')"
   ],
   "metadata": {
    "collapsed": false,
    "pycharm": {
     "name": "#%%\n"
    }
   }
  },
  {
   "cell_type": "code",
   "execution_count": 35,
   "outputs": [
    {
     "data": {
      "text/plain": "['__abstractmethods__',\n '__annotations__',\n '__class__',\n '__del__',\n '__delattr__',\n '__dict__',\n '__dir__',\n '__doc__',\n '__eq__',\n '__format__',\n '__ge__',\n '__getattribute__',\n '__gt__',\n '__hash__',\n '__init__',\n '__init_subclass__',\n '__le__',\n '__lt__',\n '__module__',\n '__ne__',\n '__new__',\n '__reduce__',\n '__reduce_ex__',\n '__repr__',\n '__setattr__',\n '__sizeof__',\n '__slots__',\n '__str__',\n '__subclasshook__',\n '__weakref__',\n '_abc_impl',\n '_deprecated',\n '_deprecated_get_spin_polarized',\n '_directory',\n 'atoms',\n 'band_structure',\n 'calculate',\n 'calculate_numerical_forces',\n 'calculate_numerical_stress',\n 'calculate_properties',\n 'calculation_required',\n 'check_state',\n 'default_parameters',\n 'directory',\n 'discard_results_on_any_change',\n 'export_properties',\n 'get_atoms',\n 'get_charges',\n 'get_default_parameters',\n 'get_dipole_moment',\n 'get_forces',\n 'get_magnetic_moment',\n 'get_magnetic_moments',\n 'get_potential_energies',\n 'get_potential_energy',\n 'get_property',\n 'get_spin_polarized',\n 'get_stress',\n 'get_stresses',\n 'ignored_changes',\n 'implemented_properties',\n 'initialise_lammps',\n 'initialized',\n 'label',\n 'lammpsbc',\n 'lmp',\n 'name',\n 'parameters',\n 'potential_seed',\n 'prefix',\n 'propagate',\n 'read',\n 'read_atoms',\n 'rebuild',\n 'redo_atom_types',\n 'reset',\n 'restart_lammps',\n 'results',\n 'set',\n 'set_atoms',\n 'set_cell',\n 'set_label',\n 'set_lammps_pos',\n 'start_lammps',\n 'started',\n 'todict']"
     },
     "execution_count": 35,
     "metadata": {},
     "output_type": "execute_result"
    }
   ],
   "source": [
    "dir(snap_test)\n"
   ],
   "metadata": {
    "collapsed": false,
    "pycharm": {
     "name": "#%%\n"
    }
   }
  },
  {
   "cell_type": "code",
   "execution_count": 36,
   "outputs": [
    {
     "data": {
      "text/plain": "False"
     },
     "execution_count": 36,
     "metadata": {},
     "output_type": "execute_result"
    }
   ],
   "source": [
    "snap_test.initialized"
   ],
   "metadata": {
    "collapsed": false,
    "pycharm": {
     "name": "#%%\n"
    }
   }
  },
  {
   "cell_type": "code",
   "execution_count": 37,
   "outputs": [
    {
     "data": {
      "text/plain": "False"
     },
     "execution_count": 37,
     "metadata": {},
     "output_type": "execute_result"
    }
   ],
   "source": [
    "snap_test.started"
   ],
   "metadata": {
    "collapsed": false,
    "pycharm": {
     "name": "#%%\n"
    }
   }
  },
  {
   "cell_type": "code",
   "execution_count": 49,
   "outputs": [
    {
     "data": {
      "text/plain": "-152.17709636852163"
     },
     "execution_count": 49,
     "metadata": {},
     "output_type": "execute_result"
    }
   ],
   "source": [
    "DFT_struct[0].set_calculator(snap_test)\n",
    "DFT_struct[0].get_potential_energy()"
   ],
   "metadata": {
    "collapsed": false,
    "pycharm": {
     "name": "#%%\n"
    }
   }
  },
  {
   "cell_type": "code",
   "execution_count": 41,
   "outputs": [],
   "source": [
    "#snap_test.lmp.close()\n",
    "snap_test.restart_lammps(DFT_struct[4])"
   ],
   "metadata": {
    "collapsed": false,
    "pycharm": {
     "name": "#%%\n"
    }
   }
  },
  {
   "cell_type": "code",
   "execution_count": 52,
   "outputs": [],
   "source": [
    "DFT_struct[5].calc = snap_test"
   ],
   "metadata": {
    "collapsed": false,
    "pycharm": {
     "name": "#%%\n"
    }
   }
  },
  {
   "cell_type": "code",
   "execution_count": 53,
   "outputs": [
    {
     "data": {
      "text/plain": "array([[-1.04196247e-13, -3.58028448e-04,  1.55331303e-12],\n       [ 1.00972887e-13,  3.58028448e-04, -1.54719293e-12]])"
     },
     "execution_count": 53,
     "metadata": {},
     "output_type": "execute_result"
    }
   ],
   "source": [
    "DFT_struct[5].get_forces()"
   ],
   "metadata": {
    "collapsed": false,
    "pycharm": {
     "name": "#%%\n"
    }
   }
  },
  {
   "cell_type": "code",
   "execution_count": 1,
   "outputs": [
    {
     "ename": "NameError",
     "evalue": "name 'snap_test' is not defined",
     "output_type": "error",
     "traceback": [
      "\u001B[0;31m---------------------------------------------------------------------------\u001B[0m",
      "\u001B[0;31mNameError\u001B[0m                                 Traceback (most recent call last)",
      "\u001B[0;32m<ipython-input-1-63a56d4a2610>\u001B[0m in \u001B[0;36m<module>\u001B[0;34m\u001B[0m\n\u001B[0;32m----> 1\u001B[0;31m \u001B[0msnap_test\u001B[0m\u001B[0;34m.\u001B[0m\u001B[0matoms\u001B[0m\u001B[0;34m\u001B[0m\u001B[0;34m\u001B[0m\u001B[0m\n\u001B[0m\u001B[1;32m      2\u001B[0m \u001B[0;34m\u001B[0m\u001B[0m\n",
      "\u001B[0;31mNameError\u001B[0m: name 'snap_test' is not defined"
     ]
    }
   ],
   "source": [
    "snap_test.atoms\n"
   ],
   "metadata": {
    "collapsed": false,
    "pycharm": {
     "name": "#%%\n"
    }
   }
  },
  {
   "cell_type": "code",
   "execution_count": 23,
   "outputs": [
    {
     "data": {
      "text/plain": "{'potential_seed': '/home/joe/Documents/Ge_od/Potentials/SNAP_pots/litDB_full_costbased_paper/Si_pot',\n 'name': 'snap_test',\n 'atoms': None,\n 'results': {},\n 'parameters': {'atom_types': {'Si': 1},\n  'atom_type_masses': None,\n  'log_file': None,\n  'lammps_name': '',\n  'keep_alive': True,\n  'lammps_header': ['units metal',\n   'atom_style atomic',\n   'atom_modify map array sort 0 0'],\n  'amendments': None,\n  'boundary': True,\n  'create_box': True,\n  'create_atoms': True,\n  'read_molecular_info': False,\n  'comm': None,\n  'lmpcmds': ['pair_style hybrid/overlay zbl 4.0 4.8 snap',\n   'pair_coeff * * zbl 0.0 0.0',\n   'pair_coeff 1 1 zbl 14 14',\n   'pair_coeff * * snap /home/joe/Documents/Ge_od/Potentials/SNAP_pots/litDB_full_costbased_paper/Si_pot.snapcoeff /home/joe/Documents/Ge_od/Potentials/SNAP_pots/litDB_full_costbased_paper/Si_pot.snapparam Si']},\n '_directory': '.',\n 'prefix': None,\n 'get_spin_polarized': <bound method Calculator._deprecated_get_spin_polarized of <snap.SNAP object at 0x7f4102cab490>>,\n 'lmp': None}"
     },
     "execution_count": 23,
     "metadata": {},
     "output_type": "execute_result"
    }
   ],
   "source": [
    "snap_test.__dict__"
   ],
   "metadata": {
    "collapsed": false,
    "pycharm": {
     "name": "#%%\n"
    }
   }
  },
  {
   "cell_type": "code",
   "execution_count": 33,
   "outputs": [
    {
     "data": {
      "text/plain": "Atoms(symbols='Si', pbc=True, cell=[[-1.676685, 1.676685, 1.287674], [1.676685, -1.676685, 1.287674], [1.676685, 1.676685, -1.287674]], initial_magmoms=..., calculator=Castep(...))"
     },
     "execution_count": 33,
     "metadata": {},
     "output_type": "execute_result"
    }
   ],
   "source": [
    "DFT_struct[0]"
   ],
   "metadata": {
    "collapsed": false,
    "pycharm": {
     "name": "#%%\n"
    }
   }
  },
  {
   "cell_type": "code",
   "execution_count": null,
   "outputs": [],
   "source": [],
   "metadata": {
    "collapsed": false,
    "pycharm": {
     "name": "#%%\n"
    }
   }
  }
 ],
 "metadata": {
  "kernelspec": {
   "display_name": "Python 3",
   "language": "python",
   "name": "python3"
  },
  "language_info": {
   "codemirror_mode": {
    "name": "ipython",
    "version": 2
   },
   "file_extension": ".py",
   "mimetype": "text/x-python",
   "name": "python",
   "nbconvert_exporter": "python",
   "pygments_lexer": "ipython2",
   "version": "2.7.6"
  }
 },
 "nbformat": 4,
 "nbformat_minor": 0
}