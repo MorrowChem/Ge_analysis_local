{
 "cells": [
  {
   "cell_type": "code",
   "execution_count": 70,
   "outputs": [
    {
     "name": "stdout",
     "output_type": "stream",
     "text": [
      "The autoreload extension is already loaded. To reload it, use:\n",
      "  %reload_ext autoreload\n"
     ]
    }
   ],
   "source": [
    "%load_ext autoreload\n",
    "%autoreload 2"
   ],
   "metadata": {
    "collapsed": false,
    "pycharm": {
     "name": "#%%\n"
    }
   }
  },
  {
   "cell_type": "code",
   "execution_count": 125,
   "outputs": [],
   "source": [
    "from Ge_calculation import GAP, MD_run\n",
    "import matplotlib as mpl\n",
    "from mtp import *\n",
    "from Ge_analysis import *\n",
    "import matplotlib.pyplot as plt\n",
    "import pickle\n",
    "from ase.io.cfg import read_cfg\n",
    "import numpy as np\n",
    "import os\n",
    "from ase import build\n",
    "from ase.atoms import Atoms\n",
    "from quippy.potential import Potential\n",
    "from quippy.descriptors import Descriptor\n",
    "from copy import deepcopy\n",
    "from ase.io.castep import read_castep_castep, read_param\n",
    "import pandas as pd\n",
    "from ase.lattice import hexagonal, tetragonal, orthorhombic\n",
    "from ase.constraints import StrainFilter, UnitCellFilter, ExpCellFilter, FixAtoms\n",
    "from ase.optimize import BFGS\n",
    "import pymatgen.ext.matproj as mp\n",
    "import pymatgen.core.periodic_table as pt\n",
    "import pymatgen.io.ase as pase\n",
    "import cProfile\n",
    "import re\n",
    "from sklearn import decomposition\n",
    "from ase.data import covalent_radii, atomic_numbers\n",
    "import warnings"
   ],
   "metadata": {
    "collapsed": false,
    "pycharm": {
     "name": "#%%\n"
    }
   }
  },
  {
   "cell_type": "markdown",
   "source": [
    "# Plan for this analysis package\n",
    "\n",
    "Compare the EV and HP curves across potentials. Will need to find a way to use SNAP and MTPs with ASE, either as\n",
    "calculators in their own right, but most likely via the lammps interface for the latter."
   ],
   "metadata": {
    "collapsed": false,
    "pycharm": {
     "name": "#%% md\n"
    }
   }
  },
  {
   "cell_type": "code",
   "execution_count": 72,
   "outputs": [
    {
     "data": {
      "text/plain": "1.2"
     },
     "execution_count": 72,
     "metadata": {},
     "output_type": "execute_result"
    }
   ],
   "source": [
    "covalent_radii[atomic_numbers['Ge']]"
   ],
   "metadata": {
    "collapsed": false,
    "pycharm": {
     "name": "#%%\n"
    }
   }
  },
  {
   "cell_type": "code",
   "execution_count": 191,
   "metadata": {
    "collapsed": true
   },
   "outputs": [],
   "source": [
    "class Cmca_factory(orthorhombic.BaseCenteredOrthorhombicFactory):\n",
    "    xtal_name='Cmca'\n",
    "    bravais_basis=[[0.717993, 0.282007, 0.5     ],\n",
    "                  [0.217993, 0.782007, 0.      ],\n",
    "                  [0.282007, 0.717993, 0.5     ],\n",
    "                  [0.782007, 0.217993, 0.      ],\n",
    "                  [0.331168, 0.331168, 0.829096],\n",
    "                  [0.668832, 0.668832, 0.170904],\n",
    "                  [0.168832, 0.168832, 0.329096],\n",
    "                  [0.831168, 0.831168, 0.670904]]\n",
    "\n",
    "class bSn_factory(tetragonal.CenteredTetragonalFactory):\n",
    "    xtal_name='bSn'\n",
    "    bravais_basis=[[0, 0.5, 0.25], [0.0, 0.0, 0.5]]\n",
    "\n",
    "class Imma_factory(orthorhombic.BodyCenteredOrthorhombicFactory):\n",
    "    xtal_name='Imma'\n",
    "    bravais_basis=[[0.0641, 0.0000, 0.7500], [0.4359, 0.5000, 0.7500]]\n",
    "\n",
    "class CrystTest:\n",
    "    '''Centre for the analysis of crystal structure minima using ASE calculators\n",
    "\n",
    "    Data is returned in a pandas DataFrame, indexed by the crystal structures\n",
    "                        Default V   V           E           V           E\n",
    "                Atoms   1st pot     1st pot     1st pot     2nd pot     2nd pot\n",
    "    --------------------------------------------------------------------------\n",
    "    fcc     .\n",
    "    bcc     .\n",
    "    diamond .\n",
    "    .       .\n",
    "    .       .\n",
    "    .       .\n",
    "    TODO:\n",
    "        Automatic scaling of lattice parameter initial guesses using covalent radii\n",
    "        Ability to add custom crystal structures\n",
    "        Better error handling for unconverged geometries\n",
    "\n",
    "        '''\n",
    "\n",
    "    def __init__(self, pots, element,\n",
    "                 extra_configs=[], extra_labels=[], n=10, opt=True, silent=False,\n",
    "                 load=False, start_cells = {}, steps=100):\n",
    "        '''pots: list of ase calculator objects (currently GAPs and MTPs). Strings will be\n",
    "                    interpreted as GAP param_filenames\n",
    "        element: element used for the pots (multicomponent systems not yet supported)\n",
    "        extra_configs/labels: custom crystal structures for evaluation (see add_config method)\n",
    "        n: number of V points calculated per crystal structure\n",
    "        opt: bool, optimize the crystal structures? If a particular calculator is unstable, add this using\n",
    "            add_pot()\n",
    "        silent: bool, silence output\n",
    "\n",
    "        '''\n",
    "        if not isinstance(pots, list):\n",
    "            self.pots = [pots]\n",
    "        else:\n",
    "            self.pots = pots\n",
    "        if load: # awaiting implementation\n",
    "            raise NotImplementedError('Hang tight, coming soon')\n",
    "\n",
    "        for i in range(len(pots)):\n",
    "            if not hasattr(pots[i], 'calculate'):\n",
    "                # assume is the filename (str) of a GAP from typical analysis\n",
    "                pots[i] = Potential(param_filename=pots[i])\n",
    "\n",
    "        # Need a better way of guessing the initial latice parameters - e.g. scaling by atomic radius\n",
    "        # based on True Si data\n",
    "        e_r = covalent_radii[atomic_numbers[element]]\n",
    "        Si_r = covalent_radii[14]\n",
    "\n",
    "        bSn_fact = bSn_factory()\n",
    "        bSn = Atoms(bSn_fact(symbol=element, latticeconstant={'a':5.2, 'c':2.87}))\n",
    "\n",
    "        Imma_fact = Imma_factory()\n",
    "        Imma = Imma_fact(symbol=element, latticeconstant={'a':2.87, 'b':4.99, 'c':5.30})\n",
    "\n",
    "        structs = [build.bulk(element, crystalstructure='fcc', a=3.0, cubic=True),\n",
    "                   build.bulk(element, crystalstructure='diamond', a=5.0,  cubic=True),\n",
    "                   build.bulk(element, crystalstructure='hcp', a=3, c=5),\n",
    "                   build.bulk(element, crystalstructure='bcc', a=3.0, cubic=True),\n",
    "                   build.bulk(element, crystalstructure='sc', a=3.0),\n",
    "                   Atoms(hexagonal.Hexagonal(symbol=element, latticeconstant={'a':3.0, 'c':3.0})),\n",
    "                   bSn,\n",
    "                   Imma] +\\\n",
    "            [deepcopy(i) for i in extra_configs]\n",
    "\n",
    "        self.labels = ['fcc', 'dia', 'hcp', 'bcc', 'sc', 'sh', 'bSn', 'Imma'] + extra_labels\n",
    "\n",
    "        # Optimise the unit cell vectors if required\n",
    "        cells = [[] for i in range(len(pots))]\n",
    "        for j, pot in enumerate(self.pots):\n",
    "            copy_structs = deepcopy(structs)\n",
    "            for ct, val in enumerate(copy_structs):\n",
    "                if opt:\n",
    "                    val.set_calculator(pot)\n",
    "                    uf = StrainFilter(val) # should ensure only the lattice can move, not atomic positions\n",
    "                    opt = BFGS(uf, logfile='/dev/null')\n",
    "                    opt.run(0.05, steps=steps)\n",
    "                    if not opt.converged():\n",
    "                        warnings.warn(('Warning: pot \\'{}\\' failed to converge on structure {}\\n' +\\\n",
    "                                      'in {} steps').format(pot.name, val, steps))\n",
    "                        val.set_cell(np.NaN*np.ones(3)) # flag unconverged geometry\n",
    "                    val.set_calculator(None)\n",
    "                cells[j].append(val.get_cell())\n",
    "        if not silent:\n",
    "            print('opts done')\n",
    "\n",
    "        # Evaluate the E/V curves on the optimised cells\n",
    "        E = [[[] for j in range(len(structs))] for i in range(len(pots))]\n",
    "        V = [[[] for j in range(len(structs))] for i in range(len(pots))]\n",
    "        for j, pot in enumerate(self.pots):\n",
    "            copy_structs = deepcopy(structs)\n",
    "            for ct, val in enumerate(copy_structs):\n",
    "                for i in np.linspace(0.95, 1.05, n):\n",
    "                    val.set_cell(i*cells[j][ct], scale_atoms=True)\n",
    "                    val.set_calculator(pot)\n",
    "                    E[j][ct].append(val.get_potential_energy()/len(val))\n",
    "                    V[j][ct].append(val.get_volume()/len(val))\n",
    "\n",
    "            if not silent:\n",
    "                print('pot {0} done'.format(pot.name))\n",
    "\n",
    "        # Construct a DataFrame with the data\n",
    "        dat = {'Structure':structs, 'Volumes':V[0]}\n",
    "        for i, val in enumerate(self.pots):\n",
    "            dat.update({val.name +  '_V' : V[i], val.name + '_E' : E[i]})\n",
    "        print(dat)\n",
    "        self.df = pd.DataFrame(dat, index=self.labels)\n",
    "\n",
    "    def add_config(self, config, label, opt=False, n=10):\n",
    "\n",
    "        config = deepcopy(config)\n",
    "        if opt:\n",
    "            config.set_calculator(self.pots[0])\n",
    "            uf = UnitCellFilter(config)\n",
    "            opt = BFGS(uf, logfile='dump')\n",
    "            opt.run(0.05)\n",
    "            config.set_calculator(None)\n",
    "        cell = config.get_cell()\n",
    "\n",
    "        E = [[] for i in self.pots]; V = []\n",
    "        for j, p in enumerate(self.pots):\n",
    "            for i in np.linspace(0.95, 1.05, n):\n",
    "                config.set_cell(i*cell)\n",
    "                config.set_calculator(p)\n",
    "                E[j].append(config.get_potential_energy()/len(config))\n",
    "                if j == 0:\n",
    "                    V.append(config.get_volume()/len(config))\n",
    "            print('pot {0} done'.format(p.name))\n",
    "\n",
    "        dat = {'Structure':[config], 'Volumes':[V]}\n",
    "        for i, val in enumerate(self.pots):\n",
    "            dat.update({val.name:[E[i]]})\n",
    "        tdf = pd.DataFrame(dat, index=[label])\n",
    "        self.df = self.df.append(tdf)\n",
    "\n",
    "    def add_config_by_mpid(self):\n",
    "        return\n",
    "\n",
    "    def calc_HP(self, ps, pf, pn, opt_freq=4, subset=slice(0, 8, None)):\n",
    "        '''Calculates the Enthalpy/Pressure curves for the structures.\n",
    "        ps: float Starting pressure / GPa\n",
    "        pf: float Final pressure\n",
    "        pn: int number of pressure points\n",
    "        opt_freq: how often is the geom reoptimised w.r.t. pressure points\n",
    "        subset: slice which crystal structures to include'''\n",
    "\n",
    "\n",
    "        p = np.linspace(ps, pf, pn)\n",
    "        pea = p*0.05/8\n",
    "        copy_structs = deepcopy(self.df['Structure'][subset])\n",
    "        # consider initializing below as NaNs for pandas\n",
    "        v = [[np.zeros(pn) for i in range(len(self.df))] for j in range(len(self.pots))]\n",
    "        H = [[np.zeros(pn) for i in range(len(self.df))] for j in range(len(self.pots))]\n",
    "        for j, pot in enumerate(self.pots):\n",
    "            for ct, val in enumerate(copy_structs):\n",
    "                val.set_calculator(pot)\n",
    "                for i in range(len(p)):\n",
    "                    if i % opt_freq == 0:\n",
    "                        #val.set_constraint(FixAtoms(mask=[True for atom in val]))\n",
    "                        #uf = ExpCellFilter(val, scalar_pressure=pea[i], hydrostatic_strain=True)\n",
    "                        uf = ExpCellFilter(val, scalar_pressure=pea[i], hydrostatic_strain=True)\n",
    "                        opt = BFGS(uf, logfile='/dev/null')\n",
    "                        opt.run(0.05, steps=20)\n",
    "                        if not opt.converged():\n",
    "                            warnings.warn('Warning: {} did not converge at pressure {}'.format(\n",
    "                                            self.labels[ct],p[i]))\n",
    "                    v[j][ct][i] = (vt := val.get_volume()/len(val))\n",
    "                    H[j][ct][i] = val.get_potential_energy()/len(val) + pea[i]*vt\n",
    "                print('struct {} done'.format(self.df.index[ct]))\n",
    "\n",
    "            print('\\npot {0} done\\n'.format(pot.name))\n",
    "            self.df['H(P) {}'.format(pot.name)] = H[j]\n",
    "        self.df['P'] = [p for i in range(len(self.df))]\n",
    "\n",
    "        return\n",
    "\n",
    "    def save(self, outfile):\n",
    "        for i in flatten(self.df['Structure']):\n",
    "            i.calc = None\n",
    "        f = open(outfile, 'wb')\n",
    "        pickle.dump(self.df, f)\n",
    "        f.close()\n",
    "\n",
    "    def load(self, infile):\n",
    "        f = open(infile, 'rb')\n",
    "        self.df = pickle.load(f)\n",
    "\n",
    "\n",
    "    def add_pot(self, pot, opt=True, steps=100, n=10):\n",
    "\n",
    "        if not hasattr(pot, 'calculate'):\n",
    "            # assume is the filename (str) of a GAP from typical analysis\n",
    "            pot = Potential(param_filename=pot)\n",
    "            pot.name = os.path.splitext(os.path.basename(pot))[0]\n",
    "\n",
    "        self.pots.append(pot)\n",
    "        cells = []\n",
    "\n",
    "        if opt:\n",
    "            copy_structs = deepcopy(self.df['Structure'])\n",
    "            for ct, val in enumerate(copy_structs):\n",
    "                if opt and ct < 8:\n",
    "                    val.set_calculator(pot)\n",
    "                    uf = StrainFilter(val)\n",
    "                    opt = BFGS(uf, logfile='/dev/null')\n",
    "                    opt.run(0.05, steps=steps)\n",
    "                    if not opt.converged():\n",
    "                        warnings.warn(('Warning: pot \\'{}\\' failed to converge on structure {}\\n' +\\\n",
    "                                      'in {} steps').format(pot.name, val, steps))\n",
    "                    val.set_calculator(None)\n",
    "                cells.append(val.get_cell())\n",
    "        else:\n",
    "            cells = [i.get_cell() for i in self.df['Structure']]\n",
    "\n",
    "        E = [[] for j in range(len(self.df['Structure']))]\n",
    "        V = [[] for j in range(len(self.df['Structure']))]\n",
    "        copy_structs = deepcopy(self.df['Structure'])\n",
    "        for ct, val in enumerate(copy_structs):\n",
    "            for i in np.linspace(0.95, 1.05, n):\n",
    "                val.set_cell(i*cells[ct], scale_atoms=True)\n",
    "                val.set_calculator(pot)\n",
    "                E[ct].append(val.get_potential_energy()/len(val))\n",
    "                V[ct].append(val.get_volume()/len(val))\n",
    "\n",
    "        self.df = self.df.join(pd.DataFrame({pot.name+'_V':V, pot.name+'_E':E}, index=self.labels))\n",
    "\n",
    "\n",
    "\n",
    "    def plot_EV(self):\n",
    "        return"
   ]
  },
  {
   "cell_type": "code",
   "execution_count": 114,
   "outputs": [],
   "source": [
    "DFT_struct = []\n",
    "DFT_struct_labels = ['', '', '', '', '', '', '', '', '', 'diamond']\n",
    "DFT_dir = '/home/joe/Documents/Ge_od/Structure_databases/crystals/Si_MP_dense_cryst'\n",
    "for i in os.listdir(DFT_dir):\n",
    "    if '.castep' in i:\n",
    "        DFT_struct.append(read_castep_castep(os.path.join(DFT_dir, i))[0])\n",
    "        DFT_struct[-1].info['energy'] = get_castep_E(os.path.join(DFT_dir, i))"
   ],
   "metadata": {
    "collapsed": false,
    "pycharm": {
     "name": "#%%\n"
    }
   }
  },
  {
   "cell_type": "code",
   "execution_count": 75,
   "outputs": [],
   "source": [
    "from ase.spacegroup.symmetrize import check_symmetry"
   ],
   "metadata": {
    "collapsed": false,
    "pycharm": {
     "name": "#%%\n"
    }
   }
  },
  {
   "cell_type": "code",
   "execution_count": 76,
   "outputs": [
    {
     "name": "stdout",
     "output_type": "stream",
     "text": [
      "I4/mmm\n",
      "P6/mmm\n",
      "R-3m\n",
      "Fm-3m\n",
      "I4_1/amd\n",
      "P6_3/mmc\n",
      "Im-3m\n",
      "Fmmm\n",
      "Cmcm\n",
      "Cmce\n"
     ]
    }
   ],
   "source": [
    "for i in DFT_struct:\n",
    "    print(check_symmetry(i, symprec=1e-5)['international'])\n"
   ],
   "metadata": {
    "collapsed": false,
    "pycharm": {
     "name": "#%%\n"
    }
   }
  },
  {
   "cell_type": "code",
   "execution_count": 161,
   "outputs": [
    {
     "name": "stderr",
     "output_type": "stream",
     "text": [
      "/home/joe/ase/ase/calculators/calculator.py:507: FutureWarning: The keyword \"ignore_bad_restart_file\" is deprecated and will be removed in a future version of ASE.  Passing more than one positional argument to Calculator is also deprecated and will stop functioning in the future.  Please pass arguments by keyword (key=value) except optionally the \"restart\" keyword.\n",
      "  warnings.warn(FutureWarning(\n"
     ]
    }
   ],
   "source": [
    "pots = [\n",
    "        Potential(param_filename='/home/joe/Documents/Ge_od/Potentials/Si_myDB_supercrystals/GAP/Si_litDB_liqamocryst_loose_ns4000.xml'),\n",
    "        Potential(param_filename='/home/joe/Documents/Ge_od/Potentials/Si_myDB_reg_testing/Si_myDB_ds0.075_0.75_0.375_0.0.xml'),\n",
    "        MTP('/home/joe/Documents/Ge_od/Potentials/Si_myDB_supercrystals/MTP/Si_myDB_liqamocryst_train_24_rb_12.mtp', potential_name='MTP_24_rb_12')\n",
    "        ]\n",
    "pots[0].name = 'liq_amo_cryst_loose'\n",
    "pots[1].name = 'liq_amo_0.75loose'"
   ],
   "metadata": {
    "collapsed": false,
    "pycharm": {
     "name": "#%%\n"
    }
   }
  },
  {
   "cell_type": "code",
   "execution_count": 210,
   "outputs": [
    {
     "name": "stdout",
     "output_type": "stream",
     "text": [
      "WARNING: Got volume 77.604800, expected 155.209600\n",
      "WARNING: Got volume 75.902890, expected 151.805780\n",
      "opts done\n",
      "pot liq_amo_cryst_loose done\n",
      "pot liq_amo_0.75loose done\n",
      "{'Structure': [Atoms(symbols='Si4', pbc=True, cell=[3.0, 3.0, 3.0]), Atoms(symbols='Si8', pbc=True, cell=[5.0, 5.0, 5.0]), Atoms(symbols='Si2', pbc=True, cell=[[3.0, 0.0, 0.0], [-1.5, 2.598076211353316, 0.0], [0.0, 0.0, 5.0]]), Atoms(symbols='Si2', pbc=True, cell=[3.0, 3.0, 3.0]), Atoms(symbols='Si', pbc=True, cell=[3.0, 3.0, 3.0]), Atoms(symbols='Si', pbc=True, cell=[[3.0, 0.0, 0.0], [-1.4999999999999993, 2.598076211353316, 0.0], [0.0, 0.0, 3.0]]), Atoms(symbols='Si4', pbc=True, cell=[5.2, 5.2, 2.87]), Lattice(symbols='Si4', pbc=True, cell=[2.87, 4.99, 5.3])], 'Volumes': [[8.406153645561451, 8.704569594210222, 9.009965718282869, 9.322422713449026, 9.642021275378335, 9.968842099740433, 10.302965882204964, 10.644473318441568, 10.993445104119884, 11.349961934909562], [17.294465307055443, 17.90841367019335, 18.536722751299962, 19.17955857023614, 19.837087146862817, 20.509474501040916, 21.196886652631317, 21.899489621494958, 22.61744942749274, 23.350932090485585], [8.845462943895184, 9.159474241682222, 9.480830501940464, 9.809616637530835, 10.145917561314278, 10.489818186151735, 10.841403424904131, 11.200758190432424, 11.567967395597547, 11.943115953260422], [13.287752533865383, 13.759463787905721, 14.242208726028718, 14.736114905275791, 15.241309882688338, 15.757921215307807, 16.286076460175593, 16.825903174333128, 17.37752891482182, 17.941081238683093], [13.742117306655627, 14.229958374689597, 14.729210415391972, 15.240005347521915, 15.76247508983861, 16.296751561101214, 16.84296668006891, 17.40125236550086, 17.971740536156258, 18.554563110794255], [12.539144498889566, 12.9842803908389, 13.439828348990925, 13.905908744053178, 14.382641946733209, 14.870148327738555, 15.368548257776766, 15.877962107555387, 16.398510247781985, 16.930313049164063], [12.892030873141804, 13.349694126186105, 13.818062469912647, 14.297259662595188, 14.787409462507528, 15.288635627923455, 15.801061917116744, 16.32481208836116, 16.860009899930535, 17.40677911009859], [12.765299549014562, 13.21846387782936, 13.68222806407568, 14.156714649457921, 14.642046175680518, 15.138345184447845, 15.645734217464332, 16.164335816434402, 16.694272523062466, 17.235666879052907]], 'liq_amo_cryst_loose_V': [[8.406153645561451, 8.704569594210222, 9.009965718282869, 9.322422713449026, 9.642021275378335, 9.968842099740433, 10.302965882204964, 10.644473318441568, 10.993445104119884, 11.349961934909562], [17.294465307055443, 17.90841367019335, 18.536722751299962, 19.17955857023614, 19.837087146862817, 20.509474501040916, 21.196886652631317, 21.899489621494958, 22.61744942749274, 23.350932090485585], [8.845462943895184, 9.159474241682222, 9.480830501940464, 9.809616637530835, 10.145917561314278, 10.489818186151735, 10.841403424904131, 11.200758190432424, 11.567967395597547, 11.943115953260422], [13.287752533865383, 13.759463787905721, 14.242208726028718, 14.736114905275791, 15.241309882688338, 15.757921215307807, 16.286076460175593, 16.825903174333128, 17.37752891482182, 17.941081238683093], [13.742117306655627, 14.229958374689597, 14.729210415391972, 15.240005347521915, 15.76247508983861, 16.296751561101214, 16.84296668006891, 17.40125236550086, 17.971740536156258, 18.554563110794255], [12.539144498889566, 12.9842803908389, 13.439828348990925, 13.905908744053178, 14.382641946733209, 14.870148327738555, 15.368548257776766, 15.877962107555387, 16.398510247781985, 16.930313049164063], [12.892030873141804, 13.349694126186105, 13.818062469912647, 14.297259662595188, 14.787409462507528, 15.288635627923455, 15.801061917116744, 16.32481208836116, 16.860009899930535, 17.40677911009859], [12.765299549014562, 13.21846387782936, 13.68222806407568, 14.156714649457921, 14.642046175680518, 15.138345184447845, 15.645734217464332, 16.164335816434402, 16.694272523062466, 17.235666879052907]], 'liq_amo_cryst_loose_E': [[-168.60516057829332, -168.6761871089022, -168.7285356717022, -168.76574246130525, -168.7862792248729, -168.7861493465487, -168.76252935936193, -168.71743968565744, -168.66039730225535, -168.6025427936475], [-168.79152465988741, -168.84834650662236, -168.89127071039366, -168.92131487384992, -168.93882601553935, -168.9388638537099, -168.91677929972383, -168.88033664419225, -168.83346619329242, -168.78147689735414], [-168.5451705294643, -168.57232418385234, -168.59313630061996, -168.61136296725192, -168.62355830766325, -168.62368976858582, -168.60847752165697, -168.581950245761, -168.55322672683573, -168.52463703976042], [-168.42054098300423, -168.4427880776708, -168.4746705721391, -168.50233880305743, -168.51950529898596, -168.51904810654426, -168.49530175150963, -168.43985193995718, -168.3632690556315, -168.27945645983016], [-168.60962456717678, -168.64844594604864, -168.6761238813957, -168.69300068882015, -168.7027775213882, -168.7027893610254, -168.69100692900855, -168.6682009739701, -168.63275564430324, -168.5832803400125], [-168.56497839887965, -168.62702953835282, -168.6790847661587, -168.71731344391372, -168.73852033165417, -168.7396985828878, -168.72694297221165, -168.70621735101236, -168.67863898131463, -168.64463338740617], [-168.61538104574458, -168.6697675201978, -168.71310892149984, -168.7423993733635, -168.75618308481566, -168.75631187647065, -168.7432503936089, -168.71842657710712, -168.68514810809253, -168.6452339931309], [-168.59132610800344, -168.65228515881566, -168.70251068944427, -168.73542427379564, -168.75110098144734, -168.75116632163594, -168.7383245785538, -168.71672706890345, -168.68664270321676, -168.64731899023622]], 'liq_amo_0.75loose_V': [[8.495818684515855, 8.797417715319487, 9.106071376253357, 9.421861223735144, 9.74486881418254, 10.075175704013239, 10.412863449644927, 10.758013607495306, 11.110707733982064, 11.471027385522877], [16.87367615373889, 17.472686627366016, 18.085708410393956, 18.712903483278193, 19.354433826474263, 20.010461420437615, 20.681148245623795, 21.366656282488268, 22.067147511486606, 22.782783913074198], [9.00026810359603, 9.319774938406985, 9.646755280469158, 9.981295528710312, 10.32348208205821, 10.673401339440602, 11.031139699785252, 11.396783562019921, 11.770419325072382, 12.152133387870371], [12.977457851426319, 13.438153736735018, 13.90962564829524, 14.39199816444513, 14.885395863522879, 15.389943323866653, 15.9057651238146, 16.432985841704916, 16.97173005587576, 17.522122344665288], [13.872100465334393, 14.36455589675512, 14.868530234304421, 15.384156644527135, 15.911568293968104, 16.45089834917216, 17.00227997668414, 17.5658463430489, 18.14173061481128, 18.730065958516104], [12.793549161910107, 13.24771634356184, 13.712506840133747, 14.18804346451505, 14.674449029595019, 15.171846348262905, 15.680358233407947, 16.200107497919404, 16.731216954686527, 17.27380941659856], [12.983045059486473, 13.44393928901583, 13.915614184218489, 14.398194377067552, 14.891804499536155, 15.396569183597338, 15.912613061224231, 16.440060764389955, 16.97903692506759, 17.529666175230247], [12.869697649830622, 13.326568080104629, 13.794125056334833, 14.27249212240507, 14.76179282219929, 15.26215069960133, 15.773689298495107, 16.296532162764496, 16.830802836293397, 17.376624862965652]], 'liq_amo_0.75loose_E': [[-168.53713282566392, -168.60333813051116, -168.65289422072277, -168.68916339091453, -168.70959087366114, -168.70949240284526, -168.68650317053755, -168.64501114387355, -168.59896967294975, -168.55540752671496], [-168.6580683555932, -168.73401291561456, -168.79412996943677, -168.83665027500848, -168.85914975155552, -168.8590728549455, -168.8245122827682, -168.75497534678018, -168.66144973395572, -168.5528117427552], [-168.51484346332649, -168.53571987754847, -168.55448707073552, -168.573098305128, -168.58592597222093, -168.58582016924092, -168.57074091932637, -168.54938689316916, -168.53149449715414, -168.52114168921904], [-168.38619106640942, -168.39016537382838, -168.4133813518263, -168.438701903536, -168.45436328017365, -168.4542584690681, -168.4332248879195, -168.38585458024681, -168.30561613585104, -168.2076953227916], [-168.5692274483907, -168.61016205379596, -168.63804901855676, -168.65491420117303, -168.66584314056254, -168.66561913666743, -168.65415180028702, -168.6327023266175, -168.59573877448543, -168.54373968969816], [-168.56318404924676, -168.6138347930809, -168.661897126126, -168.6950563333987, -168.71389675116444, -168.7142751822363, -168.69459162810134, -168.66127992568553, -168.61873202823338, -168.5689769856881], [-168.54885674050374, -168.5964145423946, -168.6371523880804, -168.6700934292521, -168.6862981754676, -168.68634359100034, -168.6726087362406, -168.64901242488648, -168.6189795927044, -168.57935677591502], [-168.5530809288474, -168.60690969194775, -168.65396585065668, -168.68613195733485, -168.70201898261087, -168.70208361151487, -168.68750144666097, -168.66068600110322, -168.62467315310946, -168.5815483923911]]}\n"
     ]
    }
   ],
   "source": [
    "Si_Cryst = CrystTest(pots[:-1], 'Si')"
   ],
   "metadata": {
    "collapsed": false,
    "pycharm": {
     "name": "#%%\n"
    }
   }
  },
  {
   "cell_type": "code",
   "execution_count": 193,
   "outputs": [],
   "source": [
    "Si_Cryst.add_pot(pots[2], opt=False)"
   ],
   "metadata": {
    "collapsed": false,
    "pycharm": {
     "name": "#%%\n"
    }
   }
  },
  {
   "cell_type": "code",
   "execution_count": 212,
   "outputs": [
    {
     "data": {
      "text/plain": "                                             Structure  \\\nfcc  (Atom('Si', [0.0, 0.0, 0.0], index=0), Atom('S...   \n\n                                               Volumes  \\\nfcc  [8.406153645561451, 8.704569594210222, 9.00996...   \n\n                                 liq_amo_cryst_loose_V  \\\nfcc  [8.406153645561451, 8.704569594210222, 9.00996...   \n\n                                 liq_amo_cryst_loose_E  \\\nfcc  [-168.60516057829332, -168.6761871089022, -168...   \n\n                                   liq_amo_0.75loose_V  \\\nfcc  [8.495818684515855, 8.797417715319487, 9.10607...   \n\n                                   liq_amo_0.75loose_E  \nfcc  [-168.53713282566392, -168.60333813051116, -16...  ",
      "text/html": "<div>\n<style scoped>\n    .dataframe tbody tr th:only-of-type {\n        vertical-align: middle;\n    }\n\n    .dataframe tbody tr th {\n        vertical-align: top;\n    }\n\n    .dataframe thead th {\n        text-align: right;\n    }\n</style>\n<table border=\"1\" class=\"dataframe\">\n  <thead>\n    <tr style=\"text-align: right;\">\n      <th></th>\n      <th>Structure</th>\n      <th>Volumes</th>\n      <th>liq_amo_cryst_loose_V</th>\n      <th>liq_amo_cryst_loose_E</th>\n      <th>liq_amo_0.75loose_V</th>\n      <th>liq_amo_0.75loose_E</th>\n    </tr>\n  </thead>\n  <tbody>\n    <tr>\n      <th>fcc</th>\n      <td>(Atom('Si', [0.0, 0.0, 0.0], index=0), Atom('S...</td>\n      <td>[8.406153645561451, 8.704569594210222, 9.00996...</td>\n      <td>[8.406153645561451, 8.704569594210222, 9.00996...</td>\n      <td>[-168.60516057829332, -168.6761871089022, -168...</td>\n      <td>[8.495818684515855, 8.797417715319487, 9.10607...</td>\n      <td>[-168.53713282566392, -168.60333813051116, -16...</td>\n    </tr>\n  </tbody>\n</table>\n</div>"
     },
     "execution_count": 212,
     "metadata": {},
     "output_type": "execute_result"
    }
   ],
   "source": [
    "Si_Cryst.df.head(1)"
   ],
   "metadata": {
    "collapsed": false,
    "pycharm": {
     "name": "#%%\n"
    }
   }
  },
  {
   "cell_type": "code",
   "execution_count": null,
   "outputs": [
    {
     "name": "stdout",
     "output_type": "stream",
     "text": [
      "struct fcc done\n",
      "struct dia done\n",
      "struct hcp done\n",
      "struct bcc done\n",
      "struct sc done\n",
      "struct sh done\n"
     ]
    }
   ],
   "source": [
    "Si_Cryst.calc_HP(0, 75, 75, opt_freq=1)\n"
   ],
   "metadata": {
    "collapsed": false,
    "pycharm": {
     "name": "#%%\n",
     "is_executing": true
    }
   }
  },
  {
   "cell_type": "code",
   "execution_count": 208,
   "outputs": [
    {
     "data": {
      "text/plain": "<matplotlib.legend.Legend at 0x7f96f2317b80>"
     },
     "execution_count": 208,
     "metadata": {},
     "output_type": "execute_result"
    },
    {
     "data": {
      "text/plain": "<Figure size 576x432 with 1 Axes>",
      "image/png": "[encoded data removed]"
     },
     "metadata": {
      "needs_background": "light"
     },
     "output_type": "display_data"
    }
   ],
   "source": [
    "styl_list=['-','--','-.',':', (0, (3,6,3,6,3,10))]\n",
    "df = Si_Cryst.df\n",
    "cols = []\n",
    "fig, axs = plt.subplots(figsize=(8,6))\n",
    "for i in range(len(df['Structure'])):\n",
    "    if i in []:\n",
    "        continue\n",
    "    line, = axs.plot(df['Volumes'][i], df[df.columns[3]][i], label=df.index[i])\n",
    "    cols.append(df.columns[3][:-2])\n",
    "    if i == 0:\n",
    "        hands = [line]\n",
    "    for j, val in enumerate(df.keys()):\n",
    "        if val[-2:] == '_V' and j >= 4:\n",
    "            tmp, = axs.plot(df[df.columns[j]][i], df[df.columns[j+1]][i], linestyle=styl_list[j-3], color=line.get_color())\n",
    "            cols.append(val[:-2])\n",
    "            if i == 0:\n",
    "                hands.append(tmp)\n",
    "l1 = axs.legend(loc='upper left')\n",
    "axs.legend()\n",
    "l2 = axs.legend(hands, cols, loc='upper right')\n",
    "axs.set(ylim=(-169, -168))\n",
    "axs.add_artist(l1)"
   ],
   "metadata": {
    "collapsed": false,
    "pycharm": {
     "name": "#%%\n"
    }
   }
  },
  {
   "cell_type": "code",
   "execution_count": 113,
   "outputs": [],
   "source": [
    "c = read_castep_castep('/home/joe/Documents/Ge_od/Structure_databases/crystals/Si_crystals_DFT/geom/diamond_geom.castep')"
   ],
   "metadata": {
    "collapsed": false,
    "pycharm": {
     "name": "#%%\n"
    }
   }
  },
  {
   "cell_type": "code",
   "execution_count": 31,
   "outputs": [
    {
     "name": "stdout",
     "output_type": "stream",
     "text": [
      "Using new read_Castep\n"
     ]
    },
    {
     "name": "stderr",
     "output_type": "stream",
     "text": [
      "/home/joe/ase/ase/calculators/castep.py:897: UserWarning: No regular end found in //home/joe/Documents/Ge_od/Structure_databases/dia_Evol_first/CASTEP/dia.castep file. None\n",
      "  warnings.warn('No regular end found in %s file. %s' % (castep_file, self._error))\n"
     ]
    }
   ],
   "source": [
    "d = read_castep_castep('//home/joe/Documents/Ge_od/Structure_databases/dia_Evol_first/CASTEP/dia.castep')"
   ],
   "metadata": {
    "collapsed": false,
    "pycharm": {
     "name": "#%%\n"
    }
   }
  },
  {
   "cell_type": "code",
   "execution_count": 36,
   "outputs": [
    {
     "data": {
      "text/plain": "[]"
     },
     "execution_count": 36,
     "metadata": {},
     "output_type": "execute_result"
    }
   ],
   "source": [
    "c[0].calc._warnings"
   ],
   "metadata": {
    "collapsed": false,
    "pycharm": {
     "name": "#%%\n"
    }
   }
  },
  {
   "cell_type": "code",
   "execution_count": 10,
   "outputs": [],
   "source": [
    "\n",
    "from ase.calculators.castep import Castep\n"
   ],
   "metadata": {
    "collapsed": false,
    "pycharm": {
     "name": "#%%\n"
    }
   }
  },
  {
   "cell_type": "code",
   "execution_count": 14,
   "outputs": [],
   "source": [
    "calc = Castep()"
   ],
   "metadata": {
    "collapsed": false,
    "pycharm": {
     "name": "#%%\n"
    }
   }
  },
  {
   "cell_type": "code",
   "execution_count": 39,
   "outputs": [
    {
     "data": {
      "text/plain": "[Atoms(symbols='Si8', pbc=True, cell=[5.4322234, 5.4322234, 5.4322234], initial_magmoms=..., calculator=Castep(...))]"
     },
     "execution_count": 39,
     "metadata": {},
     "output_type": "execute_result"
    }
   ],
   "source": [
    "[c[0]]"
   ],
   "metadata": {
    "collapsed": false,
    "pycharm": {
     "name": "#%%\n"
    }
   }
  },
  {
   "cell_type": "code",
   "execution_count": 101,
   "outputs": [],
   "source": [
    "c[0].set_calculator(pots[2])"
   ],
   "metadata": {
    "collapsed": false,
    "pycharm": {
     "name": "#%%\n"
    }
   }
  },
  {
   "cell_type": "code",
   "execution_count": 102,
   "outputs": [
    {
     "data": {
      "text/plain": "array([ 0.21632,  0.21632,  0.21632, -0.     , -0.     , -0.     ])"
     },
     "execution_count": 102,
     "metadata": {},
     "output_type": "execute_result"
    }
   ],
   "source": [
    "c[0].get_stress()"
   ],
   "metadata": {
    "collapsed": false,
    "pycharm": {
     "name": "#%%\n"
    }
   }
  },
  {
   "cell_type": "code",
   "execution_count": 107,
   "outputs": [],
   "source": [
    "c[0].set_cell([5.44, 5.44, 5.40])"
   ],
   "metadata": {
    "collapsed": false,
    "pycharm": {
     "name": "#%%\n"
    }
   }
  },
  {
   "cell_type": "code",
   "execution_count": 104,
   "outputs": [
    {
     "data": {
      "text/plain": "Cell([5.44, 5.44, 5.4])"
     },
     "execution_count": 104,
     "metadata": {},
     "output_type": "execute_result"
    }
   ],
   "source": [
    "c[0].get_cell()"
   ],
   "metadata": {
    "collapsed": false,
    "pycharm": {
     "name": "#%%\n"
    }
   }
  },
  {
   "cell_type": "code",
   "execution_count": 105,
   "outputs": [
    {
     "data": {
      "text/plain": "array([ 0.34104,  0.34104,  0.87072,  0.07879,  0.07879, -0.34307])"
     },
     "execution_count": 105,
     "metadata": {},
     "output_type": "execute_result"
    }
   ],
   "source": [
    "c[0].get_stress(include_ideal_gas=False)"
   ],
   "metadata": {
    "collapsed": false,
    "pycharm": {
     "name": "#%%\n"
    }
   }
  },
  {
   "cell_type": "code",
   "execution_count": 109,
   "outputs": [
    {
     "name": "stdout",
     "output_type": "stream",
     "text": [
      "[-0.19598 -0.19598 -0.19598  0.07824  0.07824  0.07824]\n",
      "[-2.94113 -2.94113 -2.94113  0.55338  0.55338  0.55338]\n",
      "[-5.40834 -5.40834 -5.40834  0.93631  0.93631  0.93631]\n",
      "[-7.57342 -7.57342 -7.57342  1.26388  1.26388  1.26388]\n",
      "[-9.48317 -9.48317 -9.48317  1.54092  1.54092  1.54092]\n",
      "[-11.26924 -11.26924 -11.26924   1.74449   1.74449   1.74449]\n",
      "[-13.00014 -13.00014 -13.00014   1.90817   1.90817   1.90817]\n",
      "[-14.65586 -14.65586 -14.65586   2.00861   2.00861   2.00861]\n",
      "[-16.1835  -16.1835  -16.1835    2.08213   2.08213   2.08213]\n",
      "[-17.53441 -17.53441 -17.53441   2.03102   2.03102   2.03102]\n",
      "[-17.91931 -17.91931 -17.91931   1.69317   1.69317   1.69317]\n",
      "[-18.65981 -18.65981 -18.65981   1.58379   1.58379   1.58379]\n",
      "[-19.19049 -19.19049 -19.19049   1.45073   1.45073   1.45073]\n",
      "[-19.69254 -19.69254 -19.69254   1.31333   1.31333   1.31333]\n",
      "[-20.14085 -20.14085 -20.14085   1.1668    1.1668    1.1668 ]\n",
      "[-19.37568 -19.37568 -19.37568   0.91484   0.91484   0.91484]\n",
      "[-19.72135 -19.72135 -19.72135   0.7631    0.7631    0.7631 ]\n",
      "[-19.99284 -19.99284 -19.99284   0.62039   0.62039   0.62039]\n",
      "[-20.1555  -20.1555  -20.1555    0.48146   0.48146   0.48146]\n",
      "[-20.15333 -20.15333 -20.15333   0.32925   0.32925   0.32925]\n"
     ]
    }
   ],
   "source": [
    "for i in range(20):\n",
    "    c[0].set_cell(np.array([5.44, 5.44, 5.44])*(1+i/100))\n",
    "    print(c[0].get_stress())"
   ],
   "metadata": {
    "collapsed": false,
    "pycharm": {
     "name": "#%%\n"
    }
   }
  },
  {
   "cell_type": "code",
   "execution_count": 120,
   "outputs": [],
   "source": [
    "from ase.spacegroup.symmetrize import FixSymmetry"
   ],
   "metadata": {
    "collapsed": false,
    "pycharm": {
     "name": "#%%\n"
    }
   }
  },
  {
   "cell_type": "code",
   "execution_count": 122,
   "outputs": [
    {
     "data": {
      "text/plain": "Atoms(symbols='Si', pbc=True, cell=[[-1.676685, 1.676685, 1.287674], [1.676685, -1.676685, 1.287674], [1.676685, 1.676685, -1.287674]], initial_magmoms=..., calculator=Castep(...))"
     },
     "execution_count": 122,
     "metadata": {},
     "output_type": "execute_result"
    }
   ],
   "source": [
    "DFT_struct[0]"
   ],
   "metadata": {
    "collapsed": false,
    "pycharm": {
     "name": "#%%\n"
    }
   }
  },
  {
   "cell_type": "code",
   "execution_count": null,
   "outputs": [],
   "source": [
    "copy_structs = [deepcopy(DFT_struct[0])]\n",
    "for ct, val in enumerate(copy_structs):\n",
    "    if True and ct < 8:\n",
    "        val.set_calculator(pots[2])\n",
    "        val.set_constraint(FixSymmetry(val))\n",
    "        uf = StrainFilter(val)\n",
    "        opt = BFGS(uf, trajectory='MTP_test.traj')\n",
    "        opt.run(0.05, steps=50)\n",
    "        val.set_calculator(None)"
   ],
   "metadata": {
    "collapsed": false,
    "pycharm": {
     "name": "#%%\n"
    }
   }
  },
  {
   "cell_type": "code",
   "execution_count": 118,
   "outputs": [
    {
     "data": {
      "text/plain": "'/home/joe/PycharmProjects/Ge_analysis_local'"
     },
     "execution_count": 118,
     "metadata": {},
     "output_type": "execute_result"
    }
   ],
   "source": [
    "os.getcwd()"
   ],
   "metadata": {
    "collapsed": false,
    "pycharm": {
     "name": "#%%\n"
    }
   }
  },
  {
   "cell_type": "code",
   "execution_count": 123,
   "outputs": [
    {
     "data": {
      "text/plain": "<mtp.MTP at 0x7f96f32b4ca0>"
     },
     "execution_count": 123,
     "metadata": {},
     "output_type": "execute_result"
    }
   ],
   "source": [
    "MTP('/home/joe/Documents/Ge_od/Potentials/Si_myDB_supercrystals/MTP/Si_myDB_liqamocryst_train_24_rb_12.mtp', potential_name='MTP_24_rb_12')"
   ],
   "metadata": {
    "collapsed": false,
    "pycharm": {
     "name": "#%%\n"
    }
   }
  },
  {
   "cell_type": "code",
   "execution_count": 124,
   "outputs": [
    {
     "data": {
      "text/plain": "False"
     },
     "execution_count": 124,
     "metadata": {},
     "output_type": "execute_result"
    }
   ],
   "source": [
    "opt.converged()\n"
   ],
   "metadata": {
    "collapsed": false,
    "pycharm": {
     "name": "#%%\n"
    }
   }
  },
  {
   "cell_type": "code",
   "execution_count": 130,
   "outputs": [
    {
     "data": {
      "text/plain": "'hi/mate'"
     },
     "execution_count": 130,
     "metadata": {},
     "output_type": "execute_result"
    }
   ],
   "source": [
    "os.path.splitext('hi/mate.txt')[0]"
   ],
   "metadata": {
    "collapsed": false,
    "pycharm": {
     "name": "#%%\n"
    }
   }
  },
  {
   "cell_type": "code",
   "execution_count": null,
   "outputs": [],
   "source": [],
   "metadata": {
    "collapsed": false,
    "pycharm": {
     "name": "#%%\n"
    }
   }
  }
 ],
 "metadata": {
  "kernelspec": {
   "display_name": "Python 3",
   "language": "python",
   "name": "python3"
  },
  "language_info": {
   "codemirror_mode": {
    "name": "ipython",
    "version": 2
   },
   "file_extension": ".py",
   "mimetype": "text/x-python",
   "name": "python",
   "nbconvert_exporter": "python",
   "pygments_lexer": "ipython2",
   "version": "2.7.6"
  }
 },
 "nbformat": 4,
 "nbformat_minor": 0
}