{
 "cells": [
  {
   "cell_type": "code",
   "execution_count": 2,
   "metadata": {
    "collapsed": true
   },
   "outputs": [],
   "source": [
    "from ase.io.extxyz import read_xyz\n",
    "import numpy as np\n",
    "import json\n",
    "import os"
   ]
  },
  {
   "cell_type": "code",
   "execution_count": 218,
   "outputs": [],
   "source": [
    "file = '/home/joe/mlip_test/gp_iter6_liqamo_lp.xyz'\n",
    "db = list(read_xyz(file, index=slice(0,None)))\n",
    "db_min = db[0:4]"
   ],
   "metadata": {
    "collapsed": false,
    "pycharm": {
     "name": "#%%\n"
    }
   }
  },
  {
   "cell_type": "code",
   "execution_count": 21,
   "outputs": [],
   "source": [
    "def write_json_db(a, d=\"\", force_name='dft_force', virial_name='dft_virial', energy_name='dft_energy',\n",
    "                  weights_dict={}, weights_default=[100, 1, 1e-8]):\n",
    "    \"\"\"Writes a list of atoms to the MTP mlip-2 cfg database file format\n",
    "    WARNING: incurs loss of array information other than positions and forces of atoms.\n",
    "    Atoms.info dict is stored as features\n",
    "    Params: set the key words for the forces, energy, and virials if they differ from the defaults above\n",
    "    \"\"\"\n",
    "    d = os.path.join(d, \"JSON\")\n",
    "    if not os.path.isdir(d):\n",
    "        os.makedirs(d)\n",
    "\n",
    "   # divide DB into list of lists based on config_type\n",
    "    configs = []; types_list = []\n",
    "    for i in a:\n",
    "        if 'config_type' not in i.info.keys():\n",
    "            i.info['config_type'] = 'default'\n",
    "        if i.info['config_type'] not in types_list:\n",
    "            types_list.append(i.info['config_type'])\n",
    "            configs.append([])\n",
    "            configs[-1].append(i)\n",
    "        else:\n",
    "            configs[types_list.index(i.info['config_type'])].append(i)\n",
    "\n",
    "    type_lengths = [len(i) for i in configs]\n",
    "    for i in types_list:\n",
    "        if i not in weights_dict.keys():\n",
    "            weights_dict.update({i: weights_default})\n",
    "\n",
    "    for ci, i in enumerate(configs):\n",
    "        path = os.path.join(d, types_list[ci])\n",
    "        os.mkdir(path)\n",
    "        no_stress_indices = []\n",
    "\n",
    "        for ct, val in enumerate(i):\n",
    "            Lattice = val.get_cell()\n",
    "            det = np.linalg.det(Lattice)\n",
    "            if det < 0:\n",
    "                print('Warning, left-handed axes detected, skipping this config:')\n",
    "                print(det, types_list[ci], 'No.', ct)\n",
    "                type_lengths[ci] -= 1\n",
    "                continue\n",
    "            NumAtoms = len(val)\n",
    "            AtomTypes = val.get_chemical_symbols()\n",
    "            Positions = val.get_positions(wrap=True)\n",
    "\n",
    "            if virial_name in val.info.keys() and 'no_stress' not in val.info['config_type']:\n",
    "                if isinstance(val.info[virial_name], np.ndarray):\n",
    "                    Stress = -1e4*np.reshape(val.info[virial_name], (3,3))/val.get_volume()\n",
    "                    # Need to check that this is the correct form for the stress:\n",
    "                    # currently as Castep outputs (i.e. non-virial (mechanical) stress, converted to Bar\n",
    "            elif 'no_stress' not in val.info['config_type']:\n",
    "                if (td := types_list[ci] + '_no_stress') not in types_list: # move to the relevant *no_stress folder\n",
    "                    configs.append([])\n",
    "                    type_lengths.append(0)\n",
    "                    types_list.append(td)\n",
    "                    weights_dict.update({td: weights_dict[val.info['config_type']][:-1] + [0]}) # set stress weight to 0\n",
    "                val.info['config_type'] = td\n",
    "                configs[(ti := types_list.index(td))].append(val)\n",
    "                type_lengths[ci] -= 1\n",
    "                type_lengths[ti] += 1\n",
    "                continue\n",
    "            else:\n",
    "                Stress = np.zeros((3,3))\n",
    "\n",
    "            Forces = val.get_array(force_name)\n",
    "            Energy = val.info[energy_name]\n",
    "\n",
    "            data = {\"Dataset\": {\"Data\": [{\n",
    "                    \"Stress\": Stress.tolist(),\n",
    "                    \"Positions\": Positions.tolist(),\n",
    "                    \"Energy\": Energy.tolist(),\n",
    "                    \"AtomTypes\": AtomTypes,\n",
    "                    \"Lattice\": Lattice.tolist(),\n",
    "                    \"NumAtoms\": NumAtoms,\n",
    "                    \"Forces\": Forces.tolist(),\n",
    "                    }],\n",
    "                    \"PositionsStyle\": \"angstrom\", \"AtomTypeStyle\": \"chemicalsymbol\",\n",
    "                    \"Label\": types_list[ci], \"StressStyle\": \"bar\",\n",
    "                    \"LatticeStyle\": \"angstrom\", \"EnergyStyle\": \"electronvolt\",\n",
    "                    \"ForcesStyle\": \"electronvoltperangstrom\"\n",
    "                    }}\n",
    "\n",
    "            with open(os.path.join(d, types_list[ci], val.info['config_type'] + '_{}.json'.format(str(ct))), 'w') as f:\n",
    "                f.write('# Comment line\\n')\n",
    "                json.dump(data, f)\n",
    "\n",
    "    with open(os.path.join(d[:-4] + 'grouplist'), 'w') as f:\n",
    "        f.write('# name size eweight fweight vweight\\n')\n",
    "        for i, val in enumerate(types_list):\n",
    "            if type_lengths[i] > 0:\n",
    "                f.write('{:40s}     {:<6d}     {:<7.10f}     {:<7.10f}    {:<7.10f}\\n'.format(val, type_lengths[i], *weights_dict[val]))"
   ],
   "metadata": {
    "collapsed": false,
    "pycharm": {
     "name": "#%%\n"
    }
   }
  },
  {
   "cell_type": "code",
   "execution_count": 176,
   "outputs": [],
   "source": [
    "write_json_db(db)"
   ],
   "metadata": {
    "collapsed": false,
    "pycharm": {
     "name": "#%%\n"
    }
   }
  },
  {
   "cell_type": "code",
   "execution_count": 4,
   "outputs": [],
   "source": [
    "os.chdir('/home/joe/Documents/Ge_od/Potentials/SNAP_pots/litDB_full_costbased_paper')\n"
   ],
   "metadata": {
    "collapsed": false,
    "pycharm": {
     "name": "#%%\n"
    }
   }
  },
  {
   "cell_type": "code",
   "execution_count": 89,
   "outputs": [
    {
     "name": "stdout",
     "output_type": "stream",
     "text": [
      "['isolated_atom', 'liq']\n",
      "[1]\n",
      "[64, 64, 64]\n"
     ]
    }
   ],
   "source": [
    "write_json_db(db_min)"
   ],
   "metadata": {
    "collapsed": false,
    "pycharm": {
     "name": "#%%\n"
    }
   }
  },
  {
   "cell_type": "code",
   "execution_count": 5,
   "outputs": [],
   "source": [
    "file = '/home/joe/Documents/Ge_od/Structure_databases/gp_iter6_sparse9k.xml.xyz'\n",
    "litDB_full = list(read_xyz(file, index=slice(0,None)))\n"
   ],
   "metadata": {
    "collapsed": false,
    "pycharm": {
     "name": "#%%\n"
    }
   }
  },
  {
   "cell_type": "code",
   "execution_count": 22,
   "outputs": [
    {
     "name": "stdout",
     "output_type": "stream",
     "text": [
      "Warning, left-handed axes detected, skipping this config:\n",
      "-328.14806848881676 decohesion No. 11\n",
      "Warning, left-handed axes detected, skipping this config:\n",
      "-325.2042066684052 decohesion No. 12\n",
      "Warning, left-handed axes detected, skipping this config:\n",
      "-336.2834397744042 decohesion No. 13\n",
      "Warning, left-handed axes detected, skipping this config:\n",
      "-354.1002531456985 decohesion No. 14\n",
      "Warning, left-handed axes detected, skipping this config:\n",
      "-358.28414584870234 decohesion No. 15\n",
      "Warning, left-handed axes detected, skipping this config:\n",
      "-353.528383869545 decohesion No. 16\n",
      "Warning, left-handed axes detected, skipping this config:\n",
      "-373.9481675578679 decohesion No. 17\n",
      "Warning, left-handed axes detected, skipping this config:\n",
      "-381.1629262665485 decohesion No. 18\n",
      "Warning, left-handed axes detected, skipping this config:\n",
      "-393.1966652384923 decohesion No. 19\n",
      "Warning, left-handed axes detected, skipping this config:\n",
      "-403.13971540917254 decohesion No. 20\n",
      "Warning, left-handed axes detected, skipping this config:\n",
      "-398.47840456477996 decohesion No. 21\n"
     ]
    }
   ],
   "source": [
    "write_json_db(litDB_full, weights_dict={'amorph':[2918, 21, 1e-8], 'liq':[2918, 21, 1e-8],\n",
    "                                        'vacancy':[9308, 26, 1e-8], 'interstitial':[9308, 26, 1e-8]},\n",
    "              weights_default=[2959, 62, 1e-5])"
   ],
   "metadata": {
    "collapsed": false,
    "pycharm": {
     "name": "#%%\n"
    }
   }
  },
  {
   "cell_type": "code",
   "execution_count": 227,
   "outputs": [
    {
     "name": "stdout",
     "output_type": "stream",
     "text": [
      "Warning, left-handed axes detected, skipping this config:\n",
      "-328.14806848881676 decohesion No. 11\n",
      "Warning, left-handed axes detected, skipping this config:\n",
      "-325.2042066684052 decohesion No. 12\n",
      "Warning, left-handed axes detected, skipping this config:\n",
      "-336.2834397744042 decohesion No. 13\n",
      "Warning, left-handed axes detected, skipping this config:\n",
      "-354.1002531456985 decohesion No. 14\n",
      "Warning, left-handed axes detected, skipping this config:\n",
      "-358.28414584870234 decohesion No. 15\n",
      "Warning, left-handed axes detected, skipping this config:\n",
      "-353.528383869545 decohesion No. 16\n",
      "Warning, left-handed axes detected, skipping this config:\n",
      "-373.9481675578679 decohesion No. 17\n",
      "Warning, left-handed axes detected, skipping this config:\n",
      "-381.1629262665485 decohesion No. 18\n",
      "Warning, left-handed axes detected, skipping this config:\n",
      "-393.1966652384923 decohesion No. 19\n",
      "Warning, left-handed axes detected, skipping this config:\n",
      "-403.13971540917254 decohesion No. 20\n",
      "Warning, left-handed axes detected, skipping this config:\n",
      "-398.47840456477996 decohesion No. 21\n"
     ]
    }
   ],
   "source": [
    "write_json_db(litDB_full, d='sw0_001', weights_default=[100, 1, 1e-3])\n",
    "\n"
   ],
   "metadata": {
    "collapsed": false,
    "pycharm": {
     "name": "#%%\n"
    }
   }
  },
  {
   "cell_type": "code",
   "execution_count": 229,
   "outputs": [
    {
     "name": "stdout",
     "output_type": "stream",
     "text": [
      "Warning, left-handed axes detected, skipping this config:\n",
      "-328.14806848881676 decohesion No. 11\n",
      "Warning, left-handed axes detected, skipping this config:\n",
      "-325.2042066684052 decohesion No. 12\n",
      "Warning, left-handed axes detected, skipping this config:\n",
      "-336.2834397744042 decohesion No. 13\n",
      "Warning, left-handed axes detected, skipping this config:\n",
      "-354.1002531456985 decohesion No. 14\n",
      "Warning, left-handed axes detected, skipping this config:\n",
      "-358.28414584870234 decohesion No. 15\n",
      "Warning, left-handed axes detected, skipping this config:\n",
      "-353.528383869545 decohesion No. 16\n",
      "Warning, left-handed axes detected, skipping this config:\n",
      "-373.9481675578679 decohesion No. 17\n",
      "Warning, left-handed axes detected, skipping this config:\n",
      "-381.1629262665485 decohesion No. 18\n",
      "Warning, left-handed axes detected, skipping this config:\n",
      "-393.1966652384923 decohesion No. 19\n",
      "Warning, left-handed axes detected, skipping this config:\n",
      "-403.13971540917254 decohesion No. 20\n",
      "Warning, left-handed axes detected, skipping this config:\n",
      "-398.47840456477996 decohesion No. 21\n"
     ]
    }
   ],
   "source": [
    "write_json_db(litDB_full, d='sw0_1', weights_default=[100, 1, 1e-1])"
   ],
   "metadata": {
    "collapsed": false,
    "pycharm": {
     "name": "#%%\n"
    }
   }
  },
  {
   "cell_type": "code",
   "execution_count": null,
   "outputs": [],
   "source": [],
   "metadata": {
    "collapsed": false,
    "pycharm": {
     "name": "#%%\n"
    }
   }
  }
 ],
 "metadata": {
  "kernelspec": {
   "display_name": "Python 3",
   "language": "python",
   "name": "python3"
  },
  "language_info": {
   "codemirror_mode": {
    "name": "ipython",
    "version": 2
   },
   "file_extension": ".py",
   "mimetype": "text/x-python",
   "name": "python",
   "nbconvert_exporter": "python",
   "pygments_lexer": "ipython2",
   "version": "2.7.6"
  }
 },
 "nbformat": 4,
 "nbformat_minor": 0
}