{
 "cells": [
  {
   "cell_type": "code",
   "execution_count": 136,
   "metadata": {
    "collapsed": true
   },
   "outputs": [],
   "source": [
    "from Ge_calculation import GAP, MD_run, flatten\n",
    "from ase.io.extxyz import read_xyz\n",
    "import numpy as np\n",
    "import json\n",
    "import os\n",
    "from snap import *\n",
    "from quippy.potential import Potential\n",
    "\n",
    "import pymatgen.ext.matproj as mp\n",
    "import pymatgen.core.periodic_table as pt\n",
    "import pymatgen.io.ase as pase\n",
    "import matplotlib.pyplot as plt"
   ]
  },
  {
   "cell_type": "code",
   "execution_count": 3,
   "outputs": [],
   "source": [
    "file = '/home/joe/mlip_test/gp_iter6_liqamo_lp.xyz'\n",
    "with open(file) as f:\n",
    "    db = list(read_xyz(f, index=slice(0,None)))\n",
    "db_min = db[0:4]"
   ],
   "metadata": {
    "collapsed": false,
    "pycharm": {
     "name": "#%%\n"
    }
   }
  },
  {
   "cell_type": "code",
   "execution_count": 104,
   "outputs": [],
   "source": [
    "with open('/home/joe/Documents/Ge_od/Potentials/Si_myDB_supercrystals/Si_myDB_liqamocryst_train.xyz') as f:\n",
    "\n",
    "    liqamocryst = list(read_xyz(f, index=slice(0,None)))"
   ],
   "metadata": {
    "collapsed": false,
    "pycharm": {
     "name": "#%%\n"
    }
   }
  },
  {
   "cell_type": "code",
   "execution_count": 4,
   "outputs": [],
   "source": [
    "def write_json_db(a, d=\"\", force_name='dft_force', virial_name='dft_virial', energy_name='dft_energy',\n",
    "                  weights_dict={}, weights_default=[100, 1, 1e-8]):\n",
    "    \"\"\"Writes a list of atoms to the MTP mlip-2 cfg database file format\n",
    "    WARNING: incurs loss of array information other than positions and forces of atoms.\n",
    "    Atoms.info dict is stored as features\n",
    "    Params: set the key words for the forces, energy, and virials if they differ from the defaults above\n",
    "    \"\"\"\n",
    "    d = os.path.join(d, \"JSON\")\n",
    "    if not os.path.isdir(d):\n",
    "        os.makedirs(d)\n",
    "\n",
    "   # divide DB into list of lists based on config_type\n",
    "    configs = []; types_list = []\n",
    "    for i in a:\n",
    "        if 'config_type' not in i.info.keys():\n",
    "            i.info['config_type'] = 'default'\n",
    "        if i.info['config_type'] not in types_list:\n",
    "            types_list.append(i.info['config_type'])\n",
    "            configs.append([])\n",
    "            configs[-1].append(i)\n",
    "        else:\n",
    "            configs[types_list.index(i.info['config_type'])].append(i)\n",
    "\n",
    "    type_lengths = [len(i) for i in configs]\n",
    "    for i in types_list:\n",
    "        if i not in weights_dict.keys():\n",
    "            weights_dict.update({i: weights_default})\n",
    "\n",
    "    for ci, i in enumerate(configs):\n",
    "        path = os.path.join(d, types_list[ci])\n",
    "        os.mkdir(path)\n",
    "        no_stress_indices = []\n",
    "\n",
    "        for ct, val in enumerate(i):\n",
    "            Lattice = val.get_cell()\n",
    "            det = np.linalg.det(Lattice)\n",
    "            if det < 0:\n",
    "                print('Warning, left-handed axes detected, skipping this config:')\n",
    "                print(det, types_list[ci], 'No.', ct)\n",
    "                type_lengths[ci] -= 1\n",
    "                continue\n",
    "            NumAtoms = len(val)\n",
    "            AtomTypes = val.get_chemical_symbols()\n",
    "            Positions = val.get_positions(wrap=True)\n",
    "\n",
    "            if virial_name in val.info.keys() and 'no_stress' not in val.info['config_type']:\n",
    "                if isinstance(val.info[virial_name], np.ndarray):\n",
    "                    Stress = -1e4*np.reshape(val.info[virial_name], (3,3))/val.get_volume()\n",
    "                    # Need to check that this is the correct form for the stress:\n",
    "                    # currently as Castep outputs (i.e. non-virial (mechanical) stress, converted to Bar\n",
    "            elif 'no_stress' not in val.info['config_type']:\n",
    "                if (td := types_list[ci] + '_no_stress') not in types_list: # move to the relevant *no_stress folder\n",
    "                    configs.append([])\n",
    "                    type_lengths.append(0)\n",
    "                    types_list.append(td)\n",
    "                    weights_dict.update({td: weights_dict[val.info['config_type']][:-1] + [0]}) # set stress weight to 0\n",
    "                val.info['config_type'] = td\n",
    "                configs[(ti := types_list.index(td))].append(val)\n",
    "                type_lengths[ci] -= 1\n",
    "                type_lengths[ti] += 1\n",
    "                continue\n",
    "            else:\n",
    "                Stress = np.zeros((3,3))\n",
    "\n",
    "            Forces = val.get_array(force_name)\n",
    "            Energy = val.info[energy_name]\n",
    "\n",
    "            data = {\"Dataset\": {\"Data\": [{\n",
    "                    \"Stress\": Stress.tolist(),\n",
    "                    \"Positions\": Positions.tolist(),\n",
    "                    \"Energy\": Energy.tolist(),\n",
    "                    \"AtomTypes\": AtomTypes,\n",
    "                    \"Lattice\": Lattice.tolist(),\n",
    "                    \"NumAtoms\": NumAtoms,\n",
    "                    \"Forces\": Forces.tolist(),\n",
    "                    }],\n",
    "                    \"PositionsStyle\": \"angstrom\", \"AtomTypeStyle\": \"chemicalsymbol\",\n",
    "                    \"Label\": types_list[ci], \"StressStyle\": \"bar\",\n",
    "                    \"LatticeStyle\": \"angstrom\", \"EnergyStyle\": \"electronvolt\",\n",
    "                    \"ForcesStyle\": \"electronvoltperangstrom\"\n",
    "                    }}\n",
    "\n",
    "            with open(os.path.join(d, types_list[ci], val.info['config_type'] + '_{}.json'.format(str(ct))), 'w') as f:\n",
    "                f.write('# Comment line\\n')\n",
    "                json.dump(data, f)\n",
    "\n",
    "    with open(os.path.join(d[:-4] + 'grouplist'), 'w') as f:\n",
    "        f.write('# name size eweight fweight vweight\\n')\n",
    "        for i, val in enumerate(types_list):\n",
    "            if type_lengths[i] > 0:\n",
    "                f.write('{:40s}     {:<6d}     {:<7.10f}     {:<7.10f}    {:<7.10f}\\n'.format(val, type_lengths[i], *weights_dict[val]))"
   ],
   "metadata": {
    "collapsed": false,
    "pycharm": {
     "name": "#%%\n"
    }
   }
  },
  {
   "cell_type": "code",
   "execution_count": 10,
   "outputs": [],
   "source": [
    "os.chdir('/home/joe/Documents/Ge_od/Potentials/Si_myDB_supercrystals/SNAP')\n",
    "write_json_db(liqamocryst)"
   ],
   "metadata": {
    "collapsed": false,
    "pycharm": {
     "name": "#%%\n"
    }
   }
  },
  {
   "cell_type": "code",
   "execution_count": 9,
   "outputs": [],
   "source": [
    "os.chdir('/home/joe/Documents/Ge_od/Potentials/SNAP_pots/litDB_full_costbased_paper')"
   ],
   "metadata": {
    "collapsed": false,
    "pycharm": {
     "name": "#%%\n"
    }
   }
  },
  {
   "cell_type": "code",
   "execution_count": 5,
   "outputs": [],
   "source": [
    "file = '/home/joe/Documents/Ge_od/Structure_databases/gp_iter6_sparse9k.xml.xyz'\n",
    "litDB_full = list(read_xyz(file, index=slice(0,None)))\n"
   ],
   "metadata": {
    "collapsed": false,
    "pycharm": {
     "name": "#%%\n"
    }
   }
  },
  {
   "cell_type": "code",
   "execution_count": 22,
   "outputs": [
    {
     "name": "stdout",
     "output_type": "stream",
     "text": [
      "Warning, left-handed axes detected, skipping this config:\n",
      "-328.14806848881676 decohesion No. 11\n",
      "Warning, left-handed axes detected, skipping this config:\n",
      "-325.2042066684052 decohesion No. 12\n",
      "Warning, left-handed axes detected, skipping this config:\n",
      "-336.2834397744042 decohesion No. 13\n",
      "Warning, left-handed axes detected, skipping this config:\n",
      "-354.1002531456985 decohesion No. 14\n",
      "Warning, left-handed axes detected, skipping this config:\n",
      "-358.28414584870234 decohesion No. 15\n",
      "Warning, left-handed axes detected, skipping this config:\n",
      "-353.528383869545 decohesion No. 16\n",
      "Warning, left-handed axes detected, skipping this config:\n",
      "-373.9481675578679 decohesion No. 17\n",
      "Warning, left-handed axes detected, skipping this config:\n",
      "-381.1629262665485 decohesion No. 18\n",
      "Warning, left-handed axes detected, skipping this config:\n",
      "-393.1966652384923 decohesion No. 19\n",
      "Warning, left-handed axes detected, skipping this config:\n",
      "-403.13971540917254 decohesion No. 20\n",
      "Warning, left-handed axes detected, skipping this config:\n",
      "-398.47840456477996 decohesion No. 21\n"
     ]
    }
   ],
   "source": [
    "write_json_db(litDB_full, weights_dict={'amorph':[2918, 21, 1e-8], 'liq':[2918, 21, 1e-8],\n",
    "                                        'vacancy':[9308, 26, 1e-8], 'interstitial':[9308, 26, 1e-8]},\n",
    "              weights_default=[2959, 62, 1e-5])"
   ],
   "metadata": {
    "collapsed": false,
    "pycharm": {
     "name": "#%%\n"
    }
   }
  },
  {
   "cell_type": "code",
   "execution_count": 227,
   "outputs": [
    {
     "name": "stdout",
     "output_type": "stream",
     "text": [
      "Warning, left-handed axes detected, skipping this config:\n",
      "-328.14806848881676 decohesion No. 11\n",
      "Warning, left-handed axes detected, skipping this config:\n",
      "-325.2042066684052 decohesion No. 12\n",
      "Warning, left-handed axes detected, skipping this config:\n",
      "-336.2834397744042 decohesion No. 13\n",
      "Warning, left-handed axes detected, skipping this config:\n",
      "-354.1002531456985 decohesion No. 14\n",
      "Warning, left-handed axes detected, skipping this config:\n",
      "-358.28414584870234 decohesion No. 15\n",
      "Warning, left-handed axes detected, skipping this config:\n",
      "-353.528383869545 decohesion No. 16\n",
      "Warning, left-handed axes detected, skipping this config:\n",
      "-373.9481675578679 decohesion No. 17\n",
      "Warning, left-handed axes detected, skipping this config:\n",
      "-381.1629262665485 decohesion No. 18\n",
      "Warning, left-handed axes detected, skipping this config:\n",
      "-393.1966652384923 decohesion No. 19\n",
      "Warning, left-handed axes detected, skipping this config:\n",
      "-403.13971540917254 decohesion No. 20\n",
      "Warning, left-handed axes detected, skipping this config:\n",
      "-398.47840456477996 decohesion No. 21\n"
     ]
    }
   ],
   "source": [
    "write_json_db(litDB_full, d='sw0_001', weights_default=[100, 1, 1e-3])\n",
    "\n"
   ],
   "metadata": {
    "collapsed": false,
    "pycharm": {
     "name": "#%%\n"
    }
   }
  },
  {
   "cell_type": "code",
   "execution_count": 229,
   "outputs": [
    {
     "name": "stdout",
     "output_type": "stream",
     "text": [
      "Warning, left-handed axes detected, skipping this config:\n",
      "-328.14806848881676 decohesion No. 11\n",
      "Warning, left-handed axes detected, skipping this config:\n",
      "-325.2042066684052 decohesion No. 12\n",
      "Warning, left-handed axes detected, skipping this config:\n",
      "-336.2834397744042 decohesion No. 13\n",
      "Warning, left-handed axes detected, skipping this config:\n",
      "-354.1002531456985 decohesion No. 14\n",
      "Warning, left-handed axes detected, skipping this config:\n",
      "-358.28414584870234 decohesion No. 15\n",
      "Warning, left-handed axes detected, skipping this config:\n",
      "-353.528383869545 decohesion No. 16\n",
      "Warning, left-handed axes detected, skipping this config:\n",
      "-373.9481675578679 decohesion No. 17\n",
      "Warning, left-handed axes detected, skipping this config:\n",
      "-381.1629262665485 decohesion No. 18\n",
      "Warning, left-handed axes detected, skipping this config:\n",
      "-393.1966652384923 decohesion No. 19\n",
      "Warning, left-handed axes detected, skipping this config:\n",
      "-403.13971540917254 decohesion No. 20\n",
      "Warning, left-handed axes detected, skipping this config:\n",
      "-398.47840456477996 decohesion No. 21\n"
     ]
    }
   ],
   "source": [
    "write_json_db(litDB_full, d='sw0_1', weights_default=[100, 1, 1e-1])"
   ],
   "metadata": {
    "collapsed": false,
    "pycharm": {
     "name": "#%%\n"
    }
   }
  },
  {
   "cell_type": "markdown",
   "source": [
    "# Get a \"calculator\" working based on the lammps implementation of SNAP potentials\n",
    "\n",
    "\n"
   ],
   "metadata": {
    "collapsed": false,
    "pycharm": {
     "name": "#%% md\n"
    }
   }
  },
  {
   "cell_type": "code",
   "execution_count": 36,
   "outputs": [],
   "source": [
    "from ase.calculators.lammpslib import LAMMPSlib\n",
    "from ase.data import atomic_numbers, atomic_names, atomic_masses\n",
    "import os\n",
    "\n",
    "class SNAP(LAMMPSlib):\n",
    "    r\"\"\"\n",
    "    Wrapper to the LAMMPSlib interface for SNAPs\n",
    "\n",
    "    joe.morrow@queens.ox.ac.uk\n",
    "\n",
    "    Getting Started:\n",
    "    ================\n",
    "\n",
    "    Running the Calculator:\n",
    "    =======================\n",
    "\n",
    "\n",
    "    TODO: A faster implementation for lists of atoms would be to write a single cfg for all of them\n",
    "    \"\"\"\n",
    "\n",
    "    def __init__(self, atom_types, potential_seed='pot', potential_name=None,\n",
    "                 zblcutinner=4.0,\n",
    "                 zblcutouter=4.8,\n",
    "                 ):\n",
    "        '''atom_types - dict: mapping of atom symbols to snapparam lammps types e.g. {'Si:1, Ge:2, O:3, O:4}\n",
    "           potential_seed -  path-like str: basename of the SNAP potential\n",
    "           potential name - str: optional name for the potential for use in e.g. plot legends\n",
    "           zblcutinner - float: parameter for the nuclear-repulsion zbl potential overlayed on the SNAP\n",
    "           zblcutouter - float: ...\n",
    "        '''\n",
    "\n",
    "        if not os.path.isfile(potential_seed+'.snapcoeff') or not os.path.isfile(potential_seed+'.snapparam'):\n",
    "            raise FileNotFoundError('SNAP potential \\'{}\\' does not exist'.format(potential_seed))\n",
    "\n",
    "        self.potential_seed = potential_seed\n",
    "        self.name = potential_name\n",
    "        zblz = [atomic_numbers[i] for i in atom_types.keys()]\n",
    "\n",
    "        lmpcmds = [\n",
    "        \"pair_style hybrid/overlay zbl {} {} snap\".format(zblcutinner, zblcutouter),\n",
    "        \"pair_coeff * * zbl 0.0 0.0\"] +\\\n",
    "        [\"pair_coeff {0} {1} zbl {2} {3}\".format(atom_types[i], atom_types[j],\n",
    "                                                 atomic_numbers[i], atomic_numbers[j])\n",
    "         for i in atom_types.keys() for j in atom_types.keys() if atom_types[i] >= atom_types[j]] +\\\n",
    "        [(\"pair_coeff * * snap {0}.snapcoeff {0}.snapparam \" +\\\n",
    "          \" \".join([\"{{{}}}\".format(i+1) for i in range(len(atom_types.keys()))])).format(\n",
    "            potential_seed, *atom_types.keys())\n",
    "        ]\n",
    "        print(lmpcmds)\n",
    "\n",
    "        LAMMPSlib.__init__(self, lmpcmds=lmpcmds, atom_types=atom_types)\n"
   ],
   "metadata": {
    "collapsed": false,
    "pycharm": {
     "name": "#%%\n"
    }
   }
  },
  {
   "cell_type": "code",
   "execution_count": 31,
   "outputs": [],
   "source": [
    "zblcutinner = 4.0\n",
    "zblcutouter = 4.8\n",
    "zblz = 14.0\n",
    "potential_seed = \"/home/joe/Documents/Ge_od/Potentials/SNAP_pots/litDB_full_costbased_paper/Si_pot\"\n",
    "lmpcmds = [\n",
    "\"pair_style hybrid/overlay zbl {} {} snap\".format(zblcutinner, zblcutouter),\n",
    "\"pair_coeff * * zbl 0.0 0.0\",\n",
    "\"pair_coeff 1 1 zbl {0} {0}\".format(zblz),\n",
    "\"pair_coeff * * snap {0}.snapcoeff {0}.snapparam Si\".format(potential_seed)\n",
    "]\n",
    "\n",
    "atom_types = {'Si':1}"
   ],
   "metadata": {
    "collapsed": false,
    "pycharm": {
     "name": "#%%\n"
    }
   }
  },
  {
   "cell_type": "code",
   "execution_count": 18,
   "outputs": [],
   "source": [
    "lmp = LAMMPSlib(lmpcmds=lmpcmds, atom_types=atom_types)"
   ],
   "metadata": {
    "collapsed": false,
    "pycharm": {
     "name": "#%%\n"
    }
   }
  },
  {
   "cell_type": "code",
   "execution_count": 12,
   "outputs": [],
   "source": [
    "from ase.io.castep import read_castep_castep\n",
    "from Ge_analysis import *\n",
    "DFT_struct = []\n",
    "DFT_struct_labels = ['', '', '', '', '', '', '', '', '', 'diamond']\n",
    "DFT_dir = '/home/joe/Documents/Ge_od/Structure_databases/crystals/Si_MP_dense_cryst'\n",
    "for i in os.listdir(DFT_dir):\n",
    "    if '.castep' in i:\n",
    "        DFT_struct.append(read_castep_castep(os.path.join(DFT_dir, i))[0])\n",
    "        DFT_struct[-1].info['energy'] = get_castep_E(os.path.join(DFT_dir, i))"
   ],
   "metadata": {
    "collapsed": false,
    "pycharm": {
     "name": "#%%\n"
    }
   }
  },
  {
   "cell_type": "code",
   "execution_count": 19,
   "outputs": [],
   "source": [
    "DFT_struct[5].set_calculator(lmp)"
   ],
   "metadata": {
    "collapsed": false,
    "pycharm": {
     "name": "#%%\n"
    }
   }
  },
  {
   "cell_type": "code",
   "execution_count": 20,
   "outputs": [
    {
     "data": {
      "text/plain": "array([-2.22558998e+00, -2.22557485e+00, -1.67611309e+00,  1.75323724e-14,\n       -9.01620318e-15,  1.59853605e-15])"
     },
     "execution_count": 20,
     "metadata": {},
     "output_type": "execute_result"
    }
   ],
   "source": [
    "DFT_struct[5].get_stress()"
   ],
   "metadata": {
    "collapsed": false,
    "pycharm": {
     "name": "#%%\n"
    }
   }
  },
  {
   "cell_type": "code",
   "execution_count": 64,
   "outputs": [
    {
     "name": "stdout",
     "output_type": "stream",
     "text": [
      "['pair_style hybrid/overlay zbl 4.0 4.8 snap', 'pair_coeff * * zbl 0.0 0.0', 'pair_coeff 1 1 zbl 14 14', 'pair_coeff * * snap /home/joe/Documents/Ge_od/Potentials/SNAP_pots/litDB_full_costbased_paper/Si_pot.snapcoeff /home/joe/Documents/Ge_od/Potentials/SNAP_pots/litDB_full_costbased_paper/Si_pot.snapparam Si']\n"
     ]
    }
   ],
   "source": [
    "DFT_struct[6].set_calculator(SNAP(atom_types={'Si':1}, potential_seed=potential_seed, potential_name='test'))\n"
   ],
   "metadata": {
    "collapsed": false,
    "pycharm": {
     "name": "#%%\n"
    }
   }
  },
  {
   "cell_type": "code",
   "execution_count": 65,
   "outputs": [
    {
     "data": {
      "text/plain": "array([ 6.31422271e+00,  6.31422271e+00,  6.31422271e+00,  1.24812442e-14,\n       -1.13514750e-14,  1.36226124e-14])"
     },
     "execution_count": 65,
     "metadata": {},
     "output_type": "execute_result"
    }
   ],
   "source": [
    "DFT_struct[6].get_stress()"
   ],
   "metadata": {
    "collapsed": false,
    "pycharm": {
     "name": "#%%\n"
    }
   }
  },
  {
   "cell_type": "markdown",
   "source": [
    "# Validation of SNAPs on a test set"
   ],
   "metadata": {
    "collapsed": false,
    "pycharm": {
     "name": "#%% md\n"
    }
   }
  },
  {
   "cell_type": "code",
   "execution_count": 49,
   "outputs": [],
   "source": [
    "supers = '/home/joe/Documents/Ge_od/Potentials/Si_myDB_supercrystals/'\n",
    "cost_based = '/home/joe/Documents/Ge_od/Potentials/SNAP_pots/litDB_full_costbased_paper'"
   ],
   "metadata": {
    "collapsed": false,
    "pycharm": {
     "name": "#%%\n"
    }
   }
  },
  {
   "cell_type": "code",
   "execution_count": 97,
   "outputs": [],
   "source": [
    "pots = [\n",
    "        SNAP({'Si':1}, potential_seed=cost_based+\"/t1/Si_pot\",\n",
    "                     potential_name='snap_test'),\n",
    "        SNAP({'Si':1}, potential_seed=cost_based+'/t2/Si_pot',\n",
    "             potential_name='snap_shift'),\n",
    "        SNAP({'Si':1}, potential_seed=os.path.join(supers, 'SNAP/Si_pot'), potential_name='SNAP_myDB'),\n",
    "        SNAP({'Si':1}, potential_seed=cost_based+'/t4/Si_pot',\n",
    "             potential_name='snap_shift'),\n",
    "        SNAP({'Si':1}, potential_seed='/home/joe/Documents/Ge_od/Potentials/SNAP_pots/myDB/t2/Si_pot',\n",
    "             potential_name='snap_shift_my'),\n",
    "        SNAP({'Si':1}, potential_seed=cost_based+'/t5/Si_pot',\n",
    "             potential_name='snap_shift_zbl_mod'),\n",
    "        SNAP({'Si':1}, potential_seed=cost_based+'/t6/Si_pot',\n",
    "             potential_name='snap_shift_znl_none'),\n",
    "        SNAP({'Si':1}, potential_seed=cost_based+'/t7/Si_pot',\n",
    "             potential_name='snap_shift_zbl_none_j6'),\n",
    "        SNAP({'Si':1}, potential_seed=cost_based+'/t8_j10/Si_pot',\n",
    "             potential_name='snap_shift_j10'),\n",
    "        SNAP({'Si':1}, potential_seed=cost_based+'/t9_j12/Si_pot',\n",
    "             potential_name='snap_shift_znl_j12'),\n",
    "        SNAP({'Si':1}, potential_seed=cost_based+'/t10_j14/Si_pot',\n",
    "             potential_name='snap_shift_zbl_none_j14')\n",
    "        ]\n"
   ],
   "metadata": {
    "collapsed": false,
    "pycharm": {
     "name": "#%%\n"
    }
   }
  },
  {
   "cell_type": "code",
   "execution_count": 137,
   "outputs": [
    {
     "name": "stderr",
     "output_type": "stream",
     "text": [
      "/home/joe/ase/ase/calculators/calculator.py:507: FutureWarning: The keyword \"ignore_bad_restart_file\" is deprecated and will be removed in a future version of ASE.  Passing more than one positional argument to Calculator is also deprecated and will stop functioning in the future.  Please pass arguments by keyword (key=value) except optionally the \"restart\" keyword.\n",
      "  warnings.warn(FutureWarning(\n"
     ]
    }
   ],
   "source": [
    "GAP_example = Potential(param_filename='/home/joe/Documents/Ge_od/Potentials/Si_myDB_reg_testing/Si_myDB_ds0.075_0.75_0.375_0.0.xml'),"
   ],
   "metadata": {
    "collapsed": false,
    "pycharm": {
     "name": "#%%\n"
    }
   }
  },
  {
   "cell_type": "code",
   "execution_count": 13,
   "outputs": [
    {
     "name": "stdout",
     "output_type": "stream",
     "text": [
      "training set structure count: 214\n",
      "reading xyz file (may take a while)\n",
      "read configs, now fixing virials\n",
      "config labels: ['liq', 'amorph']\n",
      "training set structure count: 214\n",
      "reading xyz file (may take a while)\n",
      "read configs, now fixing virials\n",
      "config labels: ['liq', 'amorph']\n",
      "training set structure count: 214\n",
      "reading xyz file (may take a while)\n",
      "read configs, now fixing virials\n",
      "config labels: ['liq', 'amorph']\n"
     ]
    }
   ],
   "source": [
    "pot_DBs = [GAP(train_file=file, pot=i, parameter_names=['dft_energy', 'dft_force', 'dft_virial']) for i in pots]"
   ],
   "metadata": {
    "collapsed": false,
    "pycharm": {
     "name": "#%%\n"
    }
   }
  },
  {
   "cell_type": "code",
   "execution_count": 17,
   "outputs": [
    {
     "data": {
      "text/plain": "dict_keys(['QM_E_t', 'QM_F_t', 'QM_V_t', 'QM_E_v', 'QM_F_v', 'QM_V_v', 'T_configs', 'V_configs'])"
     },
     "execution_count": 17,
     "metadata": {},
     "output_type": "execute_result"
    }
   ],
   "source": [
    "pot_DBs[0].data_dict.keys()"
   ],
   "metadata": {
    "collapsed": false,
    "pycharm": {
     "name": "#%%\n"
    }
   }
  },
  {
   "cell_type": "code",
   "execution_count": 4,
   "outputs": [],
   "source": [
    "Ta_pot = SNAP({'Ta':1}, potential_seed='/home/joe/Program_python_path/FitSNAP/examples/Ta_Linear_JCP2014_test/Ta_pot',\n",
    "              potential_name='Ta')\n"
   ],
   "metadata": {
    "collapsed": false,
    "pycharm": {
     "name": "#%%\n"
    }
   }
  },
  {
   "cell_type": "code",
   "execution_count": 41,
   "outputs": [],
   "source": [
    "with mp.MPRester(\"v0JVgKLlpTXKEhiKeDIC\") as m:\n",
    "    results = m.query(criteria={\"pretty_formula\":'Ta'},\n",
    "                            properties=[\"exp.tags\", \"icsd_ids\", \"spacegroup\",\n",
    "                                        \"task_id\", \"density\", \"final_structure\",\n",
    "                                        \"e_above_hull\", \"energy\", \"energy_per_atom\"])\n",
    "    #results = [m.get_structure_by_material_id(i, conventional_unit_cell=True) for i in ['mp-78', 'mp-1061054']]"
   ],
   "metadata": {
    "collapsed": false,
    "pycharm": {
     "name": "#%%\n"
    }
   }
  },
  {
   "cell_type": "code",
   "execution_count": 39,
   "outputs": [
    {
     "name": "stdout",
     "output_type": "stream",
     "text": [
      "MP ID           Spacegroup    Density          E     N\n",
      "------------------------------------------------------\n",
      "\n",
      "mp-50           Im-3m           16.39       0.00     0\n",
      "mp-1095086      P6_322          12.89       1.33     1\n",
      "mp-42           P-42_1m         16.05       0.01     2\n",
      "mp-569794       P4_2/mnm        16.06       0.01     3\n",
      "mp-697196       P4_2/mnm        12.54       1.21     4\n",
      "mp-1217756      Pm-3m           14.45       1.10     5\n",
      "mp-1076923      P4/mbm           0.97       5.15     6\n",
      "mp-6986         Fm-3m           15.91       0.24     7\n"
     ]
    }
   ],
   "source": [
    "print('{:15s} {:10s} {:>10s} {:>10s} {:>5s}\\n{}\\n'.format('MP ID', 'Spacegroup', 'Density', 'E', 'N', '-'*54))\n",
    "\n",
    "for i, val in enumerate(results):\n",
    "    print('{:15s} {:10s} {:10.2f} {:10.2f} {:5d}'.format(val['task_id'], val['spacegroup']['symbol'],\n",
    "                                                val['density'], val['e_above_hull'], i))"
   ],
   "metadata": {
    "collapsed": false,
    "pycharm": {
     "name": "#%%\n"
    }
   }
  },
  {
   "cell_type": "code",
   "execution_count": 20,
   "outputs": [],
   "source": [
    "Ta_beta = pase.AseAtomsAdaptor().get_atoms(results[2]['final_structure'])"
   ],
   "metadata": {
    "collapsed": false,
    "pycharm": {
     "name": "#%%\n"
    }
   }
  },
  {
   "cell_type": "code",
   "execution_count": 21,
   "outputs": [
    {
     "data": {
      "text/plain": "-354.0547250626936"
     },
     "execution_count": 21,
     "metadata": {},
     "output_type": "execute_result"
    }
   ],
   "source": [
    "Ta_beta.set_calculator(Ta_pot)\n",
    "Ta_beta.get_potential_energy()"
   ],
   "metadata": {
    "collapsed": false,
    "pycharm": {
     "name": "#%%\n"
    }
   }
  },
  {
   "cell_type": "code",
   "execution_count": 23,
   "outputs": [
    {
     "data": {
      "text/plain": "-355.52327454"
     },
     "execution_count": 23,
     "metadata": {},
     "output_type": "execute_result"
    }
   ],
   "source": [
    "results[2]['energy']\n"
   ],
   "metadata": {
    "collapsed": false,
    "pycharm": {
     "name": "#%%\n"
    }
   }
  },
  {
   "cell_type": "code",
   "execution_count": 98,
   "outputs": [],
   "source": [
    "v_e = [i['energy_per_atom'] for i in results]\n",
    "s_e = []\n",
    "for i in results:\n",
    "    at = pase.AseAtomsAdaptor().get_atoms(i['final_structure'])\n",
    "    at.set_calculator(Ta_pot)\n",
    "    s_e.append(at.get_potential_energy()/len(at))"
   ],
   "metadata": {
    "collapsed": false,
    "pycharm": {
     "name": "#%%\n"
    }
   }
  },
  {
   "cell_type": "code",
   "execution_count": 43,
   "outputs": [
    {
     "data": {
      "text/plain": "[-11.851637698614322,\n -10.837292531691439,\n -11.801824168756452,\n -11.802858172164102,\n -11.040175995922802,\n -10.196899042592868,\n -7.870603528687532,\n -11.631969316652786]"
     },
     "execution_count": 43,
     "metadata": {},
     "output_type": "execute_result"
    }
   ],
   "source": [
    "s_e"
   ],
   "metadata": {
    "collapsed": false,
    "pycharm": {
     "name": "#%%\n"
    }
   }
  },
  {
   "cell_type": "code",
   "execution_count": 44,
   "outputs": [
    {
     "data": {
      "text/plain": "[-11.85777763,\n -10.52846331375,\n -11.850775817999999,\n -11.850742890666668,\n -10.64654011,\n -10.75863415,\n -6.7113652025,\n -11.6128968]"
     },
     "execution_count": 44,
     "metadata": {},
     "output_type": "execute_result"
    }
   ],
   "source": [
    "v_e"
   ],
   "metadata": {
    "collapsed": false,
    "pycharm": {
     "name": "#%%\n"
    }
   }
  },
  {
   "cell_type": "code",
   "execution_count": 47,
   "outputs": [
    {
     "data": {
      "text/plain": "<matplotlib.collections.PathCollection at 0x7f39f680c2b0>"
     },
     "execution_count": 47,
     "metadata": {},
     "output_type": "execute_result"
    },
    {
     "data": {
      "text/plain": "<Figure size 432x288 with 1 Axes>",
      "image/png": "[encoded data removed]"
     },
     "metadata": {
      "needs_background": "light"
     },
     "output_type": "display_data"
    }
   ],
   "source": [
    "plt.scatter(v_e, s_e)\n"
   ],
   "metadata": {
    "collapsed": false,
    "pycharm": {
     "name": "#%%\n"
    }
   }
  },
  {
   "cell_type": "markdown",
   "source": [
    "## Structures for validation of the SNAPs"
   ],
   "metadata": {
    "collapsed": false,
    "pycharm": {
     "name": "#%% md\n"
    }
   }
  },
  {
   "cell_type": "code",
   "execution_count": 51,
   "outputs": [],
   "source": [
    "with mp.MPRester(\"v0JVgKLlpTXKEhiKeDIC\") as m:\n",
    "    Si_results = m.query(criteria={\"pretty_formula\":'Si'},\n",
    "                            properties=[\"exp.tags\", \"icsd_ids\", \"spacegroup\",\n",
    "                                        \"task_id\", \"density\", \"final_structure\",\n",
    "                                        \"e_above_hull\", \"energy\", \"energy_per_atom\"])"
   ],
   "metadata": {
    "collapsed": false,
    "pycharm": {
     "name": "#%%\n"
    }
   }
  },
  {
   "cell_type": "code",
   "execution_count": 107,
   "outputs": [
    {
     "data": {
      "text/plain": "-10795.798922"
     },
     "execution_count": 107,
     "metadata": {},
     "output_type": "execute_result"
    }
   ],
   "source": [
    "liqamocryst[1].info['dft_energy']"
   ],
   "metadata": {
    "collapsed": false,
    "pycharm": {
     "name": "#%%\n"
    }
   }
  },
  {
   "cell_type": "code",
   "execution_count": 99,
   "outputs": [],
   "source": [
    "Si_v_e = [i['energy_per_atom'] for i in Si_results]\n",
    "Si_s_e = [[] for i in range(len(pots))]\n",
    "Si_s_s = [[] for i in range(len(pots))]\n",
    "for i in Si_results:\n",
    "    at = pase.AseAtomsAdaptor().get_atoms(i['final_structure'])\n",
    "    for i, val in enumerate(pots):\n",
    "        at.set_calculator(val)\n",
    "        Si_s_s[i].append(at.get_stress(voigt=False))\n",
    "        Si_s_e[i].append(at.get_potential_energy()/len(at))"
   ],
   "metadata": {
    "collapsed": false,
    "pycharm": {
     "name": "#%%\n"
    }
   }
  },
  {
   "cell_type": "code",
   "execution_count": 102,
   "outputs": [
    {
     "data": {
      "text/plain": "<matplotlib.legend.Legend at 0x7f39e566f760>"
     },
     "execution_count": 102,
     "metadata": {},
     "output_type": "execute_result"
    },
    {
     "data": {
      "text/plain": "<Figure size 432x288 with 1 Axes>",
      "image/png": "[encoded data removed]"
     },
     "metadata": {
      "needs_background": "light"
     },
     "output_type": "display_data"
    }
   ],
   "source": [
    "# plt.scatter(Si_v_e, Si_s_e[0])\n",
    "# plt.scatter(Si_v_e, Si_s_e[1], label=pots[1].name)\n",
    "# plt.scatter(Si_v_e, Si_s_e[5], label=pots[5].name)\n",
    "# plt.scatter(Si_v_e, Si_s_e[8], label=pots[8].name)\n",
    "plt.scatter(Si_v_e, Si_s_e[9], label=pots[9].name)\n",
    "plt.scatter(Si_v_e, Si_s_e[10], label=pots[10].name)\n",
    "plt.legend()\n",
    "# plt.scatter(Si_v_e, Si_s_e[3])\n",
    "# plt.scatter(Si_v_e, Si_s_e[4])\n",
    "# plt.scatter(Si_v_e, Si_s_e[2])"
   ],
   "metadata": {
    "collapsed": false,
    "pycharm": {
     "name": "#%%\n"
    }
   }
  },
  {
   "cell_type": "code",
   "execution_count": 81,
   "outputs": [
    {
     "data": {
      "text/plain": "<matplotlib.collections.PathCollection at 0x7f39e771fd00>"
     },
     "execution_count": 81,
     "metadata": {},
     "output_type": "execute_result"
    },
    {
     "data": {
      "text/plain": "<Figure size 432x288 with 1 Axes>",
      "image/png": "[encoded data removed]"
     },
     "metadata": {
      "needs_background": "light"
     },
     "output_type": "display_data"
    }
   ],
   "source": [
    "plt.scatter(np.trace(Si_s_s[1]), np.trace(Si_s_s[3]))"
   ],
   "metadata": {
    "collapsed": false,
    "pycharm": {
     "name": "#%%\n"
    }
   }
  },
  {
   "cell_type": "code",
   "execution_count": 103,
   "outputs": [
    {
     "name": "stdout",
     "output_type": "stream",
     "text": [
      "0.9391258331483617 snap_shift\n",
      "0.9357718867381037 snap_shift_zbl_mod\n",
      "0.9080665022557157 snap_shift_znl_none\n",
      "0.8647920005203157 snap_shift_zbl_none_j6\n",
      "-0.47367810873791105 snap_shift_j10\n",
      "-0.6060875349403093 snap_shift_znl_j12\n",
      "-0.5934428216798416 snap_shift_zbl_none_j14\n"
     ]
    }
   ],
   "source": [
    "print(np.corrcoef(Si_v_e, Si_s_e[1])[0,1], pots[1].name)\n",
    "print(np.corrcoef(Si_v_e, Si_s_e[5])[0,1], pots[5].name)\n",
    "print(np.corrcoef(Si_v_e, Si_s_e[6])[0,1], pots[6].name)\n",
    "print(np.corrcoef(Si_v_e, Si_s_e[7])[0,1], pots[7].name)\n",
    "print(np.corrcoef(Si_v_e, Si_s_e[8])[0,1], pots[8].name)\n",
    "print(np.corrcoef(Si_v_e, Si_s_e[9])[0,1], pots[9].name)\n",
    "print(np.corrcoef(Si_v_e, Si_s_e[10])[0,1], pots[10].name)"
   ],
   "metadata": {
    "collapsed": false,
    "pycharm": {
     "name": "#%%\n"
    }
   }
  },
  {
   "cell_type": "code",
   "execution_count": 139,
   "outputs": [
    {
     "ename": "AttributeError",
     "evalue": "'tuple' object has no attribute 'get_stress'",
     "output_type": "error",
     "traceback": [
      "\u001B[0;31m---------------------------------------------------------------------------\u001B[0m",
      "\u001B[0;31mAttributeError\u001B[0m                            Traceback (most recent call last)",
      "\u001B[0;32m<ipython-input-139-b7ead8d5dfd2>\u001B[0m in \u001B[0;36m<module>\u001B[0;34m\u001B[0m\n\u001B[1;32m      7\u001B[0m         \u001B[0mat\u001B[0m \u001B[0;34m=\u001B[0m \u001B[0mj\u001B[0m\u001B[0;34m\u001B[0m\u001B[0;34m\u001B[0m\u001B[0m\n\u001B[1;32m      8\u001B[0m         \u001B[0mat\u001B[0m\u001B[0;34m.\u001B[0m\u001B[0mset_calculator\u001B[0m\u001B[0;34m(\u001B[0m\u001B[0mval\u001B[0m\u001B[0;34m)\u001B[0m\u001B[0;34m\u001B[0m\u001B[0;34m\u001B[0m\u001B[0m\n\u001B[0;32m----> 9\u001B[0;31m         \u001B[0mSi_s_myDB_val_S\u001B[0m\u001B[0;34m.\u001B[0m\u001B[0mappend\u001B[0m\u001B[0;34m(\u001B[0m\u001B[0mat\u001B[0m\u001B[0;34m.\u001B[0m\u001B[0mget_stress\u001B[0m\u001B[0;34m(\u001B[0m\u001B[0mvoigt\u001B[0m\u001B[0;34m=\u001B[0m\u001B[0;32mFalse\u001B[0m\u001B[0;34m)\u001B[0m\u001B[0;34m)\u001B[0m\u001B[0;34m\u001B[0m\u001B[0;34m\u001B[0m\u001B[0m\n\u001B[0m\u001B[1;32m     10\u001B[0m         \u001B[0mSi_s_myDB_val_E\u001B[0m\u001B[0;34m.\u001B[0m\u001B[0mappend\u001B[0m\u001B[0;34m(\u001B[0m\u001B[0mat\u001B[0m\u001B[0;34m.\u001B[0m\u001B[0mget_potential_energy\u001B[0m\u001B[0;34m(\u001B[0m\u001B[0;34m)\u001B[0m\u001B[0;34m/\u001B[0m\u001B[0mlen\u001B[0m\u001B[0;34m(\u001B[0m\u001B[0mat\u001B[0m\u001B[0;34m)\u001B[0m\u001B[0;34m)\u001B[0m\u001B[0;34m\u001B[0m\u001B[0;34m\u001B[0m\u001B[0m\n\u001B[1;32m     11\u001B[0m         \u001B[0mSi_s_myDB_val_F\u001B[0m\u001B[0;34m.\u001B[0m\u001B[0mappend\u001B[0m\u001B[0;34m(\u001B[0m\u001B[0mat\u001B[0m\u001B[0;34m.\u001B[0m\u001B[0mget_forces\u001B[0m\u001B[0;34m(\u001B[0m\u001B[0;34m)\u001B[0m\u001B[0;34m)\u001B[0m\u001B[0;34m\u001B[0m\u001B[0;34m\u001B[0m\u001B[0m\n",
      "\u001B[0;32m~/ase/ase/atoms.py\u001B[0m in \u001B[0;36mget_stress\u001B[0;34m(self, voigt, apply_constraint, include_ideal_gas)\u001B[0m\n\u001B[1;32m    820\u001B[0m             \u001B[0;32mraise\u001B[0m \u001B[0mRuntimeError\u001B[0m\u001B[0;34m(\u001B[0m\u001B[0;34m'Atoms object has no calculator.'\u001B[0m\u001B[0;34m)\u001B[0m\u001B[0;34m\u001B[0m\u001B[0;34m\u001B[0m\u001B[0m\n\u001B[1;32m    821\u001B[0m \u001B[0;34m\u001B[0m\u001B[0m\n\u001B[0;32m--> 822\u001B[0;31m         \u001B[0mstress\u001B[0m \u001B[0;34m=\u001B[0m \u001B[0mself\u001B[0m\u001B[0;34m.\u001B[0m\u001B[0m_calc\u001B[0m\u001B[0;34m.\u001B[0m\u001B[0mget_stress\u001B[0m\u001B[0;34m(\u001B[0m\u001B[0mself\u001B[0m\u001B[0;34m)\u001B[0m\u001B[0;34m\u001B[0m\u001B[0;34m\u001B[0m\u001B[0m\n\u001B[0m\u001B[1;32m    823\u001B[0m         \u001B[0mshape\u001B[0m \u001B[0;34m=\u001B[0m \u001B[0mstress\u001B[0m\u001B[0;34m.\u001B[0m\u001B[0mshape\u001B[0m\u001B[0;34m\u001B[0m\u001B[0;34m\u001B[0m\u001B[0m\n\u001B[1;32m    824\u001B[0m \u001B[0;34m\u001B[0m\u001B[0m\n",
      "\u001B[0;31mAttributeError\u001B[0m: 'tuple' object has no attribute 'get_stress'"
     ]
    }
   ],
   "source": [
    "selection = [pots[1], GAP_example]\n",
    "Si_s_myDB_val_E = [[] for i in range(len(selection))]\n",
    "Si_s_myDB_val_S = [[] for i in range(len(selection))]\n",
    "Si_s_myDB_val_F = [[] for i in range(len(selection))]\n",
    "for i, val in enumerate(selection):\n",
    "    for j in liqamocryst:\n",
    "        at = j\n",
    "        at.set_calculator(val)\n",
    "        Si_s_myDB_val_S.append(at.get_stress(voigt=False))\n",
    "        Si_s_myDB_val_E.append(at.get_potential_energy()/len(at))\n",
    "        Si_s_myDB_val_F.append(at.get_forces())\n"
   ],
   "metadata": {
    "collapsed": false,
    "pycharm": {
     "name": "#%%\n"
    }
   }
  },
  {
   "cell_type": "code",
   "execution_count": 116,
   "outputs": [],
   "source": [
    "zero_e = liqamocryst[0].info['dft_energy']\n",
    "myDB_DFT_E = [i.info['dft_energy']/len(i) - zero_e for i in liqamocryst]"
   ],
   "metadata": {
    "collapsed": false,
    "pycharm": {
     "name": "#%%\n"
    }
   }
  },
  {
   "cell_type": "code",
   "execution_count": 130,
   "outputs": [],
   "source": [
    "myDB_DFT_F = flatten([i.arrays['dft_force'].flatten() for i in liqamocryst])\n",
    "F = flatten([i.flatten() for i in Si_s_myDB_val_F])"
   ],
   "metadata": {
    "collapsed": false,
    "pycharm": {
     "name": "#%%\n"
    }
   }
  },
  {
   "cell_type": "code",
   "execution_count": 122,
   "outputs": [
    {
     "data": {
      "text/plain": "(-4.5, -3.0)"
     },
     "execution_count": 122,
     "metadata": {},
     "output_type": "execute_result"
    },
    {
     "data": {
      "text/plain": "<Figure size 432x288 with 1 Axes>",
      "image/png": "[encoded data removed]"
     },
     "metadata": {
      "needs_background": "light"
     },
     "output_type": "display_data"
    }
   ],
   "source": [
    "plt.scatter(myDB_DFT_E, Si_s_myDB_val_E)\n",
    "plt.xlim((-6,-4.5))\n",
    "plt.ylim((-4.5,-3))"
   ],
   "metadata": {
    "collapsed": false,
    "pycharm": {
     "name": "#%%\n"
    }
   }
  },
  {
   "cell_type": "code",
   "execution_count": 134,
   "outputs": [
    {
     "data": {
      "text/plain": "(-8.0, 8.0)"
     },
     "execution_count": 134,
     "metadata": {},
     "output_type": "execute_result"
    },
    {
     "data": {
      "text/plain": "<Figure size 432x288 with 1 Axes>",
      "image/png": "[encoded data removed]"
     },
     "metadata": {
      "needs_background": "light"
     },
     "output_type": "display_data"
    }
   ],
   "source": [
    "plt.scatter(myDB_DFT_F, F)\n",
    "plt.plot(x := np.linspace(-8,8,100), x)\n",
    "plt.xlim((-8,8))\n",
    "plt.ylim((-8,8))"
   ],
   "metadata": {
    "collapsed": false,
    "pycharm": {
     "name": "#%%\n"
    }
   }
  },
  {
   "cell_type": "code",
   "execution_count": null,
   "outputs": [],
   "source": [],
   "metadata": {
    "collapsed": false,
    "pycharm": {
     "name": "#%%\n"
    }
   }
  }
 ],
 "metadata": {
  "kernelspec": {
   "display_name": "Python 3",
   "language": "python",
   "name": "python3"
  },
  "language_info": {
   "codemirror_mode": {
    "name": "ipython",
    "version": 2
   },
   "file_extension": ".py",
   "mimetype": "text/x-python",
   "name": "python",
   "nbconvert_exporter": "python",
   "pygments_lexer": "ipython2",
   "version": "2.7.6"
  }
 },
 "nbformat": 4,
 "nbformat_minor": 0
}