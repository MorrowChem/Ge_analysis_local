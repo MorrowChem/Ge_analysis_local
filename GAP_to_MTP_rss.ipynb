{
 "cells": [
  {
   "cell_type": "code",
   "execution_count": 1,
   "metadata": {},
   "outputs": [],
   "source": [
    "%load_ext autoreload\n",
    "%autoreload 2"
   ]
  },
  {
   "cell_type": "code",
   "execution_count": 2,
   "metadata": {},
   "outputs": [],
   "source": [
    "from ase.io.extxyz import read_xyz\n",
    "import numpy as np\n",
    "from ase.atoms import Atoms\n",
    "from ase.io.formats import index2range\n",
    "from ase.io.cfg import read_cfg\n",
    "from io import StringIO, UnsupportedOperation\n",
    "from mtp import *\n",
    "import os\n",
    "from matplotlib import pyplot as plt\n",
    "from quippy.potential import Potential\n",
    "import pickle\n",
    "from Ge_analysis import *\n",
    "from Ge_calculation import *\n",
    "import matplotlib.pyplot as plt\n",
    "from matscipy.rings import ring_statistics\n",
    "from datetime import datetime\n",
    "import pymatgen.ext.matproj as mp\n",
    "import pymatgen.io.ase as pase\n",
    "from pymatgen.symmetry.analyzer import SpacegroupAnalyzer\n",
    "from numpy.random import normal\n",
    "from ase.io.extxyz import write_xyz\n",
    "from ase.io.lammpsdata import write_lammps_data\n",
    "from ase.io.castep import read_cell, write_cell\n",
    "from ase.visualize import view\n",
    "from ase.io.trajectory import Trajectory\n",
    "from ase.io.castep import read_seed\n",
    "from os.path import join\n",
    "from ase.optimize import BFGSLineSearch\n",
    "from re import findall"
   ]
  },
  {
   "cell_type": "code",
   "execution_count": 3,
   "metadata": {},
   "outputs": [],
   "source": [
    "mpl.style.use('VLD')"
   ]
  },
  {
   "cell_type": "markdown",
   "metadata": {},
   "source": [
    "## Getting AIRSS up and running for building cells"
   ]
  },
  {
   "cell_type": "code",
   "execution_count": 4,
   "metadata": {},
   "outputs": [],
   "source": [
    "os.chdir('/u/vld/hert5155/jup_remote/Ge_od/rss/Si_solid8')"
   ]
  },
  {
   "cell_type": "code",
   "execution_count": 5,
   "metadata": {},
   "outputs": [],
   "source": [
    "pot = MTP('/home/tridymite/vld/hert5155/jup_remote/Ge_od/GAP_to_MTP/MTPs/MTPs/u24_m1.5_fw0.1_PQ_rand_retrain_fromGAP18db.mtp',\n",
    "         potential_name='u24_fw0.1_rand', mtp_command='/home/tridymite/vld/hert5155/mlip-2/bin/mlp', parallel=False)"
   ]
  },
  {
   "cell_type": "code",
   "execution_count": 151,
   "metadata": {},
   "outputs": [],
   "source": [
    "u16_rand = MTP('/home/tridymite/vld/hert5155/jup_remote/Ge_od/GAP_to_MTP/MTPs/MTPs/u16_m1.5_fw0.1_PQ1k_G18_scratch.mtp',\n",
    "              potential_name='u16_fw0.1_rand', mtp_command='/home/tridymite/vld/hert5155/mlip-2/bin/mlp', parallel=False)"
   ]
  },
  {
   "cell_type": "code",
   "execution_count": null,
   "metadata": {},
   "outputs": [],
   "source": [
    "GAP_18_dir = '/u/vld/hert5155/jup_remote/Ge_od/Si_GAP_training/libAtoms-silicon-testing-framework-fc252cb/models/GAP'\n",
    "g18 = Potential(param_filename=GAP_18_dir+'/gp_iter6_sparse9k.xml')"
   ]
  },
  {
   "cell_type": "code",
   "execution_count": 241,
   "metadata": {},
   "outputs": [
    {
     "ename": "RuntimeError",
     "evalue": "Traceback (most recent call last)\n  File \"/u/vld/hert5155/QUIP/src/libAtoms/System.f95\", line 520 kind unspecified\n    IO error opening \"gp_iter6_sparse9k.xml\" on unit 8, error number: 5004                                                                                                                                                                                                                                                                                                                                                                                                                                                                                                                                                                                                                                                                                                                                                                                                                                           \u0001",
     "output_type": "error",
     "traceback": [
      "\u001b[0;31m---------------------------------------------------------------------------\u001b[0m",
      "\u001b[0;31mRuntimeError\u001b[0m                              Traceback (most recent call last)",
      "\u001b[0;32m<ipython-input-241-205cb1aaf623>\u001b[0m in \u001b[0;36m<module>\u001b[0;34m\u001b[0m\n\u001b[0;32m----> 1\u001b[0;31m g18_lv2 = Potential(param_filename=GAP_18_dir+'/gp_iter6_sparse9k.xml',\n\u001b[0m\u001b[1;32m      2\u001b[0m                   calc_args='local_gap_variance')\n",
      "\u001b[0;32m~/QUIP/build/linux_x86_64_gfortran_openmp/quippy/potential.py\u001b[0m in \u001b[0;36m__init__\u001b[0;34m(self, args_str, pot1, pot2, param_str, param_filename, atoms, calculation_always_required, calc_args, add_arrays, add_info, **kwargs)\u001b[0m\n\u001b[1;32m     79\u001b[0m         \u001b[0;32mif\u001b[0m \u001b[0mparam_filename\u001b[0m \u001b[0;32mis\u001b[0m \u001b[0;32mnot\u001b[0m \u001b[0;32mNone\u001b[0m \u001b[0;32mand\u001b[0m \u001b[0misinstance\u001b[0m\u001b[0;34m(\u001b[0m\u001b[0mparam_filename\u001b[0m\u001b[0;34m,\u001b[0m \u001b[0mstr\u001b[0m\u001b[0;34m)\u001b[0m\u001b[0;34m:\u001b[0m\u001b[0;34m\u001b[0m\u001b[0;34m\u001b[0m\u001b[0m\n\u001b[1;32m     80\u001b[0m             \u001b[0;31m# from a param filename\u001b[0m\u001b[0;34m\u001b[0m\u001b[0;34m\u001b[0m\u001b[0;34m\u001b[0m\u001b[0m\n\u001b[0;32m---> 81\u001b[0;31m             self._quip_potential = quippy.potential_module.Potential.filename_initialise(args_str=args_str,\n\u001b[0m\u001b[1;32m     82\u001b[0m                                                                                          param_filename=param_filename)\n\u001b[1;32m     83\u001b[0m         \u001b[0;32melif\u001b[0m \u001b[0mpot1\u001b[0m \u001b[0;32mis\u001b[0m \u001b[0;32mnot\u001b[0m \u001b[0;32mNone\u001b[0m \u001b[0;32mand\u001b[0m \u001b[0mpot2\u001b[0m \u001b[0;32mis\u001b[0m \u001b[0;32mnot\u001b[0m \u001b[0;32mNone\u001b[0m\u001b[0;34m:\u001b[0m\u001b[0;34m\u001b[0m\u001b[0;34m\u001b[0m\u001b[0m\n",
      "\u001b[0;32m~/QUIP/build/linux_x86_64_gfortran_openmp/quippy/potential_module.py\u001b[0m in \u001b[0;36mfilename_initialise\u001b[0;34m(cls, args_str, param_filename, bulk_scale, error)\u001b[0m\n\u001b[1;32m    131\u001b[0m         \u001b[0mbare_class\u001b[0m \u001b[0;34m=\u001b[0m \u001b[0mcls\u001b[0m\u001b[0;34m.\u001b[0m\u001b[0m__new__\u001b[0m\u001b[0;34m(\u001b[0m\u001b[0mcls\u001b[0m\u001b[0;34m)\u001b[0m\u001b[0;34m\u001b[0m\u001b[0;34m\u001b[0m\u001b[0m\n\u001b[1;32m    132\u001b[0m         \u001b[0mf90wrap\u001b[0m\u001b[0;34m.\u001b[0m\u001b[0mruntime\u001b[0m\u001b[0;34m.\u001b[0m\u001b[0mFortranDerivedType\u001b[0m\u001b[0;34m.\u001b[0m\u001b[0m__init__\u001b[0m\u001b[0;34m(\u001b[0m\u001b[0mbare_class\u001b[0m\u001b[0;34m)\u001b[0m\u001b[0;34m\u001b[0m\u001b[0;34m\u001b[0m\u001b[0m\n\u001b[0;32m--> 133\u001b[0;31m         result = _quippy.f90wrap_potential_filename_initialise(args_str=args_str, param_filename=param_filename, bulk_scale=None \\\n\u001b[0m\u001b[1;32m    134\u001b[0m             if bulk_scale is None else bulk_scale._handle, error=error)\n\u001b[1;32m    135\u001b[0m         \u001b[0mbare_class\u001b[0m\u001b[0;34m.\u001b[0m\u001b[0m_handle\u001b[0m \u001b[0;34m=\u001b[0m \u001b[0mresult\u001b[0m\u001b[0;34m[\u001b[0m\u001b[0;36m0\u001b[0m\u001b[0;34m]\u001b[0m \u001b[0;32mif\u001b[0m \u001b[0misinstance\u001b[0m\u001b[0;34m(\u001b[0m\u001b[0mresult\u001b[0m\u001b[0;34m,\u001b[0m \u001b[0mtuple\u001b[0m\u001b[0;34m)\u001b[0m \u001b[0;32melse\u001b[0m \u001b[0mresult\u001b[0m\u001b[0;34m\u001b[0m\u001b[0;34m\u001b[0m\u001b[0m\n",
      "\u001b[0;31mRuntimeError\u001b[0m: Traceback (most recent call last)\n  File \"/u/vld/hert5155/QUIP/src/libAtoms/System.f95\", line 520 kind unspecified\n    IO error opening \"gp_iter6_sparse9k.xml\" on unit 8, error number: 5004                                                                                                                                                                                                                                                                                                                                                                                                                                                                                                                                                                                                                                                                                                                                                                                                                                           \u0001"
     ]
    }
   ],
   "source": [
    "g18_lv = Potential(param_filename=GAP_18_dir+'/gp_iter6_sparse9k.xml',\n",
    "                  calc_args='local_gap_variance')"
   ]
  },
  {
   "cell_type": "code",
   "execution_count": 244,
   "metadata": {},
   "outputs": [],
   "source": [
    "g18_lv.calculate(dia_ref, args_str='local_gap_variance')"
   ]
  },
  {
   "cell_type": "code",
   "execution_count": 246,
   "metadata": {},
   "outputs": [
    {
     "data": {
      "text/plain": [
       "{'config': {},\n",
       " 'atoms': {'local_gap_variance': array([1.04081829e-06, 1.04081825e-06, 1.04081825e-06, 1.04081830e-06,\n",
       "         1.04081829e-06, 1.04081827e-06, 1.04081832e-06, 1.04081828e-06]),\n",
       "  'gap_variance_gradient': array([[-5.16519964e-13, -5.12242568e-13,  2.51596728e-13],\n",
       "         [ 5.37462482e-13,  5.02743956e-13, -2.64674252e-13],\n",
       "         [-5.18705772e-13, -5.16414940e-13,  2.83877486e-13],\n",
       "         [ 5.33777645e-13,  5.19409003e-13, -2.67716572e-13],\n",
       "         [-5.07532885e-13, -5.09974497e-13,  2.89811314e-13],\n",
       "         [ 4.91786624e-13,  5.08617786e-13, -2.71950940e-13],\n",
       "         [-5.11660883e-13, -5.15608734e-13,  2.50431905e-13],\n",
       "         [ 4.92352668e-13,  5.24155823e-13, -2.70460160e-13]])}}"
      ]
     },
     "execution_count": 246,
     "metadata": {},
     "output_type": "execute_result"
    }
   ],
   "source": [
    "g18_lv.extra_results"
   ]
  },
  {
   "cell_type": "code",
   "execution_count": 24,
   "metadata": {},
   "outputs": [],
   "source": [
    "c = read_cell('Si_1.cell')\n",
    "pot.calculate(c)"
   ]
  },
  {
   "cell_type": "code",
   "execution_count": 135,
   "metadata": {},
   "outputs": [],
   "source": [
    "def opt(at, pot, P, fmax=5e-2, traj='tmp.traj', silent=False, name='NA', steps=100):\n",
    "    '''Arguments\n",
    "    init_structs: list of initial geometries for optimisation (must be close enough)\n",
    "    pot: calculator object with which to perform opt\n",
    "    P: pressure / eVA^-3'''\n",
    "\n",
    "    at = at.copy()\n",
    "    \n",
    "    at.set_calculator(pot)\n",
    "    #at.set_constraint(FixAtoms(mask=[True for atom in at]))\n",
    "    uf = ExpCellFilter(at, scalar_pressure=P, hydrostatic_strain=True) # should ensure only the lattice can move, not atomic positions\n",
    "    if silent:\n",
    "        opt = BFGSLineSearch(atoms=uf, trajectory=traj, logfile='/dev/null')\n",
    "    else:\n",
    "        opt = BFGSLineSearch(atoms=uf, trajectory=traj)\n",
    "                       \n",
    "    opt.run(fmax, steps=steps) # converge to 0.1 GPa\n",
    "\n",
    "    if not opt.converged():\n",
    "        warnings.warn(('Warning: failed to converge on structure{}\\n' +\\\n",
    "                      'in {} steps').format(Na, steps))\n",
    "        #at.set_cell(np.NaN*np.ones(3)) # flag unconverged geometry\n",
    "\n",
    "    at.set_calculator(None)\n",
    "\n",
    "    return at, opt"
   ]
  },
  {
   "cell_type": "code",
   "execution_count": 39,
   "metadata": {},
   "outputs": [],
   "source": [
    "cn = opt(c, g18, 0, silent=True)"
   ]
  },
  {
   "cell_type": "code",
   "execution_count": 40,
   "metadata": {},
   "outputs": [],
   "source": [
    "traj = Trajectory('tmp.traj')"
   ]
  },
  {
   "cell_type": "code",
   "execution_count": 41,
   "metadata": {
    "collapsed": true
   },
   "outputs": [
    {
     "data": {
      "application/vnd.jupyter.widget-view+json": {
       "model_id": "b673d2159a1b48bab1836b1fba998322",
       "version_major": 2,
       "version_minor": 0
      },
      "text/plain": [
       "HBox(children=(NGLWidget(max_frame=73), VBox(children=(Dropdown(description='Show', options=('All', 'Si'), val…"
      ]
     },
     "metadata": {},
     "output_type": "display_data"
    }
   ],
   "source": [
    "view(traj, viewer='ngl')"
   ]
  },
  {
   "cell_type": "code",
   "execution_count": 43,
   "metadata": {},
   "outputs": [],
   "source": [
    "cells = [read_cell(i) for i in os.listdir() if 'Si_' in i]"
   ]
  },
  {
   "cell_type": "code",
   "execution_count": 49,
   "metadata": {},
   "outputs": [
    {
     "name": "stderr",
     "output_type": "stream",
     "text": [
      "<ipython-input-38-9bc962ca00a5>:20: UserWarning: Warning: failed to converge on structure\n",
      "in 100 steps\n",
      "  warnings.warn(('Warning: failed to converge on structure\\n' +\\\n"
     ]
    }
   ],
   "source": [
    "opts = []; g18_e = []; mtp_e = []; mtp_f = []; g18_f = []\n",
    "for ct, i in enumerate(cells):\n",
    "    opts.append(opt(i, g18, 0, traj='{}.traj'.format(ct), silent=True))\n",
    "    \n",
    "    opts[-1].calc = g18\n",
    "    g18_e.append(opts[-1].get_potential_energy())\n",
    "    g18_f.append(opts[-1].get_forces())\n",
    "    \n",
    "    opts[-1].calc = pot\n",
    "    mtp_e.append(opts[-1].get_potential_energy())\n",
    "    mtp_f.append(opts[-1].get_forces())\n",
    "    "
   ]
  },
  {
   "cell_type": "code",
   "execution_count": 87,
   "metadata": {},
   "outputs": [],
   "source": [
    "g18_e = np.array(g18_e); mtp_e = np.array(mtp_e)"
   ]
  },
  {
   "cell_type": "code",
   "execution_count": 72,
   "metadata": {},
   "outputs": [],
   "source": [
    "with open('Si_g18opt_castep.pickle', 'rb') as f:\n",
    "    cas = pickle.load(f)"
   ]
  },
  {
   "cell_type": "code",
   "execution_count": 85,
   "metadata": {},
   "outputs": [],
   "source": [
    "cas_e = np.array([i.info['dft_energy'] for i in cas])\n",
    "cas_f = np.array([i.arrays['dft_force'] for i in cas])"
   ]
  },
  {
   "cell_type": "code",
   "execution_count": 82,
   "metadata": {},
   "outputs": [],
   "source": [
    "dia_ref = read_seed('dia_ref/dia_geom_1')\n",
    "cas_e_ref = dia_ref.get_potential_energy()\n",
    "dia_ref.calc = g18\n",
    "g18_e_ref = dia_ref.get_potential_energy()\n",
    "dia_ref.calc = pot\n",
    "mtp_e_ref = dia_ref.get_potential_energy()"
   ]
  },
  {
   "cell_type": "code",
   "execution_count": 57,
   "metadata": {},
   "outputs": [],
   "source": [
    "for i, val in enumerate(opts):\n",
    "    with open('Si_g18opt_{}.cell'.format(i+1), 'w') as f:\n",
    "        write_cell(f, val)"
   ]
  },
  {
   "cell_type": "code",
   "execution_count": 92,
   "metadata": {},
   "outputs": [
    {
     "data": {
      "text/plain": [
       "[<matplotlib.lines.Line2D at 0x7f094cd56f10>]"
      ]
     },
     "execution_count": 92,
     "metadata": {},
     "output_type": "execute_result"
    },
    {
     "data": {
      "image/png": "[encoded data removed]",
      "text/plain": [
       "<Figure size 720x360 with 2 Axes>"
      ]
     },
     "metadata": {
      "needs_background": "light"
     },
     "output_type": "display_data"
    }
   ],
   "source": [
    "fig, (axs, axs2) = plt.subplots(1,2, figsize=(10,5))\n",
    "v = [i.get_volume()/len(i) for i in opts]\n",
    "axs.scatter(v, mtp_e - mtp_e_ref, label='mtp')\n",
    "axs.scatter(v, g18_e - g18_e_ref, label='g18')\n",
    "axs.scatter(v, cas_e - cas_e_ref, label='PW91')\n",
    "axs.set(ylabel=r'$\\Delta E_{dia}$ / eV', xlabel='$V_{N}$')\n",
    "axs.legend()\n",
    "# axs2.scatter(v, np.array(mtp_f).ravel(), label='mtp')\n",
    "# axs2.scatter(v, np.array(g18_f).ravel(), label='g18')\n",
    "axs2.scatter(np.array(g18_f).ravel(), np.array(mtp_f).ravel(), s=2)\n",
    "axs2.plot(x:=np.linspace(-0.5,0.5), x, linewidth=0.5, color='k')"
   ]
  },
  {
   "cell_type": "markdown",
   "metadata": {},
   "source": [
    "## More formalised"
   ]
  },
  {
   "cell_type": "code",
   "execution_count": 117,
   "metadata": {},
   "outputs": [],
   "source": [
    "c_dir = 'build_test3'\n",
    "cs = [read_cell(join(c_dir, i)) for i in os.listdir(c_dir) if 'Si_' in i]"
   ]
  },
  {
   "cell_type": "code",
   "execution_count": 118,
   "metadata": {},
   "outputs": [],
   "source": [
    "uo_g18_e2 = []; uo_mtp_e2 = []; uo_g18_f2 = []; uo_mtp_f2 = []; \n",
    "for ct, i in enumerate(cs):\n",
    "    \n",
    "    i.calc = g18\n",
    "    uo_g18_e2.append(i.get_potential_energy())\n",
    "    uo_g18_f2.append(i.get_forces())\n",
    "    \n",
    "    i.calc = pot\n",
    "    uo_mtp_e2.append(i.get_potential_energy())\n",
    "    uo_mtp_f2.append(i.get_forces())\n",
    "\n",
    "uo_g18_e2 = np.array(uo_g18_e2); uo_mtp_e2 = np.array(uo_mtp_e2)\n",
    "uo_g18_f2 = np.array(uo_g18_f2); uo_mtp_f2 = np.array(uo_mtp_f2)"
   ]
  },
  {
   "cell_type": "code",
   "execution_count": 136,
   "metadata": {},
   "outputs": [],
   "source": [
    "opts_2 = []; g18_e2 = []; mtp_e2 = []; mtp_f2 = []; g18_f2 = []; failed = []\n",
    "for ct, i in enumerate(cs):\n",
    "    \n",
    "    at, n_opt = opt(i, g18, 0, traj='{}.traj'.format(ct), silent=True, name=ct)\n",
    "    \n",
    "    at.calc = g18\n",
    "    if not n_opt.converged():\n",
    "        failed.append(ct)\n",
    "    at.calc = None\n",
    "    \n",
    "    opts_2.append(at)\n",
    "    \n",
    "    opts_2[-1].calc = g18\n",
    "    g18_e2.append(opts_2[-1].get_potential_energy())\n",
    "    g18_f2.append(opts_2[-1].get_forces())\n",
    "    \n",
    "    opts_2[-1].calc = pot\n",
    "    mtp_e2.append(opts_2[-1].get_potential_energy())\n",
    "    mtp_f2.append(opts_2[-1].get_forces())\n",
    "g18_e2 = np.array(g18_e2); mtp_e2 = np.array(mtp_e2)"
   ]
  },
  {
   "cell_type": "code",
   "execution_count": 156,
   "metadata": {},
   "outputs": [],
   "source": [
    "dia_ref.calc = u16_rand\n",
    "u16_rand_e_ref = dia_ref.get_potential_energy()"
   ]
  },
  {
   "cell_type": "code",
   "execution_count": 155,
   "metadata": {},
   "outputs": [],
   "source": [
    "u16_rand_e2 = []; u16_rand_f2 = []\n",
    "for ct, i in enumerate(opts_2):\n",
    "    at = i.copy()\n",
    "    at.calc = u16_rand\n",
    "    u16_rand_e2.append(at.get_potential_energy())\n",
    "    u16_rand_f2.append(at.get_forces())\n",
    "    at.calc = None"
   ]
  },
  {
   "cell_type": "code",
   "execution_count": 159,
   "metadata": {},
   "outputs": [],
   "source": [
    "u16_rand_e2 = np.array(u16_rand_e2); u16_rand_f2 = np.array(u16_rand_f2)"
   ]
  },
  {
   "cell_type": "code",
   "execution_count": 162,
   "metadata": {},
   "outputs": [
    {
     "data": {
      "text/plain": [
       "[<matplotlib.lines.Line2D at 0x7f08f4448e20>]"
      ]
     },
     "execution_count": 162,
     "metadata": {},
     "output_type": "execute_result"
    },
    {
     "data": {
      "image/png": "[encoded data removed]",
      "text/plain": [
       "<Figure size 720x360 with 2 Axes>"
      ]
     },
     "metadata": {
      "needs_background": "light"
     },
     "output_type": "display_data"
    }
   ],
   "source": [
    "fig, (axs, axs2) = plt.subplots(1,2, figsize=(10,5))\n",
    "v = np.array([i.get_volume()/len(i) for i in opts_2])\n",
    "axs.scatter(v, mtp_e2 - mtp_e_ref, label='u24 mtp')\n",
    "axs.scatter(v, g18_e2 - g18_e_ref, label='g18')\n",
    "axs.scatter(v, u16_rand_e2 - u16_rand_e_ref, label='u16 mtp')\n",
    "axs.set(xlim=(14,27), ylim=(0,8))\n",
    "# axs.scatter(v, cas_e2 - cas_e_ref, label='PW91')\n",
    "axs.set(ylabel=r'$\\Delta E_{dia}$ / eV', xlabel='$V_{N}$')\n",
    "axs.legend()\n",
    "# axs2.scatter(v, np.array(mtp_f).ravel(), label='mtp')\n",
    "# axs2.scatter(v, np.array(g18_f).ravel(), label='g18')\n",
    "axs2.scatter(np.array(g18_f2).ravel(), np.array(mtp_f2).ravel(), s=2)\n",
    "axs2.plot(x:=np.linspace(-0.5,0.5), x, linewidth=0.5, color='k')"
   ]
  },
  {
   "cell_type": "code",
   "execution_count": 167,
   "metadata": {},
   "outputs": [
    {
     "data": {
      "text/plain": [
       "({'rmse': 0.2865275677257074, 'std': 0.31550703698018123},\n",
       " {'rmse': 1.344728110994009, 'std': 11.063602049462817})"
      ]
     },
     "execution_count": 167,
     "metadata": {},
     "output_type": "execute_result"
    }
   ],
   "source": [
    "rms_dict(g18_e2[np.where(v<27)], mtp_e2[np.where(v<27)]), rms_dict(g18_e2, mtp_e2)"
   ]
  },
  {
   "cell_type": "code",
   "execution_count": 169,
   "metadata": {},
   "outputs": [
    {
     "data": {
      "text/plain": [
       "({'rmse': 0.2924451208651083, 'std': 0.21864157103785237},\n",
       " {'rmse': 1.3729448855845934, 'std': 11.35978975958231})"
      ]
     },
     "execution_count": 169,
     "metadata": {},
     "output_type": "execute_result"
    }
   ],
   "source": [
    "rms_dict(g18_e2[np.where(v<27)], u16_rand_e2[np.where(v<27)]), rms_dict(g18_e2, u16_rand_e2) "
   ]
  },
  {
   "cell_type": "code",
   "execution_count": 119,
   "metadata": {},
   "outputs": [
    {
     "data": {
      "text/plain": [
       "{'rmse': 3.1364042022969696, 'std': 19.113838378560715}"
      ]
     },
     "execution_count": 119,
     "metadata": {},
     "output_type": "execute_result"
    }
   ],
   "source": [
    "rms_dict(uo_g18_e2, uo_mtp_e2)"
   ]
  },
  {
   "cell_type": "code",
   "execution_count": 127,
   "metadata": {},
   "outputs": [
    {
     "data": {
      "image/png": "[encoded data removed]",
      "text/plain": [
       "<Figure size 720x360 with 2 Axes>"
      ]
     },
     "metadata": {
      "needs_background": "light"
     },
     "output_type": "display_data"
    }
   ],
   "source": [
    "fig, (axs, axs2) = plt.subplots(1,2, figsize=(10,5))\n",
    "v = [i.get_volume()/len(i) for i in cs]\n",
    "axs.scatter(v, uo_mtp_e2 - mtp_e_ref, label='mtp')\n",
    "axs.scatter(v, uo_g18_e2 - g18_e_ref, label='g18')\n",
    "# axs.scatter(v, uo_cas_e2 - cas_e_ref, label='PW91')\n",
    "axs.set(ylabel=r'$\\Delta E_{dia}$ / eV', xlabel='$V_{N}$')\n",
    "axs.legend()\n",
    "# axs2.scatter(v, np.array(mtp_f).ravel(), label='mtp')\n",
    "# axs2.scatter(v, np.array(g18_f).ravel(), label='g18')\n",
    "axs2.scatter(np.array(uo_g18_f2).ravel(), np.array(uo_mtp_f2).ravel(), s=2)\n",
    "axs2.plot(x:=np.linspace(mi:=uo_g18_f2.min(),ma:=uo_g18_f2.max()), x, linewidth=0.5, color='k')\n",
    "axs2.set(xlabel=('GAP18 F'), ylabel='MTP F', xlim=(mi*1.3,ma*1.3), ylim=(mi*1.3,ma*1.3))\n",
    "fig.tight_layout()"
   ]
  },
  {
   "cell_type": "code",
   "execution_count": 756,
   "metadata": {},
   "outputs": [],
   "source": [
    "def gap_rss(cell_dir, opt_pot, eval_pot, ref_at):\n",
    "    '''\n",
    "    Retuns: uo_opt, uo_eval, o_opt, o_eval, refs, opts, cs\n",
    "    '''\n",
    "    \n",
    "    \n",
    "    cs = sorted([join(cell_dir, i) for i in os.listdir(cell_dir) if 'Si_' in i],\n",
    "                key=lambda f: int(findall('\\d+', f)[-1]))\n",
    "    \n",
    "    cs = [read_cell(i) for i in cs]\n",
    "    \n",
    "    ######### Reference calculation ###################\n",
    "    ref_at.calc = opt_pot\n",
    "    refs = [ref_at.get_potential_energy()]\n",
    "    \n",
    "    ref_at.calc = eval_pot\n",
    "    refs.append(ref_at.get_potential_energy())\n",
    "\n",
    "    ref_at.calc = None            \n",
    "    ######### Evaluate unoptimised geometries ##########\n",
    "                \n",
    "    uo_opt = [[], [], [], []]; uo_eval = [[], [], [], []]; \n",
    "\n",
    "    for ct, i in enumerate(cs):\n",
    "\n",
    "        i.calc = opt_pot\n",
    "        uo_opt[0].append(i.get_potential_energy())\n",
    "        uo_opt[1].append(i.get_forces())\n",
    "        uo_opt[2].append(i.get_stress())\n",
    "        if 'energies' in opt_pot.implemented_properties:\n",
    "            uo_opt[3].append(i.get_potential_energies())\n",
    "                \n",
    "\n",
    "        i.calc = eval_pot\n",
    "        uo_eval[0].append(i.get_potential_energy())\n",
    "        uo_eval[1].append(i.get_forces())\n",
    "        uo_eval[2].append(i.get_stress())\n",
    "        if 'energies' in opt_pot.implemented_properties:\n",
    "            uo_eval[3].append(i.get_potential_energies())\n",
    "\n",
    "    uo_opt = [np.array(i) for i in uo_opt]\n",
    "    uo_eval = [np.array(i) for i in uo_eval]\n",
    "    i.calc = None\n",
    "    \n",
    "    #### Optimised geometries #########################\n",
    "                \n",
    "    pts = []; failed = []; opts = []\n",
    "    o_opt = [[], [], [], []]; o_eval = [[], [], [], []];\n",
    "    \n",
    "    for ct, i in enumerate(cs):\n",
    "\n",
    "        at, n_opt = opt(i, opt_pot, 0,\n",
    "                        traj=join(cell_dir, '{}_{}.traj'.format(opt_pot.name, ct)),\n",
    "                        silent=True, name=ct)\n",
    "\n",
    "        at.calc = opt_pot\n",
    "        if not n_opt.converged():\n",
    "            failed.append(ct)\n",
    "        at.calc = None\n",
    "\n",
    "        opts.append(at)\n",
    "        at.calc = opt_pot\n",
    "        o_opt[0].append(at.get_potential_energy())\n",
    "        o_opt[1].append(at.get_forces())\n",
    "        o_opt[2].append(at.get_stress())\n",
    "        if 'energies' in opt_pot.implemented_properties:\n",
    "            o_opt[3].append(at.get_potential_energies())\n",
    "                \n",
    "\n",
    "        at.calc = eval_pot\n",
    "        o_eval[0].append(at.get_potential_energy())\n",
    "        o_eval[1].append(at.get_forces())\n",
    "        o_eval[2].append(at.get_stress())\n",
    "        if 'energies' in eval_pot.implemented_properties:\n",
    "            o_eval[3].append(at.get_potential_energies())\n",
    "        \n",
    "        at.calc = None\n",
    "        \n",
    "    o_opt = [np.array(i) for i in o_opt]\n",
    "    o_eval = [np.array(i) for i in o_eval]\n",
    "    \n",
    "    return [uo_opt, uo_eval, o_opt, o_eval, refs, opts, cs]"
   ]
  },
  {
   "cell_type": "code",
   "execution_count": 705,
   "metadata": {},
   "outputs": [
    {
     "data": {
      "text/plain": [
       "['energy', 'free_energy', 'forces', 'stress', 'stresses', 'energies']"
      ]
     },
     "execution_count": 705,
     "metadata": {},
     "output_type": "execute_result"
    }
   ],
   "source": [
    "g18.implemented_properties"
   ]
  },
  {
   "cell_type": "code",
   "execution_count": 193,
   "metadata": {},
   "outputs": [
    {
     "data": {
      "text/plain": [
       "(<quippy.potential.Potential at 0x7f092f14a9a0>, 'u24_fw0.1_rand')"
      ]
     },
     "execution_count": 193,
     "metadata": {},
     "output_type": "execute_result"
    }
   ],
   "source": [
    "g18,pot.name"
   ]
  },
  {
   "cell_type": "code",
   "execution_count": 194,
   "metadata": {},
   "outputs": [],
   "source": [
    "sym_out = gap_rss('build_test_sym', g18, pot, dia_ref)"
   ]
  },
  {
   "cell_type": "code",
   "execution_count": 130,
   "metadata": {},
   "outputs": [
    {
     "data": {
      "text/plain": [
       "['MP_g18_u16_fw0.1.mtp',\n",
       " 'g18_u16.mtp',\n",
       " 'g18_u16_direct.mtp',\n",
       " 'g18_u16_fw0.1.mtp',\n",
       " 'g18_u16_fw0.1_direct.mtp',\n",
       " 'g18_u20_fw0.1.mtp',\n",
       " 'g18_u20_fw0.1_direct.mtp',\n",
       " 'g18_u24_fw0.1.mtp',\n",
       " 'g18_u24_fw0.1_direct.mtp',\n",
       " 'PQ1k-1-5_g18_amo_u16_fw0.1.mtp',\n",
       " 'PQ1k-1_g18_amo_u16_fw0.1.mtp',\n",
       " 'PQ10k_g18_amo_u16_fw0.1.mtp',\n",
       " 'PQ10k_g18_rand_u16_fw0.1.mtp',\n",
       " 'PQ1k-1-10_g18_amo_u16_fw0.1.mtp',\n",
       " 'PQ1k-1-10_g18_rand_u16_fw0.1.mtp',\n",
       " 'PQ1k-1-5_g18_rand_u16_fw0.1.mtp',\n",
       " 'PQ1k-1_g18_rand_u16_fw0.1.mtp']"
      ]
     },
     "execution_count": 130,
     "metadata": {},
     "output_type": "execute_result"
    }
   ],
   "source": [
    "MTP_dir = '/u/vld/hert5155/jup_remote/Ge_od/GAP_to_MTP/MTPs_rmse/'\n",
    "os.listdir(MTP_dir)"
   ]
  },
  {
   "cell_type": "code",
   "execution_count": 131,
   "metadata": {},
   "outputs": [],
   "source": [
    "MTPs_rmse = []"
   ]
  },
  {
   "cell_type": "code",
   "execution_count": 132,
   "metadata": {},
   "outputs": [],
   "source": [
    "gls = {'parallel':False, 'mtp_command':'/u/vld/hert5155/mlip-2/bin/mlp'}\n",
    "extras = []\n",
    "for i in os.listdir(MTP_dir):\n",
    "    if i[:-4] not in [i.name for i in MTPs_rmse]:\n",
    "        MTPs_rmse.append(MTP(join(MTP_dir, i),\n",
    "                             potential_name=i[:-4], **gls))\n",
    "        extras.append(i)"
   ]
  },
  {
   "cell_type": "code",
   "execution_count": 133,
   "metadata": {},
   "outputs": [],
   "source": [
    "MTPs_rmse_dict = {}\n",
    "for i in MTPs_rmse:\n",
    "    MTPs_rmse_dict.update({i.name : i})"
   ]
  },
  {
   "cell_type": "code",
   "execution_count": 134,
   "metadata": {},
   "outputs": [
    {
     "data": {
      "text/plain": [
       "{'MP_g18_u16_fw0.1': <mtp.MTP at 0x7fa558a48220>,\n",
       " 'g18_u16': <mtp.MTP at 0x7fa558a48040>,\n",
       " 'g18_u16_direct': <mtp.MTP at 0x7fa558a48430>,\n",
       " 'g18_u16_fw0.1': <mtp.MTP at 0x7fa558a48370>,\n",
       " 'g18_u16_fw0.1_direct': <mtp.MTP at 0x7fa558a48460>,\n",
       " 'g18_u20_fw0.1': <mtp.MTP at 0x7fa558a481c0>,\n",
       " 'g18_u20_fw0.1_direct': <mtp.MTP at 0x7fa558a482e0>,\n",
       " 'g18_u24_fw0.1': <mtp.MTP at 0x7fa558a486d0>,\n",
       " 'g18_u24_fw0.1_direct': <mtp.MTP at 0x7fa558a486a0>,\n",
       " 'PQ1k-1-5_g18_amo_u16_fw0.1': <mtp.MTP at 0x7fa558a482b0>,\n",
       " 'PQ1k-1_g18_amo_u16_fw0.1': <mtp.MTP at 0x7fa558a48790>,\n",
       " 'PQ10k_g18_amo_u16_fw0.1': <mtp.MTP at 0x7fa558a48490>,\n",
       " 'PQ10k_g18_rand_u16_fw0.1': <mtp.MTP at 0x7fa558a48100>,\n",
       " 'PQ1k-1-10_g18_amo_u16_fw0.1': <mtp.MTP at 0x7fa553b5bdf0>,\n",
       " 'PQ1k-1-10_g18_rand_u16_fw0.1': <mtp.MTP at 0x7fa553b4e040>,\n",
       " 'PQ1k-1-5_g18_rand_u16_fw0.1': <mtp.MTP at 0x7fa553b4e820>,\n",
       " 'PQ1k-1_g18_rand_u16_fw0.1': <mtp.MTP at 0x7fa553b4e160>}"
      ]
     },
     "execution_count": 134,
     "metadata": {},
     "output_type": "execute_result"
    }
   ],
   "source": [
    "MTPs_rmse_dict"
   ]
  },
  {
   "cell_type": "code",
   "execution_count": 707,
   "metadata": {},
   "outputs": [],
   "source": [
    "mtp_gr = gap_rss('build_test_sym', MTPs_rmse[-1], g18, dia_ref)"
   ]
  },
  {
   "cell_type": "code",
   "execution_count": 757,
   "metadata": {},
   "outputs": [],
   "source": [
    "mtp_gr_g18_u24_fw0_1_direct = gap_rss('build_test_sym', MTPs_rmse_dict['g18_u24_fw0.1_direct'], g18, dia_ref)"
   ]
  },
  {
   "cell_type": "code",
   "execution_count": 758,
   "metadata": {},
   "outputs": [],
   "source": [
    "mtp_gr_PQ1k_1_10_g18_amo_u16_fw0_1 = gap_rss('build_test_sym', MTPs_rmse_dict['PQ1k-1-10_g18_amo_u16_fw0.1'], g18, dia_ref)"
   ]
  },
  {
   "cell_type": "code",
   "execution_count": 668,
   "metadata": {},
   "outputs": [],
   "source": [
    "with open('/home/tridymite/vld/hert5155/jup_remote/Ge_od/rss/Si_solid8/build_test_sym/opts.pickle', 'wb') as f:\n",
    "    pickle.dump(sym_out[5], f)\n",
    "with open('/home/tridymite/vld/hert5155/jup_remote/Ge_od/rss/Si_solid8/build_test_sym/unopts.pickle', 'wb') as f:\n",
    "    pickle.dump(cs, f)\n"
   ]
  },
  {
   "cell_type": "code",
   "execution_count": 672,
   "metadata": {},
   "outputs": [],
   "source": [
    "with open('/home/tridymite/vld/hert5155/jup_remote/Ge_od/rss/Si_solid8/build_test_sym/test.pickle', 'wb') as f:\n",
    "    pickle.dump([cs[0]], f)"
   ]
  },
  {
   "cell_type": "code",
   "execution_count": 798,
   "metadata": {},
   "outputs": [],
   "source": [
    "with open('build_test_sym/opts_castep_out.pickle', 'rb') as f:\n",
    "    rss_dft_g18opt = pickle.load(f)\n",
    "with open('build_test_sym/unopts_castep_out.pickle', 'rb') as f:\n",
    "    rss_dft_g18unopt = pickle.load(f)"
   ]
  },
  {
   "cell_type": "code",
   "execution_count": 805,
   "metadata": {},
   "outputs": [],
   "source": [
    "dft_g18opt_e = []\n",
    "for i in rss_dft_g18opt:\n",
    "    dft_g18opt_e.append(i.info['dft_energy'] - cas_e_ref)\n",
    "    \n",
    "dft_g18opt_e = np.array(dft_g18opt_e)/8\n",
    "\n",
    "dft_g18unopt_e = []\n",
    "for i in rss_dft_g18unopt:\n",
    "    dft_g18unopt_e.append(i.info['dft_energy'] - cas_e_ref)\n",
    "    \n",
    "dft_g18unopt_e = np.array(dft_g18unopt_e)/8\n"
   ]
  },
  {
   "cell_type": "code",
   "execution_count": 6,
   "metadata": {},
   "outputs": [],
   "source": [
    "def plot_rss(gap_rss_out, labels=['opt', 'eval'], eval_pot=True, axs=None, maxvol=26, col = ['RoyalBlue', 'Orange']):\n",
    "    \n",
    "    if axs is None:\n",
    "        fig, (axs, axs2) = plt.subplots(1,2, figsize=(10,5))\n",
    "    else:\n",
    "        fig = axs.figure\n",
    "    s = gap_rss_out\n",
    "    \n",
    "    \n",
    "    opts = s[5]\n",
    "    ref = s[4]\n",
    "    cs = s[-1]\n",
    "    vs_opt = np.array([i.get_volume()/len(i) for i in opts])\n",
    "    vs_unopt = np.array([i.get_volume()/len(i) for i in cs])\n",
    "    non_exp = np.argwhere(vs_opt<maxvol).T.squeeze()\n",
    "\n",
    "    axs.scatter(vs_unopt, s[0][0]/len(opts[0]) - ref[0]/len(dia_ref), label=labels[0], color=col[0])\n",
    "    if eval_pot:\n",
    "        axs.scatter(vs_unopt, s[1][0]/len(opts[0]) - ref[1]/len(dia_ref), label=labels[1], color=col[1])\n",
    "    axs.legend()\n",
    "    axs.set(ylabel=r'$\\Delta E_{dia}$ / eV', xlabel=r'$V_{at}$ / $\\AA^3$')\n",
    "    \n",
    "    axs2.scatter(vs_opt, s[2][0]/len(opts[0]) - ref[0]/len(dia_ref), label=labels[0], color=col[0])\n",
    "    if eval_pot:\n",
    "        axs2.scatter(vs_opt, s[3][0]/len(opts[0]) - ref[1]/len(dia_ref), label=labels[1], color=col[1])\n",
    "    axs2.legend()\n",
    "    axs2.axhline(0, color='k', linestyle='--')\n",
    "    axs2.set(ylabel=r'$\\Delta E_{dia}$ / eV', xlabel=r'$V_{at}$ / $\\AA^3$')\n",
    "\n",
    "    fig.tight_layout()\n",
    "    \n",
    "    return fig, (axs, axs2)"
   ]
  },
  {
   "cell_type": "code",
   "execution_count": 7,
   "metadata": {},
   "outputs": [
    {
     "ename": "NameError",
     "evalue": "name 'sym_out' is not defined",
     "output_type": "error",
     "traceback": [
      "\u001b[0;31m---------------------------------------------------------------------------\u001b[0m",
      "\u001b[0;31mNameError\u001b[0m                                 Traceback (most recent call last)",
      "\u001b[0;32m<ipython-input-7-4ce3c7eca5e7>\u001b[0m in \u001b[0;36m<module>\u001b[0;34m\u001b[0m\n\u001b[0;32m----> 1\u001b[0;31m \u001b[0mfig\u001b[0m\u001b[0;34m,\u001b[0m \u001b[0;34m(\u001b[0m\u001b[0maxs\u001b[0m\u001b[0;34m,\u001b[0m \u001b[0maxs2\u001b[0m\u001b[0;34m)\u001b[0m \u001b[0;34m=\u001b[0m \u001b[0mplot_rss\u001b[0m\u001b[0;34m(\u001b[0m\u001b[0msym_out\u001b[0m\u001b[0;34m,\u001b[0m \u001b[0mlabels\u001b[0m\u001b[0;34m=\u001b[0m\u001b[0;34m[\u001b[0m\u001b[0;34m'GAP'\u001b[0m\u001b[0;34m,\u001b[0m \u001b[0;34m'MTP'\u001b[0m\u001b[0;34m]\u001b[0m\u001b[0;34m)\u001b[0m\u001b[0;34m\u001b[0m\u001b[0;34m\u001b[0m\u001b[0m\n\u001b[0m\u001b[1;32m      2\u001b[0m \u001b[0maxs\u001b[0m\u001b[0;34m.\u001b[0m\u001b[0mscatter\u001b[0m\u001b[0;34m(\u001b[0m\u001b[0mnp\u001b[0m\u001b[0;34m.\u001b[0m\u001b[0marray\u001b[0m\u001b[0;34m(\u001b[0m\u001b[0;34m[\u001b[0m\u001b[0mi\u001b[0m\u001b[0;34m.\u001b[0m\u001b[0mget_volume\u001b[0m\u001b[0;34m(\u001b[0m\u001b[0;34m)\u001b[0m\u001b[0;34m/\u001b[0m\u001b[0mlen\u001b[0m\u001b[0;34m(\u001b[0m\u001b[0mi\u001b[0m\u001b[0;34m)\u001b[0m \u001b[0;32mfor\u001b[0m \u001b[0mi\u001b[0m \u001b[0;32min\u001b[0m \u001b[0msym_out\u001b[0m\u001b[0;34m[\u001b[0m\u001b[0;34m-\u001b[0m\u001b[0;36m1\u001b[0m\u001b[0;34m]\u001b[0m\u001b[0;34m]\u001b[0m\u001b[0;34m)\u001b[0m\u001b[0;34m,\u001b[0m \u001b[0mdft_g18unopt_e\u001b[0m\u001b[0;34m,\u001b[0m \u001b[0mlabel\u001b[0m\u001b[0;34m=\u001b[0m\u001b[0;34m'PW91'\u001b[0m\u001b[0;34m,\u001b[0m \u001b[0mcolor\u001b[0m\u001b[0;34m=\u001b[0m\u001b[0;34m'Forestgreen'\u001b[0m\u001b[0;34m)\u001b[0m\u001b[0;34m\u001b[0m\u001b[0;34m\u001b[0m\u001b[0m\n\u001b[1;32m      3\u001b[0m \u001b[0maxs2\u001b[0m\u001b[0;34m.\u001b[0m\u001b[0mscatter\u001b[0m\u001b[0;34m(\u001b[0m\u001b[0mnp\u001b[0m\u001b[0;34m.\u001b[0m\u001b[0marray\u001b[0m\u001b[0;34m(\u001b[0m\u001b[0;34m[\u001b[0m\u001b[0mi\u001b[0m\u001b[0;34m.\u001b[0m\u001b[0mget_volume\u001b[0m\u001b[0;34m(\u001b[0m\u001b[0;34m)\u001b[0m\u001b[0;34m/\u001b[0m\u001b[0mlen\u001b[0m\u001b[0;34m(\u001b[0m\u001b[0mi\u001b[0m\u001b[0;34m)\u001b[0m \u001b[0;32mfor\u001b[0m \u001b[0mi\u001b[0m \u001b[0;32min\u001b[0m \u001b[0msym_out\u001b[0m\u001b[0;34m[\u001b[0m\u001b[0;34m-\u001b[0m\u001b[0;36m2\u001b[0m\u001b[0;34m]\u001b[0m\u001b[0;34m]\u001b[0m\u001b[0;34m)\u001b[0m\u001b[0;34m,\u001b[0m \u001b[0mdft_g18opt_e\u001b[0m\u001b[0;34m,\u001b[0m \u001b[0mlabel\u001b[0m\u001b[0;34m=\u001b[0m\u001b[0;34m'PW91'\u001b[0m\u001b[0;34m,\u001b[0m \u001b[0mcolor\u001b[0m\u001b[0;34m=\u001b[0m\u001b[0;34m'Forestgreen'\u001b[0m\u001b[0;34m)\u001b[0m\u001b[0;34m\u001b[0m\u001b[0;34m\u001b[0m\u001b[0m\n\u001b[1;32m      4\u001b[0m \u001b[0maxs2\u001b[0m\u001b[0;34m.\u001b[0m\u001b[0mscatter\u001b[0m\u001b[0;34m(\u001b[0m\u001b[0mnp\u001b[0m\u001b[0;34m.\u001b[0m\u001b[0marray\u001b[0m\u001b[0;34m(\u001b[0m\u001b[0;34m[\u001b[0m\u001b[0mi\u001b[0m\u001b[0;34m.\u001b[0m\u001b[0mget_volume\u001b[0m\u001b[0;34m(\u001b[0m\u001b[0;34m)\u001b[0m\u001b[0;34m/\u001b[0m\u001b[0mlen\u001b[0m\u001b[0;34m(\u001b[0m\u001b[0mi\u001b[0m\u001b[0;34m)\u001b[0m \u001b[0;32mfor\u001b[0m \u001b[0mi\u001b[0m \u001b[0;32min\u001b[0m \u001b[0msym_out\u001b[0m\u001b[0;34m[\u001b[0m\u001b[0;34m-\u001b[0m\u001b[0;36m2\u001b[0m\u001b[0;34m]\u001b[0m\u001b[0;34m]\u001b[0m\u001b[0;34m)\u001b[0m\u001b[0;34m,\u001b[0m \u001b[0mg18_opt_PQ1k_es\u001b[0m\u001b[0;34m,\u001b[0m \u001b[0mlabel\u001b[0m\u001b[0;34m=\u001b[0m\u001b[0;34m'PQ1k_u16'\u001b[0m\u001b[0;34m,\u001b[0m \u001b[0mcolor\u001b[0m\u001b[0;34m=\u001b[0m\u001b[0;34m'k'\u001b[0m\u001b[0;34m)\u001b[0m\u001b[0;34m\u001b[0m\u001b[0;34m\u001b[0m\u001b[0m\n\u001b[1;32m      5\u001b[0m \u001b[0;34m\u001b[0m\u001b[0m\n",
      "\u001b[0;31mNameError\u001b[0m: name 'sym_out' is not defined"
     ]
    }
   ],
   "source": [
    "fig, (axs, axs2) = plot_rss(sym_out, labels=['GAP', 'MTP'])\n",
    "axs.scatter(np.array([i.get_volume()/len(i) for i in sym_out[-1]]), dft_g18unopt_e, label='PW91', color='Forestgreen')\n",
    "axs2.scatter(np.array([i.get_volume()/len(i) for i in sym_out[-2]]), dft_g18opt_e, label='PW91', color='Forestgreen')\n",
    "axs2.scatter(np.array([i.get_volume()/len(i) for i in sym_out[-2]]), g18_opt_PQ1k_es, label='PQ1k_u16', color='k')\n",
    "\n",
    "axs2.legend()\n",
    "axs.legend()\n",
    "# axs2.set(ylim=(0.2,1), xlim=(16,24))\n",
    "axs2.set(ylim=(0.1,1), xlim=(15,45))\n",
    "axs.set(ylim=(-0.1,5))"
   ]
  },
  {
   "cell_type": "code",
   "execution_count": 832,
   "metadata": {
    "collapsed": true
   },
   "outputs": [
    {
     "name": "stdout",
     "output_type": "stream",
     "text": [
      "0\n",
      "1\n",
      "2\n",
      "3\n",
      "4\n",
      "5\n",
      "6\n",
      "7\n",
      "8\n",
      "9\n",
      "10\n",
      "11\n",
      "12\n",
      "13\n",
      "14\n",
      "15\n",
      "16\n",
      "17\n",
      "18\n",
      "19\n",
      "20\n",
      "21\n",
      "22\n",
      "23\n",
      "24\n",
      "25\n",
      "26\n",
      "27\n",
      "28\n",
      "29\n",
      "30\n",
      "31\n",
      "32\n",
      "33\n",
      "34\n",
      "35\n",
      "36\n",
      "37\n",
      "38\n",
      "39\n",
      "40\n",
      "41\n",
      "42\n",
      "43\n",
      "44\n",
      "45\n",
      "46\n",
      "47\n",
      "48\n",
      "49\n",
      "50\n",
      "51\n",
      "52\n",
      "53\n",
      "54\n",
      "55\n",
      "56\n",
      "57\n",
      "58\n",
      "59\n",
      "60\n"
     ]
    }
   ],
   "source": [
    "g18_opt_PQ1k_es = []\n",
    "dia_ref.calc =  MTPs_rmse_dict['PQ1k-1-10_g18_amo_u16_fw0.1']\n",
    "ref_e = dia_ref.get_potential_energy()\n",
    "for ct, i in enumerate(sym_out[-2]):\n",
    "    i.calc = MTPs_rmse_dict['PQ1k-1-10_g18_amo_u16_fw0.1']\n",
    "    g18_opt_PQ1k_es.append(i.get_potential_energy() - ref_e)\n",
    "g18_opt_PQ1k_es = np.array(g18_opt_PQ1k_es)/8\n"
   ]
  },
  {
   "cell_type": "code",
   "execution_count": null,
   "metadata": {},
   "outputs": [],
   "source": [
    "MTPs_rmse_dict['PQ1k-1-10_g18_amo_u16_fw0.1']"
   ]
  },
  {
   "cell_type": "code",
   "execution_count": 846,
   "metadata": {},
   "outputs": [],
   "source": [
    "v = np.array([i.get_volume()/len(i) for i in sym_out[-2]])"
   ]
  },
  {
   "cell_type": "code",
   "execution_count": 869,
   "metadata": {},
   "outputs": [
    {
     "data": {
      "text/plain": [
       "array([31, 35, 50])"
      ]
     },
     "execution_count": 869,
     "metadata": {},
     "output_type": "execute_result"
    }
   ],
   "source": [
    " np.argwhere(v > 4).squeeze()"
   ]
  },
  {
   "cell_type": "code",
   "execution_count": 867,
   "metadata": {},
   "outputs": [],
   "source": [
    "del_e = ((dft_g18opt_e - g18_opt_PQ1k_es)**2)\n",
    "del_e = ((dft_g18opt_e - sym_out[2][0]**2)"
   ]
  },
  {
   "cell_type": "code",
   "execution_count": 868,
   "metadata": {},
   "outputs": [
    {
     "data": {
      "text/plain": [
       "0.06240062947212915"
      ]
     },
     "execution_count": 868,
     "metadata": {},
     "output_type": "execute_result"
    }
   ],
   "source": [
    "np.sqrt(np.mean(\n",
    "    del_e[  np.argwhere(del_e<10)  ]\n",
    "))"
   ]
  },
  {
   "cell_type": "code",
   "execution_count": 779,
   "metadata": {},
   "outputs": [
    {
     "data": {
      "image/png": "[encoded data removed]",
      "text/plain": [
       "<Figure size 720x360 with 2 Axes>"
      ]
     },
     "metadata": {
      "needs_background": "light"
     },
     "output_type": "display_data"
    }
   ],
   "source": [
    "fig, (axs, axs2) = plot_rss(mtp_gr, labels=['PQ1k_rand_u16_fw0.1', 'GAP'],\n",
    "                            col = list(reversed(['RoyalBlue', 'Orange'])))"
   ]
  },
  {
   "cell_type": "code",
   "execution_count": 780,
   "metadata": {},
   "outputs": [
    {
     "data": {
      "image/png": "[encoded data removed]",
      "text/plain": [
       "<Figure size 720x360 with 2 Axes>"
      ]
     },
     "metadata": {
      "needs_background": "light"
     },
     "output_type": "display_data"
    }
   ],
   "source": [
    "fig, (axs, axs2) = plot_rss(mtp_gr_g18_u24_fw0_1_direct, labels=['PQ1k_rand_u16_fw0.1', 'GAP'],\n",
    "                            col = list(reversed(['RoyalBlue', 'Orange'])))"
   ]
  },
  {
   "cell_type": "code",
   "execution_count": 781,
   "metadata": {},
   "outputs": [
    {
     "data": {
      "image/png": "[encoded data removed]",
      "text/plain": [
       "<Figure size 720x360 with 2 Axes>"
      ]
     },
     "metadata": {
      "needs_background": "light"
     },
     "output_type": "display_data"
    }
   ],
   "source": [
    "fig, (axs, axs2) = plot_rss(mtp_gr_PQ1k_1_10_g18_amo_u16_fw0_1, labels=['MTP', 'GAP'],\n",
    "                            col = list(reversed(['RoyalBlue', 'Orange'])))"
   ]
  },
  {
   "cell_type": "code",
   "execution_count": 748,
   "metadata": {},
   "outputs": [
    {
     "data": {
      "text/plain": [
       "13"
      ]
     },
     "execution_count": 748,
     "metadata": {},
     "output_type": "execute_result"
    }
   ],
   "source": [
    "np.argmin(mtp_gr_PQ1k_1_10_g18_amo_u16_fw0_1[3][0])"
   ]
  },
  {
   "cell_type": "code",
   "execution_count": 765,
   "metadata": {},
   "outputs": [],
   "source": [
    "with open('opts_mtp_gr_PQ1k_1_10_g18_amo_u16_fw0_1.xyz', 'w') as f:\n",
    "    write_xyz(f, mtp_gr_PQ1k_1_10_g18_amo_u16_fw0_1[-2])\n"
   ]
  },
  {
   "cell_type": "code",
   "execution_count": 769,
   "metadata": {},
   "outputs": [],
   "source": [
    "with open('opts_g18_sym.xyz', 'w') as f:\n",
    "    write_xyz(f, sym_out[-1])"
   ]
  },
  {
   "cell_type": "code",
   "execution_count": 766,
   "metadata": {},
   "outputs": [],
   "source": [
    "with open('opts_mtp_gr_g18_u24_fw0_1_direct.xyz', 'w') as f:\n",
    "    write_xyz(f, mtp_gr_g18_u24_fw0_1_direct[-2])"
   ]
  },
  {
   "cell_type": "code",
   "execution_count": 711,
   "metadata": {},
   "outputs": [
    {
     "name": "stdout",
     "output_type": "stream",
     "text": [
      "unoptimised rms:  {'rmse': 1.3205801921640872, 'std': 4.358459332833527}\n",
      "optimised rms:  {'rmse': 2.749090570255692, 'std': 38.235115883329165}\n"
     ]
    }
   ],
   "source": [
    "print('unoptimised rms: ', rms_dict(s[0][0], s[1][0]))\n",
    "print('optimised rms: ', rms_dict(s[2][0], s[3][0]))"
   ]
  },
  {
   "cell_type": "code",
   "execution_count": 715,
   "metadata": {},
   "outputs": [
    {
     "name": "stdout",
     "output_type": "stream",
     "text": [
      "unoptimised median error:  0.07341625381735639\n",
      "optimised median error:  0.05557955303657991\n"
     ]
    }
   ],
   "source": [
    "print('unoptimised median error per atom: ', np.median(abs(s[0][0] - s[1][0]))/8 )\n",
    "print('optimised median error per atom: ', np.median(abs(s[2][0] - s[3][0]))/8 )"
   ]
  },
  {
   "cell_type": "code",
   "execution_count": null,
   "metadata": {},
   "outputs": [],
   "source": [
    "targets = np.argwhere(vs_opt<26).T.squeeze()"
   ]
  },
  {
   "cell_type": "code",
   "execution_count": 232,
   "metadata": {},
   "outputs": [],
   "source": [
    "non_exp = np.argwhere(vs_opt<26).T.squeeze()"
   ]
  },
  {
   "cell_type": "code",
   "execution_count": 678,
   "metadata": {},
   "outputs": [
    {
     "name": "stdout",
     "output_type": "stream",
     "text": [
      "optimised rms for V<26\n"
     ]
    },
    {
     "data": {
      "text/plain": [
       "{'rmse': 0.1340075770877777, 'std': 0.03530623630269002}"
      ]
     },
     "execution_count": 678,
     "metadata": {},
     "output_type": "execute_result"
    }
   ],
   "source": [
    "print('optimised rms for V<26')\n",
    "rms_dict(s[2][1][non_exp], s[3][1][non_exp])"
   ]
  },
  {
   "cell_type": "markdown",
   "metadata": {},
   "source": [
    "# Automatic buildcell routine"
   ]
  },
  {
   "cell_type": "code",
   "execution_count": 8,
   "metadata": {},
   "outputs": [
    {
     "data": {
      "text/plain": [
       "5"
      ]
     },
     "execution_count": 8,
     "metadata": {},
     "output_type": "execute_result"
    }
   ],
   "source": [
    "atomic_numbers={14:2, 16:3}\n",
    "sum(atomic_numbers.values())"
   ]
  },
  {
   "cell_type": "code",
   "execution_count": 9,
   "metadata": {},
   "outputs": [],
   "source": [
    "at = Atoms(numbers=flatten([[i]*j for i,j in atomic_numbers.items()]),\n",
    "                  cell=np.identity(3)*2, pbc=True,\n",
    "                   positions=np.zeros((sum(atomic_numbers.values()), 3)\n",
    "                  ))"
   ]
  },
  {
   "cell_type": "code",
   "execution_count": 10,
   "metadata": {},
   "outputs": [
    {
     "data": {
      "text/plain": [
       "'/home/tridymite/vld/hert5155/jup_remote/Ge_od/rss/Si_solid8'"
      ]
     },
     "execution_count": 10,
     "metadata": {},
     "output_type": "execute_result"
    }
   ],
   "source": [
    "os.getcwd()"
   ]
  },
  {
   "cell_type": "code",
   "execution_count": null,
   "metadata": {},
   "outputs": [],
   "source": []
  },
  {
   "cell_type": "code",
   "execution_count": 88,
   "metadata": {},
   "outputs": [],
   "source": [
    "import subprocess"
   ]
  },
  {
   "cell_type": "code",
   "execution_count": 135,
   "metadata": {},
   "outputs": [],
   "source": [
    "def which(program):\n",
    "    import os\n",
    "    def is_exe(fpath):\n",
    "        return os.path.isfile(fpath) and os.access(fpath, os.X_OK)\n",
    "\n",
    "    fpath, fname = os.path.split(program)\n",
    "    if fpath:\n",
    "        if is_exe(program):\n",
    "            return program\n",
    "    else:\n",
    "        for path in os.environ[\"PATH\"].split(os.pathsep):\n",
    "            exe_file = os.path.join(path, program)\n",
    "            if is_exe(exe_file):\n",
    "                return exe_file\n",
    "\n",
    "    return None"
   ]
  },
  {
   "cell_type": "code",
   "execution_count": 184,
   "metadata": {},
   "outputs": [],
   "source": [
    "class ML_RSS:\n",
    "    \n",
    "    def __init__(self, potential, directory, buildcell_command='buildcell'):\n",
    "        \n",
    "        self.potential = potential\n",
    "        self.buildcell_command = which(buildcell_command)\n",
    "        print('buildcell command is {}'.format(self.buildcell_command))\n",
    "        self.directory = directory\n",
    "        self.init_atoms = None\n",
    "        \n",
    "        if not os.path.isdir(directory):\n",
    "            os.mkdir(directory)\n",
    "        \n",
    "        \n",
    "        \n",
    "    def buildcells(self, N, buildcell_options,\n",
    "                   atoms=[('Si1',8)], tag='rss', timeout=100):\n",
    "        '''Prepares random cells in self.directory\n",
    "        Arguments:\n",
    "        N :: number of cells to make\n",
    "        buildcell options :: format e.g. VARVOL=20, end-of-file directives to buildcell\n",
    "        atoms :: list of tuples for atom and number to include, e.g. [(Mo1,1), (S1,3\n",
    "        tag   :: prefix for all files\n",
    "        timeout :: timeout for buildcell / s)]'''\n",
    "        \n",
    "        at = Atoms(symbols=''.join([i[0][:-1] for i in atoms]),\n",
    "                  cell=np.identity(3)*2, pbc=True,\n",
    "                   positions=np.zeros((len(atoms), 3))\n",
    "                  )\n",
    "        bc_file = join(self.directory,'{}.cell'.format(tag))\n",
    "        \n",
    "        \n",
    "        #### writing the master buildcell ########################\n",
    "        \n",
    "        write_cell(bc_file, at, positions_frac=True)\n",
    "        \n",
    "        with open(bc_file, 'r') as f:\n",
    "            contents = f.readlines()\n",
    "        \n",
    "        flag = 0; ct = 0\n",
    "        for i, val in enumerate(contents):\n",
    "            if '%BLOCK POSITIONS_FRAC' in val:\n",
    "                flag=1\n",
    "            elif '%ENDBLOCK POSITIONS_FRAC' in val:\n",
    "                flag=0\n",
    "            elif flag==1:\n",
    "                contents[i] = val.strip('\\n') + ' # {} % NUM={}\\n'.format(atoms[ct][0], atoms[ct][1])\n",
    "                ct+=1\n",
    "                \n",
    "            \n",
    "        contents.extend(['#' + i + '\\n' for i in buildcell_options])\n",
    "        \n",
    "        with open(bc_file, 'w') as f:\n",
    "            f.writelines(contents)\n",
    "        \n",
    "            \n",
    "        for i in range(N):\n",
    "            buildcell_command = [self.buildcell_command, '<', bc_file,\n",
    "                             '>', join(self.directory, '{}_{}.cell'.format(tag, i))] \n",
    "            buildcell_command = ''.join(buildcell_command)\n",
    "\n",
    "            out = subprocess.run(buildcell_command, shell=True, capture_output=True, text=True,\n",
    "                                 timeout=timeout, check=True)\n",
    "        \n",
    "        \n",
    "        self.init_atoms = [read_cell(join(self.directory, '{}_{}.cell'.format(tag, i))) for i in range(N)]\n",
    "       \n",
    "    \n",
    "    def optimise_set(self, steps=100, P=0, fmax=5e-2, write_trajectory=True,\n",
    "                     silent=False, name='NA'):\n",
    "        '''Arguments\n",
    "        steps :: max number of relaxation steps\n",
    "        P     :: pressure / eVA^-3\n",
    "        fmax  :: force convergene tolerance\n",
    "        traj  :: trajectory file for opt\n",
    "        silent:: silence optimisation output\n",
    "        Returns \n",
    "        optimised geometries (Atoms object)'''\n",
    "        if self.init_atoms is None:\n",
    "            self.init_atoms = [read_cell(join(self.directory, '{}_{}.cell'.format(self.tag, i))) for i in range(N)]\n",
    "        \n",
    "        self.optimised_atoms = []; self.failed = []\n",
    "        \n",
    "        for ct, i in enumerate(self.init_atoms):\n",
    "            \n",
    "            if write_trajectory:\n",
    "                traj=self.tag + '_{}.traj'.format(i)\n",
    "\n",
    "            at, n_opt = self._opt(i, self.potential, **kwargs)\n",
    "\n",
    "            if not n_opt.converged():\n",
    "                failed.append(ct)\n",
    "\n",
    "            self.optimised_atoms.append(at)\n",
    "        \n",
    "        return self.optimised_atoms\n",
    "        \n",
    "        \n",
    "        \n",
    "\n",
    "    def _opt(at, pot, steps=100, P=0, fmax=5e-2, write_trajectory=True, traj='/dev/null/tmp.traj',\n",
    "                     silent=False, name='NA'):\n",
    "        '''single-structure optimisation routine'''\n",
    "\n",
    "        at = at.copy()\n",
    "\n",
    "        at.set_calculator(pot)\n",
    "        #at.set_constraint(FixAtoms(mask=[True for atom in at]))\n",
    "        uf = ExpCellFilter(at, scalar_pressure=P, hydrostatic_strain=True) # should ensure only the lattice can move, not atomic positions\n",
    "        if silent:\n",
    "            opt = BFGSLineSearch(atoms=uf, trajectory=traj, logfile='/dev/null')\n",
    "        else:\n",
    "            opt = BFGSLineSearch(atoms=uf, trajectory=traj)\n",
    "\n",
    "        opt.run(fmax, steps=steps) # converge to 0.1 GPa\n",
    "\n",
    "        if not opt.converged():\n",
    "            warnings.warn(('Warning: failed to converge on structure{}\\n' +\\\n",
    "                          'in {} steps').format(Na, steps))\n",
    "            #at.set_cell(np.NaN*np.ones(3)) # flag unconverged geometry\n",
    "\n",
    "        at.calc = None\n",
    "\n",
    "        return at, opt\n",
    "        \n",
    "    \n",
    "    def evaluate(self, potentials=[]):\n",
    "        return\n",
    "        \n",
    "        "
   ]
  },
  {
   "cell_type": "code",
   "execution_count": 185,
   "metadata": {},
   "outputs": [
    {
     "name": "stdout",
     "output_type": "stream",
     "text": [
      "buildcell command is /u/vld/hert5155/airss-0.9.1/bin/buildcell\n"
     ]
    }
   ],
   "source": [
    "test = ML_RSS(MTPs_rmse_dict['PQ1k-1_g18_rand_u16_fw0.1'], 'py_buildcell')"
   ]
  },
  {
   "cell_type": "code",
   "execution_count": 186,
   "metadata": {},
   "outputs": [],
   "source": [
    "test.buildcells(100, ['VARVOL=20', 'MINSEP=2.0'], tag='rsstest')"
   ]
  },
  {
   "cell_type": "code",
   "execution_count": 188,
   "metadata": {},
   "outputs": [
    {
     "ename": "AttributeError",
     "evalue": "'ML_RSS' object has no attribute 'tag'",
     "output_type": "error",
     "traceback": [
      "\u001b[0;31m---------------------------------------------------------------------------\u001b[0m",
      "\u001b[0;31mAttributeError\u001b[0m                            Traceback (most recent call last)",
      "\u001b[0;32m<ipython-input-188-8c7a43b0248a>\u001b[0m in \u001b[0;36m<module>\u001b[0;34m\u001b[0m\n\u001b[0;32m----> 1\u001b[0;31m \u001b[0mtest\u001b[0m\u001b[0;34m.\u001b[0m\u001b[0moptimise_set\u001b[0m\u001b[0;34m(\u001b[0m\u001b[0;34m)\u001b[0m\u001b[0;34m\u001b[0m\u001b[0;34m\u001b[0m\u001b[0m\n\u001b[0m",
      "\u001b[0;32m<ipython-input-184-2f2fa31983d7>\u001b[0m in \u001b[0;36moptimise_set\u001b[0;34m(self, steps, P, fmax, write_trajectory, silent, name)\u001b[0m\n\u001b[1;32m     85\u001b[0m \u001b[0;34m\u001b[0m\u001b[0m\n\u001b[1;32m     86\u001b[0m             \u001b[0;32mif\u001b[0m \u001b[0mwrite_trajectory\u001b[0m\u001b[0;34m:\u001b[0m\u001b[0;34m\u001b[0m\u001b[0;34m\u001b[0m\u001b[0m\n\u001b[0;32m---> 87\u001b[0;31m                 \u001b[0mtraj\u001b[0m\u001b[0;34m=\u001b[0m\u001b[0mself\u001b[0m\u001b[0;34m.\u001b[0m\u001b[0mtag\u001b[0m \u001b[0;34m+\u001b[0m \u001b[0;34m'_{}.traj'\u001b[0m\u001b[0;34m.\u001b[0m\u001b[0mformat\u001b[0m\u001b[0;34m(\u001b[0m\u001b[0mi\u001b[0m\u001b[0;34m)\u001b[0m\u001b[0;34m\u001b[0m\u001b[0;34m\u001b[0m\u001b[0m\n\u001b[0m\u001b[1;32m     88\u001b[0m \u001b[0;34m\u001b[0m\u001b[0m\n\u001b[1;32m     89\u001b[0m             \u001b[0mat\u001b[0m\u001b[0;34m,\u001b[0m \u001b[0mn_opt\u001b[0m \u001b[0;34m=\u001b[0m \u001b[0mself\u001b[0m\u001b[0;34m.\u001b[0m\u001b[0m_opt\u001b[0m\u001b[0;34m(\u001b[0m\u001b[0mi\u001b[0m\u001b[0;34m,\u001b[0m \u001b[0mself\u001b[0m\u001b[0;34m.\u001b[0m\u001b[0mpotential\u001b[0m\u001b[0;34m,\u001b[0m \u001b[0;34m**\u001b[0m\u001b[0mkwargs\u001b[0m\u001b[0;34m)\u001b[0m\u001b[0;34m\u001b[0m\u001b[0;34m\u001b[0m\u001b[0m\n",
      "\u001b[0;31mAttributeError\u001b[0m: 'ML_RSS' object has no attribute 'tag'"
     ]
    }
   ],
   "source": [
    "test.optimise_set()"
   ]
  },
  {
   "cell_type": "markdown",
   "metadata": {},
   "source": [
    "# Exploring relationship with crystal structures - id fragments"
   ]
  },
  {
   "cell_type": "code",
   "execution_count": 298,
   "metadata": {},
   "outputs": [],
   "source": [
    "with open('/u/vld/hert5155/jup_remote/Ge_analysis/xtals_for_SOAP.pickle', 'rb') as f:\n",
    "    xtals = pickle.load(f)"
   ]
  },
  {
   "cell_type": "code",
   "execution_count": 299,
   "metadata": {},
   "outputs": [],
   "source": [
    "xtals = [i[0] for i in xtals]\n",
    "comp_labels = ['fcc', 'dia', 'hcp', 'bcc', 'sc', 'sh', 'bSn', 'Imma', 'Cmca']"
   ]
  },
  {
   "cell_type": "code",
   "execution_count": 625,
   "metadata": {},
   "outputs": [
    {
     "name": "stdout",
     "output_type": "stream",
     "text": [
      "(61, 1, 547) (9, 1, 547)\n"
     ]
    }
   ],
   "source": [
    "ks = kernel_compare(opts, xtals, average=True, similarity=True,\n",
    "                   desc='soap l_max=6 n_max=12 \\\n",
    "                    atom_sigma=0.3 cutoff=3.0 \\\n",
    "                    cutoff_transition_width=1.0 central_weight=1.0')"
   ]
  },
  {
   "cell_type": "code",
   "execution_count": 626,
   "metadata": {},
   "outputs": [
    {
     "name": "stdout",
     "output_type": "stream",
     "text": [
      "(61, 8, 547) (9, 1, 547)\n"
     ]
    }
   ],
   "source": [
    "ks_nav = kernel_compare(opts, xtals, average=False, similarity=True,\n",
    "                        desc='soap l_max=6 n_max=12 \\\n",
    "                    atom_sigma=0.3 cutoff=3.0 \\\n",
    "                    cutoff_transition_width=1.0 central_weight=1.0')"
   ]
  },
  {
   "cell_type": "code",
   "execution_count": 628,
   "metadata": {},
   "outputs": [
    {
     "data": {
      "text/plain": [
       "<matplotlib.legend.Legend at 0x7f07fa879490>"
      ]
     },
     "execution_count": 628,
     "metadata": {},
     "output_type": "execute_result"
    },
    {
     "data": {
      "image/png": "[encoded data removed]",
      "text/plain": [
       "<Figure size 432x288 with 1 Axes>"
      ]
     },
     "metadata": {
      "needs_background": "light"
     },
     "output_type": "display_data"
    }
   ],
   "source": [
    "\n",
    "fig, axs = plt.subplots()\n",
    "for ct,i in enumerate([5,3,0,1]):\n",
    "#     axs.scatter(vs_opt, ks[i], label=comp_labels[i])\n",
    "    axs.hist(ks[i], label=comp_labels[i], zorder=-ct)\n",
    "\n",
    "axs.legend()"
   ]
  },
  {
   "cell_type": "code",
   "execution_count": 343,
   "metadata": {},
   "outputs": [
    {
     "data": {
      "text/plain": [
       "(41, 57)"
      ]
     },
     "execution_count": 343,
     "metadata": {},
     "output_type": "execute_result"
    }
   ],
   "source": [
    "np.argmax(ks[1]), np.argmax(ks[3]) # look for the most diamond-like ones"
   ]
  },
  {
   "cell_type": "code",
   "execution_count": 362,
   "metadata": {},
   "outputs": [],
   "source": [
    "v = view(opts[41], viewer='ngl', repeat=[2,2,2]).view"
   ]
  },
  {
   "cell_type": "code",
   "execution_count": 364,
   "metadata": {},
   "outputs": [],
   "source": [
    "v.add_ball_and_stick()"
   ]
  },
  {
   "cell_type": "code",
   "execution_count": 365,
   "metadata": {},
   "outputs": [
    {
     "data": {
      "application/vnd.jupyter.widget-view+json": {
       "model_id": "69242ea154164bb58162c5fd0566aa07",
       "version_major": 2,
       "version_minor": 0
      },
      "text/plain": [
       "NGLWidget()"
      ]
     },
     "metadata": {},
     "output_type": "display_data"
    }
   ],
   "source": [
    "v"
   ]
  },
  {
   "cell_type": "code",
   "execution_count": 679,
   "metadata": {},
   "outputs": [
    {
     "data": {
      "application/vnd.jupyter.widget-view+json": {
       "model_id": "a8601d3d5a5f4ed9ad22a6a51ae05a24",
       "version_major": 2,
       "version_minor": 0
      },
      "text/plain": [
       "NGLWidget()"
      ]
     },
     "metadata": {},
     "output_type": "display_data"
    }
   ],
   "source": [
    "v = view(opts[57], viewer='ngl', repeat=[2,2,2]).view; v.add_ball_and_stick(); v.observe(on_picked_change, 'picked'); v"
   ]
  },
  {
   "cell_type": "code",
   "execution_count": 402,
   "metadata": {
    "collapsed": true
   },
   "outputs": [
    {
     "data": {
      "application/vnd.jupyter.widget-view+json": {
       "model_id": "a2d06d04099241cf86d4e636c2dcbbcb",
       "version_major": 2,
       "version_minor": 0
      },
      "text/plain": [
       "VBox(children=(NGLWidget(), Output(layout=Layout(border='2px solid red'))))"
      ]
     },
     "metadata": {},
     "output_type": "display_data"
    }
   ],
   "source": [
    "from ipywidgets import Output, VBox\n",
    "import nglview as nv\n",
    "\n",
    "out = Output(layout={'border': '2px solid red'})\n",
    "\n",
    "def on_picked_change(b):\n",
    "    with out:\n",
    "        try:\n",
    "            print(b['new']['atom1']['index'])\n",
    "        except:\n",
    "            print()"
   ]
  },
  {
   "cell_type": "code",
   "execution_count": 421,
   "metadata": {},
   "outputs": [],
   "source": [
    "at = opts[56].copy()\n",
    "opts[56][1].number = 32\n",
    "opts[56][2].number = 33"
   ]
  },
  {
   "cell_type": "markdown",
   "metadata": {},
   "source": [
    "Highlight the most diamond-like atoms"
   ]
  },
  {
   "cell_type": "code",
   "execution_count": 680,
   "metadata": {},
   "outputs": [
    {
     "data": {
      "application/vnd.jupyter.widget-view+json": {
       "model_id": "288453d7749942f6a5a6ed7cb54a9b16",
       "version_major": 2,
       "version_minor": 0
      },
      "text/plain": [
       "VBox(children=(NGLWidget(), Output(layout=Layout(border='2px solid red'))))"
      ]
     },
     "metadata": {},
     "output_type": "display_data"
    }
   ],
   "source": [
    "out = Output(layout={'border': '2px solid red'})\n",
    "v = view(opts[56], viewer='ngl', block=True, repeat=[3,3,3]).view\n",
    "v.observe(on_picked_change, 'picked')\n",
    "v.add_ball_and_stick()\n",
    "display(VBox([v, out]))"
   ]
  },
  {
   "cell_type": "code",
   "execution_count": 631,
   "metadata": {},
   "outputs": [
    {
     "data": {
      "text/plain": [
       "<matplotlib.legend.Legend at 0x7f07fa8f24f0>"
      ]
     },
     "execution_count": 631,
     "metadata": {},
     "output_type": "execute_result"
    },
    {
     "data": {
      "image/png": "[encoded data removed]",
      "text/plain": [
       "<Figure size 432x288 with 1 Axes>"
      ]
     },
     "metadata": {
      "needs_background": "light"
     },
     "output_type": "display_data"
    }
   ],
   "source": [
    "fig, axs = plt.subplots()\n",
    "for ct,i in enumerate([5,3,0,1]):\n",
    "    axs.scatter(ks_nav[i], s[2][3] - s[4][0]/len(dia_ref), label=comp_labels[i])\n",
    "\n",
    "axs.legend()"
   ]
  },
  {
   "cell_type": "code",
   "execution_count": 657,
   "metadata": {},
   "outputs": [],
   "source": [
    "low_e_xtals_ind = np.argwhere(s[2][3] - s[4][0]/len(dia_ref) < 0.15) # get low energy atoms"
   ]
  },
  {
   "cell_type": "code",
   "execution_count": 655,
   "metadata": {},
   "outputs": [],
   "source": [
    "# get low energy doublets of atoms (must be all within 3A of eachother)\n",
    "\n",
    "low_e_xtals_ind_looser = np.argwhere(s[2][3] - s[4][0]/len(dia_ref) < 0.3)\n",
    "\n",
    "for "
   ]
  },
  {
   "cell_type": "code",
   "execution_count": 656,
   "metadata": {
    "collapsed": true
   },
   "outputs": [
    {
     "data": {
      "text/plain": [
       "array([[ 0,  7],\n",
       "       [ 1,  0],\n",
       "       [ 1,  6],\n",
       "       [ 2,  1],\n",
       "       [ 2,  3],\n",
       "       [ 2,  5],\n",
       "       [ 2,  6],\n",
       "       [ 5,  2],\n",
       "       [ 6,  2],\n",
       "       [ 6,  6],\n",
       "       [11,  2],\n",
       "       [11,  3],\n",
       "       [13,  2],\n",
       "       [13,  4],\n",
       "       [13,  7],\n",
       "       [14,  0],\n",
       "       [14,  5],\n",
       "       [15,  0],\n",
       "       [15,  2],\n",
       "       [16,  1],\n",
       "       [16,  2],\n",
       "       [16,  6],\n",
       "       [16,  7],\n",
       "       [18,  1],\n",
       "       [18,  3],\n",
       "       [18,  4],\n",
       "       [18,  6],\n",
       "       [18,  7],\n",
       "       [19,  5],\n",
       "       [20,  1],\n",
       "       [26,  6],\n",
       "       [26,  7],\n",
       "       [30,  4],\n",
       "       [30,  5],\n",
       "       [31,  2],\n",
       "       [31,  3],\n",
       "       [34,  1],\n",
       "       [35,  0],\n",
       "       [35,  3],\n",
       "       [37,  4],\n",
       "       [38,  0],\n",
       "       [38,  1],\n",
       "       [38,  3],\n",
       "       [38,  6],\n",
       "       [41,  2],\n",
       "       [46,  1],\n",
       "       [46,  2],\n",
       "       [46,  6],\n",
       "       [47,  2],\n",
       "       [53,  1],\n",
       "       [53,  5],\n",
       "       [55,  0],\n",
       "       [55,  3],\n",
       "       [55,  4],\n",
       "       [55,  5],\n",
       "       [56,  1],\n",
       "       [56,  2],\n",
       "       [56,  3],\n",
       "       [56,  4],\n",
       "       [56,  6],\n",
       "       [56,  7],\n",
       "       [58,  0],\n",
       "       [58,  3],\n",
       "       [58,  7],\n",
       "       [59,  1]])"
      ]
     },
     "execution_count": 656,
     "metadata": {},
     "output_type": "execute_result"
    }
   ],
   "source": [
    "low_e_xtals_ind"
   ]
  },
  {
   "cell_type": "markdown",
   "metadata": {},
   "source": [
    "## extract the diamond-like environments for structure seeding:"
   ]
  },
  {
   "cell_type": "code",
   "execution_count": 661,
   "metadata": {},
   "outputs": [],
   "source": [
    "frags = []\n",
    "for i, inds in enumerate(low_e_xtals_ind):\n",
    "    t = opts[inds[0]].copy()\n",
    "    t.numbers = [14 for i in range(len(t))]\n",
    "    st = supercells.make_supercell(t, 2*np.identity(3))\n",
    "    nl = build_neighbor_list(st, cutoffs=[2.9/2 for i in range(len(st))])\n",
    "    cm = nl.get_connectivity_matrix().toarray() # define fragment's immediate environment\n",
    "    \n",
    "    st.positions -= (st.positions[inds[1]] - st.cell.cellpar()[0:3]/2) # centre the fragment\n",
    "    st.wrap()\n",
    "    \n",
    "    \n",
    "    pos = st.positions[cm[inds[1],:]>0] # extract fragment's immediate environment\n",
    "    st[inds[1]].number = 32\n",
    "    nums = st.numbers[cm[inds[1],:]>0] # colour central atom\n",
    "    \n",
    "    \n",
    "    frag = Atoms(numbers=nums,\n",
    "                 positions=pos, pbc=False, cell=[10,10,10])\n",
    "    \n",
    "    frags.append(frag)"
   ]
  },
  {
   "cell_type": "code",
   "execution_count": 662,
   "metadata": {},
   "outputs": [
    {
     "data": {
      "text/plain": [
       "array([[4.88297785, 5.53773071, 6.32534437],\n",
       "       [5.09347829, 4.09365012, 3.19524165],\n",
       "       [3.35428081, 6.45384834, 4.84869849],\n",
       "       [6.54075433, 4.76487095, 4.886074  ],\n",
       "       [3.82142695, 3.71138588, 7.40805384],\n",
       "       [5.83451638, 7.42007585, 7.32459026],\n",
       "       [7.04437892, 2.81539678, 6.02098844],\n",
       "       [4.97395179, 7.20306413, 3.28282556]])"
      ]
     },
     "execution_count": 662,
     "metadata": {},
     "output_type": "execute_result"
    }
   ],
   "source": [
    "frags[-1].positions"
   ]
  },
  {
   "cell_type": "code",
   "execution_count": 663,
   "metadata": {},
   "outputs": [
    {
     "data": {
      "application/vnd.jupyter.widget-view+json": {
       "model_id": "5eb4a49cc02644f5be600978bb99dc78",
       "version_major": 2,
       "version_minor": 0
      },
      "text/plain": [
       "NGLWidget()"
      ]
     },
     "metadata": {},
     "output_type": "display_data"
    }
   ],
   "source": [
    "at = frags[-1]\n",
    "v = view(at, viewer='ngl').view; v.add_ball_and_stick(); v.add_unitcell(); v"
   ]
  },
  {
   "cell_type": "code",
   "execution_count": 425,
   "metadata": {},
   "outputs": [
    {
     "data": {
      "text/plain": [
       "0.8023557976214413"
      ]
     },
     "execution_count": 425,
     "metadata": {},
     "output_type": "execute_result"
    }
   ],
   "source": [
    "ks_nav[1][56, 1]"
   ]
  },
  {
   "cell_type": "code",
   "execution_count": 585,
   "metadata": {},
   "outputs": [],
   "source": [
    "from ase.build import supercells\n",
    "from ase.neighborlist import NeighborList, build_neighbor_list, natural_cutoffs"
   ]
  },
  {
   "cell_type": "code",
   "execution_count": 586,
   "metadata": {},
   "outputs": [],
   "source": [
    "t = opts[56].copy()"
   ]
  },
  {
   "cell_type": "code",
   "execution_count": 599,
   "metadata": {},
   "outputs": [],
   "source": [
    "st = supercells.make_supercell(t, 2*np.identity(3))"
   ]
  },
  {
   "cell_type": "code",
   "execution_count": 607,
   "metadata": {},
   "outputs": [
    {
     "data": {
      "text/plain": [
       "Atom('As', [4.882977851253761, 5.537730705589761, 6.32534436552998], magmom=0.0, index=2)"
      ]
     },
     "execution_count": 607,
     "metadata": {},
     "output_type": "execute_result"
    }
   ],
   "source": [
    "st[2]"
   ]
  },
  {
   "cell_type": "code",
   "execution_count": 616,
   "metadata": {},
   "outputs": [],
   "source": [
    "nl56 = build_neighbor_list(st, cutoffs=[2.9/2 for i in range(len(st))])"
   ]
  },
  {
   "cell_type": "code",
   "execution_count": 617,
   "metadata": {},
   "outputs": [],
   "source": [
    "cm = nl56.get_connectivity_matrix().toarray()"
   ]
  },
  {
   "cell_type": "code",
   "execution_count": 619,
   "metadata": {},
   "outputs": [
    {
     "data": {
      "text/plain": [
       "array([0, 0, 1, 0, 0, 0, 0, 0, 0, 1, 0, 0, 0, 1, 0, 0, 0, 0, 0, 0, 1, 0,\n",
       "       0, 0, 0, 0, 0, 0, 0, 0, 0, 0, 0, 0, 0, 1, 0, 0, 0, 0, 1, 0, 0, 0,\n",
       "       0, 0, 0, 0, 0, 0, 0, 0, 0, 0, 0, 0, 0, 0, 0, 0, 0, 0, 0, 0],\n",
       "      dtype=int8)"
      ]
     },
     "execution_count": 619,
     "metadata": {},
     "output_type": "execute_result"
    }
   ],
   "source": [
    "cm[2,:]"
   ]
  },
  {
   "cell_type": "code",
   "execution_count": 604,
   "metadata": {},
   "outputs": [
    {
     "data": {
      "text/plain": [
       "(array([ 9.7659557 , 11.07546141, 12.65068873, 89.39991   , 70.89921   ,\n",
       "        84.53399   ]),\n",
       " Cell([[9.765955702507522, 0.0, 0.0], [1.0549956176980122, 11.025099986719606, 0.0], [4.139696613292784, -0.26302862081165745, 11.951303412795344]]))"
      ]
     },
     "execution_count": 604,
     "metadata": {},
     "output_type": "execute_result"
    }
   ],
   "source": [
    "st.cell.cellpar(), st.cell"
   ]
  },
  {
   "cell_type": "code",
   "execution_count": 605,
   "metadata": {},
   "outputs": [],
   "source": [
    "st.positions -= (st.positions[2] - st.cell.cellpar()[0:3]/2)"
   ]
  },
  {
   "cell_type": "code",
   "execution_count": 606,
   "metadata": {},
   "outputs": [],
   "source": [
    "st.wrap()"
   ]
  },
  {
   "cell_type": "code",
   "execution_count": null,
   "metadata": {},
   "outputs": [],
   "source": []
  },
  {
   "cell_type": "code",
   "execution_count": 620,
   "metadata": {},
   "outputs": [],
   "source": [
    "pos = st.positions[cm[2,:]>0]"
   ]
  },
  {
   "cell_type": "code",
   "execution_count": 621,
   "metadata": {},
   "outputs": [],
   "source": [
    "frag = Atoms(symbols='Si{}'.format(len(pos)), positions=pos, pbc=False, cell=[10,10,10])"
   ]
  },
  {
   "cell_type": "code",
   "execution_count": 622,
   "metadata": {},
   "outputs": [
    {
     "data": {
      "application/vnd.jupyter.widget-view+json": {
       "model_id": "a0fd714bf6fe4beb88998f1c61b1ea0d",
       "version_major": 2,
       "version_minor": 0
      },
      "text/plain": [
       "NGLWidget()"
      ]
     },
     "metadata": {},
     "output_type": "display_data"
    }
   ],
   "source": [
    "v = view(frag, viewer='ngl').view; v.add_ball_and_stick(); v"
   ]
  },
  {
   "cell_type": "code",
   "execution_count": null,
   "metadata": {},
   "outputs": [],
   "source": []
  },
  {
   "cell_type": "code",
   "execution_count": null,
   "metadata": {},
   "outputs": [],
   "source": []
  },
  {
   "cell_type": "code",
   "execution_count": null,
   "metadata": {},
   "outputs": [],
   "source": []
  },
  {
   "cell_type": "code",
   "execution_count": 332,
   "metadata": {},
   "outputs": [],
   "source": [
    "def atoms_to_json(aseatoms, infer_bonds=True):\n",
    "    '''\n",
    "    Convert ASE Atoms isntance into the json format compatible with\n",
    "\n",
    "    Args:\n",
    "        aseatoms : ase.Atoms\n",
    "            Instance of Atoms from ase package\n",
    "        infer_bonds : bool\n",
    "            If `True` bonds will be inferred using openbabel\n",
    "\n",
    "    Returns:\n",
    "        mol : dist\n",
    "            A dictionary with the json format of the molecule\n",
    "    '''\n",
    "\n",
    "    import pybel\n",
    "    ob = pybel.ob\n",
    "\n",
    "    obmol = ob.OBMol()\n",
    "    obmol.BeginModify()\n",
    "\n",
    "    for atom in aseatoms:\n",
    "        obatom = obmol.NewAtom()\n",
    "        obatom.SetAtomicNum(int(atom.number))\n",
    "        obatom.SetVector(*atom.position.tolist())\n",
    "\n",
    "    # If there is no bond data, try to infer them\n",
    "    if infer_bonds:\n",
    "        obmol.ConnectTheDots()\n",
    "        obmol.PerceiveBondOrders()\n",
    "\n",
    "    # Check for unit cell data\n",
    "    if any(aseatoms.pbc):\n",
    "        uc = ob.OBUnitCell()\n",
    "        uc.SetData(*(ob.vector3(*v) for v in aseatoms.get_cell()))\n",
    "        uc.SetSpaceGroup('P1')\n",
    "        obmol.CloneData(uc)\n",
    "    obmol.EndModify()\n",
    "\n",
    "    mol = pybel.Molecule(obmol)\n",
    "\n",
    "    return imolecule.format_converter.pybel_to_json(mol)"
   ]
  },
  {
   "cell_type": "markdown",
   "metadata": {},
   "source": [
    "\n",
    "## need to check that ase-opt reflects quip-opt"
   ]
  },
  {
   "cell_type": "code",
   "execution_count": null,
   "metadata": {},
   "outputs": [],
   "source": []
  },
  {
   "cell_type": "code",
   "execution_count": null,
   "metadata": {},
   "outputs": [],
   "source": []
  },
  {
   "cell_type": "code",
   "execution_count": null,
   "metadata": {},
   "outputs": [],
   "source": [
    "from ase.calculators import castep\n",
    "from ase.io import castep as iocastep\n",
    "import os\n",
    "import numpy as np\n",
    "from copy import deepcopy\n",
    "import pickle\n",
    "from glob import glob\n",
    "from re import findall\n",
    "\n",
    "tag = 'Si_g18opt'\n",
    "files = sorted(glob(tag+'*'), key=lambda f: int(findall('\\d+', f)[-1]))\n",
    "print('sorted files:', files)\n",
    "\n",
    "directory = './Si_g18opt'\n",
    "ats = []\n",
    "inits = []\n",
    "for i in files:\n",
    "    with open(i, 'r') as f:\n",
    "        inits.append(iocastep.read_cell(f))\n",
    "i = 0 \n",
    "\n",
    "for ct, val in enumerate(inits):\n",
    "    calc = castep.Castep(castep_command='mpirun -np $NMPI /usr/local/CASTEP-20/castep.mpi')\n",
    "    calc._prepare_input_only=True\n",
    "    val.calc = calc\n",
    "\n",
    "    calc.set_kpts({'spacing' : 0.05})\n",
    "    calc.merge_param('/u/vld/hert5155/scripts/castep/template.param')\n",
    "    calc.param.elec_energy_tol = 1e-5\n",
    "    calc.param.xc_functional = 'PW91'\n",
    "\n",
    "    calc._directory = directory\n",
    "    calc._rename_existing_dir = False\n",
    "    calc._label = '{}_{}'.format(tag, ct+1) # start label indexing from 1, currently\n",
    "    print('\\n{}\\n'.format(calc._label))\n",
    "\n",
    "    out = None\n",
    "    \n",
    "    if os.path.isdir(directory): # check if calculation is a restart (i.e. already done')\n",
    "        if calc._label + '.castep' in os.listdir(directory):\n",
    "            try:\n",
    "                out = iocastep.read_seed(os.path.join(directory, calc._label))\n",
    "                print('Existing .castep found and read. Warnings associated: {}'.format(out.calc._warnings))\n",
    "            except:\n",
    "                print('.castep found, but can\\'t be read correctly so reoptimising geometry')\n",
    "\n",
    "    if out is None:\n",
    "        if calc.dryrun_ok():\n",
    "            print('%s : %s ' % (val.calc._label, val.get_potential_energy()))\n",
    "            out = iocastep.read_seed(os.path.join(directory, calc._label))\n",
    "        else:\n",
    "            print(\"Found error in input\")\n",
    "            print(calc._error)\n",
    "    \n"
   ]
  },
  {
   "cell_type": "markdown",
   "metadata": {},
   "source": [
    "# Fragment identification work"
   ]
  },
  {
   "cell_type": "code",
   "execution_count": null,
   "metadata": {},
   "outputs": [],
   "source": []
  }
 ],
 "metadata": {
  "kernelspec": {
   "display_name": "Python 3",
   "language": "python",
   "name": "python3"
  },
  "language_info": {
   "codemirror_mode": {
    "name": "ipython",
    "version": 3
   },
   "file_extension": ".py",
   "mimetype": "text/x-python",
   "name": "python",
   "nbconvert_exporter": "python",
   "pygments_lexer": "ipython3",
   "version": "3.8.5"
  }
 },
 "nbformat": 4,
 "nbformat_minor": 4
}
