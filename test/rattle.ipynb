{
 "cells": [
  {
   "cell_type": "markdown",
   "metadata": {
    "collapsed": true,
    "pycharm": {
     "name": "#%% md\n"
    }
   },
   "source": [
    "## Procedure for generating the random cells\n",
    "1. Optimise the geometries of the b-Sn, sh, and cd structures of Si (get from mp)\n",
    "2. make supercells (roughly 64 atoms)\n",
    "3. rattle by 0.01 eV and 3% (positions and lattice parameters respectively)"
   ]
  },
  {
   "cell_type": "code",
   "execution_count": 119,
   "outputs": [],
   "source": [
    "import pymatgen.ext.matproj as mp\n",
    "import pymatgen.core.periodic_table as pt\n",
    "import pymatgen.io.ase as pase\n",
    "from ase.atoms import Atoms\n",
    "from ase.io.castep import write_castep_cell, read_castep_geom\n",
    "import os\n",
    "from ase import build\n",
    "import numpy as np\n",
    "from numpy.random import normal\n",
    "from copy import deepcopy"
   ],
   "metadata": {
    "collapsed": false,
    "pycharm": {
     "name": "#%%\n"
    }
   }
  },
  {
   "cell_type": "code",
   "execution_count": 102,
   "outputs": [],
   "source": [
    "os.chdir('/home/joe/Documents/Ge_od/Structure_databases/crystals/Si_crystals_opt')"
   ],
   "metadata": {
    "collapsed": false,
    "pycharm": {
     "name": "#%%\n"
    }
   }
  },
  {
   "cell_type": "markdown",
   "source": [
    "Getting structures from the materials project"
   ],
   "metadata": {
    "collapsed": false,
    "pycharm": {
     "name": "#%% md\n"
    }
   }
  },
  {
   "cell_type": "code",
   "execution_count": 120,
   "outputs": [],
   "source": [
    "with mp.MPRester(\"v0JVgKLlpTXKEhiKeDIC\") as m:\n",
    "    results = m.query(criteria={\"pretty_formula\":'Si'},\n",
    "                            properties=[\"exp.tags\", \"icsd_ids\", \"spacegroup\",\n",
    "                                        \"task_id\", \"density\", \"final_structure\",\n",
    "                                        \"conventional_unit_cell\"])\n",
    "    #results = [m.get_structure_by_material_id(i, conventional_unit_cell=True) for i in ['mp-78', 'mp-1061054']]"
   ],
   "metadata": {
    "collapsed": false,
    "pycharm": {
     "name": "#%%\n"
    }
   }
  },
  {
   "cell_type": "code",
   "execution_count": 30,
   "outputs": [
    {
     "name": "stdout",
     "output_type": "stream",
     "text": [
      "mp-1196961 P6/mmm 0\n",
      "mp-149 Fd-3m 1\n",
      "mp-1072544 Im-3m 2\n",
      "mp-1204046 P4_2/nmc 3\n",
      "mp-1244971 P1 4\n",
      "mp-971661 I-43m 5\n",
      "mp-1120747 P6_3/mmc 6\n",
      "mp-1095269 Cmcm 7\n",
      "mp-1199894 C2/c 8\n",
      "mp-1079649 Cmce 9\n",
      "mp-10649 P6_3/mmc 10\n",
      "mp-1094057 R-3m 11\n",
      "mp-1268191 P6/m 12\n",
      "mp-1204627 Cmcm 13\n",
      "mp-1120447 P1 14\n",
      "mp-27 Fm-3m 15\n",
      "mp-571520 R-3 16\n",
      "mp-1245041 P1 17\n",
      "mp-999200 I4/mmm 18\n",
      "mp-644693 P1 19\n",
      "mp-1202745 P-3m1 20\n",
      "mp-971662 Pm-3n 21\n",
      "mp-1201492 Pa-3 22\n",
      "mp-1200830 I-43m 23\n",
      "mp-109 Fmmm 24\n",
      "mp-1244933 P1 25\n",
      "mp-92 I4_1/amd 26\n",
      "mp-1244990 P1 27\n",
      "mp-1001113 Cmcm 28\n",
      "mp-34 P6/mmm 29\n",
      "mp-676011 P1 30\n",
      "mp-168 Ia-3 31\n",
      "mp-1203790 P6_3/mmc 32\n",
      "mp-1056579 I4/mmm 33\n",
      "mp-165 P6_3/mmc 34\n",
      "mp-1079297 C2/m 35\n",
      "mp-1014212 Im-3m 36\n",
      "mp-1245242 P1 37\n",
      "mp-16220 Fd-3m 38\n"
     ]
    }
   ],
   "source": [
    "for i, val in enumerate(results):\n",
    "    print(val['task_id'], val['spacegroup']['symbol'], i)"
   ],
   "metadata": {
    "collapsed": false,
    "pycharm": {
     "name": "#%%\n"
    }
   }
  },
  {
   "cell_type": "code",
   "execution_count": 35,
   "outputs": [
    {
     "data": {
      "text/plain": "{'exp.tags': ['Silicon - HP',\n  'Silicon - V, HP',\n  'High pressure experimental phase'],\n 'icsd_ids': [109035, 52456],\n 'spacegroup': {'symprec': 0.1,\n  'source': 'spglib',\n  'symbol': 'P6/mmm',\n  'number': 191,\n  'point_group': '6/mmm',\n  'crystal_system': 'hexagonal',\n  'hall': '-P 6 2'},\n 'task_id': 'mp-34',\n 'density': 3.097101142265708,\n 'final_structure': Structure Summary\n Lattice\n     abc : 2.6495247864060456 2.6495247864060456 2.476905\n  angles : 90.0 90.0 120.00001963680538\n  volume : 15.05829736024591\n       A : 1.324762 -2.294556 0.0\n       B : 1.324762 2.294556 0.0\n       C : 0.0 0.0 2.476905\n PeriodicSite: Si (0.0000, 0.0000, 0.0000) [0.0000, 0.0000, 0.0000],\n 'conventional_unit_cell': None}"
     },
     "execution_count": 35,
     "metadata": {},
     "output_type": "execute_result"
    }
   ],
   "source": [
    "results[29]"
   ],
   "metadata": {
    "collapsed": false,
    "pycharm": {
     "name": "#%%\n"
    }
   }
  },
  {
   "cell_type": "code",
   "execution_count": 23,
   "outputs": [],
   "source": [
    "from pymatgen.symmetry.analyzer import SpacegroupAnalyzer\n"
   ],
   "metadata": {
    "collapsed": false,
    "pycharm": {
     "name": "#%%\n"
    }
   }
  },
  {
   "cell_type": "code",
   "execution_count": 121,
   "outputs": [],
   "source": [
    "dia = pase.AseAtomsAdaptor().get_atoms(\n",
    "    SpacegroupAnalyzer(results[1]['final_structure']).get_conventional_standard_structure())"
   ],
   "metadata": {
    "collapsed": false,
    "pycharm": {
     "name": "#%%\n"
    }
   }
  },
  {
   "cell_type": "code",
   "execution_count": 122,
   "outputs": [],
   "source": [
    "bSn = pase.AseAtomsAdaptor().get_atoms(\n",
    "    SpacegroupAnalyzer(results[26]['final_structure']).get_conventional_standard_structure())"
   ],
   "metadata": {
    "collapsed": false,
    "pycharm": {
     "name": "#%%\n"
    }
   }
  },
  {
   "cell_type": "code",
   "execution_count": 123,
   "outputs": [],
   "source": [
    "sh = pase.AseAtomsAdaptor().get_atoms(\n",
    "    SpacegroupAnalyzer(results[29]['final_structure']).get_conventional_standard_structure())"
   ],
   "metadata": {
    "collapsed": false,
    "pycharm": {
     "name": "#%%\n"
    }
   }
  },
  {
   "cell_type": "code",
   "execution_count": 44,
   "outputs": [],
   "source": [
    "with open('dia_mp.cell', 'w') as f:\n",
    "    write_castep_cell(f, dia)\n",
    "    f.write('kpoints_mp_spacing : 0.05\\n')\n",
    "with open('bSn_mp.cell', 'w') as f:\n",
    "    write_castep_cell(f, bSn)\n",
    "    f.write('kpoints_mp_spacing : 0.05\\n')\n",
    "with open('sh_mp.cell', 'w') as f:\n",
    "    write_castep_cell(f, sh)\n",
    "    f.write('kpoints_mp_spacing : 0.05\\n')"
   ],
   "metadata": {
    "collapsed": false,
    "pycharm": {
     "name": "#%%\n"
    }
   }
  },
  {
   "cell_type": "markdown",
   "source": [
    "Now optimizing with castep on arcus-b at\n",
    "\n",
    "/data/chem-amais/hert5155/Ge/crystal_structures/Si_crystals_opt"
   ],
   "metadata": {
    "collapsed": false,
    "pycharm": {
     "name": "#%% md\n"
    }
   }
  },
  {
   "cell_type": "code",
   "execution_count": 107,
   "outputs": [],
   "source": [
    "opts = []\n",
    "for i in (names := list(reversed([i for i in os.listdir() if 'geom' in i]))):\n",
    "    with open(i, 'r') as f:\n",
    "        opts.append(read_castep_geom(f, index=-1))"
   ],
   "metadata": {
    "collapsed": false,
    "pycharm": {
     "name": "#%%\n"
    }
   }
  },
  {
   "cell_type": "markdown",
   "source": [
    "Rattling:"
   ],
   "metadata": {
    "collapsed": false
   }
  },
  {
   "cell_type": "code",
   "execution_count": 64,
   "outputs": [],
   "source": [
    "def get_supercell_factor(at, target_size=64):\n",
    "    f = np.ceil((target_size/len(at))**(1/3))\n",
    "    print('supercell factor: %f leads to %f atoms' % (f, len(at)*f**3))\n",
    "    return f"
   ],
   "metadata": {
    "collapsed": false,
    "pycharm": {
     "name": "#%%\n"
    }
   }
  },
  {
   "cell_type": "code",
   "execution_count": 92,
   "outputs": [
    {
     "name": "stdout",
     "output_type": "stream",
     "text": [
      "supercell factor: 2.000000 leads to 64.000000 atoms\n",
      "supercell factor: 2.000000 leads to 64.000000 atoms\n",
      "supercell factor: 2.000000 leads to 64.000000 atoms\n",
      "supercell factor: 2.000000 leads to 64.000000 atoms\n",
      "supercell factor: 2.000000 leads to 64.000000 atoms\n",
      "supercell factor: 2.000000 leads to 64.000000 atoms\n",
      "supercell factor: 2.000000 leads to 64.000000 atoms\n",
      "supercell factor: 2.000000 leads to 64.000000 atoms\n",
      "supercell factor: 2.000000 leads to 64.000000 atoms\n",
      "supercell factor: 2.000000 leads to 64.000000 atoms\n",
      "supercell factor: 3.000000 leads to 108.000000 atoms\n",
      "supercell factor: 3.000000 leads to 108.000000 atoms\n",
      "supercell factor: 3.000000 leads to 108.000000 atoms\n",
      "supercell factor: 3.000000 leads to 108.000000 atoms\n",
      "supercell factor: 3.000000 leads to 108.000000 atoms\n",
      "supercell factor: 3.000000 leads to 108.000000 atoms\n",
      "supercell factor: 3.000000 leads to 108.000000 atoms\n",
      "supercell factor: 3.000000 leads to 108.000000 atoms\n",
      "supercell factor: 3.000000 leads to 108.000000 atoms\n",
      "supercell factor: 3.000000 leads to 108.000000 atoms\n",
      "supercell factor: 4.000000 leads to 64.000000 atoms\n",
      "supercell factor: 4.000000 leads to 64.000000 atoms\n",
      "supercell factor: 4.000000 leads to 64.000000 atoms\n",
      "supercell factor: 4.000000 leads to 64.000000 atoms\n",
      "supercell factor: 4.000000 leads to 64.000000 atoms\n",
      "supercell factor: 4.000000 leads to 64.000000 atoms\n",
      "supercell factor: 4.000000 leads to 64.000000 atoms\n",
      "supercell factor: 4.000000 leads to 64.000000 atoms\n",
      "supercell factor: 4.000000 leads to 64.000000 atoms\n",
      "supercell factor: 4.000000 leads to 64.000000 atoms\n"
     ]
    }
   ],
   "source": [
    "ncopies = 10\n",
    "supers = [[] for i in opts]\n",
    "for i, val in enumerate(opts):\n",
    "    for j in range(ncopies):\n",
    "        s = build.supercells.make_supercell(\n",
    "                val, get_supercell_factor(val)*np.identity(3))\n",
    "        s.rattle(0.01)\n",
    "        s.set_cell(s.get_cell_lengths_and_angles() * np.concatenate([normal(1, 0.03, (3)), normal(1, 0.01, (3))]),\n",
    "                 scale_atoms=True)\n",
    "        supers[i].append(s)"
   ],
   "metadata": {
    "collapsed": false,
    "pycharm": {
     "name": "#%%\n"
    }
   }
  },
  {
   "cell_type": "code",
   "execution_count": 93,
   "outputs": [
    {
     "data": {
      "text/plain": "array([10.78279457, 11.01779925, 11.12897889, 91.30962427, 88.54880661,\n       90.59960994])"
     },
     "execution_count": 93,
     "metadata": {},
     "output_type": "execute_result"
    }
   ],
   "source": [
    "supers[0][2].get_cell_lengths_and_angles()"
   ],
   "metadata": {
    "collapsed": false,
    "pycharm": {
     "name": "#%%\n"
    }
   }
  },
  {
   "cell_type": "code",
   "execution_count": 108,
   "outputs": [],
   "source": [
    "os.chdir('supercells')"
   ],
   "metadata": {
    "collapsed": false,
    "pycharm": {
     "name": "#%%\n"
    }
   }
  },
  {
   "cell_type": "code",
   "execution_count": 109,
   "outputs": [],
   "source": [
    "ct = 0\n",
    "for i in range(len(opts)):\n",
    "    for j in supers[i]:\n",
    "        ct += 1\n",
    "        with open(str(ct)+'.cell', 'w') as f:\n",
    "            f.write('# distorted supercell\\n'\n",
    "                    '# std dev pos: 0.01\\n'\n",
    "                    '# std dev cell vectors: 0.03\\n'\n",
    "                    '# std dev cell angles 0.01\\n'\n",
    "                    '# structure %s\\n' % names[i])\n",
    "            write_castep_cell(f, j)\n",
    "            f.write('kpoints_mp_spacing 0.03\\n')"
   ],
   "metadata": {
    "collapsed": false,
    "pycharm": {
     "name": "#%%\n"
    }
   }
  },
  {
   "cell_type": "markdown",
   "source": [
    "Repeating for Ge (using Si data, scaled by 1.042)"
   ],
   "metadata": {
    "collapsed": false,
    "pycharm": {
     "name": "#%% md\n"
    }
   }
  },
  {
   "cell_type": "code",
   "execution_count": 127,
   "outputs": [],
   "source": [
    "os.chdir('/home/joe/Documents/Ge_od/Structure_databases/crystals/Ge_crystals_opt')"
   ],
   "metadata": {
    "collapsed": false,
    "pycharm": {
     "name": "#%%\n"
    }
   }
  },
  {
   "cell_type": "code",
   "execution_count": 129,
   "outputs": [],
   "source": [
    "Ge_dia =  deepcopy(dia)\n",
    "Ge_dia.set_atomic_numbers([32] * len(dia))\n",
    "Ge_dia.set_cell(Ge_dia.get_cell()*1.042, scale_atoms=True)"
   ],
   "metadata": {
    "collapsed": false,
    "pycharm": {
     "name": "#%%\n"
    }
   }
  },
  {
   "cell_type": "code",
   "execution_count": 130,
   "outputs": [],
   "source": [
    "Ge_bSn =  deepcopy(bSn)\n",
    "Ge_bSn.set_atomic_numbers([32] * len(bSn))\n",
    "Ge_bSn.set_cell(Ge_bSn.get_cell()*1.042, scale_atoms=True)"
   ],
   "metadata": {
    "collapsed": false,
    "pycharm": {
     "name": "#%%\n"
    }
   }
  },
  {
   "cell_type": "code",
   "execution_count": 131,
   "outputs": [],
   "source": [
    "Ge_sh =  deepcopy(sh)\n",
    "Ge_sh.set_atomic_numbers([32] * len(sh))\n",
    "Ge_sh.set_cell(Ge_sh.get_cell()*1.042, scale_atoms=True)"
   ],
   "metadata": {
    "collapsed": false,
    "pycharm": {
     "name": "#%%\n"
    }
   }
  },
  {
   "cell_type": "code",
   "execution_count": 132,
   "outputs": [],
   "source": [
    "with open('dia_mp.cell', 'w') as f:\n",
    "    write_castep_cell(f, Ge_dia)\n",
    "    f.write('kpoints_mp_spacing : 0.05\\n')\n",
    "with open('bSn_mp.cell', 'w') as f:\n",
    "    write_castep_cell(f, Ge_bSn)\n",
    "    f.write('kpoints_mp_spacing : 0.05\\n')\n",
    "with open('sh_mp.cell', 'w') as f:\n",
    "    write_castep_cell(f, Ge_sh)\n",
    "    f.write('kpoints_mp_spacing : 0.05\\n')"
   ],
   "metadata": {
    "collapsed": false,
    "pycharm": {
     "name": "#%%\n"
    }
   }
  },
  {
   "cell_type": "markdown",
   "source": [
    "Now optimizing with castep on arcus-b at\n",
    "\n",
    "/data/chem-amais/hert5155/Ge/crystal_structures/Ge_crystals_opt"
   ],
   "metadata": {
    "collapsed": false
   }
  },
  {
   "cell_type": "code",
   "execution_count": 133,
   "outputs": [],
   "source": [
    "opts = []\n",
    "for i in (names := list(reversed([i for i in os.listdir() if 'geom' in i]))):\n",
    "    with open(i, 'r') as f:\n",
    "        opts.append(read_castep_geom(f, index=-1))"
   ],
   "metadata": {
    "collapsed": false,
    "pycharm": {
     "name": "#%%\n"
    }
   }
  },
  {
   "cell_type": "code",
   "execution_count": null,
   "outputs": [],
   "source": [
    "opts"
   ],
   "metadata": {
    "collapsed": false,
    "pycharm": {
     "name": "#%%\n"
    }
   }
  },
  {
   "cell_type": "markdown",
   "source": [
    "Rattling:"
   ],
   "metadata": {
    "collapsed": false
   }
  },
  {
   "cell_type": "code",
   "execution_count": 134,
   "outputs": [
    {
     "name": "stdout",
     "output_type": "stream",
     "text": [
      "supercell factor: 2.000000 leads to 64.000000 atoms\n",
      "supercell factor: 2.000000 leads to 64.000000 atoms\n",
      "supercell factor: 2.000000 leads to 64.000000 atoms\n",
      "supercell factor: 2.000000 leads to 64.000000 atoms\n",
      "supercell factor: 2.000000 leads to 64.000000 atoms\n",
      "supercell factor: 2.000000 leads to 64.000000 atoms\n",
      "supercell factor: 2.000000 leads to 64.000000 atoms\n",
      "supercell factor: 2.000000 leads to 64.000000 atoms\n",
      "supercell factor: 2.000000 leads to 64.000000 atoms\n",
      "supercell factor: 2.000000 leads to 64.000000 atoms\n",
      "supercell factor: 3.000000 leads to 108.000000 atoms\n",
      "supercell factor: 3.000000 leads to 108.000000 atoms\n",
      "supercell factor: 3.000000 leads to 108.000000 atoms\n",
      "supercell factor: 3.000000 leads to 108.000000 atoms\n",
      "supercell factor: 3.000000 leads to 108.000000 atoms\n",
      "supercell factor: 3.000000 leads to 108.000000 atoms\n",
      "supercell factor: 3.000000 leads to 108.000000 atoms\n",
      "supercell factor: 3.000000 leads to 108.000000 atoms\n",
      "supercell factor: 3.000000 leads to 108.000000 atoms\n",
      "supercell factor: 3.000000 leads to 108.000000 atoms\n",
      "supercell factor: 4.000000 leads to 64.000000 atoms\n",
      "supercell factor: 4.000000 leads to 64.000000 atoms\n",
      "supercell factor: 4.000000 leads to 64.000000 atoms\n",
      "supercell factor: 4.000000 leads to 64.000000 atoms\n",
      "supercell factor: 4.000000 leads to 64.000000 atoms\n",
      "supercell factor: 4.000000 leads to 64.000000 atoms\n",
      "supercell factor: 4.000000 leads to 64.000000 atoms\n",
      "supercell factor: 4.000000 leads to 64.000000 atoms\n",
      "supercell factor: 4.000000 leads to 64.000000 atoms\n",
      "supercell factor: 4.000000 leads to 64.000000 atoms\n"
     ]
    }
   ],
   "source": [
    "ncopies = 10\n",
    "supers = [[] for i in opts]\n",
    "for i, val in enumerate(opts):\n",
    "    for j in range(ncopies):\n",
    "        s = build.supercells.make_supercell(\n",
    "                val, get_supercell_factor(val)*np.identity(3))\n",
    "        s.rattle(0.01)\n",
    "        s.set_cell(s.get_cell_lengths_and_angles() * np.concatenate([normal(1, 0.03, (3)), normal(1, 0.01, (3))]),\n",
    "                 scale_atoms=True)\n",
    "        supers[i].append(s)"
   ],
   "metadata": {
    "collapsed": false,
    "pycharm": {
     "name": "#%%\n"
    }
   }
  },
  {
   "cell_type": "code",
   "execution_count": 135,
   "outputs": [
    {
     "data": {
      "text/plain": "array([11.2652023 , 11.22931158, 11.43911201, 89.13448742, 90.3006825 ,\n       88.91255662])"
     },
     "execution_count": 135,
     "metadata": {},
     "output_type": "execute_result"
    }
   ],
   "source": [
    "supers[0][2].get_cell_lengths_and_angles()"
   ],
   "metadata": {
    "collapsed": false,
    "pycharm": {
     "name": "#%%\n"
    }
   }
  },
  {
   "cell_type": "code",
   "execution_count": 136,
   "outputs": [],
   "source": [
    "os.chdir('supercells')"
   ],
   "metadata": {
    "collapsed": false,
    "pycharm": {
     "name": "#%%\n"
    }
   }
  },
  {
   "cell_type": "code",
   "execution_count": 137,
   "outputs": [],
   "source": [
    "ct = 0\n",
    "for i in range(len(opts)):\n",
    "    for j in supers[i]:\n",
    "        ct += 1\n",
    "        with open(str(ct)+'.cell', 'w') as f:\n",
    "            f.write('# distorted supercell\\n'\n",
    "                    '# std dev pos: 0.01\\n'\n",
    "                    '# std dev cell vectors: 0.03\\n'\n",
    "                    '# std dev cell angles 0.01\\n'\n",
    "                    '# structure %s\\n' % names[i])\n",
    "            write_castep_cell(f, j)\n",
    "            f.write('kpoints_mp_spacing 0.03\\n')"
   ],
   "metadata": {
    "collapsed": false,
    "pycharm": {
     "name": "#%%\n"
    }
   }
  },
  {
   "cell_type": "code",
   "execution_count": null,
   "outputs": [],
   "source": [],
   "metadata": {
    "collapsed": false,
    "pycharm": {
     "name": "#%%\n"
    }
   }
  }
 ],
 "metadata": {
  "kernelspec": {
   "display_name": "Python 3",
   "language": "python",
   "name": "python3"
  },
  "language_info": {
   "codemirror_mode": {
    "name": "ipython",
    "version": 2
   },
   "file_extension": ".py",
   "mimetype": "text/x-python",
   "name": "python",
   "nbconvert_exporter": "python",
   "pygments_lexer": "ipython2",
   "version": "2.7.6"
  }
 },
 "nbformat": 4,
 "nbformat_minor": 0
}