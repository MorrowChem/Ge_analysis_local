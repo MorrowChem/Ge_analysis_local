{
 "cells": [
  {
   "cell_type": "markdown",
   "metadata": {},
   "source": [
    "# Manipulating databases\n",
    "\n",
    "* Produce PQ db extension to GAP-18\n",
    "* initiate active learning from GAP"
   ]
  },
  {
   "cell_type": "code",
   "execution_count": 181,
   "metadata": {
    "pycharm": {
     "name": "#%%\n"
    }
   },
   "outputs": [
    {
     "name": "stdout",
     "output_type": "stream",
     "text": [
      "The autoreload extension is already loaded. To reload it, use:\n",
      "  %reload_ext autoreload\n"
     ]
    }
   ],
   "source": [
    "%load_ext autoreload\n",
    "%autoreload 2"
   ]
  },
  {
   "cell_type": "code",
   "execution_count": 182,
   "metadata": {
    "pycharm": {
     "name": "#%%\n"
    }
   },
   "outputs": [],
   "source": [
    "from ase.io.extxyz import read_xyz\n",
    "import numpy as np\n",
    "from ase.atoms import Atoms\n",
    "from ase.io.formats import index2range\n",
    "from ase.io.cfg import read_cfg\n",
    "from io import StringIO, UnsupportedOperation\n",
    "from mtp import *\n",
    "import os\n",
    "from matplotlib import pyplot as plt\n",
    "from quippy.potential import Potential\n",
    "import pickle\n",
    "from Ge_analysis import *\n",
    "from Ge_calculation import *\n",
    "import matplotlib.pyplot as plt\n",
    "from matscipy.rings import ring_statistics\n",
    "from datetime import datetime\n",
    "import pymatgen.ext.matproj as mp\n",
    "import pymatgen.io.ase as pase\n",
    "from pymatgen.symmetry.analyzer import SpacegroupAnalyzer\n",
    "from numpy.random import normal\n",
    "from ase.io.extxyz import write_xyz\n",
    "from ase.io.lammpsdata import write_lammps_data\n",
    "from os.path import join"
   ]
  },
  {
   "cell_type": "code",
   "execution_count": 183,
   "metadata": {
    "pycharm": {
     "name": "#%%\n"
    }
   },
   "outputs": [],
   "source": [
    "mpl.style.reload_library()\n",
    "mpl.style.use('VLD')"
   ]
  },
  {
   "cell_type": "markdown",
   "metadata": {},
   "source": [
    "# Labelling"
   ]
  },
  {
   "cell_type": "markdown",
   "metadata": {},
   "source": [
    "worry about configurations that didn't have a virial to begin with (i.e. isolated atoms) in g18_db"
   ]
  },
  {
   "cell_type": "code",
   "execution_count": 184,
   "metadata": {
    "pycharm": {
     "name": "#%%\n"
    }
   },
   "outputs": [
    {
     "name": "stderr",
     "output_type": "stream",
     "text": [
      "/u/vld/hert5155/ase/ase/calculators/calculator.py:507: FutureWarning: The keyword \"ignore_bad_restart_file\" is deprecated and will be removed in a future version of ASE.  Passing more than one positional argument to Calculator is also deprecated and will stop functioning in the future.  Please pass arguments by keyword (key=value) except optionally the \"restart\" keyword.\n",
      "  warnings.warn(FutureWarning(\n"
     ]
    }
   ],
   "source": [
    "GAP_18_dir = '/u/vld/hert5155/jup_remote/Ge_od/Si_GAP_training/libAtoms-silicon-testing-framework-fc252cb/models/GAP'\n",
    "os.chdir('/u/vld/hert5155/jup_remote/Ge_od/GAP_to_MTP')\n",
    "GAP_18_pot = Potential(param_filename=GAP_18_dir+'/gp_iter6_sparse9k.xml')"
   ]
  },
  {
   "cell_type": "code",
   "execution_count": 185,
   "metadata": {
    "pycharm": {
     "name": "#%%\n"
    }
   },
   "outputs": [],
   "source": [
    "with open(GAP_18_dir + '/gp_iter6_sparse9k.xml.xyz', 'r') as f:\n",
    "    GAP_18_db = list(read_xyz(f, index=slice(0,None)))"
   ]
  },
  {
   "cell_type": "code",
   "execution_count": 186,
   "metadata": {
    "pycharm": {
     "name": "#%%\n"
    }
   },
   "outputs": [
    {
     "ename": "FileNotFoundError",
     "evalue": "[Errno 2] No such file or directory: '/home/joe/Documents/Ge_od/Potentials/Si_myDB_reduction_testing/Si_myDB_64_125_216_train.xyz'",
     "output_type": "error",
     "traceback": [
      "\u001b[0;31m---------------------------------------------------------------------------\u001b[0m",
      "\u001b[0;31mFileNotFoundError\u001b[0m                         Traceback (most recent call last)",
      "\u001b[0;32m<ipython-input-186-ba784bcaacfd>\u001b[0m in \u001b[0;36m<module>\u001b[0;34m\u001b[0m\n\u001b[0;32m----> 1\u001b[0;31m \u001b[0;32mwith\u001b[0m \u001b[0mopen\u001b[0m\u001b[0;34m(\u001b[0m\u001b[0;34m'/home/joe/Documents/Ge_od/Potentials/Si_myDB_reduction_testing/Si_myDB_64_125_216_train.xyz'\u001b[0m\u001b[0;34m,\u001b[0m \u001b[0;34m'r'\u001b[0m\u001b[0;34m)\u001b[0m \u001b[0;32mas\u001b[0m \u001b[0mf\u001b[0m\u001b[0;34m:\u001b[0m\u001b[0;34m\u001b[0m\u001b[0;34m\u001b[0m\u001b[0m\n\u001b[0m\u001b[1;32m      2\u001b[0m     \u001b[0mmyDB\u001b[0m \u001b[0;34m=\u001b[0m \u001b[0mlist\u001b[0m\u001b[0;34m(\u001b[0m\u001b[0mread_xyz\u001b[0m\u001b[0;34m(\u001b[0m\u001b[0mf\u001b[0m\u001b[0;34m,\u001b[0m \u001b[0mindex\u001b[0m\u001b[0;34m=\u001b[0m\u001b[0mslice\u001b[0m\u001b[0;34m(\u001b[0m\u001b[0;36m0\u001b[0m\u001b[0;34m,\u001b[0m\u001b[0;32mNone\u001b[0m\u001b[0;34m)\u001b[0m\u001b[0;34m)\u001b[0m\u001b[0;34m)\u001b[0m\u001b[0;34m\u001b[0m\u001b[0;34m\u001b[0m\u001b[0m\n",
      "\u001b[0;31mFileNotFoundError\u001b[0m: [Errno 2] No such file or directory: '/home/joe/Documents/Ge_od/Potentials/Si_myDB_reduction_testing/Si_myDB_64_125_216_train.xyz'"
     ]
    }
   ],
   "source": [
    "with open('/home/joe/Documents/Ge_od/Potentials/Si_myDB_reduction_testing/Si_myDB_64_125_216_train.xyz', 'r') as f:\n",
    "    myDB = list(read_xyz(f, index=slice(0,None)))"
   ]
  },
  {
   "cell_type": "code",
   "execution_count": null,
   "metadata": {
    "pycharm": {
     "name": "#%%\n"
    }
   },
   "outputs": [],
   "source": [
    "db = myDB\n",
    "# db = GAP_18_db\n",
    "for i, val in enumerate(db):\n",
    "\n",
    "    GAP_18_pot.calculate(val, properties=['energies', 'forces', 'stress'])\n",
    "    val.info['gap18_energy'] = GAP_18_pot.results['energy']\n",
    "    val.info['gap18_virial'] = GAP_18_pot.results['virial']\n",
    "    val.arrays['gap18_force'] = GAP_18_pot.results['forces']"
   ]
  },
  {
   "cell_type": "code",
   "execution_count": null,
   "metadata": {
    "pycharm": {
     "name": "#%%\n"
    }
   },
   "outputs": [],
   "source": [
    "GAP_18_pot.calculate(GAP_18_db[0], properties=['energies', 'forces', 'stress'])\n",
    "GAP_18_pot.results['virial']"
   ]
  },
  {
   "cell_type": "code",
   "execution_count": 99,
   "metadata": {
    "pycharm": {
     "name": "#%%\n"
    }
   },
   "outputs": [],
   "source": [
    "mtp_stress_test = MTP('/u/vld/hert5155/jup_remote/Ge_od/GAP_to_MTP/MTPs/MTPs/u16_m1.5_fw0.1_GAP18db.mtp',\n",
    "                     mtp_command='/u/vld/hert5155/mlip-2/bin/mlp')"
   ]
  },
  {
   "cell_type": "markdown",
   "metadata": {},
   "source": [
    "# Load up the labelled GAP_18 db"
   ]
  },
  {
   "cell_type": "code",
   "execution_count": null,
   "metadata": {
    "pycharm": {
     "name": "#%%\n"
    }
   },
   "outputs": [],
   "source": [
    "# with open('GAP_18_db_GAPlabelled_MTP4.pickle', 'wb') as f:\n",
    "#     pickle.dump(GAP_18_db, f)"
   ]
  },
  {
   "cell_type": "code",
   "execution_count": 188,
   "metadata": {
    "pycharm": {
     "name": "#%%\n"
    }
   },
   "outputs": [],
   "source": [
    "with open('GAP_18_db_GAPlabelled.pickle', 'rb') as f:\n",
    "    GAP_18_db = pickle.load(f)"
   ]
  },
  {
   "cell_type": "markdown",
   "metadata": {},
   "source": [
    "define both pos and negstresses in the g18 db"
   ]
  },
  {
   "cell_type": "code",
   "execution_count": 210,
   "metadata": {},
   "outputs": [
    {
     "name": "stdout",
     "output_type": "stream",
     "text": [
      "1733\n",
      "1755\n",
      "1777\n",
      "2146\n"
     ]
    }
   ],
   "source": [
    "for ct, i in enumerate(GAP_18_db):\n",
    "    try:\n",
    "        i.info['gap18_stress'] = -i.info['stress']\n",
    "        i.info['gap18_posstress'] = i.info['stress']\n",
    "    except:\n",
    "        print(ct)"
   ]
  },
  {
   "cell_type": "code",
   "execution_count": null,
   "metadata": {
    "pycharm": {
     "name": "#%%\n"
    }
   },
   "outputs": [],
   "source": [
    "# with open('mydb_GAPlabelled_MTP4.pickle', 'wb') as f:\n",
    "#     pickle.dump(myDB, f)"
   ]
  },
  {
   "cell_type": "code",
   "execution_count": null,
   "metadata": {
    "pycharm": {
     "name": "#%%\n"
    }
   },
   "outputs": [],
   "source": [
    "with open('mydb_GAPlabelled_MTP4.pickle', 'rb') as f:\n",
    "    myDB = pickle.load(f)"
   ]
  },
  {
   "cell_type": "code",
   "execution_count": null,
   "metadata": {
    "pycharm": {
     "name": "#%%\n"
    }
   },
   "outputs": [],
   "source": [
    "# with open('GAP_18_db_GAPlabelled.cfg', 'w') as f:\n",
    "#     write_cfg_db(f, GAP_18_db, energy_name='gap18_energy', force_name='gap18_force', virial_name='gap18_virial')"
   ]
  },
  {
   "cell_type": "code",
   "execution_count": null,
   "metadata": {
    "pycharm": {
     "name": "#%%\n"
    }
   },
   "outputs": [],
   "source": [
    "# with open('GAP_18_db_DFTlabelled.cfg', 'w') as f:\n",
    "#     write_cfg_db(f, GAP_18_db, energy_name='dft_energy', force_name='dft_force', virial_name='dft_virial')"
   ]
  },
  {
   "cell_type": "markdown",
   "metadata": {},
   "source": [
    "# Checking that the stress-fitting hasn't been a mistake\n",
    "\n",
    "training u16s on g18 db, then compare stress calculations for size and magnitude consistency - especially the mtp-lammps implementation version, important for MD\n"
   ]
  },
  {
   "cell_type": "code",
   "execution_count": 118,
   "metadata": {},
   "outputs": [],
   "source": [
    "negstress = deepcopy(GAP_18_db); posstress = deepcopy(GAP_18_db); virial = deepcopy(GAP_18_db)"
   ]
  },
  {
   "cell_type": "code",
   "execution_count": 119,
   "metadata": {
    "collapsed": true
   },
   "outputs": [
    {
     "data": {
      "text/plain": [
       "{'time': 2000.0,\n",
       " 'i_step': 2000,\n",
       " 'iprint': 2,\n",
       " 'reuse': 'NULL',\n",
       " 'task': 'SinglePoint',\n",
       " 'calculate_stress': True,\n",
       " 'data_distribution': 'GVECTOR',\n",
       " 'opt_strategy': 'memory',\n",
       " 'xc_functional': 'PW91',\n",
       " 'cut_off_energy': '250.0000000 eV',\n",
       " 'fine_grid_scale': 4.0,\n",
       " 'finite_basis_corr': 'automatic',\n",
       " 'spin_polarized': False,\n",
       " 'elec_energy_tol': '0.0000001 ev',\n",
       " 'max_scf_cycles': 250,\n",
       " 'fix_occupancy': False,\n",
       " 'smearing_width': '0.0500000 eV',\n",
       " 'num_dump_cycles': 0,\n",
       " 'mixing_scheme': 'pulay',\n",
       " 'mix_history_length': 20,\n",
       " 'kpoints_mp_grid': array([5, 5, 5]),\n",
       " 'castep_file_name': 'interstitial_L1.xyz@21/filepot/filepot.castep',\n",
       " 'config_type': 'interstitial',\n",
       " 'dft_energy': -35392.520445,\n",
       " 'cutoff': 6.0,\n",
       " 'nneightol': 1.2,\n",
       " 'gap18_energy': -35392.56708721385,\n",
       " 'gap18_virial': array([[46.405085  ,  7.69286087,  3.41361857],\n",
       "        [ 7.69286087, 48.00199955, 12.62122015],\n",
       "        [ 3.41361857, 12.62122015, 43.2511007 ]])}"
      ]
     },
     "execution_count": 119,
     "metadata": {},
     "output_type": "execute_result"
    }
   ],
   "source": [
    "negstress[1733].info#, negstress[150].info['gap18_virial']/i.get_volume() "
   ]
  },
  {
   "cell_type": "code",
   "execution_count": 120,
   "metadata": {},
   "outputs": [
    {
     "name": "stdout",
     "output_type": "stream",
     "text": [
      "1733\n",
      "1755\n",
      "1777\n",
      "2146\n"
     ]
    }
   ],
   "source": [
    "for ct, i in enumerate(negstress):\n",
    "    try:\n",
    "        i.info['stress'] *= -1\n",
    "    except:\n",
    "        i.calc = GAP_18_pot\n",
    "        i.info['stress'] = -1*i.get_stress()\n",
    "        print(ct)"
   ]
  },
  {
   "cell_type": "code",
   "execution_count": 123,
   "metadata": {},
   "outputs": [
    {
     "name": "stdout",
     "output_type": "stream",
     "text": [
      "1733\n",
      "1755\n",
      "1777\n",
      "2146\n"
     ]
    }
   ],
   "source": [
    "for ct, i in enumerate(posstress):\n",
    "    try:\n",
    "        i.info['stress'] = i.info['stress']\n",
    "    except:\n",
    "        i.calc = GAP_18_pot\n",
    "        i.info['stress'] = i.get_stress()\n",
    "        print(ct)"
   ]
  },
  {
   "cell_type": "code",
   "execution_count": 122,
   "metadata": {},
   "outputs": [],
   "source": [
    "with open('g18_db_negstres.cfg', 'w') as f:\n",
    "    write_cfg_db(f, negstress, energy_name='gap18_energy', force_name='gap18_force', virial_name='stress')\n"
   ]
  },
  {
   "cell_type": "code",
   "execution_count": 124,
   "metadata": {},
   "outputs": [],
   "source": [
    "with open('g18_db_posstress.cfg', 'w') as f:\n",
    "    write_cfg_db(f, posstress, energy_name='gap18_energy', force_name='gap18_force', virial_name='stress')\n"
   ]
  },
  {
   "cell_type": "code",
   "execution_count": 125,
   "metadata": {},
   "outputs": [],
   "source": [
    "with open('g18_db_virial.cfg', 'w') as f:\n",
    "    write_cfg_db(f, virial, energy_name='gap18_energy', force_name='gap18_force', virial_name='gap18_virial')"
   ]
  },
  {
   "cell_type": "markdown",
   "metadata": {},
   "source": [
    "load up the erroneously trained MP-mtp"
   ]
  },
  {
   "cell_type": "code",
   "execution_count": 143,
   "metadata": {},
   "outputs": [],
   "source": [
    "u16_mpmq = MTP('/home/tridymite/vld/hert5155/jup_remote/Ge_od/GAP_to_MTP/MTPs/MTPs/u16_m1.5_mpmqGAP18db_GAPlabelled.mtp',\n",
    "              parallel=False, mtp_command='/u/vld/hert5155/mlip-2/bin/mlp')\n",
    "u16_mq = MTP('/home/tridymite/vld/hert5155/jup_remote/Ge_od/GAP_to_MTP/MTPs/MTPs/u16_m1.5_mqGAP18db_GAPlabelled.mtp',\n",
    "            parallel=False, mtp_command='/u/vld/hert5155/mlip-2/bin/mlp')"
   ]
  },
  {
   "cell_type": "markdown",
   "metadata": {},
   "source": [
    "clearly the MP and mq-involved learning is a mistake:"
   ]
  },
  {
   "cell_type": "code",
   "execution_count": 145,
   "metadata": {},
   "outputs": [
    {
     "name": "stdout",
     "output_type": "stream",
     "text": [
      "[-0.12915563 -0.11438394 -0.11737569  0.0031333  -0.01035326  0.01171124]\n",
      "[1975.79848 1617.92787 1377.9367    63.20511  -25.44105 -111.96074]\n",
      "[1597.21428 1524.43094 1812.74613  -83.27763  126.22169 -140.77958]\n"
     ]
    },
    {
     "data": {
      "text/plain": [
       "array([-0.12915563, -0.11438394, -0.11737569,  0.0031333 , -0.01035326,\n",
       "        0.01171124])"
      ]
     },
     "execution_count": 145,
     "metadata": {},
     "output_type": "execute_result"
    }
   ],
   "source": [
    "db5[-1].calc = GAP_18_pot\n",
    "print(db5[-1].get_stress())\n",
    "db5[-1].calc = u16_mpmq\n",
    "print(db5[-1].get_stress())\n",
    "db5[-1].calc = u16_mq\n",
    "print(db5[-1].get_stress())\n",
    "db5[-1].info['gap18_virial']"
   ]
  },
  {
   "cell_type": "markdown",
   "metadata": {},
   "source": [
    "Need to sort out the sign-convention stuff now - appears that we should be using the negative of the stress (i.e. as VASP outputs)"
   ]
  },
  {
   "cell_type": "code",
   "execution_count": 154,
   "metadata": {},
   "outputs": [
    {
     "data": {
      "text/plain": [
       "(array([[ 1.29953211, -0.00709474, -0.10932162],\n",
       "        [-0.00709474,  1.13899967,  0.03959797],\n",
       "        [-0.10932162,  0.03959797,  2.55389325]]),\n",
       " array([ 0.09818351,  0.08605481,  0.19295422,  0.00299174, -0.00825957,\n",
       "        -0.00053603]))"
      ]
     },
     "execution_count": 154,
     "metadata": {},
     "output_type": "execute_result"
    }
   ],
   "source": [
    "GAP_18_db[100].calc = GAP_18_pot\n",
    "GAP_18_db[100].info['gap18_virial'], -1*GAP_18_db[100].get_stress()"
   ]
  },
  {
   "cell_type": "code",
   "execution_count": 159,
   "metadata": {},
   "outputs": [
    {
     "name": "stdout",
     "output_type": "stream",
     "text": [
      "0\n",
      "1221\n",
      "1222\n",
      "1223\n",
      "1224\n",
      "1225\n",
      "1226\n",
      "1234\n",
      "1235\n",
      "1236\n",
      "1237\n",
      "1238\n",
      "1239\n",
      "1240\n",
      "1241\n",
      "1242\n",
      "1243\n",
      "1244\n",
      "1245\n",
      "1246\n",
      "1247\n",
      "1248\n",
      "1249\n",
      "1250\n",
      "1251\n",
      "1252\n",
      "1253\n",
      "1254\n",
      "1255\n",
      "1256\n",
      "1257\n",
      "1258\n",
      "1259\n",
      "1260\n",
      "1261\n",
      "1262\n",
      "1263\n",
      "1264\n",
      "1265\n",
      "1266\n",
      "1267\n",
      "1268\n",
      "1269\n",
      "1270\n",
      "1271\n",
      "1272\n",
      "1273\n",
      "1274\n",
      "1275\n",
      "1276\n",
      "1277\n",
      "1278\n",
      "1279\n",
      "1280\n",
      "1281\n",
      "1282\n",
      "1283\n",
      "1284\n",
      "1285\n",
      "1286\n",
      "1287\n",
      "1288\n",
      "1289\n",
      "1290\n",
      "1291\n",
      "1292\n",
      "1293\n",
      "1294\n",
      "1295\n",
      "1296\n",
      "1297\n",
      "1298\n",
      "1299\n",
      "1300\n",
      "1301\n",
      "1302\n",
      "1303\n",
      "1304\n",
      "1305\n",
      "1306\n",
      "1307\n",
      "1308\n",
      "1309\n",
      "1310\n",
      "1311\n",
      "1312\n",
      "1313\n",
      "1314\n",
      "1315\n",
      "1316\n",
      "1317\n",
      "1318\n",
      "1319\n",
      "1320\n",
      "1321\n",
      "1322\n",
      "1323\n",
      "1324\n",
      "1325\n",
      "1326\n",
      "1327\n",
      "1328\n",
      "1329\n",
      "1330\n",
      "1331\n",
      "1332\n",
      "1333\n",
      "1334\n",
      "1335\n",
      "1336\n",
      "1337\n",
      "1338\n",
      "1339\n",
      "1340\n",
      "1341\n",
      "1342\n",
      "1343\n",
      "1344\n",
      "1345\n",
      "1346\n",
      "1347\n",
      "1348\n",
      "1349\n",
      "1350\n",
      "1351\n",
      "1352\n",
      "1353\n",
      "1354\n",
      "1355\n",
      "1356\n",
      "1357\n",
      "1358\n",
      "1359\n",
      "1360\n",
      "1361\n",
      "1362\n",
      "1363\n",
      "1364\n",
      "1365\n",
      "1366\n",
      "1367\n",
      "1368\n",
      "1369\n",
      "1370\n",
      "1371\n",
      "1372\n",
      "1373\n",
      "1374\n",
      "1375\n",
      "1376\n",
      "1377\n",
      "1378\n",
      "1379\n",
      "1380\n",
      "1381\n",
      "1382\n",
      "1383\n",
      "1384\n",
      "1385\n",
      "1386\n",
      "1387\n",
      "1388\n",
      "1389\n",
      "1390\n",
      "1391\n",
      "1392\n",
      "1393\n",
      "1394\n",
      "1395\n",
      "1396\n",
      "1397\n",
      "1398\n",
      "1399\n",
      "1400\n",
      "1401\n",
      "1402\n",
      "1403\n",
      "1404\n",
      "1405\n",
      "1406\n",
      "1407\n",
      "1408\n",
      "1409\n",
      "1410\n",
      "1411\n",
      "1412\n",
      "1413\n",
      "1414\n",
      "1415\n",
      "1416\n",
      "1417\n",
      "1418\n",
      "1419\n",
      "1420\n",
      "1421\n",
      "1422\n",
      "1423\n",
      "1424\n",
      "1425\n",
      "1426\n",
      "1427\n",
      "1428\n",
      "1429\n",
      "1430\n",
      "1431\n",
      "1432\n",
      "1433\n",
      "1434\n",
      "1435\n",
      "1436\n",
      "1437\n",
      "1438\n",
      "1439\n",
      "1440\n",
      "1441\n",
      "1442\n",
      "1443\n",
      "1444\n",
      "1445\n",
      "1446\n",
      "1447\n",
      "1448\n",
      "1449\n",
      "1450\n",
      "1451\n",
      "1452\n",
      "1453\n",
      "1454\n",
      "1455\n",
      "1456\n",
      "1457\n",
      "1458\n",
      "1459\n",
      "1460\n",
      "1461\n",
      "1462\n",
      "1463\n",
      "1464\n",
      "1465\n",
      "1466\n",
      "1467\n",
      "1468\n",
      "1469\n",
      "1470\n",
      "1471\n",
      "1472\n",
      "1473\n",
      "1474\n",
      "1475\n",
      "1476\n",
      "1477\n",
      "1478\n",
      "1479\n",
      "1480\n",
      "1481\n",
      "1482\n",
      "1483\n",
      "1484\n",
      "1485\n",
      "1486\n",
      "1487\n",
      "1488\n",
      "1489\n",
      "1490\n",
      "1491\n",
      "1492\n",
      "1493\n",
      "1494\n",
      "1495\n",
      "1496\n",
      "1497\n",
      "1498\n",
      "1499\n",
      "1500\n",
      "1501\n",
      "1502\n",
      "1503\n",
      "1504\n",
      "1505\n",
      "1506\n",
      "1507\n",
      "1508\n",
      "1509\n",
      "1510\n",
      "1511\n",
      "1512\n",
      "1513\n",
      "1514\n",
      "1515\n",
      "1516\n",
      "1517\n",
      "1518\n",
      "1519\n",
      "1520\n",
      "1521\n",
      "1522\n",
      "1523\n",
      "1524\n",
      "1525\n",
      "1526\n",
      "1527\n",
      "1528\n",
      "1529\n",
      "1530\n",
      "1531\n",
      "1532\n",
      "1533\n",
      "1534\n",
      "1535\n",
      "1536\n",
      "1537\n",
      "1538\n",
      "1539\n",
      "1540\n",
      "1541\n",
      "1542\n",
      "1543\n",
      "1544\n",
      "1562\n",
      "1563\n",
      "1564\n",
      "1565\n",
      "1566\n",
      "1567\n",
      "1568\n",
      "1569\n",
      "1570\n",
      "1571\n",
      "1572\n",
      "1573\n",
      "1574\n",
      "1575\n",
      "1576\n",
      "1577\n",
      "1578\n",
      "1579\n",
      "1580\n",
      "1581\n",
      "1582\n",
      "1583\n",
      "1584\n",
      "1585\n",
      "1586\n",
      "1587\n",
      "1588\n",
      "1589\n",
      "1590\n",
      "1591\n",
      "1592\n",
      "1593\n",
      "1594\n",
      "1595\n",
      "1596\n",
      "1597\n",
      "1598\n",
      "1599\n",
      "1600\n",
      "1601\n",
      "1602\n",
      "1603\n",
      "1604\n",
      "1605\n",
      "1606\n",
      "1607\n",
      "1608\n",
      "1609\n",
      "1610\n",
      "1611\n",
      "1612\n",
      "1613\n",
      "1614\n",
      "1615\n",
      "1616\n",
      "1617\n",
      "1618\n",
      "1619\n",
      "1620\n",
      "1621\n",
      "1622\n",
      "1623\n",
      "1624\n",
      "1625\n",
      "1626\n",
      "1627\n",
      "1628\n",
      "1629\n",
      "1630\n",
      "1631\n",
      "1632\n",
      "1633\n",
      "1634\n",
      "1635\n",
      "1636\n",
      "1637\n",
      "1638\n",
      "1639\n",
      "1640\n",
      "1641\n",
      "1642\n",
      "1643\n",
      "1644\n",
      "1645\n",
      "1646\n",
      "1647\n",
      "1648\n",
      "1649\n",
      "1650\n",
      "1651\n",
      "1652\n",
      "1653\n",
      "1654\n",
      "1655\n",
      "1656\n",
      "1657\n",
      "1658\n",
      "1659\n",
      "1660\n",
      "1661\n",
      "1662\n",
      "1663\n",
      "1664\n",
      "1665\n",
      "1666\n",
      "1667\n",
      "1668\n",
      "1669\n",
      "1670\n",
      "1671\n",
      "1672\n",
      "1673\n",
      "1674\n",
      "1675\n",
      "1676\n",
      "1677\n",
      "1678\n",
      "1679\n",
      "1680\n",
      "1681\n",
      "1682\n",
      "1683\n",
      "1684\n",
      "1685\n",
      "1686\n",
      "1687\n",
      "1688\n",
      "1689\n",
      "1690\n",
      "1691\n",
      "1692\n",
      "1693\n",
      "1694\n",
      "1695\n",
      "1696\n",
      "1697\n",
      "1698\n",
      "1699\n",
      "1700\n",
      "1701\n",
      "1702\n",
      "1703\n",
      "1704\n",
      "1705\n",
      "1706\n",
      "1707\n",
      "1708\n",
      "1709\n",
      "1710\n",
      "1711\n",
      "1712\n",
      "1713\n",
      "1714\n",
      "1715\n",
      "1716\n",
      "1717\n",
      "1718\n",
      "1719\n",
      "1720\n",
      "1721\n",
      "1722\n",
      "1723\n",
      "1724\n",
      "1725\n",
      "1726\n",
      "1727\n",
      "1728\n",
      "1729\n",
      "1730\n",
      "1731\n",
      "1732\n",
      "1733\n",
      "1734\n",
      "1735\n",
      "1736\n",
      "1737\n",
      "1738\n",
      "1739\n",
      "1740\n",
      "1741\n",
      "1742\n",
      "1743\n",
      "1744\n",
      "1745\n",
      "1746\n",
      "1747\n",
      "1748\n",
      "1749\n",
      "1750\n",
      "1751\n",
      "1752\n",
      "1753\n",
      "1754\n",
      "1755\n",
      "1756\n",
      "1757\n",
      "1758\n",
      "1759\n",
      "1760\n",
      "1761\n",
      "1762\n",
      "1763\n",
      "1764\n",
      "1765\n",
      "1766\n",
      "1767\n",
      "1768\n",
      "1769\n",
      "1770\n",
      "1771\n",
      "1772\n",
      "1773\n",
      "1774\n",
      "1775\n",
      "1776\n",
      "1777\n",
      "1778\n",
      "1779\n",
      "1780\n",
      "1781\n",
      "1782\n",
      "1783\n",
      "1784\n",
      "1785\n",
      "1786\n",
      "1787\n",
      "1788\n",
      "1789\n",
      "1790\n",
      "1791\n",
      "1792\n",
      "1793\n",
      "1794\n",
      "1795\n",
      "1796\n",
      "1797\n",
      "1798\n",
      "1799\n",
      "1800\n",
      "1801\n",
      "1802\n",
      "1803\n",
      "1804\n",
      "1805\n",
      "1806\n",
      "1807\n",
      "1808\n",
      "1809\n",
      "1810\n",
      "1811\n",
      "1812\n",
      "1813\n",
      "1814\n",
      "1815\n",
      "1816\n",
      "1817\n",
      "1818\n",
      "1819\n",
      "1820\n",
      "1821\n",
      "1822\n",
      "1823\n",
      "1824\n",
      "1825\n",
      "1826\n",
      "1827\n",
      "1828\n",
      "1829\n",
      "1830\n",
      "1831\n",
      "1832\n",
      "1833\n",
      "1834\n",
      "1835\n",
      "1836\n",
      "1837\n",
      "1838\n",
      "1839\n",
      "1840\n",
      "1841\n",
      "1842\n",
      "1843\n",
      "1844\n",
      "1845\n",
      "1846\n",
      "1847\n",
      "1848\n",
      "1849\n",
      "1850\n",
      "1851\n",
      "1852\n",
      "1853\n",
      "1854\n",
      "1855\n",
      "1856\n",
      "1857\n",
      "1858\n",
      "1859\n",
      "1860\n",
      "1861\n",
      "1862\n",
      "1863\n",
      "1864\n",
      "1865\n",
      "1866\n",
      "1867\n",
      "1868\n",
      "1869\n",
      "1870\n",
      "1871\n",
      "1872\n",
      "1873\n",
      "1874\n",
      "2147\n"
     ]
    }
   ],
   "source": [
    "for ct, i in enumerate(GAP_18_db):\n",
    "    try:\n",
    "        i.info['dft_stress'] = i.info['dft_virial']/i.get_volume() # defines poss-stress\n",
    "    except:\n",
    "        print(ct)"
   ]
  },
  {
   "cell_type": "code",
   "execution_count": 160,
   "metadata": {},
   "outputs": [],
   "source": [
    "with open('/u/vld/hert5155/jup_remote/Ge_od/GAP_to_MTP/stress_correct/g18_db_DFT-labelled.cfg', 'w') as f:\n",
    "    write_cfg_db(f, GAP_18_db, energy_name='dft_energy', force_name='dft_force', virial_name='dft_stress')"
   ]
  },
  {
   "cell_type": "markdown",
   "metadata": {},
   "source": [
    "## Writing all melt-quench data to DB for fitting\n"
   ]
  },
  {
   "cell_type": "code",
   "execution_count": 299,
   "metadata": {},
   "outputs": [],
   "source": [
    "from re import findall"
   ]
  },
  {
   "cell_type": "code",
   "execution_count": 310,
   "metadata": {
    "pycharm": {
     "name": "#%%\n"
    }
   },
   "outputs": [],
   "source": [
    "sb = '/u/vld/hert5155/jup_remote/Ge_od/Structure_databases'\n",
    "mq_dirs = [os.path.join(sb, i) for i in ['run_64_atoms', 'run_125_atoms', 'run_216_atoms']]\n",
    "\n",
    "mq_db = []\n",
    "\n",
    "for i in mq_dirs:\n",
    "    for j in os.listdir(i):\n",
    "        if 'run_' in j and 'castep' not in j:\n",
    "            for k in os.listdir(os.path.join(i, j, 'NPT', )):\n",
    "                at = read_cfg(os.path.join(i,j,'NPT',k))\n",
    "                at.info['rundir'] = j\n",
    "                at.info['timestep'] = int(findall(\"\\d+\", k)[1])/1000\n",
    "                mq_db.append(at)\n",
    "l = len(mq_db)\n",
    "# for i, val in enumerate(mq_db):\n",
    "#\n",
    "#     GAP_18_pot.calculate(val, properties=['energies', 'forces', 'stress'])\n",
    "#     val.info['gap18_energy'] = GAP_18_pot.results['energy']\n",
    "#     val.info['gap18_virial'] = GAP_18_pot.results['virial']\n",
    "#     val.arrays['gap18_force'] = GAP_18_pot.results['forces']\n",
    "#     if (i//l * 100) % 10 == 0:\n",
    "#         print('{}% done'.format(i//l *100), datetime.now().time())\n",
    "\n",
    "# with open('mq_db_GAP-18labelled.pickle', 'wb') as f:\n",
    "#     pickle.dump(mq_db, f)"
   ]
  },
  {
   "cell_type": "code",
   "execution_count": 311,
   "metadata": {},
   "outputs": [
    {
     "data": {
      "text/plain": [
       "{'rundir': 'run_1', 'timestep': 151.0}"
      ]
     },
     "execution_count": 311,
     "metadata": {},
     "output_type": "execute_result"
    }
   ],
   "source": [
    "mq_db[50].info"
   ]
  },
  {
   "cell_type": "code",
   "execution_count": 274,
   "metadata": {
    "pycharm": {
     "name": "#%%\n"
    }
   },
   "outputs": [],
   "source": [
    "with open('/u/vld/hert5155/jup_remote/Ge_od/GAP_to_MTP/mqdb_GAP18labelled/mq_db_GAP-18labelled_3.pickle', 'rb') as f:\n",
    "    mq_db_G18lab = pickle.load(f)\n"
   ]
  },
  {
   "cell_type": "code",
   "execution_count": 312,
   "metadata": {},
   "outputs": [],
   "source": [
    "for i in range(len(mq_db_G18lab)):\n",
    "    mq_db_G18lab[i].info['timestep'] = mq_db[i].info['timestep']"
   ]
  },
  {
   "cell_type": "code",
   "execution_count": 276,
   "metadata": {
    "pycharm": {
     "name": "#%%\n"
    }
   },
   "outputs": [],
   "source": [
    "# need to modify the stresses before writing them (POST fiasco: or do we..)\n",
    "\n",
    "for i in range(len(mq_db_G18lab)):\n",
    "    v = -mq_db_G18lab[i].info['gap18_virial']*mq_db_G18lab[i].get_volume()\n",
    "    mq_db_G18lab[i].info['gap18_virial'] = v"
   ]
  },
  {
   "cell_type": "code",
   "execution_count": 313,
   "metadata": {},
   "outputs": [
    {
     "data": {
      "text/plain": [
       "({'rundir': 'run_1',\n",
       "  'gap18_energy': -10400.241841200821,\n",
       "  'gap18_virial': array([[-4.43869229, -5.58105065,  0.30902159],\n",
       "         [-5.58105065,  0.38781512,  1.22994423],\n",
       "         [ 0.30902159,  1.22994423, -2.0113274 ]]),\n",
       "  'timestep': 127.0},\n",
       " {'config': {'virial': array([[-4.43869228, -5.58105063,  0.30902156],\n",
       "          [-5.58105063,  0.38781513,  1.22994423],\n",
       "          [ 0.30902156,  1.22994423, -2.0113274 ]])},\n",
       "  'atoms': {}})"
      ]
     },
     "execution_count": 313,
     "metadata": {},
     "output_type": "execute_result"
    }
   ],
   "source": [
    "GAP_18_pot.calculate(mq_db_G18lab_train[0], properties=['stress'])\n",
    "mq_db_G18lab_train[0].info, GAP_18_pot.extra_results"
   ]
  },
  {
   "cell_type": "code",
   "execution_count": 314,
   "metadata": {
    "pycharm": {
     "name": "#%%\n"
    }
   },
   "outputs": [],
   "source": [
    "# split into 80:20 test:training with entirely separate runs\n",
    "rundirs = [int(i.info['rundir'][4:]) for i in mq_db_G18lab]\n",
    "rundirs = np.array(rundirs)"
   ]
  },
  {
   "cell_type": "code",
   "execution_count": 315,
   "metadata": {
    "pycharm": {
     "name": "#%%\n"
    }
   },
   "outputs": [],
   "source": [
    "# keep back run numbers 8-27\n",
    "v_args = np.array([[]]); t_args = np.array([[]])\n",
    "for i in range(8,28):\n",
    "    v_args = np.concatenate((v_args, np.where(rundirs==i)), axis=1)\n",
    "\n",
    "for i in range(8):\n",
    "    t_args = np.concatenate((t_args, np.where(rundirs==i)), axis=1)\n",
    "for i in range(28,101):\n",
    "    t_args = np.concatenate((t_args, np.where(rundirs==i)), axis=1)"
   ]
  },
  {
   "cell_type": "code",
   "execution_count": 316,
   "metadata": {
    "pycharm": {
     "name": "#%%\n"
    }
   },
   "outputs": [],
   "source": [
    "mq_db_G18lab_train = [mq_db_G18lab[int(i)] for i in t_args[0]]\n",
    "mq_db_G18lab_val = [mq_db_G18lab[int(i)] for i in v_args[0]]"
   ]
  },
  {
   "cell_type": "code",
   "execution_count": 324,
   "metadata": {},
   "outputs": [],
   "source": [
    "for i in mq_db_G18lab_val:\n",
    "    i.info['config_type'] = 'melt-quench'"
   ]
  },
  {
   "cell_type": "code",
   "execution_count": 321,
   "metadata": {},
   "outputs": [],
   "source": [
    "for i in mq_db_G18lab_train:\n",
    "    i.info['config_type'] = 'melt-quench'"
   ]
  },
  {
   "cell_type": "code",
   "execution_count": 318,
   "metadata": {
    "pycharm": {
     "name": "#%%\n"
    }
   },
   "outputs": [
    {
     "data": {
      "text/plain": [
       "(22810, 5784)"
      ]
     },
     "execution_count": 318,
     "metadata": {},
     "output_type": "execute_result"
    }
   ],
   "source": [
    "# run_97 etc. didn't finish, so not exactly 80% but pretty close\n",
    "len(mq_db_G18lab_train)/len(mq_db_G18lab_val)\n",
    "\n",
    "\n",
    "len(mq_db_G18lab_train),len(mq_db_G18lab_val)"
   ]
  },
  {
   "cell_type": "code",
   "execution_count": null,
   "metadata": {
    "pycharm": {
     "name": "#%%\n"
    }
   },
   "outputs": [],
   "source": [
    "# with open('mqdb_GAP18labelled/mqdb_GAP18labelled_train.cfg', 'w') as f:\n",
    "#     write_cfg_db(f, mq_db_G18lab_train, energy_name='gap18_energy', force_name='gap18_force', virial_name='gap18_virial')"
   ]
  },
  {
   "cell_type": "code",
   "execution_count": null,
   "metadata": {
    "pycharm": {
     "name": "#%%\n"
    }
   },
   "outputs": [],
   "source": [
    "# with open('mqdb_GAP18labelled/mqdb_GAP18labelled_validate.cfg', 'w') as f:\n",
    "#     write_cfg_db(f, mq_db_G18lab_val, energy_name='gap18_energy', force_name='gap18_force', virial_name='gap18_virial')"
   ]
  },
  {
   "cell_type": "code",
   "execution_count": 176,
   "metadata": {},
   "outputs": [],
   "source": [
    "with open('mqdb_GAP18labelled/mqdb_GAP18labelled_train_stressfix.cfg', 'w') as f:\n",
    "    write_cfg_db(f, mq_db_G18lab_train, energy_name='gap18_energy', force_name='gap18_force', virial_name='gap18_virial')"
   ]
  },
  {
   "cell_type": "code",
   "execution_count": 175,
   "metadata": {},
   "outputs": [],
   "source": [
    "with open('mqdb_GAP18labelled/mqdb_GAP18labelled_validate_stressfix.cfg', 'w') as f:\n",
    "    write_cfg_db(f, mq_db_G18lab_val, energy_name='gap18_energy', force_name='gap18_force', virial_name='gap18_virial')"
   ]
  },
  {
   "cell_type": "code",
   "execution_count": null,
   "metadata": {
    "pycharm": {
     "name": "#%%\n"
    }
   },
   "outputs": [],
   "source": [
    "GAP18_mqdb_train = GAP_18_db + mq_db_G18lab_train"
   ]
  },
  {
   "cell_type": "code",
   "execution_count": null,
   "metadata": {
    "pycharm": {
     "name": "#%%\n"
    }
   },
   "outputs": [],
   "source": [
    "\n",
    "GAP18_mqdb_train = GAP_18_db + mq_db_G18lab_train"
   ]
  },
  {
   "cell_type": "code",
   "execution_count": 328,
   "metadata": {
    "pycharm": {
     "name": "#%%\n"
    }
   },
   "outputs": [
    {
     "data": {
      "text/plain": [
       "{'rundir': 'run_8',\n",
       " 'gap18_energy': -10403.180443322573,\n",
       " 'gap18_virial': array([[ 2.37589791, -5.57641039, -5.43882383],\n",
       "        [-5.57641039,  1.49713555,  3.60776824],\n",
       "        [-5.43882383,  3.60776824, -7.73644752]]),\n",
       " 'timestep': 171.0,\n",
       " 'config_type': 'melt-quench'}"
      ]
     },
     "execution_count": 328,
     "metadata": {},
     "output_type": "execute_result"
    }
   ],
   "source": [
    "mq_db_G18lab_val[0].info"
   ]
  },
  {
   "cell_type": "code",
   "execution_count": null,
   "metadata": {
    "pycharm": {
     "name": "#%%\n"
    }
   },
   "outputs": [],
   "source": [
    "# with open('mqdb_GAP18labelled/GAP18_mqdb_GAP18labelled_train.cfg', 'w') as f:\n",
    "#     write_cfg_db(f, GAP18_mqdb_train, energy_name='gap18_energy', force_name='gap18_force', virial_name='gap18_virial')\n"
   ]
  },
  {
   "cell_type": "markdown",
   "metadata": {},
   "source": [
    "## Generate GAP_labelled crystal structures from the MP\n",
    "Free us from dependence on the GAP-18 database"
   ]
  },
  {
   "cell_type": "code",
   "execution_count": null,
   "metadata": {
    "pycharm": {
     "name": "#%%\n"
    }
   },
   "outputs": [],
   "source": [
    "import pymatgen.ext.matproj as mp\n",
    "import pymatgen.io.ase as pase\n",
    "from pymatgen.symmetry.analyzer import SpacegroupAnalyzer"
   ]
  },
  {
   "cell_type": "code",
   "execution_count": null,
   "metadata": {
    "pycharm": {
     "name": "#%%\n"
    }
   },
   "outputs": [],
   "source": [
    "with mp.MPRester(\"v0JVgKLlpTXKEhiKeDIC\") as m:\n",
    "    results = m.query(criteria={\"pretty_formula\":'Si'},\n",
    "                            properties=[\"exp.tags\", \"icsd_ids\", \"spacegroup\",\n",
    "                                        \"task_id\", \"density\", \"final_structure\",\n",
    "                                        \"e_above_hull\", \"energy\", \"energy_per_atom\"])\n",
    "\n",
    "mp_xtals = [pase.AseAtomsAdaptor().get_atoms(\n",
    "            SpacegroupAnalyzer(i['final_structure']).get_conventional_standard_structure())\n",
    "            for i in results]"
   ]
  },
  {
   "cell_type": "code",
   "execution_count": null,
   "metadata": {
    "pycharm": {
     "name": "#%%\n"
    }
   },
   "outputs": [],
   "source": [
    "def get_supercell_factor(at, target_size=64):\n",
    "    f = np.ceil((target_size/len(at))**(1/3))\n",
    "    #print('supercell factor: %f leads to %f atoms' % (f, len(at)*f**3))\n",
    "    return f"
   ]
  },
  {
   "cell_type": "code",
   "execution_count": null,
   "metadata": {
    "pycharm": {
     "name": "#%%\n"
    }
   },
   "outputs": [],
   "source": [
    "# ncopies = 50\n",
    "ncopies = 10\n",
    "supers = [[] for i in results]\n",
    "for i, val in enumerate(mp_xtals):\n",
    "    for j in range(ncopies):\n",
    "        s = build.supercells.make_supercell(\n",
    "                val, get_supercell_factor(val)*np.identity(3))\n",
    "        s.rattle(0.01) # randomise the positions slightly\n",
    "        s.set_cell(s.get_cell_lengths_and_angles() * np.concatenate([normal(1, 0.03, (3)), normal(1, 0.01, (3))]),\n",
    "                 scale_atoms=True) # randomise lattice vectors\n",
    "        s.info['config_type'] = results[i]['task_id']\n",
    "        supers[i].append(s)"
   ]
  },
  {
   "cell_type": "code",
   "execution_count": null,
   "metadata": {
    "pycharm": {
     "name": "#%%\n"
    }
   },
   "outputs": [],
   "source": [
    "sum([len(i) for i in flatten(supers)]), sum([len(i) for i in mq_db_G18lab_train])"
   ]
  },
  {
   "cell_type": "code",
   "execution_count": null,
   "metadata": {
    "pycharm": {
     "name": "#%%\n"
    }
   },
   "outputs": [],
   "source": [
    "# need to label with GAP-18 now\n",
    "with open('mp_mq_db_GAP18labelled/mp_db_train_test.xyz', 'w') as f:\n",
    "    write_xyz(f, flatten(supers[:5]))"
   ]
  },
  {
   "cell_type": "code",
   "execution_count": null,
   "metadata": {
    "pycharm": {
     "name": "#%%\n"
    }
   },
   "outputs": [],
   "source": [
    "# with open('mp_mq_db_GAP18labelled/mp_db_train_test.cfg', 'w') as f:\n",
    "#     write_cfg_db(f, mp_db_GAP18labelled_train[:5], energy_name='gap18_energy', force_name='gap18_force', virial_name='gap18_virial')"
   ]
  },
  {
   "cell_type": "code",
   "execution_count": null,
   "metadata": {
    "pycharm": {
     "name": "#%%\n"
    }
   },
   "outputs": [],
   "source": [
    "with open('mp_mq_db_GAP18labelled/mp_db_validate.xyz', 'w') as f:\n",
    "    write_xyz(f, flatten(supers))"
   ]
  },
  {
   "cell_type": "code",
   "execution_count": 249,
   "metadata": {
    "pycharm": {
     "name": "#%%\n"
    }
   },
   "outputs": [],
   "source": [
    "with open('mp_mq_db_GAP18labelled/mp_db_GAP18labelled_train.xyz', 'r') as f:\n",
    "    mp_db_GAP18labelled_train = list(read_xyz(f, index=slice(0,None)))"
   ]
  },
  {
   "cell_type": "code",
   "execution_count": 293,
   "metadata": {
    "pycharm": {
     "name": "#%%\n"
    }
   },
   "outputs": [],
   "source": [
    "with open('mp_mq_db_GAP18labelled/mp_db_GAP18labelled_validate.xyz', 'r') as f:\n",
    "    mp_db_GAP18labelled_val = list(read_xyz(f, index=slice(0,None)))"
   ]
  },
  {
   "cell_type": "code",
   "execution_count": 87,
   "metadata": {},
   "outputs": [
    {
     "data": {
      "text/plain": [
       "(array([-0.01757834, -0.04315108, -0.01966579, -0.00241345,  0.00664968,\n",
       "        -0.00039532]),\n",
       " {'config': {'virial': array([[17.07531956,  0.38400455, -6.45939087],\n",
       "          [ 0.38400455, 41.91628217,  2.34438589],\n",
       "          [-6.45939087,  2.34438589, 19.10303691]])},\n",
       "  'atoms': {}},\n",
       " 971.3842829785646)"
      ]
     },
     "execution_count": 87,
     "metadata": {},
     "output_type": "execute_result"
    }
   ],
   "source": [
    "mp_db_GAP18labelled_train[0].calc = GAP_18_pot\n",
    "mp_db_GAP18labelled_train[0].info, mp_db_GAP18labelled_train[0].get_stress(), GAP_18_pot.extra_results, mp_db_GAP18labelled_train[0].get_volume()\n"
   ]
  },
  {
   "cell_type": "code",
   "execution_count": 260,
   "metadata": {
    "pycharm": {
     "name": "#%%\n"
    }
   },
   "outputs": [],
   "source": [
    "for i in mp_db_GAP18labelled_train:\n",
    "    i.info['gap18_energy'] = i.info.pop('energy')\n",
    "    i.info['gap18_virial'] = i.info.pop('virial')\n",
    "    i.arrays['gap18_force'] = i.arrays.pop('force')\n"
   ]
  },
  {
   "cell_type": "code",
   "execution_count": 295,
   "metadata": {},
   "outputs": [],
   "source": [
    "for i in mp_db_GAP18labelled_val:\n",
    "    i.info['gap18_energy'] = i.info.pop('energy')\n",
    "    i.info['gap18_virial'] = i.info.pop('virial')\n",
    "    i.arrays['gap18_force'] = i.arrays.pop('force')"
   ]
  },
  {
   "cell_type": "code",
   "execution_count": 266,
   "metadata": {},
   "outputs": [],
   "source": [
    "with open('MP_dbs/mp_db_GAP18labelled_train.cfg', 'w') as f:\n",
    "    write_cfg_db(f, mp_db_GAP18labelled_train, energy_name='gap18_energy',\n",
    "                               force_name='gap18_force', virial_name='gap18_virial')"
   ]
  },
  {
   "cell_type": "code",
   "execution_count": 267,
   "metadata": {},
   "outputs": [],
   "source": [
    "with open('MP_dbs/mp_db_GAP18labelled_validate.cfg', 'w') as f:\n",
    "    write_cfg_db(f, mp_db_GAP18labelled_val, energy_name='gap18_energy',\n",
    "                               force_name='gap18_force', virial_name='gap18_virial')"
   ]
  },
  {
   "cell_type": "code",
   "execution_count": 268,
   "metadata": {},
   "outputs": [],
   "source": [
    "with open('MP_dbs/mp_db_g18_GAP18labelled_train.cfg', 'w') as f:\n",
    "    write_cfg_db(f, mp_db_GAP18labelled_train + GAP_18_db, energy_name='gap18_energy',\n",
    "                               force_name='gap18_force', virial_name='gap18_virial')"
   ]
  },
  {
   "cell_type": "code",
   "execution_count": null,
   "metadata": {
    "pycharm": {
     "name": "#%%\n"
    }
   },
   "outputs": [],
   "source": [
    "mp_mq_db_GAP18labelled_train = mq_db_G18lab_train + mp_db_GAP18labelled_train"
   ]
  },
  {
   "cell_type": "markdown",
   "metadata": {},
   "source": [
    "# 100k Big melt quench development\n"
   ]
  },
  {
   "cell_type": "code",
   "execution_count": 34,
   "metadata": {
    "pycharm": {
     "name": "#%%\n"
    }
   },
   "outputs": [],
   "source": [
    "#amo_1k = read_cfg('/home/joe/Documents/Ge_od/GAP_to_MTP/pressure_quench_devel/dump_npt_Si_mtp.240000.cfg')\n",
    "amo_1k_litGAP = read_cfg('/home/joe/Documents/Ge_od/GAP_to_MTP/MTP_mds/GAPmd_run_1000_lit/NPT/dump_npt_Si_gap.240000.cfg')"
   ]
  },
  {
   "cell_type": "code",
   "execution_count": 37,
   "metadata": {
    "pycharm": {
     "name": "#%%\n"
    }
   },
   "outputs": [],
   "source": [
    "write_lammps_data('/home/joe/Documents/Ge_od/GAP_to_MTP/pressure_quench/amo_1k_litGAP.data', amo_1k_litGAP)"
   ]
  },
  {
   "cell_type": "code",
   "execution_count": 27,
   "metadata": {
    "pycharm": {
     "name": "#%%\n"
    }
   },
   "outputs": [],
   "source": [
    "with open('/home/joe/Documents/Ge_od/GAP_to_MTP/MTP_mds/u16_m1.5_run10k/NPT/dump_npt_Si_mtp.240000.cfg', 'r') as f:\n",
    "    amo_10k = read_cfg(f)"
   ]
  },
  {
   "cell_type": "code",
   "execution_count": 48,
   "metadata": {
    "pycharm": {
     "name": "#%%\n"
    }
   },
   "outputs": [],
   "source": [
    "def label_db(db, pot, pot_name, e_name='energy', f_name='force', v_name='virial'):\n",
    "\n",
    "    for i, val in enumerate(db):\n",
    "        pot.calculate(val, properties=['energies', 'forces', 'stress'])\n",
    "        val.info['{}_{}'.format(pot_name, e_name)] = pot.results['energy']\n",
    "        val.info['{}_{}'.format(pot_name, v_name)] = pot.extra_results['config']['virial']\n",
    "        val.arrays['{}_{}'.format(pot_name, f_name)] = pot.results['forces']\n"
   ]
  },
  {
   "cell_type": "code",
   "execution_count": 48,
   "metadata": {
    "pycharm": {
     "name": "#%%\n"
    }
   },
   "outputs": [],
   "source": [
    "with open('PQ_GAP18_GAP18labelled/aSi_100k_relaxed_amorphous_labelled.xyz', 'r') as f:\n",
    "    amo_100k = list(read_xyz(f))\n",
    "# label_db(amo_100k, GAP_18_pot, 'gap18')\n"
   ]
  },
  {
   "cell_type": "code",
   "execution_count": 54,
   "metadata": {
    "pycharm": {
     "name": "#%%\n"
    }
   },
   "outputs": [],
   "source": [
    "amo_100k[0].info['gap18_energy'] = amo_100k[0].info['energy']\n",
    "amo_100k[0].info['gap18_virial'] = amo_100k[0].info['virial']\n",
    "amo_100k[0].arrays['gap18_force'] = amo_100k[0].arrays['force']"
   ]
  },
  {
   "cell_type": "code",
   "execution_count": 55,
   "metadata": {
    "pycharm": {
     "name": "#%%\n"
    }
   },
   "outputs": [],
   "source": [
    "PQ100k_GAP18_db_GAP18labelled = GAP_18_db + amo_100k"
   ]
  },
  {
   "cell_type": "code",
   "execution_count": 56,
   "metadata": {
    "pycharm": {
     "name": "#%%\n"
    }
   },
   "outputs": [],
   "source": [
    "with open('PQ_GAP18_GAP18labelled/PQ100k_GAP18_db_GAP18labelled.cfg', 'w') as f:\n",
    "    write_cfg_db(f, PQ100k_GAP18_db_GAP18labelled,\n",
    "                 energy_name='gap18_energy', force_name='gap18_force', virial_name='gap18_virial')\n"
   ]
  },
  {
   "cell_type": "code",
   "execution_count": 10,
   "metadata": {
    "pycharm": {
     "name": "#%%\n"
    }
   },
   "outputs": [],
   "source": []
  },
  {
   "cell_type": "code",
   "execution_count": null,
   "metadata": {
    "pycharm": {
     "name": "#%%\n"
    }
   },
   "outputs": [],
   "source": [
    "write_lammps_data('/home/joe/Documents/Ge_od/GAP_to_MTP/pressure_quench/dump_npt_Si_mtp.240000.data', amo_1k)"
   ]
  },
  {
   "cell_type": "code",
   "execution_count": 42,
   "metadata": {
    "pycharm": {
     "name": "#%%\n"
    }
   },
   "outputs": [],
   "source": [
    "write_lammps_data('/home/joe/Documents/Ge_od/GAP_to_MTP/pressure_quench/amo_100k.data', amo_100k)"
   ]
  },
  {
   "cell_type": "code",
   "execution_count": 29,
   "metadata": {
    "pycharm": {
     "name": "#%%\n"
    }
   },
   "outputs": [],
   "source": [
    "write_lammps_data('/home/joe/Documents/Ge_od/GAP_to_MTP/pressure_quench/amo_10k.data', amo_10k)"
   ]
  },
  {
   "cell_type": "markdown",
   "metadata": {},
   "source": [
    "## Write 1k randstart pressure quench to DB for additional fitting"
   ]
  },
  {
   "cell_type": "code",
   "execution_count": 92,
   "metadata": {},
   "outputs": [],
   "source": [
    "GAP18_PQ = MD_run('/u/vld/hert5155/jup_remote/Ge_od/GAP_to_MTP/GAP-18_ref/GAP18_PQ_1k/',\n",
    "                  label='GAP18_PQ_1k', read_dat=True)"
   ]
  },
  {
   "cell_type": "code",
   "execution_count": 93,
   "metadata": {},
   "outputs": [
    {
     "data": {
      "text/plain": [
       "{'file': '/u/vld/hert5155/jup_remote/Ge_od/GAP_to_MTP/GAP-18_ref/GAP18_PQ_1k/NPT/dump_npt_Si_gap.1000.cfg'}"
      ]
     },
     "execution_count": 93,
     "metadata": {},
     "output_type": "execute_result"
    }
   ],
   "source": [
    "GAP18_PQ.df['Configs'][1000].info"
   ]
  },
  {
   "cell_type": "code",
   "execution_count": 94,
   "metadata": {},
   "outputs": [
    {
     "ename": "NameError",
     "evalue": "name 'label_db' is not defined",
     "output_type": "error",
     "traceback": [
      "\u001b[0;31m---------------------------------------------------------------------------\u001b[0m",
      "\u001b[0;31mNameError\u001b[0m                                 Traceback (most recent call last)",
      "\u001b[0;32m<ipython-input-94-476d70118301>\u001b[0m in \u001b[0;36m<module>\u001b[0;34m\u001b[0m\n\u001b[0;32m----> 1\u001b[0;31m \u001b[0mlabel_db\u001b[0m\u001b[0;34m(\u001b[0m\u001b[0mGAP18_PQ\u001b[0m\u001b[0;34m.\u001b[0m\u001b[0mdf\u001b[0m\u001b[0;34m[\u001b[0m\u001b[0;34m'Configs'\u001b[0m\u001b[0;34m]\u001b[0m\u001b[0;34m.\u001b[0m\u001b[0mtolist\u001b[0m\u001b[0;34m(\u001b[0m\u001b[0;34m)\u001b[0m\u001b[0;34m,\u001b[0m \u001b[0mGAP_18_pot\u001b[0m\u001b[0;34m,\u001b[0m \u001b[0;34m'GAP18'\u001b[0m\u001b[0;34m)\u001b[0m\u001b[0;34m\u001b[0m\u001b[0;34m\u001b[0m\u001b[0m\n\u001b[0m",
      "\u001b[0;31mNameError\u001b[0m: name 'label_db' is not defined"
     ]
    }
   ],
   "source": [
    "label_db(GAP18_PQ.df['Configs'].tolist(), GAP_18_pot, 'GAP18')"
   ]
  },
  {
   "cell_type": "code",
   "execution_count": 95,
   "metadata": {},
   "outputs": [],
   "source": [
    "GAP_18_pot.calculate(GAP_18_db[200], properties=['energies', 'forces', 'virial'])"
   ]
  },
  {
   "cell_type": "code",
   "execution_count": 96,
   "metadata": {},
   "outputs": [
    {
     "data": {
      "text/plain": [
       "array([[ 7.12239936e+01, -3.53353646e-01, -6.43044093e-02],\n",
       "       [-3.53353646e-01,  6.76416908e+01, -6.86723415e-02],\n",
       "       [-6.43044093e-02, -6.86723415e-02,  6.37228947e+01]])"
      ]
     },
     "execution_count": 96,
     "metadata": {},
     "output_type": "execute_result"
    }
   ],
   "source": [
    "GAP_18_pot.extra_results['config']['virial']"
   ]
  },
  {
   "cell_type": "code",
   "execution_count": 97,
   "metadata": {},
   "outputs": [
    {
     "data": {
      "text/plain": [
       "array([-8.05836337e-02, -7.65305757e-02, -7.20968054e-02,  7.76966657e-05,\n",
       "        7.27547376e-05,  3.99788321e-04])"
      ]
     },
     "execution_count": 97,
     "metadata": {},
     "output_type": "execute_result"
    }
   ],
   "source": [
    "GAP_18_pot.results['stress']"
   ]
  },
  {
   "cell_type": "code",
   "execution_count": 102,
   "metadata": {},
   "outputs": [],
   "source": [
    "mtp_stress_test.calculate(GAP_18_db[200], properties=['forces', 'stress'])"
   ]
  },
  {
   "cell_type": "code",
   "execution_count": 103,
   "metadata": {},
   "outputs": [
    {
     "data": {
      "text/plain": [
       "array([[ 6.066771e+01, -2.156200e-01, -7.920000e-03],\n",
       "       [-2.156200e-01,  5.668705e+01, -7.620000e-03],\n",
       "       [-7.920000e-03, -7.620000e-03,  4.340911e+01]])"
      ]
     },
     "execution_count": 103,
     "metadata": {},
     "output_type": "execute_result"
    }
   ],
   "source": [
    "mtp_stress_test.results['stress']"
   ]
  },
  {
   "cell_type": "code",
   "execution_count": 8,
   "metadata": {},
   "outputs": [
    {
     "data": {
      "text/plain": [
       "{'config_type': 'isolated_atom',\n",
       " 'gap_energy': -157.7272532,\n",
       " 'gap_virial': array([0., 0., 0., 0., 0., 0., 0., 0., 0.]),\n",
       " 'dft_energy': -158.54496821,\n",
       " 'cutoff': 5.5,\n",
       " 'nneightol': 1.2,\n",
       " 'energy': -158.54496700404255,\n",
       " 'stress': array([-0., -0., -0., -0., -0., -0.]),\n",
       " 'gap18_energy': -158.54496700404255,\n",
       " 'gap18_virial': array([[0., 0., 0.],\n",
       "        [0., 0., 0.],\n",
       "        [0., 0., 0.]])}"
      ]
     },
     "execution_count": 8,
     "metadata": {},
     "output_type": "execute_result"
    }
   ],
   "source": [
    "GAP_18_db[0].info"
   ]
  },
  {
   "cell_type": "code",
   "execution_count": 65,
   "metadata": {},
   "outputs": [],
   "source": [
    "with open('PQ_GAP18labelled_train.cfg', 'w') as f:\n",
    "    write_cfg_db(f, GAP18_PQ.df['Configs'].tolist(), energy_name='GAP18_energy', force_name='GAP18_force', virial_name='GAP18_virial')"
   ]
  },
  {
   "cell_type": "code",
   "execution_count": null,
   "metadata": {},
   "outputs": [],
   "source": [
    "cfg1 = list(read_cfg_db('GAP_18_db_GAPlabelled.cfg'))"
   ]
  },
  {
   "cell_type": "code",
   "execution_count": 9,
   "metadata": {},
   "outputs": [],
   "source": [
    "cfg2 = list(read_cfg_db('PQ_GAP18labelled_train.cfg',\n",
    "                        energy_label='gap18_energy', force_label='gap18_force', stress_label='gap18_virial'))"
   ]
  },
  {
   "cell_type": "code",
   "execution_count": 11,
   "metadata": {},
   "outputs": [],
   "source": [
    "cfg3 = cfg2 + GAP_18_db"
   ]
  },
  {
   "cell_type": "code",
   "execution_count": 14,
   "metadata": {},
   "outputs": [],
   "source": [
    "with open('PQ_GAP18_GAP18labelled_train.cfg', 'w') as f:\n",
    "    write_cfg_db(f, cfg3, \n",
    "                 energy_name='gap18_energy', force_name='gap18_force', virial_name='gap18_virial')"
   ]
  },
  {
   "cell_type": "markdown",
   "metadata": {},
   "source": [
    "## Write 10k pressure quench to DB"
   ]
  },
  {
   "cell_type": "code",
   "execution_count": 5,
   "metadata": {},
   "outputs": [],
   "source": [
    "with open('./GAP-18_ref/GAP18_PQ_10k_label_G18.xyz', 'r') as f:\n",
    "    GAP18_10k_PQ = list(read_xyz(f, index=slice(0,None)))"
   ]
  },
  {
   "cell_type": "code",
   "execution_count": 290,
   "metadata": {},
   "outputs": [
    {
     "data": {
      "text/plain": [
       "{'file': 'GAP18_PQ_10k/NPT/dump_npt_Si_gap.251000.cfg',\n",
       " 'timestep': 251000,\n",
       " 'CPU': 410.93884,\n",
       " 'Temp': 501.4184,\n",
       " 'f_TempAve': 501.31106,\n",
       " 'Press': 201066.87,\n",
       " 'f_PressAve': 200094.07,\n",
       " 'f_PEAve_Atom': -162.67298,\n",
       " 'Volume': 133526.57,\n",
       " 'f_vAve': 133599.33,\n",
       " 'c_MSD[4]': 39.187464,\n",
       " 'GAP18_energy': -1626729.54722908,\n",
       " 'GAP18_virial': array([-0.12126954, -0.1302307 , -0.11527369, -0.00446968, -0.00630133,\n",
       "        -0.00535704]),\n",
       " 'gap18_energy': -1626729.54722908,\n",
       " 'gap18_virial': array([16192.74069722, 17389.29658431, 15392.13375815,   596.82253473,\n",
       "          841.39698258,   715.30928784])}"
      ]
     },
     "execution_count": 290,
     "metadata": {},
     "output_type": "execute_result"
    }
   ],
   "source": [
    "GAP18_10k_PQ[-1].info"
   ]
  },
  {
   "cell_type": "code",
   "execution_count": 247,
   "metadata": {},
   "outputs": [],
   "source": [
    "for i in GAP18_10k_PQ:\n",
    "    i.info['gap18_energy'] = i.info['GAP18_energy']\n",
    "#     i.info['gap18_virial'] = i.info['GAP18_virial'] # old mistake line\n",
    "    i.info['gap18_virial'] = -1*i.info['GAP18_virial']*i.get_volume() # key line\n",
    "    i.arrays['gap18_force'] = i.arrays['GAP18_force']"
   ]
  },
  {
   "cell_type": "code",
   "execution_count": 288,
   "metadata": {},
   "outputs": [],
   "source": [
    "with open('PQ10k_amo_dbs/PQ10k_amo_G18_GAP18labelled_train_plusstress.cfg', 'w') as f:\n",
    "    write_cfg_db(f, GAP18_10k_PQ+GAP_18_db, \n",
    "                 energy_name='gap18_energy', force_name='gap18_force', virial_name='gap18_virial')"
   ]
  },
  {
   "cell_type": "code",
   "execution_count": 289,
   "metadata": {},
   "outputs": [],
   "source": [
    "with open('PQ10k_amo_dbs/PQ10k_GAP18labelled_train.cfg', 'w') as f:\n",
    "    write_cfg_db(f, GAP18_10k_PQ, \n",
    "                 energy_name='gap18_energy', force_name='gap18_force', virial_name='gap18_virial')"
   ]
  },
  {
   "cell_type": "markdown",
   "metadata": {},
   "source": [
    "## 10k-rand compression to DB"
   ]
  },
  {
   "cell_type": "code",
   "execution_count": 48,
   "metadata": {},
   "outputs": [
    {
     "data": {
      "text/plain": [
       "'/home/tridymite/vld/hert5155/jup_remote/Ge_od/GAP_to_MTP'"
      ]
     },
     "execution_count": 48,
     "metadata": {},
     "output_type": "execute_result"
    }
   ],
   "source": [
    "os.getcwd()"
   ]
  },
  {
   "cell_type": "code",
   "execution_count": 50,
   "metadata": {},
   "outputs": [],
   "source": [
    "with open('./GAP-18_ref/GAP18_PQ_10k_rand_label_G18.xyz', 'r') as f:\n",
    "    GAP18_10k_PQ_rand = list(read_xyz(f, index=slice(0,None)))"
   ]
  },
  {
   "cell_type": "code",
   "execution_count": 245,
   "metadata": {},
   "outputs": [],
   "source": [
    "for i in GAP18_10k_PQ_rand:\n",
    "    i.info['gap18_energy'] = i.info['GAP18_energy']\n",
    "#     i.info['gap18_virial'] = i.info['GAP18_virial'] # old mistake line\n",
    "    i.info['gap18_virial'] = -1*i.info['GAP18_virial']*i.get_volume() # key line\n",
    "    i.arrays['gap18_force'] = i.arrays['GAP18_force']"
   ]
  },
  {
   "cell_type": "code",
   "execution_count": 287,
   "metadata": {},
   "outputs": [],
   "source": [
    "with open('PQ10k_rand_dbs/PQ10k_rand_G18_GAP18labelled_train_plusstress.cfg', 'w') as f:\n",
    "    write_cfg_db(f, GAP18_10k_PQ_rand+GAP_18_db, \n",
    "                 energy_name='gap18_energy', force_name='gap18_force', virial_name='gap18_virial')"
   ]
  },
  {
   "cell_type": "markdown",
   "metadata": {},
   "source": [
    "# 10x1k compression from random start\n",
    "\n",
    "started fixing the stresses -\n",
    "'GAP18_virial' is the stress as calculated by quippy.get_stress()"
   ]
  },
  {
   "cell_type": "code",
   "execution_count": 236,
   "metadata": {},
   "outputs": [
    {
     "data": {
      "text/plain": [
       "(array([-0.14023119, -0.13998424, -0.1383316 ]),\n",
       " array([-0.14023119, -0.13998424, -0.1383316 ]))"
      ]
     },
     "execution_count": 236,
     "metadata": {},
     "output_type": "execute_result"
    }
   ],
   "source": [
    "GAP_18_db[500].info['stress'][0:3], -GAP_18_db[500].info['gap18_virial'].diagonal()/GAP_18_db[500].get_volume()"
   ]
  },
  {
   "cell_type": "code",
   "execution_count": null,
   "metadata": {},
   "outputs": [],
   "source": [
    "for i in GAP_18_db:\n",
    "    i.info['gap18_stress'] = -i.info['stress']"
   ]
  },
  {
   "cell_type": "code",
   "execution_count": 223,
   "metadata": {},
   "outputs": [],
   "source": [
    "MD_1ks_rand_dirs = sorted([i for i in os.listdir('GAP-18_ref/GAP18_1k_PQs_rand') if '.xyz' in i],\n",
    "                     key=lambda f: int(f.split('_')[2]))\n",
    "MD_1ks_rand = [MD_run(join('GAP-18_ref/GAP18_1k_PQs_rand',i), label=i.split('_')[2], format='xyz') for i in MD_1ks_rand_dirs]"
   ]
  },
  {
   "cell_type": "code",
   "execution_count": 196,
   "metadata": {},
   "outputs": [
    {
     "data": {
      "text/plain": [
       "19.251663911410873"
      ]
     },
     "execution_count": 196,
     "metadata": {},
     "output_type": "execute_result"
    }
   ],
   "source": [
    "sum(MD_1ks_rand[0].df['Configs'][251000].info['GAP18_virial'][0:3])/3*-160"
   ]
  },
  {
   "cell_type": "code",
   "execution_count": 227,
   "metadata": {},
   "outputs": [
    {
     "data": {
      "text/plain": [
       "array([1541.99770981, 1570.68062337, 1584.01900447,   -4.74980168,\n",
       "         10.07783186,   -5.43572035])"
      ]
     },
     "execution_count": 227,
     "metadata": {},
     "output_type": "execute_result"
    }
   ],
   "source": [
    "-MD_1ks_rand[0].df['Configs'][251000].info['GAP18_virial']*MD_1ks_rand[0].df['Configs'][251000].get_volume()"
   ]
  },
  {
   "cell_type": "code",
   "execution_count": 226,
   "metadata": {},
   "outputs": [
    {
     "data": {
      "text/plain": [
       "array([1541.99770981, 1570.68062337, 1584.01900447,   -4.74980168,\n",
       "         10.07783186,   -5.43572035])"
      ]
     },
     "execution_count": 226,
     "metadata": {},
     "output_type": "execute_result"
    }
   ],
   "source": [
    "MD_1ks_rand[0].df['Configs'][251000].info['gap18_virial']"
   ]
  },
  {
   "cell_type": "code",
   "execution_count": 225,
   "metadata": {},
   "outputs": [],
   "source": [
    "# for j in MD_1ks_rand:\n",
    "#     for i in j.df['Configs']:\n",
    "#         i.info['gap18_energy'] = i.info['GAP18_energy']\n",
    "#         i.info['gap18_virial'] = i.info['GAP18_virial']\n",
    "#         i.arrays['gap18_force'] = i.arrays['GAP18_force']\n",
    "for j in MD_1ks_rand:\n",
    "    for i in j.df['Configs']:\n",
    "        i.info['gap18_energy'] = i.info['GAP18_energy']\n",
    "        i.info['gap18_stress'] = -1*i.info['GAP18_virial']\n",
    "        i.info['gap18_posstress'] = i.info['GAP18_virial']\n",
    "        i.info['gap18_virial'] = -1*i.info['GAP18_virial']*i.get_volume() # key line\n",
    "        i.arrays['gap18_force'] = i.arrays['GAP18_force']\n",
    "        "
   ]
  },
  {
   "cell_type": "code",
   "execution_count": 228,
   "metadata": {},
   "outputs": [],
   "source": [
    "db10 = []\n",
    "for i in MD_1ks_rand:\n",
    "    db10.extend(i.df['Configs'].tolist())"
   ]
  },
  {
   "cell_type": "code",
   "execution_count": 229,
   "metadata": {},
   "outputs": [],
   "source": [
    "with open('PQ1k_rand_dbs/PQ1k_rand_1-10_G18_GAP18labelled_train_plusstress.cfg', 'w') as f:\n",
    "    write_cfg_db(f, db10+GAP_18_db, \n",
    "                 energy_name='gap18_energy', force_name='gap18_force', virial_name='gap18_virial')"
   ]
  },
  {
   "cell_type": "code",
   "execution_count": 230,
   "metadata": {},
   "outputs": [],
   "source": [
    "db5 = []\n",
    "for i in MD_1ks_rand[:5]:\n",
    "    db5.extend(i.df['Configs'].tolist())"
   ]
  },
  {
   "cell_type": "code",
   "execution_count": 231,
   "metadata": {},
   "outputs": [],
   "source": [
    "with open('PQ1k_rand_dbs/PQ1k_rand_1-5_G18_GAP18labelled_train_plusstress.cfg', 'w') as f:\n",
    "    write_cfg_db(f, db5+GAP_18_db, \n",
    "                 energy_name='gap18_energy', force_name='gap18_force', virial_name='gap18_virial')"
   ]
  },
  {
   "cell_type": "code",
   "execution_count": 207,
   "metadata": {},
   "outputs": [],
   "source": [
    "# with open('PQ1k_rand_1_G18_GAP18labelled_train_stressfix_neg.cfg', 'w') as f:\n",
    "#     write_cfg_db(f, MD_1ks_rand[0].df['Configs'].tolist() + GAP_18_db, \n",
    "#                  energy_name='gap18_energy', force_name='gap18_force', virial_name='gap18_stress')"
   ]
  },
  {
   "cell_type": "code",
   "execution_count": 212,
   "metadata": {},
   "outputs": [],
   "source": [
    "# with open('PQ1k_rand_1_G18_GAP18labelled_train_stressfix_pos.cfg', 'w') as f:\n",
    "#     write_cfg_db(f, MD_1ks_rand[0].df['Configs'].tolist() + GAP_18_db, \n",
    "#                  energy_name='gap18_energy', force_name='gap18_force', virial_name='gap18_posstress')"
   ]
  },
  {
   "cell_type": "code",
   "execution_count": 213,
   "metadata": {},
   "outputs": [],
   "source": [
    "# with open('PQ1k_rand_1_G18_GAP18labelled_train_nostress.cfg', 'w') as f:\n",
    "#     write_cfg_db(f, MD_1ks_rand[0].df['Configs'].tolist() + GAP_18_db, \n",
    "#                  energy_name='gap18_energy', force_name='gap18_force', virial_name='None')"
   ]
  },
  {
   "cell_type": "code",
   "execution_count": 180,
   "metadata": {},
   "outputs": [],
   "source": [
    "# with open('PQ1k_rand_10_GAP18labelled_train_stressfix_neg.cfg', 'w') as f:\n",
    "#     write_cfg_db(f, MD_1ks_rand[-1].df['Configs'].tolist(), \n",
    "#                  energy_name='gap18_energy', force_name='gap18_force', virial_name='gap18_stress')"
   ]
  },
  {
   "cell_type": "markdown",
   "metadata": {},
   "source": [
    "# Compressions-only \n",
    "(200 ps of snapshots, avoid random structure)"
   ]
  },
  {
   "cell_type": "code",
   "execution_count": 67,
   "metadata": {},
   "outputs": [],
   "source": [
    "db5_comp = []\n",
    "for i in MD_1ks_rand[:5]:\n",
    "    db5_comp.extend(i.df['Configs'][i.df.index[51:]].tolist())"
   ]
  },
  {
   "cell_type": "code",
   "execution_count": 68,
   "metadata": {},
   "outputs": [],
   "source": [
    "with open('PQ1k_rand_1-5_compress_only_G18_GAP18labelled_train.cfg', 'w') as f:\n",
    "    write_cfg_db(f, db5_comp+GAP_18_db, \n",
    "                 energy_name='gap18_energy', force_name='gap18_force', virial_name='gap18_virial')"
   ]
  },
  {
   "cell_type": "markdown",
   "metadata": {},
   "source": [
    "# Write 10 x 1k pressure quench to DB, from separate amorphous quenches"
   ]
  },
  {
   "cell_type": "code",
   "execution_count": 232,
   "metadata": {},
   "outputs": [
    {
     "data": {
      "text/plain": [
       "['run_1000_1_label_G18.xyz',\n",
       " 'run_1000_2_label_G18.xyz',\n",
       " 'run_1000_3_label_G18.xyz',\n",
       " 'run_1000_4_label_G18.xyz',\n",
       " 'run_1000_5_label_G18.xyz',\n",
       " 'run_1000_6_label_G18.xyz',\n",
       " 'run_1000_7_label_G18.xyz',\n",
       " 'run_1000_8_label_G18.xyz',\n",
       " 'run_1000_9_label_G18.xyz',\n",
       " 'run_1000_10_label_G18.xyz']"
      ]
     },
     "execution_count": 232,
     "metadata": {},
     "output_type": "execute_result"
    }
   ],
   "source": [
    "MD_1ks_dirs = sorted([i for i in os.listdir('GAP-18_ref/GAP18_1k_PQs') if '.xyz' in i],\n",
    "                     key=lambda f: int(f.split('_')[2]))\n",
    "MD_1ks_dirs"
   ]
  },
  {
   "cell_type": "code",
   "execution_count": 233,
   "metadata": {},
   "outputs": [],
   "source": [
    "MD_1ks = [MD_run(join('GAP-18_ref/GAP18_1k_PQs',i), label=i.split('_')[2], format='xyz') for i in MD_1ks_dirs]"
   ]
  },
  {
   "cell_type": "code",
   "execution_count": 234,
   "metadata": {},
   "outputs": [],
   "source": [
    "for j in MD_1ks:\n",
    "    for i in j.df['Configs']:\n",
    "        i.info['gap18_energy'] = i.info['GAP18_energy']\n",
    "#         i.info['gap18_virial'] = i.info['GAP18_virial']\n",
    "        i.info['gap18_virial'] = -1*i.info['GAP18_virial']*i.get_volume()\n",
    "        i.arrays['gap18_force'] = i.arrays['GAP18_force']\n",
    "        "
   ]
  },
  {
   "cell_type": "code",
   "execution_count": 235,
   "metadata": {},
   "outputs": [
    {
     "data": {
      "text/plain": [
       "array([1801.40520798, 1406.95745017, 1695.69978211,   15.02548317,\n",
       "         88.1204286 ,  -95.26454524])"
      ]
     },
     "execution_count": 235,
     "metadata": {},
     "output_type": "execute_result"
    }
   ],
   "source": [
    "MD_1ks[0].df['Configs'][251000].info['gap18_virial']"
   ]
  },
  {
   "cell_type": "code",
   "execution_count": 237,
   "metadata": {},
   "outputs": [],
   "source": [
    "with open('PQ1k_amo_dbs/PQ1k_1_G18_GAP18labelled_train_amostart_plusstress.cfg', 'w') as f:\n",
    "    write_cfg_db(f, MD_1ks[0].df['Configs'].tolist()+GAP_18_db, \n",
    "                 energy_name='gap18_energy', force_name='gap18_force', virial_name='gap18_virial')"
   ]
  },
  {
   "cell_type": "code",
   "execution_count": 238,
   "metadata": {},
   "outputs": [],
   "source": [
    "db10 = []\n",
    "for i in MD_1ks:\n",
    "    db10.extend(i.df['Configs'].tolist())"
   ]
  },
  {
   "cell_type": "code",
   "execution_count": 239,
   "metadata": {},
   "outputs": [],
   "source": [
    "with open('PQ1k_amo_dbs/PQ1k_1-10_G18_GAP18labelled_train_amostart_plusstress.cfg', 'w') as f:\n",
    "    write_cfg_db(f, db10+GAP_18_db, \n",
    "                 energy_name='gap18_energy', force_name='gap18_force', virial_name='gap18_virial')"
   ]
  },
  {
   "cell_type": "code",
   "execution_count": 240,
   "metadata": {},
   "outputs": [],
   "source": [
    "db5 = []\n",
    "for i in MD_1ks[:5]:\n",
    "    db5.extend(i.df['Configs'].tolist())"
   ]
  },
  {
   "cell_type": "code",
   "execution_count": 241,
   "metadata": {},
   "outputs": [],
   "source": [
    "with open('PQ1k_amo_dbs/PQ1k_1-5_G18_GAP18labelled_train_amostart_plusstress.cfg', 'w') as f:\n",
    "    write_cfg_db(f, db5+GAP_18_db, \n",
    "                 energy_name='gap18_energy', force_name='gap18_force', virial_name='gap18_virial')"
   ]
  },
  {
   "cell_type": "code",
   "execution_count": 244,
   "metadata": {},
   "outputs": [
    {
     "data": {
      "text/plain": [
       "array([1679.28314905, 1611.2982686 , 1650.3344295 ,   -5.93457114,\n",
       "         12.98905522,    6.67528483])"
      ]
     },
     "execution_count": 244,
     "metadata": {},
     "output_type": "execute_result"
    }
   ],
   "source": [
    "db5[-1].info['gap18_virial']"
   ]
  },
  {
   "cell_type": "markdown",
   "metadata": {},
   "source": [
    "## Writing compressions without crystallisation to DB"
   ]
  },
  {
   "cell_type": "code",
   "execution_count": 46,
   "metadata": {},
   "outputs": [],
   "source": [
    "db_noncrystallise = []\n",
    "choice = [2, 5, 6, 8, 9]\n",
    "for ct, i in enumerate(MD_1ks):\n",
    "    if ct in choice:\n",
    "        db_noncrystallise.extend(i.df['Configs'].tolist())"
   ]
  },
  {
   "cell_type": "code",
   "execution_count": 47,
   "metadata": {},
   "outputs": [],
   "source": [
    "with open('PQ1k_noncryst_G18_GAP18labelled_train_amostart.cfg', 'w') as f:\n",
    "    write_cfg_db(f, db_noncrystallise+GAP_18_db, \n",
    "                 energy_name='gap18_energy', force_name='gap18_force', virial_name='gap18_virial')"
   ]
  },
  {
   "cell_type": "code",
   "execution_count": 80,
   "metadata": {},
   "outputs": [
    {
     "data": {
      "text/plain": [
       "array([-0.12698578, -0.10429556, -0.11677368, -0.00656289,  0.00558718,\n",
       "        0.00021673])"
      ]
     },
     "execution_count": 80,
     "metadata": {},
     "output_type": "execute_result"
    }
   ],
   "source": [
    "db_noncrystallise[-10].calc = GAP_18_pot\n",
    "db_noncrystallise[-10].get_stress()"
   ]
  },
  {
   "cell_type": "markdown",
   "metadata": {},
   "source": [
    "## Construct robust testing set for rmses\n",
    "\n",
    "contains:\n",
    "1. melt-quench\n",
    "2. MP_validate\n",
    "3. amo_compression 10\n",
    "4. rand_compression 10"
   ]
  },
  {
   "cell_type": "code",
   "execution_count": 350,
   "metadata": {},
   "outputs": [],
   "source": [
    "rmse_validate = mq_db_G18lab_val + mp_db_GAP18labelled_val + MD_1ks[-1].df['Configs'].tolist()[0:None:10] + MD_1ks_rand[-1].df['Configs'].tolist()[0:None:10]"
   ]
  },
  {
   "cell_type": "code",
   "execution_count": 342,
   "metadata": {},
   "outputs": [],
   "source": [
    "dbs = [mq_db_G18lab_val[0:None:10] , mp_db_GAP18labelled_val , MD_1ks[-1].df['Configs'].tolist()[0:None:10] , MD_1ks_rand[-1].df['Configs'].tolist()[0:None:10]]"
   ]
  },
  {
   "cell_type": "code",
   "execution_count": 343,
   "metadata": {},
   "outputs": [
    {
     "data": {
      "text/plain": [
       "5784"
      ]
     },
     "execution_count": 343,
     "metadata": {},
     "output_type": "execute_result"
    }
   ],
   "source": [
    "len(mq_db_G18lab_val)"
   ]
  },
  {
   "cell_type": "code",
   "execution_count": 344,
   "metadata": {},
   "outputs": [],
   "source": [
    "lens = [sum([len(i) for i in j]) for j in dbs]"
   ]
  },
  {
   "cell_type": "code",
   "execution_count": 345,
   "metadata": {},
   "outputs": [
    {
     "data": {
      "text/plain": [
       "[47280, 54440, 26000, 26000]"
      ]
     },
     "execution_count": 345,
     "metadata": {},
     "output_type": "execute_result"
    }
   ],
   "source": [
    "lens"
   ]
  },
  {
   "cell_type": "code",
   "execution_count": 336,
   "metadata": {},
   "outputs": [],
   "source": [
    "for i in dbs[-1]:\n",
    "    i.info['config_type'] = 'compress_rand'"
   ]
  },
  {
   "cell_type": "code",
   "execution_count": 337,
   "metadata": {},
   "outputs": [],
   "source": [
    "for i in dbs[-2]:\n",
    "    i.info['config_type'] = 'compress_amo'"
   ]
  },
  {
   "cell_type": "code",
   "execution_count": 352,
   "metadata": {},
   "outputs": [],
   "source": [
    "# with open('MQ_MP_PQ1k_amo_rand_testing.xyz', 'w') as f:\n",
    "#     write_xyz(f, rmse_validate)"
   ]
  },
  {
   "cell_type": "code",
   "execution_count": null,
   "metadata": {},
   "outputs": [],
   "source": []
  }
 ],
 "metadata": {
  "kernelspec": {
   "display_name": "Python 3",
   "language": "python",
   "name": "python3"
  },
  "language_info": {
   "codemirror_mode": {
    "name": "ipython",
    "version": 3
   },
   "file_extension": ".py",
   "mimetype": "text/x-python",
   "name": "python",
   "nbconvert_exporter": "python",
   "pygments_lexer": "ipython3",
   "version": "3.8.5"
  }
 },
 "nbformat": 4,
 "nbformat_minor": 1
}
