{
 "cells": [
  {
   "cell_type": "markdown",
   "metadata": {},
   "source": [
    "# Manipulating databases\n",
    "\n",
    "* Produce PQ db extension to GAP-18\n",
    "* initiate active learning from GAP"
   ]
  },
  {
   "cell_type": "code",
   "execution_count": 1,
   "metadata": {
    "pycharm": {
     "name": "#%%\n"
    }
   },
   "outputs": [],
   "source": [
    "%load_ext autoreload\n",
    "%autoreload 2"
   ]
  },
  {
   "cell_type": "code",
   "execution_count": 2,
   "metadata": {
    "pycharm": {
     "name": "#%%\n"
    }
   },
   "outputs": [],
   "source": [
    "from ase.io.extxyz import read_xyz\n",
    "import numpy as np\n",
    "from ase.atoms import Atoms\n",
    "from ase.io.formats import index2range\n",
    "from ase.io.cfg import read_cfg\n",
    "from io import StringIO, UnsupportedOperation\n",
    "from mtp import *\n",
    "import os\n",
    "from matplotlib import pyplot as plt\n",
    "from quippy.potential import Potential\n",
    "import pickle\n",
    "from Ge_analysis import *\n",
    "from Ge_calculation import *\n",
    "import matplotlib.pyplot as plt\n",
    "from matscipy.rings import ring_statistics\n",
    "from datetime import datetime\n",
    "import pymatgen.ext.matproj as mp\n",
    "import pymatgen.io.ase as pase\n",
    "from pymatgen.symmetry.analyzer import SpacegroupAnalyzer\n",
    "from numpy.random import normal\n",
    "from ase.io.extxyz import write_xyz\n",
    "from ase.io.lammpsdata import write_lammps_data"
   ]
  },
  {
   "cell_type": "code",
   "execution_count": 3,
   "metadata": {
    "pycharm": {
     "name": "#%%\n"
    }
   },
   "outputs": [],
   "source": [
    "plt.rcParams['font.family'] = 'sans-serif'\n",
    "plt.rcParams['font.sans-serif'] = [ 'Helvetica', 'Arial', 'FreeSans', 'DejaVu Sans' ]\n",
    "\n",
    "plt.rcParams['axes.labelsize'] = 18\n",
    "plt.rcParams['xtick.labelsize'] = 15\n",
    "plt.rcParams['ytick.labelsize'] = 15\n",
    "\n",
    "plt.rcParams['legend.fontsize'] = 14\n",
    "plt.rcParams['legend.title_fontsize'] = 14\n",
    "plt.rcParams['legend.fancybox'] = False\n",
    "plt.rcParams['legend.edgecolor'] = 'k'\n",
    "plt.rcParams['legend.borderaxespad'] = 1.5\n",
    "\n",
    "plt.rcParams['lines.linewidth'] = 3.0\n",
    "plt.rcParams['axes.linewidth'] = 1.5\n",
    "\n",
    "plt.rcParams['xtick.direction'] = 'in'\n",
    "plt.rcParams['xtick.major.size'] = 10\n",
    "plt.rcParams['xtick.major.width'] = 1.0\n",
    "plt.rcParams['xtick.minor.size'] = 5\n",
    "plt.rcParams['xtick.minor.width'] = 1.0\n",
    "\n",
    "plt.rcParams['ytick.direction'] = 'in'\n",
    "plt.rcParams['ytick.major.size'] = 10\n",
    "plt.rcParams['ytick.major.width'] = 1.0\n",
    "plt.rcParams['ytick.minor.size'] = 5\n",
    "plt.rcParams['ytick.minor.width'] = 1.0\n",
    "\n",
    "plt.rcParams[\"figure.autolayout\"] = False"
   ]
  },
  {
   "cell_type": "markdown",
   "metadata": {},
   "source": [
    "# Labelling"
   ]
  },
  {
   "cell_type": "code",
   "execution_count": 4,
   "metadata": {
    "pycharm": {
     "name": "#%%\n"
    }
   },
   "outputs": [
    {
     "name": "stderr",
     "output_type": "stream",
     "text": [
      "/u/vld/hert5155/ase/ase/calculators/calculator.py:507: FutureWarning: The keyword \"ignore_bad_restart_file\" is deprecated and will be removed in a future version of ASE.  Passing more than one positional argument to Calculator is also deprecated and will stop functioning in the future.  Please pass arguments by keyword (key=value) except optionally the \"restart\" keyword.\n",
      "  warnings.warn(FutureWarning(\n"
     ]
    }
   ],
   "source": [
    "GAP_18_dir = '/u/vld/hert5155/jup_remote/Ge_od/Si_GAP_training/libAtoms-silicon-testing-framework-fc252cb/models/GAP'\n",
    "os.chdir('/u/vld/hert5155/jup_remote/Ge_od/GAP_to_MTP')\n",
    "GAP_18_pot = Potential(param_filename=GAP_18_dir+'/gp_iter6_sparse9k.xml')"
   ]
  },
  {
   "cell_type": "code",
   "execution_count": 29,
   "metadata": {
    "pycharm": {
     "name": "#%%\n"
    }
   },
   "outputs": [],
   "source": [
    "with open(GAP_18_dir + '/gp_iter6_sparse9k.xml.xyz', 'r') as f:\n",
    "    GAP_18_db = list(read_xyz(f, index=slice(0,None)))"
   ]
  },
  {
   "cell_type": "code",
   "execution_count": null,
   "metadata": {
    "pycharm": {
     "name": "#%%\n"
    }
   },
   "outputs": [],
   "source": [
    "with open('/home/joe/Documents/Ge_od/Potentials/Si_myDB_reduction_testing/Si_myDB_64_125_216_train.xyz', 'r') as f:\n",
    "    myDB = list(read_xyz(f, index=slice(0,None)))"
   ]
  },
  {
   "cell_type": "code",
   "execution_count": null,
   "metadata": {
    "pycharm": {
     "name": "#%%\n"
    }
   },
   "outputs": [],
   "source": [
    "db = myDB\n",
    "# db = GAP_18_db\n",
    "for i, val in enumerate(db):\n",
    "\n",
    "    GAP_18_pot.calculate(val, properties=['energies', 'forces', 'stress'])\n",
    "    val.info['gap18_energy'] = GAP_18_pot.results['energy']\n",
    "    val.info['gap18_virial'] = GAP_18_pot.results['virial']\n",
    "    val.arrays['gap18_force'] = GAP_18_pot.results['forces']"
   ]
  },
  {
   "cell_type": "code",
   "execution_count": null,
   "metadata": {
    "pycharm": {
     "name": "#%%\n"
    }
   },
   "outputs": [],
   "source": [
    "GAP_18_pot.calculate(GAP_18_db[0], properties=['energies', 'forces', 'stress'])\n",
    "GAP_18_pot.results['virial']"
   ]
  },
  {
   "cell_type": "code",
   "execution_count": 41,
   "metadata": {
    "pycharm": {
     "name": "#%%\n"
    }
   },
   "outputs": [],
   "source": [
    "mtp_stress_test = MTP('/u/vld/hert5155/jup_remote/Ge_od/GAP_to_MTP/MTPs/MTPs/u16_m1.5_fw0.1_GAP18db.mtp',\n",
    "                     mtp_command='/u/vld/hert5155/mlip-2/bin/mlp')"
   ]
  },
  {
   "cell_type": "code",
   "execution_count": null,
   "metadata": {
    "pycharm": {
     "name": "#%%\n"
    }
   },
   "outputs": [],
   "source": [
    "# with open('GAP_18_db_GAPlabelled_MTP4.pickle', 'wb') as f:\n",
    "#     pickle.dump(GAP_18_db, f)"
   ]
  },
  {
   "cell_type": "code",
   "execution_count": 5,
   "metadata": {
    "pycharm": {
     "name": "#%%\n"
    }
   },
   "outputs": [],
   "source": [
    "with open('GAP_18_db_GAPlabelled.pickle', 'rb') as f:\n",
    "    GAP_18_db = pickle.load(f)"
   ]
  },
  {
   "cell_type": "code",
   "execution_count": null,
   "metadata": {
    "pycharm": {
     "name": "#%%\n"
    }
   },
   "outputs": [],
   "source": [
    "# with open('mydb_GAPlabelled_MTP4.pickle', 'wb') as f:\n",
    "#     pickle.dump(myDB, f)"
   ]
  },
  {
   "cell_type": "code",
   "execution_count": null,
   "metadata": {
    "pycharm": {
     "name": "#%%\n"
    }
   },
   "outputs": [],
   "source": [
    "with open('mydb_GAPlabelled_MTP4.pickle', 'rb') as f:\n",
    "    myDB = pickle.load(f)"
   ]
  },
  {
   "cell_type": "code",
   "execution_count": null,
   "metadata": {
    "pycharm": {
     "name": "#%%\n"
    }
   },
   "outputs": [],
   "source": [
    "# with open('GAP_18_db_GAPlabelled.cfg', 'w') as f:\n",
    "#     write_cfg_db(f, GAP_18_db, energy_name='gap18_energy', force_name='gap18_force', virial_name='gap18_virial')"
   ]
  },
  {
   "cell_type": "code",
   "execution_count": null,
   "metadata": {
    "pycharm": {
     "name": "#%%\n"
    }
   },
   "outputs": [],
   "source": [
    "# with open('GAP_18_db_DFTlabelled.cfg', 'w') as f:\n",
    "#     write_cfg_db(f, GAP_18_db, energy_name='dft_energy', force_name='dft_force', virial_name='dft_virial')"
   ]
  },
  {
   "cell_type": "markdown",
   "metadata": {},
   "source": [
    "## Writing all melt-quench data to DB for fitting\n"
   ]
  },
  {
   "cell_type": "code",
   "execution_count": null,
   "metadata": {
    "pycharm": {
     "name": "#%%\n"
    }
   },
   "outputs": [],
   "source": [
    "sb = '/home/joe/Documents/Ge_od/Structure_databases'\n",
    "mq_dirs = [os.path.join(sb, i) for i in ['run_64_atoms', 'run_125_atoms', 'run_216_atoms']]\n",
    "\n",
    "mq_db = []\n",
    "\n",
    "# for i in mq_dirs:\n",
    "#     for j in os.listdir(i):\n",
    "#         if 'run_' in j and 'castep' not in j:\n",
    "#             for k in os.listdir(os.path.join(i, j, 'NPT', )):\n",
    "#                 at = read_cfg(os.path.join(i,j,'NPT',k))\n",
    "#                 at.info['rundir'] = j\n",
    "#                 mq_db.append(at)\n",
    "# l = len(mq_db)\n",
    "# for i, val in enumerate(mq_db):\n",
    "#\n",
    "#     GAP_18_pot.calculate(val, properties=['energies', 'forces', 'stress'])\n",
    "#     val.info['gap18_energy'] = GAP_18_pot.results['energy']\n",
    "#     val.info['gap18_virial'] = GAP_18_pot.results['virial']\n",
    "#     val.arrays['gap18_force'] = GAP_18_pot.results['forces']\n",
    "#     if (i//l * 100) % 10 == 0:\n",
    "#         print('{}% done'.format(i//l *100), datetime.now().time())\n",
    "\n",
    "# with open('mq_db_GAP-18labelled.pickle', 'wb') as f:\n",
    "#     pickle.dump(mq_db, f)"
   ]
  },
  {
   "cell_type": "code",
   "execution_count": 57,
   "metadata": {
    "pycharm": {
     "name": "#%%\n"
    }
   },
   "outputs": [],
   "source": [
    "with open('/home/joe/Documents/Ge_od/GAP_to_MTP/mqdb_GAP18labelled/mq_db_GAP-18labelled_3.pickle', 'rb') as f:\n",
    "    mq_db_G18lab = pickle.load(f)\n"
   ]
  },
  {
   "cell_type": "code",
   "execution_count": 58,
   "metadata": {
    "pycharm": {
     "name": "#%%\n"
    }
   },
   "outputs": [],
   "source": [
    "# need to modify the stresses before writing them\n",
    "for i in range(len(mq_db_G18lab)):\n",
    "    v = -mq_db_G18lab[i].info['gap18_virial']*mq_db_G18lab[i].get_volume()\n",
    "    mq_db_G18lab[i].info['gap18_virial'] = v\n"
   ]
  },
  {
   "cell_type": "code",
   "execution_count": 59,
   "metadata": {
    "pycharm": {
     "name": "#%%\n"
    }
   },
   "outputs": [],
   "source": [
    "# split into 80:20 test:training with entirely separate runs\n",
    "rundirs = [int(i.info['rundir'][4:]) for i in mq_db_G18lab]\n",
    "rundirs = np.array(rundirs)"
   ]
  },
  {
   "cell_type": "code",
   "execution_count": 60,
   "metadata": {
    "pycharm": {
     "name": "#%%\n"
    }
   },
   "outputs": [],
   "source": [
    "# keep back run numbers 8-27\n",
    "v_args = np.array([[]]); t_args = np.array([[]])\n",
    "for i in range(8,28):\n",
    "    v_args = np.concatenate((v_args, np.where(rundirs==i)), axis=1)\n",
    "\n",
    "for i in range(8):\n",
    "    t_args = np.concatenate((t_args, np.where(rundirs==i)), axis=1)\n",
    "for i in range(28,101):\n",
    "    t_args = np.concatenate((t_args, np.where(rundirs==i)), axis=1)"
   ]
  },
  {
   "cell_type": "code",
   "execution_count": 61,
   "metadata": {
    "pycharm": {
     "name": "#%%\n"
    }
   },
   "outputs": [],
   "source": [
    "mq_db_G18lab_train = [mq_db_G18lab[int(i)] for i in t_args[0]]\n",
    "mq_db_G18lab_val = [mq_db_G18lab[int(i)] for i in v_args[0]]"
   ]
  },
  {
   "cell_type": "code",
   "execution_count": 62,
   "metadata": {
    "pycharm": {
     "name": "#%%\n"
    }
   },
   "outputs": [
    {
     "data": {
      "text/plain": [
       "(22810, 5784)"
      ]
     },
     "execution_count": 62,
     "metadata": {},
     "output_type": "execute_result"
    }
   ],
   "source": [
    "# run_97 etc. didn't finish, so not exactly 80% but pretty close\n",
    "len(mq_db_G18lab_train)/len(mq_db_G18lab_val)\n",
    "\n",
    "\n",
    "len(mq_db_G18lab_train),len(mq_db_G18lab_val)"
   ]
  },
  {
   "cell_type": "code",
   "execution_count": null,
   "metadata": {
    "pycharm": {
     "name": "#%%\n"
    }
   },
   "outputs": [],
   "source": [
    "# with open('mqdb_GAP18labelled/mqdb_GAP18labelled_train.cfg', 'w') as f:\n",
    "#     write_cfg_db(f, mq_db_G18lab_train, energy_name='gap18_energy', force_name='gap18_force', virial_name='gap18_virial')"
   ]
  },
  {
   "cell_type": "code",
   "execution_count": null,
   "metadata": {
    "pycharm": {
     "name": "#%%\n"
    }
   },
   "outputs": [],
   "source": [
    "# with open('mqdb_GAP18labelled/mqdb_GAP18labelled_validate.cfg', 'w') as f:\n",
    "#     write_cfg_db(f, mq_db_G18lab_val, energy_name='gap18_energy', force_name='gap18_force', virial_name='gap18_virial')"
   ]
  },
  {
   "cell_type": "code",
   "execution_count": null,
   "metadata": {
    "pycharm": {
     "name": "#%%\n"
    }
   },
   "outputs": [],
   "source": [
    "GAP18_mqdb_train = GAP_18_db + mq_db_G18lab_train"
   ]
  },
  {
   "cell_type": "code",
   "execution_count": null,
   "metadata": {
    "pycharm": {
     "name": "#%%\n"
    }
   },
   "outputs": [],
   "source": [
    "\n",
    "GAP18_mqdb_train = GAP_18_db + mq_db_G18lab_train"
   ]
  },
  {
   "cell_type": "code",
   "execution_count": 66,
   "metadata": {
    "pycharm": {
     "name": "#%%\n"
    }
   },
   "outputs": [
    {
     "data": {
      "text/plain": [
       "171815"
      ]
     },
     "execution_count": 66,
     "metadata": {},
     "output_type": "execute_result"
    }
   ],
   "source": [
    "#sum([len(i) for i in mq_db_G18lab_train])\n",
    "sum([len(i) for i in GAP_18_db])\n"
   ]
  },
  {
   "cell_type": "code",
   "execution_count": null,
   "metadata": {
    "pycharm": {
     "name": "#%%\n"
    }
   },
   "outputs": [],
   "source": [
    "# with open('mqdb_GAP18labelled/GAP18_mqdb_GAP18labelled_train.cfg', 'w') as f:\n",
    "#     write_cfg_db(f, GAP18_mqdb_train, energy_name='gap18_energy', force_name='gap18_force', virial_name='gap18_virial')\n"
   ]
  },
  {
   "cell_type": "markdown",
   "metadata": {},
   "source": [
    "## Generate GAP_labelled crystal structures from the MP\n",
    "Free us from dependence on the GAP-18 database"
   ]
  },
  {
   "cell_type": "code",
   "execution_count": null,
   "metadata": {
    "pycharm": {
     "name": "#%%\n"
    }
   },
   "outputs": [],
   "source": [
    "import pymatgen.ext.matproj as mp\n",
    "import pymatgen.io.ase as pase\n",
    "from pymatgen.symmetry.analyzer import SpacegroupAnalyzer"
   ]
  },
  {
   "cell_type": "code",
   "execution_count": null,
   "metadata": {
    "pycharm": {
     "name": "#%%\n"
    }
   },
   "outputs": [],
   "source": [
    "with mp.MPRester(\"v0JVgKLlpTXKEhiKeDIC\") as m:\n",
    "    results = m.query(criteria={\"pretty_formula\":'Si'},\n",
    "                            properties=[\"exp.tags\", \"icsd_ids\", \"spacegroup\",\n",
    "                                        \"task_id\", \"density\", \"final_structure\",\n",
    "                                        \"e_above_hull\", \"energy\", \"energy_per_atom\"])"
   ]
  },
  {
   "cell_type": "code",
   "execution_count": null,
   "metadata": {
    "pycharm": {
     "name": "#%%\n"
    }
   },
   "outputs": [],
   "source": [
    "mp_xtals = [pase.AseAtomsAdaptor().get_atoms(\n",
    "            SpacegroupAnalyzer(i['final_structure']).get_conventional_standard_structure())\n",
    "            for i in results]"
   ]
  },
  {
   "cell_type": "code",
   "execution_count": null,
   "metadata": {
    "pycharm": {
     "name": "#%%\n"
    }
   },
   "outputs": [],
   "source": [
    "def get_supercell_factor(at, target_size=64):\n",
    "    f = np.ceil((target_size/len(at))**(1/3))\n",
    "    #print('supercell factor: %f leads to %f atoms' % (f, len(at)*f**3))\n",
    "    return f"
   ]
  },
  {
   "cell_type": "code",
   "execution_count": null,
   "metadata": {
    "pycharm": {
     "name": "#%%\n"
    }
   },
   "outputs": [],
   "source": [
    "# ncopies = 50\n",
    "ncopies = 10\n",
    "supers = [[] for i in results]\n",
    "for i, val in enumerate(mp_xtals):\n",
    "    for j in range(ncopies):\n",
    "        s = build.supercells.make_supercell(\n",
    "                val, get_supercell_factor(val)*np.identity(3))\n",
    "        s.rattle(0.01) # randomise the positions slightly\n",
    "        s.set_cell(s.get_cell_lengths_and_angles() * np.concatenate([normal(1, 0.03, (3)), normal(1, 0.01, (3))]),\n",
    "                 scale_atoms=True) # randomise lattice vectors\n",
    "        s.info['config_type'] = results[i]['task_id']\n",
    "        supers[i].append(s)"
   ]
  },
  {
   "cell_type": "code",
   "execution_count": null,
   "metadata": {
    "pycharm": {
     "name": "#%%\n"
    }
   },
   "outputs": [],
   "source": [
    "sum([len(i) for i in flatten(supers)]), sum([len(i) for i in mq_db_G18lab_train])"
   ]
  },
  {
   "cell_type": "code",
   "execution_count": null,
   "metadata": {
    "pycharm": {
     "name": "#%%\n"
    }
   },
   "outputs": [],
   "source": [
    "# need to label with GAP-18 now\n",
    "with open('mp_mq_db_GAP18labelled/mp_db_train_test.xyz', 'w') as f:\n",
    "    write_xyz(f, flatten(supers[:5]))"
   ]
  },
  {
   "cell_type": "code",
   "execution_count": null,
   "metadata": {
    "pycharm": {
     "name": "#%%\n"
    }
   },
   "outputs": [],
   "source": [
    "# with open('mp_mq_db_GAP18labelled/mp_db_train_test.cfg', 'w') as f:\n",
    "#     write_cfg_db(f, mp_db_GAP18labelled_train[:5], energy_name='gap18_energy', force_name='gap18_force', virial_name='gap18_virial')"
   ]
  },
  {
   "cell_type": "code",
   "execution_count": null,
   "metadata": {
    "pycharm": {
     "name": "#%%\n"
    }
   },
   "outputs": [],
   "source": [
    "with open('mp_mq_db_GAP18labelled/mp_db_validate.xyz', 'w') as f:\n",
    "    write_xyz(f, flatten(supers))"
   ]
  },
  {
   "cell_type": "code",
   "execution_count": null,
   "metadata": {
    "pycharm": {
     "name": "#%%\n"
    }
   },
   "outputs": [],
   "source": [
    "with open('mp_mq_db_GAP18labelled/mp_db_GAP18labelled_train.xyz', 'r') as f:\n",
    "    mp_db_GAP18labelled_train = list(read_xyz(f, index=slice(0,None)))"
   ]
  },
  {
   "cell_type": "code",
   "execution_count": null,
   "metadata": {
    "pycharm": {
     "name": "#%%\n"
    }
   },
   "outputs": [],
   "source": [
    "with open('mp_mq_db_GAP18labelled/mp_db_GAP18labelled_validate.xyz', 'r') as f:\n",
    "    mp_db_GAP18labelled_val = list(read_xyz(f, index=slice(0,None)))"
   ]
  },
  {
   "cell_type": "code",
   "execution_count": null,
   "metadata": {
    "pycharm": {
     "name": "#%%\n"
    }
   },
   "outputs": [],
   "source": [
    "for i in mp_db_GAP18labelled_train:\n",
    "    i.info['gap18_energy'] = i.info.pop('energy')\n",
    "    i.info['gap18_virial'] = i.info.pop('virial')\n",
    "    i.arrays['gap18_force'] = i.arrays.pop('force')\n"
   ]
  },
  {
   "cell_type": "code",
   "execution_count": null,
   "metadata": {
    "pycharm": {
     "name": "#%%\n"
    }
   },
   "outputs": [],
   "source": [
    "mp_mq_db_GAP18labelled_train = mq_db_G18lab_train + mp_db_GAP18labelled_train"
   ]
  },
  {
   "cell_type": "code",
   "execution_count": null,
   "metadata": {
    "pycharm": {
     "name": "#%%\n"
    }
   },
   "outputs": [],
   "source": [
    "with open('mp_mq_db_GAP18labelled/mp_mq_db_GAP18labelled_train.cfg', 'w') as f:\n",
    "    write_cfg_db(f, mp_mq_db_GAP18labelled_train, energy_name='gap18_energy', force_name='gap18_force', virial_name='gap18_virial')"
   ]
  },
  {
   "cell_type": "markdown",
   "metadata": {},
   "source": [
    "# Big melt quench development\n"
   ]
  },
  {
   "cell_type": "code",
   "execution_count": 34,
   "metadata": {
    "pycharm": {
     "name": "#%%\n"
    }
   },
   "outputs": [],
   "source": [
    "#amo_1k = read_cfg('/home/joe/Documents/Ge_od/GAP_to_MTP/pressure_quench_devel/dump_npt_Si_mtp.240000.cfg')\n",
    "amo_1k_litGAP = read_cfg('/home/joe/Documents/Ge_od/GAP_to_MTP/MTP_mds/GAPmd_run_1000_lit/NPT/dump_npt_Si_gap.240000.cfg')"
   ]
  },
  {
   "cell_type": "code",
   "execution_count": 37,
   "metadata": {
    "pycharm": {
     "name": "#%%\n"
    }
   },
   "outputs": [],
   "source": [
    "write_lammps_data('/home/joe/Documents/Ge_od/GAP_to_MTP/pressure_quench/amo_1k_litGAP.data', amo_1k_litGAP)"
   ]
  },
  {
   "cell_type": "code",
   "execution_count": 27,
   "metadata": {
    "pycharm": {
     "name": "#%%\n"
    }
   },
   "outputs": [],
   "source": [
    "with open('/home/joe/Documents/Ge_od/GAP_to_MTP/MTP_mds/u16_m1.5_run10k/NPT/dump_npt_Si_mtp.240000.cfg', 'r') as f:\n",
    "    amo_10k = read_cfg(f)"
   ]
  },
  {
   "cell_type": "code",
   "execution_count": 48,
   "metadata": {
    "pycharm": {
     "name": "#%%\n"
    }
   },
   "outputs": [],
   "source": [
    "def label_db(db, pot, pot_name, e_name='energy', f_name='force', v_name='virial'):\n",
    "\n",
    "    for i, val in enumerate(db):\n",
    "        pot.calculate(val, properties=['energies', 'forces', 'stress'])\n",
    "        val.info['{}_{}'.format(pot_name, e_name)] = pot.results['energy']\n",
    "        val.info['{}_{}'.format(pot_name, v_name)] = pot.extra_results['config']['virial']\n",
    "        val.arrays['{}_{}'.format(pot_name, f_name)] = pot.results['forces']\n"
   ]
  },
  {
   "cell_type": "code",
   "execution_count": 48,
   "metadata": {
    "pycharm": {
     "name": "#%%\n"
    }
   },
   "outputs": [],
   "source": [
    "with open('PQ_GAP18_GAP18labelled/aSi_100k_relaxed_amorphous_labelled.xyz', 'r') as f:\n",
    "    amo_100k = list(read_xyz(f))\n",
    "# label_db(amo_100k, GAP_18_pot, 'gap18')\n"
   ]
  },
  {
   "cell_type": "code",
   "execution_count": 54,
   "metadata": {
    "pycharm": {
     "name": "#%%\n"
    }
   },
   "outputs": [],
   "source": [
    "amo_100k[0].info['gap18_energy'] = amo_100k[0].info['energy']\n",
    "amo_100k[0].info['gap18_virial'] = amo_100k[0].info['virial']\n",
    "amo_100k[0].arrays['gap18_force'] = amo_100k[0].arrays['force']"
   ]
  },
  {
   "cell_type": "code",
   "execution_count": 55,
   "metadata": {
    "pycharm": {
     "name": "#%%\n"
    }
   },
   "outputs": [],
   "source": [
    "PQ100k_GAP18_db_GAP18labelled = GAP_18_db + amo_100k"
   ]
  },
  {
   "cell_type": "code",
   "execution_count": 56,
   "metadata": {
    "pycharm": {
     "name": "#%%\n"
    }
   },
   "outputs": [],
   "source": [
    "with open('PQ_GAP18_GAP18labelled/PQ100k_GAP18_db_GAP18labelled.cfg', 'w') as f:\n",
    "    write_cfg_db(f, PQ100k_GAP18_db_GAP18labelled,\n",
    "                 energy_name='gap18_energy', force_name='gap18_force', virial_name='gap18_virial')\n"
   ]
  },
  {
   "cell_type": "code",
   "execution_count": 10,
   "metadata": {
    "pycharm": {
     "name": "#%%\n"
    }
   },
   "outputs": [],
   "source": []
  },
  {
   "cell_type": "code",
   "execution_count": null,
   "metadata": {
    "pycharm": {
     "name": "#%%\n"
    }
   },
   "outputs": [],
   "source": [
    "write_lammps_data('/home/joe/Documents/Ge_od/GAP_to_MTP/pressure_quench/dump_npt_Si_mtp.240000.data', amo_1k)"
   ]
  },
  {
   "cell_type": "code",
   "execution_count": 42,
   "metadata": {
    "pycharm": {
     "name": "#%%\n"
    }
   },
   "outputs": [],
   "source": [
    "write_lammps_data('/home/joe/Documents/Ge_od/GAP_to_MTP/pressure_quench/amo_100k.data', amo_100k)"
   ]
  },
  {
   "cell_type": "code",
   "execution_count": 29,
   "metadata": {
    "pycharm": {
     "name": "#%%\n"
    }
   },
   "outputs": [],
   "source": [
    "write_lammps_data('/home/joe/Documents/Ge_od/GAP_to_MTP/pressure_quench/amo_10k.data', amo_10k)"
   ]
  },
  {
   "cell_type": "markdown",
   "metadata": {},
   "source": [
    "## Write 1k pressure quench to DB for additional fitting"
   ]
  },
  {
   "cell_type": "code",
   "execution_count": 12,
   "metadata": {},
   "outputs": [],
   "source": [
    "GAP18_PQ = MD_run('/u/vld/hert5155/jup_remote/Ge_od/GAP_to_MTP/GAP-18_ref/GAP18_PQ_1k/',\n",
    "                  label='GAP18_PQ_1k', read_dat=True)"
   ]
  },
  {
   "cell_type": "code",
   "execution_count": 63,
   "metadata": {},
   "outputs": [
    {
     "data": {
      "text/plain": [
       "{'file': '/u/vld/hert5155/jup_remote/Ge_od/GAP_to_MTP/GAP-18_ref/GAP18_PQ_1k//NPT/dump_npt_Si_gap.1000.cfg',\n",
       " 'GAP18_energy': -162722.24705797626,\n",
       " 'GAP18_virial': array([[-27.96301042,  -1.9112144 ,  -7.97172699],\n",
       "        [ -1.9112144 , -42.25210403, -14.6004888 ],\n",
       "        [ -7.97172699, -14.6004888 , -75.75245511]])}"
      ]
     },
     "execution_count": 63,
     "metadata": {},
     "output_type": "execute_result"
    }
   ],
   "source": [
    "GAP18_PQ.df['Configs'][1000].info"
   ]
  },
  {
   "cell_type": "code",
   "execution_count": 49,
   "metadata": {},
   "outputs": [],
   "source": [
    "label_db(GAP18_PQ.df['Configs'].tolist(), GAP_18_pot, 'GAP18')"
   ]
  },
  {
   "cell_type": "code",
   "execution_count": 35,
   "metadata": {},
   "outputs": [],
   "source": [
    "GAP_18_pot.calculate(GAP_18_db[200], properties=['energies', 'forces', 'virial'])"
   ]
  },
  {
   "cell_type": "code",
   "execution_count": 36,
   "metadata": {},
   "outputs": [
    {
     "data": {
      "text/plain": [
       "array([[ 7.12239936e+01, -3.53353646e-01, -6.43044093e-02],\n",
       "       [-3.53353646e-01,  6.76416908e+01, -6.86723415e-02],\n",
       "       [-6.43044093e-02, -6.86723415e-02,  6.37228947e+01]])"
      ]
     },
     "execution_count": 36,
     "metadata": {},
     "output_type": "execute_result"
    }
   ],
   "source": [
    "GAP_18_pot.extra_results['config']['virial']"
   ]
  },
  {
   "cell_type": "code",
   "execution_count": 37,
   "metadata": {},
   "outputs": [
    {
     "data": {
      "text/plain": [
       "array([-8.05836337e-02, -7.65305757e-02, -7.20968054e-02,  7.76966657e-05,\n",
       "        7.27547376e-05,  3.99788321e-04])"
      ]
     },
     "execution_count": 37,
     "metadata": {},
     "output_type": "execute_result"
    }
   ],
   "source": [
    "GAP_18_pot.results['stress']"
   ]
  },
  {
   "cell_type": "code",
   "execution_count": 42,
   "metadata": {},
   "outputs": [],
   "source": [
    "mtp_stress_test.calculate(GAP_18_db[200], properties=['forces', 'stress'])"
   ]
  },
  {
   "cell_type": "code",
   "execution_count": 43,
   "metadata": {},
   "outputs": [
    {
     "data": {
      "text/plain": [
       "array([[ 6.066771e+01, -2.156200e-01, -7.920000e-03],\n",
       "       [-2.156200e-01,  5.668705e+01, -7.620000e-03],\n",
       "       [-7.920000e-03, -7.620000e-03,  4.340911e+01]])"
      ]
     },
     "execution_count": 43,
     "metadata": {},
     "output_type": "execute_result"
    }
   ],
   "source": [
    "mtp_stress_test.results['stress']"
   ]
  },
  {
   "cell_type": "code",
   "execution_count": 8,
   "metadata": {},
   "outputs": [
    {
     "data": {
      "text/plain": [
       "{'config_type': 'isolated_atom',\n",
       " 'gap_energy': -157.7272532,\n",
       " 'gap_virial': array([0., 0., 0., 0., 0., 0., 0., 0., 0.]),\n",
       " 'dft_energy': -158.54496821,\n",
       " 'cutoff': 5.5,\n",
       " 'nneightol': 1.2,\n",
       " 'energy': -158.54496700404255,\n",
       " 'stress': array([-0., -0., -0., -0., -0., -0.]),\n",
       " 'gap18_energy': -158.54496700404255,\n",
       " 'gap18_virial': array([[0., 0., 0.],\n",
       "        [0., 0., 0.],\n",
       "        [0., 0., 0.]])}"
      ]
     },
     "execution_count": 8,
     "metadata": {},
     "output_type": "execute_result"
    }
   ],
   "source": [
    "GAP_18_db[0].info"
   ]
  },
  {
   "cell_type": "code",
   "execution_count": 65,
   "metadata": {},
   "outputs": [],
   "source": [
    "with open('PQ_GAP18labelled_train.cfg', 'w') as f:\n",
    "    write_cfg_db(f, GAP18_PQ.df['Configs'].tolist(), energy_name='GAP18_energy', force_name='GAP18_force', virial_name='GAP18_virial')"
   ]
  },
  {
   "cell_type": "code",
   "execution_count": null,
   "metadata": {},
   "outputs": [],
   "source": [
    "cfg1 = list(read_cfg_db('GAP_18_db_GAPlabelled.cfg'))"
   ]
  },
  {
   "cell_type": "code",
   "execution_count": 9,
   "metadata": {},
   "outputs": [],
   "source": [
    "cfg2 = list(read_cfg_db('PQ_GAP18labelled_train.cfg',\n",
    "                        energy_label='gap18_energy', force_label='gap18_force', stress_label='gap18_virial'))"
   ]
  },
  {
   "cell_type": "code",
   "execution_count": 11,
   "metadata": {},
   "outputs": [],
   "source": [
    "cfg3 = cfg2 + GAP_18_db"
   ]
  },
  {
   "cell_type": "code",
   "execution_count": 14,
   "metadata": {},
   "outputs": [],
   "source": [
    "with open('PQ_GAP18_GAP18labelled_train.cfg', 'w') as f:\n",
    "    write_cfg_db(f, cfg3, \n",
    "                 energy_name='gap18_energy', force_name='gap18_force', virial_name='gap18_virial')"
   ]
  }
 ],
 "metadata": {
  "kernelspec": {
   "display_name": "Python 3",
   "language": "python",
   "name": "python3"
  },
  "language_info": {
   "codemirror_mode": {
    "name": "ipython",
    "version": 3
   },
   "file_extension": ".py",
   "mimetype": "text/x-python",
   "name": "python",
   "nbconvert_exporter": "python",
   "pygments_lexer": "ipython3",
   "version": "3.8.5"
  }
 },
 "nbformat": 4,
 "nbformat_minor": 1
}
