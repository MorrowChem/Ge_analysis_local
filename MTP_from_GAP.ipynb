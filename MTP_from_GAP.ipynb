{
 "cells": [
  {
   "cell_type": "code",
   "execution_count": 3,
   "outputs": [
    {
     "name": "stdout",
     "output_type": "stream",
     "text": [
      "The autoreload extension is already loaded. To reload it, use:\n",
      "  %reload_ext autoreload\n"
     ]
    }
   ],
   "source": [
    "\n",
    "%load_ext autoreload\n",
    "%autoreload 2\n"
   ],
   "metadata": {
    "collapsed": false,
    "pycharm": {
     "name": "#%%\n"
    }
   }
  },
  {
   "cell_type": "code",
   "execution_count": 1,
   "metadata": {
    "collapsed": true
   },
   "outputs": [],
   "source": [
    "from ase.io.extxyz import read_xyz\n",
    "import numpy as np\n",
    "from ase.atoms import Atoms\n",
    "from ase.io.formats import index2range\n",
    "from ase.io.cfg import read_cfg\n",
    "from io import StringIO, UnsupportedOperation\n",
    "from mtp import *\n",
    "import os\n",
    "from matplotlib import pyplot as plt\n",
    "from quippy.potential import Potential\n",
    "import pickle\n",
    "from Ge_analysis import *\n",
    "from Ge_calculation import *\n",
    "import matplotlib.pyplot as plt\n",
    "from matscipy.rings import ring_statistics\n",
    "from datetime import datetime\n",
    "import pymatgen.ext.matproj as mp\n",
    "import pymatgen.io.ase as pase\n",
    "from pymatgen.symmetry.analyzer import SpacegroupAnalyzer\n",
    "from numpy.random import normal\n",
    "from ase.io.extxyz import write_xyz"
   ]
  },
  {
   "cell_type": "code",
   "execution_count": 2,
   "outputs": [],
   "source": [
    "plt.rcParams['font.family'] = 'sans-serif'\n",
    "plt.rcParams['font.sans-serif'] = [ 'Helvetica', 'Arial', 'FreeSans', 'DejaVu Sans' ]\n",
    "\n",
    "plt.rcParams['axes.labelsize'] = 18\n",
    "plt.rcParams['xtick.labelsize'] = 15\n",
    "plt.rcParams['ytick.labelsize'] = 15\n",
    "\n",
    "plt.rcParams['legend.fontsize'] = 14\n",
    "plt.rcParams['legend.title_fontsize'] = 14\n",
    "plt.rcParams['legend.fancybox'] = False\n",
    "plt.rcParams['legend.edgecolor'] = 'k'\n",
    "plt.rcParams['legend.borderaxespad'] = 1.5\n",
    "\n",
    "plt.rcParams['lines.linewidth'] = 3.0\n",
    "plt.rcParams['axes.linewidth'] = 1.5\n",
    "\n",
    "plt.rcParams['xtick.direction'] = 'in'\n",
    "plt.rcParams['xtick.major.size'] = 10\n",
    "plt.rcParams['xtick.major.width'] = 1.0\n",
    "plt.rcParams['xtick.minor.size'] = 5\n",
    "plt.rcParams['xtick.minor.width'] = 1.0\n",
    "\n",
    "plt.rcParams['ytick.direction'] = 'in'\n",
    "plt.rcParams['ytick.major.size'] = 10\n",
    "plt.rcParams['ytick.major.width'] = 1.0\n",
    "plt.rcParams['ytick.minor.size'] = 5\n",
    "plt.rcParams['ytick.minor.width'] = 1.0"
   ],
   "metadata": {
    "collapsed": false,
    "pycharm": {
     "name": "#%%\n"
    }
   }
  },
  {
   "cell_type": "markdown",
   "source": [
    "# Labelling"
   ],
   "metadata": {
    "collapsed": false,
    "pycharm": {
     "name": "#%% md\n"
    }
   }
  },
  {
   "cell_type": "code",
   "execution_count": 3,
   "outputs": [],
   "source": [
    "GAP_18_dir = '/home/joe/Documents/Ge_od/Si_GAP_training/libAtoms-silicon-testing-framework-fc252cb/models/GAP'"
   ],
   "metadata": {
    "collapsed": false,
    "pycharm": {
     "name": "#%%\n"
    }
   }
  },
  {
   "cell_type": "code",
   "execution_count": null,
   "outputs": [],
   "source": [
    "with open(GAP_18_dir + '/gp_iter6_sparse9k.xml.xyz', 'r') as f:\n",
    "    GAP_18_db = list(read_xyz(f, index=slice(0,None)))"
   ],
   "metadata": {
    "collapsed": false,
    "pycharm": {
     "name": "#%%\n"
    }
   }
  },
  {
   "cell_type": "code",
   "execution_count": 93,
   "outputs": [],
   "source": [
    "with open('/home/joe/Documents/Ge_od/Potentials/Si_myDB_reduction_testing/Si_myDB_64_125_216_train.xyz', 'r') as f:\n",
    "    myDB = list(read_xyz(f, index=slice(0,None)))"
   ],
   "metadata": {
    "collapsed": false,
    "pycharm": {
     "name": "#%%\n"
    }
   }
  },
  {
   "cell_type": "code",
   "execution_count": 4,
   "outputs": [
    {
     "name": "stderr",
     "output_type": "stream",
     "text": [
      "/home/joe/ase/ase/calculators/calculator.py:507: FutureWarning: The keyword \"ignore_bad_restart_file\" is deprecated and will be removed in a future version of ASE.  Passing more than one positional argument to Calculator is also deprecated and will stop functioning in the future.  Please pass arguments by keyword (key=value) except optionally the \"restart\" keyword.\n",
      "  warnings.warn(FutureWarning(\n"
     ]
    }
   ],
   "source": [
    "GAP_18_pot = Potential(param_filename=GAP_18_dir+'/gp_iter6_sparse9k.xml')"
   ],
   "metadata": {
    "collapsed": false,
    "pycharm": {
     "name": "#%%\n"
    }
   }
  },
  {
   "cell_type": "code",
   "execution_count": 94,
   "outputs": [],
   "source": [
    "db = myDB\n",
    "# db = GAP_18_db\n",
    "for i, val in enumerate(db):\n",
    "\n",
    "    GAP_18_pot.calculate(val, properties=['energies', 'forces', 'stress'])\n",
    "    val.info['gap18_energy'] = GAP_18_pot.results['energy']\n",
    "    val.info['gap18_virial'] = GAP_18_pot.results['virial']\n",
    "    val.arrays['gap18_force'] = GAP_18_pot.results['forces']"
   ],
   "metadata": {
    "collapsed": false,
    "pycharm": {
     "name": "#%%\n"
    }
   }
  },
  {
   "cell_type": "code",
   "execution_count": null,
   "outputs": [],
   "source": [
    "GAP_18_pot.calculate(GAP_18_db[0], properties=['energies', 'forces', 'stress'])\n",
    "GAP_18_pot.results['virial']"
   ],
   "metadata": {
    "collapsed": false,
    "pycharm": {
     "name": "#%%\n"
    }
   }
  },
  {
   "cell_type": "code",
   "execution_count": 5,
   "outputs": [],
   "source": [
    "os.chdir('/home/joe/Documents/Ge_od/GAP_to_MTP')"
   ],
   "metadata": {
    "collapsed": false,
    "pycharm": {
     "name": "#%%\n"
    }
   }
  },
  {
   "cell_type": "code",
   "execution_count": 17,
   "outputs": [],
   "source": [
    "# with open('GAP_18_db_GAPlabelled_MTP4.pickle', 'wb') as f:\n",
    "#     pickle.dump(GAP_18_db, f)"
   ],
   "metadata": {
    "collapsed": false,
    "pycharm": {
     "name": "#%%\n"
    }
   }
  },
  {
   "cell_type": "code",
   "execution_count": 6,
   "outputs": [],
   "source": [
    "with open('GAP_18_db_GAPlabelled.pickle', 'rb') as f:\n",
    "    GAP_18_db = pickle.load(f)"
   ],
   "metadata": {
    "collapsed": false,
    "pycharm": {
     "name": "#%%\n"
    }
   }
  },
  {
   "cell_type": "code",
   "execution_count": 98,
   "outputs": [],
   "source": [
    "# with open('mydb_GAPlabelled_MTP4.pickle', 'wb') as f:\n",
    "#     pickle.dump(myDB, f)"
   ],
   "metadata": {
    "collapsed": false,
    "pycharm": {
     "name": "#%%\n"
    }
   }
  },
  {
   "cell_type": "code",
   "execution_count": 7,
   "outputs": [],
   "source": [
    "with open('mydb_GAPlabelled_MTP4.pickle', 'rb') as f:\n",
    "    myDB = pickle.load(f)"
   ],
   "metadata": {
    "collapsed": false,
    "pycharm": {
     "name": "#%%\n"
    }
   }
  },
  {
   "cell_type": "code",
   "execution_count": null,
   "outputs": [],
   "source": [
    "# with open('GAP_18_db_GAPlabelled.cfg', 'w') as f:\n",
    "#     write_cfg_db(f, GAP_18_db, energy_name='gap18_energy', force_name='gap18_force', virial_name='gap18_virial')"
   ],
   "metadata": {
    "collapsed": false,
    "pycharm": {
     "name": "#%%\n"
    }
   }
  },
  {
   "cell_type": "code",
   "execution_count": null,
   "outputs": [],
   "source": [
    "# with open('GAP_18_db_DFTlabelled.cfg', 'w') as f:\n",
    "#     write_cfg_db(f, GAP_18_db, energy_name='dft_energy', force_name='dft_force', virial_name='dft_virial')"
   ],
   "metadata": {
    "collapsed": false,
    "pycharm": {
     "name": "#%%\n"
    }
   }
  },
  {
   "cell_type": "markdown",
   "source": [
    "## Writing all melt-quench data to DB for fitting\n"
   ],
   "metadata": {
    "collapsed": false,
    "pycharm": {
     "name": "#%% md\n"
    }
   }
  },
  {
   "cell_type": "code",
   "execution_count": null,
   "outputs": [],
   "source": [
    "sb = '/home/joe/Documents/Ge_od/Structure_databases'\n",
    "mq_dirs = [os.path.join(sb, i) for i in ['run_64_atoms', 'run_125_atoms', 'run_216_atoms']]\n",
    "\n",
    "mq_db = []\n",
    "\n",
    "# for i in mq_dirs:\n",
    "#     for j in os.listdir(i):\n",
    "#         if 'run_' in j and 'castep' not in j:\n",
    "#             for k in os.listdir(os.path.join(i, j, 'NPT', )):\n",
    "#                 at = read_cfg(os.path.join(i,j,'NPT',k))\n",
    "#                 at.info['rundir'] = j\n",
    "#                 mq_db.append(at)\n",
    "# l = len(mq_db)\n",
    "# for i, val in enumerate(mq_db):\n",
    "#\n",
    "#     GAP_18_pot.calculate(val, properties=['energies', 'forces', 'stress'])\n",
    "#     val.info['gap18_energy'] = GAP_18_pot.results['energy']\n",
    "#     val.info['gap18_virial'] = GAP_18_pot.results['virial']\n",
    "#     val.arrays['gap18_force'] = GAP_18_pot.results['forces']\n",
    "#     if (i//l * 100) % 10 == 0:\n",
    "#         print('{}% done'.format(i//l *100), datetime.now().time())\n",
    "\n",
    "# with open('mq_db_GAP-18labelled.pickle', 'wb') as f:\n",
    "#     pickle.dump(mq_db, f)"
   ],
   "metadata": {
    "collapsed": false,
    "pycharm": {
     "name": "#%%\n"
    }
   }
  },
  {
   "cell_type": "code",
   "execution_count": 8,
   "outputs": [],
   "source": [
    "with open('/home/joe/Documents/Ge_od/GAP_to_MTP/mqdb_GAP18labelled/mq_db_GAP-18labelled_3.pickle', 'rb') as f:\n",
    "    mq_db_G18lab = pickle.load(f)\n"
   ],
   "metadata": {
    "collapsed": false,
    "pycharm": {
     "name": "#%%\n"
    }
   }
  },
  {
   "cell_type": "code",
   "execution_count": 9,
   "outputs": [],
   "source": [
    "# need to modify the stresses before writing them\n",
    "for i in range(len(mq_db_G18lab)):\n",
    "    v = -mq_db_G18lab[i].info['gap18_virial']*mq_db_G18lab[i].get_volume()\n",
    "    mq_db_G18lab[i].info['gap18_virial'] = v\n"
   ],
   "metadata": {
    "collapsed": false,
    "pycharm": {
     "name": "#%%\n"
    }
   }
  },
  {
   "cell_type": "code",
   "execution_count": 10,
   "outputs": [],
   "source": [
    "# split into 80:20 test:training with entirely separate runs\n",
    "rundirs = [int(i.info['rundir'][4:]) for i in mq_db_G18lab]\n",
    "rundirs = np.array(rundirs)"
   ],
   "metadata": {
    "collapsed": false,
    "pycharm": {
     "name": "#%%\n"
    }
   }
  },
  {
   "cell_type": "code",
   "execution_count": 11,
   "outputs": [],
   "source": [
    "# keep back run numbers 8-27\n",
    "v_args = np.array([[]]); t_args = np.array([[]])\n",
    "for i in range(8,28):\n",
    "    v_args = np.concatenate((v_args, np.where(rundirs==i)), axis=1)\n",
    "\n",
    "for i in range(8):\n",
    "    t_args = np.concatenate((t_args, np.where(rundirs==i)), axis=1)\n",
    "for i in range(28,101):\n",
    "    t_args = np.concatenate((t_args, np.where(rundirs==i)), axis=1)"
   ],
   "metadata": {
    "collapsed": false,
    "pycharm": {
     "name": "#%%\n"
    }
   }
  },
  {
   "cell_type": "code",
   "execution_count": 12,
   "outputs": [],
   "source": [
    "mq_db_G18lab_train = [mq_db_G18lab[int(i)] for i in t_args[0]]\n",
    "mq_db_G18lab_val = [mq_db_G18lab[int(i)] for i in v_args[0]]"
   ],
   "metadata": {
    "collapsed": false,
    "pycharm": {
     "name": "#%%\n"
    }
   }
  },
  {
   "cell_type": "code",
   "execution_count": 13,
   "outputs": [
    {
     "data": {
      "text/plain": "(22810, 5784)"
     },
     "execution_count": 13,
     "metadata": {},
     "output_type": "execute_result"
    }
   ],
   "source": [
    "# run_97 etc. didn't finish, so not exactly 80% but pretty close\n",
    "len(mq_db_G18lab_train)/len(mq_db_G18lab_val)\n",
    "\n",
    "\n",
    "len(mq_db_G18lab_train),len(mq_db_G18lab_val)"
   ],
   "metadata": {
    "collapsed": false,
    "pycharm": {
     "name": "#%%\n"
    }
   }
  },
  {
   "cell_type": "code",
   "execution_count": 383,
   "outputs": [],
   "source": [
    "# with open('mqdb_GAP18labelled/mqdb_GAP18labelled_train.cfg', 'w') as f:\n",
    "#     write_cfg_db(f, mq_db_G18lab_train, energy_name='gap18_energy', force_name='gap18_force', virial_name='gap18_virial')"
   ],
   "metadata": {
    "collapsed": false,
    "pycharm": {
     "name": "#%%\n"
    }
   }
  },
  {
   "cell_type": "code",
   "execution_count": 384,
   "outputs": [],
   "source": [
    "# with open('mqdb_GAP18labelled/mqdb_GAP18labelled_validate.cfg', 'w') as f:\n",
    "#     write_cfg_db(f, mq_db_G18lab_val, energy_name='gap18_energy', force_name='gap18_force', virial_name='gap18_virial')"
   ],
   "metadata": {
    "collapsed": false,
    "pycharm": {
     "name": "#%%\n"
    }
   }
  },
  {
   "cell_type": "code",
   "execution_count": 385,
   "outputs": [],
   "source": [
    "GAP18_mqdb_train = GAP_18_db + mq_db_G18lab_train"
   ],
   "metadata": {
    "collapsed": false,
    "pycharm": {
     "name": "#%%\n"
    }
   }
  },
  {
   "cell_type": "code",
   "execution_count": 386,
   "outputs": [
    {
     "data": {
      "text/plain": "25285"
     },
     "execution_count": 386,
     "metadata": {},
     "output_type": "execute_result"
    }
   ],
   "source": [
    "len(GAP18_mqdb_train)\n"
   ],
   "metadata": {
    "collapsed": false,
    "pycharm": {
     "name": "#%%\n"
    }
   }
  },
  {
   "cell_type": "code",
   "execution_count": 388,
   "outputs": [],
   "source": [
    "# with open('mqdb_GAP18labelled/GAP18_mqdb_GAP18labelled_train.cfg', 'w') as f:\n",
    "#     write_cfg_db(f, GAP18_mqdb_train, energy_name='gap18_energy', force_name='gap18_force', virial_name='gap18_virial')\n"
   ],
   "metadata": {
    "collapsed": false,
    "pycharm": {
     "name": "#%%\n"
    }
   }
  },
  {
   "cell_type": "markdown",
   "source": [
    "## Generate GAP_labelled crystal structures from the MP\n",
    "Free us from dependence on the GAP-18 database"
   ],
   "metadata": {
    "collapsed": false,
    "pycharm": {
     "name": "#%% md\n"
    }
   }
  },
  {
   "cell_type": "code",
   "execution_count": 14,
   "outputs": [],
   "source": [
    "with mp.MPRester(\"v0JVgKLlpTXKEhiKeDIC\") as m:\n",
    "    results = m.query(criteria={\"pretty_formula\":'Si'},\n",
    "                            properties=[\"exp.tags\", \"icsd_ids\", \"spacegroup\",\n",
    "                                        \"task_id\", \"density\", \"final_structure\",\n",
    "                                        \"e_above_hull\", \"energy\", \"energy_per_atom\"])"
   ],
   "metadata": {
    "collapsed": false,
    "pycharm": {
     "name": "#%%\n"
    }
   }
  },
  {
   "cell_type": "code",
   "execution_count": 15,
   "outputs": [],
   "source": [
    "mp_xtals = [pase.AseAtomsAdaptor().get_atoms(\n",
    "            SpacegroupAnalyzer(i['final_structure']).get_conventional_standard_structure())\n",
    "            for i in results]"
   ],
   "metadata": {
    "collapsed": false,
    "pycharm": {
     "name": "#%%\n"
    }
   }
  },
  {
   "cell_type": "code",
   "execution_count": 16,
   "outputs": [],
   "source": [
    "def get_supercell_factor(at, target_size=64):\n",
    "    f = np.ceil((target_size/len(at))**(1/3))\n",
    "    #print('supercell factor: %f leads to %f atoms' % (f, len(at)*f**3))\n",
    "    return f"
   ],
   "metadata": {
    "collapsed": false,
    "pycharm": {
     "name": "#%%\n"
    }
   }
  },
  {
   "cell_type": "code",
   "execution_count": 25,
   "outputs": [
    {
     "name": "stderr",
     "output_type": "stream",
     "text": [
      "/home/joe/ase/ase/utils/__init__.py:41: FutureWarning: Please use atoms.cell.cellpar() instead\n",
      "  warnings.warn(warning)\n"
     ]
    }
   ],
   "source": [
    "# ncopies = 50\n",
    "ncopies = 10\n",
    "supers = [[] for i in results]\n",
    "for i, val in enumerate(mp_xtals):\n",
    "    for j in range(ncopies):\n",
    "        s = build.supercells.make_supercell(\n",
    "                val, get_supercell_factor(val)*np.identity(3))\n",
    "        s.rattle(0.01) # randomise the positions slightly\n",
    "        s.set_cell(s.get_cell_lengths_and_angles() * np.concatenate([normal(1, 0.03, (3)), normal(1, 0.01, (3))]),\n",
    "                 scale_atoms=True) # randomise lattice vectors\n",
    "        s.info['config_type'] = results[i]['task_id']\n",
    "        supers[i].append(s)"
   ],
   "metadata": {
    "collapsed": false,
    "pycharm": {
     "name": "#%%\n"
    }
   }
  },
  {
   "cell_type": "code",
   "execution_count": 406,
   "outputs": [
    {
     "data": {
      "text/plain": "272200"
     },
     "execution_count": 406,
     "metadata": {},
     "output_type": "execute_result"
    }
   ],
   "source": [
    "sum([len(i) for i in flatten(supers)]), sum([len(i) for i in mq_db_G18lab_train])"
   ],
   "metadata": {
    "collapsed": false,
    "pycharm": {
     "name": "#%%\n"
    }
   }
  },
  {
   "cell_type": "code",
   "execution_count": 31,
   "outputs": [],
   "source": [
    "# need to label with GAP-18 now\n",
    "with open('mp_mq_db_GAP18labelled/mp_db_train_test.xyz', 'w') as f:\n",
    "    write_xyz(f, flatten(supers[:5]))"
   ],
   "metadata": {
    "collapsed": false,
    "pycharm": {
     "name": "#%%\n"
    }
   }
  },
  {
   "cell_type": "code",
   "execution_count": 34,
   "outputs": [],
   "source": [
    "# with open('mp_mq_db_GAP18labelled/mp_db_train_test.cfg', 'w') as f:\n",
    "#     write_cfg_db(f, mp_db_GAP18labelled_train[:5], energy_name='gap18_energy', force_name='gap18_force', virial_name='gap18_virial')"
   ],
   "metadata": {
    "collapsed": false,
    "pycharm": {
     "name": "#%%\n"
    }
   }
  },
  {
   "cell_type": "code",
   "execution_count": 26,
   "outputs": [],
   "source": [
    "with open('mp_mq_db_GAP18labelled/mp_db_validate.xyz', 'w') as f:\n",
    "    write_xyz(f, flatten(supers))"
   ],
   "metadata": {
    "collapsed": false,
    "pycharm": {
     "name": "#%%\n"
    }
   }
  },
  {
   "cell_type": "code",
   "execution_count": 27,
   "outputs": [],
   "source": [
    "with open('mp_mq_db_GAP18labelled/mp_db_GAP18labelled_train.xyz', 'r') as f:\n",
    "    mp_db_GAP18labelled_train = list(read_xyz(f, index=slice(0,None)))"
   ],
   "metadata": {
    "collapsed": false,
    "pycharm": {
     "name": "#%%\n"
    }
   }
  },
  {
   "cell_type": "code",
   "execution_count": null,
   "outputs": [],
   "source": [
    "with open('mp_mq_db_GAP18labelled/mp_db_GAP18labelled_validate.xyz', 'r') as f:\n",
    "    mp_db_GAP18labelled_val = list(read_xyz(f, index=slice(0,None)))"
   ],
   "metadata": {
    "collapsed": false,
    "pycharm": {
     "name": "#%%\n"
    }
   }
  },
  {
   "cell_type": "code",
   "execution_count": 28,
   "outputs": [],
   "source": [
    "for i in mp_db_GAP18labelled_train:\n",
    "    i.info['gap18_energy'] = i.info.pop('energy')\n",
    "    i.info['gap18_virial'] = i.info.pop('virial')\n",
    "    i.arrays['gap18_force'] = i.arrays.pop('force')\n"
   ],
   "metadata": {
    "collapsed": false,
    "pycharm": {
     "name": "#%%\n"
    }
   }
  },
  {
   "cell_type": "code",
   "execution_count": 29,
   "outputs": [],
   "source": [
    "mp_mq_db_GAP18labelled_train = mq_db_G18lab_train + mp_db_GAP18labelled_train"
   ],
   "metadata": {
    "collapsed": false,
    "pycharm": {
     "name": "#%%\n"
    }
   }
  },
  {
   "cell_type": "code",
   "execution_count": 30,
   "outputs": [],
   "source": [
    "with open('mp_mq_db_GAP18labelled/mp_mq_db_GAP18labelled_train.cfg', 'w') as f:\n",
    "    write_cfg_db(f, mp_mq_db_GAP18labelled_train, energy_name='gap18_energy', force_name='gap18_force', virial_name='gap18_virial')"
   ],
   "metadata": {
    "collapsed": false,
    "pycharm": {
     "name": "#%%\n"
    }
   }
  },
  {
   "cell_type": "markdown",
   "source": [
    "# Big melt quench development\n"
   ],
   "metadata": {
    "collapsed": false,
    "pycharm": {
     "name": "#%% md\n"
    }
   }
  },
  {
   "cell_type": "code",
   "execution_count": 37,
   "outputs": [],
   "source": [
    "# amo_100k = read_xyz('/home/joe/Documents/Ge_od/GAP_to_MTP/pressure_quench_devel/aSi_100k_relaxed_amorphous.xyz')\n",
    "amo_1k = read_cfg('/home/joe/Documents/Ge_od/GAP_to_MTP/pressure_quench_devel/dump_npt_Si_mtp.240000.cfg')"
   ],
   "metadata": {
    "collapsed": false,
    "pycharm": {
     "name": "#%%\n"
    }
   }
  },
  {
   "cell_type": "code",
   "execution_count": null,
   "outputs": [],
   "source": [],
   "metadata": {
    "collapsed": false,
    "pycharm": {
     "name": "#%%\n"
    }
   }
  },
  {
   "cell_type": "markdown",
   "source": [
    "# Validation of indirect MTP\n",
    "compare as far as possible to original tests on GAP-18 from paper\n",
    "* ring stats\n",
    "* structure factors\n",
    "* vacancy formation energies"
   ],
   "metadata": {
    "collapsed": false,
    "pycharm": {
     "name": "#%% md\n"
    }
   }
  },
  {
   "cell_type": "code",
   "execution_count": 80,
   "outputs": [],
   "source": [
    "GAP_18_md = MD_run('/home/joe/Documents/Ge_od/MD_runs/Si_litDB_full_4000/run_1000_001', label='GAP-18')"
   ],
   "metadata": {
    "collapsed": false,
    "pycharm": {
     "name": "#%%\n"
    }
   }
  },
  {
   "cell_type": "code",
   "execution_count": 10,
   "outputs": [],
   "source": [
    "\n",
    "MTP_dir = '/home/joe/Documents/Ge_od/GAP_to_MTP/MTPs/'\n",
    "MTP_md_dir = '/home/joe/Documents/Ge_od/GAP_to_MTP/MTP_mds/'"
   ],
   "metadata": {
    "collapsed": false,
    "pycharm": {
     "name": "#%%\n"
    }
   }
  },
  {
   "cell_type": "code",
   "execution_count": 15,
   "outputs": [],
   "source": [
    "\n",
    "MTPs = [MTP(os.path.join(MTP_dir, 'u16_min1.5/GAP_18_db_GAPlabelled.mtp'), potential_name='MTP_u16_m1.5'),\n",
    "        MTP(os.path.join(MTP_dir, 'u20_m1.5_GAP18db.mtp'), potential_name='MTP_u20_m1.5'),\n",
    "        MTP(os.path.join(MTP_dir, 'directMTP_u16m1.5.mtp'), potential_name='DFT-MTP_u16_m1.5'),\n",
    "        MTP(os.path.join(MTP_dir, 'directMTP_u20m1.5.mtp'), potential_name='DFT-MTPu20_m1.5')\n",
    "        # MTP(os.path.join(MTP_dir, 'u16_min1.5/GAP_18_db_GAPlabelled.mtp'), potential_name='MTP u26_m1.5'),\n",
    "        ]\n",
    "\n",
    "calc_flag = [1, 1, 1, 1]"
   ],
   "metadata": {
    "collapsed": false,
    "pycharm": {
     "name": "#%%\n"
    }
   }
  },
  {
   "cell_type": "code",
   "execution_count": 160,
   "outputs": [
    {
     "data": {
      "text/plain": "['u16_m1.5_run_1000',\n 'direct_u16_m1.5_run_1000',\n 'u20_m1.5_run_1000',\n 'direct_u20_m1.5_run_1000']"
     },
     "execution_count": 160,
     "metadata": {},
     "output_type": "execute_result"
    }
   ],
   "source": [
    "os.listdir(MTP_md_dir)"
   ],
   "metadata": {
    "collapsed": false,
    "pycharm": {
     "name": "#%%\n"
    }
   }
  },
  {
   "cell_type": "code",
   "execution_count": 158,
   "outputs": [],
   "source": [
    "MTP_md = [MD_run(os.path.join(MTP_md_dir, i), label=i[:-9]) for i in os.listdir(MTP_md_dir)]"
   ],
   "metadata": {
    "collapsed": false,
    "pycharm": {
     "name": "#%%\n"
    }
   }
  },
  {
   "cell_type": "markdown",
   "source": [
    "## RMSEs calculation"
   ],
   "metadata": {
    "collapsed": false,
    "pycharm": {
     "name": "#%% md\n"
    }
   }
  },
  {
   "cell_type": "code",
   "execution_count": 96,
   "outputs": [
    {
     "name": "stdout",
     "output_type": "stream",
     "text": [
      "Starting MTP 0\n",
      "Starting MTP 1\n",
      "Starting MTP 2\n",
      "Starting MTP 3\n"
     ]
    }
   ],
   "source": [
    "db = myDB\n",
    "# db = GAP_18_db\n",
    "for j, M in enumerate(MTPs):\n",
    "    print('Starting MTP {}'.format(j))\n",
    "    if calc_flag[j]:\n",
    "        for i, val in enumerate(db):\n",
    "\n",
    "            M.calculate(val, properties=['energy', 'forces', 'stress'])\n",
    "            # val.set_calculator(MTPs[0])\n",
    "            # print(val.get_potential_energy())\n",
    "            # print(MTPs[0].results)\n",
    "            val.info['{}_energy'.format(M.name)] = M.results['energy']\n",
    "            val.info['{}_virial'.format(M.name)] = M.results['stress']\n",
    "            # if np.shape((MTPs[0].results['forces']))[1] != 3:\n",
    "            #     print(i,val, len(i), MTPs[0].results['forces'])\n",
    "            val.arrays['{}_force'.format(M.name)] = M.results['forces']\n",
    "            val.set_calculator(None)\n",
    "            M.results = {}"
   ],
   "metadata": {
    "collapsed": false,
    "pycharm": {
     "name": "#%%\n"
    }
   }
  },
  {
   "cell_type": "code",
   "execution_count": 43,
   "outputs": [
    {
     "data": {
      "text/plain": "array([[0., 0., 0.]])"
     },
     "execution_count": 43,
     "metadata": {},
     "output_type": "execute_result"
    }
   ],
   "source": [
    "GAP_18_db[0].arrays['gap18_force']\n",
    "#sum([len(i) for i in GAP_18_db])*3\n",
    "#np.average(flatten([i.get_atomic_numbers() for i in GAP_18_db]))"
   ],
   "metadata": {
    "collapsed": false,
    "pycharm": {
     "name": "#%%\n"
    }
   }
  },
  {
   "cell_type": "code",
   "execution_count": 45,
   "outputs": [],
   "source": [
    "# flattened data for DFT, GAP-18 and MTPs applied to the GAP-18 db\n",
    "GAP_18_EF = [np.array([i.info['{}_energy'.format('gap18')]/len(i) for i in GAP_18_db]),\n",
    "                  np.array(flatten([i.arrays['{}_force'.format('gap18')].flatten() for i in GAP_18_db]))]\n",
    "                  #np.array(flatten([i.arrays['gap18_virial'].flatten() for i in GAP_18_db]))]\n",
    "MTP_EF_GAP_18 = [[np.array([i.info['{}_energy'.format(j.name)]/len(i) for i in GAP_18_db]),\n",
    "                  np.array(flatten([i.arrays['{}_force'.format(j.name)].flatten() for i in GAP_18_db]))]\n",
    "                  #np.array(flatten([i.arrays['mtpu16_virial'].flatten() for i in GAP_18_db]))]\n",
    "                  for j in MTPs]\n",
    "GAP_18_DFT = [np.array([i.info['dft_energy']/len(i) for i in GAP_18_db]),\n",
    "              np.array(flatten([i.arrays['dft_force'].flatten() for i in GAP_18_db]))\n",
    "              #np.array(flatten([i.arrays['dft_virial'].flatten() for i in GAP_18_db]))\n",
    "              ]"
   ],
   "metadata": {
    "collapsed": false,
    "pycharm": {
     "name": "#%%\n"
    }
   }
  },
  {
   "cell_type": "code",
   "execution_count": 103,
   "outputs": [],
   "source": [
    "# flattened data for DFT, GAP-18 and MTPs applied to myDB\n",
    "GAP_18_EF_myDB = [np.array([i.info['{}_energy'.format('gap18')]/len(i) for i in myDB]),\n",
    "                  np.array(flatten([i.arrays['{}_force'.format('gap18')].flatten() for i in myDB]))]\n",
    "                  #np.array(flatten([i.arrays['gap18_virial'].flatten() for i in myDB]))]\n",
    "\n",
    "MTP_EF_myDB = [[np.array([i.info['{}_energy'.format(j.name)]/len(i) for i in myDB]),\n",
    "                  np.array(flatten([i.arrays['{}_force'.format(j.name)].flatten() for i in myDB]))]\n",
    "                  #np.array(flatten([i.arrays['mtpu16_virial'].flatten() for i in myDB]))]\n",
    "                  for j in MTPs]\n",
    "myDB_DFT = [np.array([i.info['dft_energy']/len(i) for i in myDB]),\n",
    "              np.array(flatten([i.arrays['dft_forces'].flatten() for i in myDB]))\n",
    "              #np.array(flatten([i.arrays['dft_virial'].flatten() for i in myDB]))\n",
    "              ]"
   ],
   "metadata": {
    "collapsed": false,
    "pycharm": {
     "name": "#%%\n"
    }
   }
  },
  {
   "cell_type": "code",
   "execution_count": null,
   "outputs": [],
   "source": [
    "print(len(MTP_EF_GAP_18[0][1]))\n",
    "len(GAP_18_DFT[1])"
   ],
   "metadata": {
    "collapsed": false,
    "pycharm": {
     "name": "#%%\n"
    }
   }
  },
  {
   "cell_type": "code",
   "execution_count": 23,
   "outputs": [],
   "source": [
    "# rmses for the GAP-18 db\n",
    "rmses_MTP_DFT = [[rms_dict(i[j], GAP_18_DFT[j]) for j in range(len(GAP_18_DFT))] for i in MTP_EF_GAP_18]\n",
    "rmses_MTP_GAP18 = [[rms_dict(i[j], GAP_18_EF[j]) for j in range(len(GAP_18_EF))] for i in MTP_EF_GAP_18]\n",
    "rmses_GAP_DFT = [rms_dict(GAP_18_EF[j], GAP_18_DFT[j]) for j in range(len(GAP_18_DFT))]"
   ],
   "metadata": {
    "collapsed": false,
    "pycharm": {
     "name": "#%%\n"
    }
   }
  },
  {
   "cell_type": "code",
   "execution_count": 61,
   "outputs": [
    {
     "data": {
      "text/plain": "[[{'rmse': 0.01431531603882564, 'std': 0.0007842339035365852},\n  {'rmse': 0.116861694787275, 'std': 0.041693436526308504}],\n [{'rmse': 0.011314017698325077, 'std': 0.0013735048739710665},\n  {'rmse': 0.10820418707811932, 'std': 0.03705364891935749}],\n [{'rmse': 0.014701756311867025, 'std': 0.003645783050029634},\n  {'rmse': 0.11455222066342925, 'std': 0.03813435082099724}],\n [{'rmse': 0.01256804590278248, 'std': 0.0032713525437720096},\n  {'rmse': 0.1020734446644738, 'std': 0.03148668156771158}]]"
     },
     "execution_count": 61,
     "metadata": {},
     "output_type": "execute_result"
    }
   ],
   "source": [
    "rmses_MTP_DFT"
   ],
   "metadata": {
    "collapsed": false,
    "pycharm": {
     "name": "#%%\n"
    }
   }
  },
  {
   "cell_type": "code",
   "execution_count": 154,
   "outputs": [
    {
     "data": {
      "text/plain": "[[{'rmse': 0.014173708525130373, 'std': 0.0007823231675453424},\n  {'rmse': 0.10000277283359119, 'std': 0.0346550725697757}],\n [{'rmse': 0.011148324720189725, 'std': 0.0013736530149583543},\n  {'rmse': 0.08996500756969762, 'std': 0.029891745296502525}],\n [{'rmse': 0.014554873217112511, 'std': 0.003643946353568901},\n  {'rmse': 0.09985604288424686, 'std': 0.03212823303729665}],\n [{'rmse': 0.012440956546404498, 'std': 0.0032711616518137},\n  {'rmse': 0.0891640787040211, 'std': 0.02665302799103702}]]"
     },
     "execution_count": 154,
     "metadata": {},
     "output_type": "execute_result"
    }
   ],
   "source": [
    "rmses_MTP_GAP18"
   ],
   "metadata": {
    "collapsed": false,
    "pycharm": {
     "name": "#%%\n"
    }
   }
  },
  {
   "cell_type": "code",
   "execution_count": 119,
   "outputs": [
    {
     "data": {
      "text/plain": "[{'rmse': 0.0013636998188672974, 'std': 7.534670524342962e-06},\n {'rmse': 0.08249758349378022, 'std': 0.021632824550166654}]"
     },
     "execution_count": 119,
     "metadata": {},
     "output_type": "execute_result"
    }
   ],
   "source": [
    "rmses_GAP_DFT"
   ],
   "metadata": {
    "collapsed": false,
    "pycharm": {
     "name": "#%%\n"
    }
   }
  },
  {
   "cell_type": "code",
   "execution_count": null,
   "outputs": [],
   "source": [
    "delX = [myDB[0].info['dft_energy'] - GAP_18_db[0].info['dft_energy'],\n",
    "        0,\n",
    "        0] # virial"
   ],
   "metadata": {
    "collapsed": false,
    "pycharm": {
     "name": "#%%\n"
    }
   }
  },
  {
   "cell_type": "code",
   "execution_count": 227,
   "outputs": [],
   "source": [
    "# rmses for myDB as validation set, need to adjust for different level of DFT (or just compare forces)\n",
    "rmses_MTP_DFT_myDB = [[rms_dict(i[j], myDB_DFT[j] - delX[j]) for j in range(len(myDB_DFT))] for i in MTP_EF_myDB]\n",
    "rmses_MTP_GAP18_myDB = [[rms_dict(i[j], GAP_18_EF_myDB[j]) for j in range(len(GAP_18_EF_myDB))] for i in MTP_EF_myDB]\n",
    "rmses_GAP_DFT_myDB = [rms_dict(GAP_18_EF_myDB[j], myDB_DFT[j] - delX[j]) for j in range(len(myDB_DFT))]"
   ],
   "metadata": {
    "collapsed": false,
    "pycharm": {
     "name": "#%%\n"
    }
   }
  },
  {
   "cell_type": "code",
   "execution_count": 143,
   "outputs": [
    {
     "data": {
      "text/plain": "[[{'rmse': 1.0666095527678559, 'std': 0.08824606705574031},\n  {'rmse': 0.19672452176118707, 'std': 0.061677762601707695}],\n [{'rmse': 1.0682300853258375, 'std': 0.08466745926327637},\n  {'rmse': 0.1883584434347725, 'std': 0.05803667137927419}],\n [{'rmse': 1.0657291108287188, 'std': 0.07936194847880054},\n  {'rmse': 0.1897491460693682, 'std': 0.057208465480249354}],\n [{'rmse': 1.0705362163764427, 'std': 0.08014886288627163},\n  {'rmse': 0.17832576845391354, 'std': 0.05069723938051409}]]"
     },
     "execution_count": 143,
     "metadata": {},
     "output_type": "execute_result"
    }
   ],
   "source": [
    "rmses_MTP_DFT_myDB"
   ],
   "metadata": {
    "collapsed": false,
    "pycharm": {
     "name": "#%%\n"
    }
   }
  },
  {
   "cell_type": "code",
   "execution_count": 144,
   "outputs": [
    {
     "data": {
      "text/plain": "[[{'rmse': 0.008780386600681596, 'std': 0.00015009423198836868},\n  {'rmse': 0.18264027593785806, 'std': 0.06186186868259158}],\n [{'rmse': 0.016900748471951863, 'std': 0.003917272675414823},\n  {'rmse': 0.16786012249495844, 'std': 0.052324225336940186}],\n [{'rmse': 0.027017054367622525, 'std': 0.010699970051202613},\n  {'rmse': 0.1892644340932887, 'std': 0.06566223659353264}],\n [{'rmse': 0.025106353338602724, 'std': 0.009653668480635156},\n  {'rmse': 0.18497434481807204, 'std': 0.06088723776933783}]]"
     },
     "execution_count": 144,
     "metadata": {},
     "output_type": "execute_result"
    }
   ],
   "source": [
    "rmses_MTP_GAP18_myDB"
   ],
   "metadata": {
    "collapsed": false,
    "pycharm": {
     "name": "#%%\n"
    }
   }
  },
  {
   "cell_type": "code",
   "execution_count": 145,
   "outputs": [
    {
     "data": {
      "text/plain": "[{'rmse': 1.0689098443124454, 'std': 0.08353622878528341},\n {'rmse': 0.18521012316168034, 'std': 0.05465406309609965}]"
     },
     "execution_count": 145,
     "metadata": {},
     "output_type": "execute_result"
    }
   ],
   "source": [
    "rmses_GAP_DFT_myDB"
   ],
   "metadata": {
    "collapsed": false,
    "pycharm": {
     "name": "#%%\n"
    }
   }
  },
  {
   "cell_type": "markdown",
   "source": [
    "## Plotting the RMSES\n",
    "need to think about the best way to present this"
   ],
   "metadata": {
    "collapsed": false,
    "pycharm": {
     "name": "#%% md\n"
    }
   }
  },
  {
   "cell_type": "code",
   "execution_count": 193,
   "outputs": [
    {
     "data": {
      "text/plain": "<Figure size 576x288 with 2 Axes>",
      "image/png": "[encoded data removed]"
     },
     "metadata": {
      "needs_background": "light"
     },
     "output_type": "display_data"
    }
   ],
   "source": [
    "TS = [16, 20, 24]\n",
    "# showing the RMSEs for different tensor sizes, compared to DFT, GAP-18 prediction and direct MTP\n",
    "\n",
    "fig, axs = plt.subplots(1,2, figsize=(8, 4))\n",
    "fig.subplots_adjust(hspace=0.05)\n",
    "axs[0].errorbar(TS[:2], np.array([i[0]['rmse'] for i in rmses_MTP_GAP18[:2]])*1000,\n",
    "                yerr=None, fmt='s--', color='r', markersize=6, label='GAP-MTP v. GAP-18 on GAP-18', zorder=5)\n",
    "axs[0].errorbar(TS[:2], np.array([i[0]['rmse'] for i in rmses_MTP_GAP18[2:]])*1000,\n",
    "                yerr=None, fmt='s--', color='Indigo', markersize=6, label='DFT-MTP v. GAP-18 on myDB', zorder=5)\n",
    "\n",
    "axs[0].errorbar(TS[:2], np.array([i[0]['rmse'] for i in rmses_MTP_GAP18_myDB[:2]])*1000,\n",
    "                yerr=None, fmt='^--', color='r', markersize=6, label='GAP-MTP v. GAP-18 on myDB', zorder=5)\n",
    "\n",
    "axs[0].errorbar(TS[:2], np.array([i[0]['rmse'] for i in rmses_MTP_GAP18_myDB[2:]])*1000,\n",
    "                yerr=None, fmt='^--', color='Indigo', markersize=6, label='DFT-MTP v. GAP-18 on myDB', zorder=5)\n",
    "axs[0].set(xlabel='MTP setting', ylabel='Energy RMSE / meV')\n",
    "\n",
    "\n",
    "\n",
    "\n",
    "axs[1].set(xlabel='MTP setting', ylabel='Force RMSE / $\\mathrm{eV\\AA^{-1}}$')\n",
    "\n",
    "axs[1].errorbar(TS[:2], np.array([i[1]['rmse'] for i in rmses_MTP_GAP18[:2]]),\n",
    "                yerr=None, fmt='s--', color='r', markersize=6, label='GAP-MTP on GAP-18_DB', zorder=5)\n",
    "axs[1].errorbar(TS[:2], np.array([i[1]['rmse'] for i in rmses_MTP_GAP18[2:]]),\n",
    "                yerr=None, fmt='s--', color='Indigo', markersize=6, label='DFT-MTP on GAP-18_DB', zorder=5)\n",
    "axs[1].errorbar(TS[:2], np.array([i[1]['rmse'] for i in rmses_MTP_GAP18_myDB[:2]]),\n",
    "                yerr=None, fmt='^--', color='r', markersize=6, label='GAP-MTP on myDB', zorder=5)\n",
    "axs[1].errorbar(TS[:2], np.array([i[1]['rmse'] for i in rmses_MTP_GAP18_myDB[2:]]),\n",
    "                yerr=None, fmt='^--', color='Indigo', markersize=6, label='DFT-MTP on myDB', zorder=5)\n",
    "\n",
    "axs[0].tick_params(axis=\"both\",direction=\"in\", left=\"off\",labelleft=\"on\")\n",
    "axs[1].tick_params(axis=\"both\",direction=\"in\", left=\"off\",labelleft=\"on\")\n",
    "axs[0].xaxis.labelpad = 7\n",
    "axs[1].legend(title='all rms v. GAP-18 pot')\n",
    "#axs[1].legend(bbox_to_anchor=(0.6,1.05))\n",
    "# axs[1].xaxis.labelpad = 20\n",
    "\n",
    "plt.tight_layout()\n",
    "fig.savefig('/home/joe/Documents/Ge_od/GAP_to_MTP/volker_figures/rmse_vGAP18.png', dpi=100, bbox_inches='tight')"
   ],
   "metadata": {
    "collapsed": false,
    "pycharm": {
     "name": "#%%\n"
    }
   }
  },
  {
   "cell_type": "code",
   "execution_count": 181,
   "outputs": [
    {
     "name": "stdout",
     "output_type": "stream",
     "text": [
      "{'rmse': 0.008780386600681596, 'std': 0.00015009423198836868}\n"
     ]
    },
    {
     "data": {
      "text/plain": "{'rmse': 0.016900748471951863, 'std': 0.003917272675414823}"
     },
     "execution_count": 181,
     "metadata": {},
     "output_type": "execute_result"
    }
   ],
   "source": [
    "print(rms_dict(MTP_EF_myDB[0][0], GAP_18_EF_myDB[0]))\n",
    "rms_dict(GAP_18_EF_myDB[0], MTP_EF_myDB[1][0])\n"
   ],
   "metadata": {
    "collapsed": false,
    "pycharm": {
     "name": "#%%\n"
    }
   }
  },
  {
   "cell_type": "code",
   "execution_count": 176,
   "outputs": [
    {
     "data": {
      "text/plain": "<Figure size 432x288 with 1 Axes>",
      "image/png": "[encoded data removed]"
     },
     "metadata": {
      "needs_background": "light"
     },
     "output_type": "display_data"
    }
   ],
   "source": [
    "fig, axs = plt.subplots()\n",
    "axs.scatter(GAP_18_EF_myDB[0], MTP_EF_myDB[0][0], s=2, label='MTP-16', color='g', zorder=2)\n",
    "axs.scatter(GAP_18_EF_myDB[0], MTP_EF_myDB[1][0], s=2, label='MTP-20', color='b')\n",
    "# axs.plot(x:=np.linspace(-168.8,-168.0), x, color='k', linewidth=0.5)\n",
    "axs.plot(x:=np.linspace(-163,-162.2), x, color='k', linewidth=0.5)\n",
    "axs.set(xlim=(-163,-162.2), ylim=(-163,-162.2))\n",
    "axs.legend(title='GAP-MTP v. GAP-18 on myDB', markerscale=3)\n",
    "axs.set(xlabel='GAP-18 Energy  / $\\mathrm{eV\\AA^{-1}}$', ylabel='MTP prediction / $\\mathrm{eV\\AA^{-1}}$')\n",
    "axs.tick_params(axis=\"both\",direction=\"in\", left=\"off\",labelleft=\"on\")\n",
    "plt.tight_layout()"
   ],
   "metadata": {
    "collapsed": false,
    "pycharm": {
     "name": "#%%\n"
    }
   }
  },
  {
   "cell_type": "code",
   "execution_count": 216,
   "outputs": [
    {
     "data": {
      "text/plain": "<Figure size 576x288 with 2 Axes>",
      "image/png": "[encoded data removed]"
     },
     "metadata": {
      "needs_background": "light"
     },
     "output_type": "display_data"
    }
   ],
   "source": [
    "fig, axs = plt.subplots(1,2, figsize=(8, 4))\n",
    "fig.subplots_adjust(hspace=0.05)\n",
    "\n",
    "# axs[0].errorbar(TS[:2], np.array([i[0]['rmse'] for i in rmses_GAP_DFT])*1000,\n",
    "#                 yerr=None, fmt='o--', color='k', markersize=6, label='GAP-18 v. DFT', zorder=5)\n",
    "#\n",
    "axs[0].errorbar(TS[:2], np.array([i[0]['rmse'] for i in rmses_MTP_DFT[:2]])*1000,\n",
    "                yerr=None, fmt='o--', color='r', markersize=6, label='GAP-MTP v. DFT', zorder=5)\n",
    "axs[0].errorbar(TS[:2], np.array([i[0]['rmse'] for i in rmses_MTP_DFT[2:]])*1000,\n",
    "                yerr=None, fmt='o--', color='Indigo', markersize=6, label='DFT-MTP v. DFT')\n",
    "\n",
    "axs[0].errorbar(TS[:2], np.array([i[0]['rmse'] for i in rmses_MTP_GAP18[:2]])*1000,\n",
    "                yerr=None, fmt='s--', color='r', markersize=6, label='GAP-MTP v. GAP-18', zorder=5)\n",
    "axs[0].errorbar(TS[:2], np.array([i[0]['rmse'] for i in rmses_MTP_GAP18[2:]])*1000,\n",
    "                yerr=None, fmt='s--', color='Indigo', markersize=6, label='DFT-MTP v. GAP-18', zorder=5)\n",
    "\n",
    "\n",
    "axs[1].errorbar(TS[:2], np.array([i[1]['rmse'] for i in rmses_MTP_DFT[:2]]),\n",
    "                yerr=None, fmt='o--', color='r', markersize=6, label='GAP-MTP v. DFT', zorder=5)\n",
    "axs[1].errorbar(TS[:2], np.array([i[1]['rmse'] for i in rmses_MTP_DFT[2:]]),\n",
    "                yerr=None, fmt='o--', color='Indigo', markersize=6, label='DFT-MTP v. DFT')\n",
    "\n",
    "axs[1].errorbar(TS[:2], np.array([i[1]['rmse'] for i in rmses_MTP_GAP18[:2]]),\n",
    "                yerr=None, fmt='s--', color='r', markersize=6, label='GAP-MTP v. GAP-18', zorder=5)\n",
    "axs[1].errorbar(TS[:2], np.array([i[1]['rmse'] for i in rmses_MTP_GAP18[2:]]),\n",
    "                yerr=None, fmt='s--', color='Indigo', markersize=6, label='DFT-MTP v. GAP-18', zorder=5)\n",
    "\n",
    "\n",
    "axs[0].set(xlabel='MTP setting', ylabel='Energy RMSE / meV')\n",
    "axs[1].set(xlabel='MTP setting', ylabel='Force RMSE / $\\mathrm{eV\\AA^{-1}}$')\n",
    "axs[0].tick_params(axis=\"both\",direction=\"in\", left=\"off\",labelleft=\"on\")\n",
    "axs[1].tick_params(axis=\"both\",direction=\"in\", left=\"off\",labelleft=\"on\")\n",
    "# axs[0].axhline(rmses_GAP_DFT[0]['rmse'],  color='k')\n",
    "plt.tight_layout()\n",
    "axs[1].legend(title='All on GAP-18 DB', bbox_to_anchor=(1.05,0.5))\n",
    "# axs[1].xaxis.labelpad = 20\n",
    "fig.savefig('/home/joe/Documents/Ge_od/GAP_to_MTP/volker_figures/rmse_vDFT.png', dpi=100, bbox_inches='tight')"
   ],
   "metadata": {
    "collapsed": false,
    "pycharm": {
     "name": "#%%\n"
    }
   }
  },
  {
   "cell_type": "code",
   "execution_count": null,
   "outputs": [],
   "source": [
    "fig, axs = plt.subplots(1,2, figsize=(8, 4))\n",
    "fig.subplots_adjust(hspace=0.05)"
   ],
   "metadata": {
    "collapsed": false,
    "pycharm": {
     "name": "#%%\n"
    }
   }
  },
  {
   "cell_type": "code",
   "execution_count": 161,
   "outputs": [],
   "source": [
    "rs = [ring_statistics(i.df['Configs'][240000], cutoff=2.7) for i in MTP_md]\n",
    "rs = pad_rstats(rs)"
   ],
   "metadata": {
    "collapsed": false,
    "pycharm": {
     "name": "#%%\n"
    }
   }
  },
  {
   "cell_type": "code",
   "execution_count": 81,
   "outputs": [],
   "source": [
    "rs_G18 = ring_statistics(GAP_18_md.df['Configs'][240000], cutoff=2.7)\n",
    "rs_G18 = pad_rstats([rs_G18])"
   ],
   "metadata": {
    "collapsed": false,
    "pycharm": {
     "name": "#%%\n"
    }
   }
  },
  {
   "cell_type": "code",
   "execution_count": 82,
   "outputs": [
    {
     "data": {
      "text/plain": "array([[  0,   0,   0,   6,  33, 421, 697, 512, 198,  49,   9,   2,   0,\n          0]], dtype=int32)"
     },
     "execution_count": 82,
     "metadata": {},
     "output_type": "execute_result"
    }
   ],
   "source": [
    "rs_G18"
   ],
   "metadata": {
    "collapsed": false,
    "pycharm": {
     "name": "#%%\n"
    }
   }
  },
  {
   "cell_type": "code",
   "execution_count": 85,
   "outputs": [
    {
     "data": {
      "text/plain": "(array([ 2,  3,  4,  5,  6,  7,  8,  9, 10, 11, 12, 13]),\n array([  0,   6,  33, 421, 697, 512, 198,  49,   9,   2,   0,   0],\n       dtype=int32))"
     },
     "execution_count": 85,
     "metadata": {},
     "output_type": "execute_result"
    }
   ],
   "source": [
    "np.arange(2, len(rs_G18[0])), rs_G18[0][2:]"
   ],
   "metadata": {
    "collapsed": false,
    "pycharm": {
     "name": "#%%\n"
    }
   }
  },
  {
   "cell_type": "code",
   "execution_count": 217,
   "outputs": [
    {
     "data": {
      "text/plain": "<Figure size 432x288 with 1 Axes>",
      "image/png": "[encoded data removed]"
     },
     "metadata": {
      "needs_background": "light"
     },
     "output_type": "display_data"
    }
   ],
   "source": [
    "order = [0, 2, 1, 3]\n",
    "colors = ['darkred', 'red', 'darkblue', 'slateblue']\n",
    "markers = ['x', '+', 'o', 's']\n",
    "fig, axs = plt.subplots()\n",
    "# colormap = plt.get_cmap('viridis')\n",
    "# colors = [colormap(i) for i in np.linspace(F_reg[0], F_reg[-1], len(F_reg))]\n",
    "for i, val in enumerate(order):\n",
    "    axs.plot(np.arange(2, len(rs[0])), rs[val][2:], label=MTP_md[val].label,\n",
    "    color=colors[i], marker=markers[i])\n",
    "axs.plot(np.arange(2, len(rs_G18[0])), rs_G18[0][2:], label=GAP_18_md.label, marker='^', linestyle='--',\n",
    "         color='k')\n",
    "    # axs.set(xlim=(2,11), ylim=(-5,5))\n",
    "axs.legend()\n",
    "axs.set(xlabel='Ring size', ylabel='Count')\n",
    "axs.tick_params(axis=\"both\",direction=\"in\", left=\"off\",labelleft=\"on\")\n",
    "plt.tight_layout()\n",
    "fig.savefig('/home/joe/Documents/Ge_od/GAP_to_MTP/volker_figures/rstat_4.png', dpi=100, bbox_inches='tight')"
   ],
   "metadata": {
    "collapsed": false,
    "pycharm": {
     "name": "#%%\n"
    }
   }
  },
  {
   "cell_type": "code",
   "execution_count": 246,
   "outputs": [],
   "source": [
    "for i in MTP_md:\n",
    "    i.structure_factors(selection=[i for i in range(30,120)]+[i for i in range(220,240)],\n",
    "                    rings_dir='Sq_'+i.label,\n",
    "                    opts={'Angles':True},\n",
    "                    rings_in={'species':['Si']},\n",
    "                    read_only=True)\n",
    "    l_sel = [i for i in range(90)]\n",
    "    a_sel = [i for i in range(90,110)]\n",
    "    i.bin_fit(s_selection=l_sel, q_selection=[0.5,12], nbins=200)\n",
    "    i.bin_fit(s_selection=a_sel, q_selection=[0.5,12], nbins=200)\n",
    "    i.bin_bond_angle(s_selection=l_sel)\n",
    "    i.bin_bond_angle(s_selection=a_sel)"
   ],
   "metadata": {
    "collapsed": false,
    "pycharm": {
     "name": "#%%\n"
    }
   }
  },
  {
   "cell_type": "code",
   "execution_count": 203,
   "outputs": [],
   "source": [
    "GAP_18_md.structure_factors(selection=[i for i in range(30,120)]+[i for i in range(220,240)],\n",
    "                rings_dir='/home/joe/Documents/Ge_od/MD_runs/Si_litDB_full_4000/Sq_rings_1000_001',\n",
    "                opts={'Angles':True},\n",
    "                rings_in={'species':['Si']},\n",
    "                read_only=True)\n",
    "l_sel = [i for i in range(90)]\n",
    "a_sel = [i for i in range(90,110)]\n",
    "GAP_18_md.bin_fit(s_selection=l_sel, q_selection=[0.5,12])\n",
    "GAP_18_md.bin_fit(s_selection=a_sel, q_selection=[0.5,12])\n",
    "GAP_18_md.bin_bond_angle(s_selection=l_sel)\n",
    "GAP_18_md.bin_bond_angle(s_selection=a_sel)\n"
   ],
   "metadata": {
    "collapsed": false,
    "pycharm": {
     "name": "#%%\n"
    }
   }
  },
  {
   "cell_type": "code",
   "execution_count": 204,
   "outputs": [],
   "source": [
    "aSi_exp_Sq = np.genfromtxt('/home/joe/Documents/Ge_od/paper_data/a-Si_x-ray_Laaziri1999.txt',\n",
    "                          delimiter=', ').T"
   ],
   "metadata": {
    "collapsed": false,
    "pycharm": {
     "name": "#%%\n"
    }
   }
  },
  {
   "cell_type": "code",
   "execution_count": 250,
   "outputs": [
    {
     "data": {
      "text/plain": "<Figure size 432x288 with 1 Axes>",
      "image/png": "[encoded data removed]"
     },
     "metadata": {
      "needs_background": "light"
     },
     "output_type": "display_data"
    }
   ],
   "source": [
    "linestyles = ['-', '--', '-.', ':']\n",
    "fig, axs = plt.subplots()\n",
    "for ct, i in enumerate(order):\n",
    "    axs.errorbar(*MTP_md[i].Sq_x_av[1], yerr=None,\n",
    "                label=MTP_md[i].label, color=colors[ct], linestyle=linestyles[ct])\n",
    "\n",
    "axs.errorbar(*GAP_18_md.Sq_x_av[1], yerr=None,\n",
    "            label=GAP_18_md.label, color='k')\n",
    "axs.plot(*aSi_exp_Sq, color='Gray', linewidth=2, label='Exp. a-Si')\n",
    "axs.legend(bbox_to_anchor=(1, 1.04), loc='upper right')\n",
    "axs.set(xlabel= r'Q / $\\mathrm{{\\AA}}^{-1}$', ylabel='$\\mathrm{S(Q)}$')\n",
    "axs.set(xlim=(1.25,3), ylim=(0,1.9))\n",
    "plt.tight_layout()\n",
    "\n",
    "fig.savefig('/home/joe/Documents/Ge_od/GAP_to_MTP/volker_figures/amo_Sq_4_zoom.png', dpi=100, bbox_inches='tight')"
   ],
   "metadata": {
    "collapsed": false,
    "pycharm": {
     "name": "#%%\n"
    }
   }
  },
  {
   "cell_type": "code",
   "execution_count": 226,
   "outputs": [
    {
     "data": {
      "text/plain": "<Figure size 432x288 with 1 Axes>",
      "image/png": "[encoded data removed]"
     },
     "metadata": {
      "needs_background": "light"
     },
     "output_type": "display_data"
    }
   ],
   "source": [
    "# BADFs\n",
    "fig, axs = plt.subplots()\n",
    "axs.plot(*GAP_18_md.bond_angle_av[0], color='k', linestyle='--')\n",
    "axs.plot(*GAP_18_md.bond_angle_av[1], label=GAP_18_md.label, color='k')\n",
    "for ct, i in enumerate(order):\n",
    "    axs.errorbar(*MTP_md[i].bond_angle_av[0], yerr=None,\n",
    "                 color=colors[ct])\n",
    "    axs.errorbar(*MTP_md[i].bond_angle_av[1], yerr=None,\n",
    "                label=MTP_md[i].label, color=colors[ct])\n",
    "\n",
    "axs.legend(title='- amo\\n-- liquid')\n",
    "axs.set(xlabel='Angle / deg', ylabel='')\n",
    "fig.savefig('/home/joe/Documents/Ge_od/GAP_to_MTP/volker_figures/BADF_4.png', dpi=100, bbox_inches='tight')"
   ],
   "metadata": {
    "collapsed": false,
    "pycharm": {
     "name": "#%%\n"
    }
   }
  },
  {
   "cell_type": "code",
   "execution_count": null,
   "outputs": [],
   "source": [],
   "metadata": {
    "collapsed": false,
    "pycharm": {
     "name": "#%%\n"
    }
   }
  },
  {
   "cell_type": "code",
   "execution_count": null,
   "outputs": [],
   "source": [],
   "metadata": {
    "collapsed": false,
    "pycharm": {
     "name": "#%%\n"
    }
   }
  }
 ],
 "metadata": {
  "kernelspec": {
   "display_name": "Python 3",
   "language": "python",
   "name": "python3"
  },
  "language_info": {
   "codemirror_mode": {
    "name": "ipython",
    "version": 2
   },
   "file_extension": ".py",
   "mimetype": "text/x-python",
   "name": "python",
   "nbconvert_exporter": "python",
   "pygments_lexer": "ipython2",
   "version": "2.7.6"
  }
 },
 "nbformat": 4,
 "nbformat_minor": 0
}