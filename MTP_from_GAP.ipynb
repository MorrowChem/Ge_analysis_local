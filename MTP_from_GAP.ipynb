{
 "cells": [
  {
   "cell_type": "code",
   "execution_count": 1,
   "outputs": [],
   "source": [
    "\n",
    "%load_ext autoreload\n",
    "%autoreload 2\n"
   ],
   "metadata": {
    "collapsed": false,
    "pycharm": {
     "name": "#%%\n"
    }
   }
  },
  {
   "cell_type": "code",
   "execution_count": 91,
   "outputs": [],
   "source": [
    "from ase.io.extxyz import read_xyz\n",
    "import numpy as np\n",
    "from ase.atoms import Atoms\n",
    "from ase.io.formats import index2range\n",
    "from ase.io.cfg import read_cfg\n",
    "from io import StringIO, UnsupportedOperation\n",
    "from mtp import *\n",
    "import os\n",
    "from matplotlib import pyplot as plt\n",
    "from quippy.potential import Potential\n",
    "import pickle\n",
    "from Ge_analysis import *\n",
    "from Ge_calculation import *\n",
    "import matplotlib.pyplot as plt\n",
    "from matscipy.rings import ring_statistics\n",
    "from datetime import datetime\n",
    "import pymatgen.ext.matproj as mp\n",
    "import pymatgen.io.ase as pase\n",
    "from pymatgen.symmetry.analyzer import SpacegroupAnalyzer\n",
    "from numpy.random import normal\n",
    "from ase.io.extxyz import write_xyz"
   ],
   "metadata": {
    "collapsed": false,
    "pycharm": {
     "name": "#%%\n"
    }
   }
  },
  {
   "cell_type": "code",
   "execution_count": null,
   "outputs": [],
   "source": [
    "plt.rcParams['font.family'] = 'sans-serif'\n",
    "plt.rcParams['font.sans-serif'] = [ 'Helvetica', 'Arial', 'FreeSans', 'DejaVu Sans' ]\n",
    "\n",
    "plt.rcParams['axes.labelsize'] = 18\n",
    "plt.rcParams['xtick.labelsize'] = 15\n",
    "plt.rcParams['ytick.labelsize'] = 15\n",
    "\n",
    "plt.rcParams['legend.fontsize'] = 14\n",
    "plt.rcParams['legend.title_fontsize'] = 14\n",
    "plt.rcParams['legend.fancybox'] = False\n",
    "plt.rcParams['legend.edgecolor'] = 'k'\n",
    "plt.rcParams['legend.borderaxespad'] = 1.5\n",
    "\n",
    "plt.rcParams['lines.linewidth'] = 3.0\n",
    "plt.rcParams['axes.linewidth'] = 1.5\n",
    "\n",
    "plt.rcParams['xtick.direction'] = 'in'\n",
    "plt.rcParams['xtick.major.size'] = 10\n",
    "plt.rcParams['xtick.major.width'] = 1.0\n",
    "plt.rcParams['xtick.minor.size'] = 5\n",
    "plt.rcParams['xtick.minor.width'] = 1.0\n",
    "\n",
    "plt.rcParams['ytick.direction'] = 'in'\n",
    "plt.rcParams['ytick.major.size'] = 10\n",
    "plt.rcParams['ytick.major.width'] = 1.0\n",
    "plt.rcParams['ytick.minor.size'] = 5\n",
    "plt.rcParams['ytick.minor.width'] = 1.0"
   ],
   "metadata": {
    "collapsed": false,
    "pycharm": {
     "name": "#%%\n"
    }
   }
  },
  {
   "cell_type": "markdown",
   "source": [
    "# Labelling"
   ],
   "metadata": {
    "collapsed": false
   }
  },
  {
   "cell_type": "code",
   "execution_count": null,
   "outputs": [],
   "source": [
    "GAP_18_dir = '/home/joe/Documents/Ge_od/Si_GAP_training/libAtoms-silicon-testing-framework-fc252cb/models/GAP'"
   ],
   "metadata": {
    "collapsed": false,
    "pycharm": {
     "name": "#%%\n"
    }
   }
  },
  {
   "cell_type": "code",
   "execution_count": null,
   "outputs": [],
   "source": [
    "with open(GAP_18_dir + '/gp_iter6_sparse9k.xml.xyz', 'r') as f:\n",
    "    GAP_18_db = list(read_xyz(f, index=slice(0,None)))"
   ],
   "metadata": {
    "collapsed": false,
    "pycharm": {
     "name": "#%%\n"
    }
   }
  },
  {
   "cell_type": "code",
   "execution_count": null,
   "outputs": [],
   "source": [
    "with open('/home/joe/Documents/Ge_od/Potentials/Si_myDB_reduction_testing/Si_myDB_64_125_216_train.xyz', 'r') as f:\n",
    "    myDB = list(read_xyz(f, index=slice(0,None)))"
   ],
   "metadata": {
    "collapsed": false,
    "pycharm": {
     "name": "#%%\n"
    }
   }
  },
  {
   "cell_type": "code",
   "execution_count": null,
   "outputs": [],
   "source": [
    "GAP_18_pot = Potential(param_filename=GAP_18_dir+'/gp_iter6_sparse9k.xml')"
   ],
   "metadata": {
    "collapsed": false,
    "pycharm": {
     "name": "#%%\n"
    }
   }
  },
  {
   "cell_type": "code",
   "execution_count": null,
   "outputs": [],
   "source": [
    "db = myDB\n",
    "# db = GAP_18_db\n",
    "for i, val in enumerate(db):\n",
    "\n",
    "    GAP_18_pot.calculate(val, properties=['energies', 'forces', 'stress'])\n",
    "    val.info['gap18_energy'] = GAP_18_pot.results['energy']\n",
    "    val.info['gap18_virial'] = GAP_18_pot.results['virial']\n",
    "    val.arrays['gap18_force'] = GAP_18_pot.results['forces']"
   ],
   "metadata": {
    "collapsed": false,
    "pycharm": {
     "name": "#%%\n"
    }
   }
  },
  {
   "cell_type": "code",
   "execution_count": null,
   "outputs": [],
   "source": [
    "GAP_18_pot.calculate(GAP_18_db[0], properties=['energies', 'forces', 'stress'])\n",
    "GAP_18_pot.results['virial']"
   ],
   "metadata": {
    "collapsed": false,
    "pycharm": {
     "name": "#%%\n"
    }
   }
  },
  {
   "cell_type": "code",
   "execution_count": null,
   "outputs": [],
   "source": [
    "os.chdir('/home/joe/Documents/Ge_od/GAP_to_MTP')"
   ],
   "metadata": {
    "collapsed": false,
    "pycharm": {
     "name": "#%%\n"
    }
   }
  },
  {
   "cell_type": "code",
   "execution_count": null,
   "outputs": [],
   "source": [
    "# with open('GAP_18_db_GAPlabelled_MTP4.pickle', 'wb') as f:\n",
    "#     pickle.dump(GAP_18_db, f)"
   ],
   "metadata": {
    "collapsed": false,
    "pycharm": {
     "name": "#%%\n"
    }
   }
  },
  {
   "cell_type": "code",
   "execution_count": null,
   "outputs": [],
   "source": [
    "with open('GAP_18_db_GAPlabelled.pickle', 'rb') as f:\n",
    "    GAP_18_db = pickle.load(f)"
   ],
   "metadata": {
    "collapsed": false,
    "pycharm": {
     "name": "#%%\n"
    }
   }
  },
  {
   "cell_type": "code",
   "execution_count": null,
   "outputs": [],
   "source": [
    "# with open('mydb_GAPlabelled_MTP4.pickle', 'wb') as f:\n",
    "#     pickle.dump(myDB, f)"
   ],
   "metadata": {
    "collapsed": false,
    "pycharm": {
     "name": "#%%\n"
    }
   }
  },
  {
   "cell_type": "code",
   "execution_count": null,
   "outputs": [],
   "source": [
    "with open('mydb_GAPlabelled_MTP4.pickle', 'rb') as f:\n",
    "    myDB = pickle.load(f)"
   ],
   "metadata": {
    "collapsed": false,
    "pycharm": {
     "name": "#%%\n"
    }
   }
  },
  {
   "cell_type": "code",
   "execution_count": null,
   "outputs": [],
   "source": [
    "# with open('GAP_18_db_GAPlabelled.cfg', 'w') as f:\n",
    "#     write_cfg_db(f, GAP_18_db, energy_name='gap18_energy', force_name='gap18_force', virial_name='gap18_virial')"
   ],
   "metadata": {
    "collapsed": false,
    "pycharm": {
     "name": "#%%\n"
    }
   }
  },
  {
   "cell_type": "code",
   "execution_count": null,
   "outputs": [],
   "source": [
    "# with open('GAP_18_db_DFTlabelled.cfg', 'w') as f:\n",
    "#     write_cfg_db(f, GAP_18_db, energy_name='dft_energy', force_name='dft_force', virial_name='dft_virial')"
   ],
   "metadata": {
    "collapsed": false,
    "pycharm": {
     "name": "#%%\n"
    }
   }
  },
  {
   "cell_type": "markdown",
   "source": [
    "## Writing all melt-quench data to DB for fitting\n"
   ],
   "metadata": {
    "collapsed": false
   }
  },
  {
   "cell_type": "code",
   "execution_count": null,
   "outputs": [],
   "source": [
    "sb = '/home/joe/Documents/Ge_od/Structure_databases'\n",
    "mq_dirs = [os.path.join(sb, i) for i in ['run_64_atoms', 'run_125_atoms', 'run_216_atoms']]\n",
    "\n",
    "mq_db = []\n",
    "\n",
    "# for i in mq_dirs:\n",
    "#     for j in os.listdir(i):\n",
    "#         if 'run_' in j and 'castep' not in j:\n",
    "#             for k in os.listdir(os.path.join(i, j, 'NPT', )):\n",
    "#                 at = read_cfg(os.path.join(i,j,'NPT',k))\n",
    "#                 at.info['rundir'] = j\n",
    "#                 mq_db.append(at)\n",
    "# l = len(mq_db)\n",
    "# for i, val in enumerate(mq_db):\n",
    "#\n",
    "#     GAP_18_pot.calculate(val, properties=['energies', 'forces', 'stress'])\n",
    "#     val.info['gap18_energy'] = GAP_18_pot.results['energy']\n",
    "#     val.info['gap18_virial'] = GAP_18_pot.results['virial']\n",
    "#     val.arrays['gap18_force'] = GAP_18_pot.results['forces']\n",
    "#     if (i//l * 100) % 10 == 0:\n",
    "#         print('{}% done'.format(i//l *100), datetime.now().time())\n",
    "\n",
    "# with open('mq_db_GAP-18labelled.pickle', 'wb') as f:\n",
    "#     pickle.dump(mq_db, f)"
   ],
   "metadata": {
    "collapsed": false,
    "pycharm": {
     "name": "#%%\n"
    }
   }
  },
  {
   "cell_type": "code",
   "execution_count": null,
   "outputs": [],
   "source": [
    "with open('/home/joe/Documents/Ge_od/GAP_to_MTP/mqdb_GAP18labelled/mq_db_GAP-18labelled_3.pickle', 'rb') as f:\n",
    "    mq_db_G18lab = pickle.load(f)\n"
   ],
   "metadata": {
    "collapsed": false,
    "pycharm": {
     "name": "#%%\n"
    }
   }
  },
  {
   "cell_type": "code",
   "execution_count": null,
   "outputs": [],
   "source": [
    "# need to modify the stresses before writing them\n",
    "for i in range(len(mq_db_G18lab)):\n",
    "    v = -mq_db_G18lab[i].info['gap18_virial']*mq_db_G18lab[i].get_volume()\n",
    "    mq_db_G18lab[i].info['gap18_virial'] = v\n"
   ],
   "metadata": {
    "collapsed": false,
    "pycharm": {
     "name": "#%%\n"
    }
   }
  },
  {
   "cell_type": "code",
   "execution_count": null,
   "outputs": [],
   "source": [
    "# split into 80:20 test:training with entirely separate runs\n",
    "rundirs = [int(i.info['rundir'][4:]) for i in mq_db_G18lab]\n",
    "rundirs = np.array(rundirs)"
   ],
   "metadata": {
    "collapsed": false,
    "pycharm": {
     "name": "#%%\n"
    }
   }
  },
  {
   "cell_type": "code",
   "execution_count": null,
   "outputs": [],
   "source": [
    "# keep back run numbers 8-27\n",
    "v_args = np.array([[]]); t_args = np.array([[]])\n",
    "for i in range(8,28):\n",
    "    v_args = np.concatenate((v_args, np.where(rundirs==i)), axis=1)\n",
    "\n",
    "for i in range(8):\n",
    "    t_args = np.concatenate((t_args, np.where(rundirs==i)), axis=1)\n",
    "for i in range(28,101):\n",
    "    t_args = np.concatenate((t_args, np.where(rundirs==i)), axis=1)"
   ],
   "metadata": {
    "collapsed": false,
    "pycharm": {
     "name": "#%%\n"
    }
   }
  },
  {
   "cell_type": "code",
   "execution_count": null,
   "outputs": [],
   "source": [
    "mq_db_G18lab_train = [mq_db_G18lab[int(i)] for i in t_args[0]]\n",
    "mq_db_G18lab_val = [mq_db_G18lab[int(i)] for i in v_args[0]]"
   ],
   "metadata": {
    "collapsed": false,
    "pycharm": {
     "name": "#%%\n"
    }
   }
  },
  {
   "cell_type": "code",
   "execution_count": null,
   "outputs": [],
   "source": [
    "# run_97 etc. didn't finish, so not exactly 80% but pretty close\n",
    "len(mq_db_G18lab_train)/len(mq_db_G18lab_val)\n",
    "\n",
    "\n",
    "len(mq_db_G18lab_train),len(mq_db_G18lab_val)"
   ],
   "metadata": {
    "collapsed": false,
    "pycharm": {
     "name": "#%%\n"
    }
   }
  },
  {
   "cell_type": "code",
   "execution_count": null,
   "outputs": [],
   "source": [
    "# with open('mqdb_GAP18labelled/mqdb_GAP18labelled_train.cfg', 'w') as f:\n",
    "#     write_cfg_db(f, mq_db_G18lab_train, energy_name='gap18_energy', force_name='gap18_force', virial_name='gap18_virial')"
   ],
   "metadata": {
    "collapsed": false,
    "pycharm": {
     "name": "#%%\n"
    }
   }
  },
  {
   "cell_type": "code",
   "execution_count": null,
   "outputs": [],
   "source": [
    "# with open('mqdb_GAP18labelled/mqdb_GAP18labelled_validate.cfg', 'w') as f:\n",
    "#     write_cfg_db(f, mq_db_G18lab_val, energy_name='gap18_energy', force_name='gap18_force', virial_name='gap18_virial')"
   ],
   "metadata": {
    "collapsed": false,
    "pycharm": {
     "name": "#%%\n"
    }
   }
  },
  {
   "cell_type": "code",
   "execution_count": null,
   "outputs": [],
   "source": [
    "GAP18_mqdb_train = GAP_18_db + mq_db_G18lab_train"
   ],
   "metadata": {
    "collapsed": false,
    "pycharm": {
     "name": "#%%\n"
    }
   }
  },
  {
   "cell_type": "code",
   "execution_count": null,
   "outputs": [],
   "source": [
    "len(GAP18_mqdb_train)\n"
   ],
   "metadata": {
    "collapsed": false,
    "pycharm": {
     "name": "#%%\n"
    }
   }
  },
  {
   "cell_type": "code",
   "execution_count": null,
   "outputs": [],
   "source": [
    "# with open('mqdb_GAP18labelled/GAP18_mqdb_GAP18labelled_train.cfg', 'w') as f:\n",
    "#     write_cfg_db(f, GAP18_mqdb_train, energy_name='gap18_energy', force_name='gap18_force', virial_name='gap18_virial')\n"
   ],
   "metadata": {
    "collapsed": false,
    "pycharm": {
     "name": "#%%\n"
    }
   }
  },
  {
   "cell_type": "markdown",
   "source": [
    "## Generate GAP_labelled crystal structures from the MP\n",
    "Free us from dependence on the GAP-18 database"
   ],
   "metadata": {
    "collapsed": false
   }
  },
  {
   "cell_type": "code",
   "execution_count": null,
   "outputs": [],
   "source": [
    "with mp.MPRester(\"v0JVgKLlpTXKEhiKeDIC\") as m:\n",
    "    results = m.query(criteria={\"pretty_formula\":'Si'},\n",
    "                            properties=[\"exp.tags\", \"icsd_ids\", \"spacegroup\",\n",
    "                                        \"task_id\", \"density\", \"final_structure\",\n",
    "                                        \"e_above_hull\", \"energy\", \"energy_per_atom\"])"
   ],
   "metadata": {
    "collapsed": false,
    "pycharm": {
     "name": "#%%\n"
    }
   }
  },
  {
   "cell_type": "code",
   "execution_count": null,
   "outputs": [],
   "source": [
    "mp_xtals = [pase.AseAtomsAdaptor().get_atoms(\n",
    "            SpacegroupAnalyzer(i['final_structure']).get_conventional_standard_structure())\n",
    "            for i in results]"
   ],
   "metadata": {
    "collapsed": false,
    "pycharm": {
     "name": "#%%\n"
    }
   }
  },
  {
   "cell_type": "code",
   "execution_count": null,
   "outputs": [],
   "source": [
    "def get_supercell_factor(at, target_size=64):\n",
    "    f = np.ceil((target_size/len(at))**(1/3))\n",
    "    #print('supercell factor: %f leads to %f atoms' % (f, len(at)*f**3))\n",
    "    return f"
   ],
   "metadata": {
    "collapsed": false,
    "pycharm": {
     "name": "#%%\n"
    }
   }
  },
  {
   "cell_type": "code",
   "execution_count": null,
   "outputs": [],
   "source": [
    "# ncopies = 50\n",
    "ncopies = 10\n",
    "supers = [[] for i in results]\n",
    "for i, val in enumerate(mp_xtals):\n",
    "    for j in range(ncopies):\n",
    "        s = build.supercells.make_supercell(\n",
    "                val, get_supercell_factor(val)*np.identity(3))\n",
    "        s.rattle(0.01) # randomise the positions slightly\n",
    "        s.set_cell(s.get_cell_lengths_and_angles() * np.concatenate([normal(1, 0.03, (3)), normal(1, 0.01, (3))]),\n",
    "                 scale_atoms=True) # randomise lattice vectors\n",
    "        s.info['config_type'] = results[i]['task_id']\n",
    "        supers[i].append(s)"
   ],
   "metadata": {
    "collapsed": false,
    "pycharm": {
     "name": "#%%\n"
    }
   }
  },
  {
   "cell_type": "code",
   "execution_count": null,
   "outputs": [],
   "source": [
    "sum([len(i) for i in flatten(supers)]), sum([len(i) for i in mq_db_G18lab_train])"
   ],
   "metadata": {
    "collapsed": false,
    "pycharm": {
     "name": "#%%\n"
    }
   }
  },
  {
   "cell_type": "code",
   "execution_count": null,
   "outputs": [],
   "source": [
    "# need to label with GAP-18 now\n",
    "with open('mp_mq_db_GAP18labelled/mp_db_train_test.xyz', 'w') as f:\n",
    "    write_xyz(f, flatten(supers[:5]))"
   ],
   "metadata": {
    "collapsed": false,
    "pycharm": {
     "name": "#%%\n"
    }
   }
  },
  {
   "cell_type": "code",
   "execution_count": null,
   "outputs": [],
   "source": [
    "# with open('mp_mq_db_GAP18labelled/mp_db_train_test.cfg', 'w') as f:\n",
    "#     write_cfg_db(f, mp_db_GAP18labelled_train[:5], energy_name='gap18_energy', force_name='gap18_force', virial_name='gap18_virial')"
   ],
   "metadata": {
    "collapsed": false,
    "pycharm": {
     "name": "#%%\n"
    }
   }
  },
  {
   "cell_type": "code",
   "execution_count": null,
   "outputs": [],
   "source": [
    "with open('mp_mq_db_GAP18labelled/mp_db_validate.xyz', 'w') as f:\n",
    "    write_xyz(f, flatten(supers))"
   ],
   "metadata": {
    "collapsed": false,
    "pycharm": {
     "name": "#%%\n"
    }
   }
  },
  {
   "cell_type": "code",
   "execution_count": null,
   "outputs": [],
   "source": [
    "with open('mp_mq_db_GAP18labelled/mp_db_GAP18labelled_train.xyz', 'r') as f:\n",
    "    mp_db_GAP18labelled_train = list(read_xyz(f, index=slice(0,None)))"
   ],
   "metadata": {
    "collapsed": false,
    "pycharm": {
     "name": "#%%\n"
    }
   }
  },
  {
   "cell_type": "code",
   "execution_count": null,
   "outputs": [],
   "source": [
    "with open('mp_mq_db_GAP18labelled/mp_db_GAP18labelled_validate.xyz', 'r') as f:\n",
    "    mp_db_GAP18labelled_val = list(read_xyz(f, index=slice(0,None)))"
   ],
   "metadata": {
    "collapsed": false,
    "pycharm": {
     "name": "#%%\n"
    }
   }
  },
  {
   "cell_type": "code",
   "execution_count": null,
   "outputs": [],
   "source": [
    "for i in mp_db_GAP18labelled_train:\n",
    "    i.info['gap18_energy'] = i.info.pop('energy')\n",
    "    i.info['gap18_virial'] = i.info.pop('virial')\n",
    "    i.arrays['gap18_force'] = i.arrays.pop('force')\n"
   ],
   "metadata": {
    "collapsed": false,
    "pycharm": {
     "name": "#%%\n"
    }
   }
  },
  {
   "cell_type": "code",
   "execution_count": null,
   "outputs": [],
   "source": [
    "mp_mq_db_GAP18labelled_train = mq_db_G18lab_train + mp_db_GAP18labelled_train"
   ],
   "metadata": {
    "collapsed": false,
    "pycharm": {
     "name": "#%%\n"
    }
   }
  },
  {
   "cell_type": "code",
   "execution_count": null,
   "outputs": [],
   "source": [
    "with open('mp_mq_db_GAP18labelled/mp_mq_db_GAP18labelled_train.cfg', 'w') as f:\n",
    "    write_cfg_db(f, mp_mq_db_GAP18labelled_train, energy_name='gap18_energy', force_name='gap18_force', virial_name='gap18_virial')"
   ],
   "metadata": {
    "collapsed": false,
    "pycharm": {
     "name": "#%%\n"
    }
   }
  },
  {
   "cell_type": "markdown",
   "source": [
    "# Big melt quench development\n"
   ],
   "metadata": {
    "collapsed": false
   }
  },
  {
   "cell_type": "code",
   "execution_count": 41,
   "outputs": [],
   "source": [
    "with open('/home/joe/Documents/Ge_od/GAP_to_MTP/pressure_quench/aSi_100k_relaxed_amorphous.xyz', 'r') as f:\n",
    "    amo_100k = list(read_xyz(f))\n",
    "#amo_1k = read_cfg('/home/joe/Documents/Ge_od/GAP_to_MTP/pressure_quench_devel/dump_npt_Si_mtp.240000.cfg')"
   ],
   "metadata": {
    "collapsed": false,
    "pycharm": {
     "name": "#%%\n"
    }
   }
  },
  {
   "cell_type": "code",
   "execution_count": 35,
   "outputs": [],
   "source": [
    "from ase.io.lammpsdata import write_lammps_data"
   ],
   "metadata": {
    "collapsed": false,
    "pycharm": {
     "name": "#%%\n"
    }
   }
  },
  {
   "cell_type": "code",
   "execution_count": null,
   "outputs": [],
   "source": [
    "write_lammps_data('/home/joe/Documents/Ge_od/GAP_to_MTP/pressure_quench_devel/dump_npt_Si_mtp.240000.data', amo_1k)"
   ],
   "metadata": {
    "collapsed": false,
    "pycharm": {
     "name": "#%%\n"
    }
   }
  },
  {
   "cell_type": "code",
   "execution_count": 42,
   "outputs": [],
   "source": [
    "write_lammps_data('/home/joe/Documents/Ge_od/GAP_to_MTP/pressure_quench/amo_100k.data', amo_100k)"
   ],
   "metadata": {
    "collapsed": false,
    "pycharm": {
     "name": "#%%\n"
    }
   }
  },
  {
   "cell_type": "markdown",
   "source": [
    "# Validation of indirect MTP\n",
    "compare as far as possible to original tests on GAP-18 from paper\n",
    "* ring stats\n",
    "* structure factors\n",
    "* vacancy formation energies"
   ],
   "metadata": {
    "collapsed": false
   }
  },
  {
   "cell_type": "code",
   "execution_count": null,
   "outputs": [],
   "source": [
    "GAP_18_md = MD_run('/home/joe/Documents/Ge_od/MD_runs/Si_litDB_full_4000/run_1000_001', label='GAP-18')"
   ],
   "metadata": {
    "collapsed": false,
    "pycharm": {
     "name": "#%%\n"
    }
   }
  },
  {
   "cell_type": "code",
   "execution_count": null,
   "outputs": [],
   "source": [
    "\n",
    "MTP_dir = '/home/joe/Documents/Ge_od/GAP_to_MTP/MTPs/'\n",
    "MTP_md_dir = '/home/joe/Documents/Ge_od/GAP_to_MTP/MTP_mds/'"
   ],
   "metadata": {
    "collapsed": false,
    "pycharm": {
     "name": "#%%\n"
    }
   }
  },
  {
   "cell_type": "code",
   "execution_count": null,
   "outputs": [],
   "source": [
    "\n",
    "MTPs = [MTP(os.path.join(MTP_dir, 'u16_min1.5/GAP_18_db_GAPlabelled.mtp'), potential_name='MTP_u16_m1.5'),\n",
    "        MTP(os.path.join(MTP_dir, 'u20_m1.5_GAP18db.mtp'), potential_name='MTP_u20_m1.5'),\n",
    "        MTP(os.path.join(MTP_dir, 'directMTP_u16m1.5.mtp'), potential_name='DFT-MTP_u16_m1.5'),\n",
    "        MTP(os.path.join(MTP_dir, 'directMTP_u20m1.5.mtp'), potential_name='DFT-MTPu20_m1.5')\n",
    "        # MTP(os.path.join(MTP_dir, 'u16_min1.5/GAP_18_db_GAPlabelled.mtp'), potential_name='MTP u26_m1.5'),\n",
    "        ]\n",
    "\n",
    "calc_flag = [1, 1, 1, 1]"
   ],
   "metadata": {
    "collapsed": false,
    "pycharm": {
     "name": "#%%\n"
    }
   }
  },
  {
   "cell_type": "code",
   "execution_count": null,
   "outputs": [],
   "source": [
    "os.listdir(MTP_md_dir)"
   ],
   "metadata": {
    "collapsed": false,
    "pycharm": {
     "name": "#%%\n"
    }
   }
  },
  {
   "cell_type": "code",
   "execution_count": null,
   "outputs": [],
   "source": [
    "MTP_md = [MD_run(os.path.join(MTP_md_dir, i), label=i[:-9]) for i in os.listdir(MTP_md_dir)]"
   ],
   "metadata": {
    "collapsed": false,
    "pycharm": {
     "name": "#%%\n"
    }
   }
  },
  {
   "cell_type": "markdown",
   "source": [
    "## RMSEs calculation"
   ],
   "metadata": {
    "collapsed": false
   }
  },
  {
   "cell_type": "code",
   "execution_count": null,
   "outputs": [],
   "source": [
    "db = myDB\n",
    "# db = GAP_18_db\n",
    "for j, M in enumerate(MTPs):\n",
    "    print('Starting MTP {}'.format(j))\n",
    "    if calc_flag[j]:\n",
    "        for i, val in enumerate(db):\n",
    "\n",
    "            M.calculate(val, properties=['energy', 'forces', 'stress'])\n",
    "            # val.set_calculator(MTPs[0])\n",
    "            # print(val.get_potential_energy())\n",
    "            # print(MTPs[0].results)\n",
    "            val.info['{}_energy'.format(M.name)] = M.results['energy']\n",
    "            val.info['{}_virial'.format(M.name)] = M.results['stress']\n",
    "            # if np.shape((MTPs[0].results['forces']))[1] != 3:\n",
    "            #     print(i,val, len(i), MTPs[0].results['forces'])\n",
    "            val.arrays['{}_force'.format(M.name)] = M.results['forces']\n",
    "            val.set_calculator(None)\n",
    "            M.results = {}"
   ],
   "metadata": {
    "collapsed": false,
    "pycharm": {
     "name": "#%%\n"
    }
   }
  },
  {
   "cell_type": "code",
   "execution_count": null,
   "outputs": [],
   "source": [
    "GAP_18_db[0].arrays['gap18_force']\n",
    "#sum([len(i) for i in GAP_18_db])*3\n",
    "#np.average(flatten([i.get_atomic_numbers() for i in GAP_18_db]))"
   ],
   "metadata": {
    "collapsed": false,
    "pycharm": {
     "name": "#%%\n"
    }
   }
  },
  {
   "cell_type": "code",
   "execution_count": null,
   "outputs": [],
   "source": [
    "# flattened data for DFT, GAP-18 and MTPs applied to the GAP-18 db\n",
    "GAP_18_EF = [np.array([i.info['{}_energy'.format('gap18')]/len(i) for i in GAP_18_db]),\n",
    "                  np.array(flatten([i.arrays['{}_force'.format('gap18')].flatten() for i in GAP_18_db]))]\n",
    "                  #np.array(flatten([i.arrays['gap18_virial'].flatten() for i in GAP_18_db]))]\n",
    "MTP_EF_GAP_18 = [[np.array([i.info['{}_energy'.format(j.name)]/len(i) for i in GAP_18_db]),\n",
    "                  np.array(flatten([i.arrays['{}_force'.format(j.name)].flatten() for i in GAP_18_db]))]\n",
    "                  #np.array(flatten([i.arrays['mtpu16_virial'].flatten() for i in GAP_18_db]))]\n",
    "                  for j in MTPs]\n",
    "GAP_18_DFT = [np.array([i.info['dft_energy']/len(i) for i in GAP_18_db]),\n",
    "              np.array(flatten([i.arrays['dft_force'].flatten() for i in GAP_18_db]))\n",
    "              #np.array(flatten([i.arrays['dft_virial'].flatten() for i in GAP_18_db]))\n",
    "              ]"
   ],
   "metadata": {
    "collapsed": false,
    "pycharm": {
     "name": "#%%\n"
    }
   }
  },
  {
   "cell_type": "code",
   "execution_count": null,
   "outputs": [],
   "source": [
    "# flattened data for DFT, GAP-18 and MTPs applied to myDB\n",
    "GAP_18_EF_myDB = [np.array([i.info['{}_energy'.format('gap18')]/len(i) for i in myDB]),\n",
    "                  np.array(flatten([i.arrays['{}_force'.format('gap18')].flatten() for i in myDB]))]\n",
    "                  #np.array(flatten([i.arrays['gap18_virial'].flatten() for i in myDB]))]\n",
    "\n",
    "MTP_EF_myDB = [[np.array([i.info['{}_energy'.format(j.name)]/len(i) for i in myDB]),\n",
    "                  np.array(flatten([i.arrays['{}_force'.format(j.name)].flatten() for i in myDB]))]\n",
    "                  #np.array(flatten([i.arrays['mtpu16_virial'].flatten() for i in myDB]))]\n",
    "                  for j in MTPs]\n",
    "myDB_DFT = [np.array([i.info['dft_energy']/len(i) for i in myDB]),\n",
    "              np.array(flatten([i.arrays['dft_forces'].flatten() for i in myDB]))\n",
    "              #np.array(flatten([i.arrays['dft_virial'].flatten() for i in myDB]))\n",
    "              ]"
   ],
   "metadata": {
    "collapsed": false,
    "pycharm": {
     "name": "#%%\n"
    }
   }
  },
  {
   "cell_type": "code",
   "execution_count": null,
   "outputs": [],
   "source": [
    "print(len(MTP_EF_GAP_18[0][1]))\n",
    "len(GAP_18_DFT[1])"
   ],
   "metadata": {
    "collapsed": false,
    "pycharm": {
     "name": "#%%\n"
    }
   }
  },
  {
   "cell_type": "code",
   "execution_count": null,
   "outputs": [],
   "source": [
    "# rmses for the GAP-18 db\n",
    "rmses_MTP_DFT = [[rms_dict(i[j], GAP_18_DFT[j]) for j in range(len(GAP_18_DFT))] for i in MTP_EF_GAP_18]\n",
    "rmses_MTP_GAP18 = [[rms_dict(i[j], GAP_18_EF[j]) for j in range(len(GAP_18_EF))] for i in MTP_EF_GAP_18]\n",
    "rmses_GAP_DFT = [rms_dict(GAP_18_EF[j], GAP_18_DFT[j]) for j in range(len(GAP_18_DFT))]"
   ],
   "metadata": {
    "collapsed": false,
    "pycharm": {
     "name": "#%%\n"
    }
   }
  },
  {
   "cell_type": "code",
   "execution_count": null,
   "outputs": [],
   "source": [
    "rmses_MTP_DFT"
   ],
   "metadata": {
    "collapsed": false,
    "pycharm": {
     "name": "#%%\n"
    }
   }
  },
  {
   "cell_type": "code",
   "execution_count": null,
   "outputs": [],
   "source": [
    "rmses_MTP_GAP18"
   ],
   "metadata": {
    "collapsed": false,
    "pycharm": {
     "name": "#%%\n"
    }
   }
  },
  {
   "cell_type": "code",
   "execution_count": null,
   "outputs": [],
   "source": [
    "rmses_GAP_DFT"
   ],
   "metadata": {
    "collapsed": false,
    "pycharm": {
     "name": "#%%\n"
    }
   }
  },
  {
   "cell_type": "code",
   "execution_count": null,
   "outputs": [],
   "source": [
    "delX = [myDB[0].info['dft_energy'] - GAP_18_db[0].info['dft_energy'],\n",
    "        0,\n",
    "        0] # virial"
   ],
   "metadata": {
    "collapsed": false,
    "pycharm": {
     "name": "#%%\n"
    }
   }
  },
  {
   "cell_type": "code",
   "execution_count": null,
   "outputs": [],
   "source": [
    "# rmses for myDB as validation set, need to adjust for different level of DFT (or just compare forces)\n",
    "rmses_MTP_DFT_myDB = [[rms_dict(i[j], myDB_DFT[j] - delX[j]) for j in range(len(myDB_DFT))] for i in MTP_EF_myDB]\n",
    "rmses_MTP_GAP18_myDB = [[rms_dict(i[j], GAP_18_EF_myDB[j]) for j in range(len(GAP_18_EF_myDB))] for i in MTP_EF_myDB]\n",
    "rmses_GAP_DFT_myDB = [rms_dict(GAP_18_EF_myDB[j], myDB_DFT[j] - delX[j]) for j in range(len(myDB_DFT))]"
   ],
   "metadata": {
    "collapsed": false,
    "pycharm": {
     "name": "#%%\n"
    }
   }
  },
  {
   "cell_type": "code",
   "execution_count": null,
   "outputs": [],
   "source": [
    "rmses_MTP_DFT_myDB"
   ],
   "metadata": {
    "collapsed": false,
    "pycharm": {
     "name": "#%%\n"
    }
   }
  },
  {
   "cell_type": "code",
   "execution_count": null,
   "outputs": [],
   "source": [
    "rmses_MTP_GAP18_myDB"
   ],
   "metadata": {
    "collapsed": false,
    "pycharm": {
     "name": "#%%\n"
    }
   }
  },
  {
   "cell_type": "code",
   "execution_count": null,
   "outputs": [],
   "source": [
    "rmses_GAP_DFT_myDB"
   ],
   "metadata": {
    "collapsed": false,
    "pycharm": {
     "name": "#%%\n"
    }
   }
  },
  {
   "cell_type": "markdown",
   "source": [
    "## Plotting the RMSES\n",
    "need to think about the best way to present this"
   ],
   "metadata": {
    "collapsed": false
   }
  },
  {
   "cell_type": "code",
   "execution_count": null,
   "outputs": [],
   "source": [
    "TS = [16, 20, 24]\n",
    "# showing the RMSEs for different tensor sizes, compared to DFT, GAP-18 prediction and direct MTP\n",
    "\n",
    "fig, axs = plt.subplots(1,2, figsize=(8, 4))\n",
    "fig.subplots_adjust(hspace=0.05)\n",
    "axs[0].errorbar(TS[:2], np.array([i[0]['rmse'] for i in rmses_MTP_GAP18[:2]])*1000,\n",
    "                yerr=None, fmt='s--', color='r', markersize=6, label='GAP-MTP v. GAP-18 on GAP-18', zorder=5)\n",
    "axs[0].errorbar(TS[:2], np.array([i[0]['rmse'] for i in rmses_MTP_GAP18[2:]])*1000,\n",
    "                yerr=None, fmt='s--', color='Indigo', markersize=6, label='DFT-MTP v. GAP-18 on myDB', zorder=5)\n",
    "\n",
    "axs[0].errorbar(TS[:2], np.array([i[0]['rmse'] for i in rmses_MTP_GAP18_myDB[:2]])*1000,\n",
    "                yerr=None, fmt='^--', color='r', markersize=6, label='GAP-MTP v. GAP-18 on myDB', zorder=5)\n",
    "\n",
    "axs[0].errorbar(TS[:2], np.array([i[0]['rmse'] for i in rmses_MTP_GAP18_myDB[2:]])*1000,\n",
    "                yerr=None, fmt='^--', color='Indigo', markersize=6, label='DFT-MTP v. GAP-18 on myDB', zorder=5)\n",
    "axs[0].set(xlabel='MTP setting', ylabel='Energy RMSE / meV')\n",
    "\n",
    "\n",
    "\n",
    "\n",
    "axs[1].set(xlabel='MTP setting', ylabel='Force RMSE / $\\mathrm{eV\\AA^{-1}}$')\n",
    "\n",
    "axs[1].errorbar(TS[:2], np.array([i[1]['rmse'] for i in rmses_MTP_GAP18[:2]]),\n",
    "                yerr=None, fmt='s--', color='r', markersize=6, label='GAP-MTP on GAP-18_DB', zorder=5)\n",
    "axs[1].errorbar(TS[:2], np.array([i[1]['rmse'] for i in rmses_MTP_GAP18[2:]]),\n",
    "                yerr=None, fmt='s--', color='Indigo', markersize=6, label='DFT-MTP on GAP-18_DB', zorder=5)\n",
    "axs[1].errorbar(TS[:2], np.array([i[1]['rmse'] for i in rmses_MTP_GAP18_myDB[:2]]),\n",
    "                yerr=None, fmt='^--', color='r', markersize=6, label='GAP-MTP on myDB', zorder=5)\n",
    "axs[1].errorbar(TS[:2], np.array([i[1]['rmse'] for i in rmses_MTP_GAP18_myDB[2:]]),\n",
    "                yerr=None, fmt='^--', color='Indigo', markersize=6, label='DFT-MTP on myDB', zorder=5)\n",
    "\n",
    "axs[0].tick_params(axis=\"both\",direction=\"in\", left=\"off\",labelleft=\"on\")\n",
    "axs[1].tick_params(axis=\"both\",direction=\"in\", left=\"off\",labelleft=\"on\")\n",
    "axs[0].xaxis.labelpad = 7\n",
    "axs[1].legend(title='all rms v. GAP-18 pot')\n",
    "#axs[1].legend(bbox_to_anchor=(0.6,1.05))\n",
    "# axs[1].xaxis.labelpad = 20\n",
    "\n",
    "plt.tight_layout()\n",
    "fig.savefig('/home/joe/Documents/Ge_od/GAP_to_MTP/volker_figures/rmse_vGAP18.png', dpi=100, bbox_inches='tight')"
   ],
   "metadata": {
    "collapsed": false,
    "pycharm": {
     "name": "#%%\n"
    }
   }
  },
  {
   "cell_type": "code",
   "execution_count": null,
   "outputs": [],
   "source": [
    "print(rms_dict(MTP_EF_myDB[0][0], GAP_18_EF_myDB[0]))\n",
    "rms_dict(GAP_18_EF_myDB[0], MTP_EF_myDB[1][0])\n"
   ],
   "metadata": {
    "collapsed": false,
    "pycharm": {
     "name": "#%%\n"
    }
   }
  },
  {
   "cell_type": "code",
   "execution_count": null,
   "outputs": [],
   "source": [
    "fig, axs = plt.subplots()\n",
    "axs.scatter(GAP_18_EF_myDB[0], MTP_EF_myDB[0][0], s=2, label='MTP-16', color='g', zorder=2)\n",
    "axs.scatter(GAP_18_EF_myDB[0], MTP_EF_myDB[1][0], s=2, label='MTP-20', color='b')\n",
    "# axs.plot(x:=np.linspace(-168.8,-168.0), x, color='k', linewidth=0.5)\n",
    "axs.plot(x:=np.linspace(-163,-162.2), x, color='k', linewidth=0.5)\n",
    "axs.set(xlim=(-163,-162.2), ylim=(-163,-162.2))\n",
    "axs.legend(title='GAP-MTP v. GAP-18 on myDB', markerscale=3)\n",
    "axs.set(xlabel='GAP-18 Energy  / $\\mathrm{eV\\AA^{-1}}$', ylabel='MTP prediction / $\\mathrm{eV\\AA^{-1}}$')\n",
    "axs.tick_params(axis=\"both\",direction=\"in\", left=\"off\",labelleft=\"on\")\n",
    "plt.tight_layout()"
   ],
   "metadata": {
    "collapsed": false,
    "pycharm": {
     "name": "#%%\n"
    }
   }
  },
  {
   "cell_type": "code",
   "execution_count": null,
   "outputs": [],
   "source": [
    "fig, axs = plt.subplots(1,2, figsize=(8, 4))\n",
    "fig.subplots_adjust(hspace=0.05)\n",
    "\n",
    "# axs[0].errorbar(TS[:2], np.array([i[0]['rmse'] for i in rmses_GAP_DFT])*1000,\n",
    "#                 yerr=None, fmt='o--', color='k', markersize=6, label='GAP-18 v. DFT', zorder=5)\n",
    "#\n",
    "axs[0].errorbar(TS[:2], np.array([i[0]['rmse'] for i in rmses_MTP_DFT[:2]])*1000,\n",
    "                yerr=None, fmt='o--', color='r', markersize=6, label='GAP-MTP v. DFT', zorder=5)\n",
    "axs[0].errorbar(TS[:2], np.array([i[0]['rmse'] for i in rmses_MTP_DFT[2:]])*1000,\n",
    "                yerr=None, fmt='o--', color='Indigo', markersize=6, label='DFT-MTP v. DFT')\n",
    "\n",
    "axs[0].errorbar(TS[:2], np.array([i[0]['rmse'] for i in rmses_MTP_GAP18[:2]])*1000,\n",
    "                yerr=None, fmt='s--', color='r', markersize=6, label='GAP-MTP v. GAP-18', zorder=5)\n",
    "axs[0].errorbar(TS[:2], np.array([i[0]['rmse'] for i in rmses_MTP_GAP18[2:]])*1000,\n",
    "                yerr=None, fmt='s--', color='Indigo', markersize=6, label='DFT-MTP v. GAP-18', zorder=5)\n",
    "\n",
    "\n",
    "axs[1].errorbar(TS[:2], np.array([i[1]['rmse'] for i in rmses_MTP_DFT[:2]]),\n",
    "                yerr=None, fmt='o--', color='r', markersize=6, label='GAP-MTP v. DFT', zorder=5)\n",
    "axs[1].errorbar(TS[:2], np.array([i[1]['rmse'] for i in rmses_MTP_DFT[2:]]),\n",
    "                yerr=None, fmt='o--', color='Indigo', markersize=6, label='DFT-MTP v. DFT')\n",
    "\n",
    "axs[1].errorbar(TS[:2], np.array([i[1]['rmse'] for i in rmses_MTP_GAP18[:2]]),\n",
    "                yerr=None, fmt='s--', color='r', markersize=6, label='GAP-MTP v. GAP-18', zorder=5)\n",
    "axs[1].errorbar(TS[:2], np.array([i[1]['rmse'] for i in rmses_MTP_GAP18[2:]]),\n",
    "                yerr=None, fmt='s--', color='Indigo', markersize=6, label='DFT-MTP v. GAP-18', zorder=5)\n",
    "\n",
    "\n",
    "axs[0].set(xlabel='MTP setting', ylabel='Energy RMSE / meV')\n",
    "axs[1].set(xlabel='MTP setting', ylabel='Force RMSE / $\\mathrm{eV\\AA^{-1}}$')\n",
    "axs[0].tick_params(axis=\"both\",direction=\"in\", left=\"off\",labelleft=\"on\")\n",
    "axs[1].tick_params(axis=\"both\",direction=\"in\", left=\"off\",labelleft=\"on\")\n",
    "# axs[0].axhline(rmses_GAP_DFT[0]['rmse'],  color='k')\n",
    "plt.tight_layout()\n",
    "axs[1].legend(title='All on GAP-18 DB', bbox_to_anchor=(1.05,0.5))\n",
    "# axs[1].xaxis.labelpad = 20\n",
    "fig.savefig('/home/joe/Documents/Ge_od/GAP_to_MTP/volker_figures/rmse_vDFT.png', dpi=100, bbox_inches='tight')"
   ],
   "metadata": {
    "collapsed": false,
    "pycharm": {
     "name": "#%%\n"
    }
   }
  },
  {
   "cell_type": "code",
   "execution_count": null,
   "outputs": [],
   "source": [
    "fig, axs = plt.subplots(1,2, figsize=(8, 4))\n",
    "fig.subplots_adjust(hspace=0.05)"
   ],
   "metadata": {
    "collapsed": false,
    "pycharm": {
     "name": "#%%\n"
    }
   }
  },
  {
   "cell_type": "code",
   "execution_count": null,
   "outputs": [],
   "source": [
    "rs = [ring_statistics(i.df['Configs'][240000], cutoff=2.7) for i in MTP_md]\n",
    "rs = pad_rstats(rs)"
   ],
   "metadata": {
    "collapsed": false,
    "pycharm": {
     "name": "#%%\n"
    }
   }
  },
  {
   "cell_type": "code",
   "execution_count": null,
   "outputs": [],
   "source": [
    "rs_G18 = ring_statistics(GAP_18_md.df['Configs'][240000], cutoff=2.7)\n",
    "rs_G18 = pad_rstats([rs_G18])"
   ],
   "metadata": {
    "collapsed": false,
    "pycharm": {
     "name": "#%%\n"
    }
   }
  },
  {
   "cell_type": "code",
   "execution_count": null,
   "outputs": [],
   "source": [
    "rs_G18"
   ],
   "metadata": {
    "collapsed": false,
    "pycharm": {
     "name": "#%%\n"
    }
   }
  },
  {
   "cell_type": "code",
   "execution_count": null,
   "outputs": [],
   "source": [
    "np.arange(2, len(rs_G18[0])), rs_G18[0][2:]"
   ],
   "metadata": {
    "collapsed": false,
    "pycharm": {
     "name": "#%%\n"
    }
   }
  },
  {
   "cell_type": "code",
   "execution_count": null,
   "outputs": [],
   "source": [
    "order = [0, 2, 1, 3]\n",
    "colors = ['darkred', 'red', 'darkblue', 'slateblue']\n",
    "markers = ['x', '+', 'o', 's']\n",
    "fig, axs = plt.subplots()\n",
    "# colormap = plt.get_cmap('viridis')\n",
    "# colors = [colormap(i) for i in np.linspace(F_reg[0], F_reg[-1], len(F_reg))]\n",
    "for i, val in enumerate(order):\n",
    "    axs.plot(np.arange(2, len(rs[0])), rs[val][2:], label=MTP_md[val].label,\n",
    "    color=colors[i], marker=markers[i])\n",
    "axs.plot(np.arange(2, len(rs_G18[0])), rs_G18[0][2:], label=GAP_18_md.label, marker='^', linestyle='--',\n",
    "         color='k')\n",
    "    # axs.set(xlim=(2,11), ylim=(-5,5))\n",
    "axs.legend()\n",
    "axs.set(xlabel='Ring size', ylabel='Count')\n",
    "axs.tick_params(axis=\"both\",direction=\"in\", left=\"off\",labelleft=\"on\")\n",
    "plt.tight_layout()\n",
    "fig.savefig('/home/joe/Documents/Ge_od/GAP_to_MTP/volker_figures/rstat_4.png', dpi=100, bbox_inches='tight')"
   ],
   "metadata": {
    "collapsed": false,
    "pycharm": {
     "name": "#%%\n"
    }
   }
  },
  {
   "cell_type": "code",
   "execution_count": null,
   "outputs": [],
   "source": [
    "for i in MTP_md:\n",
    "    i.structure_factors(selection=[i for i in range(30,120)]+[i for i in range(220,240)],\n",
    "                    rings_dir='Sq_'+i.label,\n",
    "                    opts={'Angles':True},\n",
    "                    rings_in={'species':['Si']},\n",
    "                    read_only=True)\n",
    "    l_sel = [i for i in range(90)]\n",
    "    a_sel = [i for i in range(90,110)]\n",
    "    i.bin_fit(s_selection=l_sel, q_selection=[0.5,12], nbins=200)\n",
    "    i.bin_fit(s_selection=a_sel, q_selection=[0.5,12], nbins=200)\n",
    "    i.bin_bond_angle(s_selection=l_sel)\n",
    "    i.bin_bond_angle(s_selection=a_sel)"
   ],
   "metadata": {
    "collapsed": false,
    "pycharm": {
     "name": "#%%\n"
    }
   }
  },
  {
   "cell_type": "code",
   "execution_count": null,
   "outputs": [],
   "source": [
    "GAP_18_md.structure_factors(selection=[i for i in range(30,120)]+[i for i in range(220,240)],\n",
    "                rings_dir='/home/joe/Documents/Ge_od/MD_runs/Si_litDB_full_4000/Sq_rings_1000_001',\n",
    "                opts={'Angles':True},\n",
    "                rings_in={'species':['Si']},\n",
    "                read_only=True)\n",
    "l_sel = [i for i in range(90)]\n",
    "a_sel = [i for i in range(90,110)]\n",
    "GAP_18_md.bin_fit(s_selection=l_sel, q_selection=[0.5,12])\n",
    "GAP_18_md.bin_fit(s_selection=a_sel, q_selection=[0.5,12])\n",
    "GAP_18_md.bin_bond_angle(s_selection=l_sel)\n",
    "GAP_18_md.bin_bond_angle(s_selection=a_sel)\n"
   ],
   "metadata": {
    "collapsed": false,
    "pycharm": {
     "name": "#%%\n"
    }
   }
  },
  {
   "cell_type": "code",
   "execution_count": null,
   "outputs": [],
   "source": [
    "aSi_exp_Sq = np.genfromtxt('/home/joe/Documents/Ge_od/paper_data/a-Si_x-ray_Laaziri1999.txt',\n",
    "                          delimiter=', ').T"
   ],
   "metadata": {
    "collapsed": false,
    "pycharm": {
     "name": "#%%\n"
    }
   }
  },
  {
   "cell_type": "code",
   "execution_count": null,
   "outputs": [],
   "source": [
    "linestyles = ['-', '--', '-.', ':']"
   ],
   "metadata": {
    "collapsed": false,
    "pycharm": {
     "name": "#%%\n"
    }
   }
  },
  {
   "cell_type": "code",
   "execution_count": null,
   "outputs": [],
   "source": [
    "fig, axs = plt.subplots()\n",
    "for ct, i in enumerate(order):\n",
    "    axs.errorbar(*MTP_md[i].Sq_x_av[1], yerr=None,\n",
    "                label=MTP_md[i].label, color=colors[ct], linestyle=linestyles[ct])\n",
    "\n",
    "axs.errorbar(*GAP_18_md.Sq_x_av[1], yerr=None,\n",
    "            label=GAP_18_md.label, color='k')\n",
    "axs.plot(*aSi_exp_Sq, color='Gray', linewidth=2, label='Exp. a-Si')\n",
    "axs.legend(bbox_to_anchor=(1, 1.04), loc='upper right')\n",
    "axs.set(xlabel= r'Q / $\\mathrm{{\\AA}}^{-1}$', ylabel='$\\mathrm{S(Q)}$')\n",
    "axs.set(xlim=(1.25,3), ylim=(0,1.9))\n",
    "plt.tight_layout()\n",
    "\n",
    "fig.savefig('/home/joe/Documents/Ge_od/GAP_to_MTP/volker_figures/amo_Sq_4_zoom.png', dpi=100, bbox_inches='tight')"
   ],
   "metadata": {
    "collapsed": false,
    "pycharm": {
     "name": "#%%\n"
    }
   }
  },
  {
   "cell_type": "code",
   "execution_count": null,
   "outputs": [],
   "source": [
    "# BADFs\n",
    "fig, axs = plt.subplots()\n",
    "axs.plot(*GAP_18_md.bond_angle_av[0], color='k', linestyle='--')\n",
    "axs.plot(*GAP_18_md.bond_angle_av[1], label=GAP_18_md.label, color='k')\n",
    "for ct, i in enumerate(order):\n",
    "    axs.errorbar(*MTP_md[i].bond_angle_av[0], yerr=None,\n",
    "                 color=colors[ct])\n",
    "    axs.errorbar(*MTP_md[i].bond_angle_av[1], yerr=None,\n",
    "                label=MTP_md[i].label, color=colors[ct])\n",
    "\n",
    "axs.legend(title='- amo\\n-- liquid')\n",
    "axs.set(xlabel='Angle / deg', ylabel='')\n",
    "fig.savefig('/home/joe/Documents/Ge_od/GAP_to_MTP/volker_figures/BADF_4.png', dpi=100, bbox_inches='tight')"
   ],
   "metadata": {
    "collapsed": false,
    "pycharm": {
     "name": "#%%\n"
    }
   }
  },
  {
   "cell_type": "code",
   "execution_count": null,
   "outputs": [],
   "source": [],
   "metadata": {
    "collapsed": false,
    "pycharm": {
     "name": "#%%\n"
    }
   }
  },
  {
   "cell_type": "markdown",
   "source": [
    "# Pressure-Quench MD analysis"
   ],
   "metadata": {
    "collapsed": false
   }
  },
  {
   "cell_type": "code",
   "execution_count": null,
   "outputs": [],
   "source": [
    "d_u20_1k = MD_run('pressure_quench/run_1000_u20_direct/', label='u20_direct')\n",
    "id_u20_1k = MD_run('pressure_quench/run_1000_u20_indirect/', label='u20_indirect')\n",
    "d_u16_1k = MD_run('pressure_quench/run_1000_PQ_u16_direct/', label='u16_direct')\n",
    "id_u16_1k = MD_run('pressure_quench/run_1000_PQ_u16_indirect/', label='u16_indirect')"
   ],
   "metadata": {
    "collapsed": false,
    "pycharm": {
     "name": "#%%\n"
    }
   }
  },
  {
   "cell_type": "code",
   "execution_count": null,
   "outputs": [],
   "source": [
    "d_u20_1k.dat_head"
   ],
   "metadata": {
    "collapsed": false,
    "pycharm": {
     "name": "#%%\n"
    }
   }
  },
  {
   "cell_type": "code",
   "execution_count": null,
   "outputs": [],
   "source": [
    "pMDs = [d_u16_1k, d_u20_1k, id_u16_1k, id_u20_1k]"
   ],
   "metadata": {
    "collapsed": false,
    "pycharm": {
     "name": "#%%\n"
    }
   }
  },
  {
   "cell_type": "code",
   "execution_count": null,
   "outputs": [],
   "source": [
    "fig, axs = plt.subplots()\n",
    "\n",
    "for i, val in enumerate(pMDs):\n",
    "    axs.plot(val.dat[5]/1e4, val.dat[8]/1000, label=val.label)#, linestyle=linestyles[i])\n",
    "    axs.set(xlim=(1,20), ylim=(12.8,21), xlabel='P / GPa', ylabel=r'$V_{at}$ / $\\AA^3$')\n",
    "    axs.legend()"
   ],
   "metadata": {
    "collapsed": false,
    "pycharm": {
     "name": "#%%\n"
    }
   }
  },
  {
   "cell_type": "code",
   "execution_count": null,
   "outputs": [],
   "source": [
    "fig, axs = plt.subplots()\n",
    "\n",
    "for i, val in enumerate(pMDs):\n",
    "    axs.plot(val.dat[5]/1e4, val.dat[6], label=val.label)#, linestyle=linestyles[i])\n",
    "    axs.set(xlim=(1,20), ylim=(-163, -162.5), xlabel='P / GPa', ylabel=r'$E_{at}$ / $eV$')\n",
    "    axs.legend()"
   ],
   "metadata": {
    "collapsed": false,
    "pycharm": {
     "name": "#%%\n"
    }
   }
  },
  {
   "cell_type": "code",
   "execution_count": null,
   "outputs": [],
   "source": [
    "# calculate C.N. counts, per-atom-excess-s\n",
    "for i, val in enumerate(id_u16_1k.configs):\n",
    "    val.info['cn'], val.arrays['cn'] = cn_count(val)\n"
   ],
   "metadata": {
    "collapsed": false,
    "pycharm": {
     "name": "#%%\n"
    }
   }
  },
  {
   "cell_type": "code",
   "execution_count": null,
   "outputs": [],
   "source": [
    "#id_u16_1k.dat.append(np.array([[]]))\n",
    "cn = np.array([[]])\n",
    "for i, val in enumerate(id_u16_1k.configs):\n",
    "    if i == 0:\n",
    "        cn = np.array([val.info['cn']])\n",
    "    else:\n",
    "        cn = np.concatenate((cn, [val.info['cn']]), axis=0)"
   ],
   "metadata": {
    "collapsed": false,
    "pycharm": {
     "name": "#%%\n"
    }
   }
  },
  {
   "cell_type": "code",
   "execution_count": 29,
   "outputs": [
    {
     "data": {
      "text/plain": "<matplotlib.legend.Legend at 0x7f6439247b80>"
     },
     "execution_count": 29,
     "metadata": {},
     "output_type": "execute_result"
    },
    {
     "data": {
      "text/plain": "<Figure size 432x288 with 1 Axes>",
      "image/png": "[encoded data removed]"
     },
     "metadata": {
      "needs_background": "light"
     },
     "output_type": "display_data"
    }
   ],
   "source": [
    "fig, axs = plt.subplots()\n",
    "\n",
    "for i in range(4,9):\n",
    "    axs.plot(id_u16_1k.df['f_PressAve']/1e4, cn.T[i][1:], label=str(i))\n",
    "\n",
    "axs.legend()"
   ],
   "metadata": {
    "collapsed": false,
    "pycharm": {
     "name": "#%%\n"
    }
   }
  },
  {
   "cell_type": "code",
   "execution_count": 44,
   "outputs": [],
   "source": [
    "sh = Atoms(hexagonal.Hexagonal(symbol='Si', latticeconstant={'a':2.65, 'c':4.58}))\n",
    "dia = bulk('Si', crystalstructure='diamond', a=5.43,  cubic=True)"
   ],
   "metadata": {
    "collapsed": false,
    "pycharm": {
     "name": "#%%\n"
    }
   }
  },
  {
   "cell_type": "code",
   "execution_count": 48,
   "outputs": [],
   "source": [
    "sh_kern = kernel_compare(id_u16_1k.df['Configs'], sh, similarity=True, average=True)"
   ],
   "metadata": {
    "collapsed": false,
    "pycharm": {
     "name": "#%%\n"
    }
   }
  },
  {
   "cell_type": "code",
   "execution_count": 49,
   "outputs": [],
   "source": [
    "dia_kern = kernel_compare(id_u16_1k.df['Configs'], dia, similarity=True, average=True)"
   ],
   "metadata": {
    "collapsed": false,
    "pycharm": {
     "name": "#%%\n"
    }
   }
  },
  {
   "cell_type": "code",
   "execution_count": 51,
   "outputs": [
    {
     "data": {
      "text/plain": "[<matplotlib.lines.Line2D at 0x7f647d8c8070>]"
     },
     "execution_count": 51,
     "metadata": {},
     "output_type": "execute_result"
    },
    {
     "data": {
      "text/plain": "<Figure size 432x288 with 1 Axes>",
      "image/png": "[encoded data removed]"
     },
     "metadata": {
      "needs_background": "light"
     },
     "output_type": "display_data"
    }
   ],
   "source": [
    "fig, axs = plt.subplots()\n",
    "axs.plot(id_u16_1k.df['f_PressAve']/1e4, sh_kern)\n",
    "axs.plot(id_u16_1k.df['f_PressAve']/1e4, dia_kern)"
   ],
   "metadata": {
    "collapsed": false,
    "pycharm": {
     "name": "#%%\n"
    }
   }
  },
  {
   "cell_type": "code",
   "execution_count": 94,
   "outputs": [
    {
     "ename": "RuntimeError",
     "evalue": "Interrupt occured",
     "output_type": "error",
     "traceback": [
      "\u001B[0;31m---------------------------------------------------------------------------\u001B[0m",
      "\u001B[0;31mRuntimeError\u001B[0m                              Traceback (most recent call last)",
      "\u001B[0;32m<ipython-input-94-8036845cd93b>\u001B[0m in \u001B[0;36m<module>\u001B[0;34m\u001B[0m\n\u001B[0;32m----> 1\u001B[0;31m \u001B[0msh_kern_atomwise\u001B[0m \u001B[0;34m=\u001B[0m \u001B[0mkernel_compare\u001B[0m\u001B[0;34m(\u001B[0m\u001B[0mid_u16_1k\u001B[0m\u001B[0;34m.\u001B[0m\u001B[0mdf\u001B[0m\u001B[0;34m[\u001B[0m\u001B[0;34m'Configs'\u001B[0m\u001B[0;34m]\u001B[0m\u001B[0;34m,\u001B[0m \u001B[0msh\u001B[0m\u001B[0;34m,\u001B[0m \u001B[0msimilarity\u001B[0m\u001B[0;34m=\u001B[0m\u001B[0;32mTrue\u001B[0m\u001B[0;34m,\u001B[0m \u001B[0maverage\u001B[0m\u001B[0;34m=\u001B[0m\u001B[0;32mFalse\u001B[0m\u001B[0;34m)\u001B[0m\u001B[0;34m\u001B[0m\u001B[0;34m\u001B[0m\u001B[0m\n\u001B[0m",
      "\u001B[0;32m~/PycharmProjects/Ge_analysis_local/Ge_analysis.py\u001B[0m in \u001B[0;36mkernel_compare\u001B[0;34m(cfgs, comp, desc, zeta, similarity, average)\u001B[0m\n\u001B[1;32m   1107\u001B[0m         \u001B[0mdesc_str\u001B[0m \u001B[0;34m=\u001B[0m \u001B[0mdesc\u001B[0m\u001B[0;34m\u001B[0m\u001B[0;34m\u001B[0m\u001B[0m\n\u001B[1;32m   1108\u001B[0m     \u001B[0mdesc\u001B[0m \u001B[0;34m=\u001B[0m \u001B[0mDescriptor\u001B[0m\u001B[0;34m(\u001B[0m\u001B[0mdesc_str\u001B[0m\u001B[0;34m)\u001B[0m\u001B[0;34m\u001B[0m\u001B[0;34m\u001B[0m\u001B[0m\n\u001B[0;32m-> 1109\u001B[0;31m     \u001B[0mdescs\u001B[0m \u001B[0;34m=\u001B[0m \u001B[0mnp\u001B[0m\u001B[0;34m.\u001B[0m\u001B[0marray\u001B[0m\u001B[0;34m(\u001B[0m\u001B[0mdesc\u001B[0m\u001B[0;34m.\u001B[0m\u001B[0mcalc_descriptor\u001B[0m\u001B[0;34m(\u001B[0m\u001B[0mcfgs\u001B[0m\u001B[0;34m)\u001B[0m\u001B[0;34m)\u001B[0m\u001B[0;34m\u001B[0m\u001B[0;34m\u001B[0m\u001B[0m\n\u001B[0m\u001B[1;32m   1110\u001B[0m     \u001B[0mcomp_desc\u001B[0m \u001B[0;34m=\u001B[0m \u001B[0mdesc\u001B[0m\u001B[0;34m.\u001B[0m\u001B[0mcalc_descriptor\u001B[0m\u001B[0;34m(\u001B[0m\u001B[0mcomp\u001B[0m\u001B[0;34m)\u001B[0m\u001B[0;34m[\u001B[0m\u001B[0;36m0\u001B[0m\u001B[0;34m]\u001B[0m\u001B[0;34m\u001B[0m\u001B[0;34m\u001B[0m\u001B[0m\n\u001B[1;32m   1111\u001B[0m     \u001B[0mprint\u001B[0m\u001B[0;34m(\u001B[0m\u001B[0mdescs\u001B[0m\u001B[0;34m.\u001B[0m\u001B[0mshape\u001B[0m\u001B[0;34m,\u001B[0m \u001B[0mcomp_desc\u001B[0m\u001B[0;34m.\u001B[0m\u001B[0mshape\u001B[0m\u001B[0;34m)\u001B[0m\u001B[0;34m\u001B[0m\u001B[0;34m\u001B[0m\u001B[0m\n",
      "\u001B[0;32m~/QUIP/build/linux_x86_64_gfortran/quippy/descriptors.py\u001B[0m in \u001B[0;36mwrapper\u001B[0;34m(self, at, *args, **kw)\u001B[0m\n\u001B[1;32m     44\u001B[0m             \u001B[0;32mreturn\u001B[0m \u001B[0mmethod\u001B[0m\u001B[0;34m(\u001B[0m\u001B[0mself\u001B[0m\u001B[0;34m,\u001B[0m \u001B[0m_quip_at\u001B[0m\u001B[0;34m,\u001B[0m \u001B[0;34m*\u001B[0m\u001B[0margs\u001B[0m\u001B[0;34m,\u001B[0m \u001B[0;34m**\u001B[0m\u001B[0mkw\u001B[0m\u001B[0;34m)\u001B[0m\u001B[0;34m\u001B[0m\u001B[0;34m\u001B[0m\u001B[0m\n\u001B[1;32m     45\u001B[0m         \u001B[0;32melse\u001B[0m\u001B[0;34m:\u001B[0m\u001B[0;34m\u001B[0m\u001B[0;34m\u001B[0m\u001B[0m\n\u001B[0;32m---> 46\u001B[0;31m             \u001B[0;32mreturn\u001B[0m \u001B[0;34m[\u001B[0m\u001B[0mwrapper\u001B[0m\u001B[0;34m(\u001B[0m\u001B[0mself\u001B[0m\u001B[0;34m,\u001B[0m \u001B[0matelement\u001B[0m\u001B[0;34m,\u001B[0m \u001B[0;34m*\u001B[0m\u001B[0margs\u001B[0m\u001B[0;34m,\u001B[0m \u001B[0;34m**\u001B[0m\u001B[0mkw\u001B[0m\u001B[0;34m)\u001B[0m \u001B[0;32mfor\u001B[0m \u001B[0matelement\u001B[0m \u001B[0;32min\u001B[0m \u001B[0mat\u001B[0m\u001B[0;34m]\u001B[0m\u001B[0;34m\u001B[0m\u001B[0;34m\u001B[0m\u001B[0m\n\u001B[0m\u001B[1;32m     47\u001B[0m \u001B[0;34m\u001B[0m\u001B[0m\n\u001B[1;32m     48\u001B[0m     \u001B[0;32mreturn\u001B[0m \u001B[0mwrapper\u001B[0m\u001B[0;34m\u001B[0m\u001B[0;34m\u001B[0m\u001B[0m\n",
      "\u001B[0;32m~/QUIP/build/linux_x86_64_gfortran/quippy/descriptors.py\u001B[0m in \u001B[0;36m<listcomp>\u001B[0;34m(.0)\u001B[0m\n\u001B[1;32m     44\u001B[0m             \u001B[0;32mreturn\u001B[0m \u001B[0mmethod\u001B[0m\u001B[0;34m(\u001B[0m\u001B[0mself\u001B[0m\u001B[0;34m,\u001B[0m \u001B[0m_quip_at\u001B[0m\u001B[0;34m,\u001B[0m \u001B[0;34m*\u001B[0m\u001B[0margs\u001B[0m\u001B[0;34m,\u001B[0m \u001B[0;34m**\u001B[0m\u001B[0mkw\u001B[0m\u001B[0;34m)\u001B[0m\u001B[0;34m\u001B[0m\u001B[0;34m\u001B[0m\u001B[0m\n\u001B[1;32m     45\u001B[0m         \u001B[0;32melse\u001B[0m\u001B[0;34m:\u001B[0m\u001B[0;34m\u001B[0m\u001B[0;34m\u001B[0m\u001B[0m\n\u001B[0;32m---> 46\u001B[0;31m             \u001B[0;32mreturn\u001B[0m \u001B[0;34m[\u001B[0m\u001B[0mwrapper\u001B[0m\u001B[0;34m(\u001B[0m\u001B[0mself\u001B[0m\u001B[0;34m,\u001B[0m \u001B[0matelement\u001B[0m\u001B[0;34m,\u001B[0m \u001B[0;34m*\u001B[0m\u001B[0margs\u001B[0m\u001B[0;34m,\u001B[0m \u001B[0;34m**\u001B[0m\u001B[0mkw\u001B[0m\u001B[0;34m)\u001B[0m \u001B[0;32mfor\u001B[0m \u001B[0matelement\u001B[0m \u001B[0;32min\u001B[0m \u001B[0mat\u001B[0m\u001B[0;34m]\u001B[0m\u001B[0;34m\u001B[0m\u001B[0;34m\u001B[0m\u001B[0m\n\u001B[0m\u001B[1;32m     47\u001B[0m \u001B[0;34m\u001B[0m\u001B[0m\n\u001B[1;32m     48\u001B[0m     \u001B[0;32mreturn\u001B[0m \u001B[0mwrapper\u001B[0m\u001B[0;34m\u001B[0m\u001B[0;34m\u001B[0m\u001B[0m\n",
      "\u001B[0;32m~/QUIP/build/linux_x86_64_gfortran/quippy/descriptors.py\u001B[0m in \u001B[0;36mwrapper\u001B[0;34m(self, at, *args, **kw)\u001B[0m\n\u001B[1;32m     42\u001B[0m         \u001B[0;32melif\u001B[0m \u001B[0misinstance\u001B[0m\u001B[0;34m(\u001B[0m\u001B[0mat\u001B[0m\u001B[0;34m,\u001B[0m \u001B[0mAtoms\u001B[0m\u001B[0;34m)\u001B[0m\u001B[0;34m:\u001B[0m\u001B[0;34m\u001B[0m\u001B[0;34m\u001B[0m\u001B[0m\n\u001B[1;32m     43\u001B[0m             \u001B[0m_quip_at\u001B[0m \u001B[0;34m=\u001B[0m \u001B[0mquippy\u001B[0m\u001B[0;34m.\u001B[0m\u001B[0mconvert\u001B[0m\u001B[0;34m.\u001B[0m\u001B[0mase_to_quip\u001B[0m\u001B[0;34m(\u001B[0m\u001B[0mat\u001B[0m\u001B[0;34m)\u001B[0m\u001B[0;34m\u001B[0m\u001B[0;34m\u001B[0m\u001B[0m\n\u001B[0;32m---> 44\u001B[0;31m             \u001B[0;32mreturn\u001B[0m \u001B[0mmethod\u001B[0m\u001B[0;34m(\u001B[0m\u001B[0mself\u001B[0m\u001B[0;34m,\u001B[0m \u001B[0m_quip_at\u001B[0m\u001B[0;34m,\u001B[0m \u001B[0;34m*\u001B[0m\u001B[0margs\u001B[0m\u001B[0;34m,\u001B[0m \u001B[0;34m**\u001B[0m\u001B[0mkw\u001B[0m\u001B[0;34m)\u001B[0m\u001B[0;34m\u001B[0m\u001B[0;34m\u001B[0m\u001B[0m\n\u001B[0m\u001B[1;32m     45\u001B[0m         \u001B[0;32melse\u001B[0m\u001B[0;34m:\u001B[0m\u001B[0;34m\u001B[0m\u001B[0;34m\u001B[0m\u001B[0m\n\u001B[1;32m     46\u001B[0m             \u001B[0;32mreturn\u001B[0m \u001B[0;34m[\u001B[0m\u001B[0mwrapper\u001B[0m\u001B[0;34m(\u001B[0m\u001B[0mself\u001B[0m\u001B[0;34m,\u001B[0m \u001B[0matelement\u001B[0m\u001B[0;34m,\u001B[0m \u001B[0;34m*\u001B[0m\u001B[0margs\u001B[0m\u001B[0;34m,\u001B[0m \u001B[0;34m**\u001B[0m\u001B[0mkw\u001B[0m\u001B[0;34m)\u001B[0m \u001B[0;32mfor\u001B[0m \u001B[0matelement\u001B[0m \u001B[0;32min\u001B[0m \u001B[0mat\u001B[0m\u001B[0;34m]\u001B[0m\u001B[0;34m\u001B[0m\u001B[0;34m\u001B[0m\u001B[0m\n",
      "\u001B[0;32m~/QUIP/build/linux_x86_64_gfortran/quippy/descriptors.py\u001B[0m in \u001B[0;36mcalc_descriptor\u001B[0;34m(self, at, args_str, cutoff, **calc_kwargs)\u001B[0m\n\u001B[1;32m    149\u001B[0m         \"\"\"\n\u001B[1;32m    150\u001B[0m         \u001B[0;32mtry\u001B[0m\u001B[0;34m:\u001B[0m\u001B[0;34m\u001B[0m\u001B[0;34m\u001B[0m\u001B[0m\n\u001B[0;32m--> 151\u001B[0;31m             \u001B[0;32mreturn\u001B[0m \u001B[0mself\u001B[0m\u001B[0;34m.\u001B[0m\u001B[0mcalc\u001B[0m\u001B[0;34m(\u001B[0m\u001B[0mat\u001B[0m\u001B[0;34m,\u001B[0m \u001B[0;32mFalse\u001B[0m\u001B[0;34m,\u001B[0m \u001B[0margs_str\u001B[0m\u001B[0;34m,\u001B[0m \u001B[0mcutoff\u001B[0m\u001B[0;34m,\u001B[0m \u001B[0;34m**\u001B[0m\u001B[0mcalc_kwargs\u001B[0m\u001B[0;34m)\u001B[0m\u001B[0;34m[\u001B[0m\u001B[0;34m'data'\u001B[0m\u001B[0;34m]\u001B[0m\u001B[0;34m\u001B[0m\u001B[0;34m\u001B[0m\u001B[0m\n\u001B[0m\u001B[1;32m    152\u001B[0m         \u001B[0;32mexcept\u001B[0m \u001B[0mKeyError\u001B[0m\u001B[0;34m:\u001B[0m\u001B[0;34m\u001B[0m\u001B[0;34m\u001B[0m\u001B[0m\n\u001B[1;32m    153\u001B[0m             \u001B[0;32mreturn\u001B[0m \u001B[0;34m[\u001B[0m\u001B[0;34m]\u001B[0m\u001B[0;34m\u001B[0m\u001B[0;34m\u001B[0m\u001B[0m\n",
      "\u001B[0;32m~/QUIP/build/linux_x86_64_gfortran/quippy/descriptors.py\u001B[0m in \u001B[0;36mwrapper\u001B[0;34m(self, at, *args, **kw)\u001B[0m\n\u001B[1;32m     39\u001B[0m     \u001B[0;32mdef\u001B[0m \u001B[0mwrapper\u001B[0m\u001B[0;34m(\u001B[0m\u001B[0mself\u001B[0m\u001B[0;34m,\u001B[0m \u001B[0mat\u001B[0m\u001B[0;34m,\u001B[0m \u001B[0;34m*\u001B[0m\u001B[0margs\u001B[0m\u001B[0;34m,\u001B[0m \u001B[0;34m**\u001B[0m\u001B[0mkw\u001B[0m\u001B[0;34m)\u001B[0m\u001B[0;34m:\u001B[0m\u001B[0;34m\u001B[0m\u001B[0;34m\u001B[0m\u001B[0m\n\u001B[1;32m     40\u001B[0m         \u001B[0;32mif\u001B[0m \u001B[0misinstance\u001B[0m\u001B[0;34m(\u001B[0m\u001B[0mat\u001B[0m\u001B[0;34m,\u001B[0m \u001B[0mquippy\u001B[0m\u001B[0;34m.\u001B[0m\u001B[0matoms_types_module\u001B[0m\u001B[0;34m.\u001B[0m\u001B[0mAtoms\u001B[0m\u001B[0;34m)\u001B[0m\u001B[0;34m:\u001B[0m\u001B[0;34m\u001B[0m\u001B[0;34m\u001B[0m\u001B[0m\n\u001B[0;32m---> 41\u001B[0;31m             \u001B[0;32mreturn\u001B[0m \u001B[0mmethod\u001B[0m\u001B[0;34m(\u001B[0m\u001B[0mself\u001B[0m\u001B[0;34m,\u001B[0m \u001B[0mat\u001B[0m\u001B[0;34m,\u001B[0m \u001B[0;34m*\u001B[0m\u001B[0margs\u001B[0m\u001B[0;34m,\u001B[0m \u001B[0;34m**\u001B[0m\u001B[0mkw\u001B[0m\u001B[0;34m)\u001B[0m\u001B[0;34m\u001B[0m\u001B[0;34m\u001B[0m\u001B[0m\n\u001B[0m\u001B[1;32m     42\u001B[0m         \u001B[0;32melif\u001B[0m \u001B[0misinstance\u001B[0m\u001B[0;34m(\u001B[0m\u001B[0mat\u001B[0m\u001B[0;34m,\u001B[0m \u001B[0mAtoms\u001B[0m\u001B[0;34m)\u001B[0m\u001B[0;34m:\u001B[0m\u001B[0;34m\u001B[0m\u001B[0;34m\u001B[0m\u001B[0m\n\u001B[1;32m     43\u001B[0m             \u001B[0m_quip_at\u001B[0m \u001B[0;34m=\u001B[0m \u001B[0mquippy\u001B[0m\u001B[0;34m.\u001B[0m\u001B[0mconvert\u001B[0m\u001B[0;34m.\u001B[0m\u001B[0mase_to_quip\u001B[0m\u001B[0;34m(\u001B[0m\u001B[0mat\u001B[0m\u001B[0;34m)\u001B[0m\u001B[0;34m\u001B[0m\u001B[0;34m\u001B[0m\u001B[0m\n",
      "\u001B[0;32m~/QUIP/build/linux_x86_64_gfortran/quippy/descriptors.py\u001B[0m in \u001B[0;36mcalc\u001B[0;34m(self, at, grad, args_str, cutoff, **calc_kwargs)\u001B[0m\n\u001B[1;32m    177\u001B[0m \u001B[0;34m\u001B[0m\u001B[0m\n\u001B[1;32m    178\u001B[0m         \u001B[0;31m# descriptor calculation\u001B[0m\u001B[0;34m\u001B[0m\u001B[0;34m\u001B[0m\u001B[0;34m\u001B[0m\u001B[0m\n\u001B[0;32m--> 179\u001B[0;31m         descriptor_out_raw = self._quip_descriptor.calc(at, do_descriptor=True, do_grad_descriptor=grad,\n\u001B[0m\u001B[1;32m    180\u001B[0m                                                         args_str=args_str)\n\u001B[1;32m    181\u001B[0m \u001B[0;34m\u001B[0m\u001B[0m\n",
      "\u001B[0;32m~/QUIP/build/linux_x86_64_gfortran/quippy/descriptors_module.py\u001B[0m in \u001B[0;36mcalc\u001B[0;34m(*args, **kwargs)\u001B[0m\n\u001B[1;32m   7856\u001B[0m         \u001B[0;32mfor\u001B[0m \u001B[0mproc\u001B[0m \u001B[0;32min\u001B[0m \u001B[0;34m[\u001B[0m\u001B[0mdescriptor\u001B[0m\u001B[0;34m.\u001B[0m\u001B[0m_calc\u001B[0m\u001B[0;34m,\u001B[0m \u001B[0mdescriptor\u001B[0m\u001B[0;34m.\u001B[0m\u001B[0m_calc_array\u001B[0m\u001B[0;34m]\u001B[0m\u001B[0;34m:\u001B[0m\u001B[0;34m\u001B[0m\u001B[0;34m\u001B[0m\u001B[0m\n\u001B[1;32m   7857\u001B[0m             \u001B[0;32mtry\u001B[0m\u001B[0;34m:\u001B[0m\u001B[0;34m\u001B[0m\u001B[0;34m\u001B[0m\u001B[0m\n\u001B[0;32m-> 7858\u001B[0;31m                 \u001B[0;32mreturn\u001B[0m \u001B[0mproc\u001B[0m\u001B[0;34m(\u001B[0m\u001B[0;34m*\u001B[0m\u001B[0margs\u001B[0m\u001B[0;34m,\u001B[0m \u001B[0;34m**\u001B[0m\u001B[0mkwargs\u001B[0m\u001B[0;34m)\u001B[0m\u001B[0;34m\u001B[0m\u001B[0;34m\u001B[0m\u001B[0m\n\u001B[0m\u001B[1;32m   7859\u001B[0m             \u001B[0;32mexcept\u001B[0m \u001B[0mTypeError\u001B[0m\u001B[0;34m:\u001B[0m\u001B[0;34m\u001B[0m\u001B[0;34m\u001B[0m\u001B[0m\n\u001B[1;32m   7860\u001B[0m                 \u001B[0;32mcontinue\u001B[0m\u001B[0;34m\u001B[0m\u001B[0;34m\u001B[0m\u001B[0m\n",
      "\u001B[0;32m~/QUIP/build/linux_x86_64_gfortran/quippy/descriptors_module.py\u001B[0m in \u001B[0;36m_calc\u001B[0;34m(self, at, do_descriptor, do_grad_descriptor, args_str, error)\u001B[0m\n\u001B[1;32m   7808\u001B[0m \u001B[0;34m\u001B[0m\u001B[0m\n\u001B[1;32m   7809\u001B[0m         \"\"\"\n\u001B[0;32m-> 7810\u001B[0;31m         descriptor_out = _quippy.f90wrap_descriptor_calc(this=self._handle, at=at._handle, do_descriptor=do_descriptor, \\\n\u001B[0m\u001B[1;32m   7811\u001B[0m             do_grad_descriptor=do_grad_descriptor, args_str=args_str, error=error)\n\u001B[1;32m   7812\u001B[0m         \u001B[0mdescriptor_out\u001B[0m \u001B[0;34m=\u001B[0m \u001B[0mf90wrap\u001B[0m\u001B[0;34m.\u001B[0m\u001B[0mruntime\u001B[0m\u001B[0;34m.\u001B[0m\u001B[0mlookup_class\u001B[0m\u001B[0;34m(\u001B[0m\u001B[0;34m\"quippy.descriptor_data\"\u001B[0m\u001B[0;34m)\u001B[0m\u001B[0;34m.\u001B[0m\u001B[0mfrom_handle\u001B[0m\u001B[0;34m(\u001B[0m\u001B[0mdescriptor_out\u001B[0m\u001B[0;34m)\u001B[0m\u001B[0;34m\u001B[0m\u001B[0;34m\u001B[0m\u001B[0m\n",
      "\u001B[0;31mRuntimeError\u001B[0m: Interrupt occured"
     ]
    }
   ],
   "source": [
    "sh_kern_atomwise = kernel_compare(id_u16_1k.df['Configs'], sh, similarity=True, average=False)"
   ],
   "metadata": {
    "collapsed": false,
    "pycharm": {
     "name": "#%%\n"
    }
   }
  },
  {
   "cell_type": "code",
   "execution_count": 22,
   "outputs": [
    {
     "data": {
      "text/plain": "(252, 255)"
     },
     "execution_count": 22,
     "metadata": {},
     "output_type": "execute_result"
    }
   ],
   "source": [
    "len(id_u16_1k.configs), len(id_u16_1k.dat[0])"
   ],
   "metadata": {
    "collapsed": false,
    "pycharm": {
     "name": "#%%\n"
    }
   }
  },
  {
   "cell_type": "code",
   "execution_count": 25,
   "outputs": [
    {
     "data": {
      "text/plain": "251"
     },
     "execution_count": 25,
     "metadata": {},
     "output_type": "execute_result"
    }
   ],
   "source": [
    "len(id_u16_1k.df['f_PressAve'])"
   ],
   "metadata": {
    "collapsed": false,
    "pycharm": {
     "name": "#%%\n"
    }
   }
  },
  {
   "cell_type": "code",
   "execution_count": null,
   "outputs": [],
   "source": [
    "id_u16_1k.df['Configs'][0].info\n",
    "\n",
    "\n"
   ],
   "metadata": {
    "collapsed": false,
    "pycharm": {
     "name": "#%%\n"
    }
   }
  }
 ],
 "metadata": {
  "kernelspec": {
   "display_name": "Python 3",
   "language": "python",
   "name": "python3"
  },
  "language_info": {
   "codemirror_mode": {
    "name": "ipython",
    "version": 2
   },
   "file_extension": ".py",
   "mimetype": "text/x-python",
   "name": "python",
   "nbconvert_exporter": "python",
   "pygments_lexer": "ipython2",
   "version": "2.7.6"
  }
 },
 "nbformat": 4,
 "nbformat_minor": 0
}