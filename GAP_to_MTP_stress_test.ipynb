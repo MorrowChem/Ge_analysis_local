{
 "cells": [
  {
   "cell_type": "markdown",
   "metadata": {},
   "source": [
    "# Assessing the impact of the sign and magnitude of the stress on MTPs\n",
    "\n",
    "## Saved:\n",
    "Looking again at the manual, I was doing it right to start: use the same virial\\*volume as in GAP fitting \\\n",
    "compressed structures have positive stress, units are eV \\\n",
    "\n",
    "The mistake was being made only in the amo-starts and grouped rand-starts/10k starts. These will need repeating,\n",
    "but first establish whether or not I should use numerical stresses for these (something dodgy about g18-stress)\n",
    "\n",
    "## Test:\n",
    "1. The sign of the stress calculated by mlp\n",
    "2. The effect on predictions of lattice parameters (i.e. geomerty optimisations)\n",
    "3. The effect on the RMSE errors on a test set (e.g. subset of melt-quench, MP and rand DBs)\n",
    "4. Numerical vs. intrinsic stress predictions\n",
    "5. gap18 vs. DFT stress data in original database (including for systems that don't include the stress)"
   ]
  },
  {
   "cell_type": "code",
   "execution_count": 86,
   "metadata": {},
   "outputs": [],
   "source": [
    "%load_ext autoreload\n",
    "%autoreload 2"
   ]
  },
  {
   "cell_type": "code",
   "execution_count": 217,
   "metadata": {},
   "outputs": [],
   "source": [
    "from mtp import *\n",
    "from os.path import join\n",
    "from os import getcwd, chdir\n",
    "from ase.io.extxyz import read_xyz, write_xyz\n",
    "from quippy.potential import Potential\n",
    "import matplotlib.pyplot as plt\n",
    "import matplotlib as mpl\n",
    "import pickle\n",
    "from Ge_calculation import *\n",
    "os.chdir('/u/vld/hert5155/jup_remote/Ge_od/GAP_to_MTP/stress_testing')"
   ]
  },
  {
   "cell_type": "code",
   "execution_count": 25,
   "metadata": {
    "collapsed": true
   },
   "outputs": [
    {
     "name": "stderr",
     "output_type": "stream",
     "text": [
      "/u/vld/hert5155/ase/ase/calculators/calculator.py:507: FutureWarning: The keyword \"ignore_bad_restart_file\" is deprecated and will be removed in a future version of ASE.  Passing more than one positional argument to Calculator is also deprecated and will stop functioning in the future.  Please pass arguments by keyword (key=value) except optionally the \"restart\" keyword.\n",
      "  warnings.warn(FutureWarning(\n"
     ]
    }
   ],
   "source": [
    "GAP_18_dir = '/u/vld/hert5155/jup_remote/Ge_od/Si_GAP_training/libAtoms-silicon-testing-framework-fc252cb/models/GAP'\n",
    "g18_pot = Potential(param_filename=GAP_18_dir+'/gp_iter6_sparse9k.xml')"
   ]
  },
  {
   "cell_type": "code",
   "execution_count": 95,
   "metadata": {},
   "outputs": [],
   "source": [
    "with open('../GAP_18_db_GAPlabelled.pickle', 'rb') as f:\n",
    "    g18_db = pickle.load(f)"
   ]
  },
  {
   "cell_type": "markdown",
   "metadata": {},
   "source": [
    "# Testing set"
   ]
  },
  {
   "cell_type": "code",
   "execution_count": 7,
   "metadata": {},
   "outputs": [],
   "source": [
    "mp_val_neg = list(read_cfg_db('../mp_mq_db_GAP18labelled/mp_db_GAP18labelled_validate_stressfix.cfg'))"
   ]
  },
  {
   "cell_type": "code",
   "execution_count": 10,
   "metadata": {},
   "outputs": [],
   "source": [
    "mq_val_neg = list(read_cfg_db('../mqdb_GAP18labelled/mqdb_GAP18labelled_validate_stressfix.cfg'))"
   ]
  },
  {
   "cell_type": "code",
   "execution_count": 11,
   "metadata": {},
   "outputs": [],
   "source": [
    "pq1k_rand_10 = list(read_cfg_db('../PQ1k_rand_10_GAP18labelled_train_stressfix_neg.cfg'))"
   ]
  },
  {
   "cell_type": "markdown",
   "metadata": {},
   "source": [
    "# The sign of the stress calculated by mlp\n",
    "negstress = same as gap virial and vasp, opposite of castep and ase \\\n",
    "posstress = same as ase and castep, opposite of vasp and mlp docs"
   ]
  },
  {
   "cell_type": "code",
   "execution_count": 90,
   "metadata": {},
   "outputs": [],
   "source": [
    "neg_mtp = MTP('negstress/g18_db_negstress.mtp', parallel=False, mtp_command='/u/vld/hert5155/mlip-2/bin/mlp',\n",
    "              potential_name = 'neg_sw0.001')\n",
    "pos_mtp = MTP('posstress/g18_db_posstress.mtp', parallel=False, mtp_command='/u/vld/hert5155/mlip-2/bin/mlp',\n",
    "              potential_name = 'pos_sw0.001')\n",
    "negsw01_mtp = MTP('negstress_sw0.1/g18_db_negstress.mtp', parallel=False, mtp_command='/u/vld/hert5155/mlip-2/bin/mlp',\n",
    "              potential_name = 'neg_sw0.1')\n",
    "possw01_mtp = MTP('posstress_sw0.1/g18_db_posstress.mtp', parallel=False, mtp_command='/u/vld/hert5155/mlip-2/bin/mlp',\n",
    "              potential_name = 'pos_sw0.1')\n",
    "virial_mtp = MTP('gap_virial/g18_db_virial.mtp', parallel=False, mtp_command='/u/vld/hert5155/mlip-2/bin/mlp',\n",
    "              potential_name = 'virial')\n",
    "\n",
    "mtps = [neg_mtp, pos_mtp, negsw01_mtp, possw01_mtp, virial_mtp]\n",
    "mtp_dbs = [read_cfg_db(i.potential_file[:-4]+'.cfg') for i in mtps]"
   ]
  },
  {
   "cell_type": "code",
   "execution_count": 54,
   "metadata": {},
   "outputs": [
    {
     "name": "stdout",
     "output_type": "stream",
     "text": [
      "[[ 0.01336674  0.00061618  0.00820008]\n",
      " [ 0.00061618  0.03674503 -0.00024105]\n",
      " [ 0.00820008 -0.00024105  0.02049803]]\n",
      "neg_sw0.001     [-7.31174  8.44966 -1.49207  0.0954   8.08813  2.10125]\n",
      "pos_sw0.001     [ -1.96058 -15.33326   0.63587   0.09237   6.79337   1.73468]\n",
      "neg_sw0.1       [ -8.67206 -22.63583 -20.48504   0.79352   1.75752   0.34977]\n",
      "pos_sw0.1       [-53.32808 -49.41287 -55.50259   0.50808   2.94087   2.10435]\n",
      "virial          [  0.89854  10.46126 -10.47903  -0.84701   6.9333    0.29264]\n"
     ]
    }
   ],
   "source": [
    "t = mp_val_neg[0]\n",
    "print(t.info['dft_virial'])\n",
    "\n",
    "for i, val in enumerate(mtps):\n",
    "    t.calc = val\n",
    "    print('{:15s}'.format(val.name), t.get_stress())"
   ]
  },
  {
   "cell_type": "markdown",
   "metadata": {},
   "source": [
    "# The effect on predictions of lattice parameters"
   ]
  },
  {
   "cell_type": "code",
   "execution_count": null,
   "metadata": {},
   "outputs": [],
   "source": []
  },
  {
   "cell_type": "markdown",
   "metadata": {},
   "source": [
    "# The effect on the RMSE errors on a test set \n",
    "(e.g. subset of melt-quench, MP and rand DBs)"
   ]
  },
  {
   "cell_type": "markdown",
   "metadata": {},
   "source": [
    "labelling with the mtps"
   ]
  },
  {
   "cell_type": "code",
   "execution_count": 62,
   "metadata": {},
   "outputs": [],
   "source": [
    "mp_err = [np.zeros((len(mp_val_neg), 3, 3)) for i in mtps]\n",
    "\n",
    "for i, val in enumerate(mtps):\n",
    "    for act, at in enumerate(mp_val_neg):\n",
    "        val.calculate(at)\n",
    "        mp_err[i][act] = abs(val.results['stress']) - abs(at.info['dft_virial']) # stress direct from mlp - mp_neg convention"
   ]
  },
  {
   "cell_type": "code",
   "execution_count": 69,
   "metadata": {},
   "outputs": [],
   "source": [
    "mp_pred = [np.zeros((len(mp_val_neg), 3, 3)) for i in mtps]\n",
    "for i, val in enumerate(mtps):\n",
    "    for act, at in enumerate(mp_val_neg):\n",
    "        val.calculate(at)\n",
    "        mp_pred[i][act] = val.results['stress']"
   ]
  },
  {
   "cell_type": "code",
   "execution_count": 64,
   "metadata": {},
   "outputs": [],
   "source": [
    "mp_p_err = np.array([[160.218*i.trace()/3 for i in j] for j in mp_err])"
   ]
  },
  {
   "cell_type": "code",
   "execution_count": 73,
   "metadata": {},
   "outputs": [
    {
     "data": {
      "text/plain": [
       "<matplotlib.legend.Legend at 0x7f56d2d16400>"
      ]
     },
     "execution_count": 73,
     "metadata": {},
     "output_type": "execute_result"
    },
    {
     "data": {
      "image/png": "[encoded data removed]",
      "text/plain": [
       "<Figure size 864x432 with 1 Axes>"
      ]
     },
     "metadata": {
      "needs_background": "light"
     },
     "output_type": "display_data"
    }
   ],
   "source": [
    "fig, axs = plt.subplots(figsize=(12,6))\n",
    "#errs = mp_p_err\n",
    "h = axs.hist(errs, label=[i.name for i in mtps], bins=10, density=True, alpha=1.0)\n",
    "axs.legend()"
   ]
  },
  {
   "cell_type": "code",
   "execution_count": 68,
   "metadata": {},
   "outputs": [
    {
     "data": {
      "text/plain": [
       "([11824.141081344942,\n",
       "  11470.643104241095,\n",
       "  8396.676785093556,\n",
       "  7553.427204071095,\n",
       "  11422.219647137556],\n",
       " ['neg_sw0.001', 'pos_sw0.001', 'neg_sw0.1', 'pos_sw0.1', 'virial'])"
      ]
     },
     "execution_count": 68,
     "metadata": {},
     "output_type": "execute_result"
    }
   ],
   "source": [
    "[i.mean() for i in mp_p_err], [i.name for i in mtps]"
   ]
  },
  {
   "cell_type": "markdown",
   "metadata": {},
   "source": [
    "# Numerical stress prediction\n",
    "\n",
    "numerical stresses are clearly more reasonable than the 'in-house' stresses of all MTPs above. \n",
    "\n",
    "g18 stresses are quite similar (see rms error between them)"
   ]
  },
  {
   "cell_type": "code",
   "execution_count": 75,
   "metadata": {
    "collapsed": true
   },
   "outputs": [
    {
     "data": {
      "text/plain": [
       "array([[ 0.08699673,  0.02883274, -0.16120175],\n",
       "       [-0.22791936, -0.20137656,  0.026972  ],\n",
       "       [-0.00349318,  0.05527904,  0.14066297],\n",
       "       [-0.23465   , -0.07671041,  0.18172184],\n",
       "       [-0.46670317,  0.36788179,  0.04247484],\n",
       "       [ 0.3066669 , -0.2366682 , -0.00377405],\n",
       "       [-0.08253442,  0.36312688, -0.08018249],\n",
       "       [ 0.36355284, -0.07447302,  0.12803645],\n",
       "       [ 0.24833386,  0.16660853,  0.22268548],\n",
       "       [ 0.07699785, -0.23283208,  0.24080542],\n",
       "       [-0.03120508,  0.06079989, -0.25250507],\n",
       "       [-0.01225799, -0.36752151,  0.00910356],\n",
       "       [-0.03395584,  0.16923254,  0.30969042],\n",
       "       [-0.0827583 , -0.30674595,  0.27181014],\n",
       "       [ 0.07305994,  0.17672152, -0.2717617 ],\n",
       "       [ 0.30932237, -0.04792577, -0.35143204],\n",
       "       [-0.09421123,  0.08811123, -0.08649779],\n",
       "       [-0.02665475,  0.05313742, -0.21890564],\n",
       "       [-0.0951211 , -0.16223686,  0.14302761],\n",
       "       [ 0.08066653, -0.05389065, -0.0849266 ],\n",
       "       [ 0.06630705,  0.1023059 ,  0.00608817],\n",
       "       [ 0.02360851, -0.18302472, -0.17295902],\n",
       "       [ 0.07100259,  0.00208905,  0.06095775],\n",
       "       [-0.01951547, -0.17196589, -0.15064167],\n",
       "       [-0.04088268,  0.01382293,  0.2719272 ],\n",
       "       [-0.13979743, -0.25696179,  0.07328189],\n",
       "       [ 0.01616728,  0.3968931 ,  0.09895735],\n",
       "       [-0.12698414, -0.35330801, -0.07661463],\n",
       "       [-0.02568637,  0.22062325, -0.00843406],\n",
       "       [ 0.11125643, -0.08457497, -0.11155996],\n",
       "       [ 0.03332848,  0.1382901 ,  0.15051871],\n",
       "       [ 0.06723282, -0.24088013,  0.02936729],\n",
       "       [ 0.15380497,  0.03658261, -0.21127701],\n",
       "       [ 0.0074761 ,  0.1693776 , -0.15689335],\n",
       "       [ 0.07415668,  0.14385148,  0.12232927],\n",
       "       [-0.24888345, -0.32866466,  0.1004681 ],\n",
       "       [-0.23274248,  0.3401128 ,  0.18267435],\n",
       "       [-0.03040602, -0.13189945, -0.14308023],\n",
       "       [ 0.02879074,  0.14223294,  0.0998919 ],\n",
       "       [ 0.44484926, -0.39496377, -0.07834528],\n",
       "       [-0.36259798,  0.28621472, -0.2430723 ],\n",
       "       [ 0.49115726, -0.24113585, -0.20030583],\n",
       "       [-0.10289231,  0.13330918, -0.05440105],\n",
       "       [ 0.30616773, -0.0884    ,  0.13717776],\n",
       "       [ 0.18955985,  0.14724583,  0.09874577],\n",
       "       [-0.32351865, -0.19838117,  0.12849601],\n",
       "       [ 0.23748763,  0.36039375, -0.15725621],\n",
       "       [-0.26079724, -0.13078938, -0.04244633],\n",
       "       [ 0.08357079,  0.27433811,  0.06815741],\n",
       "       [ 0.18090779, -0.25114678, -0.03250829],\n",
       "       [ 0.06260826,  0.11159713,  0.07909032],\n",
       "       [ 0.00945233, -0.31573536,  0.21006867],\n",
       "       [-0.30624329,  0.16639002,  0.06869968],\n",
       "       [-0.08651019, -0.07190216, -0.14068303],\n",
       "       [-0.1501459 ,  0.19861934,  0.11432259],\n",
       "       [ 0.06689704, -0.3974334 , -0.10479381],\n",
       "       [-0.07565817, -0.14909382, -0.02893205],\n",
       "       [ 0.00572471,  0.13302416, -0.0417549 ],\n",
       "       [ 0.05046648, -0.3005302 ,  0.22854282],\n",
       "       [-0.06439838,  0.12197821,  0.01573902],\n",
       "       [-0.02110956, -0.16145293, -0.1365342 ],\n",
       "       [-0.03699424,  0.18656982, -0.15996605],\n",
       "       [ 0.09307265, -0.31367289,  0.19919321],\n",
       "       [ 0.13371414,  0.24593664,  0.15730828],\n",
       "       [ 0.13046038,  0.16838688,  0.24910004],\n",
       "       [-0.16789078,  0.15389049,  0.15894209],\n",
       "       [ 0.03374296,  0.20628698, -0.35607301],\n",
       "       [-0.20715355, -0.17712135, -0.36791796],\n",
       "       [ 0.33148626, -0.22256686, -0.31995419],\n",
       "       [-0.09110779,  0.09163848, -0.70678143],\n",
       "       [ 0.17738754, -0.11762399,  0.13116976],\n",
       "       [-0.12700889,  0.31162387,  0.13126797],\n",
       "       [-0.08332449,  0.02394356,  0.07191853],\n",
       "       [ 0.15405069, -0.4323274 ,  0.15802865],\n",
       "       [-0.28076375,  0.34279661,  0.11002257],\n",
       "       [ 0.12241404,  0.06933071,  0.18851205],\n",
       "       [ 0.20237355, -0.43911154,  0.18555961],\n",
       "       [-0.14355353,  0.3781729 ,  0.44302447],\n",
       "       [-0.15101068, -0.36902722,  0.07819558],\n",
       "       [-0.04598585,  0.35999633, -0.10561698],\n",
       "       [ 0.40639686,  0.07300383, -0.16611497],\n",
       "       [-0.44708623,  0.04978495, -0.17983778],\n",
       "       [ 0.34358175, -0.05284203,  0.00347042],\n",
       "       [-0.3442115 , -0.15074209,  0.20964198],\n",
       "       [-0.19635458, -0.12686492, -0.06515176],\n",
       "       [ 0.02198754, -0.05692611,  0.09982969],\n",
       "       [-0.0094671 , -0.20527448,  0.06127621],\n",
       "       [-0.12845437,  0.35033502,  0.24580318],\n",
       "       [-0.16167168,  0.11884853, -0.1809502 ],\n",
       "       [ 0.34956601, -0.07367765, -0.09790755],\n",
       "       [-0.37200345,  0.23399972,  0.07253548],\n",
       "       [ 0.26743816,  0.12747052,  0.03196624],\n",
       "       [ 0.0587028 , -0.29879666,  0.05475302],\n",
       "       [ 0.05104046,  0.52467445, -0.12285207],\n",
       "       [-0.16833309, -0.45663082, -0.12804614],\n",
       "       [ 0.19043635,  0.48452356, -0.15718462],\n",
       "       [ 0.28798054, -0.0341687 ,  0.35037533],\n",
       "       [-0.37809699, -0.01154705,  0.20383865],\n",
       "       [ 0.40367296,  0.17980091, -0.33715348],\n",
       "       [-0.38313417,  0.0695123 , -0.35262022],\n",
       "       [ 0.13166482,  0.06740185, -0.09883493],\n",
       "       [-0.05915569, -0.19998755,  0.12106625],\n",
       "       [-0.1011547 ,  0.1280067 , -0.13540788],\n",
       "       [-0.09398604, -0.09892069, -0.10416463],\n",
       "       [-0.01497534, -0.17041843,  0.2462848 ],\n",
       "       [-0.0156262 ,  0.10591459, -0.07936037]])"
      ]
     },
     "execution_count": 75,
     "metadata": {},
     "output_type": "execute_result"
    }
   ],
   "source": [
    "at.calc = mtps[0]\n",
    "\n",
    "mtps[0].calculate_numerical_forces(at)"
   ]
  },
  {
   "cell_type": "code",
   "execution_count": 78,
   "metadata": {},
   "outputs": [],
   "source": [
    "nforce = mtps[0].results['forces'].copy()"
   ]
  },
  {
   "cell_type": "code",
   "execution_count": 80,
   "metadata": {},
   "outputs": [],
   "source": [
    "mtps[0].calculate(at)\n",
    "aforce = mtps[0].results['forces'].copy()"
   ]
  },
  {
   "cell_type": "code",
   "execution_count": 82,
   "metadata": {},
   "outputs": [
    {
     "data": {
      "text/plain": [
       "0.011704999999999993"
      ]
     },
     "execution_count": 82,
     "metadata": {},
     "output_type": "execute_result"
    }
   ],
   "source": [
    "(nforce-aforce).max()"
   ]
  },
  {
   "cell_type": "code",
   "execution_count": 97,
   "metadata": {},
   "outputs": [
    {
     "data": {
      "text/plain": [
       "(array([ 0.01370315,  0.0263111 ,  0.03311319, -0.00386621, -0.00108595,\n",
       "         0.00262134]),\n",
       " array([-35.44933, -73.44567, -88.55248,  10.97407,   3.07274,  -7.3789 ]),\n",
       " array([ 0.01370315,  0.0263111 ,  0.03311319, -0.00386621, -0.00108595,\n",
       "         0.00262134]))"
      ]
     },
     "execution_count": 97,
     "metadata": {},
     "output_type": "execute_result"
    }
   ],
   "source": [
    "mtps[0].calculate_numerical_stress(at), at.get_stress(), g18_pot.calculate_numerical_stress(at)"
   ]
  },
  {
   "cell_type": "code",
   "execution_count": 98,
   "metadata": {},
   "outputs": [
    {
     "data": {
      "text/plain": [
       "(array([-0.00889701,  0.00199347,  0.00694842, -0.00339159, -0.00107564,\n",
       "         0.00207664]),\n",
       " array([-0.00891206,  0.00199905,  0.00694674, -0.00339052, -0.00106689,\n",
       "         0.00206633]))"
      ]
     },
     "execution_count": 98,
     "metadata": {},
     "output_type": "execute_result"
    }
   ],
   "source": [
    "at.calc = g18_pot\n",
    "g18_pot.calculate_numerical_stress(at), at.get_stress()"
   ]
  },
  {
   "cell_type": "code",
   "execution_count": 226,
   "metadata": {},
   "outputs": [],
   "source": [
    "mp_stress_g18 = np.zeros((len(mp_val_neg), 6))"
   ]
  },
  {
   "cell_type": "code",
   "execution_count": null,
   "metadata": {},
   "outputs": [],
   "source": [
    "mp_numstress_mtp = [np.zeros((len(mp_val_neg), 6)) for i in mtps]\n",
    "mp_numstress_g18 = np.zeros((len(mp_val_neg), 6))"
   ]
  },
  {
   "cell_type": "code",
   "execution_count": 242,
   "metadata": {},
   "outputs": [],
   "source": [
    "for i, val in enumerate(mp_val_neg):\n",
    "#     for j, m in enumerate(mtps):\n",
    "#         val.calc = m\n",
    "#         mp_numstress_mtp[j][i] = m.calculate_numerical_stress(val)\n",
    "        \n",
    "#     val.calc = g18_pot\n",
    "#     mp_numstress_g18[i] = g18_pot.calculate_numerical_stress(val)\n",
    "#     val.calc = None\n",
    "\n",
    "    mp_stress_g18[i] = -1*to_voigt(val.info['dft_virial'])\n",
    "    \n",
    "    "
   ]
  },
  {
   "cell_type": "code",
   "execution_count": 233,
   "metadata": {},
   "outputs": [
    {
     "data": {
      "text/plain": [
       "({'dft_energy': -37802.794426690525,\n",
       "  'dft_virial': array([[ 0.01700269, -0.00034999,  0.00932616],\n",
       "         [-0.00034999,  0.05485084,  0.00236875],\n",
       "         [ 0.00932616,  0.00236875,  0.02845539]]),\n",
       "  'config_type': 'mp-1201492',\n",
       "  'cutoff': '5.0',\n",
       "  'nneightol': '1.2'},\n",
       " array([13.02480096, 35.80504311, 19.97366305, -0.23488362,  7.99031101,\n",
       "         0.60041729]))"
      ]
     },
     "execution_count": 233,
     "metadata": {},
     "output_type": "execute_result"
    }
   ],
   "source": [
    "mp_val_neg[50].info, mp_stress_g18[0]"
   ]
  },
  {
   "cell_type": "code",
   "execution_count": null,
   "metadata": {},
   "outputs": [],
   "source": [
    "g18_numstress_mtp = [np.zeros((len(g18_db), 6)) for i in mtps]\n",
    "g18_stress_dft = np.zeros((len(g18_db), 6))\n",
    "g18_numstress_g18 = np.zeros((len(g18_db), 6))\n",
    "g18_stress_mtp = [np.zeros((len(g18_db), 6)) for i in mtps]"
   ]
  },
  {
   "cell_type": "code",
   "execution_count": 163,
   "metadata": {},
   "outputs": [],
   "source": [
    "def to_voigt(mat):\n",
    "    \n",
    "    vgt = np.concatenate((mat.diagonal(), np.array([mat[1,2], mat[0,2], mat[0,1]])))\n",
    "    return vgt"
   ]
  },
  {
   "cell_type": "code",
   "execution_count": 218,
   "metadata": {},
   "outputs": [],
   "source": [
    "for i, val in enumerate(g18_db):\n",
    "    for j, m in enumerate(mtps):\n",
    "        val.calc = m\n",
    "#         g18_numstress_mtp[j][i] = -1*m.calculate_numerical_stress(val)\n",
    "        g18_stress_mtp[j][i] = -1*val.get_stress()/val.get_volume()\n",
    "        \n",
    "        \n",
    "#     val.calc = g18_pot\n",
    "#     g18_numstress_g18[i] = g18_pot.calculate_numerical_stress(val)\n",
    "#     val.calc = None\n",
    "\n",
    "#     g18_stress_g18[i] = to_voigt(val.info['gap18_virial']/val.get_volume())\n",
    "    \n",
    "#     try:\n",
    "#         g18_stress_dft[i] = to_voigt(val.info['dft_virial'].reshape((3,3)))/val.get_volume()\n",
    "#     except:\n",
    "#         g18_stress_dft[i] = np.NaN"
   ]
  },
  {
   "cell_type": "code",
   "execution_count": 109,
   "metadata": {},
   "outputs": [],
   "source": [
    "# os.makedirs('tmp_python')"
   ]
  },
  {
   "cell_type": "code",
   "execution_count": 111,
   "metadata": {},
   "outputs": [],
   "source": [
    "# with open('tmp_python/mp_numstress_mtp.pickle', 'wb') as f:\n",
    "#     pickle.dump(mp_numstress_mtp, f)\n",
    "# with open('tmp_python/mp_numstress_g18.pickle', 'wb') as f:\n",
    "#     pickle.dump(mp_numstress_g18, f)"
   ]
  },
  {
   "cell_type": "code",
   "execution_count": 245,
   "metadata": {},
   "outputs": [],
   "source": [
    "with open('tmp_python/mp_numstress_g18.pickle', 'rb') as f:\n",
    "    mp_numstress_g18 = pickle.load(f)"
   ]
  },
  {
   "cell_type": "code",
   "execution_count": 146,
   "metadata": {},
   "outputs": [],
   "source": [
    "# with open('tmp_python/g18_numstress_mtp.pickle', 'wb') as f:\n",
    "#     pickle.dump(g18_numstress_mtp, f)\n"
   ]
  },
  {
   "cell_type": "code",
   "execution_count": 214,
   "metadata": {},
   "outputs": [],
   "source": [
    "# with open('tmp_python/g18_numstress_g18.pickle', 'wb') as f:\n",
    "#     pickle.dump(g18_numstress_g18, f)"
   ]
  },
  {
   "cell_type": "markdown",
   "metadata": {},
   "source": [
    "# Absolute numerical stress-errors of MTPs vs. GAP"
   ]
  },
  {
   "cell_type": "code",
   "execution_count": 240,
   "metadata": {},
   "outputs": [
    {
     "data": {
      "text/plain": [
       "array([[-0.01334916, -0.03673683, -0.02049156,  0.0002377 , -0.00819273,\n",
       "        -0.00061733],\n",
       "       [-0.00603779, -0.0037085 , -0.00553657,  0.00069976,  0.00290588,\n",
       "        -0.00023997],\n",
       "       [ 0.02678525, -0.01716057,  0.01683868, -0.0033921 ,  0.00239003,\n",
       "        -0.00013543],\n",
       "       ...,\n",
       "       [-0.00956304, -0.0113472 , -0.00953746,  0.00945297,  0.00656085,\n",
       "        -0.0022161 ],\n",
       "       [ 0.02371803,  0.02086983,  0.01755399,  0.00536775,  0.00472656,\n",
       "         0.00170249],\n",
       "       [-0.00888596,  0.00200047,  0.00695217, -0.00338822, -0.00108063,\n",
       "         0.00207819]])"
      ]
     },
     "execution_count": 240,
     "metadata": {},
     "output_type": "execute_result"
    }
   ],
   "source": [
    "mp_numstress_g18"
   ]
  },
  {
   "cell_type": "code",
   "execution_count": 141,
   "metadata": {},
   "outputs": [
    {
     "data": {
      "text/plain": [
       "[Text(0.5, 0, 'abs stress error / GPa'),\n",
       " Text(0, 0.5, 'Normalised count'),\n",
       " (-1.0, 25.0)]"
      ]
     },
     "execution_count": 141,
     "metadata": {},
     "output_type": "execute_result"
    },
    {
     "data": {
      "image/png": "[encoded data removed]",
      "text/plain": [
       "<Figure size 576x360 with 1 Axes>"
      ]
     },
     "metadata": {
      "needs_background": "light"
     },
     "output_type": "display_data"
    }
   ],
   "source": [
    "fig, axs = plt.subplots(figsize=(8,5))\n",
    "\n",
    "for i, val in enumerate(mtps[0:5]):\n",
    "    h = axs.hist(abs(mp_numstress_mtp[i] - mp_numstress_g18)[:,0:3].mean(axis=1)*160,\n",
    "                 label=[i.name for i in mtps][i],\n",
    "                 bins=100, density=True, alpha=1.0, cumulative=True, histtype='step')\n",
    "\n",
    "axs.legend()\n",
    "axs.set(xlabel='abs stress error / GPa', ylabel='Normalised count', xlim=(-1, 25))\n"
   ]
  },
  {
   "cell_type": "code",
   "execution_count": 246,
   "metadata": {},
   "outputs": [
    {
     "data": {
      "text/plain": [
       "(array([-0.01700269, -0.05485084, -0.02845539, -0.00236875, -0.00932616,\n",
       "         0.00034999]),\n",
       " array([-0.01699081, -0.0548507 , -0.0284436 , -0.0023692 , -0.00933132,\n",
       "         0.00033933]))"
      ]
     },
     "execution_count": 246,
     "metadata": {},
     "output_type": "execute_result"
    }
   ],
   "source": [
    "mp_stress_g18[50], mp_numstress_g18[50]"
   ]
  },
  {
   "cell_type": "code",
   "execution_count": 247,
   "metadata": {},
   "outputs": [
    {
     "data": {
      "text/plain": [
       "[Text(0.5, 0, 'abs stress error / GPa'), Text(0, 0.5, 'Normalised count')]"
      ]
     },
     "execution_count": 247,
     "metadata": {},
     "output_type": "execute_result"
    },
    {
     "data": {
      "image/png": "[encoded data removed]",
      "text/plain": [
       "<Figure size 576x360 with 1 Axes>"
      ]
     },
     "metadata": {
      "needs_background": "light"
     },
     "output_type": "display_data"
    }
   ],
   "source": [
    "fig, axs = plt.subplots(figsize=(8,5))\n",
    "\n",
    "\n",
    "h = axs.hist(abs(mp_stress_g18 - mp_numstress_g18)[:,0:3].mean(axis=1)*160,\n",
    "             label='g18 get_stress',\n",
    "             bins=100, density=True, alpha=1.0, cumulative=True, histtype='step')\n",
    "\n",
    "axs.legend()\n",
    "axs.set(xlabel='abs stress error / GPa', ylabel='Normalised count')#, xlim=(-1, 25))\n"
   ]
  },
  {
   "cell_type": "markdown",
   "metadata": {},
   "source": [
    "# Numerical stress errors of MTPs vs. DFT - g18 db"
   ]
  },
  {
   "cell_type": "code",
   "execution_count": 187,
   "metadata": {},
   "outputs": [
    {
     "data": {
      "text/plain": [
       "array([[0.01232653, 0.02487557, 0.03172225],\n",
       "       [0.00985187, 0.02703166, 0.03145197],\n",
       "       [0.00296486, 0.01814643, 0.02171659],\n",
       "       ...,\n",
       "       [0.02189121, 0.02134353, 0.0194187 ],\n",
       "       [0.02718131, 0.02739553, 0.02963814],\n",
       "       [0.02436997, 0.02533127, 0.02812906]])"
      ]
     },
     "execution_count": 187,
     "metadata": {},
     "output_type": "execute_result"
    }
   ],
   "source": [
    "abs(mp_numstress_mtp[i] - mp_numstress_g18)[:,0:3]"
   ]
  },
  {
   "cell_type": "code",
   "execution_count": 215,
   "metadata": {},
   "outputs": [
    {
     "data": {
      "text/plain": [
       "(array([ 0.1082662 ,  0.02537806,  0.08442323, -0.03214011,  0.01234281,\n",
       "         0.01404406]),\n",
       " array([ 0.10875015,  0.02719445,  0.07955753, -0.03054093,  0.00428213,\n",
       "         0.00943229]),\n",
       " array([ 0.10886669,  0.02703487,  0.07946011, -0.03042996,  0.00438229,\n",
       "         0.00933422]),\n",
       " array([-0.0697438 ,  0.00222842, -0.04291709,  0.03389305, -0.00382245,\n",
       "         0.00554765]))"
      ]
     },
     "execution_count": 215,
     "metadata": {},
     "output_type": "execute_result"
    }
   ],
   "source": [
    "g18_stress_dft[50], g18_numstress_g18[50], g18_stress_g18[50], g18_numstress_mtp[0][50]"
   ]
  },
  {
   "cell_type": "code",
   "execution_count": 213,
   "metadata": {},
   "outputs": [
    {
     "data": {
      "text/plain": [
       "[Text(0.5, 0, 'abs stress error / GPa'),\n",
       " Text(0, 0.5, 'Normalised count'),\n",
       " (-1.0, 25.0)]"
      ]
     },
     "execution_count": 213,
     "metadata": {},
     "output_type": "execute_result"
    },
    {
     "data": {
      "image/png": "[encoded data removed]",
      "text/plain": [
       "<Figure size 576x360 with 1 Axes>"
      ]
     },
     "metadata": {
      "needs_background": "light"
     },
     "output_type": "display_data"
    }
   ],
   "source": [
    "fig, axs = plt.subplots(figsize=(8,5))\n",
    "\n",
    "for i, val in enumerate(mtps[0:5]):\n",
    "    h = axs.hist(abs(-g18_numstress_mtp[i] - g18_stress_dft)[:,0:3].mean(axis=1)*160,\n",
    "                 label=[i.name for i in mtps][i],\n",
    "                 bins=100, density=True, alpha=1.0, cumulative=True, histtype='step')\n",
    "h = axs.hist(abs(g18_numstress_g18 - g18_stress_dft)[:,0:3].mean(axis=1)*160,\n",
    "             label='gap18_numstress',\n",
    "             bins=100, density=True, alpha=1.0, cumulative=True, histtype='step')\n",
    "axs.legend()\n",
    "axs.set(xlabel='abs stress error / GPa', ylabel='Normalised count', xlim=(-1, 25))"
   ]
  },
  {
   "cell_type": "code",
   "execution_count": 210,
   "metadata": {},
   "outputs": [
    {
     "data": {
      "text/plain": [
       "[Text(0.5, 0, 'abs stress error / GPa'), Text(0, 0.5, 'Normalised count')]"
      ]
     },
     "execution_count": 210,
     "metadata": {},
     "output_type": "execute_result"
    },
    {
     "data": {
      "image/png": "[encoded data removed]",
      "text/plain": [
       "<Figure size 576x360 with 1 Axes>"
      ]
     },
     "metadata": {
      "needs_background": "light"
     },
     "output_type": "display_data"
    }
   ],
   "source": [
    "fig, axs = plt.subplots(figsize=(8,5))\n",
    "\n",
    "h = axs.hist(abs(g18_numstress_g18 - g18_stress_dft)[:,0:3].mean(axis=1)*160,\n",
    "             label='gap18_numstress',\n",
    "             bins=100, density=True, alpha=1.0, cumulative=True, histtype='step')\n",
    "\n",
    "h = axs.hist(abs(g18_stress_g18 - g18_stress_dft)[:,0:3].mean(axis=1)*160,\n",
    "             label='gap18 get_stress()',\n",
    "             bins=100, density=True, alpha=1.0, cumulative=True, histtype='step')\n",
    "\n",
    "axs.legend()\n",
    "axs.set(xlabel='abs stress error / GPa', ylabel='Normalised count')#, xlim=(-1, 50))"
   ]
  },
  {
   "cell_type": "code",
   "execution_count": 248,
   "metadata": {},
   "outputs": [
    {
     "data": {
      "text/plain": [
       "[Text(0.5, 0, 'abs stress error / GPa'), Text(0, 0.5, 'Normalised count')]"
      ]
     },
     "execution_count": 248,
     "metadata": {},
     "output_type": "execute_result"
    },
    {
     "data": {
      "image/png": "[encoded data removed]",
      "text/plain": [
       "<Figure size 576x360 with 1 Axes>"
      ]
     },
     "metadata": {
      "needs_background": "light"
     },
     "output_type": "display_data"
    }
   ],
   "source": [
    "fig, axs = plt.subplots(figsize=(8,5))\n",
    "\n",
    "h = axs.hist(abs(g18_numstress_g18 - g18_stress_g18)[:,0:3].mean(axis=1)*160,\n",
    "             label='gap18_numstress',\n",
    "             bins=100, density=True, alpha=1.0, cumulative=True, histtype='step')\n",
    "axs.legend()\n",
    "axs.set(xlabel='abs stress error / GPa', ylabel='Normalised count')#, xlim=(-1, 50))"
   ]
  },
  {
   "cell_type": "code",
   "execution_count": 211,
   "metadata": {},
   "outputs": [
    {
     "data": {
      "text/plain": [
       "[Text(0.5, 0, 'abs stress error / GPa'),\n",
       " Text(0, 0.5, 'Normalised count'),\n",
       " (-1.0, 25.0)]"
      ]
     },
     "execution_count": 211,
     "metadata": {},
     "output_type": "execute_result"
    },
    {
     "data": {
      "image/png": "[encoded data removed]",
      "text/plain": [
       "<Figure size 576x360 with 1 Axes>"
      ]
     },
     "metadata": {
      "needs_background": "light"
     },
     "output_type": "display_data"
    }
   ],
   "source": [
    "fig, axs = plt.subplots(figsize=(8,5))\n",
    "\n",
    "for i, val in enumerate(mtps[0:5]):\n",
    "    h = axs.hist(abs(g18_numstress_mtp[i] - g18_stress_g18)[:,0:3].mean(axis=1)*160,\n",
    "                 label=[i.name for i in mtps][i],\n",
    "                 bins=100, density=True, alpha=1.0, cumulative=True, histtype='step')\n",
    "h = axs.hist(abs(g18_numstress_g18 - g18_stress_g18)[:,0:3].mean(axis=1)*160,\n",
    "             label='gap18_numstress',\n",
    "             bins=100, density=True, alpha=1.0, cumulative=True, histtype='step')\n",
    "axs.legend()\n",
    "axs.set(xlabel='abs stress error / GPa', ylabel='Normalised count', xlim=(-1, 25))"
   ]
  },
  {
   "cell_type": "code",
   "execution_count": null,
   "metadata": {},
   "outputs": [],
   "source": [
    "fig, axs = plt.subplots(figsize=(8,5))\n",
    "\n",
    "for i, val in enumerate(mtps[0:5]):\n",
    "    h = axs.hist(abs(g18_numstress_mtp[i] - g18_stress_dft)[:,0:3].mean(axis=1)*160,\n",
    "                 label=[i.name for i in mtps][i],\n",
    "                 bins=100, density=True, alpha=1.0, cumulative=True, histtype='step')\n",
    "\n",
    "axs.legend()\n",
    "axs.set(xlabel='abs stress error / GPa', ylabel='Normalised count', xlim=(-1, 25))"
   ]
  }
 ],
 "metadata": {
  "kernelspec": {
   "display_name": "Python 3",
   "language": "python",
   "name": "python3"
  },
  "language_info": {
   "codemirror_mode": {
    "name": "ipython",
    "version": 3
   },
   "file_extension": ".py",
   "mimetype": "text/x-python",
   "name": "python",
   "nbconvert_exporter": "python",
   "pygments_lexer": "ipython3",
   "version": "3.8.5"
  }
 },
 "nbformat": 4,
 "nbformat_minor": 4
}
