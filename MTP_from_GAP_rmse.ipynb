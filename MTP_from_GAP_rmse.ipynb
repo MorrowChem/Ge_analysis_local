{
 "cells": [
  {
   "cell_type": "markdown",
   "metadata": {},
   "source": [
    "# Calculator-based validation of the MTPs\n",
    "* Evaluate numerical stresses and regular stresses\n",
    "* rmses and crystal analysis\n",
    "* currently waiting on lammps implementation of MTPs on Omega"
   ]
  },
  {
   "cell_type": "code",
   "execution_count": 1,
   "metadata": {},
   "outputs": [],
   "source": [
    "%load_ext autoreload\n",
    "%autoreload 2"
   ]
  },
  {
   "cell_type": "code",
   "execution_count": 43,
   "metadata": {
    "pycharm": {
     "name": "#%%\n"
    }
   },
   "outputs": [],
   "source": [
    "from ase.io.extxyz import read_xyz\n",
    "import numpy as np\n",
    "from ase.atoms import Atoms\n",
    "from ase.io.formats import index2range\n",
    "from ase.io.cfg import read_cfg\n",
    "from io import StringIO, UnsupportedOperation\n",
    "from mtp import *\n",
    "import os\n",
    "from os import chdir, getcwd, listdir\n",
    "from os.path import join\n",
    "from matplotlib import pyplot as plt\n",
    "from quippy.potential import Potential\n",
    "import pickle\n",
    "from Ge_calculation import *\n",
    "from Ge_analysis import *\n",
    "import matplotlib.pyplot as plt\n",
    "from matscipy.rings import ring_statistics\n",
    "from datetime import datetime\n",
    "import pymatgen.ext.matproj as mp\n",
    "import pymatgen.io.ase as pase\n",
    "from pymatgen.symmetry.analyzer import SpacegroupAnalyzer\n",
    "from numpy.random import normal\n",
    "from ase.io.extxyz import write_xyz\n",
    "from ase.io.lammpsdata import write_lammps_data\n",
    "from calc_all_lib import update_progress\n",
    "import traceback"
   ]
  },
  {
   "cell_type": "code",
   "execution_count": 242,
   "metadata": {},
   "outputs": [],
   "source": [
    "import sys\n",
    "\n",
    "sys.path.append('/u/vld/hert5155/JDM_utils')\n",
    "\n",
    "from rmc_utils import *\n",
    "from analysis_utils import is_outlier"
   ]
  },
  {
   "cell_type": "code",
   "execution_count": 9,
   "metadata": {
    "pycharm": {
     "name": "#%%\n"
    }
   },
   "outputs": [],
   "source": [
    "mpl.style.reload_library()\n",
    "mpl.style.use('VLD')"
   ]
  },
  {
   "cell_type": "code",
   "execution_count": 10,
   "metadata": {},
   "outputs": [],
   "source": [
    "chdir('/u/vld/hert5155/jup_remote/Ge_od/GAP_to_MTP')"
   ]
  },
  {
   "cell_type": "code",
   "execution_count": 11,
   "metadata": {},
   "outputs": [
    {
     "name": "stderr",
     "output_type": "stream",
     "text": [
      "/u/vld/hert5155/ase/ase/calculators/calculator.py:507: FutureWarning: The keyword \"ignore_bad_restart_file\" is deprecated and will be removed in a future version of ASE.  Passing more than one positional argument to Calculator is also deprecated and will stop functioning in the future.  Please pass arguments by keyword (key=value) except optionally the \"restart\" keyword.\n",
      "  warnings.warn(FutureWarning(\n"
     ]
    }
   ],
   "source": [
    "GAP_18_dir = '/u/vld/hert5155/jup_remote/Ge_od/Si_GAP_training/libAtoms-silicon-testing-framework-fc252cb/models/GAP'\n",
    "g18_pot = Potential(param_filename=GAP_18_dir+'/gp_iter6_sparse9k.xml')"
   ]
  },
  {
   "cell_type": "markdown",
   "metadata": {},
   "source": [
    "## Testing database from libatoms testing framework "
   ]
  },
  {
   "cell_type": "code",
   "execution_count": 12,
   "metadata": {},
   "outputs": [],
   "source": [
    "with open('testing_database.xyz', 'r') as f:\n",
    "    g18_test_db = list(read_xyz(f, index=slice(0,None)))"
   ]
  },
  {
   "cell_type": "markdown",
   "metadata": {},
   "source": [
    "GAP-18 training database (common to most MTPs)"
   ]
  },
  {
   "cell_type": "code",
   "execution_count": 13,
   "metadata": {},
   "outputs": [],
   "source": [
    "with open('GAP_18_db_GAPlabelled.pickle', 'rb') as f:\n",
    "    g18_db = pickle.load(f)"
   ]
  },
  {
   "cell_type": "code",
   "execution_count": 81,
   "metadata": {},
   "outputs": [],
   "source": [
    "with open('MQ_MP_PQ1k_amo_rand_testing.xyz', 'r') as f:\n",
    "    test_db = list(read_xyz(f, index=slice(0,None)))"
   ]
  },
  {
   "cell_type": "markdown",
   "metadata": {},
   "source": [
    "# Labelling"
   ]
  },
  {
   "cell_type": "code",
   "execution_count": 104,
   "metadata": {},
   "outputs": [],
   "source": [
    "class Model:\n",
    "    \n",
    "    def __init__(self, potential, test_set, train_set=[], name='', read_test_set=False):\n",
    "        \n",
    "        self.potential = potential\n",
    "        self.pot = potential\n",
    "        \n",
    "        self.test_set = test_set\n",
    "        self.train_set = train_set\n",
    "        self.atoms_lengths = np.array([len(i) for i in test_set])\n",
    "        self.train_atoms_lengths = np.array([len(i) for i in train_set])\n",
    "        \n",
    "        self.name = name\n",
    "        \n",
    "        self.results = []\n",
    "        self.ref_results = []\n",
    "        self.train_results = []\n",
    "        self.es = []; self.ref_es = []; self.train_es = []\n",
    "        self.fs = []; self.ref_fs = []; self.train_fs = []\n",
    "        self.ss = []; self.ref_ss = []; self.train_ss = []\n",
    "        \n",
    "        if read_test_set:\n",
    "            efs_read()\n",
    "        \n",
    "        return\n",
    "    \n",
    "    def efs_calc(self, numerical_stress=False, extra_properties=[], train=False):\n",
    "        \n",
    "        if train:\n",
    "            ats = self.train_set\n",
    "            n = 'training'\n",
    "            cfgs='train'\n",
    "        else:\n",
    "            ats = self.test_set\n",
    "            n = 'testing'\n",
    "            cfgs='test'\n",
    "            \n",
    "        N = len(ats)\n",
    "        print('Calculating {} {} configurations'.format(N, n))\n",
    "\n",
    "        for ct, i in enumerate(ats):\n",
    "            i.calc = self.pot\n",
    "\n",
    "            self.pot.calculate(i, properties=['energy', 'forces', 'stress']+extra_properties)\n",
    "\n",
    "            if train:\n",
    "                self.train_results.append(self.pot.results.copy())\n",
    "                if hasattr(self.pot, 'extra_results'):\n",
    "                    self.train_results[-1] = {**self.train_results[-1], **self.pot.extra_results}\n",
    "            else:\n",
    "                self.results.append(self.pot.results.copy())\n",
    "                if hasattr(self.pot, 'extra_results'):\n",
    "                    self.results[-1] = {**self.results[-1], **self.pot.extra_results}\n",
    "            \n",
    "            i.calc = None\n",
    "            update_progress(ct/N)\n",
    "        \n",
    "        update_progress(1)\n",
    "        self.update_efs(cfgs=cfgs)\n",
    "        \n",
    "        return\n",
    "       \n",
    "    def efs_read(self, cfgs='test', **kwargs):\n",
    "        \n",
    "        if cfgs=='reference':\n",
    "            self.ref_results = []\n",
    "            for i in self.test_set:\n",
    "                self.ref_results.append({**i.info, **i.arrays})\n",
    "            \n",
    "            self.update_efs(cfgs, **kwargs)\n",
    "        \n",
    "        elif cfgs=='test':\n",
    "            self.results = []\n",
    "\n",
    "            for i in self.test_set:\n",
    "                self.results.append({**i.info, **i.arrays})\n",
    "            \n",
    "            self.update_efs(cfgs, **kwargs)\n",
    "        \n",
    "        elif cfgs=='train':\n",
    "            self.train_results = []\n",
    "\n",
    "            for i in self.train_set:\n",
    "                self.train_results.append({**i.info, **i.arrays})\n",
    "            \n",
    "            self.update_efs(cfgs, **kwargs)\n",
    "            \n",
    "        elif cfgs=='reference_train':\n",
    "            self.ref_train_results = []\n",
    "\n",
    "            for i in self.train_set:\n",
    "                self.ref_train_results.append({**i.info, **i.arrays})\n",
    "            \n",
    "            self.update_efs(cfgs, **kwargs)\n",
    "            \n",
    "    def rmse(self, silent=False):\n",
    "        \n",
    "        self.rmses = {\n",
    "            'energy_test': rms_dict(self.es/self.atoms_lengths, self.ref_es/self.atoms_lengths),\n",
    "            'force_test' : rms_dict(self.flat_fs, self.ref_flat_fs),\n",
    "            'stress_test': rms_dict(\n",
    "                (self.ss.T/self.atoms_lengths).T, \n",
    "                (self.ref_ss.T/self.atoms_lengths).T),\n",
    "            \n",
    "            'energy_train': rms_dict(self.train_es/self.train_atoms_lengths,\n",
    "                                     self.ref_train_es/self.train_atoms_lengths),\n",
    "            'force_train' : rms_dict(self.train_flat_fs, self.ref_train_flat_fs),\n",
    "            'stress_train': rms_dict(\n",
    "                (self.train_ss.T/self.train_atoms_lengths).T, \n",
    "                (self.ref_train_ss.T/self.train_atoms_lengths).T)\n",
    "        }\n",
    "        \n",
    "        if not silent:\n",
    "            print(('{:<20s}'*3).format('Quantity','RMSE per at','Std'))\n",
    "            print('-'*60)\n",
    "            for i,j in self.rmses.items():\n",
    "                print('{:<20s}{:<20.3f}{:<20.3f}'.format(i, j['rmse'], j['std']))\n",
    "        \n",
    "        return\n",
    "     \n",
    "    def save_efs(self, save_all=True, save_dict={}, file=None):\n",
    "        \n",
    "        if file is None:\n",
    "            file = self.pot.name+'.pickle'\n",
    "            \n",
    "        if save_all:\n",
    "            save_dict.update({'test_set' : self.test_set,\n",
    "                        'train_set' : self.train_set,\n",
    "                        'results'   : self.results,\n",
    "                        'ref_results': self.ref_results,\n",
    "                        'train_results' : self.train_results})\n",
    "        \n",
    "        with open(file, 'wb') as f:\n",
    "            pickle.dump(save_dict, f)\n",
    "        \n",
    "        return\n",
    "    \n",
    "    def load_efs(self, file=None):\n",
    "        \n",
    "        if file is None:\n",
    "            file = self.pot.name+'.pickle'\n",
    "            \n",
    "        with open(file, 'rb') as f:\n",
    "            save_dict = pickle.load(f)\n",
    "            \n",
    "        self.test_set = save_dict['test_set']\n",
    "        self.train_set = save_dict['train_set']\n",
    "        self.test_set = save_dict['results']\n",
    "        self.results = save_dict['ref_results']\n",
    "        self.train_results = save_dict['train_results']\n",
    "        \n",
    "        \n",
    "        return\n",
    "    \n",
    "    def update_efs(self, cfgs='test',\n",
    "                  energy_name='energy', force_name='forces', stress_name='stress'):\n",
    "    \n",
    "        if cfgs=='reference':\n",
    "            self.ref_es = []; self.ref_fs = []; self.ref_ss = []\n",
    "            for i in self.ref_results:\n",
    "\n",
    "                self.ref_es.append(i[energy_name])\n",
    "                self.ref_fs.append(i[force_name])\n",
    "                try:\n",
    "                    self.ref_ss.append(to_voigt(i[stress_name]))\n",
    "                except:\n",
    "                    self.ref_ss.append(np.NaN*np.ones(6))\n",
    "                    traceback.print_exc()\n",
    "                    \n",
    "            self.ref_es = np.array(self.ref_es)\n",
    "            self.ref_flat_fs = np.array(flatten(self.ref_fs))\n",
    "            self.ref_ss = np.array(self.ref_ss)\n",
    "            self.ref_flat_ss = self.ref_ss.ravel()\n",
    "            self.ref_ps = np.array([-1*i[0:3].mean() for i in self.ref_ss])\n",
    "            \n",
    "        elif cfgs=='test':\n",
    "            self.es = []; self.fs = []; self.ss = []\n",
    "            for i in self.results:\n",
    "\n",
    "                self.es.append(i[energy_name])\n",
    "                self.fs.append(i[force_name])\n",
    "                try:\n",
    "                    self.ss.append(to_voigt(i[stress_name]))\n",
    "                except:\n",
    "                    self.ss.append(np.NaN*np.ones(6))\n",
    "                    \n",
    "            self.es = np.array(self.es)\n",
    "            self.flat_fs = np.array(flatten(self.fs))\n",
    "            self.ss = np.array(self.ss)\n",
    "            self.flat_ss = self.ss.ravel()\n",
    "            self.ps = np.array([-1*i[0:3].mean() for i in self.ss])\n",
    "            \n",
    "        if cfgs=='train':\n",
    "            self.train_es = []; self.train_fs = []; self.train_ss = []\n",
    "            for i in self.train_results:\n",
    "\n",
    "                self.train_es.append(i[energy_name])\n",
    "                self.train_fs.append(i[force_name])\n",
    "                try:\n",
    "                    self.train_ss.append(to_voigt(i[stress_name]))\n",
    "                except:\n",
    "                    self.train_ss.append(np.NaN*np.ones(6))\n",
    "                    \n",
    "            self.train_es = np.array(self.train_es)\n",
    "            self.train_flat_fs = np.array(flatten(self.train_fs))\n",
    "            self.train_ss = np.array(self.train_ss)\n",
    "            self.train_flat_ss = self.train_ss.ravel()\n",
    "            self.train_ps = np.array([-1*i[0:3].mean() for i in self.train_ss])\n",
    "            \n",
    "        if cfgs=='reference_train':\n",
    "            self.ref_train_es = []; self.ref_train_fs = []; self.ref_train_ss = []\n",
    "            for i in self.ref_train_results:\n",
    "\n",
    "                self.ref_train_es.append(i[energy_name])\n",
    "                self.ref_train_fs.append(i[force_name])\n",
    "                \n",
    "                try:\n",
    "                    self.ref_train_ss.append(to_voigt(i[stress_name]))\n",
    "                except:\n",
    "                    self.ref_train_ss.append(np.NaN*np.ones(6))\n",
    "\n",
    "            self.ref_train_es = np.array(self.ref_train_es)\n",
    "            self.ref_train_flat_fs = np.array(flatten(self.ref_train_fs))\n",
    "            self.ref_train_ss = np.array(self.ref_train_ss)\n",
    "            self.ref_train_flat_ss = self.ref_train_ss.ravel()\n",
    "            self.ref_train_ps = np.array([-1*i[0:3].mean() for i in self.ref_train_ss])\n",
    "        \n",
    "        return\n",
    "            "
   ]
  },
  {
   "cell_type": "code",
   "execution_count": 55,
   "metadata": {},
   "outputs": [],
   "source": [
    "def to_voigt(mat):\n",
    "    \n",
    "#     if not isinstance(mats, list):\n",
    "#         mats = [mats]\n",
    "    \n",
    "    if mat.shape==(9,):\n",
    "        vgt = np.array([mat[0], mat[3], mat[6], mat[5], mat[2], mat[1]])\n",
    "        \n",
    "    elif mat.shape==(3,3):       \n",
    "        vgt = np.concatenate((mat.diagonal(), np.array([mat[1,2], mat[0,2], mat[0,1]])))\n",
    "        \n",
    "    elif mat.shape==(6,):\n",
    "        vgt = mat\n",
    "    \n",
    "    else:\n",
    "        raise AttributeError('Shapes do not match recognised stress tensor conventions')\n",
    "        \n",
    "    return vgt"
   ]
  },
  {
   "cell_type": "code",
   "execution_count": 36,
   "metadata": {},
   "outputs": [],
   "source": [
    "g18_test = Model(g18_pot, g18_test_db, train_set=g18_db, name='g18')"
   ]
  },
  {
   "cell_type": "code",
   "execution_count": 37,
   "metadata": {},
   "outputs": [
    {
     "name": "stdout",
     "output_type": "stream",
     "text": [
      "Calculating 28 configurations\n",
      "Percent: [##############################] 100.00% Done...\n"
     ]
    }
   ],
   "source": [
    "g18_test.efs_calc()"
   ]
  },
  {
   "cell_type": "code",
   "execution_count": 38,
   "metadata": {},
   "outputs": [],
   "source": [
    "g18_test.efs_read(cfgs='reference', force_name='dft_force', stress_name='virial')\n",
    "g18_test.efs_read(cfgs='train', energy_name='gap18_energy', force_name='gap18_force', stress_name='gap18_virial')\n",
    "g18_test.efs_read(cfgs='reference_train', energy_name='dft_energy', force_name='dft_force', stress_name='dft_virial')"
   ]
  },
  {
   "cell_type": "code",
   "execution_count": 39,
   "metadata": {},
   "outputs": [
    {
     "name": "stdout",
     "output_type": "stream",
     "text": [
      "Quantity            RMSE                Std                 \n",
      "------------------------------------------------------------\n",
      "energy_test         0.006               0.000               \n",
      "force_test          0.105               0.051               \n",
      "stress_test         0.093               0.033               \n",
      "energy_train        0.001               0.000               \n",
      "force_train         0.082               0.022               \n",
      "stress_train        0.815               2.261               \n"
     ]
    }
   ],
   "source": [
    "g18_test.rmse()"
   ]
  },
  {
   "cell_type": "code",
   "execution_count": 360,
   "metadata": {},
   "outputs": [
    {
     "data": {
      "image/png": "[encoded data removed]",
      "text/plain": [
       "<Figure size 1080x360 with 3 Axes>"
      ]
     },
     "metadata": {
      "needs_background": "light"
     },
     "output_type": "display_data"
    }
   ],
   "source": [
    "fig, (axs, axs2, axs3) = plt.subplots(1,3, figsize=(15,5))\n",
    "\n",
    "h1= axs.hist(g18_test.es - g18_test.ref_es)\n",
    "\n",
    "h2 = axs2.hist(np.linalg.norm(g18_test.flat_fs - g18_test.ref_flat_fs, axis=1),\n",
    "               bins=20, cumulative=True, histtype='step', orientation='vertical', density=True)\n",
    "\n",
    "h3 = axs3.hist((g18_test.ss[:,0:3] - [to_voigt(i)[0:3] for i in g18_test.ref_ss]).mean(axis=1),\n",
    "               bins=20, orientation='vertical', density=True)"
   ]
  },
  {
   "cell_type": "code",
   "execution_count": 361,
   "metadata": {},
   "outputs": [
    {
     "data": {
      "image/png": "[encoded data removed]",
      "text/plain": [
       "<Figure size 1080x360 with 3 Axes>"
      ]
     },
     "metadata": {
      "needs_background": "light"
     },
     "output_type": "display_data"
    }
   ],
   "source": [
    "fig, (axs, axs2, axs3) = plt.subplots(1,3, figsize=(15,5))\n",
    "\n",
    "h1= axs.hist(g18_test.ref_train_es - g18_test.train_es)\n",
    "\n",
    "h2 = axs2.hist(np.linalg.norm(g18_test.ref_train_flat_fs - g18_test.train_flat_fs, axis=1),\n",
    "               bins=20, cumulative=True, histtype='step', orientation='vertical', density=True)\n",
    "\n",
    "h3 = axs3.hist((np.array([to_voigt(i)[0:3] for i in g18_test.train_ss]) - \\\n",
    "                np.array([to_voigt(i, flat=True)[0:3] for i in g18_test.ref_train_ss])).mean(axis=1),\n",
    "               bins=20, orientation='vertical', density=True)"
   ]
  },
  {
   "cell_type": "markdown",
   "metadata": {},
   "source": [
    "# Validation of indirect MTP\n",
    "compare as far as possible to original tests on GAP-18 from paper\n",
    "* ring stats\n",
    "* structure factors\n",
    "* vacancy formation energies"
   ]
  },
  {
   "cell_type": "code",
   "execution_count": 44,
   "metadata": {
    "pycharm": {
     "name": "#%%\n"
    }
   },
   "outputs": [
    {
     "data": {
      "text/plain": [
       "(['u16_min1.5',\n",
       "  'directMTP_u16m1.5.mtp',\n",
       "  'directMTP_u20m1.5.mtp',\n",
       "  'u16_m1.5_GAP18db.mtp',\n",
       "  'u18_m1.5_GAP18db.mtp',\n",
       "  'u20_m1.0_GAP18db.mtp',\n",
       "  'u20_m1.5_GAP18db.mtp',\n",
       "  'u20_min1.5_fw0.1_GAP18db.mtp',\n",
       "  'u24_m1.5_GAP18db.mtp',\n",
       "  'u26_m1.5_GAP18db.mtp',\n",
       "  'MTPs'],\n",
       " ['directMTP_u16m1.5.mtp',\n",
       "  'directMTP_u20m1.5.mtp',\n",
       "  'u12_m1.5_mqdb.mtp',\n",
       "  'u16_m1.5_GAP18db.mtp',\n",
       "  'u16_m1.5_fw0.1_GAP18db.mtp',\n",
       "  'u16_m1.5_mpmqGAP18db_GAPlabelled.mtp',\n",
       "  'u16_m1.5_mqGAP18db_GAPlabelled.mtp',\n",
       "  'u18_m1.5_GAP18db.mtp',\n",
       "  'u20_m1.0_GAP18db.mtp',\n",
       "  'u20_m1.5_GAP18db.mtp',\n",
       "  'u20_min1.5_fw0.1_GAP18db.mtp',\n",
       "  'u20_min1.5_fw0.1_sw0.1_GAP18db.mtp',\n",
       "  'u22_min1.5_GAP18db.mtp',\n",
       "  'u24_m1.5_GAP18db.mtp',\n",
       "  'u24_min1.5_fw0.1_GAP18db.mtp',\n",
       "  'u24_min1.5_fw0.1_sw0.1_GAP18db.mtp',\n",
       "  'u26_m1.5_GAP18db.mtp',\n",
       "  'u16_m1.5_fw0.1_PQ10k_G18_scratch.mtp',\n",
       "  'u16_m1.5_fw0.1_PQ1k-1-5_amo_G18_scratch.mtp',\n",
       "  'u16_m1.5_fw0.1_PQ1k-1_amo_G18_scratch.mtp',\n",
       "  'u16_m1.5_fw0.1_PQ1k_G18_scratch.mtp',\n",
       "  'u16_m1.5_fw0.1_PQ1k_scratch.mtp',\n",
       "  'u16_m1.5_fw0.1_PQ_G18_retrain_fromGAP18db.mtp',\n",
       "  'u16_m1.5_fw0.1_PQ_retrain_fromGAP18db.mtp',\n",
       "  'u16_m1.5_fw1.0_PQ10k_G18_scratch.mtp',\n",
       "  'u24_m1.5_fw0.1_PQ_rand_retrain_fromGAP18db.mtp'])"
      ]
     },
     "execution_count": 44,
     "metadata": {},
     "output_type": "execute_result"
    }
   ],
   "source": [
    "MTP_dir = '/u/vld/hert5155/jup_remote/Ge_od/GAP_to_MTP/MTPs/'\n",
    "MTP_md_dir = '/u/vld/hert5155/jup_remote/Ge_od/GAP_to_MTP/MTP_mds/'\n",
    "listdir(MTP_dir), listdir(join(MTP_dir, 'MTPs'))"
   ]
  },
  {
   "cell_type": "code",
   "execution_count": 56,
   "metadata": {
    "pycharm": {
     "name": "#%%\n"
    }
   },
   "outputs": [],
   "source": [
    "gls = {'parallel':False, 'mtp_command':'/u/vld/hert5155/mlip-2/bin/mlp'}\n",
    "\n",
    "MTPs = [MTP(join(MTP_dir, 'u16_min1.5/GAP_18_db_GAPlabelled.mtp'), potential_name='MTP_u16_m1.5', **gls),\n",
    "        MTP(join(MTP_dir, 'u20_m1.5_GAP18db.mtp'), potential_name='MTP_u20_m1.5', **gls),\n",
    "        MTP(join(MTP_dir, 'directMTP_u16m1.5.mtp'), potential_name='DFT-MTP_u16_m1.5', **gls),\n",
    "        MTP(join(MTP_dir, 'directMTP_u20m1.5.mtp'), potential_name='DFT-MTPu20_m1.5', **gls)\n",
    "        # MTP(os.path.join(MTP_dir, 'u16_min1.5/GAP_18_db_GAPlabelled.mtp'), potential_name='MTP u26_m1.5'),\n",
    "        ]\n",
    "\n",
    "calc_flag = [1, 1, 1, 1]"
   ]
  },
  {
   "cell_type": "code",
   "execution_count": 84,
   "metadata": {},
   "outputs": [
    {
     "data": {
      "text/plain": [
       "['MP_g18_u16_fw0.1.mtp',\n",
       " 'PQ1k-1_g18_amo.mtp',\n",
       " 'g18_u16.mtp',\n",
       " 'g18_u16_direct.mtp',\n",
       " 'g18_u16_fw0.1.mtp',\n",
       " 'g18_u16_fw0.1_direct.mtp',\n",
       " 'g18_u20_fw0.1.mtp',\n",
       " 'g18_u20_fw0.1_direct.mtp',\n",
       " 'g18_u24_fw0.1.mtp',\n",
       " 'g18_u24_fw0.1_direct.mtp']"
      ]
     },
     "execution_count": 84,
     "metadata": {},
     "output_type": "execute_result"
    }
   ],
   "source": [
    "listdir('MTPs_rmse')"
   ]
  },
  {
   "cell_type": "code",
   "execution_count": null,
   "metadata": {},
   "outputs": [],
   "source": [
    "gls = {'parallel':False, 'mtp_command':'/u/vld/hert5155/mlip-2/bin/mlp'}\n",
    "MTPs_rmse = []"
   ]
  },
  {
   "cell_type": "code",
   "execution_count": 312,
   "metadata": {},
   "outputs": [],
   "source": [
    "extras = []\n",
    "for i in listdir('MTPs_rmse'):\n",
    "    if i not in MTPs_rmse:\n",
    "        MTPs_rmse.append(MTP(join('MTPs_rmse', i),\n",
    "                             potential_name=i[:-4], **gls))\n",
    "        extras.append(i)"
   ]
  },
  {
   "cell_type": "code",
   "execution_count": 313,
   "metadata": {},
   "outputs": [
    {
     "data": {
      "text/plain": [
       "['MP_g18_u16_fw0.1.mtp',\n",
       " 'PQ1k-1_g18_amo.mtp',\n",
       " 'g18_u16.mtp',\n",
       " 'g18_u16_direct.mtp',\n",
       " 'g18_u16_fw0.1.mtp',\n",
       " 'g18_u16_fw0.1_direct.mtp',\n",
       " 'g18_u20_fw0.1.mtp',\n",
       " 'g18_u20_fw0.1_direct.mtp',\n",
       " 'g18_u24_fw0.1.mtp',\n",
       " 'g18_u24_fw0.1_direct.mtp',\n",
       " 'PQ1k-1-5_g18_amo_u16_fw0.1.mtp',\n",
       " 'PQ1k-1_g18_amo_u16_fw0.1.mtp']"
      ]
     },
     "execution_count": 313,
     "metadata": {},
     "output_type": "execute_result"
    }
   ],
   "source": [
    "extras"
   ]
  },
  {
   "cell_type": "code",
   "execution_count": 58,
   "metadata": {
    "pycharm": {
     "name": "#%%\n"
    }
   },
   "outputs": [],
   "source": [
    "# MTP_md = [MD_run(os.path.join(MTP_md_dir, i), label=i[:-9]) for i in os.listdir(MTP_md_dir)]"
   ]
  },
  {
   "cell_type": "markdown",
   "metadata": {},
   "source": [
    "## RMSEs calculation"
   ]
  },
  {
   "cell_type": "code",
   "execution_count": 67,
   "metadata": {},
   "outputs": [
    {
     "name": "stdout",
     "output_type": "stream",
     "text": [
      "Calculating 28 testing configurations\n",
      "Percent: [##############################] 100.00% Done...\n",
      "Calculating 28 testing configurations\n",
      "Percent: [##############################] 100.00% Done...\n",
      "Calculating 28 testing configurations\n",
      "Percent: [##############################] 100.00% Done...\n",
      "Calculating 28 testing configurations\n",
      "Percent: [##############################] 100.00% Done...\n"
     ]
    }
   ],
   "source": [
    "models = [Model(i, g18_test_db, name=i.name, train_set=g18_db) for i in MTPs]\n",
    "\n",
    "for i in models:\n",
    "    i.efs_calc()"
   ]
  },
  {
   "cell_type": "code",
   "execution_count": 76,
   "metadata": {},
   "outputs": [
    {
     "name": "stdout",
     "output_type": "stream",
     "text": [
      "Calculating 2475 training configurations\n",
      "Percent: [##############################] 100.00% Done...\n",
      "Calculating 2475 training configurations\n",
      "Percent: [##############################] 100.00% Done...\n",
      "Calculating 2475 training configurations\n",
      "Percent: [##############################] 100.00% Done...\n",
      "Calculating 2475 training configurations\n",
      "Percent: [##############################] 100.00% Done...\n"
     ]
    }
   ],
   "source": [
    "for i in models:\n",
    "    i.efs_calc(train=True)"
   ]
  },
  {
   "cell_type": "code",
   "execution_count": 77,
   "metadata": {},
   "outputs": [],
   "source": [
    "for i in models:\n",
    "    i.efs_read(cfgs='reference', force_name='dft_force', stress_name='virial')\n",
    "    i.efs_read(cfgs='reference_train', energy_name='dft_energy', force_name='dft_force', stress_name='dft_virial')"
   ]
  },
  {
   "cell_type": "code",
   "execution_count": 78,
   "metadata": {
    "collapsed": true
   },
   "outputs": [
    {
     "name": "stdout",
     "output_type": "stream",
     "text": [
      "\n",
      "\n",
      " MTP_u16_m1.5\n",
      "Quantity            RMSE per at         Std                 \n",
      "------------------------------------------------------------\n",
      "energy_test         0.009               0.000               \n",
      "force_test          0.103               0.034               \n",
      "stress_test         0.093               0.033               \n",
      "energy_train        0.001               0.000               \n",
      "force_train         0.082               0.022               \n",
      "stress_train        0.815               2.261               \n",
      "\n",
      "\n",
      " MTP_u20_m1.5\n",
      "Quantity            RMSE per at         Std                 \n",
      "------------------------------------------------------------\n",
      "energy_test         0.011               0.000               \n",
      "force_test          0.107               0.049               \n",
      "stress_test         0.093               0.033               \n",
      "energy_train        0.001               0.000               \n",
      "force_train         0.082               0.022               \n",
      "stress_train        0.815               2.261               \n",
      "\n",
      "\n",
      " DFT-MTP_u16_m1.5\n",
      "Quantity            RMSE per at         Std                 \n",
      "------------------------------------------------------------\n",
      "energy_test         0.011               0.000               \n",
      "force_test          0.101               0.037               \n",
      "stress_test         0.093               0.033               \n",
      "energy_train        0.001               0.000               \n",
      "force_train         0.082               0.022               \n",
      "stress_train        0.815               2.261               \n",
      "\n",
      "\n",
      " DFT-MTPu20_m1.5\n",
      "Quantity            RMSE per at         Std                 \n",
      "------------------------------------------------------------\n",
      "energy_test         0.010               0.000               \n",
      "force_test          0.099               0.039               \n",
      "stress_test         0.093               0.033               \n",
      "energy_train        0.001               0.000               \n",
      "force_train         0.082               0.022               \n",
      "stress_train        0.815               2.261               \n"
     ]
    }
   ],
   "source": [
    "for i in models:\n",
    "    print('\\n\\n',i.name)\n",
    "    i.rmse()"
   ]
  },
  {
   "cell_type": "code",
   "execution_count": 109,
   "metadata": {},
   "outputs": [],
   "source": [
    "rmse_models = [Model(i, test_db, name=i.name, train_set=g18_db) for i in MTPs_rmse]"
   ]
  },
  {
   "cell_type": "code",
   "execution_count": 316,
   "metadata": {},
   "outputs": [],
   "source": [
    "i = MTPs_rmse[-2]\n",
    "# rmse_models.append(Model(i, test_db, name=i.name, train_set=g18_db))\n",
    "rmse_models[-1] = Model(i, test_db, name=i.name, train_set=g18_db)"
   ]
  },
  {
   "cell_type": "code",
   "execution_count": 317,
   "metadata": {},
   "outputs": [
    {
     "name": "stdout",
     "output_type": "stream",
     "text": [
      "Calculating 6226 testing configurations\n",
      "Percent: [##############################] 100.00% Done...\n",
      "Calculating 2475 training configurations\n",
      "Percent: [##############################] 100.00% Done...\n"
     ]
    }
   ],
   "source": [
    "rmse_models[-1].efs_calc()\n",
    "rmse_models[-1].efs_calc(train=True)"
   ]
  },
  {
   "cell_type": "code",
   "execution_count": 110,
   "metadata": {},
   "outputs": [
    {
     "name": "stdout",
     "output_type": "stream",
     "text": [
      "Calculating 6226 testing configurations\n",
      "Percent: [##############################] 100.00% Done...\n",
      "Calculating 6226 testing configurations\n",
      "Percent: [##############################] 100.00% Done...\n",
      "Calculating 6226 testing configurations\n",
      "Percent: [##############################] 100.00% Done...\n",
      "Calculating 6226 testing configurations\n",
      "Percent: [##############################] 100.00% Done...\n",
      "Calculating 6226 testing configurations\n",
      "Percent: [##############################] 100.00% Done...\n",
      "Calculating 6226 testing configurations\n",
      "Percent: [##############################] 100.00% Done...\n",
      "Calculating 6226 testing configurations\n",
      "Percent: [##############################] 100.00% Done...\n",
      "Calculating 6226 testing configurations\n",
      "Percent: [##############################] 100.00% Done...\n",
      "Calculating 6226 testing configurations\n",
      "Percent: [##############################] 100.00% Done...\n",
      "Calculating 6226 testing configurations\n",
      "Percent: [##############################] 100.00% Done...\n"
     ]
    }
   ],
   "source": [
    "for i in rmse_models:\n",
    "    i.efs_calc()"
   ]
  },
  {
   "cell_type": "code",
   "execution_count": 111,
   "metadata": {},
   "outputs": [
    {
     "name": "stdout",
     "output_type": "stream",
     "text": [
      "Calculating 2475 training configurations\n",
      "Percent: [##############################] 100.00% Done...\n",
      "Calculating 2475 training configurations\n",
      "Percent: [##############################] 100.00% Done...\n",
      "Calculating 2475 training configurations\n",
      "Percent: [##############################] 100.00% Done...\n",
      "Calculating 2475 training configurations\n",
      "Percent: [##############################] 100.00% Done...\n",
      "Calculating 2475 training configurations\n",
      "Percent: [##############################] 100.00% Done...\n",
      "Calculating 2475 training configurations\n",
      "Percent: [##############################] 100.00% Done...\n",
      "Calculating 2475 training configurations\n",
      "Percent: [##############################] 100.00% Done...\n",
      "Calculating 2475 training configurations\n",
      "Percent: [##############################] 100.00% Done...\n",
      "Calculating 2475 training configurations\n",
      "Percent: [##############################] 100.00% Done...\n",
      "Calculating 2475 training configurations\n",
      "Percent: [##############################] 100.00% Done...\n"
     ]
    }
   ],
   "source": [
    "for i in rmse_models:\n",
    "    i.efs_calc(train=True)"
   ]
  },
  {
   "cell_type": "code",
   "execution_count": 116,
   "metadata": {},
   "outputs": [],
   "source": [
    "for i in rmse_models:\n",
    "    i.save_efs()"
   ]
  },
  {
   "cell_type": "markdown",
   "metadata": {},
   "source": [
    "# Analysis of the RMSEs"
   ]
  },
  {
   "cell_type": "code",
   "execution_count": 318,
   "metadata": {
    "scrolled": true
   },
   "outputs": [],
   "source": [
    "for i in rmse_models:\n",
    "    i.efs_read(cfgs='reference', energy_name='gap18_energy', force_name='gap18_force', stress_name='gap18_virial')\n",
    "    i.efs_read(cfgs='reference_train', energy_name='gap18_energy', force_name='gap18_force', stress_name='gap18_virial')"
   ]
  },
  {
   "cell_type": "code",
   "execution_count": 320,
   "metadata": {},
   "outputs": [
    {
     "name": "stdout",
     "output_type": "stream",
     "text": [
      "\n",
      "\n",
      " MP_g18_u16_fw0.1\n",
      "Quantity            RMSE per at         Std                 \n",
      "------------------------------------------------------------\n",
      "energy_test         37.971              96630.718           \n",
      "force_test          3787.706            5902120404.086      \n",
      "stress_test         0.215               0.256               \n",
      "energy_train        0.037               0.032               \n",
      "force_train         0.111               0.040               \n",
      "stress_train        1.073               4.560               \n",
      "\n",
      "\n",
      " PQ1k-1_g18_amo\n",
      "Quantity            RMSE per at         Std                 \n",
      "------------------------------------------------------------\n",
      "energy_test         7.894               2517.485            \n",
      "force_test          195.872             9433049.149         \n",
      "stress_test         0.213               0.234               \n",
      "energy_train        0.028               0.021               \n",
      "force_train         0.097               0.031               \n",
      "stress_train        1.074               4.576               \n",
      "\n",
      "\n",
      " g18_u16\n",
      "Quantity            RMSE per at         Std                 \n",
      "------------------------------------------------------------\n",
      "energy_test         482.854             13422628.014        \n",
      "force_test          34341.126           446007229227.891    \n",
      "stress_test         0.524               15.968              \n",
      "energy_train        0.014               0.001               \n",
      "force_train         0.100               0.035               \n",
      "stress_train        1.073               4.558               \n",
      "\n",
      "\n",
      " g18_u16_direct\n",
      "Quantity            RMSE per at         Std                 \n",
      "------------------------------------------------------------\n",
      "energy_test         70609.423           326114551980.580    \n",
      "force_test          7134413.496         20921752751849412.000\n",
      "stress_test         73.854              434122.542          \n",
      "energy_train        0.015               0.004               \n",
      "force_train         0.100               0.032               \n",
      "stress_train        1.074               4.572               \n",
      "\n",
      "\n",
      " g18_u16_fw0.1\n",
      "Quantity            RMSE per at         Std                 \n",
      "------------------------------------------------------------\n",
      "energy_test         32279.055           65742177156.479     \n",
      "force_test          2919059.870         3442806365691338.000\n",
      "stress_test         30.889              72099.827           \n",
      "energy_train        0.024               0.013               \n",
      "force_train         0.094               0.028               \n",
      "stress_train        1.074               4.575               \n",
      "\n",
      "\n",
      " g18_u16_fw0.1_direct\n",
      "Quantity            RMSE per at         Std                 \n",
      "------------------------------------------------------------\n",
      "energy_test         58.526              237698.422          \n",
      "force_test          7109.997            21384189878.569     \n",
      "stress_test         0.225               0.514               \n",
      "energy_train        0.027               0.022               \n",
      "force_train         0.095               0.030               \n",
      "stress_train        1.074               4.574               \n",
      "\n",
      "\n",
      " g18_u20_fw0.1\n",
      "Quantity            RMSE per at         Std                 \n",
      "------------------------------------------------------------\n",
      "energy_test         7294.540            3388907011.792      \n",
      "force_test          668206.946          180910909069270.750 \n",
      "stress_test         7.089               3841.335            \n",
      "energy_train        0.018               0.008               \n",
      "force_train         0.079               0.020               \n",
      "stress_train        1.074               4.562               \n",
      "\n",
      "\n",
      " g18_u20_fw0.1_direct\n",
      "Quantity            RMSE per at         Std                 \n",
      "------------------------------------------------------------\n",
      "energy_test         443.536             11617046.380        \n",
      "force_test          32603.713           407446495356.958    \n",
      "stress_test         0.428               8.941               \n",
      "energy_train        0.028               0.030               \n",
      "force_train         0.089               0.026               \n",
      "stress_train        1.073               4.560               \n",
      "\n",
      "\n",
      " g18_u24_fw0.1\n",
      "Quantity            RMSE per at         Std                 \n",
      "------------------------------------------------------------\n",
      "energy_test         17033.926           18400306136.734     \n",
      "force_test          1576832.457         1006770562235170.250\n",
      "stress_test         16.891              21740.273           \n",
      "energy_train        0.011               0.002               \n",
      "force_train         0.068               0.015               \n",
      "stress_train        1.073               4.559               \n",
      "\n",
      "\n",
      " g18_u24_fw0.1_direct\n",
      "Quantity            RMSE per at         Std                 \n",
      "------------------------------------------------------------\n",
      "energy_test         620.154             26844202.788        \n",
      "force_test          70713.479           2090682086913.292   \n",
      "stress_test         0.798               49.567              \n",
      "energy_train        0.011               0.003               \n",
      "force_train         0.073               0.018               \n",
      "stress_train        1.073               4.565               \n",
      "\n",
      "\n",
      " PQ1k-1-5_g18_amo_u16_fw0.1\n",
      "Quantity            RMSE per at         Std                 \n",
      "------------------------------------------------------------\n",
      "energy_test         2567.852            353217785.769       \n",
      "force_test          153392.718          8510771036505.501   \n",
      "stress_test         1.952               226.338             \n",
      "energy_train        0.045               0.043               \n",
      "force_train         0.113               0.050               \n",
      "stress_train        1.073               4.566               \n"
     ]
    }
   ],
   "source": [
    "for i in rmse_models:\n",
    "    print('\\n\\n',i.pot.name)\n",
    "    i.rmse()"
   ]
  },
  {
   "cell_type": "code",
   "execution_count": 172,
   "metadata": {},
   "outputs": [
    {
     "data": {
      "text/plain": [
       "[Text(0.5, 0, '$\\\\Delta\\\\sigma_v$ / $\\\\mathrm{eV}$')]"
      ]
     },
     "execution_count": 172,
     "metadata": {},
     "output_type": "execute_result"
    },
    {
     "data": {
      "image/png": "[encoded data removed]",
      "text/plain": [
       "<Figure size 1080x360 with 3 Axes>"
      ]
     },
     "metadata": {
      "needs_background": "light"
     },
     "output_type": "display_data"
    }
   ],
   "source": [
    "fig, (axs, axs2, axs3) = plt.subplots(1,3, figsize=(15,5))\n",
    "m = rmse_models[0]\n",
    "h1= axs.hist(m.ref_train_es - m.train_es, bins=100)\n",
    "\n",
    "h2 = axs2.hist(np.linalg.norm(m.ref_train_flat_fs - m.train_flat_fs, axis=1),\n",
    "               bins=100, cumulative=True, histtype='step', orientation='vertical', density=True)\n",
    "\n",
    "h3 = axs3.hist((np.array([to_voigt(i)[0:3] for i in m.train_ss]) - \\\n",
    "                np.array([to_voigt(i)[0:3] for i in m.ref_train_ss])).mean(axis=1),\n",
    "               bins=100, orientation='vertical', density=True)\n",
    "\n",
    "axs.set(xlabel=r'$\\Delta E$ / eV')\n",
    "axs2.set(xlabel=r'$\\Delta F$ / $\\mathrm{eV \\AA ^{-1}}$')\n",
    "axs3.set(xlabel=r'$\\Delta\\sigma_v$ / $\\mathrm{eV}$')"
   ]
  },
  {
   "cell_type": "code",
   "execution_count": 254,
   "metadata": {},
   "outputs": [],
   "source": [
    "def outliers_missed(a, **kwargs):\n",
    "    return (a.shape[0] - a[~is_outlier(a, **kwargs)].shape[0])/a.shape[0]*100"
   ]
  },
  {
   "cell_type": "code",
   "execution_count": 243,
   "metadata": {},
   "outputs": [
    {
     "data": {
      "text/plain": [
       "<matplotlib.collections.PathCollection at 0x7f3e81db74c0>"
      ]
     },
     "execution_count": 243,
     "metadata": {},
     "output_type": "execute_result"
    },
    {
     "data": {
      "image/png": "[encoded data removed]",
      "text/plain": [
       "<Figure size 432x288 with 1 Axes>"
      ]
     },
     "metadata": {
      "needs_background": "light"
     },
     "output_type": "display_data"
    }
   ],
   "source": [
    "rho, r, bw = rho_init(a.get_positions(), a.cell.array.diagonal(), 100)\n",
    "plt.scatter(r, rho)"
   ]
  },
  {
   "cell_type": "code",
   "execution_count": 279,
   "metadata": {},
   "outputs": [
    {
     "data": {
      "text/plain": [
       "array([False, False, False, ..., False, False, False])"
      ]
     },
     "execution_count": 279,
     "metadata": {},
     "output_type": "execute_result"
    }
   ],
   "source": [
    "is_outlier(del_e, thresh=thresh)"
   ]
  },
  {
   "cell_type": "code",
   "execution_count": 285,
   "metadata": {
    "collapsed": true
   },
   "outputs": [
    {
     "data": {
      "text/plain": [
       "[Atoms(symbols='Si125', pbc=True, cell=[13.7286, 13.7286, 13.7286], gap18_force=..., masses=...),\n",
       " Atoms(symbols='Si216', pbc=True, cell=[16.4743, 16.4743, 16.4743], gap18_force=..., masses=...),\n",
       " Atoms(symbols='Si64', pbc=True, cell=[10.9829, 10.9829, 10.9829], gap18_force=..., masses=...),\n",
       " Atoms(symbols='Si125', pbc=True, cell=[13.7286, 13.7286, 13.7286], gap18_force=..., masses=...),\n",
       " Atoms(symbols='Si216', pbc=True, cell=[16.4743, 16.4743, 16.4743], gap18_force=..., masses=...),\n",
       " Atoms(symbols='Si64', pbc=True, cell=[10.9829, 10.9829, 10.9829], gap18_force=..., masses=...),\n",
       " Atoms(symbols='Si64', pbc=True, cell=[10.9829, 10.9829, 10.9829], gap18_force=..., masses=...),\n",
       " Atoms(symbols='Si64', pbc=True, cell=[10.9829, 10.9829, 10.9829], gap18_force=..., masses=...),\n",
       " Atoms(symbols='Si64', pbc=True, cell=[10.9829, 10.9829, 10.9829], gap18_force=..., masses=..., calculator=MTP(...)),\n",
       " Atoms(symbols='Si64', pbc=True, cell=[10.9829, 10.9829, 10.9829], gap18_force=..., masses=...),\n",
       " Atoms(symbols='Si64', pbc=True, cell=[10.9829, 10.9829, 10.9829], gap18_force=..., masses=...),\n",
       " Atoms(symbols='Si64', pbc=True, cell=[10.9829, 10.9829, 10.9829], gap18_force=..., masses=...),\n",
       " Atoms(symbols='Si64', pbc=True, cell=[10.9829, 10.9829, 10.9829], gap18_force=..., masses=...),\n",
       " Atoms(symbols='Si64', pbc=True, cell=[10.9829, 10.9829, 10.9829], gap18_force=..., masses=...),\n",
       " Atoms(symbols='Si64', pbc=True, cell=[10.9829, 10.9829, 10.9829], gap18_force=..., masses=...),\n",
       " Atoms(symbols='Si64', pbc=True, cell=[10.9829, 10.9829, 10.9829], gap18_force=..., masses=...),\n",
       " Atoms(symbols='Si64', pbc=True, cell=[10.9829, 10.9829, 10.9829], gap18_force=..., masses=...),\n",
       " Atoms(symbols='Si64', pbc=True, cell=[10.9829, 10.9829, 10.9829], gap18_force=..., masses=...),\n",
       " Atoms(symbols='Si64', pbc=True, cell=[10.9829, 10.9829, 10.9829], gap18_force=..., masses=...),\n",
       " Atoms(symbols='Si64', pbc=True, cell=[10.9829, 10.9829, 10.9829], gap18_force=..., masses=...),\n",
       " Atoms(symbols='Si368', pbc=True, cell=[[19.49679223, 0.0, 0.0], [-0.11816232, 21.39555194, 0.0], [-0.27900942, -0.0045278, 22.02233925]], gap18_force=..., map_shift=..., n_neighb=...),\n",
       " Atoms(symbols='Si96', pbc=True, cell=[[13.73679676, 0.0, 0.0], [-0.11739502, 13.53629875, 0.0], [0.40965994, 0.07132882, 13.68819682]], gap18_force=..., map_shift=..., n_neighb=...),\n",
       " Atoms(symbols='Si96', pbc=True, cell=[[13.43138926, 0.0, 0.0], [0.10356038, 13.82671757, 0.0], [-0.0064993, -0.23884058, 13.04587124]], gap18_force=..., map_shift=..., n_neighb=...),\n",
       " Atoms(symbols='Si96', pbc=True, cell=[[13.18451165, 0.0, 0.0], [-0.49814743, 12.67198503, 0.0], [-0.08010271, 0.00512154, 13.0908236]], gap18_force=..., map_shift=..., n_neighb=...),\n",
       " Atoms(symbols='Si96', pbc=True, cell=[[13.31919211, 0.0, 0.0], [0.15249174, 13.3475839, 0.0], [-0.06939926, 0.16671992, 13.90449021]], gap18_force=..., map_shift=..., n_neighb=...),\n",
       " Atoms(symbols='Si96', pbc=True, cell=[[13.26689148, 0.0, 0.0], [-0.05952136, 12.87951196, 0.0], [-0.36204425, 0.03523114, 13.30741058]], gap18_force=..., map_shift=..., n_neighb=...),\n",
       " Atoms(symbols='Si96', pbc=True, cell=[[13.32103923, 0.0, 0.0], [-0.13247828, 13.53920436, 0.0], [0.28894003, -0.05730688, 13.35649407]], gap18_force=..., map_shift=..., n_neighb=...),\n",
       " Atoms(symbols='Si96', pbc=True, cell=[[14.1067734, 0.0, 0.0], [-0.09356781, 13.46076557, 0.0], [0.13818806, 0.00964902, 13.24065426]], gap18_force=..., map_shift=..., n_neighb=...),\n",
       " Atoms(symbols='Si96', pbc=True, cell=[[13.1220562, 0.0, 0.0], [-0.1359077, 13.36634565, 0.0], [0.02413622, 0.07813939, 13.36867746]], gap18_force=..., map_shift=..., n_neighb=...),\n",
       " Atoms(symbols='Si96', pbc=True, cell=[[13.14313594, 0.0, 0.0], [0.3311113, 13.10407145, 0.0], [0.01388885, 0.03272867, 13.66474374]], gap18_force=..., map_shift=..., n_neighb=...),\n",
       " Atoms(symbols='Si96', pbc=True, cell=[[13.67952021, 0.0, 0.0], [-0.0566728, 13.82698645, 0.0], [0.01085174, -0.08070651, 13.47147203]], gap18_force=..., map_shift=..., n_neighb=...),\n",
       " Atoms(symbols='Si320', pbc=True, cell=[[20.44590585, 0.0, 0.0], [-9.93182453, 18.40876471, 0.0], [0.22397657, 0.16421474, 21.80979138]], gap18_force=..., map_shift=..., n_neighb=...),\n",
       " Atoms(symbols='Si1000', pbc=True, cell=[24.3571, 24.3571, 24.3571], GAP18_energies=..., GAP18_force=..., gap18_force=..., masses=...),\n",
       " Atoms(symbols='Si1000', pbc=True, cell=[24.2892, 24.2892, 24.2892], GAP18_energies=..., GAP18_force=..., gap18_force=..., masses=...),\n",
       " Atoms(symbols='Si1000', pbc=True, cell=[28.2829, 28.2829, 28.2829], Cmca=..., GAP18_energies=..., GAP18_force=..., GAP18_variance=..., Imma=..., bSn=..., bcc=..., cn=..., dia=..., fcc=..., gap18_force=..., hcp=..., masses=..., sc=..., sh=...),\n",
       " Atoms(symbols='Si1000', pbc=True, cell=[24.4415, 24.4415, 24.4415], Cmca=..., GAP18_energies=..., GAP18_force=..., GAP18_variance=..., Imma=..., bSn=..., bcc=..., cn=..., dia=..., fcc=..., gap18_force=..., hcp=..., masses=..., sc=..., sh=...),\n",
       " Atoms(symbols='Si1000', pbc=True, cell=[24.269, 24.269, 24.269], Cmca=..., GAP18_energies=..., GAP18_force=..., GAP18_variance=..., Imma=..., bSn=..., bcc=..., cn=..., dia=..., fcc=..., gap18_force=..., hcp=..., masses=..., sc=..., sh=...),\n",
       " Atoms(symbols='Si1000', pbc=True, cell=[24.146, 24.146, 24.146], Cmca=..., GAP18_energies=..., GAP18_force=..., GAP18_variance=..., Imma=..., bSn=..., bcc=..., cn=..., dia=..., fcc=..., gap18_force=..., hcp=..., masses=..., sc=..., sh=...),\n",
       " Atoms(symbols='Si1000', pbc=True, cell=[24.0111, 24.0111, 24.0111], Cmca=..., GAP18_energies=..., GAP18_force=..., GAP18_variance=..., Imma=..., bSn=..., bcc=..., cn=..., dia=..., fcc=..., gap18_force=..., hcp=..., masses=..., sc=..., sh=...)]"
      ]
     },
     "execution_count": 285,
     "metadata": {},
     "output_type": "execute_result"
    }
   ],
   "source": [
    "suspect_distances = []\n",
    "suspects = [x for i_, x in enumerate(rmse_models[0].test_set) if is_outlier(del_e, thresh=thresh)[i_]]\n"
   ]
  },
  {
   "cell_type": "code",
   "execution_count": 286,
   "metadata": {},
   "outputs": [],
   "source": [
    "for i, val in enumerate(suspects):\n",
    "    rho, r, bw = rho_init(val.get_positions(), val.cell.array.diagonal(), 100)\n",
    "    suspect_distances.append( r[np.argwhere(rho>0)[0,0]] )"
   ]
  },
  {
   "cell_type": "code",
   "execution_count": 292,
   "metadata": {},
   "outputs": [
    {
     "data": {
      "text/plain": [
       "<matplotlib.lines.Line2D at 0x7f3e715cd0d0>"
      ]
     },
     "execution_count": 292,
     "metadata": {},
     "output_type": "execute_result"
    },
    {
     "data": {
      "image/png": "[encoded data removed]",
      "text/plain": [
       "<Figure size 432x288 with 1 Axes>"
      ]
     },
     "metadata": {
      "needs_background": "light"
     },
     "output_type": "display_data"
    }
   ],
   "source": [
    "fig, axs = plt.subplots()\n",
    "axs.hist(suspect_distances)\n",
    "axs.axvline(1.9, color='k', linestyle='--')"
   ]
  },
  {
   "cell_type": "markdown",
   "metadata": {},
   "source": [
    " min distances below that of the mp are clear hear - GAP has fallen down a hole (could be the origin of the issues\n",
    " with fitting germanium or **need for looseness**?!!!!)"
   ]
  },
  {
   "cell_type": "code",
   "execution_count": 218,
   "metadata": {},
   "outputs": [
    {
     "name": "stdout",
     "output_type": "stream",
     "text": [
      "-10240.557597237186\n",
      "266361.65946448647\n"
     ]
    },
    {
     "data": {
      "text/plain": [
       "(None,\n",
       " Atoms(symbols='Si64', pbc=True, cell=[10.9829, 10.9829, 10.9829], gap18_force=..., masses=..., calculator=MTP(...)))"
      ]
     },
     "execution_count": 218,
     "metadata": {},
     "output_type": "execute_result"
    }
   ],
   "source": [
    "a = rmse_models[0].test_set[2601]\n",
    "a.calc = g18_pot\n",
    "print(a.get_potential_energy())\n",
    "a.calc = MTPs_rmse[5]\n",
    "print(a.get_potential_energy()), a"
   ]
  },
  {
   "cell_type": "code",
   "execution_count": 288,
   "metadata": {},
   "outputs": [
    {
     "data": {
      "text/plain": [
       "Text(0.5, -0.3, 'MP_g18_u16_fw0.1')"
      ]
     },
     "execution_count": 288,
     "metadata": {},
     "output_type": "execute_result"
    },
    {
     "name": "stderr",
     "output_type": "stream",
     "text": [
      "findfont: Font family ['sans-serif'] not found. Falling back to DejaVu Sans.\n"
     ]
    },
    {
     "data": {
      "image/png": "[encoded data removed]",
      "text/plain": [
       "<Figure size 1080x360 with 3 Axes>"
      ]
     },
     "metadata": {
      "needs_background": "light"
     },
     "output_type": "display_data"
    }
   ],
   "source": [
    "fig, (axs, axs2, axs3) = plt.subplots(1,3, figsize=(15,5))\n",
    "m = rmse_models[0]\n",
    "thresh = 100\n",
    "del_e = (m.ref_es - m.es)**2 / m.atoms_lengths*1000\n",
    "h1= axs.hist(del_e[~is_outlier(del_e, thresh=thresh)], bins=500, histtype='step', cumulative=True, density=True)\n",
    "\n",
    "del_f = np.linalg.norm(m.ref_flat_fs - m.flat_fs, axis=1)\n",
    "h2 = axs2.hist(del_f[~is_outlier(del_f, thresh=thresh)],\n",
    "               bins=500, cumulative=True, histtype='step', orientation='vertical', density=True)\n",
    "\n",
    "# del_s = (np.array([to_voigt(i)[0:3] for i in m.ss]) - \\\n",
    "#                 np.array([to_voigt(i)[0:3] for i in m.ref_ss])).mean(axis=1)\n",
    "del_s = ((np.array([to_voigt(i) for i in m.ss]) - \\\n",
    "                np.array([to_voigt(i) for i in m.ref_ss]))**2).ravel()\n",
    "h3 = axs3.hist(del_s[~is_outlier(del_s, thresh=thresh)],\n",
    "               bins=500, cumulative=True, histtype='step', orientation='vertical', density=True)\n",
    "\n",
    "axs.set_xscale('log'); axs2.set_xscale('log'); axs3.set_xscale('log')\n",
    "axs.set(xlabel=r'$\\Delta E$ / eV')\n",
    "axs2.set(xlabel=r'$\\Delta F$ / $\\mathrm{eV \\AA ^{-1}}$')\n",
    "axs3.set(xlabel=r'$\\Delta\\sigma_v$ / $\\mathrm{eV}$')\n",
    "\n",
    "dels = [del_e, del_f, del_s]\n",
    "\n",
    "for ct, i in enumerate([axs, axs2, axs3]):\n",
    "    i.text(0.3, 0.8, 'missed {:3.1f} %'.format(outliers_missed(dels[ct], thresh=thresh)), transform=i.transAxes)\n",
    "    \n",
    "axs2.text(0.5, -0.3, '{}'.format(m.pot.name), fontsize=16)"
   ]
  },
  {
   "cell_type": "code",
   "execution_count": 321,
   "metadata": {},
   "outputs": [
    {
     "data": {
      "text/plain": [
       "<matplotlib.legend.Legend at 0x7f3e715b2820>"
      ]
     },
     "execution_count": 321,
     "metadata": {},
     "output_type": "execute_result"
    },
    {
     "data": {
      "image/png": "[encoded data removed]",
      "text/plain": [
       "<Figure size 1080x360 with 3 Axes>"
      ]
     },
     "metadata": {
      "needs_background": "light"
     },
     "output_type": "display_data"
    }
   ],
   "source": [
    "fig, (axs, axs2, axs3) = plt.subplots(1,3, figsize=(15,5))\n",
    "choice = [4,5,6,7,8,9]\n",
    "thresh = 100\n",
    "del_e = []; del_f = []; del_s = []\n",
    "\n",
    "for ct, m in enumerate([rmse_models[i] for i in choice]):\n",
    "    del_e.append((m.ref_es - m.es)**2 / m.atoms_lengths*1000)\n",
    "    del_f.append(np.linalg.norm(m.ref_flat_fs - m.flat_fs, axis=1))\n",
    "    del_s.append(((np.array([to_voigt(i) for i in m.ss]) - \\\n",
    "                    np.array([to_voigt(i) for i in m.ref_ss]))**2).ravel())\n",
    "    \n",
    "    h1= axs.hist(del_e[-1][~is_outlier(del_e[-1], thresh=thresh)],\n",
    "                 bins=1000, histtype='step', cumulative=True, density=True\n",
    "                )\n",
    " \n",
    "    h2 = axs2.hist(del_f[-1][~is_outlier(del_f[-1], thresh=thresh)],\n",
    "                   bins=1000, cumulative=True, histtype='step', orientation='vertical', density=True)\n",
    "\n",
    "   \n",
    "    h3 = axs3.hist(del_s[-1][~is_outlier(del_s[-1], thresh=thresh)],\n",
    "                   bins=1000, cumulative=True, histtype='step', orientation='vertical', density=True,\n",
    "                  label=m.pot.name)\n",
    "\n",
    "# axs.set_xscale('log'); axs2.set_xscale('log'); axs3.set_xscale('log')\n",
    "axs.set(xlabel=r'$\\Delta E$ / $\\mathrm{meV at}^{-1}$',\n",
    "       xlim=(0,20))\n",
    "axs2.set(xlabel=r'$\\Delta F$ / $\\mathrm{eV \\AA ^{-1}}$',\n",
    "       xlim=(0,0.65))\n",
    "axs3.set(xlabel=r'$\\Delta\\sigma_v$ / $\\mathrm{eV at}^{-1}$',\n",
    "       xlim=(0,100))\n",
    "axs3.legend()\n",
    "\n",
    "# dels = [del_e, del_f, del_s]\n",
    "\n",
    "# for ct, i in enumerate([axs, axs2, axs3]):\n",
    "#     i.text(0.3, 0.8, 'missed {:3.1f} %'.format(outliers_missed(dels[ct], thresh=thresh)), transform=i.transAxes)\n",
    "    \n",
    "# axs2.text(0.5, -0.3, '{}'.format(m.pot.name), fontsize=16)"
   ]
  },
  {
   "cell_type": "code",
   "execution_count": 322,
   "metadata": {},
   "outputs": [
    {
     "data": {
      "text/plain": [
       "<matplotlib.legend.Legend at 0x7f3e70b28520>"
      ]
     },
     "execution_count": 322,
     "metadata": {},
     "output_type": "execute_result"
    },
    {
     "data": {
      "image/png": "[encoded data removed]",
      "text/plain": [
       "<Figure size 1080x360 with 3 Axes>"
      ]
     },
     "metadata": {
      "needs_background": "light"
     },
     "output_type": "display_data"
    }
   ],
   "source": [
    "fig, (axs, axs2, axs3) = plt.subplots(1,3, figsize=(15,5))\n",
    "choice = [0,1,-2, -1]\n",
    "thresh = 100\n",
    "del_e = []; del_f = []; del_s = []\n",
    "\n",
    "for ct, m in enumerate([rmse_models[i] for i in choice]):\n",
    "    del_e.append((m.ref_es - m.es)**2 / m.atoms_lengths*1000)\n",
    "    del_f.append(np.linalg.norm(m.ref_flat_fs - m.flat_fs, axis=1))\n",
    "    del_s.append(((np.array([to_voigt(i) for i in m.ss]) - \\\n",
    "                    np.array([to_voigt(i) for i in m.ref_ss]))**2).ravel())\n",
    "    \n",
    "    h1= axs.hist(del_e[-1][~is_outlier(del_e[-1], thresh=thresh)],\n",
    "                 bins=1000, histtype='step', cumulative=True, density=True\n",
    "                )\n",
    " \n",
    "    h2 = axs2.hist(del_f[-1][~is_outlier(del_f[-1], thresh=thresh)],\n",
    "                   bins=1000, cumulative=True, histtype='step', orientation='vertical', density=True)\n",
    "\n",
    "   \n",
    "    h3 = axs3.hist(del_s[-1][~is_outlier(del_s[-1], thresh=thresh)],\n",
    "                   bins=1000, cumulative=True, histtype='step', orientation='vertical', density=True,\n",
    "                  label=m.pot.name)\n",
    "\n",
    "# axs.set_xscale('log'); axs2.set_xscale('log'); axs3.set_xscale('log')\n",
    "axs.set(xlabel=r'$\\Delta E$ / $\\mathrm{meV at}^{-1}$',\n",
    "       xlim=(0,20))\n",
    "axs2.set(xlabel=r'$\\Delta F$ / $\\mathrm{eV \\AA ^{-1}}$',\n",
    "       xlim=(0,0.65))\n",
    "axs3.set(xlabel=r'$\\Delta\\sigma_v$ / $\\mathrm{eV at}^{-1}$',\n",
    "       xlim=(0,100))\n",
    "axs3.legend()"
   ]
  },
  {
   "cell_type": "markdown",
   "metadata": {},
   "source": [
    "# Older stuff\n",
    "need to go through and keep or delete"
   ]
  },
  {
   "cell_type": "code",
   "execution_count": null,
   "metadata": {
    "pycharm": {
     "name": "#%%\n"
    }
   },
   "outputs": [],
   "source": [
    "db = myDB\n",
    "# db = GAP_18_db\n",
    "for j, M in enumerate(MTPs):\n",
    "    print('Starting MTP {}'.format(j))\n",
    "    if calc_flag[j]:\n",
    "        for i, val in enumerate(db):\n",
    "\n",
    "            M.calculate(val, properties=['energy', 'forces', 'stress'])\n",
    "            # val.set_calculator(MTPs[0])\n",
    "            # print(val.get_potential_energy())\n",
    "            # print(MTPs[0].results)\n",
    "            val.info['{}_energy'.format(M.name)] = M.results['energy']\n",
    "            val.info['{}_virial'.format(M.name)] = M.results['stress']\n",
    "            # if np.shape((MTPs[0].results['forces']))[1] != 3:\n",
    "            #     print(i,val, len(i), MTPs[0].results['forces'])\n",
    "            val.arrays['{}_force'.format(M.name)] = M.results['forces']\n",
    "            val.set_calculator(None)\n",
    "            M.results = {}"
   ]
  },
  {
   "cell_type": "code",
   "execution_count": null,
   "metadata": {
    "pycharm": {
     "name": "#%%\n"
    }
   },
   "outputs": [],
   "source": [
    "GAP_18_db[0].arrays['gap18_force']\n",
    "#sum([len(i) for i in GAP_18_db])*3\n",
    "#np.average(flatten([i.get_atomic_numbers() for i in GAP_18_db]))"
   ]
  },
  {
   "cell_type": "code",
   "execution_count": null,
   "metadata": {
    "pycharm": {
     "name": "#%%\n"
    }
   },
   "outputs": [],
   "source": [
    "# flattened data for DFT, GAP-18 and MTPs applied to the GAP-18 db\n",
    "GAP_18_EF = [np.array([i.info['{}_energy'.format('gap18')]/len(i) for i in GAP_18_db]),\n",
    "                  np.array(flatten([i.arrays['{}_force'.format('gap18')].flatten() for i in GAP_18_db]))]\n",
    "                  #np.array(flatten([i.arrays['gap18_virial'].flatten() for i in GAP_18_db]))]\n",
    "MTP_EF_GAP_18 = [[np.array([i.info['{}_energy'.format(j.name)]/len(i) for i in GAP_18_db]),\n",
    "                  np.array(flatten([i.arrays['{}_force'.format(j.name)].flatten() for i in GAP_18_db]))]\n",
    "                  #np.array(flatten([i.arrays['mtpu16_virial'].flatten() for i in GAP_18_db]))]\n",
    "                  for j in MTPs]\n",
    "GAP_18_DFT = [np.array([i.info['dft_energy']/len(i) for i in GAP_18_db]),\n",
    "              np.array(flatten([i.arrays['dft_force'].flatten() for i in GAP_18_db]))\n",
    "              #np.array(flatten([i.arrays['dft_virial'].flatten() for i in GAP_18_db]))\n",
    "              ]"
   ]
  },
  {
   "cell_type": "code",
   "execution_count": null,
   "metadata": {
    "pycharm": {
     "name": "#%%\n"
    }
   },
   "outputs": [],
   "source": [
    "# flattened data for DFT, GAP-18 and MTPs applied to myDB\n",
    "GAP_18_EF_myDB = [np.array([i.info['{}_energy'.format('gap18')]/len(i) for i in myDB]),\n",
    "                  np.array(flatten([i.arrays['{}_force'.format('gap18')].flatten() for i in myDB]))]\n",
    "                  #np.array(flatten([i.arrays['gap18_virial'].flatten() for i in myDB]))]\n",
    "\n",
    "MTP_EF_myDB = [[np.array([i.info['{}_energy'.format(j.name)]/len(i) for i in myDB]),\n",
    "                  np.array(flatten([i.arrays['{}_force'.format(j.name)].flatten() for i in myDB]))]\n",
    "                  #np.array(flatten([i.arrays['mtpu16_virial'].flatten() for i in myDB]))]\n",
    "                  for j in MTPs]\n",
    "myDB_DFT = [np.array([i.info['dft_energy']/len(i) for i in myDB]),\n",
    "              np.array(flatten([i.arrays['dft_forces'].flatten() for i in myDB]))\n",
    "              #np.array(flatten([i.arrays['dft_virial'].flatten() for i in myDB]))\n",
    "              ]"
   ]
  },
  {
   "cell_type": "code",
   "execution_count": null,
   "metadata": {
    "pycharm": {
     "name": "#%%\n"
    }
   },
   "outputs": [],
   "source": [
    "print(len(MTP_EF_GAP_18[0][1]))\n",
    "len(GAP_18_DFT[1])"
   ]
  },
  {
   "cell_type": "code",
   "execution_count": null,
   "metadata": {
    "pycharm": {
     "name": "#%%\n"
    }
   },
   "outputs": [],
   "source": [
    "# rmses for the GAP-18 db\n",
    "rmses_MTP_DFT = [[rms_dict(i[j], GAP_18_DFT[j]) for j in range(len(GAP_18_DFT))] for i in MTP_EF_GAP_18]\n",
    "rmses_MTP_GAP18 = [[rms_dict(i[j], GAP_18_EF[j]) for j in range(len(GAP_18_EF))] for i in MTP_EF_GAP_18]\n",
    "rmses_GAP_DFT = [rms_dict(GAP_18_EF[j], GAP_18_DFT[j]) for j in range(len(GAP_18_DFT))]"
   ]
  },
  {
   "cell_type": "code",
   "execution_count": null,
   "metadata": {
    "pycharm": {
     "name": "#%%\n"
    }
   },
   "outputs": [],
   "source": [
    "rmses_MTP_DFT"
   ]
  },
  {
   "cell_type": "code",
   "execution_count": null,
   "metadata": {
    "pycharm": {
     "name": "#%%\n"
    }
   },
   "outputs": [],
   "source": [
    "rmses_MTP_GAP18"
   ]
  },
  {
   "cell_type": "code",
   "execution_count": null,
   "metadata": {
    "pycharm": {
     "name": "#%%\n"
    }
   },
   "outputs": [],
   "source": [
    "rmses_GAP_DFT"
   ]
  },
  {
   "cell_type": "code",
   "execution_count": null,
   "metadata": {
    "pycharm": {
     "name": "#%%\n"
    }
   },
   "outputs": [],
   "source": [
    "delX = [myDB[0].info['dft_energy'] - GAP_18_db[0].info['dft_energy'],\n",
    "        0,\n",
    "        0] # virial"
   ]
  },
  {
   "cell_type": "code",
   "execution_count": null,
   "metadata": {
    "pycharm": {
     "name": "#%%\n"
    }
   },
   "outputs": [],
   "source": [
    "# rmses for myDB as validation set, need to adjust for different level of DFT (or just compare forces)\n",
    "rmses_MTP_DFT_myDB = [[rms_dict(i[j], myDB_DFT[j] - delX[j]) for j in range(len(myDB_DFT))] for i in MTP_EF_myDB]\n",
    "rmses_MTP_GAP18_myDB = [[rms_dict(i[j], GAP_18_EF_myDB[j]) for j in range(len(GAP_18_EF_myDB))] for i in MTP_EF_myDB]\n",
    "rmses_GAP_DFT_myDB = [rms_dict(GAP_18_EF_myDB[j], myDB_DFT[j] - delX[j]) for j in range(len(myDB_DFT))]"
   ]
  },
  {
   "cell_type": "code",
   "execution_count": null,
   "metadata": {
    "pycharm": {
     "name": "#%%\n"
    }
   },
   "outputs": [],
   "source": [
    "rmses_MTP_DFT_myDB"
   ]
  },
  {
   "cell_type": "code",
   "execution_count": null,
   "metadata": {
    "pycharm": {
     "name": "#%%\n"
    }
   },
   "outputs": [],
   "source": [
    "rmses_MTP_GAP18_myDB"
   ]
  },
  {
   "cell_type": "code",
   "execution_count": null,
   "metadata": {
    "pycharm": {
     "name": "#%%\n"
    }
   },
   "outputs": [],
   "source": [
    "rmses_GAP_DFT_myDB"
   ]
  },
  {
   "cell_type": "markdown",
   "metadata": {},
   "source": [
    "## Plotting the RMSES\n",
    "need to think about the best way to present this"
   ]
  },
  {
   "cell_type": "code",
   "execution_count": null,
   "metadata": {
    "pycharm": {
     "name": "#%%\n"
    }
   },
   "outputs": [],
   "source": [
    "TS = [16, 20, 24]\n",
    "# showing the RMSEs for different tensor sizes, compared to DFT, GAP-18 prediction and direct MTP\n",
    "\n",
    "fig, axs = plt.subplots(1,2, figsize=(8, 4))\n",
    "fig.subplots_adjust(hspace=0.05)\n",
    "axs[0].errorbar(TS[:2], np.array([i[0]['rmse'] for i in rmses_MTP_GAP18[:2]])*1000,\n",
    "                yerr=None, fmt='s--', color='r', markersize=6, label='GAP-MTP v. GAP-18 on GAP-18', zorder=5)\n",
    "axs[0].errorbar(TS[:2], np.array([i[0]['rmse'] for i in rmses_MTP_GAP18[2:]])*1000,\n",
    "                yerr=None, fmt='s--', color='Indigo', markersize=6, label='DFT-MTP v. GAP-18 on myDB', zorder=5)\n",
    "\n",
    "axs[0].errorbar(TS[:2], np.array([i[0]['rmse'] for i in rmses_MTP_GAP18_myDB[:2]])*1000,\n",
    "                yerr=None, fmt='^--', color='r', markersize=6, label='GAP-MTP v. GAP-18 on myDB', zorder=5)\n",
    "\n",
    "axs[0].errorbar(TS[:2], np.array([i[0]['rmse'] for i in rmses_MTP_GAP18_myDB[2:]])*1000,\n",
    "                yerr=None, fmt='^--', color='Indigo', markersize=6, label='DFT-MTP v. GAP-18 on myDB', zorder=5)\n",
    "axs[0].set(xlabel='MTP setting', ylabel='Energy RMSE / meV')\n",
    "\n",
    "\n",
    "\n",
    "\n",
    "axs[1].set(xlabel='MTP setting', ylabel='Force RMSE / $\\mathrm{eV\\AA^{-1}}$')\n",
    "\n",
    "axs[1].errorbar(TS[:2], np.array([i[1]['rmse'] for i in rmses_MTP_GAP18[:2]]),\n",
    "                yerr=None, fmt='s--', color='r', markersize=6, label='GAP-MTP on GAP-18_DB', zorder=5)\n",
    "axs[1].errorbar(TS[:2], np.array([i[1]['rmse'] for i in rmses_MTP_GAP18[2:]]),\n",
    "                yerr=None, fmt='s--', color='Indigo', markersize=6, label='DFT-MTP on GAP-18_DB', zorder=5)\n",
    "axs[1].errorbar(TS[:2], np.array([i[1]['rmse'] for i in rmses_MTP_GAP18_myDB[:2]]),\n",
    "                yerr=None, fmt='^--', color='r', markersize=6, label='GAP-MTP on myDB', zorder=5)\n",
    "axs[1].errorbar(TS[:2], np.array([i[1]['rmse'] for i in rmses_MTP_GAP18_myDB[2:]]),\n",
    "                yerr=None, fmt='^--', color='Indigo', markersize=6, label='DFT-MTP on myDB', zorder=5)\n",
    "\n",
    "axs[0].tick_params(axis=\"both\",direction=\"in\", left=\"off\",labelleft=\"on\")\n",
    "axs[1].tick_params(axis=\"both\",direction=\"in\", left=\"off\",labelleft=\"on\")\n",
    "axs[0].xaxis.labelpad = 7\n",
    "axs[1].legend(title='all rms v. GAP-18 pot')\n",
    "#axs[1].legend(bbox_to_anchor=(0.6,1.05))\n",
    "# axs[1].xaxis.labelpad = 20\n",
    "\n",
    "plt.tight_layout()\n",
    "fig.savefig('/u/vld/hert5155/jup_remote/Ge_od/GAP_to_MTP/volker_figures/rmse_vGAP18.png', dpi=100, bbox_inches='tight')"
   ]
  },
  {
   "cell_type": "code",
   "execution_count": null,
   "metadata": {
    "pycharm": {
     "name": "#%%\n"
    }
   },
   "outputs": [],
   "source": [
    "print(rms_dict(MTP_EF_myDB[0][0], GAP_18_EF_myDB[0]))\n",
    "rms_dict(GAP_18_EF_myDB[0], MTP_EF_myDB[1][0])\n"
   ]
  },
  {
   "cell_type": "code",
   "execution_count": null,
   "metadata": {
    "pycharm": {
     "name": "#%%\n"
    }
   },
   "outputs": [],
   "source": [
    "fig, axs = plt.subplots()\n",
    "axs.scatter(GAP_18_EF_myDB[0], MTP_EF_myDB[0][0], s=2, label='MTP-16', color='g', zorder=2)\n",
    "axs.scatter(GAP_18_EF_myDB[0], MTP_EF_myDB[1][0], s=2, label='MTP-20', color='b')\n",
    "# axs.plot(x:=np.linspace(-168.8,-168.0), x, color='k', linewidth=0.5)\n",
    "axs.plot(x:=np.linspace(-163,-162.2), x, color='k', linewidth=0.5)\n",
    "axs.set(xlim=(-163,-162.2), ylim=(-163,-162.2))\n",
    "axs.legend(title='GAP-MTP v. GAP-18 on myDB', markerscale=3)\n",
    "axs.set(xlabel='GAP-18 Energy  / $\\mathrm{eV\\AA^{-1}}$', ylabel='MTP prediction / $\\mathrm{eV\\AA^{-1}}$')\n",
    "axs.tick_params(axis=\"both\",direction=\"in\", left=\"off\",labelleft=\"on\")\n",
    "plt.tight_layout()"
   ]
  },
  {
   "cell_type": "code",
   "execution_count": null,
   "metadata": {
    "pycharm": {
     "name": "#%%\n"
    }
   },
   "outputs": [],
   "source": [
    "fig, axs = plt.subplots(1,2, figsize=(8, 4))\n",
    "fig.subplots_adjust(hspace=0.05)\n",
    "\n",
    "# axs[0].errorbar(TS[:2], np.array([i[0]['rmse'] for i in rmses_GAP_DFT])*1000,\n",
    "#                 yerr=None, fmt='o--', color='k', markersize=6, label='GAP-18 v. DFT', zorder=5)\n",
    "#\n",
    "axs[0].errorbar(TS[:2], np.array([i[0]['rmse'] for i in rmses_MTP_DFT[:2]])*1000,\n",
    "                yerr=None, fmt='o--', color='r', markersize=6, label='GAP-MTP v. DFT', zorder=5)\n",
    "axs[0].errorbar(TS[:2], np.array([i[0]['rmse'] for i in rmses_MTP_DFT[2:]])*1000,\n",
    "                yerr=None, fmt='o--', color='Indigo', markersize=6, label='DFT-MTP v. DFT')\n",
    "\n",
    "axs[0].errorbar(TS[:2], np.array([i[0]['rmse'] for i in rmses_MTP_GAP18[:2]])*1000,\n",
    "                yerr=None, fmt='s--', color='r', markersize=6, label='GAP-MTP v. GAP-18', zorder=5)\n",
    "axs[0].errorbar(TS[:2], np.array([i[0]['rmse'] for i in rmses_MTP_GAP18[2:]])*1000,\n",
    "                yerr=None, fmt='s--', color='Indigo', markersize=6, label='DFT-MTP v. GAP-18', zorder=5)\n",
    "\n",
    "\n",
    "axs[1].errorbar(TS[:2], np.array([i[1]['rmse'] for i in rmses_MTP_DFT[:2]]),\n",
    "                yerr=None, fmt='o--', color='r', markersize=6, label='GAP-MTP v. DFT', zorder=5)\n",
    "axs[1].errorbar(TS[:2], np.array([i[1]['rmse'] for i in rmses_MTP_DFT[2:]]),\n",
    "                yerr=None, fmt='o--', color='Indigo', markersize=6, label='DFT-MTP v. DFT')\n",
    "\n",
    "axs[1].errorbar(TS[:2], np.array([i[1]['rmse'] for i in rmses_MTP_GAP18[:2]]),\n",
    "                yerr=None, fmt='s--', color='r', markersize=6, label='GAP-MTP v. GAP-18', zorder=5)\n",
    "axs[1].errorbar(TS[:2], np.array([i[1]['rmse'] for i in rmses_MTP_GAP18[2:]]),\n",
    "                yerr=None, fmt='s--', color='Indigo', markersize=6, label='DFT-MTP v. GAP-18', zorder=5)\n",
    "\n",
    "\n",
    "axs[0].set(xlabel='MTP setting', ylabel='Energy RMSE / meV')\n",
    "axs[1].set(xlabel='MTP setting', ylabel='Force RMSE / $\\mathrm{eV\\AA^{-1}}$')\n",
    "axs[0].tick_params(axis=\"both\",direction=\"in\", left=\"off\",labelleft=\"on\")\n",
    "axs[1].tick_params(axis=\"both\",direction=\"in\", left=\"off\",labelleft=\"on\")\n",
    "# axs[0].axhline(rmses_GAP_DFT[0]['rmse'],  color='k')\n",
    "plt.tight_layout()\n",
    "axs[1].legend(title='All on GAP-18 DB', bbox_to_anchor=(1.05,0.5))\n",
    "# axs[1].xaxis.labelpad = 20\n",
    "fig.savefig('/u/vld/hert5155/jup_remote/Ge_od/GAP_to_MTP/volker_figures/rmse_vDFT.png', dpi=100, bbox_inches='tight')"
   ]
  },
  {
   "cell_type": "code",
   "execution_count": null,
   "metadata": {
    "pycharm": {
     "name": "#%%\n"
    }
   },
   "outputs": [],
   "source": [
    "fig, axs = plt.subplots(1,2, figsize=(8, 4))\n",
    "fig.subplots_adjust(hspace=0.05)"
   ]
  },
  {
   "cell_type": "code",
   "execution_count": null,
   "metadata": {
    "pycharm": {
     "name": "#%%\n"
    }
   },
   "outputs": [],
   "source": [
    "rs = [ring_statistics(i.df['Configs'][240000], cutoff=2.7) for i in MTP_md]\n",
    "rs = pad_rstats(rs)"
   ]
  },
  {
   "cell_type": "code",
   "execution_count": null,
   "metadata": {
    "pycharm": {
     "name": "#%%\n"
    }
   },
   "outputs": [],
   "source": [
    "rs_G18 = ring_statistics(GAP_18_md.df['Configs'][240000], cutoff=2.7)\n",
    "rs_G18 = pad_rstats([rs_G18])"
   ]
  },
  {
   "cell_type": "code",
   "execution_count": null,
   "metadata": {
    "pycharm": {
     "name": "#%%\n"
    }
   },
   "outputs": [],
   "source": [
    "rs_G18"
   ]
  },
  {
   "cell_type": "code",
   "execution_count": null,
   "metadata": {
    "pycharm": {
     "name": "#%%\n"
    }
   },
   "outputs": [],
   "source": [
    "np.arange(2, len(rs_G18[0])), rs_G18[0][2:]"
   ]
  },
  {
   "cell_type": "code",
   "execution_count": null,
   "metadata": {
    "pycharm": {
     "name": "#%%\n"
    }
   },
   "outputs": [],
   "source": [
    "order = [0, 2, 1, 3]\n",
    "colors = ['darkred', 'red', 'darkblue', 'slateblue']\n",
    "markers = ['x', '+', 'o', 's']\n",
    "fig, axs = plt.subplots()\n",
    "# colormap = plt.get_cmap('viridis')\n",
    "# colors = [colormap(i) for i in np.linspace(F_reg[0], F_reg[-1], len(F_reg))]\n",
    "for i, val in enumerate(order):\n",
    "    axs.plot(np.arange(2, len(rs[0])), rs[val][2:], label=MTP_md[val].label,\n",
    "    color=colors[i], marker=markers[i])\n",
    "axs.plot(np.arange(2, len(rs_G18[0])), rs_G18[0][2:], label=GAP_18_md.label, marker='^', linestyle='--',\n",
    "         color='k')\n",
    "    # axs.set(xlim=(2,11), ylim=(-5,5))\n",
    "axs.legend()\n",
    "axs.set(xlabel='Ring size', ylabel='Count')\n",
    "axs.tick_params(axis=\"both\",direction=\"in\", left=\"off\",labelleft=\"on\")\n",
    "plt.tight_layout()\n",
    "fig.savefig('/u/vld/hert5155/jup_remote/Ge_od/GAP_to_MTP/volker_figures/rstat_4.png', dpi=100, bbox_inches='tight')"
   ]
  },
  {
   "cell_type": "code",
   "execution_count": null,
   "metadata": {
    "pycharm": {
     "name": "#%%\n"
    }
   },
   "outputs": [],
   "source": [
    "for i in MTP_md:\n",
    "    i.structure_factors(selection=[i for i in range(30,120)]+[i for i in range(220,240)],\n",
    "                    rings_dir='Sq_'+i.label,\n",
    "                    opts={'Angles':True},\n",
    "                    rings_in={'species':['Si']},\n",
    "                    read_only=True)\n",
    "    l_sel = [i for i in range(90)]\n",
    "    a_sel = [i for i in range(90,110)]\n",
    "    i.bin_fit(s_selection=l_sel, q_selection=[0.5,12], nbins=200)\n",
    "    i.bin_fit(s_selection=a_sel, q_selection=[0.5,12], nbins=200)\n",
    "    i.bin_bond_angle(s_selection=l_sel)\n",
    "    i.bin_bond_angle(s_selection=a_sel)"
   ]
  },
  {
   "cell_type": "code",
   "execution_count": null,
   "metadata": {
    "pycharm": {
     "name": "#%%\n"
    }
   },
   "outputs": [],
   "source": [
    "GAP_18_md.structure_factors(selection=[i for i in range(30,120)]+[i for i in range(220,240)],\n",
    "                rings_dir='/u/vld/hert5155/jup_remote/Ge_od/MD_runs/Si_litDB_full_4000/Sq_rings_1000_001',\n",
    "                opts={'Angles':True},\n",
    "                rings_in={'species':['Si']},\n",
    "                read_only=True)\n",
    "l_sel = [i for i in range(90)]\n",
    "a_sel = [i for i in range(90,110)]\n",
    "GAP_18_md.bin_fit(s_selection=l_sel, q_selection=[0.5,12])\n",
    "GAP_18_md.bin_fit(s_selection=a_sel, q_selection=[0.5,12])\n",
    "GAP_18_md.bin_bond_angle(s_selection=l_sel)\n",
    "GAP_18_md.bin_bond_angle(s_selection=a_sel)\n"
   ]
  },
  {
   "cell_type": "code",
   "execution_count": null,
   "metadata": {
    "pycharm": {
     "name": "#%%\n"
    }
   },
   "outputs": [],
   "source": [
    "aSi_exp_Sq = np.genfromtxt('/u/vld/hert5155/jup_remote/Ge_od/paper_data/a-Si_x-ray_Laaziri1999.txt',\n",
    "                          delimiter=', ').T"
   ]
  },
  {
   "cell_type": "code",
   "execution_count": null,
   "metadata": {
    "pycharm": {
     "name": "#%%\n"
    }
   },
   "outputs": [],
   "source": [
    "linestyles = ['-', '--', '-.', ':']"
   ]
  },
  {
   "cell_type": "code",
   "execution_count": null,
   "metadata": {
    "pycharm": {
     "name": "#%%\n"
    }
   },
   "outputs": [],
   "source": [
    "fig, axs = plt.subplots()\n",
    "for ct, i in enumerate(order):\n",
    "    axs.errorbar(*MTP_md[i].Sq_x_av[1], yerr=None,\n",
    "                label=MTP_md[i].label, color=colors[ct], linestyle=linestyles[ct])\n",
    "\n",
    "axs.errorbar(*GAP_18_md.Sq_x_av[1], yerr=None,\n",
    "            label=GAP_18_md.label, color='k')\n",
    "axs.plot(*aSi_exp_Sq, color='Gray', linewidth=2, label='Exp. a-Si')\n",
    "axs.legend(bbox_to_anchor=(1, 1.04), loc='upper right')\n",
    "axs.set(xlabel= r'Q / $\\mathrm{{\\AA}}^{-1}$', ylabel='$\\mathrm{S(Q)}$')\n",
    "axs.set(xlim=(1.25,3), ylim=(0,1.9))\n",
    "plt.tight_layout()\n",
    "\n",
    "fig.savefig('/u/vld/hert5155/jup_remote/Ge_od/GAP_to_MTP/volker_figures/amo_Sq_4_zoom.png', dpi=100, bbox_inches='tight')"
   ]
  },
  {
   "cell_type": "code",
   "execution_count": null,
   "metadata": {
    "pycharm": {
     "name": "#%%\n"
    }
   },
   "outputs": [],
   "source": [
    "# BADFs\n",
    "fig, axs = plt.subplots()\n",
    "axs.plot(*GAP_18_md.bond_angle_av[0], color='k', linestyle='--')\n",
    "axs.plot(*GAP_18_md.bond_angle_av[1], label=GAP_18_md.label, color='k')\n",
    "for ct, i in enumerate(order):\n",
    "    axs.errorbar(*MTP_md[i].bond_angle_av[0], yerr=None,\n",
    "                 color=colors[ct])\n",
    "    axs.errorbar(*MTP_md[i].bond_angle_av[1], yerr=None,\n",
    "                label=MTP_md[i].label, color=colors[ct])\n",
    "\n",
    "axs.legend(title='- amo\\n-- liquid')\n",
    "axs.set(xlabel='Angle / deg', ylabel='')\n",
    "fig.savefig('/u/vld/hert5155/jup_remote/Ge_od/GAP_to_MTP/volker_figures/BADF_4.png', dpi=100, bbox_inches='tight')"
   ]
  },
  {
   "cell_type": "markdown",
   "metadata": {},
   "source": [
    "## Bimodality of GAP-predicted errors"
   ]
  },
  {
   "cell_type": "code",
   "execution_count": 35,
   "metadata": {},
   "outputs": [],
   "source": [
    "gldir = '/home/tridymite/vld/hert5155/jup_remote/Ge_od/GAP_to_MTP/rmses/gap_local_var/'"
   ]
  },
  {
   "cell_type": "code",
   "execution_count": 15,
   "metadata": {},
   "outputs": [],
   "source": [
    "with open('/home/tridymite/vld/hert5155/jup_remote/Ge_od/GAP_to_MTP/rmses/gap_local_var/LOCAL_E_traj_compress_GAP-18_ALL_frame_200_relabel_SOAP.xyz', 'r') as f:\n",
    "    VLDg18_ff = list(read_xyz(f))[0]"
   ]
  },
  {
   "cell_type": "code",
   "execution_count": 36,
   "metadata": {},
   "outputs": [],
   "source": [
    "from os.path import join\n",
    "with open(join(gldir, 'run_100k_u16_fw0.1_PQ1k_G18_scratch_indirect_relabel_SOAP_B_finalframe_GAPLV.xyz'), 'r') as f:\n",
    "    PQ1k_rand_16 = list(read_xyz(f))[0]"
   ]
  },
  {
   "cell_type": "code",
   "execution_count": 62,
   "metadata": {},
   "outputs": [],
   "source": [
    "with open(join(gldir, 'run_100k_u16_m1.5_fw0.1_PQ1k-1_amo_G18_scratch_relabel_SOAP_B_ff.xyz'), 'r') as f:\n",
    "    PQ1k_amo_16 = list(read_xyz(f))[0]"
   ]
  },
  {
   "cell_type": "code",
   "execution_count": 60,
   "metadata": {},
   "outputs": [],
   "source": [
    "with open(join(gldir, 'run_100k_u16_fw0.1_indirect_ff.xyz'), 'r') as f:\n",
    "    u16_g18db = list(read_xyz(f))[0]"
   ]
  },
  {
   "cell_type": "code",
   "execution_count": 105,
   "metadata": {},
   "outputs": [],
   "source": [
    "with open(join(gldir, 'run_100k_u24_m1.5_fw0.1_PQ1k_rand_G18_retrain_relabel_SOAP_B_ff.xyz'), 'r') as f:\n",
    "    u24_rand_retrain = list(read_xyz(f))[0]"
   ]
  },
  {
   "cell_type": "code",
   "execution_count": 81,
   "metadata": {},
   "outputs": [],
   "source": [
    "import scipy as sci"
   ]
  },
  {
   "cell_type": "code",
   "execution_count": 112,
   "metadata": {},
   "outputs": [
    {
     "data": {
      "text/plain": [
       "<matplotlib.legend.Legend at 0x7fa4c390f5e0>"
      ]
     },
     "execution_count": 112,
     "metadata": {},
     "output_type": "execute_result"
    },
    {
     "data": {
      "image/png": "[encoded data removed]",
      "text/plain": [
       "<Figure size 720x360 with 2 Axes>"
      ]
     },
     "metadata": {
      "needs_background": "light"
     },
     "output_type": "display_data"
    }
   ],
   "source": [
    "fig, (axs, axs2) = plt.subplots(1,2, figsize=(10,5))\n",
    "dat = [VLDg18_ff, PQ1k_rand_16, u16_g18db, PQ1k_amo_16, u24_rand_retrain]\n",
    "labels = ['GAP18', 'u16_1k_rand', 'u16_g18_db', 'u16_1k_amo', 'u24_1k_rand']\n",
    "zs = [5, 4, 1, 2, 4.5]\n",
    "\n",
    "for i, val in enumerate(dat):\n",
    "    axs.hist(np.sqrt(val.arrays['GAP18_variance'])*1000, bins=300, label=labels[i], zorder=zs[i], density=True)\n",
    "    axs2.hist(np.sqrt(val.arrays['GAP18_variance'])*1000, bins=300, label=labels[i], zorder=zs[i])\n",
    "    mixture = GaussianMixture(n_components=2).fit(1000*np.sqrt(val.arrays['GAP18_variance']).reshape(-1, 1))\n",
    "    means_hat = mixture.means_.flatten()\n",
    "    weights_hat = mixture.weights_.flatten()\n",
    "    sds_hat = np.sqrt(mixture.covariances_).flatten()\n",
    "#     axs.plot(x := np.linspace(0,40,100), sum([weights_hat[i]*sci.stats.norm(means_hat[i],sds_hat[i]).pdf(x)\n",
    "#                                               for i in range(len(means_hat))]), zorder=10, color='k')\n",
    "    vals = [weights_hat[i]*sci.stats.norm(means_hat[i],sds_hat[i]).pdf(x)\n",
    "                                               for i in range(len(means_hat))]\n",
    "    for i in vals:\n",
    "        axs.plot(x := np.linspace(0,40,100), i, zorder=10, color='k', linewidth=0.5)\n",
    "\n",
    "axs2.set_yscale('log')\n",
    "axs.set(ylim=(0,0.5), xlim=(-1,40), xlabel='GAP predicted error / meV', ylabel='Count')\n",
    "# axs2.set(ylim=(0,4000))\n",
    "axs.legend()"
   ]
  },
  {
   "cell_type": "code",
   "execution_count": 79,
   "metadata": {},
   "outputs": [],
   "source": [
    "sns.reset_orig()"
   ]
  },
  {
   "cell_type": "code",
   "execution_count": 73,
   "metadata": {},
   "outputs": [
    {
     "name": "stdout",
     "output_type": "stream",
     "text": [
      "True\n",
      "[2.89544178 7.58321844]\n",
      "[0.57602462 3.29917887]\n",
      "[0.65160578 0.34839422]\n"
     ]
    }
   ],
   "source": [
    "from sklearn.mixture import GaussianMixture\n",
    "mixture = GaussianMixture(n_components=2).fit(1000*np.sqrt(VLDg18_ff.arrays['GAP18_variance']).reshape(-1, 1))\n",
    "means_hat = mixture.means_.flatten()\n",
    "weights_hat = mixture.weights_.flatten()\n",
    "sds_hat = np.sqrt(mixture.covariances_).flatten()\n",
    "\n",
    "print(mixture.converged_)\n",
    "print(means_hat)\n",
    "print(sds_hat)\n",
    "print(weights_hat)"
   ]
  },
  {
   "cell_type": "code",
   "execution_count": 120,
   "metadata": {},
   "outputs": [
    {
     "data": {
      "text/plain": [
       "<matplotlib.collections.PathCollection at 0x7fa4bcd666a0>"
      ]
     },
     "execution_count": 120,
     "metadata": {},
     "output_type": "execute_result"
    },
    {
     "data": {
      "image/png": "[encoded data removed]",
      "text/plain": [
       "<Figure size 432x288 with 1 Axes>"
      ]
     },
     "metadata": {
      "needs_background": "light"
     },
     "output_type": "display_data"
    }
   ],
   "source": [
    "fig, axs = plt.subplots()\n",
    "axs.scatter(u24_rand_retrain.arrays['GAP18_force'],\n",
    "            u24_rand_retrain.arrays['u24_m1.5_fw0.1_PQ_rand_retrain_fromGAP18db.mtp_force'])"
   ]
  },
  {
   "cell_type": "code",
   "execution_count": 126,
   "metadata": {},
   "outputs": [
    {
     "data": {
      "text/plain": [
       "<matplotlib.collections.PathCollection at 0x7fa4bcd3e1f0>"
      ]
     },
     "execution_count": 126,
     "metadata": {},
     "output_type": "execute_result"
    },
    {
     "data": {
      "image/png": "[encoded data removed]",
      "text/plain": [
       "<Figure size 432x288 with 1 Axes>"
      ]
     },
     "metadata": {
      "needs_background": "light"
     },
     "output_type": "display_data"
    }
   ],
   "source": [
    "fig, axs = plt.subplots()\n",
    "axs.scatter(u24_rand_retrain.arrays['GAP18_energies'],\n",
    "            u24_rand_retrain.arrays['GAP18_variance'])"
   ]
  },
  {
   "cell_type": "code",
   "execution_count": null,
   "metadata": {},
   "outputs": [],
   "source": []
  }
 ],
 "metadata": {
  "kernelspec": {
   "display_name": "Python 3",
   "language": "python",
   "name": "python3"
  },
  "language_info": {
   "codemirror_mode": {
    "name": "ipython",
    "version": 3
   },
   "file_extension": ".py",
   "mimetype": "text/x-python",
   "name": "python",
   "nbconvert_exporter": "python",
   "pygments_lexer": "ipython3",
   "version": "3.8.5"
  }
 },
 "nbformat": 4,
 "nbformat_minor": 4
}
