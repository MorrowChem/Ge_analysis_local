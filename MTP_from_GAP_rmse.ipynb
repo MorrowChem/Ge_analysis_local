{
 "cells": [
  {
   "cell_type": "markdown",
   "metadata": {},
   "source": [
    "# Calculator-based validation of the MTPs\n",
    "* rmses and crystal analysis\n",
    "* currently waiting on lammps implementation of MTPs on Omega"
   ]
  },
  {
   "cell_type": "code",
   "execution_count": 9,
   "metadata": {},
   "outputs": [
    {
     "name": "stdout",
     "output_type": "stream",
     "text": [
      "The autoreload extension is already loaded. To reload it, use:\n",
      "  %reload_ext autoreload\n"
     ]
    }
   ],
   "source": [
    "%load_ext autoreload\n",
    "%autoreload 2"
   ]
  },
  {
   "cell_type": "code",
   "execution_count": 75,
   "metadata": {
    "pycharm": {
     "name": "#%%\n"
    }
   },
   "outputs": [],
   "source": [
    "from ase.io.extxyz import read_xyz\n",
    "import numpy as np\n",
    "from ase.atoms import Atoms\n",
    "from ase.io.formats import index2range\n",
    "from ase.io.cfg import read_cfg\n",
    "from io import StringIO, UnsupportedOperation\n",
    "from mtp import *\n",
    "import os\n",
    "from matplotlib import pyplot as plt\n",
    "from quippy.potential import Potential\n",
    "import pickle\n",
    "from Ge_analysis import *\n",
    "from Ge_calculation import *\n",
    "import matplotlib.pyplot as plt\n",
    "from matscipy.rings import ring_statistics\n",
    "from datetime import datetime\n",
    "import pymatgen.ext.matproj as mp\n",
    "import pymatgen.io.ase as pase\n",
    "from pymatgen.symmetry.analyzer import SpacegroupAnalyzer\n",
    "from numpy.random import normal\n",
    "from ase.io.extxyz import write_xyz\n",
    "from ase.io.lammpsdata import write_lammps_data"
   ]
  },
  {
   "cell_type": "code",
   "execution_count": 11,
   "metadata": {
    "pycharm": {
     "name": "#%%\n"
    }
   },
   "outputs": [],
   "source": [
    "plt.rcParams['font.family'] = 'sans-serif'\n",
    "plt.rcParams['font.sans-serif'] = [ 'Helvetica', 'Arial', 'FreeSans', 'DejaVu Sans' ]\n",
    "\n",
    "plt.rcParams['axes.labelsize'] = 18\n",
    "plt.rcParams['xtick.labelsize'] = 15\n",
    "plt.rcParams['ytick.labelsize'] = 15\n",
    "\n",
    "plt.rcParams['legend.fontsize'] = 14\n",
    "plt.rcParams['legend.title_fontsize'] = 14\n",
    "plt.rcParams['legend.fancybox'] = False\n",
    "plt.rcParams['legend.edgecolor'] = 'k'\n",
    "plt.rcParams['legend.borderaxespad'] = 1.5\n",
    "\n",
    "plt.rcParams['lines.linewidth'] = 3.0\n",
    "plt.rcParams['axes.linewidth'] = 1.5\n",
    "\n",
    "plt.rcParams['xtick.direction'] = 'in'\n",
    "plt.rcParams['xtick.major.size'] = 10\n",
    "plt.rcParams['xtick.major.width'] = 1.0\n",
    "plt.rcParams['xtick.minor.size'] = 5\n",
    "plt.rcParams['xtick.minor.width'] = 1.0\n",
    "\n",
    "plt.rcParams['ytick.direction'] = 'in'\n",
    "plt.rcParams['ytick.major.size'] = 10\n",
    "plt.rcParams['ytick.major.width'] = 1.0\n",
    "plt.rcParams['ytick.minor.size'] = 5\n",
    "plt.rcParams['ytick.minor.width'] = 1.0\n",
    "\n",
    "plt.rcParams[\"figure.autolayout\"] = False"
   ]
  },
  {
   "cell_type": "markdown",
   "metadata": {},
   "source": [
    "# Labelling"
   ]
  },
  {
   "cell_type": "code",
   "execution_count": 4,
   "metadata": {
    "pycharm": {
     "name": "#%%\n"
    }
   },
   "outputs": [
    {
     "name": "stderr",
     "output_type": "stream",
     "text": [
      "/u/vld/hert5155/ase/ase/calculators/calculator.py:507: FutureWarning: The keyword \"ignore_bad_restart_file\" is deprecated and will be removed in a future version of ASE.  Passing more than one positional argument to Calculator is also deprecated and will stop functioning in the future.  Please pass arguments by keyword (key=value) except optionally the \"restart\" keyword.\n",
      "  warnings.warn(FutureWarning(\n"
     ]
    }
   ],
   "source": [
    "GAP_18_dir = '/u/vld/hert5155/jup_remote/Ge_od/Si_GAP_training/libAtoms-silicon-testing-framework-fc252cb/models/GAP'\n",
    "os.chdir('/u/vld/hert5155/jup_remote/Ge_od/GAP_to_MTP')\n",
    "GAP_18_pot = Potential(param_filename=GAP_18_dir+'/gp_iter6_sparse9k.xml')"
   ]
  },
  {
   "cell_type": "markdown",
   "metadata": {},
   "source": [
    "# Validation of indirect MTP\n",
    "compare as far as possible to original tests on GAP-18 from paper\n",
    "* ring stats\n",
    "* structure factors\n",
    "* vacancy formation energies"
   ]
  },
  {
   "cell_type": "code",
   "execution_count": 6,
   "metadata": {
    "pycharm": {
     "name": "#%%\n"
    }
   },
   "outputs": [],
   "source": [
    "GAP_18_md = MD_run('/u/vld/hert5155/jup_remote/Ge_od/MD_runs/Si_litDB_full_4000/run_1000_001', label='GAP-18')"
   ]
  },
  {
   "cell_type": "code",
   "execution_count": 7,
   "metadata": {
    "pycharm": {
     "name": "#%%\n"
    }
   },
   "outputs": [],
   "source": [
    "\n",
    "MTP_dir = '/u/vld/hert5155/jup_remote/Ge_od/GAP_to_MTP/MTPs/'\n",
    "MTP_md_dir = '/u/vld/hert5155/jup_remote/Ge_od/GAP_to_MTP/MTP_mds/'"
   ]
  },
  {
   "cell_type": "code",
   "execution_count": 8,
   "metadata": {},
   "outputs": [
    {
     "data": {
      "text/plain": [
       "['u16_min1.5',\n",
       " 'directMTP_u16m1.5.mtp',\n",
       " 'directMTP_u20m1.5.mtp',\n",
       " 'u16_m1.5_GAP18db.mtp',\n",
       " 'u18_m1.5_GAP18db.mtp',\n",
       " 'u20_m1.0_GAP18db.mtp',\n",
       " 'u20_m1.5_GAP18db.mtp',\n",
       " 'u20_min1.5_fw0.1_GAP18db.mtp',\n",
       " 'u24_m1.5_GAP18db.mtp',\n",
       " 'u26_m1.5_GAP18db.mtp']"
      ]
     },
     "execution_count": 8,
     "metadata": {},
     "output_type": "execute_result"
    }
   ],
   "source": [
    "os.listdir(MTP_dir)"
   ]
  },
  {
   "cell_type": "code",
   "execution_count": null,
   "metadata": {
    "pycharm": {
     "name": "#%%\n"
    }
   },
   "outputs": [],
   "source": [
    "\n",
    "MTPs = [MTP(os.path.join(MTP_dir, 'u16_min1.5/GAP_18_db_GAPlabelled.mtp'), potential_name='MTP_u16_m1.5'),\n",
    "        MTP(os.path.join(MTP_dir, 'u20_m1.5_GAP18db.mtp'), potential_name='MTP_u20_m1.5'),\n",
    "        MTP(os.path.join(MTP_dir, 'directMTP_u16m1.5.mtp'), potential_name='DFT-MTP_u16_m1.5'),\n",
    "        MTP(os.path.join(MTP_dir, 'directMTP_u20m1.5.mtp'), potential_name='DFT-MTPu20_m1.5')\n",
    "        # MTP(os.path.join(MTP_dir, 'u16_min1.5/GAP_18_db_GAPlabelled.mtp'), potential_name='MTP u26_m1.5'),\n",
    "        ]\n",
    "\n",
    "calc_flag = [1, 1, 1, 1]"
   ]
  },
  {
   "cell_type": "code",
   "execution_count": null,
   "metadata": {
    "pycharm": {
     "name": "#%%\n"
    }
   },
   "outputs": [],
   "source": [
    "os.listdir(MTP_md_dir)"
   ]
  },
  {
   "cell_type": "code",
   "execution_count": null,
   "metadata": {
    "pycharm": {
     "name": "#%%\n"
    }
   },
   "outputs": [],
   "source": [
    "MTP_md = [MD_run(os.path.join(MTP_md_dir, i), label=i[:-9]) for i in os.listdir(MTP_md_dir)]"
   ]
  },
  {
   "cell_type": "markdown",
   "metadata": {},
   "source": [
    "## RMSEs calculation"
   ]
  },
  {
   "cell_type": "code",
   "execution_count": null,
   "metadata": {
    "pycharm": {
     "name": "#%%\n"
    }
   },
   "outputs": [],
   "source": [
    "db = myDB\n",
    "# db = GAP_18_db\n",
    "for j, M in enumerate(MTPs):\n",
    "    print('Starting MTP {}'.format(j))\n",
    "    if calc_flag[j]:\n",
    "        for i, val in enumerate(db):\n",
    "\n",
    "            M.calculate(val, properties=['energy', 'forces', 'stress'])\n",
    "            # val.set_calculator(MTPs[0])\n",
    "            # print(val.get_potential_energy())\n",
    "            # print(MTPs[0].results)\n",
    "            val.info['{}_energy'.format(M.name)] = M.results['energy']\n",
    "            val.info['{}_virial'.format(M.name)] = M.results['stress']\n",
    "            # if np.shape((MTPs[0].results['forces']))[1] != 3:\n",
    "            #     print(i,val, len(i), MTPs[0].results['forces'])\n",
    "            val.arrays['{}_force'.format(M.name)] = M.results['forces']\n",
    "            val.set_calculator(None)\n",
    "            M.results = {}"
   ]
  },
  {
   "cell_type": "code",
   "execution_count": null,
   "metadata": {
    "pycharm": {
     "name": "#%%\n"
    }
   },
   "outputs": [],
   "source": [
    "GAP_18_db[0].arrays['gap18_force']\n",
    "#sum([len(i) for i in GAP_18_db])*3\n",
    "#np.average(flatten([i.get_atomic_numbers() for i in GAP_18_db]))"
   ]
  },
  {
   "cell_type": "code",
   "execution_count": null,
   "metadata": {
    "pycharm": {
     "name": "#%%\n"
    }
   },
   "outputs": [],
   "source": [
    "# flattened data for DFT, GAP-18 and MTPs applied to the GAP-18 db\n",
    "GAP_18_EF = [np.array([i.info['{}_energy'.format('gap18')]/len(i) for i in GAP_18_db]),\n",
    "                  np.array(flatten([i.arrays['{}_force'.format('gap18')].flatten() for i in GAP_18_db]))]\n",
    "                  #np.array(flatten([i.arrays['gap18_virial'].flatten() for i in GAP_18_db]))]\n",
    "MTP_EF_GAP_18 = [[np.array([i.info['{}_energy'.format(j.name)]/len(i) for i in GAP_18_db]),\n",
    "                  np.array(flatten([i.arrays['{}_force'.format(j.name)].flatten() for i in GAP_18_db]))]\n",
    "                  #np.array(flatten([i.arrays['mtpu16_virial'].flatten() for i in GAP_18_db]))]\n",
    "                  for j in MTPs]\n",
    "GAP_18_DFT = [np.array([i.info['dft_energy']/len(i) for i in GAP_18_db]),\n",
    "              np.array(flatten([i.arrays['dft_force'].flatten() for i in GAP_18_db]))\n",
    "              #np.array(flatten([i.arrays['dft_virial'].flatten() for i in GAP_18_db]))\n",
    "              ]"
   ]
  },
  {
   "cell_type": "code",
   "execution_count": null,
   "metadata": {
    "pycharm": {
     "name": "#%%\n"
    }
   },
   "outputs": [],
   "source": [
    "# flattened data for DFT, GAP-18 and MTPs applied to myDB\n",
    "GAP_18_EF_myDB = [np.array([i.info['{}_energy'.format('gap18')]/len(i) for i in myDB]),\n",
    "                  np.array(flatten([i.arrays['{}_force'.format('gap18')].flatten() for i in myDB]))]\n",
    "                  #np.array(flatten([i.arrays['gap18_virial'].flatten() for i in myDB]))]\n",
    "\n",
    "MTP_EF_myDB = [[np.array([i.info['{}_energy'.format(j.name)]/len(i) for i in myDB]),\n",
    "                  np.array(flatten([i.arrays['{}_force'.format(j.name)].flatten() for i in myDB]))]\n",
    "                  #np.array(flatten([i.arrays['mtpu16_virial'].flatten() for i in myDB]))]\n",
    "                  for j in MTPs]\n",
    "myDB_DFT = [np.array([i.info['dft_energy']/len(i) for i in myDB]),\n",
    "              np.array(flatten([i.arrays['dft_forces'].flatten() for i in myDB]))\n",
    "              #np.array(flatten([i.arrays['dft_virial'].flatten() for i in myDB]))\n",
    "              ]"
   ]
  },
  {
   "cell_type": "code",
   "execution_count": null,
   "metadata": {
    "pycharm": {
     "name": "#%%\n"
    }
   },
   "outputs": [],
   "source": [
    "print(len(MTP_EF_GAP_18[0][1]))\n",
    "len(GAP_18_DFT[1])"
   ]
  },
  {
   "cell_type": "code",
   "execution_count": null,
   "metadata": {
    "pycharm": {
     "name": "#%%\n"
    }
   },
   "outputs": [],
   "source": [
    "# rmses for the GAP-18 db\n",
    "rmses_MTP_DFT = [[rms_dict(i[j], GAP_18_DFT[j]) for j in range(len(GAP_18_DFT))] for i in MTP_EF_GAP_18]\n",
    "rmses_MTP_GAP18 = [[rms_dict(i[j], GAP_18_EF[j]) for j in range(len(GAP_18_EF))] for i in MTP_EF_GAP_18]\n",
    "rmses_GAP_DFT = [rms_dict(GAP_18_EF[j], GAP_18_DFT[j]) for j in range(len(GAP_18_DFT))]"
   ]
  },
  {
   "cell_type": "code",
   "execution_count": null,
   "metadata": {
    "pycharm": {
     "name": "#%%\n"
    }
   },
   "outputs": [],
   "source": [
    "rmses_MTP_DFT"
   ]
  },
  {
   "cell_type": "code",
   "execution_count": null,
   "metadata": {
    "pycharm": {
     "name": "#%%\n"
    }
   },
   "outputs": [],
   "source": [
    "rmses_MTP_GAP18"
   ]
  },
  {
   "cell_type": "code",
   "execution_count": null,
   "metadata": {
    "pycharm": {
     "name": "#%%\n"
    }
   },
   "outputs": [],
   "source": [
    "rmses_GAP_DFT"
   ]
  },
  {
   "cell_type": "code",
   "execution_count": null,
   "metadata": {
    "pycharm": {
     "name": "#%%\n"
    }
   },
   "outputs": [],
   "source": [
    "delX = [myDB[0].info['dft_energy'] - GAP_18_db[0].info['dft_energy'],\n",
    "        0,\n",
    "        0] # virial"
   ]
  },
  {
   "cell_type": "code",
   "execution_count": null,
   "metadata": {
    "pycharm": {
     "name": "#%%\n"
    }
   },
   "outputs": [],
   "source": [
    "# rmses for myDB as validation set, need to adjust for different level of DFT (or just compare forces)\n",
    "rmses_MTP_DFT_myDB = [[rms_dict(i[j], myDB_DFT[j] - delX[j]) for j in range(len(myDB_DFT))] for i in MTP_EF_myDB]\n",
    "rmses_MTP_GAP18_myDB = [[rms_dict(i[j], GAP_18_EF_myDB[j]) for j in range(len(GAP_18_EF_myDB))] for i in MTP_EF_myDB]\n",
    "rmses_GAP_DFT_myDB = [rms_dict(GAP_18_EF_myDB[j], myDB_DFT[j] - delX[j]) for j in range(len(myDB_DFT))]"
   ]
  },
  {
   "cell_type": "code",
   "execution_count": null,
   "metadata": {
    "pycharm": {
     "name": "#%%\n"
    }
   },
   "outputs": [],
   "source": [
    "rmses_MTP_DFT_myDB"
   ]
  },
  {
   "cell_type": "code",
   "execution_count": null,
   "metadata": {
    "pycharm": {
     "name": "#%%\n"
    }
   },
   "outputs": [],
   "source": [
    "rmses_MTP_GAP18_myDB"
   ]
  },
  {
   "cell_type": "code",
   "execution_count": null,
   "metadata": {
    "pycharm": {
     "name": "#%%\n"
    }
   },
   "outputs": [],
   "source": [
    "rmses_GAP_DFT_myDB"
   ]
  },
  {
   "cell_type": "markdown",
   "metadata": {},
   "source": [
    "## Plotting the RMSES\n",
    "need to think about the best way to present this"
   ]
  },
  {
   "cell_type": "code",
   "execution_count": null,
   "metadata": {
    "pycharm": {
     "name": "#%%\n"
    }
   },
   "outputs": [],
   "source": [
    "TS = [16, 20, 24]\n",
    "# showing the RMSEs for different tensor sizes, compared to DFT, GAP-18 prediction and direct MTP\n",
    "\n",
    "fig, axs = plt.subplots(1,2, figsize=(8, 4))\n",
    "fig.subplots_adjust(hspace=0.05)\n",
    "axs[0].errorbar(TS[:2], np.array([i[0]['rmse'] for i in rmses_MTP_GAP18[:2]])*1000,\n",
    "                yerr=None, fmt='s--', color='r', markersize=6, label='GAP-MTP v. GAP-18 on GAP-18', zorder=5)\n",
    "axs[0].errorbar(TS[:2], np.array([i[0]['rmse'] for i in rmses_MTP_GAP18[2:]])*1000,\n",
    "                yerr=None, fmt='s--', color='Indigo', markersize=6, label='DFT-MTP v. GAP-18 on myDB', zorder=5)\n",
    "\n",
    "axs[0].errorbar(TS[:2], np.array([i[0]['rmse'] for i in rmses_MTP_GAP18_myDB[:2]])*1000,\n",
    "                yerr=None, fmt='^--', color='r', markersize=6, label='GAP-MTP v. GAP-18 on myDB', zorder=5)\n",
    "\n",
    "axs[0].errorbar(TS[:2], np.array([i[0]['rmse'] for i in rmses_MTP_GAP18_myDB[2:]])*1000,\n",
    "                yerr=None, fmt='^--', color='Indigo', markersize=6, label='DFT-MTP v. GAP-18 on myDB', zorder=5)\n",
    "axs[0].set(xlabel='MTP setting', ylabel='Energy RMSE / meV')\n",
    "\n",
    "\n",
    "\n",
    "\n",
    "axs[1].set(xlabel='MTP setting', ylabel='Force RMSE / $\\mathrm{eV\\AA^{-1}}$')\n",
    "\n",
    "axs[1].errorbar(TS[:2], np.array([i[1]['rmse'] for i in rmses_MTP_GAP18[:2]]),\n",
    "                yerr=None, fmt='s--', color='r', markersize=6, label='GAP-MTP on GAP-18_DB', zorder=5)\n",
    "axs[1].errorbar(TS[:2], np.array([i[1]['rmse'] for i in rmses_MTP_GAP18[2:]]),\n",
    "                yerr=None, fmt='s--', color='Indigo', markersize=6, label='DFT-MTP on GAP-18_DB', zorder=5)\n",
    "axs[1].errorbar(TS[:2], np.array([i[1]['rmse'] for i in rmses_MTP_GAP18_myDB[:2]]),\n",
    "                yerr=None, fmt='^--', color='r', markersize=6, label='GAP-MTP on myDB', zorder=5)\n",
    "axs[1].errorbar(TS[:2], np.array([i[1]['rmse'] for i in rmses_MTP_GAP18_myDB[2:]]),\n",
    "                yerr=None, fmt='^--', color='Indigo', markersize=6, label='DFT-MTP on myDB', zorder=5)\n",
    "\n",
    "axs[0].tick_params(axis=\"both\",direction=\"in\", left=\"off\",labelleft=\"on\")\n",
    "axs[1].tick_params(axis=\"both\",direction=\"in\", left=\"off\",labelleft=\"on\")\n",
    "axs[0].xaxis.labelpad = 7\n",
    "axs[1].legend(title='all rms v. GAP-18 pot')\n",
    "#axs[1].legend(bbox_to_anchor=(0.6,1.05))\n",
    "# axs[1].xaxis.labelpad = 20\n",
    "\n",
    "plt.tight_layout()\n",
    "fig.savefig('/u/vld/hert5155/jup_remote/Ge_od/GAP_to_MTP/volker_figures/rmse_vGAP18.png', dpi=100, bbox_inches='tight')"
   ]
  },
  {
   "cell_type": "code",
   "execution_count": null,
   "metadata": {
    "pycharm": {
     "name": "#%%\n"
    }
   },
   "outputs": [],
   "source": [
    "print(rms_dict(MTP_EF_myDB[0][0], GAP_18_EF_myDB[0]))\n",
    "rms_dict(GAP_18_EF_myDB[0], MTP_EF_myDB[1][0])\n"
   ]
  },
  {
   "cell_type": "code",
   "execution_count": null,
   "metadata": {
    "pycharm": {
     "name": "#%%\n"
    }
   },
   "outputs": [],
   "source": [
    "fig, axs = plt.subplots()\n",
    "axs.scatter(GAP_18_EF_myDB[0], MTP_EF_myDB[0][0], s=2, label='MTP-16', color='g', zorder=2)\n",
    "axs.scatter(GAP_18_EF_myDB[0], MTP_EF_myDB[1][0], s=2, label='MTP-20', color='b')\n",
    "# axs.plot(x:=np.linspace(-168.8,-168.0), x, color='k', linewidth=0.5)\n",
    "axs.plot(x:=np.linspace(-163,-162.2), x, color='k', linewidth=0.5)\n",
    "axs.set(xlim=(-163,-162.2), ylim=(-163,-162.2))\n",
    "axs.legend(title='GAP-MTP v. GAP-18 on myDB', markerscale=3)\n",
    "axs.set(xlabel='GAP-18 Energy  / $\\mathrm{eV\\AA^{-1}}$', ylabel='MTP prediction / $\\mathrm{eV\\AA^{-1}}$')\n",
    "axs.tick_params(axis=\"both\",direction=\"in\", left=\"off\",labelleft=\"on\")\n",
    "plt.tight_layout()"
   ]
  },
  {
   "cell_type": "code",
   "execution_count": null,
   "metadata": {
    "pycharm": {
     "name": "#%%\n"
    }
   },
   "outputs": [],
   "source": [
    "fig, axs = plt.subplots(1,2, figsize=(8, 4))\n",
    "fig.subplots_adjust(hspace=0.05)\n",
    "\n",
    "# axs[0].errorbar(TS[:2], np.array([i[0]['rmse'] for i in rmses_GAP_DFT])*1000,\n",
    "#                 yerr=None, fmt='o--', color='k', markersize=6, label='GAP-18 v. DFT', zorder=5)\n",
    "#\n",
    "axs[0].errorbar(TS[:2], np.array([i[0]['rmse'] for i in rmses_MTP_DFT[:2]])*1000,\n",
    "                yerr=None, fmt='o--', color='r', markersize=6, label='GAP-MTP v. DFT', zorder=5)\n",
    "axs[0].errorbar(TS[:2], np.array([i[0]['rmse'] for i in rmses_MTP_DFT[2:]])*1000,\n",
    "                yerr=None, fmt='o--', color='Indigo', markersize=6, label='DFT-MTP v. DFT')\n",
    "\n",
    "axs[0].errorbar(TS[:2], np.array([i[0]['rmse'] for i in rmses_MTP_GAP18[:2]])*1000,\n",
    "                yerr=None, fmt='s--', color='r', markersize=6, label='GAP-MTP v. GAP-18', zorder=5)\n",
    "axs[0].errorbar(TS[:2], np.array([i[0]['rmse'] for i in rmses_MTP_GAP18[2:]])*1000,\n",
    "                yerr=None, fmt='s--', color='Indigo', markersize=6, label='DFT-MTP v. GAP-18', zorder=5)\n",
    "\n",
    "\n",
    "axs[1].errorbar(TS[:2], np.array([i[1]['rmse'] for i in rmses_MTP_DFT[:2]]),\n",
    "                yerr=None, fmt='o--', color='r', markersize=6, label='GAP-MTP v. DFT', zorder=5)\n",
    "axs[1].errorbar(TS[:2], np.array([i[1]['rmse'] for i in rmses_MTP_DFT[2:]]),\n",
    "                yerr=None, fmt='o--', color='Indigo', markersize=6, label='DFT-MTP v. DFT')\n",
    "\n",
    "axs[1].errorbar(TS[:2], np.array([i[1]['rmse'] for i in rmses_MTP_GAP18[:2]]),\n",
    "                yerr=None, fmt='s--', color='r', markersize=6, label='GAP-MTP v. GAP-18', zorder=5)\n",
    "axs[1].errorbar(TS[:2], np.array([i[1]['rmse'] for i in rmses_MTP_GAP18[2:]]),\n",
    "                yerr=None, fmt='s--', color='Indigo', markersize=6, label='DFT-MTP v. GAP-18', zorder=5)\n",
    "\n",
    "\n",
    "axs[0].set(xlabel='MTP setting', ylabel='Energy RMSE / meV')\n",
    "axs[1].set(xlabel='MTP setting', ylabel='Force RMSE / $\\mathrm{eV\\AA^{-1}}$')\n",
    "axs[0].tick_params(axis=\"both\",direction=\"in\", left=\"off\",labelleft=\"on\")\n",
    "axs[1].tick_params(axis=\"both\",direction=\"in\", left=\"off\",labelleft=\"on\")\n",
    "# axs[0].axhline(rmses_GAP_DFT[0]['rmse'],  color='k')\n",
    "plt.tight_layout()\n",
    "axs[1].legend(title='All on GAP-18 DB', bbox_to_anchor=(1.05,0.5))\n",
    "# axs[1].xaxis.labelpad = 20\n",
    "fig.savefig('/u/vld/hert5155/jup_remote/Ge_od/GAP_to_MTP/volker_figures/rmse_vDFT.png', dpi=100, bbox_inches='tight')"
   ]
  },
  {
   "cell_type": "code",
   "execution_count": null,
   "metadata": {
    "pycharm": {
     "name": "#%%\n"
    }
   },
   "outputs": [],
   "source": [
    "fig, axs = plt.subplots(1,2, figsize=(8, 4))\n",
    "fig.subplots_adjust(hspace=0.05)"
   ]
  },
  {
   "cell_type": "code",
   "execution_count": null,
   "metadata": {
    "pycharm": {
     "name": "#%%\n"
    }
   },
   "outputs": [],
   "source": [
    "rs = [ring_statistics(i.df['Configs'][240000], cutoff=2.7) for i in MTP_md]\n",
    "rs = pad_rstats(rs)"
   ]
  },
  {
   "cell_type": "code",
   "execution_count": null,
   "metadata": {
    "pycharm": {
     "name": "#%%\n"
    }
   },
   "outputs": [],
   "source": [
    "rs_G18 = ring_statistics(GAP_18_md.df['Configs'][240000], cutoff=2.7)\n",
    "rs_G18 = pad_rstats([rs_G18])"
   ]
  },
  {
   "cell_type": "code",
   "execution_count": null,
   "metadata": {
    "pycharm": {
     "name": "#%%\n"
    }
   },
   "outputs": [],
   "source": [
    "rs_G18"
   ]
  },
  {
   "cell_type": "code",
   "execution_count": null,
   "metadata": {
    "pycharm": {
     "name": "#%%\n"
    }
   },
   "outputs": [],
   "source": [
    "np.arange(2, len(rs_G18[0])), rs_G18[0][2:]"
   ]
  },
  {
   "cell_type": "code",
   "execution_count": null,
   "metadata": {
    "pycharm": {
     "name": "#%%\n"
    }
   },
   "outputs": [],
   "source": [
    "order = [0, 2, 1, 3]\n",
    "colors = ['darkred', 'red', 'darkblue', 'slateblue']\n",
    "markers = ['x', '+', 'o', 's']\n",
    "fig, axs = plt.subplots()\n",
    "# colormap = plt.get_cmap('viridis')\n",
    "# colors = [colormap(i) for i in np.linspace(F_reg[0], F_reg[-1], len(F_reg))]\n",
    "for i, val in enumerate(order):\n",
    "    axs.plot(np.arange(2, len(rs[0])), rs[val][2:], label=MTP_md[val].label,\n",
    "    color=colors[i], marker=markers[i])\n",
    "axs.plot(np.arange(2, len(rs_G18[0])), rs_G18[0][2:], label=GAP_18_md.label, marker='^', linestyle='--',\n",
    "         color='k')\n",
    "    # axs.set(xlim=(2,11), ylim=(-5,5))\n",
    "axs.legend()\n",
    "axs.set(xlabel='Ring size', ylabel='Count')\n",
    "axs.tick_params(axis=\"both\",direction=\"in\", left=\"off\",labelleft=\"on\")\n",
    "plt.tight_layout()\n",
    "fig.savefig('/u/vld/hert5155/jup_remote/Ge_od/GAP_to_MTP/volker_figures/rstat_4.png', dpi=100, bbox_inches='tight')"
   ]
  },
  {
   "cell_type": "code",
   "execution_count": null,
   "metadata": {
    "pycharm": {
     "name": "#%%\n"
    }
   },
   "outputs": [],
   "source": [
    "for i in MTP_md:\n",
    "    i.structure_factors(selection=[i for i in range(30,120)]+[i for i in range(220,240)],\n",
    "                    rings_dir='Sq_'+i.label,\n",
    "                    opts={'Angles':True},\n",
    "                    rings_in={'species':['Si']},\n",
    "                    read_only=True)\n",
    "    l_sel = [i for i in range(90)]\n",
    "    a_sel = [i for i in range(90,110)]\n",
    "    i.bin_fit(s_selection=l_sel, q_selection=[0.5,12], nbins=200)\n",
    "    i.bin_fit(s_selection=a_sel, q_selection=[0.5,12], nbins=200)\n",
    "    i.bin_bond_angle(s_selection=l_sel)\n",
    "    i.bin_bond_angle(s_selection=a_sel)"
   ]
  },
  {
   "cell_type": "code",
   "execution_count": null,
   "metadata": {
    "pycharm": {
     "name": "#%%\n"
    }
   },
   "outputs": [],
   "source": [
    "GAP_18_md.structure_factors(selection=[i for i in range(30,120)]+[i for i in range(220,240)],\n",
    "                rings_dir='/u/vld/hert5155/jup_remote/Ge_od/MD_runs/Si_litDB_full_4000/Sq_rings_1000_001',\n",
    "                opts={'Angles':True},\n",
    "                rings_in={'species':['Si']},\n",
    "                read_only=True)\n",
    "l_sel = [i for i in range(90)]\n",
    "a_sel = [i for i in range(90,110)]\n",
    "GAP_18_md.bin_fit(s_selection=l_sel, q_selection=[0.5,12])\n",
    "GAP_18_md.bin_fit(s_selection=a_sel, q_selection=[0.5,12])\n",
    "GAP_18_md.bin_bond_angle(s_selection=l_sel)\n",
    "GAP_18_md.bin_bond_angle(s_selection=a_sel)\n"
   ]
  },
  {
   "cell_type": "code",
   "execution_count": null,
   "metadata": {
    "pycharm": {
     "name": "#%%\n"
    }
   },
   "outputs": [],
   "source": [
    "aSi_exp_Sq = np.genfromtxt('/u/vld/hert5155/jup_remote/Ge_od/paper_data/a-Si_x-ray_Laaziri1999.txt',\n",
    "                          delimiter=', ').T"
   ]
  },
  {
   "cell_type": "code",
   "execution_count": null,
   "metadata": {
    "pycharm": {
     "name": "#%%\n"
    }
   },
   "outputs": [],
   "source": [
    "linestyles = ['-', '--', '-.', ':']"
   ]
  },
  {
   "cell_type": "code",
   "execution_count": null,
   "metadata": {
    "pycharm": {
     "name": "#%%\n"
    }
   },
   "outputs": [],
   "source": [
    "fig, axs = plt.subplots()\n",
    "for ct, i in enumerate(order):\n",
    "    axs.errorbar(*MTP_md[i].Sq_x_av[1], yerr=None,\n",
    "                label=MTP_md[i].label, color=colors[ct], linestyle=linestyles[ct])\n",
    "\n",
    "axs.errorbar(*GAP_18_md.Sq_x_av[1], yerr=None,\n",
    "            label=GAP_18_md.label, color='k')\n",
    "axs.plot(*aSi_exp_Sq, color='Gray', linewidth=2, label='Exp. a-Si')\n",
    "axs.legend(bbox_to_anchor=(1, 1.04), loc='upper right')\n",
    "axs.set(xlabel= r'Q / $\\mathrm{{\\AA}}^{-1}$', ylabel='$\\mathrm{S(Q)}$')\n",
    "axs.set(xlim=(1.25,3), ylim=(0,1.9))\n",
    "plt.tight_layout()\n",
    "\n",
    "fig.savefig('/u/vld/hert5155/jup_remote/Ge_od/GAP_to_MTP/volker_figures/amo_Sq_4_zoom.png', dpi=100, bbox_inches='tight')"
   ]
  },
  {
   "cell_type": "code",
   "execution_count": null,
   "metadata": {
    "pycharm": {
     "name": "#%%\n"
    }
   },
   "outputs": [],
   "source": [
    "# BADFs\n",
    "fig, axs = plt.subplots()\n",
    "axs.plot(*GAP_18_md.bond_angle_av[0], color='k', linestyle='--')\n",
    "axs.plot(*GAP_18_md.bond_angle_av[1], label=GAP_18_md.label, color='k')\n",
    "for ct, i in enumerate(order):\n",
    "    axs.errorbar(*MTP_md[i].bond_angle_av[0], yerr=None,\n",
    "                 color=colors[ct])\n",
    "    axs.errorbar(*MTP_md[i].bond_angle_av[1], yerr=None,\n",
    "                label=MTP_md[i].label, color=colors[ct])\n",
    "\n",
    "axs.legend(title='- amo\\n-- liquid')\n",
    "axs.set(xlabel='Angle / deg', ylabel='')\n",
    "fig.savefig('/u/vld/hert5155/jup_remote/Ge_od/GAP_to_MTP/volker_figures/BADF_4.png', dpi=100, bbox_inches='tight')"
   ]
  },
  {
   "cell_type": "markdown",
   "metadata": {},
   "source": [
    "## Bimodality of GAP-predicted errors"
   ]
  },
  {
   "cell_type": "code",
   "execution_count": 35,
   "metadata": {},
   "outputs": [],
   "source": [
    "gldir = '/home/tridymite/vld/hert5155/jup_remote/Ge_od/GAP_to_MTP/rmses/gap_local_var/'"
   ]
  },
  {
   "cell_type": "code",
   "execution_count": 15,
   "metadata": {},
   "outputs": [],
   "source": [
    "with open('/home/tridymite/vld/hert5155/jup_remote/Ge_od/GAP_to_MTP/rmses/gap_local_var/LOCAL_E_traj_compress_GAP-18_ALL_frame_200_relabel_SOAP.xyz', 'r') as f:\n",
    "    VLDg18_ff = list(read_xyz(f))[0]"
   ]
  },
  {
   "cell_type": "code",
   "execution_count": 36,
   "metadata": {},
   "outputs": [],
   "source": [
    "from os.path import join\n",
    "with open(join(gldir, 'run_100k_u16_fw0.1_PQ1k_G18_scratch_indirect_relabel_SOAP_B_finalframe_GAPLV.xyz'), 'r') as f:\n",
    "    PQ1k_rand_16 = list(read_xyz(f))[0]"
   ]
  },
  {
   "cell_type": "code",
   "execution_count": 62,
   "metadata": {},
   "outputs": [],
   "source": [
    "with open(join(gldir, 'run_100k_u16_m1.5_fw0.1_PQ1k-1_amo_G18_scratch_relabel_SOAP_B_ff.xyz'), 'r') as f:\n",
    "    PQ1k_amo_16 = list(read_xyz(f))[0]"
   ]
  },
  {
   "cell_type": "code",
   "execution_count": 60,
   "metadata": {},
   "outputs": [],
   "source": [
    "with open(join(gldir, 'run_100k_u16_fw0.1_indirect_ff.xyz'), 'r') as f:\n",
    "    u16_g18db = list(read_xyz(f))[0]"
   ]
  },
  {
   "cell_type": "code",
   "execution_count": 81,
   "metadata": {},
   "outputs": [],
   "source": [
    "import scipy as sci"
   ]
  },
  {
   "cell_type": "code",
   "execution_count": 104,
   "metadata": {},
   "outputs": [
    {
     "data": {
      "text/plain": [
       "<matplotlib.legend.Legend at 0x7fa4c72d74f0>"
      ]
     },
     "execution_count": 104,
     "metadata": {},
     "output_type": "execute_result"
    },
    {
     "data": {
      "image/png": "[encoded data removed]",
      "text/plain": [
       "<Figure size 720x360 with 2 Axes>"
      ]
     },
     "metadata": {
      "needs_background": "light"
     },
     "output_type": "display_data"
    }
   ],
   "source": [
    "fig, (axs, axs2) = plt.subplots(1,2, figsize=(10,5))\n",
    "dat = [VLDg18_ff, PQ1k_rand_16, u16_g18db, PQ1k_amo_16]\n",
    "labels = ['GAP18', 'u16_1k_rand', 'u16_g18_db', 'u16_1k_amo']\n",
    "\n",
    "for i, val in enumerate(dat):\n",
    "    axs.hist(np.sqrt(val.arrays['GAP18_variance'])*1000, bins=300, label=labels[i], zorder=len(dat)-i, density=True)\n",
    "    axs2.hist(np.sqrt(val.arrays['GAP18_variance'])*1000, bins=300, label=labels[i], zorder=len(dat)-i)\n",
    "    mixture = GaussianMixture(n_components=2).fit(1000*np.sqrt(val.arrays['GAP18_variance']).reshape(-1, 1))\n",
    "    means_hat = mixture.means_.flatten()\n",
    "    weights_hat = mixture.weights_.flatten()\n",
    "    sds_hat = np.sqrt(mixture.covariances_).flatten()\n",
    "#     axs.plot(x := np.linspace(0,40,100), sum([weights_hat[i]*sci.stats.norm(means_hat[i],sds_hat[i]).pdf(x)\n",
    "#                                               for i in range(len(means_hat))]), zorder=10, color='k')\n",
    "    vals = [weights_hat[i]*sci.stats.norm(means_hat[i],sds_hat[i]).pdf(x)\n",
    "                                               for i in range(len(means_hat))]\n",
    "    for i in vals:\n",
    "        axs.plot(x := np.linspace(0,40,100), i, zorder=10, color='k', linewidth=0.5)\n",
    "\n",
    "axs2.set_yscale('log')\n",
    "axs.set(ylim=(0,0.5), xlim=(-1,40), xlabel='GAP predicted error / meV', ylabel='Count')\n",
    "# axs2.set(ylim=(0,4000))\n",
    "axs.legend()"
   ]
  },
  {
   "cell_type": "code",
   "execution_count": 79,
   "metadata": {},
   "outputs": [],
   "source": [
    "sns.reset_orig()"
   ]
  },
  {
   "cell_type": "code",
   "execution_count": 73,
   "metadata": {},
   "outputs": [
    {
     "name": "stdout",
     "output_type": "stream",
     "text": [
      "True\n",
      "[2.89544178 7.58321844]\n",
      "[0.57602462 3.29917887]\n",
      "[0.65160578 0.34839422]\n"
     ]
    }
   ],
   "source": [
    "from sklearn.mixture import GaussianMixture\n",
    "mixture = GaussianMixture(n_components=2).fit(1000*np.sqrt(VLDg18_ff.arrays['GAP18_variance']).reshape(-1, 1))\n",
    "means_hat = mixture.means_.flatten()\n",
    "weights_hat = mixture.weights_.flatten()\n",
    "sds_hat = np.sqrt(mixture.covariances_).flatten()\n",
    "\n",
    "print(mixture.converged_)\n",
    "print(means_hat)\n",
    "print(sds_hat)\n",
    "print(weights_hat)"
   ]
  },
  {
   "cell_type": "code",
   "execution_count": null,
   "metadata": {},
   "outputs": [],
   "source": []
  }
 ],
 "metadata": {
  "kernelspec": {
   "display_name": "Python 3",
   "language": "python",
   "name": "python3"
  },
  "language_info": {
   "codemirror_mode": {
    "name": "ipython",
    "version": 3
   },
   "file_extension": ".py",
   "mimetype": "text/x-python",
   "name": "python",
   "nbconvert_exporter": "python",
   "pygments_lexer": "ipython3",
   "version": "3.8.5"
  }
 },
 "nbformat": 4,
 "nbformat_minor": 4
}
