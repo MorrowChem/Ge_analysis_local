{
 "cells": [
  {
   "cell_type": "code",
   "execution_count": null,
   "metadata": {
    "collapsed": true,
    "pycharm": {
     "is_executing": true
    }
   },
   "outputs": [],
   "source": [
    "from mayavi.mlab import *\n",
    "import numpy as np\n",
    "from numpy import vectorize"
   ]
  },
  {
   "cell_type": "code",
   "execution_count": null,
   "outputs": [],
   "source": [
    "%ipython --pylab qt"
   ],
   "metadata": {
    "collapsed": false,
    "pycharm": {
     "name": "#%%\n",
     "is_executing": true
    }
   }
  },
  {
   "cell_type": "code",
   "execution_count": 3,
   "outputs": [],
   "source": [
    "def test_surf():\n",
    "    \"\"\"Test surf on regularly spaced co-ordinates like MayaVi.\"\"\"\n",
    "    def f(x, y):\n",
    "        sin, cos = np.sin, np.cos\n",
    "        return sin(x + y) + sin(2 * x - y) + cos(3 * x + 4 * y)\n",
    "\n",
    "    x, y = np.mgrid[-7.:7.05:0.1, -5.:5.05:0.05]\n",
    "    s = surf(x, y, f)\n",
    "    #cs = contour_surf(x, y, f, contour_z=0)\n",
    "    return s"
   ],
   "metadata": {
    "collapsed": false,
    "pycharm": {
     "name": "#%%\n"
    }
   }
  },
  {
   "cell_type": "code",
   "execution_count": 3,
   "outputs": [],
   "source": [
    "def gauss_surf(g_dens):\n",
    "    def cutoff(x, y):\n",
    "        r = (x**2 + y**2)**0.5\n",
    "        rcut = 7\n",
    "        d = 2\n",
    "        if r > rcut:\n",
    "            return 0.0\n",
    "        elif r > rcut - d:\n",
    "            return 0.5*np.cos(1 + np.pi*(r - rcut +d)/d)\n",
    "        else:\n",
    "            return 1.0\n",
    "\n",
    "    vcutoff = vectorize(cutoff)\n",
    "\n",
    "    def f(x, y):\n",
    "        out = 0\n",
    "        def r():\n",
    "            return 2*np.random.rand() - 1\n",
    "        s = 1\n",
    "        for i in range(int(100*g_dens)):\n",
    "            out += vcutoff(x,y) * 1.5 * r()*np.exp(-np.random.rand()* ((x + 5*r())/s)**2 -\n",
    "                                                np.random.rand()*((y + 5*r())/s)**2)\n",
    "\n",
    "        return out\n",
    "\n",
    "    x, y = np.mgrid[-5:5.05:0.05, -5.:5.05:0.05]\n",
    "    out = f(x, y)\n",
    "\n",
    "    fig = figure(bgcolor=(1,1,1))\n",
    "    axs = axes()\n",
    "    cs = contour_surf(x, y, out, colormap='Purples', opacity=0.1, contours=4)\n",
    "    s = surf(x, y, out, colormap='gray', opacity=1)\n",
    "    #ss = screenshot()\n",
    "    return s, cs, ss"
   ],
   "metadata": {
    "collapsed": false,
    "pycharm": {
     "name": "#%%\n"
    }
   }
  },
  {
   "cell_type": "code",
   "execution_count": 4,
   "outputs": [
    {
     "name": "stderr",
     "output_type": "stream",
     "text": [
      "No data: cannot use a Filter/Module/ModuleManager.\n"
     ]
    },
    {
     "ename": "NameError",
     "evalue": "name 'ss' is not defined",
     "output_type": "error",
     "traceback": [
      "\u001B[0;31m---------------------------------------------------------------------------\u001B[0m",
      "\u001B[0;31mNameError\u001B[0m                                 Traceback (most recent call last)",
      "\u001B[0;32m<ipython-input-4-23fc55c54174>\u001B[0m in \u001B[0;36m<module>\u001B[0;34m\u001B[0m\n\u001B[0;32m----> 1\u001B[0;31m \u001B[0ms\u001B[0m\u001B[0;34m,\u001B[0m \u001B[0mcs\u001B[0m\u001B[0;34m,\u001B[0m \u001B[0mss\u001B[0m \u001B[0;34m=\u001B[0m \u001B[0mgauss_surf\u001B[0m\u001B[0;34m(\u001B[0m\u001B[0;36m2\u001B[0m\u001B[0;34m)\u001B[0m\u001B[0;34m\u001B[0m\u001B[0;34m\u001B[0m\u001B[0m\n\u001B[0m\u001B[1;32m      2\u001B[0m \u001B[0;34m\u001B[0m\u001B[0m\n",
      "\u001B[0;32m<ipython-input-3-d27049efb831>\u001B[0m in \u001B[0;36mgauss_surf\u001B[0;34m(g_dens)\u001B[0m\n\u001B[1;32m     32\u001B[0m     \u001B[0ms\u001B[0m \u001B[0;34m=\u001B[0m \u001B[0msurf\u001B[0m\u001B[0;34m(\u001B[0m\u001B[0mx\u001B[0m\u001B[0;34m,\u001B[0m \u001B[0my\u001B[0m\u001B[0;34m,\u001B[0m \u001B[0mout\u001B[0m\u001B[0;34m,\u001B[0m \u001B[0mcolormap\u001B[0m\u001B[0;34m=\u001B[0m\u001B[0;34m'gray'\u001B[0m\u001B[0;34m,\u001B[0m \u001B[0mopacity\u001B[0m\u001B[0;34m=\u001B[0m\u001B[0;36m1\u001B[0m\u001B[0;34m)\u001B[0m\u001B[0;34m\u001B[0m\u001B[0;34m\u001B[0m\u001B[0m\n\u001B[1;32m     33\u001B[0m     \u001B[0;31m#ss = screenshot()\u001B[0m\u001B[0;34m\u001B[0m\u001B[0;34m\u001B[0m\u001B[0;34m\u001B[0m\u001B[0m\n\u001B[0;32m---> 34\u001B[0;31m     \u001B[0;32mreturn\u001B[0m \u001B[0ms\u001B[0m\u001B[0;34m,\u001B[0m \u001B[0mcs\u001B[0m\u001B[0;34m,\u001B[0m \u001B[0mss\u001B[0m\u001B[0;34m\u001B[0m\u001B[0;34m\u001B[0m\u001B[0m\n\u001B[0m",
      "\u001B[0;31mNameError\u001B[0m: name 'ss' is not defined"
     ]
    }
   ],
   "source": [
    "s, cs = gauss_surf(2)"
   ],
   "metadata": {
    "collapsed": false,
    "pycharm": {
     "name": "#%%\n"
    }
   }
  },
  {
   "cell_type": "code",
   "execution_count": null,
   "outputs": [],
   "source": [],
   "metadata": {
    "collapsed": false,
    "pycharm": {
     "name": "#%%\n"
    }
   }
  }
 ],
 "metadata": {
  "kernelspec": {
   "name": "pycharm-321395fc",
   "language": "python",
   "display_name": "PyCharm (Ge_analysis_local)"
  },
  "language_info": {
   "codemirror_mode": {
    "name": "ipython",
    "version": 2
   },
   "file_extension": ".py",
   "mimetype": "text/x-python",
   "name": "python",
   "nbconvert_exporter": "python",
   "pygments_lexer": "ipython2",
   "version": "2.7.6"
  }
 },
 "nbformat": 4,
 "nbformat_minor": 0
}