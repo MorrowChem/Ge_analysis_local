{
 "cells": [
  {
   "cell_type": "code",
   "execution_count": 2,
   "outputs": [],
   "source": [
    "%load_ext autoreload\n",
    "%autoreload 2\n",
    "import numpy as np\n",
    "import scipy as sci\n",
    "import ase\n",
    "import os\n",
    "import numpy as np\n",
    "import matplotlib.pyplot as plt\n",
    "\n",
    "from ase import io\n",
    "from ase.geometry.analysis import Analysis\n",
    "from ase import build\n",
    "from ase.neighborlist import neighbor_list\n",
    "from ase import Atoms\n",
    "from ase.io import write, read\n",
    "import re\n",
    "from quippy.potential import Potential\n",
    "import quippy.dynamicalsystem as ds\n",
    "import pickle\n",
    "from ase.build import bulk\n",
    "from ase.optimize import BFGS\n",
    "from ase.constraints import UnitCellFilter\n",
    "from ase.io.trajectory import Trajectory\n",
    "from Ge_calculation import GAP\n",
    "from Ge_analysis import *\n",
    "os.chdir('/Users/Moji/Documents/Summer20/Ge')\n",
    "\n",
    "flatten = lambda l: [item for sublist in l for item in sublist]"
   ],
   "metadata": {
    "collapsed": false,
    "pycharm": {
     "name": "#%%\n"
    }
   }
  },
  {
   "cell_type": "code",
   "execution_count": null,
   "outputs": [],
   "source": [
    "amo = [ase.Atoms(io.read('/Users/Moji/Documents/Summer20/Ge/MD_runs/2bSOAP_5000_125_216_cdr/run_64001/NPT/dump_npt_Ge_gap.' + str(i)\n",
    "                         + '.cfg')) for i in range(220000, 240000, 1000)]\n",
    "hiT_amo = [ase.Atoms(io.read('/Users/Moji/Documents/Summer20/Ge/MD_runs/2bSOAP_5000_125_216_cdr/run_64001/NPT/dump_npt_Ge_gap.' + str(i)\n",
    "                                  + '.cfg')) for i in range(180000, 220000, 1000)]\n",
    "inter = [ase.Atoms(io.read('/Users/Moji/Documents/Summer20/Ge/MD_runs/2bSOAP_5000_125_216_cdr/run_64001/NPT/dump_npt_Ge_gap.' + str(i)\n",
    "                                  + '.cfg')) for i in range(140000, 180000, 1000)]\n",
    "liquid = [ase.Atoms(io.read('/Users/Moji/Documents/Summer20/Ge/MD_runs/2bSOAP_5000_125_216_cdr/run_64001/NPT/dump_npt_Ge_gap.'\n",
    "                            + str(i) + '.cfg')) for i in range(60000, 140000, 1000)]\n",
    "hiT_liq = [ase.Atoms(io.read('/Users/Moji/Documents/Summer20/Ge/MD_runs/2bSOAP_5000_125_216_cdr/run_64001/NPT/dump_npt_Ge_gap.'\n",
    "                            + str(i) + '.cfg')) for i in range(20000, 60000, 1000)]\n",
    "MD = [amo, hiT_amo, inter, liquid, hiT_liq]"
   ],
   "metadata": {
    "collapsed": false,
    "pycharm": {
     "name": "#%%\n"
    }
   }
  },
  {
   "cell_type": "code",
   "execution_count": null,
   "outputs": [],
   "source": [
    "dia = ase.Atoms(build.bulk('Ge', crystalstructure='diamond', cubic=True))\n",
    "dia_s = build.make_supercell(dia, [[2, 0, 0],\n",
    "                                  [0, 2, 0],\n",
    "                                  [0, 0, 2]])\n",
    "\n",
    "liq_ana = Analysis(liquid)\n",
    "amo_ana = Analysis(amo)\n",
    "dia_ana = Analysis(dia_s)\n",
    "liq_3b_ana = Analysis(liquid_3b)\n",
    "\n",
    "liq_rdf = np.average(liq_ana.get_rdf(4.9, 400), axis=0)\n",
    "amo_rdf = np.average(amo_ana.get_rdf(4.9, 400), axis=0)\n",
    "dia_rdf = np.average(dia_ana.get_rdf(4.9, 400), axis=0)\n",
    "liq_3b_rdf = np.average(liq_3b_ana.get_rdf(4.9, 400), axis=0)\n",
    "\n",
    "liq_n = [neighbor_list('i', i, cutoff=3.0) for i in liquid]\n",
    "liq_n = [neighbor_list('i', i, cutoff=3.0) for i in liquid_3b]\n",
    "amo_n = [neighbor_list('i', i, cutoff=3.0) for i in amo]\n",
    "dia_n = neighbor_list('i', dia_s, cutoff=3.0)\n",
    "\n",
    "\n",
    "np.average([np.bincount(i) for i in amo_n], axis=0)\n",
    "\n",
    "np.average([np.bincount(i) for i in liq_n], axis=0)\n",
    "\n",
    "dists = np.linspace(0, 4.9, 400)\n",
    "fig, axs = plt.subplots(figsize=(10,10))\n",
    "axs.scatter(dists, liq_rdf)\n",
    "axs.scatter(dists, amo_rdf)\n",
    "axs.scatter(dists, liq_3b_rdf)\n",
    "#axs.scatter(dists, dia_rdf)\n",
    "plt.show()"
   ],
   "metadata": {
    "collapsed": false,
    "pycharm": {
     "name": "#%%\n"
    }
   }
  },
  {
   "cell_type": "code",
   "execution_count": null,
   "outputs": [],
   "source": [
    "T_csize_dat = [[i for i in T_set if i.get_global_number_of_atoms() == 64],\n",
    "               [i for i in T_set if i.get_global_number_of_atoms() == 125],\n",
    "                [i for i in T_set if i.get_global_number_of_atoms() == 216]]\n",
    "T_qm_e_cs = [[at.info['dft_energy']/len(at) - zero_e for at in j] for j in T_csize_dat]\n",
    "T_qm_f_cs = [[i for at in j for i in at.get_array('dft_forces').flatten()] for j in T_csize_dat]"
   ],
   "metadata": {
    "collapsed": false,
    "pycharm": {
     "name": "#%%\n"
    }
   }
  },
  {
   "cell_type": "code",
   "execution_count": null,
   "outputs": [],
   "source": [
    "fig, axs = plt.subplots(figsize=(10,10))\n",
    "axs.hist(T_qm_e_cs, bins=50, stacked=True, label=['64','125','216'])\n",
    "plt.legend()\n",
    "plt.show()\n",
    "\n",
    "labels = [240, 120, 20, 180, 160]"
   ],
   "metadata": {
    "collapsed": false,
    "pycharm": {
     "name": "#%%\n"
    }
   }
  },
  {
   "cell_type": "code",
   "execution_count": null,
   "outputs": [],
   "source": [
    "ans2 = [[Analysis(j) for j in i] for i in T_configs_s]\n",
    "ans = [[Analysis(j) for j in i] for i in MD]\n",
    "rdf = [np.average(np.array([i.get_rdf(4.9, 400) for i in j]), axis=0) for j in ans]\n",
    "rdf2 = [np.average(np.array([i.get_rdf(4.9, 400) for i in j]), axis=0) for j in ans2]\n",
    "dists = np.linspace(0, 4.9, 400)"
   ],
   "metadata": {
    "collapsed": false,
    "pycharm": {
     "name": "#%%\n"
    }
   }
  },
  {
   "cell_type": "code",
   "execution_count": null,
   "outputs": [],
   "source": [
    "fig, axs = plt.subplots(1,2, figsize=(12,6))\n",
    "for i in range(len(rdf)):\n",
    "    axs[0].scatter(dists, rdf[i], label=lab_sort[i], s=8)\n",
    "    axs[1].scatter(dists, rdf2[i], label=lab_sort[i], s=8)\n",
    "\n",
    "axs[0].set(ylim=(-0.5,6))\n",
    "axs[1].set(ylim=(-0.5,6))\n",
    "axs[0].text(1,4,'Ge-GAP')\n",
    "axs[1].text(1,4,'Si-GAP')\n",
    "axs[0].legend()\n",
    "fig.show()\n",
    "fig.savefig('/Users/Moji/Documents/Summer20/Ge/Analysis/Si-Ge-GAP_rdfs.png')"
   ],
   "metadata": {
    "collapsed": false,
    "pycharm": {
     "name": "#%%\n"
    }
   }
  },
  {
   "cell_type": "code",
   "execution_count": null,
   "outputs": [],
   "source": [
    "lab_sort_rmse = ['{0:>4d}      {1:>5.2f}      {2:>5.3f}'.format(lab_sort[i],\n",
    "                  rms_dict(T_qm_energies_s[i],T_gap_energies_s[i])['rmse']*1000,\n",
    "                  rms_dict(T_qm_forces_s[i], T_gap_forces_s[i])['rmse'])\n",
    "                  for i in range(len(lab_sort))]"
   ],
   "metadata": {
    "collapsed": false,
    "pycharm": {
     "name": "#%%\n"
    }
   }
  },
  {
   "cell_type": "code",
   "execution_count": null,
   "outputs": [],
   "source": [
    "fig, axs = plt.subplots(1,2, figsize=(12,6))\n",
    "axs[1].hist(T_qm_forces, bins=500, stacked=False, label=lab_sort_rmse, histtype='step', density=False)\n",
    "axs[0].hist(T_qm_energies, bins=50, stacked=False, label=lab_sort_rmse, histtype='step', density=False)\n",
    "axs[1].set(xlabel='DFT Forces / eV/Å', xlim=(-5.0,5.0))\n",
    "axs[0].set(xlabel='DFT Energies per atom / eV', ylabel='Frequency')\n",
    "axs[0].legend(title = '    time     $E_{energy}$     $E_{forces}$')\n",
    "plt.show()\n",
    "fig.savefig('/Users/Moji/Documents/Summer20/Ge/Analysis/timestep_rmse.png')"
   ],
   "metadata": {
    "collapsed": false,
    "pycharm": {
     "name": "#%%\n"
    }
   }
  },
  {
   "cell_type": "code",
   "execution_count": null,
   "outputs": [],
   "source": [
    "fig, axs = plt.subplots(1,2, figsize=(12,6))\n",
    "axs[1].hist(T_qm_f_cs, bins=500, stacked=False, label=['64','125','216'], histtype='step', density=True)\n",
    "axs[0].hist(T_qm_e_cs, bins=50, stacked=False, label=['64','125','216'], histtype='step', density=True)\n",
    "axs[1].set(xlabel='DFT Forces / eV/Å', xlim=(-5.0,5.0))\n",
    "axs[0].set(xlabel='DFT Energies / eV', ylabel='Normalised frequency')\n",
    "plt.legend()\n",
    "plt.show()\n",
    "fig.savefig('/Users/Moji/Documents/Summer20/Ge/Analysis/normed_distribution_zoom.png')"
   ],
   "metadata": {
    "collapsed": false,
    "pycharm": {
     "name": "#%%\n"
    }
   }
  },
  {
   "cell_type": "code",
   "execution_count": null,
   "outputs": [],
   "source": [
    "fig, axs = plt.subplots(1,2, figsize=(12,6))\n",
    "axs[1].hist(T_qm_f_cs, bins=300, stacked=True, label=['64','125','216'])\n",
    "axs[0].hist(T_qm_e_cs, bins=50, stacked=True, label=['64','125','216'])\n",
    "axs[1].set(xlabel='DFT Forces / eV/Å')\n",
    "axs[0].set(xlabel='DFT Energies / eV', ylabel='Frequency')\n",
    "plt.legend()\n",
    "plt.show()\n",
    "fig.savefig('/Users/Moji/Documents/Summer20/Ge/Analysis/histogram.png')"
   ],
   "metadata": {
    "collapsed": false,
    "pycharm": {
     "name": "#%%\n"
    }
   }
  },
  {
   "cell_type": "code",
   "execution_count": null,
   "outputs": [],
   "source": [],
   "metadata": {
    "collapsed": false,
    "pycharm": {
     "name": "#%%\n"
    }
   }
  },
  {
   "cell_type": "code",
   "execution_count": null,
   "outputs": [],
   "source": [
    "hcp = bulk('Ge', 'hcp', a=2.991, b=2.991, c=4.35)\n",
    "dia = bulk('Ge', 'diamond', a=5.6)\n",
    "dia.set_calculator(gap)\n",
    "hcp.set_calculator(gap)\n",
    "print(hcp.get_total_energy()/len(hcp))\n",
    "print(dia.get_total_energy()/len(dia))\n",
    "diaf = UnitCellFilter(dia)\n",
    "d_dyn = BFGS(diaf, trajectory='/Users/Moji/Documents/Summer20/Ge/Analysis/dia.traj')\n",
    "d_dyn.run(fmax=0.05)\n",
    "hcpf = UnitCellFilter(hcp)\n",
    "h_dyn = BFGS(hcpf, trajectory='/Users/Moji/Documents/Summer20/Ge/Analysis/hcp.traj')\n",
    "h_dyn.run(fmax=0.05)\n",
    "hcp_traj = Trajectory('/Users/Moji/Documents/Summer20/Ge/Analysis/hcp.traj')\n",
    "dia_traj = Trajectory('/Users/Moji/Documents/Summer20/Ge/Analysis/dia.traj')\n",
    "hcp_opt = hcp_traj[-1]\n",
    "dia_opt = dia_traj[-1]\n",
    "\n",
    "hcp_opt.set_calculator(gap)\n",
    "dia_opt.set_calculator(gap)\n",
    "print(hcp_opt.get_total_energy()/len(hcp_opt), dia_opt.get_total_energy()/len(dia_opt))"
   ],
   "metadata": {
    "collapsed": false,
    "pycharm": {
     "name": "#%%\n"
    }
   }
  },
  {
   "cell_type": "code",
   "execution_count": null,
   "outputs": [],
   "source": [
    "desc = quippy.descriptors.Descriptor('soap average=T l_max=6 n_max=12 atom_sigma=0.5 zeta=4 \\\n",
    "                              cutoff=5.0 cutoff_transition_width=1.0 \\\n",
    "                              central_weight=1.0 n_sparse=5000 delta=0.1 \\\n",
    "                              f0=0.0 covariance_type=dot_product \\\n",
    "                              sparse_method=CUR_POINTS')\n",
    "\n",
    "'''energy_parameter_name=dft_energy force_parameter_name=dft_forces \\\n",
    "virial_parameter_name=NOT_USED \\\n",
    "sparse_jitter=1.0e-8 \\\n",
    "default_sigma={0.001 0.1 0.05 0.0}'''"
   ],
   "metadata": {
    "collapsed": false,
    "pycharm": {
     "name": "#%%\n"
    }
   }
  },
  {
   "cell_type": "code",
   "execution_count": null,
   "outputs": [],
   "source": [
    "np.shape(desc.calc(d155.V_configs[0][0])['data'])"
   ],
   "metadata": {
    "collapsed": false,
    "pycharm": {
     "name": "#%%\n"
    }
   }
  },
  {
   "cell_type": "code",
   "execution_count": null,
   "outputs": [],
   "source": [
    "descs = [desc.calc_descriptor(i) for i in flatten(d155.V_configs)]\n",
    "#MD_descs = [desc.calc_descriptor(i) for i in flatten(MD)]"
   ],
   "metadata": {
    "collapsed": false,
    "pycharm": {
     "name": "#%%\n"
    }
   }
  },
  {
   "cell_type": "code",
   "execution_count": null,
   "outputs": [],
   "source": [
    "tdat = descs #+ MD_descs"
   ],
   "metadata": {
    "collapsed": false,
    "pycharm": {
     "name": "#%%\n"
    }
   }
  },
  {
   "cell_type": "code",
   "execution_count": null,
   "outputs": [],
   "source": [
    "np.shape(tdat[0][0])"
   ],
   "metadata": {
    "collapsed": false,
    "pycharm": {
     "name": "#%%\n"
    }
   }
  },
  {
   "cell_type": "code",
   "execution_count": null,
   "outputs": [],
   "source": [
    "mat = np.array([[2-2*np.dot(i[0]**4, j[0]**4) for j in tdat] for i in tdat])"
   ],
   "metadata": {
    "collapsed": false,
    "pycharm": {
     "name": "#%%\n"
    }
   }
  },
  {
   "cell_type": "code",
   "execution_count": null,
   "outputs": [],
   "source": [
    "np.shape(mat)"
   ],
   "metadata": {
    "collapsed": false,
    "pycharm": {
     "name": "#%%\n"
    }
   }
  },
  {
   "cell_type": "code",
   "execution_count": null,
   "outputs": [],
   "source": [
    "configs = d155.V_configs\n",
    "config_flat_indices = [0]\n",
    "for i in configs:\n",
    "    config_flat_indices.append(len(i) + config_flat_indices[-1])\n",
    "\n",
    "config_flat_indices.append(None)"
   ],
   "metadata": {
    "collapsed": false,
    "pycharm": {
     "name": "#%%\n"
    }
   }
  },
  {
   "cell_type": "code",
   "execution_count": null,
   "outputs": [],
   "source": [
    "config = d155.V_configs\n",
    "\n",
    "symbols = ['x' for i in configs]\n",
    "colormap = plt.get_cmap('plasma')\n",
    "colors = [colormap(i) for i in np.linspace(0, 0.8, len(configs))]\n",
    "\n",
    "#colormap2 = plt.get_cmap('viridis')\n",
    "#colors.extend([colormap(i) for i in np.linspace(0, 0.8, len(labels[-len(MD):]))])"
   ],
   "metadata": {
    "collapsed": false,
    "pycharm": {
     "name": "#%%\n"
    }
   }
  },
  {
   "cell_type": "code",
   "execution_count": null,
   "outputs": [],
   "source": [
    "from sklearn import decomposition"
   ],
   "metadata": {
    "collapsed": false,
    "pycharm": {
     "name": "#%%\n"
    }
   }
  },
  {
   "cell_type": "code",
   "execution_count": null,
   "outputs": [],
   "source": [
    "pca = decomposition.PCA(n_components=2)\n",
    "pca.fit(mat)"
   ],
   "metadata": {
    "collapsed": false,
    "pycharm": {
     "name": "#%%\n"
    }
   }
  },
  {
   "cell_type": "code",
   "execution_count": null,
   "outputs": [],
   "source": [
    "map = pca.fit_transform(mat)"
   ],
   "metadata": {
    "collapsed": false,
    "pycharm": {
     "name": "#%%\n"
    }
   }
  },
  {
   "cell_type": "code",
   "execution_count": null,
   "outputs": [],
   "source": [
    "fig, ax = plt.subplots()\n",
    "cfi = config_flat_indices\n",
    "for i in range(len(config)):\n",
    "    ax.scatter(map.T[0][cfi[i]:cfi[i+1]], mat.T[1][cfi[i]:cfi[i+1]],\n",
    "               color=colors[i], label=d155.config_labels[i])\n",
    "ax.legend()\n",
    "fig.show()\n"
   ],
   "metadata": {
    "collapsed": false,
    "pycharm": {
     "name": "#%%\n"
    }
   }
  },
  {
   "cell_type": "code",
   "execution_count": null,
   "outputs": [],
   "source": [
    "fig, ax = plt.subplots()\n",
    "for i in range(len(ds)-1):\n",
    "    ax.scatter(map.T[0][ds[i]:ds[i+1]], mat.T[1][ds[i]:ds[i+1]],\n",
    "               color=colors[i], label=lab_sort[i], s=10, marker=symbols[i])\n",
    "ax.legend()\n",
    "ax.axes.get_xaxis().set_visible(False)\n",
    "ax.axes.get_yaxis().set_visible(False)\n",
    "fig.show()\n",
    "#fig.savefig('./Analysis/similarity_map_exp.png', dpi=300)"
   ],
   "metadata": {
    "collapsed": false,
    "pycharm": {
     "name": "#%%\n"
    }
   }
  },
  {
   "cell_type": "code",
   "execution_count": null,
   "outputs": [],
   "source": [
    "stress_t = []\n",
    "stress_Si = []\n",
    "for i in flatten(d155.data_dict['QM_V_t']):\n",
    "    stress_t.append(np.trace(i))\n",
    "for i in flatten(Si.data_dict['QM_V_t']):\n",
    "    if np.any(i):\n",
    "        stress_Si.append(np.trace(i))\n"
   ],
   "metadata": {
    "collapsed": false,
    "pycharm": {
     "name": "#%%\n"
    }
   }
  },
  {
   "cell_type": "code",
   "execution_count": null,
   "outputs": [],
   "source": [
    "fig, axs = plt.subplots()\n",
    "axs.hist(stress_Si, bins=10, density=True, label='Si')\n",
    "axs.hist(stress_t, bins=50, density=True, label='Ge')\n",
    "axs.axvline(0, color='k')\n",
    "axs.set(xlabel='Tr(Virial)')\n",
    "axs.legend()\n",
    "fig.show()\n",
    "fig.savefig('/Users/Moji/Documents/Summer20/Ge/Analysis/virial_dist.png')"
   ],
   "metadata": {
    "collapsed": false,
    "pycharm": {
     "name": "#%%\n"
    }
   }
  },
  {
   "cell_type": "code",
   "execution_count": null,
   "outputs": [],
   "source": [
    "\n",
    "T_set[0].info['dft_virial']"
   ],
   "metadata": {
    "collapsed": false,
    "pycharm": {
     "name": "#%%\n"
    }
   }
  },
  {
   "cell_type": "code",
   "execution_count": null,
   "outputs": [],
   "source": [],
   "metadata": {
    "collapsed": false,
    "pycharm": {
     "name": "#%%\n"
    }
   }
  },
  {
   "cell_type": "code",
   "execution_count": 5,
   "outputs": [],
   "source": [
    "\n",
    "data_dir = '/Users/Moji/Documents/Summer20/Ge/'\n",
    "train_file = data_dir + 'Structure_databases/train_216_125_64_v.xyz'\n",
    "val_file = data_dir + 'Structure_databases/validate_216_125_64_v.xyz'\n",
    "pickle_file = data_dir + 'Pickles/data_125_216_d155'\n",
    "pot = data_dir + 'Potentials/Ge_2bSOAP_5000_125_216_d155/Ge_2bSOAP_5000_125_216_d155.xml'\n",
    "pot_v = data_dir + 'Potentials/Ge_2bSOAP_5000_125_216_d155_v/Ge_2bSOAP_5000_125_216_d155_v.xml'\n",
    "pot_ve4 = data_dir + 'Potentials/Ge_2bSOAP_5000_125_216_d155_ve4/Ge_2bSOAP_5000_125_216_d155_ve4.xml'"
   ],
   "metadata": {
    "collapsed": false,
    "pycharm": {
     "name": "#%%\n"
    }
   }
  },
  {
   "cell_type": "code",
   "execution_count": null,
   "outputs": [],
   "source": [
    "Si_xyz = '/Users/Moji/Documents/Summer20/Ge/Si_GAP_training/libAtoms-silicon-testing-framework-fc252cb/models/GAP/gp_iter6_sparse9k.xml.xyz'"
   ],
   "metadata": {
    "collapsed": false,
    "pycharm": {
     "name": "#%%\n"
    }
   }
  },
  {
   "cell_type": "code",
   "execution_count": null,
   "outputs": [],
   "source": [
    "Si = GAP(Si_xyz, parameter_names=('dft_energy', 'dft_force', 'virial'))"
   ],
   "metadata": {
    "collapsed": false,
    "pycharm": {
     "name": "#%%\n"
    }
   }
  },
  {
   "cell_type": "code",
   "execution_count": 6,
   "outputs": [
    {
     "name": "stdout",
     "output_type": "stream",
     "text": [
      "Training set structure count: 281\n",
      "Validation set structure count: 70\n",
      "Read configs, now fixing virials\n",
      "Config labels: ['amorph', 'liq', 'hiT_liq', 'hiT_amorph', 'inter']\n"
     ]
    }
   ],
   "source": [
    "d155_v = GAP(train_file, val_file, pot_v)"
   ],
   "metadata": {
    "collapsed": false,
    "pycharm": {
     "name": "#%%\n"
    }
   }
  },
  {
   "cell_type": "code",
   "execution_count": null,
   "outputs": [],
   "source": [
    "d155_v.calc()"
   ],
   "metadata": {
    "collapsed": false,
    "pycharm": {
     "name": "#%%\n"
    }
   }
  },
  {
   "cell_type": "code",
   "execution_count": null,
   "outputs": [],
   "source": [
    "d155 = GAP(train_file, val_file, pot)"
   ],
   "metadata": {
    "collapsed": false,
    "pycharm": {
     "name": "#%%\n"
    }
   }
  },
  {
   "cell_type": "code",
   "execution_count": null,
   "outputs": [],
   "source": [
    "d155.calc()"
   ],
   "metadata": {
    "collapsed": false,
    "pycharm": {
     "name": "#%%\n"
    }
   }
  },
  {
   "cell_type": "code",
   "execution_count": null,
   "outputs": [],
   "source": [
    "d155_v.analyse(train=True, sorted_order=[0,3,4,1,2])"
   ],
   "metadata": {
    "collapsed": false,
    "pycharm": {
     "name": "#%%\n"
    }
   }
  },
  {
   "cell_type": "code",
   "execution_count": null,
   "outputs": [],
   "source": [
    "d155.analyse(train=True, sorted_order=[0, 3, 4, 1, 2])"
   ],
   "metadata": {
    "collapsed": false,
    "pycharm": {
     "name": "#%%\n"
    }
   }
  },
  {
   "cell_type": "code",
   "execution_count": null,
   "outputs": [],
   "source": [
    "energy_error(d155)\n",
    "forces_error(d155)\n",
    "energy_error(d155_v)\n",
    "forces_error(d155_v)"
   ],
   "metadata": {
    "collapsed": false,
    "pycharm": {
     "name": "#%%\n"
    }
   }
  },
  {
   "cell_type": "code",
   "execution_count": null,
   "outputs": [],
   "source": [
    "virials_error(d155_v, file='/Users/Moji/Documents/Summer20/Ge/Analysis/virial_error_v.png')"
   ],
   "metadata": {
    "collapsed": false,
    "pycharm": {
     "name": "#%%\n"
    }
   }
  },
  {
   "cell_type": "code",
   "execution_count": null,
   "outputs": [],
   "source": [
    "abs_energy_error(d155)"
   ],
   "metadata": {
    "collapsed": false,
    "pycharm": {
     "name": "#%%\n"
    }
   }
  },
  {
   "cell_type": "code",
   "execution_count": null,
   "outputs": [],
   "source": [
    "abs_force_error(d155)"
   ],
   "metadata": {
    "collapsed": false,
    "pycharm": {
     "name": "#%%\n"
    }
   }
  },
  {
   "cell_type": "code",
   "execution_count": null,
   "outputs": [],
   "source": [
    "abs_virial_error(d155)"
   ],
   "metadata": {
    "collapsed": false,
    "pycharm": {
     "name": "#%%\n"
    }
   }
  },
  {
   "cell_type": "code",
   "execution_count": null,
   "outputs": [],
   "source": [
    "dens_error_plot(d155)"
   ],
   "metadata": {
    "collapsed": false,
    "pycharm": {
     "name": "#%%\n"
    }
   }
  },
  {
   "cell_type": "code",
   "execution_count": null,
   "outputs": [],
   "source": [
    "d155.save('/Users/Moji/Documents/Summer20/Ge/Pickles/d155')"
   ],
   "metadata": {
    "collapsed": false,
    "pycharm": {
     "name": "#%%\n"
    }
   }
  },
  {
   "cell_type": "code",
   "execution_count": 8,
   "outputs": [
    {
     "name": "stdout",
     "output_type": "stream",
     "text": [
      "Load successful\n",
      "data_dict:  dict_keys(['QM_E_t', 'QM_F_t', 'QM_V_t', 'GAP_E_t', 'GAP_F_t', 'GAP_V_t', 'E_err_t', 'F_err_t', 'V_err_t', 'E_rmse_t', 'F_rmse_t', 'V_rmse_t', 'QM_E_v', 'QM_F_v', 'QM_V_v', 'GAP_E_v', 'GAP_F_v', 'GAP_V_v', 'E_err_v', 'F_err_v', 'V_err_v', 'E_rmse_v', 'F_rmse_v', 'V_rmse_v'])\n"
     ]
    }
   ],
   "source": [
    "d155_v.load('/Users/Moji/Documents/Summer20/Ge/Pickles/d155_v')"
   ],
   "metadata": {
    "collapsed": false,
    "pycharm": {
     "name": "#%%\n"
    }
   }
  },
  {
   "cell_type": "code",
   "execution_count": null,
   "outputs": [],
   "source": [
    "d155_v.save('/Users/Moji/Documents/Summer20/Ge/Pickles/d155_v')"
   ],
   "metadata": {
    "collapsed": false,
    "pycharm": {
     "name": "#%%\n"
    }
   }
  },
  {
   "cell_type": "code",
   "execution_count": 41,
   "outputs": [
    {
     "data": {
      "text/plain": "<Figure size 432x288 with 1 Axes>",
      "image/png": "[encoded data removed]"
     },
     "metadata": {
      "needs_background": "light"
     },
     "output_type": "display_data"
    }
   ],
   "source": [
    "dfig, dax = plt.subplots()\n",
    "energy_error(d155, ax=dax, by_config=False, color='r', rmse=False, label='d155')\n",
    "energy_error(d155_v, ax=dax, by_config=False, color='b', rmse=False, label='d155_v')\n",
    "energy_error(d155_ve4, ax=dax, by_config=False, color='g', rmse=False, label='d155_ve')\n",
    "dax.text(-4.65, -4.5, 'E RMSE Stdev / meV\\n{0:6.3f}   {1:6.3f}\\n{2:6.3f}   {3:6.3f}\\n{4:6.3f}   {5:6.3f}'.format(\n",
    "    np.average([i['rmse']*1000 for i in d155.data_dict['E_rmse_v']]),\n",
    "    np.average([i['std']*1000 for i in d155.data_dict['E_rmse_v']]),\n",
    "    np.average([i['rmse']*1000 for i in d155_v.data_dict['E_rmse_v']]),\n",
    "    np.average([i['std']*1000 for i in d155_v.data_dict['E_rmse_v']]),\n",
    "    np.average([i['rmse']*1000 for i in d155_ve4.data_dict['E_rmse_v']]),\n",
    "    np.average([i['std']*1000 for i in d155_ve4.data_dict['E_rmse_v']])))\n",
    "dfig.savefig('/Users/Moji/Documents/Summer20/Ge/Analysis/energy_errors.png')"
   ],
   "metadata": {
    "collapsed": false,
    "pycharm": {
     "name": "#%%\n"
    }
   }
  },
  {
   "cell_type": "code",
   "execution_count": null,
   "outputs": [],
   "source": [
    "d155.calc_similarity()"
   ],
   "metadata": {
    "collapsed": false,
    "pycharm": {
     "name": "#%%\n"
    }
   }
  },
  {
   "cell_type": "code",
   "execution_count": null,
   "outputs": [],
   "source": [
    "similarity_map(d155)"
   ],
   "metadata": {
    "collapsed": false,
    "pycharm": {
     "name": "#%%\n"
    }
   }
  },
  {
   "cell_type": "code",
   "execution_count": 3,
   "outputs": [
    {
     "ename": "NameError",
     "evalue": "name 'GAP' is not defined",
     "output_type": "error",
     "traceback": [
      "\u001B[0;31m---------------------------------------------------------------------------\u001B[0m",
      "\u001B[0;31mNameError\u001B[0m                                 Traceback (most recent call last)",
      "\u001B[0;32m<ipython-input-3-49de091f945e>\u001B[0m in \u001B[0;36m<module>\u001B[0;34m\u001B[0m\n\u001B[0;32m----> 1\u001B[0;31m \u001B[0md155_ve4\u001B[0m \u001B[0;34m=\u001B[0m \u001B[0mGAP\u001B[0m\u001B[0;34m(\u001B[0m\u001B[0mtrain_file\u001B[0m\u001B[0;34m,\u001B[0m \u001B[0mval_file\u001B[0m\u001B[0;34m,\u001B[0m \u001B[0mpot_ve4\u001B[0m\u001B[0;34m)\u001B[0m\u001B[0;34m\u001B[0m\u001B[0;34m\u001B[0m\u001B[0m\n\u001B[0m",
      "\u001B[0;31mNameError\u001B[0m: name 'GAP' is not defined"
     ]
    }
   ],
   "source": [
    "d155_ve4 = GAP(train_file, val_file, pot_ve4)"
   ],
   "metadata": {
    "collapsed": false,
    "pycharm": {
     "name": "#%%\n"
    }
   }
  },
  {
   "cell_type": "code",
   "execution_count": null,
   "outputs": [],
   "source": [
    "d155_ve4.calc()\n",
    "d155_ve4.analyse(train=True, sorted_order=[0,3,4,1,2])"
   ],
   "metadata": {
    "collapsed": false,
    "pycharm": {
     "name": "#%%\n"
    }
   }
  },
  {
   "cell_type": "code",
   "execution_count": null,
   "outputs": [],
   "source": [
    "d155_ve4.save('/Users/Moji/Documents/Summer20/Ge/Pickles/d155_ve4')"
   ],
   "metadata": {
    "collapsed": false,
    "pycharm": {
     "name": "#%%\n"
    }
   }
  },
  {
   "cell_type": "code",
   "execution_count": null,
   "outputs": [],
   "source": [
    "d155"
   ],
   "metadata": {
    "collapsed": false,
    "pycharm": {
     "name": "#%%\n"
    }
   }
  },
  {
   "cell_type": "code",
   "execution_count": null,
   "outputs": [],
   "source": [],
   "metadata": {
    "collapsed": false,
    "pycharm": {
     "name": "#%%\n"
    }
   }
  },
  {
   "cell_type": "code",
   "execution_count": 2,
   "outputs": [],
   "source": [
    "from ase import units\n",
    "from ase.md.npt import NPT\n",
    "import time\n",
    "from ase.io.lammpsdata import read_lammps_data"
   ],
   "metadata": {
    "collapsed": false,
    "pycharm": {
     "name": "#%%\n"
    }
   }
  },
  {
   "cell_type": "code",
   "execution_count": 25,
   "outputs": [],
   "source": [
    "potdir = '/Users/Moji/Documents/Summer20/Ge/Potentials/'\n",
    "pot = Potential(param_filename=potdir+'as75_ds002_vF/as75_ds002_vF.xml')"
   ],
   "metadata": {
    "collapsed": false,
    "pycharm": {
     "name": "#%%\n"
    }
   }
  },
  {
   "cell_type": "code",
   "execution_count": 3,
   "outputs": [],
   "source": [
    "dia = ase.Atoms(build.bulk('Ge', crystalstructure='diamond', cubic=True))\n",
    "dia_s = build.make_supercell(dia, [[2, 0, 0],\n",
    "                                  [0, 2, 0],\n",
    "                                  [0, 0, 2]])"
   ],
   "metadata": {
    "collapsed": false,
    "pycharm": {
     "name": "#%%\n"
    }
   }
  },
  {
   "cell_type": "code",
   "execution_count": 20,
   "outputs": [],
   "source": [
    "dia_s = read_lammps_data('/Users/Moji/Documents/Summer20/Ge/MD_runs/ase_MD/rnd_64001.data', style=\"atomic\")"
   ],
   "metadata": {
    "collapsed": false,
    "pycharm": {
     "name": "#%%\n"
    }
   }
  },
  {
   "cell_type": "code",
   "execution_count": 27,
   "outputs": [],
   "source": [
    "dia_s.set_atomic_numbers([32 for i in range(64)])"
   ],
   "metadata": {
    "collapsed": false,
    "pycharm": {
     "name": "#%%\n"
    }
   }
  },
  {
   "cell_type": "code",
   "execution_count": 28,
   "outputs": [
    {
     "name": "stdout",
     "output_type": "stream",
     "text": [
      "[2500. 1950. 1400.  850.  300.]\n"
     ]
    }
   ],
   "source": [
    "dia_s.set_calculator(pot)\n",
    "sT = 2500*units.kB\n",
    "fT = 300*units.kB\n",
    "Ts = [sT - i*(sT-fT)/4 for i in range(5)]\n",
    "print(np.array(Ts)/units.kB)\n",
    "dyn = NPT(dia_s, 1*units.fs, sT, 0, 25, 3375)"
   ],
   "metadata": {
    "collapsed": false,
    "pycharm": {
     "name": "#%%\n"
    }
   }
  },
  {
   "cell_type": "code",
   "execution_count": 30,
   "outputs": [
    {
     "name": "stdout",
     "output_type": "stream",
     "text": [
      "Time[ps]    Etot/N[eV]   Epot/N[eV]   Ekin/N[eV]  Volume[A^3]          MSD       P[GPa]    T[K]      ---------------------- stress [GPa] -----------------------\n",
      "0.0100       -2536.6911   -2536.7457       0.0545    1497.5450       0.0000       0.4166  422.0     -0.830     -0.798     -1.210      1.589      1.645     -0.786\n",
      "0.0200       -2536.6907   -2536.8380       0.1472    1497.5575       0.0000      -0.5578 1138.8     -0.003      0.475      0.142      1.059      1.324     -0.355\n",
      "0.0300       -2536.6897   -2536.8975       0.2078    1497.5684       0.0000      -1.5388 1607.3      0.868      1.621      1.398      0.729      1.031     -0.014\n",
      "0.0400       -2536.6882   -2536.9225       0.2343    1497.5693       0.0000      -2.0304 1812.9      1.312      2.169      1.989      0.622      0.950      0.217\n",
      "0.0500       -2536.6864   -2536.9259       0.2395    1497.5559       0.0000      -2.1002 1852.8      1.300      2.253      2.154      0.593      0.926      0.456\n",
      "0.0600       -2536.6845   -2536.9170       0.2326    1497.5274       0.0000      -1.8545 1799.1      0.983      1.994      2.057      0.530      0.778      0.781\n",
      "0.0700       -2536.6825   -2536.9055       0.2231    1497.4856       0.0000      -1.4970 1725.8      0.635      1.732      1.740      0.385      0.612      0.935\n",
      "0.0800       -2536.6806   -2536.8985       0.2179    1497.4327       0.0000      -1.2222 1685.9      0.595      1.578      1.378      0.116      0.552      0.926\n",
      "0.0900       -2536.6792   -2536.8985       0.2193    1497.3703       0.0000      -1.0000 1696.9      0.703      1.451      1.053     -0.207      0.484      0.736\n",
      "0.1000       -2536.6799   -2536.9028       0.2229    1497.2994       0.0000      -0.9124 1724.3      0.993      1.303      0.794     -0.353      0.363      0.357\n",
      "----- run time = 129.41\n"
     ]
    }
   ],
   "source": [
    "traj = Trajectory('Ge_NPT_test.traj', 'w', dia_s)\n",
    "dyn.attach(MDLogger_NPT(dyn, dia_s, '-', header=True, stress=True, peratom=True, mode=\"a\"), interval=10)\n",
    "dyn.attach(traj.write, interval=50)\n",
    "meltsteps=50\n",
    "quenchsteps = 50\n",
    "st = time.time()\n",
    "dyn.run(meltsteps)\n",
    "for i in range(len(Ts)):\n",
    "    dyn.set_temperature(Ts[i])\n",
    "    dyn.run(quenchsteps//len(Ts))\n",
    "print('----- run time = %6.2f' % (time.time() - st))"
   ],
   "metadata": {
    "collapsed": false,
    "pycharm": {
     "name": "#%%\n"
    }
   }
  },
  {
   "cell_type": "code",
   "execution_count": 24,
   "outputs": [
    {
     "data": {
      "text/plain": "3375.0"
     },
     "execution_count": 24,
     "metadata": {},
     "output_type": "execute_result"
    }
   ],
   "source": [
    "75**2 * 0.6\n"
   ],
   "metadata": {
    "collapsed": false,
    "pycharm": {
     "name": "#%%\n"
    }
   }
  },
  {
   "cell_type": "code",
   "execution_count": 29,
   "outputs": [
    {
     "data": {
      "text/plain": "-162348.2311701055"
     },
     "execution_count": 29,
     "metadata": {},
     "output_type": "execute_result"
    }
   ],
   "source": [
    "dia_s.get_potential_energy()\n"
   ],
   "metadata": {
    "collapsed": false,
    "pycharm": {
     "name": "#%%\n"
    }
   }
  },
  {
   "cell_type": "code",
   "execution_count": 12,
   "outputs": [],
   "source": [
    "class MDLogger_NPT:\n",
    "    \"\"\"Class for logging molecular dynamics simulations.\n",
    "\n",
    "    Parameters:\n",
    "    dyn:           The dynamics.  Only a weak reference is kept.\n",
    "\n",
    "    atoms:         The atoms.\n",
    "\n",
    "    logfile:       File name or open file, \"-\" meaning standard output.\n",
    "\n",
    "    stress=False:  Include stress in log.\n",
    "\n",
    "    peratom=False: Write energies per atom.\n",
    "\n",
    "    mode=\"a\":      How the file is opened if logfile is a filename.\n",
    "    \"\"\"\n",
    "    def __init__(self, dyn, atoms, logfile, header=True, stress=False,\n",
    "                 peratom=False, mode=\"a\"):\n",
    "        import ase.parallel\n",
    "        import weakref\n",
    "        import sys\n",
    "        if ase.parallel.world.rank > 0:\n",
    "            logfile=\"/dev/null\"  # Only log on master\n",
    "        if hasattr(dyn, \"get_time\"):\n",
    "            self.dyn = weakref.proxy(dyn)\n",
    "        else:\n",
    "            self.dyn = None\n",
    "        self.atoms = atoms\n",
    "        global_natoms = atoms.get_global_number_of_atoms()\n",
    "        if logfile == \"-\":\n",
    "            self.logfile = sys.stdout\n",
    "            self.ownlogfile = False\n",
    "        elif hasattr(logfile, \"write\"):\n",
    "            self.logfile = logfile\n",
    "            self.ownlogfile = False\n",
    "        else:\n",
    "            self.logfile = open(logfile, mode, 1)\n",
    "            self.ownlogfile = True\n",
    "        self.stress = stress\n",
    "        self.peratom = peratom\n",
    "        if self.dyn is not None:\n",
    "            self.hdr = \"%-9s \" % (\"Time[ps]\",)\n",
    "            self.fmt = \"%-10.4f \"\n",
    "        else:\n",
    "            self.hdr = \"\"\n",
    "            self.fmt = \"\"\n",
    "        if self.peratom:\n",
    "            self.hdr += \"%12s %12s %12s %12s %12s %12s  %6s\" % (\"Etot/N[eV]\", \"Epot/N[eV]\",\n",
    "                                                 \"Ekin/N[eV]\", \"Volume[A^3]\", \"MSD\", \"P[GPa]\", \"T[K]\")\n",
    "            self.fmt += \"%12.4f %12.4f %12.4f %12.4f %12.4f %12.4f %6.1f\"\n",
    "        else:\n",
    "            self.hdr += \"%12s %12s %12s   %6s\" % (\"Etot[eV]\", \"Epot[eV]\",\n",
    "                                                 \"Ekin[eV]\", \"T[K]\")\n",
    "            # Choose a sensible number of decimals\n",
    "            if global_natoms <= 100:\n",
    "                digits = 4\n",
    "            elif global_natoms <= 1000:\n",
    "                digits = 3\n",
    "            elif global_natoms <= 10000:\n",
    "                digits = 2\n",
    "            else:\n",
    "                digits = 1\n",
    "            self.fmt += 3*(\"%%12.%df \" % (digits,)) + \" %6.1f\"\n",
    "        if self.stress:\n",
    "            self.hdr += \"      ---------------------- stress [GPa] -----------------------\"\n",
    "            self.fmt += 6*\" %10.3f\"\n",
    "        self.fmt += \"\\n\"\n",
    "        if header:\n",
    "            self.logfile.write(self.hdr+\"\\n\")\n",
    "\n",
    "    def __del__(self):\n",
    "        self.close()\n",
    "\n",
    "    def close(self):\n",
    "        if self.ownlogfile:\n",
    "            self.logfile.close()\n",
    "\n",
    "    def __call__(self):\n",
    "        epot = self.atoms.get_potential_energy()\n",
    "        ekin = self.atoms.get_kinetic_energy()\n",
    "        global_natoms = self.atoms.get_global_number_of_atoms()\n",
    "        temp = ekin / (1.5 * units.kB * global_natoms)\n",
    "        vol = self.atoms.get_volume()\n",
    "        stress = tuple(self.atoms.get_stress(include_ideal_gas=True) / units.GPa)\n",
    "        press = -sum(stress[:4])/3\n",
    "        msd = 0.0\n",
    "        if self.peratom:\n",
    "            epot /= global_natoms\n",
    "            ekin /= global_natoms\n",
    "        if self.dyn is not None:\n",
    "            t = self.dyn.get_time() / (1000*units.fs)\n",
    "            dat = (t,)\n",
    "        else:\n",
    "            dat = ()\n",
    "        dat += (epot+ekin, epot, ekin, vol, msd, press, temp)\n",
    "        if self.stress:\n",
    "            dat += tuple(self.atoms.get_stress(include_ideal_gas=True) / units.GPa)\n",
    "        self.logfile.write(self.fmt % dat)\n",
    "        self.logfile.flush()"
   ],
   "metadata": {
    "collapsed": false,
    "pycharm": {
     "name": "#%%\n"
    }
   }
  },
  {
   "cell_type": "code",
   "execution_count": 7,
   "outputs": [
    {
     "name": "stdout",
     "output_type": "stream",
     "text": [
      "Training set structure count: 281\n",
      "Validation set structure count: 70\n",
      "Read configs, now fixing virials\n",
      "Config labels: ['amorph', 'liq', 'hiT_liq', 'hiT_amorph', 'inter']\n",
      "Load successful\n",
      "data_dict:  dict_keys(['QM_E_t', 'QM_F_t', 'QM_V_t', 'GAP_E_t', 'GAP_F_t', 'GAP_V_t', 'E_err_t', 'F_err_t', 'V_err_t', 'E_rmse_t', 'F_rmse_t', 'V_rmse_t', 'QM_E_v', 'QM_F_v', 'QM_V_v', 'GAP_E_v', 'GAP_F_v', 'GAP_V_v', 'E_err_v', 'F_err_v', 'V_err_v', 'E_rmse_v', 'F_rmse_v', 'V_rmse_v'])\n"
     ]
    }
   ],
   "source": [
    "d155_ve4 = GAP(train_file, val_file, pot_ve4)\n",
    "d155_ve4.load('/Users/Moji/Documents/Summer20/Ge/Pickles/d155_ve4')"
   ],
   "metadata": {
    "collapsed": false,
    "pycharm": {
     "name": "#%%\n"
    }
   }
  },
  {
   "cell_type": "code",
   "execution_count": 8,
   "outputs": [],
   "source": [
    "f_GV = [np.reshape(t := np.array(d155_ve4.data_dict['GAP_F_v'][i]),\n",
    "                    (len(t)//3, 3)) for i in range(5)]"
   ],
   "metadata": {
    "collapsed": false,
    "pycharm": {
     "name": "#%%\n"
    }
   }
  },
  {
   "cell_type": "code",
   "execution_count": 9,
   "outputs": [],
   "source": [
    "f_QV = [np.reshape(np.array(t := d155_ve4.data_dict['QM_F_v'][i]),\n",
    "                                       (len(t)//3, 3)) for i in range(5)]\n"
   ],
   "metadata": {
    "collapsed": false,
    "pycharm": {
     "name": "#%%\n"
    }
   }
  },
  {
   "cell_type": "code",
   "execution_count": 10,
   "outputs": [],
   "source": [
    "mag_G = [np.linalg.norm(i, axis=1) for i in f_GV]\n",
    "mag_Q = [np.linalg.norm(i, axis=1) for i in f_QV]"
   ],
   "metadata": {
    "collapsed": false,
    "pycharm": {
     "name": "#%%\n"
    }
   }
  },
  {
   "cell_type": "code",
   "execution_count": 25,
   "outputs": [
    {
     "data": {
      "text/plain": "[<matplotlib.lines.Line2D at 0x1341600a0>]"
     },
     "execution_count": 25,
     "metadata": {},
     "output_type": "execute_result"
    },
    {
     "data": {
      "text/plain": "<Figure size 432x288 with 1 Axes>",
      "image/png": "[encoded data removed]"
     },
     "metadata": {
      "needs_background": "light"
     },
     "output_type": "display_data"
    }
   ],
   "source": [
    "fig, axs = plt.subplots()\n",
    "axs.scatter(Q := flatten(mag_Q), ferr := np.array(flatten([mag_G[i] - mag_Q[i] for i in range(len(mag_G))])),  s=2)\n",
    "lin = list(sci.stats.linregress(Q, ferr))\n",
    "axs.plot(x := np.linspace(0,5,100), lin[0]*x + lin[1], color='k', zorder=1)\n",
    "axs.plot(x, (lin[0]+lin[-1])*x + lin[1], color='k', zorder=1, alpha=0.3)\n",
    "axs.plot(x, (lin[0]-lin[-1])*x + lin[1], color='k', zorder=1, alpha=0.3)"
   ],
   "metadata": {
    "collapsed": false,
    "pycharm": {
     "name": "#%%\n"
    }
   }
  },
  {
   "cell_type": "code",
   "execution_count": 24,
   "outputs": [
    {
     "data": {
      "text/plain": "LinregressResult(slope=-0.020792980232640663, intercept=0.03620412954303435, rvalue=-0.09102176695837612, pvalue=1.6039158061639204e-13, stderr=0.0028121810846007864)"
     },
     "execution_count": 24,
     "metadata": {},
     "output_type": "execute_result"
    }
   ],
   "source": [
    "sci.stats.linregress(Q, ferr)"
   ],
   "metadata": {
    "collapsed": false,
    "pycharm": {
     "name": "#%%\n"
    }
   }
  },
  {
   "cell_type": "code",
   "execution_count": 78,
   "outputs": [
    {
     "data": {
      "text/plain": "<matplotlib.lines.Line2D at 0x11aa44ac0>"
     },
     "execution_count": 78,
     "metadata": {},
     "output_type": "execute_result"
    },
    {
     "data": {
      "text/plain": "<Figure size 432x288 with 1 Axes>",
      "image/png": "[encoded data removed]"
     },
     "metadata": {
      "needs_background": "light"
     },
     "output_type": "display_data"
    }
   ],
   "source": [
    "fig, axs = plt.subplots()\n",
    "axs.hist(np.array(t := flatten([mag_G[i] - mag_Q[i] for i in range(len(mag_G))])), bins=50, zorder=0.5)\n",
    "axs.axvline(av := np.average(t), color='k', zorder=1)\n",
    "axs.axvline(np.std(t) + av, zorder=1, color='k')\n",
    "axs.axvline(-np.std(t) + av, zorder = 1, color='k')"
   ],
   "metadata": {
    "collapsed": false,
    "pycharm": {
     "name": "#%%\n"
    }
   }
  },
  {
   "cell_type": "code",
   "execution_count": 18,
   "outputs": [
    {
     "data": {
      "text/plain": "[<quippy.potential.Potential at 0x124e09220>,\n <quippy.potential.Potential at 0x124e096d0>,\n <quippy.potential.Potential at 0x124e09760>,\n <quippy.potential.Potential at 0x124e09850>,\n <quippy.potential.Potential at 0x1252d20d0>,\n <quippy.potential.Potential at 0x1252d27f0>,\n <quippy.potential.Potential at 0x1252d2280>,\n <quippy.potential.Potential at 0x1252d2220>]"
     },
     "execution_count": 18,
     "metadata": {},
     "output_type": "execute_result"
    }
   ],
   "source": [
    "'''validation factory here: create GAP objects for all of the potentials tested with Volker,\n",
    "save for future use (consider doing this on the cluster) and begin statistical analysis of the\n",
    "forces to see if we can find a correlation between good/poor behaviour. First for liquids, then for\n",
    "amorphous.'''\n",
    "param_explore = '/Users/Moji/Documents/Summer20/Ge/Potentials/parameter_explore/'\n",
    "pots = [Potential(param_filename=(param_explore + i)) for i in os.listdir(param_explore) if i[-3:] == 'xml']\n",
    "pots"
   ],
   "metadata": {
    "collapsed": false,
    "pycharm": {
     "name": "#%%\n"
    }
   }
  },
  {
   "cell_type": "code",
   "execution_count": 22,
   "outputs": [
    {
     "name": "stdout",
     "output_type": "stream",
     "text": [
      "Training set structure count: 281\n",
      "Validation set structure count: 70\n",
      "Read configs, now fixing virials\n",
      "Config labels: ['amorph', 'liq', 'hiT_liq', 'hiT_amorph', 'inter']\n",
      "Training set structure count: 281\n",
      "Validation set structure count: 70\n",
      "Read configs, now fixing virials\n",
      "Config labels: ['amorph', 'liq', 'hiT_liq', 'hiT_amorph', 'inter']\n",
      "Training set structure count: 281\n",
      "Validation set structure count: 70\n",
      "Read configs, now fixing virials\n",
      "Config labels: ['amorph', 'liq', 'hiT_liq', 'hiT_amorph', 'inter']\n",
      "Training set structure count: 281\n",
      "Validation set structure count: 70\n",
      "Read configs, now fixing virials\n",
      "Config labels: ['amorph', 'liq', 'hiT_liq', 'hiT_amorph', 'inter']\n",
      "Training set structure count: 281\n",
      "Validation set structure count: 70\n",
      "Read configs, now fixing virials\n",
      "Config labels: ['amorph', 'liq', 'hiT_liq', 'hiT_amorph', 'inter']\n",
      "Training set structure count: 281\n",
      "Validation set structure count: 70\n",
      "Read configs, now fixing virials\n",
      "Config labels: ['amorph', 'liq', 'hiT_liq', 'hiT_amorph', 'inter']\n",
      "Training set structure count: 281\n",
      "Validation set structure count: 70\n",
      "Read configs, now fixing virials\n",
      "Config labels: ['amorph', 'liq', 'hiT_liq', 'hiT_amorph', 'inter']\n",
      "Training set structure count: 281\n",
      "Validation set structure count: 70\n",
      "Read configs, now fixing virials\n",
      "Config labels: ['amorph', 'liq', 'hiT_liq', 'hiT_amorph', 'inter']\n"
     ]
    }
   ],
   "source": [
    "GAPS = [GAP(train_file, val_file, pot=i) for i in pots]\n"
   ],
   "metadata": {
    "collapsed": false,
    "pycharm": {
     "name": "#%%\n"
    }
   }
  },
  {
   "cell_type": "code",
   "execution_count": 26,
   "outputs": [
    {
     "name": "stdout",
     "output_type": "stream",
     "text": [
      "Config amorph done\n",
      "Config liq done\n",
      "Config hiT_liq done\n",
      "Config hiT_amorph done\n",
      "Config inter done\n",
      "Config amorph done\n",
      "Config liq done\n",
      "Config hiT_liq done\n",
      "Config hiT_amorph done\n",
      "Config inter done\n",
      "--- 606.0859799385071 seconds ---\n",
      "Config amorph done\n",
      "Config liq done\n",
      "Config hiT_liq done\n",
      "Config hiT_amorph done\n",
      "Config inter done\n",
      "Config amorph done\n",
      "Config liq done\n",
      "Config hiT_liq done\n",
      "Config hiT_amorph done\n",
      "Config inter done\n",
      "--- 517.1069350242615 seconds ---\n",
      "Config amorph done\n",
      "Config liq done\n",
      "Config hiT_liq done\n",
      "Config hiT_amorph done\n",
      "Config inter done\n",
      "Config amorph done\n",
      "Config liq done\n",
      "Config hiT_liq done\n",
      "Config hiT_amorph done\n",
      "Config inter done\n",
      "--- 500.55546283721924 seconds ---\n",
      "Config amorph done\n",
      "Config liq done\n",
      "Config hiT_liq done\n",
      "Config hiT_amorph done\n",
      "Config inter done\n",
      "Config amorph done\n",
      "Config liq done\n",
      "Config hiT_liq done\n",
      "Config hiT_amorph done\n",
      "Config inter done\n",
      "--- 525.7846360206604 seconds ---\n",
      "Config amorph done\n",
      "Config liq done\n",
      "Config hiT_liq done\n",
      "Config hiT_amorph done\n",
      "Config inter done\n",
      "Config amorph done\n",
      "Config liq done\n",
      "Config hiT_liq done\n",
      "Config hiT_amorph done\n",
      "Config inter done\n",
      "--- 540.6613159179688 seconds ---\n",
      "Config amorph done\n",
      "Config liq done\n",
      "Config hiT_liq done\n",
      "Config hiT_amorph done\n",
      "Config inter done\n",
      "Config amorph done\n",
      "Config liq done\n",
      "Config hiT_liq done\n",
      "Config hiT_amorph done\n",
      "Config inter done\n",
      "--- 554.0186331272125 seconds ---\n",
      "Config amorph done\n",
      "Config liq done\n",
      "Config hiT_liq done\n",
      "Config hiT_amorph done\n",
      "Config inter done\n",
      "Config amorph done\n",
      "Config liq done\n",
      "Config hiT_liq done\n",
      "Config hiT_amorph done\n",
      "Config inter done\n",
      "--- 514.3376829624176 seconds ---\n",
      "Config amorph done\n",
      "Config liq done\n",
      "Config hiT_liq done\n",
      "Config hiT_amorph done\n",
      "Config inter done\n",
      "Config amorph done\n",
      "Config liq done\n",
      "Config hiT_liq done\n",
      "Config hiT_amorph done\n",
      "Config inter done\n",
      "--- 498.6650319099426 seconds ---\n"
     ]
    }
   ],
   "source": [
    "for i in GAPS:\n",
    "    i.calc()"
   ],
   "metadata": {
    "collapsed": false,
    "pycharm": {
     "name": "#%%\n"
    }
   }
  },
  {
   "cell_type": "code",
   "execution_count": 29,
   "outputs": [
    {
     "name": "stdout",
     "output_type": "stream",
     "text": [
      "New order:  ['amorph', 'hiT_amorph', 'inter', 'liq', 'hiT_liq']\n",
      "New order:  ['amorph', 'hiT_amorph', 'inter', 'liq', 'hiT_liq']\n",
      "New order:  ['amorph', 'hiT_amorph', 'inter', 'liq', 'hiT_liq']\n",
      "New order:  ['amorph', 'hiT_amorph', 'inter', 'liq', 'hiT_liq']\n",
      "New order:  ['amorph', 'hiT_amorph', 'inter', 'liq', 'hiT_liq']\n",
      "New order:  ['amorph', 'hiT_amorph', 'inter', 'liq', 'hiT_liq']\n",
      "New order:  ['amorph', 'hiT_amorph', 'inter', 'liq', 'hiT_liq']\n",
      "New order:  ['amorph', 'hiT_amorph', 'inter', 'liq', 'hiT_liq']\n"
     ]
    }
   ],
   "source": [
    "for i in GAPS:\n",
    "    i.analyse(sorted_order=[0, 3, 4, 1, 2])"
   ],
   "metadata": {
    "collapsed": false,
    "pycharm": {
     "name": "#%%\n"
    }
   }
  },
  {
   "cell_type": "code",
   "execution_count": 33,
   "outputs": [],
   "source": [
    "for i, val in enumerate(GAPS):\n",
    "    val.save('/Users/Moji/Documents/Summer20/Ge/Pickles/GAPS/pot' + str(i))\n"
   ],
   "metadata": {
    "collapsed": false,
    "pycharm": {
     "name": "#%%\n"
    }
   }
  },
  {
   "cell_type": "code",
   "execution_count": 34,
   "outputs": [],
   "source": [
    "f_GV = [[np.reshape(t := np.array(j.data_dict['GAP_F_v'][i]),\n",
    "                    (len(t)//3, 3)) for i in range(5)] for j in GAPS]"
   ],
   "metadata": {
    "collapsed": false,
    "pycharm": {
     "name": "#%%\n"
    }
   }
  },
  {
   "cell_type": "code",
   "execution_count": 35,
   "outputs": [],
   "source": [
    "f_QV = [[np.reshape(np.array(t := j.data_dict['QM_F_v'][i]),\n",
    "                                       (len(t)//3, 3)) for i in range(5)] for j in GAPS]\n"
   ],
   "metadata": {
    "collapsed": false,
    "pycharm": {
     "name": "#%%\n"
    }
   }
  },
  {
   "cell_type": "code",
   "execution_count": 36,
   "outputs": [],
   "source": [
    "mag_G = [[np.linalg.norm(i, axis=1) for i in j] for j in f_GV]\n",
    "mag_Q = [[np.linalg.norm(i, axis=1) for i in j ] for j in f_QV]\n"
   ],
   "metadata": {
    "collapsed": false,
    "pycharm": {
     "name": "#%%\n"
    }
   }
  },
  {
   "cell_type": "code",
   "execution_count": 58,
   "outputs": [
    {
     "data": {
      "text/plain": "<matplotlib.legend.Legend at 0x1391def40>"
     },
     "execution_count": 58,
     "metadata": {},
     "output_type": "execute_result"
    },
    {
     "data": {
      "text/plain": "<Figure size 720x720 with 1 Axes>",
      "image/png": "[encoded data removed]"
     },
     "metadata": {
      "needs_background": "light"
     },
     "output_type": "display_data"
    }
   ],
   "source": [
    "fig, axs = plt.subplots(figsize=(10,10))\n",
    "\n",
    "for i, val in enumerate(GAPS):\n",
    "    color = next(axs._get_lines.prop_cycler)['color']\n",
    "    axs.scatter(Q := flatten(mag_Q[i]),\n",
    "                ferr := np.array(flatten([mag_G[i][j] - mag_Q[i][j] for j in range(len(mag_G[i]))])),\n",
    "                color=color, s=2, label=val.name)\n",
    "    lin = list(sci.stats.linregress(Q, ferr))\n",
    "    axs.plot(x := np.linspace(0,5,100), lin[0]*x + lin[1], zorder=1, color=color)\n",
    "    axs.plot(x, (lin[0]+lin[-1])*x + lin[1], zorder=1, alpha=0.3, color=color)\n",
    "    axs.plot(x, (lin[0]-lin[-1])*x + lin[1], zorder=1, alpha=0.3, color=color)\n",
    "axs.legend()"
   ],
   "metadata": {
    "collapsed": false,
    "pycharm": {
     "name": "#%%\n"
    }
   }
  },
  {
   "cell_type": "code",
   "execution_count": 55,
   "outputs": [
    {
     "name": "stdout",
     "output_type": "stream",
     "text": [
      "as5_ds002_vT\n",
      "as75_ds01_vT\n",
      "as5_ds002_vF\n",
      "as75_ds01_vF\n",
      "as5_ds01_vF\n",
      "as5_ds01_vT\n",
      "as75_ds002_vT\n",
      "as75_ds002_vF\n"
     ]
    }
   ],
   "source": [
    "a=0\n",
    "for ct, i in enumerate(os.listdir(param_explore)):\n",
    "    if i[-3:] == 'xml':\n",
    "        GAPS[a].name = i[:-4]\n",
    "        print(GAPS[a].name)\n",
    "        a += 1"
   ],
   "metadata": {
    "collapsed": false,
    "pycharm": {
     "name": "#%%\n"
    }
   }
  },
  {
   "cell_type": "code",
   "execution_count": 52,
   "outputs": [
    {
     "ename": "AttributeError",
     "evalue": "'Potential' object has no attribute 'set_name'",
     "output_type": "error",
     "traceback": [
      "\u001B[0;31m---------------------------------------------------------------------------\u001B[0m",
      "\u001B[0;31mAttributeError\u001B[0m                            Traceback (most recent call last)",
      "\u001B[0;32m<ipython-input-52-c9c950b7e7d4>\u001B[0m in \u001B[0;36m<module>\u001B[0;34m\u001B[0m\n\u001B[0;32m----> 1\u001B[0;31m \u001B[0mGAPS\u001B[0m\u001B[0;34m[\u001B[0m\u001B[0;36m0\u001B[0m\u001B[0;34m]\u001B[0m\u001B[0;34m.\u001B[0m\u001B[0mpot\u001B[0m\u001B[0;34m.\u001B[0m\u001B[0mset_name\u001B[0m\u001B[0;34m\u001B[0m\u001B[0;34m\u001B[0m\u001B[0m\n\u001B[0m\u001B[1;32m      2\u001B[0m \u001B[0;34m\u001B[0m\u001B[0m\n",
      "\u001B[0;31mAttributeError\u001B[0m: 'Potential' object has no attribute 'set_name'"
     ]
    }
   ],
   "source": [
    "GAPS[0].pot.set_label"
   ],
   "metadata": {
    "collapsed": false,
    "pycharm": {
     "name": "#%%\n"
    }
   }
  },
  {
   "cell_type": "code",
   "execution_count": 60,
   "outputs": [
    {
     "data": {
      "text/plain": "'as5_ds002_vT'"
     },
     "execution_count": 60,
     "metadata": {},
     "output_type": "execute_result"
    }
   ],
   "source": [
    "GAPS[0].name"
   ],
   "metadata": {
    "collapsed": false,
    "pycharm": {
     "name": "#%%\n"
    }
   }
  },
  {
   "cell_type": "code",
   "execution_count": null,
   "outputs": [],
   "source": [
    "with open('')\n",
    "GAPS[0].data_dict"
   ],
   "metadata": {
    "collapsed": false,
    "pycharm": {
     "name": "#%%\n"
    }
   }
  },
  {
   "cell_type": "code",
   "execution_count": 19,
   "outputs": [],
   "source": [
    "\n",
    "for i in flatten(d155_v.T_configs):\n",
    "    i.set_calculator(d155_v.pot)"
   ],
   "metadata": {
    "collapsed": false,
    "pycharm": {
     "name": "#%%\n"
    }
   }
  },
  {
   "cell_type": "code",
   "execution_count": 17,
   "outputs": [
    {
     "data": {
      "text/plain": "1.8790230852514345"
     },
     "execution_count": 17,
     "metadata": {},
     "output_type": "execute_result"
    }
   ],
   "source": [
    "a = 160.22*np.average([np.trace(flatten(d155_v.data_dict['QM_V_t'])[i])/(3*flatten(d155_v.T_configs)[i].get_volume()) for i in range(len(d155_v.data_dict['QM_V_t']))])\n",
    "a"
   ],
   "metadata": {
    "collapsed": false,
    "pycharm": {
     "name": "#%%\n"
    }
   }
  },
  {
   "cell_type": "code",
   "execution_count": 20,
   "outputs": [
    {
     "name": "stdout",
     "output_type": "stream",
     "text": [
      "hi\n"
     ]
    }
   ],
   "source": [
    "print('hi')"
   ],
   "metadata": {
    "collapsed": false,
    "pycharm": {
     "name": "#%%\n"
    }
   }
  },
  {
   "cell_type": "code",
   "execution_count": 18,
   "outputs": [
    {
     "data": {
      "text/plain": "280"
     },
     "execution_count": 18,
     "metadata": {},
     "output_type": "execute_result"
    }
   ],
   "source": [
    "len(flatten(d155_v.data_dict['QM_V_t']))"
   ],
   "metadata": {
    "collapsed": false,
    "pycharm": {
     "name": "#%%\n"
    }
   }
  },
  {
   "cell_type": "code",
   "execution_count": 14,
   "outputs": [
    {
     "data": {
      "text/plain": "0.32"
     },
     "execution_count": 14,
     "metadata": {},
     "output_type": "execute_result"
    }
   ],
   "source": [
    "20/1000*160\n"
   ],
   "metadata": {
    "collapsed": false,
    "pycharm": {
     "name": "#%%\n"
    }
   }
  },
  {
   "cell_type": "code",
   "execution_count": 15,
   "outputs": [
    {
     "data": {
      "text/plain": "280"
     },
     "execution_count": 15,
     "metadata": {},
     "output_type": "execute_result"
    }
   ],
   "source": [
    "len(flatten(d155_v.T_configs))\n"
   ],
   "metadata": {
    "collapsed": false,
    "pycharm": {
     "name": "#%%\n"
    }
   }
  },
  {
   "cell_type": "code",
   "execution_count": null,
   "outputs": [],
   "source": [],
   "metadata": {
    "collapsed": false,
    "pycharm": {
     "name": "#%%\n"
    }
   }
  }
 ],
 "metadata": {
  "kernelspec": {
   "name": "quip",
   "language": "python",
   "display_name": "QUIP"
  },
  "language_info": {
   "codemirror_mode": {
    "name": "ipython",
    "version": 2
   },
   "file_extension": ".py",
   "mimetype": "text/x-python",
   "name": "python",
   "nbconvert_exporter": "python",
   "pygments_lexer": "ipython2",
   "version": "2.7.6"
  }
 },
 "nbformat": 4,
 "nbformat_minor": 0
}