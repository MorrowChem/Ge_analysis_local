{
 "cells": [
  {
   "cell_type": "code",
   "execution_count": null,
   "outputs": [],
   "source": [
    "import numpy as np\n",
    "import ase\n",
    "import os\n",
    "import numpy as np\n",
    "import matplotlib.pyplot as plt\n",
    "\n",
    "from ase import io\n",
    "from ase.geometry.analysis import Analysis\n",
    "from ase import build\n",
    "from ase.neighborlist import neighbor_list\n",
    "from ase import Atoms\n",
    "from ase.io import write, read\n",
    "import re\n",
    "from quippy.potential import Potential\n",
    "import pickle\n",
    "os.chdir('/Users/Moji/Documents/Summer20/Ge')\n",
    "\n",
    "flatten = lambda l: [item for sublist in l for item in sublist]"
   ],
   "metadata": {
    "collapsed": false,
    "pycharm": {
     "name": "#%%\n"
    }
   }
  },
  {
   "cell_type": "code",
   "execution_count": null,
   "outputs": [],
   "source": [
    "amo = [ase.Atoms(io.read('/Users/Moji/Documents/Summer20/Ge/MD_runs/2bSOAP_5000_125_216_cdr/run_64001/NPT/dump_npt_Ge_gap.' + str(i)\n",
    "                         + '.cfg')) for i in range(220000, 240000, 1000)]\n",
    "hiT_amo = [ase.Atoms(io.read('/Users/Moji/Documents/Summer20/Ge/MD_runs/2bSOAP_5000_125_216_cdr/run_64001/NPT/dump_npt_Ge_gap.' + str(i)\n",
    "                                  + '.cfg')) for i in range(180000, 220000, 1000)]\n",
    "inter = [ase.Atoms(io.read('/Users/Moji/Documents/Summer20/Ge/MD_runs/2bSOAP_5000_125_216_cdr/run_64001/NPT/dump_npt_Ge_gap.' + str(i)\n",
    "                                  + '.cfg')) for i in range(140000, 180000, 1000)]\n",
    "liquid = [ase.Atoms(io.read('/Users/Moji/Documents/Summer20/Ge/MD_runs/2bSOAP_5000_125_216_cdr/run_64001/NPT/dump_npt_Ge_gap.'\n",
    "                            + str(i) + '.cfg')) for i in range(60000, 140000, 1000)]\n",
    "hiT_liq = [ase.Atoms(io.read('/Users/Moji/Documents/Summer20/Ge/MD_runs/2bSOAP_5000_125_216_cdr/run_64001/NPT/dump_npt_Ge_gap.'\n",
    "                            + str(i) + '.cfg')) for i in range(20000, 60000, 1000)]\n",
    "MD = [amo, hiT_amo, inter, liquid, hiT_liq]"
   ],
   "metadata": {
    "collapsed": false,
    "pycharm": {
     "name": "#%%\n"
    }
   }
  },
  {
   "cell_type": "code",
   "execution_count": null,
   "outputs": [],
   "source": [
    "dia = ase.Atoms(build.bulk('Ge', crystalstructure='diamond', cubic=True))\n",
    "dia_s = build.make_supercell(dia, [[2, 0, 0],\n",
    "                                  [0, 2, 0],\n",
    "                                  [0, 0, 2]])\n",
    "\n",
    "liq_ana = Analysis(liquid)\n",
    "amo_ana = Analysis(amo)\n",
    "dia_ana = Analysis(dia_s)\n",
    "liq_3b_ana = Analysis(liquid_3b)\n",
    "\n",
    "liq_rdf = np.average(liq_ana.get_rdf(4.9, 400), axis=0)\n",
    "amo_rdf = np.average(amo_ana.get_rdf(4.9, 400), axis=0)\n",
    "dia_rdf = np.average(dia_ana.get_rdf(4.9, 400), axis=0)\n",
    "liq_3b_rdf = np.average(liq_3b_ana.get_rdf(4.9, 400), axis=0)\n",
    "\n",
    "liq_n = [neighbor_list('i', i, cutoff=3.0) for i in liquid]\n",
    "liq_n = [neighbor_list('i', i, cutoff=3.0) for i in liquid_3b]\n",
    "amo_n = [neighbor_list('i', i, cutoff=3.0) for i in amo]\n",
    "dia_n = neighbor_list('i', dia_s, cutoff=3.0)\n",
    "\n",
    "\n",
    "np.average([np.bincount(i) for i in amo_n], axis=0)\n",
    "\n",
    "np.average([np.bincount(i) for i in liq_n], axis=0)\n",
    "\n",
    "dists = np.linspace(0, 4.9, 400)\n",
    "fig, axs = plt.subplots(figsize=(10,10))\n",
    "axs.scatter(dists, liq_rdf)\n",
    "axs.scatter(dists, amo_rdf)\n",
    "axs.scatter(dists, liq_3b_rdf)\n",
    "#axs.scatter(dists, dia_rdf)\n",
    "plt.show()"
   ],
   "metadata": {
    "collapsed": false,
    "pycharm": {
     "name": "#%%\n"
    }
   }
  },
  {
   "cell_type": "code",
   "execution_count": null,
   "outputs": [],
   "source": [
    "T_csize_dat = [[i for i in T_set if i.get_global_number_of_atoms() == 64],\n",
    "               [i for i in T_set if i.get_global_number_of_atoms() == 125],\n",
    "                [i for i in T_set if i.get_global_number_of_atoms() == 216]]\n",
    "T_qm_e_cs = [[at.info['dft_energy']/len(at) - zero_e for at in j] for j in T_csize_dat]\n",
    "T_qm_f_cs = [[i for at in j for i in at.get_array('dft_forces').flatten()] for j in T_csize_dat]"
   ],
   "metadata": {
    "collapsed": false,
    "pycharm": {
     "name": "#%%\n"
    }
   }
  },
  {
   "cell_type": "code",
   "execution_count": null,
   "outputs": [],
   "source": [
    "fig, axs = plt.subplots(figsize=(10,10))\n",
    "axs.hist(T_qm_e_cs, bins=50, stacked=True, label=['64','125','216'])\n",
    "plt.legend()\n",
    "plt.show()\n",
    "\n",
    "labels = [240, 120, 20, 180, 160]"
   ],
   "metadata": {
    "collapsed": false,
    "pycharm": {
     "name": "#%%\n"
    }
   }
  },
  {
   "cell_type": "code",
   "execution_count": null,
   "outputs": [],
   "source": [
    "ans2 = [[Analysis(j) for j in i] for i in T_configs_s]\n",
    "ans = [[Analysis(j) for j in i] for i in MD]\n",
    "rdf = [np.average(np.array([i.get_rdf(4.9, 400) for i in j]), axis=0) for j in ans]\n",
    "rdf2 = [np.average(np.array([i.get_rdf(4.9, 400) for i in j]), axis=0) for j in ans2]\n",
    "dists = np.linspace(0, 4.9, 400)"
   ],
   "metadata": {
    "collapsed": false,
    "pycharm": {
     "name": "#%%\n"
    }
   }
  },
  {
   "cell_type": "code",
   "execution_count": null,
   "outputs": [],
   "source": [
    "fig, axs = plt.subplots(1,2, figsize=(12,6))\n",
    "for i in range(len(rdf)):\n",
    "    axs[0].scatter(dists, rdf[i], label=lab_sort[i], s=8)\n",
    "    axs[1].scatter(dists, rdf2[i], label=lab_sort[i], s=8)\n",
    "\n",
    "axs[0].set(ylim=(-0.5,6))\n",
    "axs[1].set(ylim=(-0.5,6))\n",
    "axs[0].text(1,4,'Ge-GAP')\n",
    "axs[1].text(1,4,'Si-GAP')\n",
    "axs[0].legend()\n",
    "fig.show()\n",
    "fig.savefig('/Users/Moji/Documents/Summer20/Ge/Analysis/Si-Ge-GAP_rdfs.png')"
   ],
   "metadata": {
    "collapsed": false,
    "pycharm": {
     "name": "#%%\n"
    }
   }
  },
  {
   "cell_type": "code",
   "execution_count": null,
   "outputs": [],
   "source": [
    "lab_sort_rmse = ['{0:>4d}      {1:>5.2f}      {2:>5.3f}'.format(lab_sort[i],\n",
    "                  rms_dict(T_qm_energies_s[i],T_gap_energies_s[i])['rmse']*1000,\n",
    "                  rms_dict(T_qm_forces_s[i], T_gap_forces_s[i])['rmse'])\n",
    "                  for i in range(len(lab_sort))]"
   ],
   "metadata": {
    "collapsed": false,
    "pycharm": {
     "name": "#%%\n"
    }
   }
  },
  {
   "cell_type": "code",
   "execution_count": null,
   "outputs": [],
   "source": [
    "fig, axs = plt.subplots(1,2, figsize=(12,6))\n",
    "axs[1].hist(T_qm_forces, bins=500, stacked=False, label=lab_sort_rmse, histtype='step', density=False)\n",
    "axs[0].hist(T_qm_energies, bins=50, stacked=False, label=lab_sort_rmse, histtype='step', density=False)\n",
    "axs[1].set(xlabel='DFT Forces / eV/Å', xlim=(-5.0,5.0))\n",
    "axs[0].set(xlabel='DFT Energies per atom / eV', ylabel='Frequency')\n",
    "axs[0].legend(title = '    time     $E_{energy}$     $E_{forces}$')\n",
    "plt.show()\n",
    "fig.savefig('/Users/Moji/Documents/Summer20/Ge/Analysis/timestep_rmse.png')"
   ],
   "metadata": {
    "collapsed": false,
    "pycharm": {
     "name": "#%%\n"
    }
   }
  },
  {
   "cell_type": "code",
   "execution_count": null,
   "outputs": [],
   "source": [
    "fig, axs = plt.subplots(1,2, figsize=(12,6))\n",
    "axs[1].hist(T_qm_f_cs, bins=500, stacked=False, label=['64','125','216'], histtype='step', density=True)\n",
    "axs[0].hist(T_qm_e_cs, bins=50, stacked=False, label=['64','125','216'], histtype='step', density=True)\n",
    "axs[1].set(xlabel='DFT Forces / eV/Å', xlim=(-5.0,5.0))\n",
    "axs[0].set(xlabel='DFT Energies / eV', ylabel='Normalised frequency')\n",
    "plt.legend()\n",
    "plt.show()\n",
    "fig.savefig('/Users/Moji/Documents/Summer20/Ge/Analysis/normed_distribution_zoom.png')"
   ],
   "metadata": {
    "collapsed": false,
    "pycharm": {
     "name": "#%%\n"
    }
   }
  },
  {
   "cell_type": "code",
   "execution_count": null,
   "outputs": [],
   "source": [
    "fig, axs = plt.subplots(1,2, figsize=(12,6))\n",
    "axs[1].hist(T_qm_f_cs, bins=300, stacked=True, label=['64','125','216'])\n",
    "axs[0].hist(T_qm_e_cs, bins=50, stacked=True, label=['64','125','216'])\n",
    "axs[1].set(xlabel='DFT Forces / eV/Å')\n",
    "axs[0].set(xlabel='DFT Energies / eV', ylabel='Frequency')\n",
    "plt.legend()\n",
    "plt.show()\n",
    "fig.savefig('/Users/Moji/Documents/Summer20/Ge/Analysis/histogram.png')"
   ],
   "metadata": {
    "collapsed": false,
    "pycharm": {
     "name": "#%%\n"
    }
   }
  },
  {
   "cell_type": "code",
   "execution_count": null,
   "outputs": [],
   "source": [
    "import quippy\n",
    "from ase.build import bulk\n",
    "from ase.optimize import BFGS\n",
    "from ase.constraints import UnitCellFilter\n",
    "from ase.io.trajectory import Trajectory"
   ],
   "metadata": {
    "collapsed": false,
    "pycharm": {
     "name": "#%%\n"
    }
   }
  },
  {
   "cell_type": "code",
   "execution_count": null,
   "outputs": [],
   "source": [
    "hcp = bulk('Ge', 'hcp', a=2.991, b=2.991, c=4.35)\n",
    "dia = bulk('Ge', 'diamond', a=5.6)\n",
    "dia.set_calculator(gap)\n",
    "hcp.set_calculator(gap)\n",
    "print(hcp.get_total_energy()/len(hcp))\n",
    "print(dia.get_total_energy()/len(dia))\n",
    "diaf = UnitCellFilter(dia)\n",
    "d_dyn = BFGS(diaf, trajectory='/Users/Moji/Documents/Summer20/Ge/Analysis/dia.traj')\n",
    "d_dyn.run(fmax=0.05)\n",
    "hcpf = UnitCellFilter(hcp)\n",
    "h_dyn = BFGS(hcpf, trajectory='/Users/Moji/Documents/Summer20/Ge/Analysis/hcp.traj')\n",
    "h_dyn.run(fmax=0.05)\n",
    "hcp_traj = Trajectory('/Users/Moji/Documents/Summer20/Ge/Analysis/hcp.traj')\n",
    "dia_traj = Trajectory('/Users/Moji/Documents/Summer20/Ge/Analysis/dia.traj')\n",
    "hcp_opt = hcp_traj[-1]\n",
    "dia_opt = dia_traj[-1]\n",
    "\n",
    "hcp_opt.set_calculator(gap)\n",
    "dia_opt.set_calculator(gap)\n",
    "print(hcp_opt.get_total_energy()/len(hcp_opt), dia_opt.get_total_energy()/len(dia_opt))"
   ],
   "metadata": {
    "collapsed": false,
    "pycharm": {
     "name": "#%%\n"
    }
   }
  },
  {
   "cell_type": "code",
   "execution_count": null,
   "outputs": [],
   "source": [
    "desc = quippy.descriptors.Descriptor('soap average=T l_max=6 n_max=12 atom_sigma=0.5 zeta=4 \\\n",
    "                              cutoff=5.0 cutoff_transition_width=1.0 \\\n",
    "                              central_weight=1.0 n_sparse=5000 delta=0.1 \\\n",
    "                              f0=0.0 covariance_type=dot_product \\\n",
    "                              sparse_method=CUR_POINTS')\n",
    "\n",
    "'''energy_parameter_name=dft_energy force_parameter_name=dft_forces \\\n",
    "virial_parameter_name=NOT_USED \\\n",
    "sparse_jitter=1.0e-8 \\\n",
    "default_sigma={0.001 0.1 0.05 0.0}'''"
   ],
   "metadata": {
    "collapsed": false,
    "pycharm": {
     "name": "#%%\n"
    }
   }
  },
  {
   "cell_type": "code",
   "execution_count": null,
   "outputs": [],
   "source": [
    "np.shape(desc.calc(d155.V_configs[0][0])['data'])"
   ],
   "metadata": {
    "collapsed": false,
    "pycharm": {
     "name": "#%%\n"
    }
   }
  },
  {
   "cell_type": "code",
   "execution_count": null,
   "outputs": [],
   "source": [
    "descs = [desc.calc_descriptor(i) for i in flatten(d155.V_configs)]\n",
    "#MD_descs = [desc.calc_descriptor(i) for i in flatten(MD)]"
   ],
   "metadata": {
    "collapsed": false,
    "pycharm": {
     "name": "#%%\n"
    }
   }
  },
  {
   "cell_type": "code",
   "execution_count": null,
   "outputs": [],
   "source": [
    "tdat = descs #+ MD_descs"
   ],
   "metadata": {
    "collapsed": false,
    "pycharm": {
     "name": "#%%\n"
    }
   }
  },
  {
   "cell_type": "code",
   "execution_count": null,
   "outputs": [],
   "source": [
    "np.shape(tdat[0][0])"
   ],
   "metadata": {
    "collapsed": false,
    "pycharm": {
     "name": "#%%\n"
    }
   }
  },
  {
   "cell_type": "code",
   "execution_count": null,
   "outputs": [],
   "source": [
    "mat = np.array([[2-2*np.dot(i[0]**4, j[0]**4) for j in tdat] for i in tdat])"
   ],
   "metadata": {
    "collapsed": false,
    "pycharm": {
     "name": "#%%\n"
    }
   }
  },
  {
   "cell_type": "code",
   "execution_count": null,
   "outputs": [],
   "source": [
    "np.shape(mat)"
   ],
   "metadata": {
    "collapsed": false,
    "pycharm": {
     "name": "#%%\n"
    }
   }
  },
  {
   "cell_type": "code",
   "execution_count": null,
   "outputs": [],
   "source": [
    "configs = d155.V_configs\n",
    "config_flat_indices = [0]\n",
    "for i in configs:\n",
    "    config_flat_indices.append(len(i) + config_flat_indices[-1])\n",
    "\n",
    "config_flat_indices.append(None)"
   ],
   "metadata": {
    "collapsed": false,
    "pycharm": {
     "name": "#%%\n"
    }
   }
  },
  {
   "cell_type": "code",
   "execution_count": null,
   "outputs": [],
   "source": [
    "config = d155.V_configs\n",
    "\n",
    "symbols = ['x' for i in configs]\n",
    "colormap = plt.get_cmap('plasma')\n",
    "colors = [colormap(i) for i in np.linspace(0, 0.8, len(configs))]\n",
    "\n",
    "#colormap2 = plt.get_cmap('viridis')\n",
    "#colors.extend([colormap(i) for i in np.linspace(0, 0.8, len(labels[-len(MD):]))])"
   ],
   "metadata": {
    "collapsed": false,
    "pycharm": {
     "name": "#%%\n"
    }
   }
  },
  {
   "cell_type": "code",
   "execution_count": null,
   "outputs": [],
   "source": [
    "from sklearn import decomposition"
   ],
   "metadata": {
    "collapsed": false,
    "pycharm": {
     "name": "#%%\n"
    }
   }
  },
  {
   "cell_type": "code",
   "execution_count": null,
   "outputs": [],
   "source": [
    "pca = decomposition.PCA(n_components=2)\n",
    "pca.fit(mat)"
   ],
   "metadata": {
    "collapsed": false,
    "pycharm": {
     "name": "#%%\n"
    }
   }
  },
  {
   "cell_type": "code",
   "execution_count": null,
   "outputs": [],
   "source": [
    "map = pca.fit_transform(mat)"
   ],
   "metadata": {
    "collapsed": false,
    "pycharm": {
     "name": "#%%\n"
    }
   }
  },
  {
   "cell_type": "code",
   "execution_count": null,
   "outputs": [],
   "source": [
    "fig, ax = plt.subplots()\n",
    "cfi = config_flat_indices\n",
    "for i in range(len(config)):\n",
    "    ax.scatter(map.T[0][cfi[i]:cfi[i+1]], mat.T[1][cfi[i]:cfi[i+1]],\n",
    "               color=colors[i], label=d155.config_labels[i])\n",
    "ax.legend()\n",
    "fig.show()\n"
   ],
   "metadata": {
    "collapsed": false,
    "pycharm": {
     "name": "#%%\n"
    }
   }
  },
  {
   "cell_type": "code",
   "execution_count": null,
   "outputs": [],
   "source": [
    "fig, ax = plt.subplots()\n",
    "for i in range(len(ds)-1):\n",
    "    ax.scatter(map.T[0][ds[i]:ds[i+1]], mat.T[1][ds[i]:ds[i+1]],\n",
    "               color=colors[i], label=lab_sort[i], s=10, marker=symbols[i])\n",
    "ax.legend()\n",
    "ax.axes.get_xaxis().set_visible(False)\n",
    "ax.axes.get_yaxis().set_visible(False)\n",
    "fig.show()\n",
    "#fig.savefig('./Analysis/similarity_map_exp.png', dpi=300)"
   ],
   "metadata": {
    "collapsed": false,
    "pycharm": {
     "name": "#%%\n"
    }
   }
  },
  {
   "cell_type": "code",
   "execution_count": null,
   "outputs": [],
   "source": [
    "stress_t = []\n",
    "stress_Si = []\n",
    "for i in flatten(d155.data_dict['QM_V_t']):\n",
    "    stress_t.append(np.trace(i))\n",
    "for i in flatten(Si.data_dict['QM_V_t']):\n",
    "    if np.any(i):\n",
    "        stress_Si.append(np.trace(i))\n"
   ],
   "metadata": {
    "collapsed": false,
    "pycharm": {
     "name": "#%%\n"
    }
   }
  },
  {
   "cell_type": "code",
   "execution_count": null,
   "outputs": [],
   "source": [
    "fig, axs = plt.subplots()\n",
    "axs.hist(stress_Si, bins=10, density=True, label='Si')\n",
    "axs.hist(stress_t, bins=50, density=True, label='Ge')\n",
    "axs.axvline(0, color='k')\n",
    "axs.set(xlabel='Tr(Virial)')\n",
    "axs.legend()\n",
    "fig.show()\n",
    "fig.savefig('/Users/Moji/Documents/Summer20/Ge/Analysis/virial_dist.png')"
   ],
   "metadata": {
    "collapsed": false,
    "pycharm": {
     "name": "#%%\n"
    }
   }
  },
  {
   "cell_type": "code",
   "execution_count": null,
   "outputs": [],
   "source": [
    "\n",
    "T_set[0].info['dft_virial']"
   ],
   "metadata": {
    "collapsed": false,
    "pycharm": {
     "name": "#%%\n"
    }
   }
  },
  {
   "cell_type": "code",
   "execution_count": null,
   "outputs": [],
   "source": [
    "%load_ext autoreload\n",
    "%autoreload 2"
   ],
   "metadata": {
    "collapsed": false,
    "pycharm": {
     "name": "#%%\n"
    }
   }
  },
  {
   "cell_type": "code",
   "execution_count": null,
   "outputs": [],
   "source": [
    "from Ge_calculation import GAP\n",
    "from Ge_analysis import *\n",
    "\n",
    "data_dir = '/Users/Moji/Documents/Summer20/Ge/'\n",
    "train_file = data_dir + 'Structure_databases/train_216_125_64_v.xyz'\n",
    "val_file = data_dir + 'Structure_databases/validate_216_125_64_v.xyz'\n",
    "pickle_file = data_dir + 'Pickles/data_125_216_d155'\n",
    "pot = data_dir + 'Potentials/Ge_2bSOAP_5000_125_216_d155/Ge_2bSOAP_5000_125_216_d155.xml'\n",
    "pot_v = data_dir + 'Potentials/Ge_2bSOAP_5000_125_216_d155_v/Ge_2bSOAP_5000_125_216_d155_v.xml'\n",
    "pot_ve4 = data_dir + 'Potentials/Ge_2bSOAP_5000_125_216_d155_ve4/Ge_2bSOAP_5000_125_216_d155_ve4.xml'"
   ],
   "metadata": {
    "collapsed": false,
    "pycharm": {
     "name": "#%%\n"
    }
   }
  },
  {
   "cell_type": "code",
   "execution_count": null,
   "outputs": [],
   "source": [
    "Si_xyz = '/Users/Moji/Documents/Summer20/Ge/Si_GAP_training/libAtoms-silicon-testing-framework-fc252cb/models/GAP/gp_iter6_sparse9k.xml.xyz'"
   ],
   "metadata": {
    "collapsed": false,
    "pycharm": {
     "name": "#%%\n"
    }
   }
  },
  {
   "cell_type": "code",
   "execution_count": null,
   "outputs": [],
   "source": [
    "Si = GAP(Si_xyz, parameter_names=('dft_energy', 'dft_force', 'virial'))"
   ],
   "metadata": {
    "collapsed": false,
    "pycharm": {
     "name": "#%%\n"
    }
   }
  },
  {
   "cell_type": "code",
   "execution_count": null,
   "outputs": [],
   "source": [
    "d155_v = GAP(train_file, val_file, pot_v)"
   ],
   "metadata": {
    "collapsed": false,
    "pycharm": {
     "name": "#%%\n"
    }
   }
  },
  {
   "cell_type": "code",
   "execution_count": null,
   "outputs": [],
   "source": [
    "d155_v.calc()"
   ],
   "metadata": {
    "collapsed": false,
    "pycharm": {
     "name": "#%%\n"
    }
   }
  },
  {
   "cell_type": "code",
   "execution_count": null,
   "outputs": [],
   "source": [
    "d155 = GAP(train_file, val_file, pot)"
   ],
   "metadata": {
    "collapsed": false,
    "pycharm": {
     "name": "#%%\n"
    }
   }
  },
  {
   "cell_type": "code",
   "execution_count": null,
   "outputs": [],
   "source": [
    "d155.calc()"
   ],
   "metadata": {
    "collapsed": false,
    "pycharm": {
     "name": "#%%\n"
    }
   }
  },
  {
   "cell_type": "code",
   "execution_count": null,
   "outputs": [],
   "source": [
    "d155_v.analyse(train=True, sorted_order=[0,3,4,1,2])"
   ],
   "metadata": {
    "collapsed": false,
    "pycharm": {
     "name": "#%%\n"
    }
   }
  },
  {
   "cell_type": "code",
   "execution_count": null,
   "outputs": [],
   "source": [
    "d155.analyse(train=True, sorted_order=[0, 3, 4, 1, 2])"
   ],
   "metadata": {
    "collapsed": false,
    "pycharm": {
     "name": "#%%\n"
    }
   }
  },
  {
   "cell_type": "code",
   "execution_count": null,
   "outputs": [],
   "source": [
    "energy_error(d155)\n",
    "forces_error(d155)\n",
    "energy_error(d155_v)\n",
    "forces_error(d155_v)"
   ],
   "metadata": {
    "collapsed": false,
    "pycharm": {
     "name": "#%%\n"
    }
   }
  },
  {
   "cell_type": "code",
   "execution_count": null,
   "outputs": [],
   "source": [
    "virials_error(d155_v, file='/Users/Moji/Documents/Summer20/Ge/Analysis/virial_error_v.png')"
   ],
   "metadata": {
    "collapsed": false,
    "pycharm": {
     "name": "#%%\n"
    }
   }
  },
  {
   "cell_type": "code",
   "execution_count": null,
   "outputs": [],
   "source": [
    "abs_energy_error(d155)"
   ],
   "metadata": {
    "collapsed": false,
    "pycharm": {
     "name": "#%%\n"
    }
   }
  },
  {
   "cell_type": "code",
   "execution_count": null,
   "outputs": [],
   "source": [
    "abs_force_error(d155)"
   ],
   "metadata": {
    "collapsed": false,
    "pycharm": {
     "name": "#%%\n"
    }
   }
  },
  {
   "cell_type": "code",
   "execution_count": null,
   "outputs": [],
   "source": [
    "abs_virial_error(d155)"
   ],
   "metadata": {
    "collapsed": false,
    "pycharm": {
     "name": "#%%\n"
    }
   }
  },
  {
   "cell_type": "code",
   "execution_count": null,
   "outputs": [],
   "source": [
    "dens_error_plot(d155)"
   ],
   "metadata": {
    "collapsed": false,
    "pycharm": {
     "name": "#%%\n"
    }
   }
  },
  {
   "cell_type": "code",
   "execution_count": null,
   "outputs": [],
   "source": [
    "d155.save('/Users/Moji/Documents/Summer20/Ge/Pickles/d155')"
   ],
   "metadata": {
    "collapsed": false,
    "pycharm": {
     "name": "#%%\n"
    }
   }
  },
  {
   "cell_type": "code",
   "execution_count": null,
   "outputs": [],
   "source": [
    "d155_v.load('/Users/Moji/Documents/Summer20/Ge/Pickles/d155_v')"
   ],
   "metadata": {
    "collapsed": false,
    "pycharm": {
     "name": "#%%\n"
    }
   }
  },
  {
   "cell_type": "code",
   "execution_count": null,
   "outputs": [],
   "source": [
    "d155_v.save('/Users/Moji/Documents/Summer20/Ge/Pickles/d155_v')"
   ],
   "metadata": {
    "collapsed": false,
    "pycharm": {
     "name": "#%%\n"
    }
   }
  },
  {
   "cell_type": "code",
   "execution_count": 41,
   "outputs": [
    {
     "data": {
      "text/plain": "<Figure size 432x288 with 1 Axes>",
      "image/png": "[encoded data removed]"
     },
     "metadata": {
      "needs_background": "light"
     },
     "output_type": "display_data"
    }
   ],
   "source": [
    "dfig, dax = plt.subplots()\n",
    "energy_error(d155, ax=dax, by_config=False, color='r', rmse=False, label='d155')\n",
    "energy_error(d155_v, ax=dax, by_config=False, color='b', rmse=False, label='d155_v')\n",
    "energy_error(d155_ve4, ax=dax, by_config=False, color='g', rmse=False, label='d155_ve')\n",
    "dax.text(-4.65, -4.5, 'E RMSE Stdev / meV\\n{0:6.3f}   {1:6.3f}\\n{2:6.3f}   {3:6.3f}\\n{4:6.3f}   {5:6.3f}'.format(\n",
    "    np.average([i['rmse']*1000 for i in d155.data_dict['E_rmse_v']]),\n",
    "    np.average([i['std']*1000 for i in d155.data_dict['E_rmse_v']]),\n",
    "    np.average([i['rmse']*1000 for i in d155_v.data_dict['E_rmse_v']]),\n",
    "    np.average([i['std']*1000 for i in d155_v.data_dict['E_rmse_v']]),\n",
    "    np.average([i['rmse']*1000 for i in d155_ve4.data_dict['E_rmse_v']]),\n",
    "    np.average([i['std']*1000 for i in d155_ve4.data_dict['E_rmse_v']])))\n",
    "dfig.savefig('/Users/Moji/Documents/Summer20/Ge/Analysis/energy_errors.png')"
   ],
   "metadata": {
    "collapsed": false,
    "pycharm": {
     "name": "#%%\n"
    }
   }
  },
  {
   "cell_type": "code",
   "execution_count": null,
   "outputs": [],
   "source": [
    "d155.calc_similarity()"
   ],
   "metadata": {
    "collapsed": false,
    "pycharm": {
     "name": "#%%\n"
    }
   }
  },
  {
   "cell_type": "code",
   "execution_count": null,
   "outputs": [],
   "source": [
    "similarity_map(d155)"
   ],
   "metadata": {
    "collapsed": false,
    "pycharm": {
     "name": "#%%\n"
    }
   }
  },
  {
   "cell_type": "code",
   "execution_count": null,
   "outputs": [],
   "source": [
    "d155_ve4 = GAP(train_file, val_file, pot_ve4)\n",
    "d155_ve4.calc()\n",
    "d155_ve4.analyse(train=True, sorted_order=[0,3,4,1,2])"
   ],
   "metadata": {
    "collapsed": false,
    "pycharm": {
     "name": "#%%\n"
    }
   }
  },
  {
   "cell_type": "code",
   "execution_count": null,
   "outputs": [],
   "source": [
    "d155_ve4.save('/Users/Moji/Documents/Summer20/Ge/Pickles/d155_ve4')"
   ],
   "metadata": {
    "collapsed": false,
    "pycharm": {
     "name": "#%%\n"
    }
   }
  },
  {
   "cell_type": "code",
   "execution_count": null,
   "outputs": [],
   "source": [
    "energy_error(d155_ve4)"
   ],
   "metadata": {
    "collapsed": false,
    "pycharm": {
     "name": "#%%\n"
    }
   }
  },
  {
   "cell_type": "code",
   "execution_count": null,
   "outputs": [],
   "source": [],
   "metadata": {
    "collapsed": false,
    "pycharm": {
     "name": "#%%\n"
    }
   }
  }
 ],
 "metadata": {
  "kernelspec": {
   "name": "quip",
   "language": "python",
   "display_name": "QUIP"
  },
  "language_info": {
   "codemirror_mode": {
    "name": "ipython",
    "version": 2
   },
   "file_extension": ".py",
   "mimetype": "text/x-python",
   "name": "python",
   "nbconvert_exporter": "python",
   "pygments_lexer": "ipython2",
   "version": "2.7.6"
  }
 },
 "nbformat": 4,
 "nbformat_minor": 0
}