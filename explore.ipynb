{
 "cells": [
  {
   "cell_type": "code",
   "execution_count": 3,
   "outputs": [],
   "source": [
    "import numpy as np"
   ],
   "metadata": {
    "collapsed": false,
    "pycharm": {
     "name": "#%%\n"
    }
   }
  },
  {
   "cell_type": "code",
   "execution_count": 4,
   "outputs": [],
   "source": [
    "import ase\n",
    "import os\n",
    "import numpy as np\n",
    "import matplotlib.pyplot as plt\n",
    "\n",
    "from ase import io\n",
    "from ase.geometry.analysis import Analysis\n",
    "from ase import build\n",
    "from ase.neighborlist import neighbor_list\n",
    "\n",
    "os.chdir('/Users/Moji/Documents/Summer20/Ge')"
   ],
   "metadata": {
    "collapsed": false,
    "pycharm": {
     "name": "#%%\n"
    }
   }
  },
  {
   "cell_type": "code",
   "execution_count": 5,
   "outputs": [],
   "source": [
    "amo = [ase.Atoms(io.read('/Users/Moji/Documents/Summer20/Ge/MD_runs/2bSOAP_5000_125_216_cdr/run_64001/NPT/dump_npt_Ge_gap.' + str(i)\n",
    "                         + '.cfg')) for i in range(220000, 240000, 1000)]\n",
    "hiT_amo = [ase.Atoms(io.read('/Users/Moji/Documents/Summer20/Ge/MD_runs/2bSOAP_5000_125_216_cdr/run_64001/NPT/dump_npt_Ge_gap.' + str(i)\n",
    "                                  + '.cfg')) for i in range(180000, 220000, 1000)]\n",
    "inter = [ase.Atoms(io.read('/Users/Moji/Documents/Summer20/Ge/MD_runs/2bSOAP_5000_125_216_cdr/run_64001/NPT/dump_npt_Ge_gap.' + str(i)\n",
    "                                  + '.cfg')) for i in range(140000, 180000, 1000)]\n",
    "liquid = [ase.Atoms(io.read('/Users/Moji/Documents/Summer20/Ge/MD_runs/2bSOAP_5000_125_216_cdr/run_64001/NPT/dump_npt_Ge_gap.'\n",
    "                            + str(i) + '.cfg')) for i in range(60000, 140000, 1000)]\n",
    "hiT_liq = [ase.Atoms(io.read('/Users/Moji/Documents/Summer20/Ge/MD_runs/2bSOAP_5000_125_216_cdr/run_64001/NPT/dump_npt_Ge_gap.'\n",
    "                            + str(i) + '.cfg')) for i in range(20000, 60000, 1000)]"
   ],
   "metadata": {
    "collapsed": false,
    "pycharm": {
     "name": "#%%\n"
    }
   }
  },
  {
   "cell_type": "code",
   "execution_count": 6,
   "outputs": [],
   "source": [
    "MD = [amo, hiT_amo, inter, liquid, hiT_liq]"
   ],
   "metadata": {
    "collapsed": false,
    "pycharm": {
     "name": "#%%\n"
    }
   }
  },
  {
   "cell_type": "code",
   "execution_count": null,
   "outputs": [],
   "source": [
    "dia = ase.Atoms(build.bulk('Ge', crystalstructure='diamond', cubic=True))\n",
    "dia_s = build.make_supercell(dia, [[2, 0, 0],\n",
    "                                  [0, 2, 0],\n",
    "                                  [0, 0, 2]])\n",
    "\n",
    "liq_ana = Analysis(liquid)\n",
    "amo_ana = Analysis(amo)\n",
    "dia_ana = Analysis(dia_s)\n",
    "liq_3b_ana = Analysis(liquid_3b)\n",
    "\n",
    "liq_rdf = np.average(liq_ana.get_rdf(4.9, 400), axis=0)\n",
    "amo_rdf = np.average(amo_ana.get_rdf(4.9, 400), axis=0)\n",
    "dia_rdf = np.average(dia_ana.get_rdf(4.9, 400), axis=0)\n",
    "liq_3b_rdf = np.average(liq_3b_ana.get_rdf(4.9, 400), axis=0)\n",
    "\n",
    "liq_n = [neighbor_list('i', i, cutoff=3.0) for i in liquid]\n",
    "liq_n = [neighbor_list('i', i, cutoff=3.0) for i in liquid_3b]\n",
    "amo_n = [neighbor_list('i', i, cutoff=3.0) for i in amo]\n",
    "dia_n = neighbor_list('i', dia_s, cutoff=3.0)\n",
    "\n",
    "\n",
    "np.average([np.bincount(i) for i in amo_n], axis=0)\n",
    "\n",
    "np.average([np.bincount(i) for i in liq_n], axis=0)\n",
    "\n",
    "dists = np.linspace(0, 4.9, 400)\n",
    "fig, axs = plt.subplots(figsize=(10,10))\n",
    "axs.scatter(dists, liq_rdf)\n",
    "axs.scatter(dists, amo_rdf)\n",
    "axs.scatter(dists, liq_3b_rdf)\n",
    "#axs.scatter(dists, dia_rdf)\n",
    "plt.show()"
   ],
   "metadata": {
    "collapsed": false,
    "pycharm": {
     "name": "#%%\n"
    }
   }
  },
  {
   "cell_type": "code",
   "execution_count": 19,
   "outputs": [
    {
     "name": "stdout",
     "output_type": "stream",
     "text": [
      "Training set structure count: 281\n",
      "Validation set structure count: 70\n",
      "Config labels: ['amorph', 'liq', 'hiT_liq', 'hiT_amorph', 'inter']\n"
     ]
    }
   ],
   "source": [
    "from sys import path\n",
    "path.append('/Users/Moji/Applications/QUIP/build/darwin_x86_64_gfortran')\n",
    "from ase import Atoms\n",
    "from ase.io import write, read\n",
    "import re\n",
    "from quippy.potential import Potential\n",
    "\n",
    "data_dir = '/Users/Moji/Documents/Summer20/Ge/'\n",
    "gap = Potential(param_filename= data_dir + 'Potentials/Ge_2bSOAP_5000_125_216_condepreg/Ge_2bSOAP_5000_125_216_condepreg.xml')\n",
    "train_file = data_dir + 'Structure_databases/train_216_125_64_v.xyz'\n",
    "val_file = data_dir + 'Structure_databases/validate_216_125_64_v.xyz'\n",
    "T_ct = 0\n",
    "V_ct = 0\n",
    "with open(train_file) as f:\n",
    "    for i in f.readlines():\n",
    "        if re.match(\"^[1-9]+$\", i):\n",
    "            T_ct += 1\n",
    "print('Training set structure count:', T_ct)\n",
    "with open(val_file) as f:\n",
    "    for i in f.readlines():\n",
    "        if re.match(\"^[1-9]+$\", i):\n",
    "            V_ct += 1\n",
    "print('Validation set structure count:', V_ct)\n",
    "zero_e = read(train_file, format='extxyz', index=0).info['dft_energy']\n",
    "T_set = [read(train_file, format='extxyz', index=i) for i in range(1, T_ct)]\n",
    "V_set = [read(val_file, format='extxyz', index=i) for i in range(1, V_ct)]\n",
    "config_labels = []\n",
    "for i in T_set:\n",
    "    if not i.info['config_type'] in config_labels:\n",
    "        config_labels.append(i.info['config_type'])\n",
    "print('Config labels:', config_labels)\n",
    "T_configs = [[i for i in T_set if i.info['config_type'] == j] for j in config_labels]\n",
    "V_configs = [[i for i in V_set if i.info['config_type'] == j] for j in config_labels]\n",
    "\n",
    "def calc_gap_observables(data_base, gap):\n",
    "    '''Calculates GAP forces and energies by config_type'''\n",
    "    E = [[] for i in data_base]\n",
    "    F = [[] for i in data_base]\n",
    "    for i, val in enumerate(data_base):\n",
    "        for dba in val:\n",
    "            a = dba.copy()\n",
    "            a.set_calculator(gap)\n",
    "            E[i].append(a.get_total_energy()/len(a))\n",
    "            F[i].extend(a.get_forces().flatten())\n",
    "    return E, F\n",
    "\n",
    "flatten = lambda l: [item for sublist in l for item in sublist]\n",
    "\n",
    "T_qm_energies = [[at.info['dft_energy']/len(at) for at in j] for j in T_configs]\n",
    "V_qm_energies = [[at.info['dft_energy']/len(at) for at in j] for j in V_configs]\n",
    "T_qm_forces = [[i for at in j for i in at.get_array('dft_forces').flatten()] for j in T_configs]\n",
    "V_qm_forces = [[i for at in j for i in at.get_array('dft_forces').flatten()] for j in V_configs]"
   ],
   "metadata": {
    "collapsed": false,
    "pycharm": {
     "name": "#%%\n"
    }
   }
  },
  {
   "cell_type": "code",
   "execution_count": null,
   "outputs": [],
   "source": [
    "import pickle\n",
    "infile = open('/Users/Moji/Documents/Summer20/Ge/Pickles/data_2bSOAP5000_5c_125_216_cdr', 'rb')\n",
    "data_cdr = pickle.load(infile)\n",
    "T_gap_energies = data_cdr[0][3]\n",
    "T_gap_forces = data_cdr[0][4]"
   ],
   "metadata": {
    "collapsed": false,
    "pycharm": {
     "name": "#%%\n"
    }
   }
  },
  {
   "cell_type": "code",
   "execution_count": null,
   "outputs": [],
   "source": [
    "T_csize_dat = [[i for i in T_set if i.get_global_number_of_atoms() == 64],\n",
    "               [i for i in T_set if i.get_global_number_of_atoms() == 125],\n",
    "                [i for i in T_set if i.get_global_number_of_atoms() == 216]]\n",
    "T_qm_e_cs = [[at.info['dft_energy']/len(at) - zero_e for at in j] for j in T_csize_dat]\n",
    "T_qm_f_cs = [[i for at in j for i in at.get_array('dft_forces').flatten()] for j in T_csize_dat]"
   ],
   "metadata": {
    "collapsed": false,
    "pycharm": {
     "name": "#%%\n"
    }
   }
  },
  {
   "cell_type": "code",
   "execution_count": null,
   "outputs": [],
   "source": [
    "fig, axs = plt.subplots(figsize=(10,10))\n",
    "axs.hist(T_qm_e_cs, bins=50, stacked=True, label=['64','125','216'])\n",
    "plt.legend()\n",
    "plt.show()"
   ],
   "metadata": {
    "collapsed": false,
    "pycharm": {
     "name": "#%%\n"
    }
   }
  },
  {
   "cell_type": "code",
   "execution_count": 9,
   "outputs": [],
   "source": [
    "def rms_dict(x_ref, x_pred):\n",
    "    \"\"\" Takes two datasets of the same shape and returns a dictionary containing RMS error data\"\"\"\n",
    "\n",
    "    x_ref = np.array(x_ref)\n",
    "    x_pred = np.array(x_pred)\n",
    "\n",
    "    if np.shape(x_pred) != np.shape(x_ref):\n",
    "        raise ValueError('WARNING: not matching shapes in rms. Shapes: {0}, {1}'\n",
    "                         .format(np.shape(x_ref), np.shape(x_pred)))\n",
    "\n",
    "    error_2 = (x_ref - x_pred) ** 2\n",
    "\n",
    "    average = np.sqrt(np.average(error_2))\n",
    "    std_ = np.sqrt(np.var(error_2))\n",
    "\n",
    "    return {'rmse': average, 'std': std_}"
   ],
   "metadata": {
    "collapsed": false,
    "pycharm": {
     "name": "#%%\n"
    }
   }
  },
  {
   "cell_type": "code",
   "execution_count": 10,
   "outputs": [
    {
     "ename": "NameError",
     "evalue": "name 'T_gap_energies' is not defined",
     "output_type": "error",
     "traceback": [
      "\u001B[0;31m---------------------------------------------------------------------------\u001B[0m",
      "\u001B[0;31mNameError\u001B[0m                                 Traceback (most recent call last)",
      "\u001B[0;32m<ipython-input-10-ef342ec3d4d8>\u001B[0m in \u001B[0;36m<module>\u001B[0;34m\u001B[0m\n\u001B[1;32m      7\u001B[0m \u001B[0mT_qm_energies_s\u001B[0m \u001B[0;34m=\u001B[0m \u001B[0msort_by_timestep\u001B[0m\u001B[0;34m(\u001B[0m\u001B[0mT_qm_energies\u001B[0m\u001B[0;34m)\u001B[0m\u001B[0;34m\u001B[0m\u001B[0;34m\u001B[0m\u001B[0m\n\u001B[1;32m      8\u001B[0m \u001B[0mT_qm_forces_s\u001B[0m \u001B[0;34m=\u001B[0m \u001B[0msort_by_timestep\u001B[0m\u001B[0;34m(\u001B[0m\u001B[0mT_qm_forces\u001B[0m\u001B[0;34m)\u001B[0m\u001B[0;34m\u001B[0m\u001B[0;34m\u001B[0m\u001B[0m\n\u001B[0;32m----> 9\u001B[0;31m \u001B[0mT_gap_energies_s\u001B[0m \u001B[0;34m=\u001B[0m \u001B[0msort_by_timestep\u001B[0m\u001B[0;34m(\u001B[0m\u001B[0mT_gap_energies\u001B[0m\u001B[0;34m)\u001B[0m\u001B[0;34m\u001B[0m\u001B[0;34m\u001B[0m\u001B[0m\n\u001B[0m\u001B[1;32m     10\u001B[0m \u001B[0mT_gap_forces_s\u001B[0m \u001B[0;34m=\u001B[0m \u001B[0msort_by_timestep\u001B[0m\u001B[0;34m(\u001B[0m\u001B[0mT_gap_forces\u001B[0m\u001B[0;34m)\u001B[0m\u001B[0;34m\u001B[0m\u001B[0;34m\u001B[0m\u001B[0m\n\u001B[1;32m     11\u001B[0m \u001B[0mlab_sort\u001B[0m \u001B[0;34m=\u001B[0m \u001B[0msorted\u001B[0m\u001B[0;34m(\u001B[0m\u001B[0mlabels\u001B[0m\u001B[0;34m,\u001B[0m \u001B[0mreverse\u001B[0m\u001B[0;34m=\u001B[0m\u001B[0;32mTrue\u001B[0m\u001B[0;34m)\u001B[0m\u001B[0;34m\u001B[0m\u001B[0;34m\u001B[0m\u001B[0m\n",
      "\u001B[0;31mNameError\u001B[0m: name 'T_gap_energies' is not defined"
     ]
    }
   ],
   "source": [
    "def sort_by_timestep(d):\n",
    "    return sorted(d, key=lambda x: labels[d.index(x)], reverse=True)\n",
    "\n",
    "\n",
    "labels = [240, 120, 20, 180, 160]\n",
    "T_configs_s = sort_by_timestep(T_configs)\n",
    "T_qm_energies_s = sort_by_timestep(T_qm_energies)\n",
    "T_qm_forces_s = sort_by_timestep(T_qm_forces)\n",
    "T_gap_energies_s = sort_by_timestep(T_gap_energies)\n",
    "T_gap_forces_s = sort_by_timestep(T_gap_forces)\n",
    "lab_sort = sorted(labels, reverse=True)\n",
    "print(lab_sort)"
   ],
   "metadata": {
    "collapsed": false,
    "pycharm": {
     "name": "#%%\n"
    }
   }
  },
  {
   "cell_type": "code",
   "execution_count": 50,
   "outputs": [],
   "source": [
    "ans2 = [[Analysis(j) for j in i] for i in T_configs_s]\n",
    "ans = [[Analysis(j) for j in i] for i in MD]\n",
    "rdf = [np.average(np.array([i.get_rdf(4.9, 400) for i in j]), axis=0) for j in ans]\n",
    "rdf2 = [np.average(np.array([i.get_rdf(4.9, 400) for i in j]), axis=0) for j in ans2]\n",
    "dists = np.linspace(0, 4.9, 400)"
   ],
   "metadata": {
    "collapsed": false,
    "pycharm": {
     "name": "#%%\n"
    }
   }
  },
  {
   "cell_type": "code",
   "execution_count": 58,
   "outputs": [
    {
     "name": "stderr",
     "output_type": "stream",
     "text": [
      "<ipython-input-58-b233ecb9a463>:11: UserWarning: Matplotlib is currently using module://ipykernel.pylab.backend_inline, which is a non-GUI backend, so cannot show the figure.\n",
      "  fig.show()\n"
     ]
    },
    {
     "data": {
      "text/plain": "<Figure size 864x432 with 2 Axes>",
      "image/png": "[encoded data removed]"
     },
     "metadata": {
      "needs_background": "light"
     },
     "output_type": "display_data"
    }
   ],
   "source": [
    "fig, axs = plt.subplots(1,2, figsize=(12,6))\n",
    "for i in range(len(rdf)):\n",
    "    axs[0].scatter(dists, rdf[i], label=lab_sort[i], s=8)\n",
    "    axs[1].scatter(dists, rdf2[i], label=lab_sort[i], s=8)\n",
    "\n",
    "axs[0].set(ylim=(-0.5,6))\n",
    "axs[1].set(ylim=(-0.5,6))\n",
    "axs[0].text(1,4,'Ge-GAP')\n",
    "axs[1].text(1,4,'Si-GAP')\n",
    "axs[0].legend()\n",
    "fig.show()\n",
    "fig.savefig('/Users/Moji/Documents/Summer20/Ge/Analysis/Si-Ge-GAP_rdfs.png')"
   ],
   "metadata": {
    "collapsed": false,
    "pycharm": {
     "name": "#%%\n"
    }
   }
  },
  {
   "cell_type": "code",
   "execution_count": null,
   "outputs": [],
   "source": [
    "lab_sort_rmse = ['{0:>4d}      {1:>5.2f}      {2:>5.3f}'.format(lab_sort[i],\n",
    "                  rms_dict(T_qm_energies_s[i],T_gap_energies_s[i])['rmse']*1000,\n",
    "                  rms_dict(T_qm_forces_s[i], T_gap_forces_s[i])['rmse'])\n",
    "                  for i in range(len(lab_sort))]"
   ],
   "metadata": {
    "collapsed": false,
    "pycharm": {
     "name": "#%%\n"
    }
   }
  },
  {
   "cell_type": "code",
   "execution_count": null,
   "outputs": [],
   "source": [
    "fig, axs = plt.subplots(1,2, figsize=(12,6))\n",
    "axs[1].hist(T_qm_forces, bins=500, stacked=False, label=lab_sort_rmse, histtype='step', density=False)\n",
    "axs[0].hist(T_qm_energies, bins=50, stacked=False, label=lab_sort_rmse, histtype='step', density=False)\n",
    "axs[1].set(xlabel='DFT Forces / eV/Å', xlim=(-5.0,5.0))\n",
    "axs[0].set(xlabel='DFT Energies per atom / eV', ylabel='Frequency')\n",
    "axs[0].legend(title = '    time     $E_{energy}$     $E_{forces}$')\n",
    "plt.show()\n",
    "fig.savefig('/Users/Moji/Documents/Summer20/Ge/Analysis/timestep_rmse.png')"
   ],
   "metadata": {
    "collapsed": false,
    "pycharm": {
     "name": "#%%\n"
    }
   }
  },
  {
   "cell_type": "code",
   "execution_count": null,
   "outputs": [],
   "source": [
    "fig, axs = plt.subplots(1,2, figsize=(12,6))\n",
    "axs[1].hist(T_qm_f_cs, bins=500, stacked=False, label=['64','125','216'], histtype='step', density=True)\n",
    "axs[0].hist(T_qm_e_cs, bins=50, stacked=False, label=['64','125','216'], histtype='step', density=True)\n",
    "axs[1].set(xlabel='DFT Forces / eV/Å', xlim=(-5.0,5.0))\n",
    "axs[0].set(xlabel='DFT Energies / eV', ylabel='Normalised frequency')\n",
    "plt.legend()\n",
    "plt.show()\n",
    "fig.savefig('/Users/Moji/Documents/Summer20/Ge/Analysis/normed_distribution_zoom.png')"
   ],
   "metadata": {
    "collapsed": false,
    "pycharm": {
     "name": "#%%\n"
    }
   }
  },
  {
   "cell_type": "code",
   "execution_count": null,
   "outputs": [],
   "source": [
    "fig, axs = plt.subplots(1,2, figsize=(12,6))\n",
    "axs[1].hist(T_qm_f_cs, bins=300, stacked=True, label=['64','125','216'])\n",
    "axs[0].hist(T_qm_e_cs, bins=50, stacked=True, label=['64','125','216'])\n",
    "axs[1].set(xlabel='DFT Forces / eV/Å')\n",
    "axs[0].set(xlabel='DFT Energies / eV', ylabel='Frequency')\n",
    "plt.legend()\n",
    "plt.show()\n",
    "fig.savefig('/Users/Moji/Documents/Summer20/Ge/Analysis/histogram.png')"
   ],
   "metadata": {
    "collapsed": false,
    "pycharm": {
     "name": "#%%\n"
    }
   }
  },
  {
   "cell_type": "code",
   "execution_count": 11,
   "outputs": [],
   "source": [
    "import quippy\n",
    "from ase.build import bulk\n",
    "from ase.optimize import BFGS\n",
    "from ase.constraints import UnitCellFilter\n",
    "from ase.io.trajectory import Trajectory"
   ],
   "metadata": {
    "collapsed": false,
    "pycharm": {
     "name": "#%%\n"
    }
   }
  },
  {
   "cell_type": "code",
   "execution_count": null,
   "outputs": [],
   "source": [
    "hcp = bulk('Ge', 'hcp', a=2.991, b=2.991, c=4.35)\n",
    "dia = bulk('Ge', 'diamond', a=5.6)\n",
    "dia.set_calculator(gap)\n",
    "hcp.set_calculator(gap)\n",
    "print(hcp.get_total_energy()/len(hcp))\n",
    "print(dia.get_total_energy()/len(dia))\n",
    "diaf = UnitCellFilter(dia)\n",
    "d_dyn = BFGS(diaf, trajectory='/Users/Moji/Documents/Summer20/Ge/Analysis/dia.traj')\n",
    "d_dyn.run(fmax=0.05)\n",
    "hcpf = UnitCellFilter(hcp)\n",
    "h_dyn = BFGS(hcpf, trajectory='/Users/Moji/Documents/Summer20/Ge/Analysis/hcp.traj')\n",
    "h_dyn.run(fmax=0.05)\n",
    "hcp_traj = Trajectory('/Users/Moji/Documents/Summer20/Ge/Analysis/hcp.traj')\n",
    "dia_traj = Trajectory('/Users/Moji/Documents/Summer20/Ge/Analysis/dia.traj')\n",
    "hcp_opt = hcp_traj[-1]\n",
    "dia_opt = dia_traj[-1]\n",
    "\n",
    "hcp_opt.set_calculator(gap)\n",
    "dia_opt.set_calculator(gap)\n",
    "print(hcp_opt.get_total_energy()/len(hcp_opt), dia_opt.get_total_energy()/len(dia_opt))"
   ],
   "metadata": {
    "collapsed": false,
    "pycharm": {
     "name": "#%%\n"
    }
   }
  },
  {
   "cell_type": "code",
   "execution_count": null,
   "outputs": [],
   "source": [
    "c1 = V_configs[-1]; c2 = V_configs[-2]\n",
    "desc = quippy.descriptors.Descriptor('soap l_max=6 n_max=12 atom_sigma=0.5 zeta=4 \\\n",
    "                              cutoff=5.0 cutoff_transition_width=1.0 \\\n",
    "                              central_weight=1.0 n_sparse=5000 delta=0.1 \\\n",
    "                              f0=0.0 covariance_type=dot_product \\\n",
    "                              sparse_method=CUR_POINTS} \\\n",
    "                              energy_parameter_name=dft_energy force_parameter_name=dft_forces \\\n",
    "                              virial_parameter_name=NOT_USED \\\n",
    "                              sparse_jitter=1.0e-8 \\\n",
    "                              default_sigma={0.001 0.1 0.05 0.0}')"
   ],
   "metadata": {
    "collapsed": false,
    "pycharm": {
     "name": "#%%\n"
    }
   }
  },
  {
   "cell_type": "code",
   "execution_count": null,
   "outputs": [],
   "source": [
    "descs = [desc.calc_descriptor(i) for i in flatten(T_configs_s)]\n",
    "MD_descs = [desc.calc_descriptor(i) for i in flatten(MD)]"
   ],
   "metadata": {
    "collapsed": false,
    "pycharm": {
     "name": "#%%\n"
    }
   }
  },
  {
   "cell_type": "code",
   "execution_count": null,
   "outputs": [],
   "source": [
    "tdat = descs + MD_descs"
   ],
   "metadata": {
    "collapsed": false,
    "pycharm": {
     "name": "#%%\n"
    }
   }
  },
  {
   "cell_type": "code",
   "execution_count": null,
   "outputs": [],
   "source": [
    "tdat"
   ],
   "metadata": {
    "collapsed": false,
    "pycharm": {
     "name": "#%%\n"
    }
   }
  },
  {
   "cell_type": "code",
   "execution_count": null,
   "outputs": [],
   "source": [
    "mat = np.array([[np.dot(np.average(i**4, axis=0), np.average(j**4, axis=0)) for j in tdat] for i in tdat])"
   ],
   "metadata": {
    "collapsed": false,
    "pycharm": {
     "name": "#%%\n"
    }
   }
  },
  {
   "cell_type": "code",
   "execution_count": 45,
   "outputs": [
    {
     "name": "stdout",
     "output_type": "stream",
     "text": [
      "['amorph', 'hiT_amorph', 'inter', 'liq', 'hiT_liq', None, None, None, None, None] [0, 56, 112, 168, 224, 244, 284, 324, 404, 444, None]\n",
      "[(0.050383, 0.029803, 0.527975, 1.0), (0.417642, 0.000564, 0.65839, 1.0), (0.69284, 0.165141, 0.564522, 1.0), (0.881443, 0.392529, 0.383229, 1.0), (0.98826, 0.652325, 0.211364, 1.0), (0.050383, 0.029803, 0.527975, 1.0), (0.417642, 0.000564, 0.65839, 1.0), (0.69284, 0.165141, 0.564522, 1.0), (0.881443, 0.392529, 0.383229, 1.0), (0.98826, 0.652325, 0.211364, 1.0)]\n"
     ]
    }
   ],
   "source": [
    "labels = []\n",
    "ds = []\n",
    "symbols = []\n",
    "for ct, i in enumerate(flatten(T_configs_s)):\n",
    "    if i.info['config_type'] not in labels:\n",
    "        labels.append(i.info['config_type'])\n",
    "        ds.append(ct)\n",
    "        symbols.append('x')\n",
    "colormap = plt.get_cmap('plasma')\n",
    "colors = [colormap(i) for i in np.linspace(0, 0.8, len(labels))]\n",
    "m = len(flatten(T_configs_s))\n",
    "for ct, i in enumerate(MD):\n",
    "    labels.append(None)\n",
    "    lab_sort.append(None)\n",
    "    ds.append(len(i)+ds[-1])\n",
    "    symbols.append('^')\n",
    "ds.append(None)\n",
    "print(labels, ds)\n",
    "colormap2 = plt.get_cmap('viridis')\n",
    "colors.extend([colormap(i) for i in np.linspace(0, 0.8, len(labels[-len(MD):]))])\n",
    "print(colors)"
   ],
   "metadata": {
    "collapsed": false,
    "pycharm": {
     "name": "#%%\n"
    }
   }
  },
  {
   "cell_type": "code",
   "execution_count": null,
   "outputs": [],
   "source": [
    "from sklearn import decomposition"
   ],
   "metadata": {
    "collapsed": false,
    "pycharm": {
     "name": "#%%\n"
    }
   }
  },
  {
   "cell_type": "code",
   "execution_count": null,
   "outputs": [],
   "source": [
    "pca = decomposition.PCA(n_components=2)\n",
    "pca.fit(mat)"
   ],
   "metadata": {
    "collapsed": false,
    "pycharm": {
     "name": "#%%\n"
    }
   }
  },
  {
   "cell_type": "code",
   "execution_count": null,
   "outputs": [],
   "source": [
    "map = pca.fit_transform(mat)"
   ],
   "metadata": {
    "collapsed": false,
    "pycharm": {
     "name": "#%%\n"
    }
   }
  },
  {
   "cell_type": "code",
   "execution_count": 3,
   "outputs": [
    {
     "ename": "NameError",
     "evalue": "name 'plt' is not defined",
     "output_type": "error",
     "traceback": [
      "\u001B[0;31m---------------------------------------------------------------------------\u001B[0m",
      "\u001B[0;31mNameError\u001B[0m                                 Traceback (most recent call last)",
      "\u001B[0;32m<ipython-input-3-f38bcb194f69>\u001B[0m in \u001B[0;36m<module>\u001B[0;34m\u001B[0m\n\u001B[0;32m----> 1\u001B[0;31m \u001B[0mfig\u001B[0m\u001B[0;34m,\u001B[0m \u001B[0max\u001B[0m \u001B[0;34m=\u001B[0m \u001B[0mplt\u001B[0m\u001B[0;34m.\u001B[0m\u001B[0msubplots\u001B[0m\u001B[0;34m(\u001B[0m\u001B[0;34m)\u001B[0m\u001B[0;34m\u001B[0m\u001B[0;34m\u001B[0m\u001B[0m\n\u001B[0m\u001B[1;32m      2\u001B[0m \u001B[0;32mfor\u001B[0m \u001B[0mi\u001B[0m \u001B[0;32min\u001B[0m \u001B[0mrange\u001B[0m\u001B[0;34m(\u001B[0m\u001B[0mlen\u001B[0m\u001B[0;34m(\u001B[0m\u001B[0mds\u001B[0m\u001B[0;34m)\u001B[0m\u001B[0;34m-\u001B[0m\u001B[0;36m1\u001B[0m\u001B[0;34m)\u001B[0m\u001B[0;34m:\u001B[0m\u001B[0;34m\u001B[0m\u001B[0;34m\u001B[0m\u001B[0m\n\u001B[1;32m      3\u001B[0m     ax.scatter(map.T[0][ds[i]:ds[i+1]], mat.T[1][ds[i]:ds[i+1]],\n\u001B[1;32m      4\u001B[0m                color=colors[i], label=lab_sort[i], s=10, marker=symbols[i])\n\u001B[1;32m      5\u001B[0m \u001B[0max\u001B[0m\u001B[0;34m.\u001B[0m\u001B[0mlegend\u001B[0m\u001B[0;34m(\u001B[0m\u001B[0;34m)\u001B[0m\u001B[0;34m\u001B[0m\u001B[0;34m\u001B[0m\u001B[0m\n",
      "\u001B[0;31mNameError\u001B[0m: name 'plt' is not defined"
     ]
    }
   ],
   "source": [
    "fig, ax = plt.subplots()\n",
    "for i in range(len(ds)-1):\n",
    "    ax.scatter(map.T[0][ds[i]:ds[i+1]], mat.T[1][ds[i]:ds[i+1]],\n",
    "               color=colors[i], label=lab_sort[i], s=10, marker=symbols[i])\n",
    "ax.legend()\n",
    "ax.axes.get_xaxis().set_visible(False)\n",
    "ax.axes.get_yaxis().set_visible(False)\n",
    "fig.show()\n",
    "#fig.savefig('./Analysis/similarity_map_exp.png', dpi=300)"
   ],
   "metadata": {
    "collapsed": false,
    "pycharm": {
     "name": "#%%\n"
    }
   }
  },
  {
   "cell_type": "code",
   "execution_count": 4,
   "outputs": [
    {
     "ename": "ValueError",
     "evalue": "operands could not be broadcast together with shapes (56,) (15864,) ",
     "output_type": "error",
     "traceback": [
      "\u001B[0;31m---------------------------------------------------------------------------\u001B[0m",
      "\u001B[0;31mValueError\u001B[0m                                Traceback (most recent call last)",
      "\u001B[0;32m<ipython-input-4-ab955b5776eb>\u001B[0m in \u001B[0;36m<module>\u001B[0;34m\u001B[0m\n\u001B[0;32m----> 1\u001B[0;31m \u001B[0;32mfrom\u001B[0m \u001B[0mGe_analysis\u001B[0m \u001B[0;32mimport\u001B[0m \u001B[0mread_database\u001B[0m\u001B[0;34m\u001B[0m\u001B[0;34m\u001B[0m\u001B[0m\n\u001B[0m",
      "\u001B[0;32m~/PycharmProjects/Ge_analysis_local/Ge_analysis.py\u001B[0m in \u001B[0;36m<module>\u001B[0;34m\u001B[0m\n\u001B[1;32m     98\u001B[0m         Potential(param_filename= data_dir + 'Potentials/Ge_3bSOAP_4000/Ge_3bSOAP_4000_5cut.xml')]\n\u001B[1;32m     99\u001B[0m \u001B[0;34m\u001B[0m\u001B[0m\n\u001B[0;32m--> 100\u001B[0;31m \u001B[0mdata_216_125_2000\u001B[0m \u001B[0;34m=\u001B[0m \u001B[0mread_database\u001B[0m\u001B[0;34m(\u001B[0m\u001B[0mdata_216_125_2000\u001B[0m\u001B[0;34m)\u001B[0m\u001B[0;34m[\u001B[0m\u001B[0;36m0\u001B[0m\u001B[0;34m]\u001B[0m\u001B[0;34m\u001B[0m\u001B[0;34m\u001B[0m\u001B[0m\n\u001B[0m\u001B[1;32m    101\u001B[0m \u001B[0mdata_216_125_4000\u001B[0m \u001B[0;34m=\u001B[0m \u001B[0mread_database\u001B[0m\u001B[0;34m(\u001B[0m\u001B[0mdata_216_125_4000\u001B[0m\u001B[0;34m)\u001B[0m\u001B[0;34m[\u001B[0m\u001B[0;36m0\u001B[0m\u001B[0;34m]\u001B[0m\u001B[0;34m\u001B[0m\u001B[0;34m\u001B[0m\u001B[0m\n\u001B[1;32m    102\u001B[0m \u001B[0mdata_64_5000\u001B[0m \u001B[0;34m=\u001B[0m \u001B[0mread_database\u001B[0m\u001B[0;34m(\u001B[0m\u001B[0mdata_64_5000\u001B[0m\u001B[0;34m)\u001B[0m\u001B[0;34m[\u001B[0m\u001B[0;36m0\u001B[0m\u001B[0;34m]\u001B[0m\u001B[0;34m\u001B[0m\u001B[0;34m\u001B[0m\u001B[0m\n",
      "\u001B[0;32m~/PycharmProjects/Ge_analysis_local/Ge_analysis.py\u001B[0m in \u001B[0;36mread_database\u001B[0;34m(filename)\u001B[0m\n\u001B[1;32m     45\u001B[0m     \u001B[0minfile\u001B[0m\u001B[0;34m.\u001B[0m\u001B[0mclose\u001B[0m\u001B[0;34m(\u001B[0m\u001B[0;34m)\u001B[0m\u001B[0;34m\u001B[0m\u001B[0;34m\u001B[0m\u001B[0m\n\u001B[1;32m     46\u001B[0m     \u001B[0;31m# Calculate the absolute errors in the fit\u001B[0m\u001B[0;34m\u001B[0m\u001B[0;34m\u001B[0m\u001B[0;34m\u001B[0m\u001B[0m\n\u001B[0;32m---> 47\u001B[0;31m     data[0].extend([[(np.array(i) - np.array(j)).tolist() for i,j in zip(data[0][1], data[0][4])],\n\u001B[0m\u001B[1;32m     48\u001B[0m                     \u001B[0;34m[\u001B[0m\u001B[0;34m(\u001B[0m\u001B[0mnp\u001B[0m\u001B[0;34m.\u001B[0m\u001B[0marray\u001B[0m\u001B[0;34m(\u001B[0m\u001B[0mi\u001B[0m\u001B[0;34m)\u001B[0m \u001B[0;34m-\u001B[0m \u001B[0mnp\u001B[0m\u001B[0;34m.\u001B[0m\u001B[0marray\u001B[0m\u001B[0;34m(\u001B[0m\u001B[0mj\u001B[0m\u001B[0;34m)\u001B[0m\u001B[0;34m)\u001B[0m\u001B[0;34m.\u001B[0m\u001B[0mtolist\u001B[0m\u001B[0;34m(\u001B[0m\u001B[0;34m)\u001B[0m \u001B[0;32mfor\u001B[0m \u001B[0mi\u001B[0m\u001B[0;34m,\u001B[0m\u001B[0mj\u001B[0m \u001B[0;32min\u001B[0m \u001B[0mzip\u001B[0m\u001B[0;34m(\u001B[0m\u001B[0mdata\u001B[0m\u001B[0;34m[\u001B[0m\u001B[0;36m0\u001B[0m\u001B[0;34m]\u001B[0m\u001B[0;34m[\u001B[0m\u001B[0;36m2\u001B[0m\u001B[0;34m]\u001B[0m\u001B[0;34m,\u001B[0m \u001B[0mdata\u001B[0m\u001B[0;34m[\u001B[0m\u001B[0;36m0\u001B[0m\u001B[0;34m]\u001B[0m\u001B[0;34m[\u001B[0m\u001B[0;36m5\u001B[0m\u001B[0;34m]\u001B[0m\u001B[0;34m)\u001B[0m\u001B[0;34m]\u001B[0m\u001B[0;34m,\u001B[0m\u001B[0;34m\u001B[0m\u001B[0;34m\u001B[0m\u001B[0m\n\u001B[1;32m     49\u001B[0m                     [(np.array(i) - np.array(j)).tolist() for i,j in zip(data[0][3], data[0][6])]])\n",
      "\u001B[0;32m~/PycharmProjects/Ge_analysis_local/Ge_analysis.py\u001B[0m in \u001B[0;36m<listcomp>\u001B[0;34m(.0)\u001B[0m\n\u001B[1;32m     45\u001B[0m     \u001B[0minfile\u001B[0m\u001B[0;34m.\u001B[0m\u001B[0mclose\u001B[0m\u001B[0;34m(\u001B[0m\u001B[0;34m)\u001B[0m\u001B[0;34m\u001B[0m\u001B[0;34m\u001B[0m\u001B[0m\n\u001B[1;32m     46\u001B[0m     \u001B[0;31m# Calculate the absolute errors in the fit\u001B[0m\u001B[0;34m\u001B[0m\u001B[0;34m\u001B[0m\u001B[0;34m\u001B[0m\u001B[0m\n\u001B[0;32m---> 47\u001B[0;31m     data[0].extend([[(np.array(i) - np.array(j)).tolist() for i,j in zip(data[0][1], data[0][4])],\n\u001B[0m\u001B[1;32m     48\u001B[0m                     \u001B[0;34m[\u001B[0m\u001B[0;34m(\u001B[0m\u001B[0mnp\u001B[0m\u001B[0;34m.\u001B[0m\u001B[0marray\u001B[0m\u001B[0;34m(\u001B[0m\u001B[0mi\u001B[0m\u001B[0;34m)\u001B[0m \u001B[0;34m-\u001B[0m \u001B[0mnp\u001B[0m\u001B[0;34m.\u001B[0m\u001B[0marray\u001B[0m\u001B[0;34m(\u001B[0m\u001B[0mj\u001B[0m\u001B[0;34m)\u001B[0m\u001B[0;34m)\u001B[0m\u001B[0;34m.\u001B[0m\u001B[0mtolist\u001B[0m\u001B[0;34m(\u001B[0m\u001B[0;34m)\u001B[0m \u001B[0;32mfor\u001B[0m \u001B[0mi\u001B[0m\u001B[0;34m,\u001B[0m\u001B[0mj\u001B[0m \u001B[0;32min\u001B[0m \u001B[0mzip\u001B[0m\u001B[0;34m(\u001B[0m\u001B[0mdata\u001B[0m\u001B[0;34m[\u001B[0m\u001B[0;36m0\u001B[0m\u001B[0;34m]\u001B[0m\u001B[0;34m[\u001B[0m\u001B[0;36m2\u001B[0m\u001B[0;34m]\u001B[0m\u001B[0;34m,\u001B[0m \u001B[0mdata\u001B[0m\u001B[0;34m[\u001B[0m\u001B[0;36m0\u001B[0m\u001B[0;34m]\u001B[0m\u001B[0;34m[\u001B[0m\u001B[0;36m5\u001B[0m\u001B[0;34m]\u001B[0m\u001B[0;34m)\u001B[0m\u001B[0;34m]\u001B[0m\u001B[0;34m,\u001B[0m\u001B[0;34m\u001B[0m\u001B[0;34m\u001B[0m\u001B[0m\n\u001B[1;32m     49\u001B[0m                     [(np.array(i) - np.array(j)).tolist() for i,j in zip(data[0][3], data[0][6])]])\n",
      "\u001B[0;31mValueError\u001B[0m: operands could not be broadcast together with shapes (56,) (15864,) "
     ]
    }
   ],
   "source": [
    "from Ge_analysis import read_database"
   ],
   "metadata": {
    "collapsed": false,
    "pycharm": {
     "name": "#%%\n"
    }
   }
  },
  {
   "cell_type": "code",
   "execution_count": 30,
   "outputs": [],
   "source": [
    "stress_t = []\n",
    "for i in T_set:\n",
    "    stress_t.append(np.trace(i.info['dft_virial']))"
   ],
   "metadata": {
    "collapsed": false,
    "pycharm": {
     "name": "#%%\n"
    }
   }
  },
  {
   "cell_type": "code",
   "execution_count": 33,
   "outputs": [
    {
     "name": "stderr",
     "output_type": "stream",
     "text": [
      "<ipython-input-33-e8d2ffceb838>:3: UserWarning: Matplotlib is currently using module://ipykernel.pylab.backend_inline, which is a non-GUI backend, so cannot show the figure.\n",
      "  fig.show()\n"
     ]
    },
    {
     "data": {
      "text/plain": "<Figure size 432x288 with 1 Axes>",
      "image/png": "[encoded data removed]"
     },
     "metadata": {
      "needs_background": "light"
     },
     "output_type": "display_data"
    }
   ],
   "source": [
    "fig, axs = plt.subplots()\n",
    "axs.hist(stress_t, bins=60)\n",
    "fig.show()"
   ],
   "metadata": {
    "collapsed": false,
    "pycharm": {
     "name": "#%%\n"
    }
   }
  },
  {
   "cell_type": "code",
   "execution_count": 34,
   "outputs": [
    {
     "data": {
      "text/plain": "array([[  8.44017363,  -2.36454054,   1.78758717],\n       [ -2.36454054,  13.34803232,   1.68922878],\n       [  1.78758717,   1.68922878, -13.14022519]])"
     },
     "execution_count": 34,
     "metadata": {},
     "output_type": "execute_result"
    }
   ],
   "source": [
    "\n",
    "T_set[0].info['dft_virial']"
   ],
   "metadata": {
    "collapsed": false,
    "pycharm": {
     "name": "#%%\n"
    }
   }
  },
  {
   "cell_type": "code",
   "execution_count": 2,
   "outputs": [],
   "source": [
    "%load_ext autoreload\n",
    "%autoreload 2"
   ],
   "metadata": {
    "collapsed": false,
    "pycharm": {
     "name": "#%%\n"
    }
   }
  },
  {
   "cell_type": "code",
   "execution_count": 3,
   "outputs": [],
   "source": [
    "from Ge_calculation import GAP\n",
    "\n",
    "\n",
    "data_dir = '/Users/Moji/Documents/Summer20/Ge/'\n",
    "train_file = data_dir + 'Structure_databases/train_216_125_64_v.xyz'\n",
    "val_file = data_dir + 'Structure_databases/validate_216_125_64_v.xyz'\n",
    "pickle_file = data_dir + 'Pickles/data_125_216_d155'\n",
    "pot = data_dir + 'Potentials/Ge_2bSOAP_5000_125_216_d155/Ge_2bSOAP_5000_125_216_d155.xml'"
   ],
   "metadata": {
    "collapsed": false,
    "pycharm": {
     "name": "#%%\n"
    }
   }
  },
  {
   "cell_type": "code",
   "execution_count": 12,
   "outputs": [
    {
     "name": "stdout",
     "output_type": "stream",
     "text": [
      "['/Users/Moji/PycharmProjects/Ge_analysis_local', '/Users/Moji/PycharmProjects/Ge_analysis_local', '/usr/local/Caskroom/miniconda/base/envs/QUIP/lib/python38.zip', '/usr/local/Caskroom/miniconda/base/envs/QUIP/lib/python3.8', '/usr/local/Caskroom/miniconda/base/envs/QUIP/lib/python3.8/lib-dynload', '', '/usr/local/Caskroom/miniconda/base/envs/QUIP/lib/python3.8/site-packages', '/usr/local/Caskroom/miniconda/base/envs/QUIP/lib/python3.8/site-packages/matscipy-0.4.0+32.g356b21e-py3.8-macosx-10.9-x86_64.egg', '/usr/local/Caskroom/miniconda/base/envs/QUIP/lib/python3.8/site-packages/IPython/extensions', '/Users/Moji/.ipython', '/Users/Moji/Applications/QUIP/build/darwin_x86_64_gfortran', '/Users/Moji/Applications/QUIP/build/darwin_x86_64_gfortran']\n",
      "Training set structure count: 281\n",
      "Validation set structure count: 70\n",
      "Config labels: ['amorph', 'liq', 'hiT_liq', 'hiT_amorph', 'inter']\n"
     ]
    }
   ],
   "source": [
    "d155 = GAP(train_file, val_file, pot)"
   ],
   "metadata": {
    "collapsed": false,
    "pycharm": {
     "name": "#%%\n"
    }
   }
  },
  {
   "cell_type": "code",
   "execution_count": null,
   "outputs": [],
   "source": [
    "d155.calc_all()"
   ],
   "metadata": {
    "collapsed": false,
    "pycharm": {
     "name": "#%%\n",
     "is_executing": true
    }
   }
  },
  {
   "cell_type": "code",
   "execution_count": 14,
   "outputs": [
    {
     "data": {
      "text/plain": "[[array([[  8.44017363,  -2.36454054,   1.78758717],\n         [ -2.36454054,  13.34803232,   1.68922878],\n         [  1.78758717,   1.68922878, -13.14022519]]),\n  array([[29.07184945, -6.04329612, -9.57516878],\n         [-6.04329612, 25.30028723,  1.45562981],\n         [-9.57516878,  1.45562981, 30.61018632]]),\n  array([[20.16073113, -5.39587248,  4.97229717],\n         [-5.39587248, 18.28576197,  3.06445039],\n         [ 4.97229717,  3.06445039, 28.78994813]]),\n  array([[ 40.85653223,   1.46053428, -19.52911428],\n         [  1.46053428,  19.34496289,  -3.73092843],\n         [-19.52911428,  -3.73092843,  18.26133651]]),\n  array([[ 8.26882438,  2.19011265,  4.01078062],\n         [ 2.19011265,  5.34517705, -1.37407795],\n         [ 4.01078062, -1.37407795,  4.5463721 ]]),\n  array([[ 10.23532883,   6.17464576,  -8.40147534],\n         [  6.17464576,  -5.00045283,  -3.79014935],\n         [ -8.40147534,  -3.79014935, -22.94898431]]),\n  array([[-12.48700485,  -2.97907997,  -1.0607607 ],\n         [ -2.97907997,  -5.52093337,  -5.58616487],\n         [ -1.0607607 ,  -5.58616487,  10.43954858]]),\n  array([[17.89900815, -9.37058555, -1.65218178],\n         [-9.37058555, 26.10004955, -7.51200232],\n         [-1.65218178, -7.51200232, 24.57457708]]),\n  array([[10.25107966, -5.38593784, -8.09863494],\n         [-5.38593784,  0.5112085 , -6.68694611],\n         [-8.09863494, -6.68694611,  6.55150393]]),\n  array([[ 8.85297685,  7.93302432, -6.10335113],\n         [ 7.93302432, 17.23204569, -3.70973332],\n         [-6.10335113, -3.70973332,  7.83597893]]),\n  array([[ 11.85812927,  -1.01913915, -13.72406906],\n         [ -1.01913915,   4.26155937,  -3.50357691],\n         [-13.72406906,  -3.50357691,  10.3910616 ]]),\n  array([[9.72858765, 4.63603377, 2.0077133 ],\n         [4.63603377, 2.24022894, 9.59335905],\n         [2.0077133 , 9.59335905, 5.35080657]]),\n  array([[14.62516217, -9.60407756,  2.20067994],\n         [-9.60407756, 16.17030464, 15.77947171],\n         [ 2.20067994, 15.77947171, 14.18088374]]),\n  array([[30.64511183,  2.54149427, -0.42310437],\n         [ 2.54149427, 39.00839296, -4.60592857],\n         [-0.42310437, -4.60592857, 13.78601875]]),\n  array([[ 2.53877081,  5.36778323,  4.9376892 ],\n         [ 5.36778323, 21.85236975, -9.40103357],\n         [ 4.9376892 , -9.40103357, 24.92911402]]),\n  array([[ 22.20161326,   0.25916375, -10.42636307],\n         [  0.25916375,  29.8602176 ,   4.62820153],\n         [-10.42636307,   4.62820153,  47.82925469]]),\n  array([[-3.65000503,  0.12625237, -7.25016342],\n         [ 0.12625237, 13.02832844,  4.82045343],\n         [-7.25016342,  4.82045343, 24.85202201]]),\n  array([[-14.30629011, -10.91534051,  -4.71006945],\n         [-10.91534051,   1.72150052,  10.24064053],\n         [ -4.71006945,  10.24064053,  -3.47955229]]),\n  array([[-14.75983396,  -4.7379887 ,  13.41578217],\n         [ -4.7379887 ,  23.76231741, -11.29693333],\n         [ 13.41578217, -11.29693333,  15.60096348]]),\n  array([[48.19514872, -8.46851252, -5.69275074],\n         [-8.46851252, 29.99500613, 17.04502655],\n         [-5.69275074, 17.04502655, 10.17991492]]),\n  array([[ 12.53792127,   0.75785991,  -3.49234697],\n         [  0.75785991, -13.04511645,  -9.32487255],\n         [ -3.49234697,  -9.32487255,  -0.8304864 ]]),\n  array([[ -2.52290176, -13.3443203 ,   0.32767146],\n         [-13.3443203 ,  -8.49573582,  -2.41693203],\n         [  0.32767146,  -2.41693203,  -5.99341763]]),\n  array([[ 37.29357828,   1.88100135, -10.35285131],\n         [  1.88100135,  16.65312983,  -4.27320036],\n         [-10.35285131,  -4.27320036,  42.4480079 ]]),\n  array([[ 0.9329549 , -3.48380339, -3.71642609],\n         [-3.48380339, -2.52602368,  2.21344751],\n         [-3.71642609,  2.21344751, -7.81167939]]),\n  array([[23.17237738,  0.61771949, -2.23558939],\n         [ 0.61771949, -5.35416463,  3.45215938],\n         [-2.23558939,  3.45215938, -0.47732143]]),\n  array([[  4.57164565,  10.01267243,  -4.46154419],\n         [ 10.01267243,  14.25247051, -10.77814327],\n         [ -4.46154419, -10.77814327,  22.85109455]]),\n  array([[ 37.99763731, -12.58226288,  -8.72815516],\n         [-12.58226288,  27.72507393,  -1.81659053],\n         [ -8.72815516,  -1.81659053,  22.03923156]]),\n  array([[18.9054964 , -2.69802885,  0.51984271],\n         [-2.69802885, 25.43218829, 11.06802092],\n         [ 0.51984271, 11.06802092, 15.48437792]]),\n  array([[17.97121013,  9.87794805, -2.67748905],\n         [ 9.87794805, 20.91623552, -5.21952143],\n         [-2.67748905, -5.21952143, 22.91760984]]),\n  array([[ 14.90961634,   4.76840613,   2.8608499 ],\n         [  4.76840613, -12.71982079,  -1.85197662],\n         [  2.8608499 ,  -1.85197662,  25.21164036]]),\n  array([[14.67390557, -2.63364807, -0.36823238],\n         [-2.63364807, 19.00050826,  4.11428065],\n         [-0.36823238,  4.11428065, 21.94999116]]),\n  array([[10.95287011, -4.18379856,  7.58816052],\n         [-4.18379856, -3.8182061 ,  6.53428603],\n         [ 7.58816052,  6.53428603,  9.98707765]]),\n  array([[32.03758824,  3.24559677, -1.6803943 ],\n         [ 3.24559677, 15.51725931,  9.42571635],\n         [-1.6803943 ,  9.42571635, 34.15917636]]),\n  array([[ 9.69120448,  4.18099394,  5.82609059],\n         [ 4.18099394,  0.78740165, 11.95890474],\n         [ 5.82609059, 11.95890474, 14.82554968]]),\n  array([[  1.80986661,  10.0517967 , -15.1228732 ],\n         [ 10.0517967 ,  16.15352106,   0.83456293],\n         [-15.1228732 ,   0.83456293,   7.6471224 ]]),\n  array([[ 19.10475473,  12.7515063 ,   3.29608926],\n         [ 12.7515063 ,  20.18686282, -13.84214259],\n         [  3.29608926, -13.84214259,   3.01470539]]),\n  array([[22.85291004, -2.02717423, -7.49926375],\n         [-2.02717423,  9.56393767, -1.88752183],\n         [-7.49926375, -1.88752183,  7.76073163]]),\n  array([[31.30436019, -5.90953445,  8.98052396],\n         [-5.90953445, 23.6642497 , -0.10475434],\n         [ 8.98052396, -0.10475434, 41.69396992]]),\n  array([[23.80312672,  7.0724325 ,  4.5342113 ],\n         [ 7.0724325 , 11.86242927,  5.5038331 ],\n         [ 4.5342113 ,  5.5038331 , 26.94828158]]),\n  array([[20.73105562,  6.51116817, 10.24301765],\n         [ 6.51116817, -2.25782139,  1.67488267],\n         [10.24301765,  1.67488267,  2.72698215]]),\n  array([[ 13.03641154,  -3.6156377 , -17.15589593],\n         [ -3.6156377 ,   7.7129581 , -17.2643934 ],\n         [-17.15589593, -17.2643934 ,  15.95141485]]),\n  array([[ 40.8453471 , -13.03067816,  15.58413325],\n         [-13.03067816,  43.93856541,   0.12745409],\n         [ 15.58413325,   0.12745409,  32.40224238]]),\n  array([[22.13681009, -1.01421621, -2.59461992],\n         [-1.01421621, 22.84266646,  7.47680079],\n         [-2.59461992,  7.47680079, 12.61325485]]),\n  array([[ 35.97154608,   6.81885789, -14.90717918],\n         [  6.81885789,  24.13377267,  -8.25662768],\n         [-14.90717918,  -8.25662768,  45.22665625]]),\n  array([[ -9.31506973,   4.31478608,   4.29357934],\n         [  4.31478608,  -1.20397805, -17.44531106],\n         [  4.29357934, -17.44531106, -22.44278958]]),\n  array([[ -4.3873876 ,  17.47252611, -18.19827045],\n         [ 17.47252611, -24.86616212,   0.28234076],\n         [-18.19827045,   0.28234076, -25.63106913]]),\n  array([[ 44.75313044,  -0.93421572, -17.87473229],\n         [ -0.93421572,  17.14591745,  11.41411628],\n         [-17.87473229,  11.41411628,  32.07607338]]),\n  array([[23.63743082, 14.03018406, -2.48117061],\n         [14.03018406, 25.67309874,  7.30072952],\n         [-2.48117061,  7.30072952,  4.50359839]]),\n  array([[22.81895515, -0.36475576, 15.78026212],\n         [-0.36475576, 40.82022986,  5.77715284],\n         [15.78026212,  5.77715284,  2.92796903]]),\n  array([[ -9.08286835,  -3.96634899,   9.49057992],\n         [ -3.96634899,  16.36291227,  10.78040003],\n         [  9.49057992,  10.78040003, -27.62730477]]),\n  array([[11.41651822, -3.4128697 , 10.32307916],\n         [-3.4128697 ,  6.4441941 , 17.43712267],\n         [10.32307916, 17.43712267, 10.79964533]]),\n  array([[29.030786  ,  2.25850427,  9.61307239],\n         [ 2.25850427, -8.97271891, 15.31876066],\n         [ 9.61307239, 15.31876066, 12.74775392]]),\n  array([[ 53.48724717,   9.15886913,  16.74054848],\n         [  9.15886913, 113.18900526,  10.50515841],\n         [ 16.74054848,  10.50515841, 115.11197695]]),\n  array([[ 2.9391201 , -0.79567165, 10.9956402 ],\n         [-0.79567165, 10.80145258, -0.22100053],\n         [10.9956402 , -0.22100053, 27.88641338]]),\n  array([[34.52870749, -9.30473936, 12.90871169],\n         [-9.30473936, 88.69671947,  3.43896372],\n         [12.90871169,  3.43896372, 70.15502706]]),\n  array([[ 32.46519386, -25.79149274,  25.40084995],\n         [-25.79149274,   6.6806695 , -26.06895508],\n         [ 25.40084995, -26.06895508,  29.71723485]])],\n [array([[25.29185858,  4.9471805 ,  0.46171484],\n         [ 4.9471805 , 38.35600138,  2.21164361],\n         [ 0.46171484,  2.21164361, 27.72927776]]),\n  array([[35.64822873, -1.38734139, -2.41552856],\n         [-1.38734139, 39.01325328, -3.40692947],\n         [-2.41552856, -3.40692947, 34.45269607]]),\n  array([[33.67461362, -3.4112709 ,  7.92264039],\n         [-3.4112709 , 41.96419648,  3.5785429 ],\n         [ 7.92264039,  3.5785429 , 49.24462187]]),\n  array([[ 13.90824903,   6.33058955,  -3.50259371],\n         [  6.33058955,   4.48623027,  -8.42094404],\n         [ -3.50259371,  -8.42094404, -10.78222267]]),\n  array([[33.23697408, -0.97786338, -1.40903364],\n         [-0.97786338, 30.86254925, -7.82767654],\n         [-1.40903364, -7.82767654, 38.25544225]]),\n  array([[63.41171377,  8.1563245 , -4.66238648],\n         [ 8.1563245 , 50.72645909, -0.76644991],\n         [-4.66238648, -0.76644991, 42.69828227]]),\n  array([[ 6.27331521,  3.14140537,  5.75220849],\n         [ 3.14140537, 23.87419736, -0.66910493],\n         [ 5.75220849, -0.66910493,  8.51001851]]),\n  array([[18.25910615, -0.67628783,  2.21531705],\n         [-0.67628783, 16.23737382, -7.74493782],\n         [ 2.21531705, -7.74493782, 18.00214945]]),\n  array([[65.26442741, 10.84606119, -0.16569379],\n         [10.84606119, 50.96708137,  7.23758149],\n         [-0.16569379,  7.23758149, 62.19943482]]),\n  array([[29.55607569, -1.86844486,  1.42175009],\n         [-1.86844486, 26.73456311, -0.66106532],\n         [ 1.42175009, -0.66106532, 16.70474121]]),\n  array([[ 28.15519591, -10.27884254,  -2.93034343],\n         [-10.27884254,  39.61693629,  -3.14746464],\n         [ -2.93034343,  -3.14746464,  30.82155965]]),\n  array([[49.38753317,  1.87915861,  8.29325287],\n         [ 1.87915861, 53.96113051, -3.01538465],\n         [ 8.29325287, -3.01538465, 30.28720918]]),\n  array([[44.68333936,  5.93564756,  0.33710794],\n         [ 5.93564756, 29.5468835 ,  0.81183034],\n         [ 0.33710794,  0.81183034, 39.37742269]]),\n  array([[29.34925193,  0.28848594,  7.93975737],\n         [ 0.28848594, 47.46963217, -7.14811533],\n         [ 7.93975737, -7.14811533, 42.4862104 ]]),\n  array([[40.06730796,  2.86560721, 11.18154272],\n         [ 2.86560721, 52.2153562 ,  7.41812865],\n         [11.18154272,  7.41812865, 48.77282909]]),\n  array([[18.20971344, -2.3775526 , -0.71561986],\n         [-2.3775526 , 29.02094295,  4.61868561],\n         [-0.71561986,  4.61868561, 28.87087885]]),\n  array([[14.40238864,  0.88159142, -2.75818792],\n         [ 0.88159142, 12.55617787, -2.10761615],\n         [-2.75818792, -2.10761615, 11.47477163]]),\n  array([[24.46042395,  1.20604191,  3.05942553],\n         [ 1.20604191, 19.0351221 , -6.99525619],\n         [ 3.05942553, -6.99525619, 27.4241327 ]]),\n  array([[19.92058766,  4.1480948 , -5.67577881],\n         [ 4.1480948 , 25.35198441, -4.55023634],\n         [-5.67577881, -4.55023634, 13.06888567]]),\n  array([[30.07696258,  6.71879297,  0.40172441],\n         [ 6.71879297, 12.9464941 , -4.44891624],\n         [ 0.40172441, -4.44891624, 36.17236694]]),\n  array([[23.80011787,  1.71512642, -0.12861558],\n         [ 1.71512642, 25.62786257, -4.72949192],\n         [-0.12861558, -4.72949192, 30.40698606]]),\n  array([[30.72859445,  3.50801621, -0.55990818],\n         [ 3.50801621, 37.68389257,  2.40348961],\n         [-0.55990818,  2.40348961, 22.29177232]]),\n  array([[25.06115727, -3.00403629,  5.54182519],\n         [-3.00403629, 18.50060151,  1.18987336],\n         [ 5.54182519,  1.18987336, 26.40980535]]),\n  array([[31.31162412,  1.81043216, -3.88564945],\n         [ 1.81043216, 43.70185022,  1.39292815],\n         [-3.88564945,  1.39292815, 31.92785688]]),\n  array([[15.81532411, -2.23587947, -0.14530296],\n         [-2.23587947, 11.52433933,  0.98190048],\n         [-0.14530296,  0.98190048, 17.50938302]]),\n  array([[28.23152817,  5.6600486 , -6.55579069],\n         [ 5.6600486 , 34.19069578, -3.97966705],\n         [-6.55579069, -3.97966705, 38.57570414]]),\n  array([[46.88760201,  5.94503824, -5.94030501],\n         [ 5.94503824, 25.13114224, -2.1091458 ],\n         [-5.94030501, -2.1091458 , 30.66981829]]),\n  array([[ 4.63975802e+01,  4.21858484e+00, -9.72796346e-01],\n         [ 4.21858484e+00,  3.59849319e+01, -3.00530555e-02],\n         [-9.72796346e-01, -3.00530555e-02,  3.15743953e+01]]),\n  array([[22.23297535, -6.46199666, -7.87840065],\n         [-6.46199666, 27.55776405, -4.46698733],\n         [-7.87840065, -4.46698733, 24.55943346]]),\n  array([[41.53560817, -2.00259819,  1.99431036],\n         [-2.00259819, 39.84188288,  0.25724969],\n         [ 1.99431036,  0.25724969, 42.19570855]]),\n  array([[55.95933544, -7.12498101, -3.58317323],\n         [-7.12498101, 75.78261948, -2.26578302],\n         [-3.58317323, -2.26578302, 51.25342078]]),\n  array([[28.67605964,  3.84586736, -6.65408498],\n         [ 3.84586736, 21.25632251, -1.71933999],\n         [-6.65408498, -1.71933999, 13.56197812]]),\n  array([[23.54300762, -1.10169518, -1.52704088],\n         [-1.10169518,  6.1845461 , -2.57619957],\n         [-1.52704088, -2.57619957, 19.80266086]]),\n  array([[45.64983086, -6.49775121,  3.30918429],\n         [-6.49775121, 54.27714696,  4.81697346],\n         [ 3.30918429,  4.81697346, 51.15405465]]),\n  array([[53.96551537, -4.28797098, 14.35321509],\n         [-4.28797098, 40.59072098, -7.84025228],\n         [14.35321509, -7.84025228, 58.73805966]]),\n  array([[37.41838266, -0.92452028, -9.77765306],\n         [-0.92452028, 42.70173654, -9.60586798],\n         [-9.77765306, -9.60586798, 55.29033464]]),\n  array([[43.53131576, -0.59253512, -0.45299981],\n         [-0.59253512, 47.20216792, -3.00745268],\n         [-0.45299981, -3.00745268, 47.62429332]]),\n  array([[ 0.94560339, -3.46888528, -5.07251594],\n         [-3.46888528, 16.56441766,  7.07292467],\n         [-5.07251594,  7.07292467, 16.94760263]]),\n  array([[37.31965697, -4.79350417,  3.9574827 ],\n         [-4.79350417, 36.32633325,  3.54456848],\n         [ 3.9574827 ,  3.54456848, 31.12260736]]),\n  array([[17.53450559, -5.41143687,  5.1655346 ],\n         [-5.41143687,  3.99850927,  1.2808188 ],\n         [ 5.1655346 ,  1.2808188 , 22.15233402]]),\n  array([[64.42693526, -1.30538104,  9.16699783],\n         [-1.30538104, 69.4763467 ,  1.0390412 ],\n         [ 9.16699783,  1.0390412 , 91.05074834]]),\n  array([[ 80.99962777,  -7.12853613,  -9.93621852],\n         [ -7.12853613,  76.16496601,   8.74993768],\n         [ -9.93621852,   8.74993768, 103.30093329]]),\n  array([[50.15528989, -0.4474744 ,  2.40792487],\n         [-0.4474744 , 50.54084108, -7.73769434],\n         [ 2.40792487, -7.73769434, 48.92113329]]),\n  array([[49.02098079, -5.23345587,  4.88662766],\n         [-5.23345587, 46.60668995, 13.58301744],\n         [ 4.88662766, 13.58301744, 40.51698758]]),\n  array([[75.3915314 , -7.19211782, -3.87706637],\n         [-7.19211782, 67.18768989, -6.26302914],\n         [-3.87706637, -6.26302914, 91.37112867]]),\n  array([[76.68923596,  3.03067678,  6.91540493],\n         [ 3.03067678, 65.85737818, -4.89271961],\n         [ 6.91540493, -4.89271961, 88.45646757]]),\n  array([[41.70711656,  0.38593726,  1.75651194],\n         [ 0.38593726, 27.71140579, -7.75623845],\n         [ 1.75651194, -7.75623845, 35.16085001]]),\n  array([[87.12861229,  4.08712654, -9.22567629],\n         [ 4.08712654, 80.95474544, 13.86678334],\n         [-9.22567629, 13.86678334, 76.50271887]]),\n  array([[146.6750439 ,  -1.84424539,   4.87994985],\n         [ -1.84424539, 145.30216983,   1.26291064],\n         [  4.87994985,   1.26291064, 135.65028909]]),\n  array([[ 82.22051915,   5.41171594,  -9.22479633],\n         [  5.41171594,  52.95249711, -10.8873394 ],\n         [ -9.22479633, -10.8873394 ,  49.45534311]]),\n  array([[125.70361785,  12.97499778,  12.11405974],\n         [ 12.97499778, 106.93076785,  -0.25583111],\n         [ 12.11405974,  -0.25583111, 107.21271063]]),\n  array([[110.51459453,   1.54830216,   9.2590442 ],\n         [  1.54830216, 143.34831718,   7.11689042],\n         [  9.2590442 ,   7.11689042, 147.36894047]]),\n  array([[169.23178447,  -8.8808288 ,  -6.07632626],\n         [ -8.8808288 , 187.2383507 ,  26.54113072],\n         [ -6.07632626,  26.54113072, 173.54503161]]),\n  array([[63.7387698 , -7.97735419, -2.74295324],\n         [-7.97735419, 83.02261546, 10.2831381 ],\n         [-2.74295324, 10.2831381 , 92.38566831]]),\n  array([[169.61867655,  -9.27396549,   5.7726015 ],\n         [ -9.27396549, 121.12950207,  -0.62315786],\n         [  5.7726015 ,  -0.62315786, 116.53374109]]),\n  array([[53.24444329,  5.17557835, 20.3170428 ],\n         [ 5.17557835, 35.00962624,  4.09471653],\n         [20.3170428 ,  4.09471653, 26.0611128 ]])],\n [array([[ 19.57425882,   0.48641578, -10.6092089 ],\n         [  0.48641578,  42.78648475,   5.02727362],\n         [-10.6092089 ,   5.02727362,  51.8079161 ]]),\n  array([[ 4.11042826, -1.70755216,  9.354476  ],\n         [-1.70755216, 22.62756059, -1.05219577],\n         [ 9.354476  , -1.05219577, 20.53082903]]),\n  array([[13.05533837,  0.62111663,  1.76143625],\n         [ 0.62111663, 18.24488007, -0.37356798],\n         [ 1.76143625, -0.37356798, 10.73022007]]),\n  array([[10.5204721 , -0.77706914,  1.53554663],\n         [-0.77706914, 23.69884935, -4.10040957],\n         [ 1.53554663, -4.10040957, 17.45209417]]),\n  array([[22.92907479, -8.74899084,  0.32288983],\n         [-8.74899084, 35.42931341, 11.46980559],\n         [ 0.32288983, 11.46980559, 41.47419785]]),\n  array([[21.75209004, -5.8701439 ,  1.34277152],\n         [-5.8701439 , 37.43507619,  3.39420592],\n         [ 1.34277152,  3.39420592, 34.54069399]]),\n  array([[ 9.92226725, -3.27108585, -5.98496634],\n         [-3.27108585, -5.40036126, -7.79302925],\n         [-5.98496634, -7.79302925, 23.67824955]]),\n  array([[-9.84366972,  2.14621721, -7.03430393],\n         [ 2.14621721,  3.02817189,  3.8331595 ],\n         [-7.03430393,  3.8331595 , -3.10694983]]),\n  array([[19.44196951, -0.73291467, -4.19949123],\n         [-0.73291467, 16.75659789, -8.59035287],\n         [-4.19949123, -8.59035287,  7.20232611]]),\n  array([[34.18593818, -0.62326101,  2.32920696],\n         [-0.62326101, 23.09956426, -1.75459116],\n         [ 2.32920696, -1.75459116, 26.38090167]]),\n  array([[50.52641159,  3.91348891, -0.80842645],\n         [ 3.91348891, 27.74027615,  7.27839069],\n         [-0.80842645,  7.27839069, 37.24878865]]),\n  array([[21.51478563,  4.66911654, -3.29541985],\n         [ 4.66911654, 16.20049946, -4.57336221],\n         [-3.29541985, -4.57336221,  9.83779051]]),\n  array([[53.3834658 , -0.34009332, 11.70800485],\n         [-0.34009332, 32.69040483,  2.50824529],\n         [11.70800485,  2.50824529, 42.19038246]]),\n  array([[35.02185407, -0.40902261,  0.04252714],\n         [-0.40902261, 20.11494422, -0.7144195 ],\n         [ 0.04252714, -0.7144195 ,  9.87160422]]),\n  array([[ 19.98774714,  -3.9211205 , -10.80320038],\n         [ -3.9211205 ,  33.89144383,   3.20124321],\n         [-10.80320038,   3.20124321,  21.1081988 ]]),\n  array([[34.85325244,  3.43756997,  6.95877088],\n         [ 3.43756997, 25.27731349,  7.96094682],\n         [ 6.95877088,  7.96094682, 33.88856401]]),\n  array([[ 11.93908109,  -2.5389679 , -10.8159914 ],\n         [ -2.5389679 ,  12.98575056,  -0.13973535],\n         [-10.8159914 ,  -0.13973535,  22.94466643]]),\n  array([[45.8865598 ,  0.82317027, -0.62694777],\n         [ 0.82317027, 52.58602297, 17.29765493],\n         [-0.62694777, 17.29765493, 47.75602616]]),\n  array([[-4.99738019, -3.18589088, -1.13639568],\n         [-3.18589088, -0.91896244, -9.52216148],\n         [-1.13639568, -9.52216148, -5.08727827]]),\n  array([[ 24.69967657, -10.62382804,  -6.48088847],\n         [-10.62382804,  30.15046631,   1.73415189],\n         [ -6.48088847,   1.73415189,   5.27083993]]),\n  array([[23.18264821, -4.19195984, -0.593457  ],\n         [-4.19195984, 17.32310318, -0.97167258],\n         [-0.593457  , -0.97167258, 19.72131704]]),\n  array([[25.51433759, -4.59474831, -5.40584278],\n         [-4.59474831, 18.5757207 , -1.69860404],\n         [-5.40584278, -1.69860404, 12.34627445]]),\n  array([[33.01863352,  3.15609934,  8.31449475],\n         [ 3.15609934, 24.91456836,  4.68973221],\n         [ 8.31449475,  4.68973221, 42.18526667]]),\n  array([[14.28697241,  4.01574944, -1.05378545],\n         [ 4.01574944,  5.89701705, -0.23984452],\n         [-1.05378545, -0.23984452,  8.74495268]]),\n  array([[ -0.41010545,  -2.73348569,  -0.95256605],\n         [ -2.73348569,  -5.32078443,  -3.7593065 ],\n         [ -0.95256605,  -3.7593065 , -10.3974352 ]]),\n  array([[ 9.02476494, -2.18553204,  6.92104149],\n         [-2.18553204, 24.53259503,  3.47754065],\n         [ 6.92104149,  3.47754065, 19.39019826]]),\n  array([[ 9.23910163, -6.01436639, -1.24204808],\n         [-6.01436639, -3.75398233, -7.34865355],\n         [-1.24204808, -7.34865355,  1.89114127]]),\n  array([[43.44819017,  8.9873448 , -0.14642575],\n         [ 8.9873448 , 49.23666485,  0.3342215 ],\n         [-0.14642575,  0.3342215 , 39.08658735]]),\n  array([[40.06384955, -3.02859122, -2.74790227],\n         [-3.02859122, 34.55121748, -3.2079243 ],\n         [-2.74790227, -3.2079243 , 39.62698807]]),\n  array([[10.14573423, -3.95067775,  1.53746763],\n         [-3.95067775,  7.6774337 ,  2.65082934],\n         [ 1.53746763,  2.65082934,  8.74535722]]),\n  array([[13.27042265,  4.97458902,  0.65571776],\n         [ 4.97458902, 26.27190335,  4.52438004],\n         [ 0.65571776,  4.52438004, 30.96541165]]),\n  array([[33.07091004, -3.14023141,  7.33870663],\n         [-3.14023141, 34.26293578, -7.90420189],\n         [ 7.33870663, -7.90420189, 44.47346118]]),\n  array([[34.33947685, -6.21872119,  1.34157095],\n         [-6.21872119, 44.2752069 , -3.7448044 ],\n         [ 1.34157095, -3.7448044 , 49.1573966 ]]),\n  array([[  2.76154611,  -1.41273681,  10.90573793],\n         [ -1.41273681, -10.00420678,  -2.52946676],\n         [ 10.90573793,  -2.52946676,   0.87886036]]),\n  array([[41.05847344,  0.15496704, -1.74860876],\n         [ 0.15496704, 39.39465008, -1.06322826],\n         [-1.74860876, -1.06322826, 44.92865598]]),\n  array([[37.21230532, -8.80289654,  7.22284633],\n         [-8.80289654, 30.58600062,  2.56589242],\n         [ 7.22284633,  2.56589242, 36.32929671]]),\n  array([[-6.63645828, -5.73125283,  0.70299303],\n         [-5.73125283, -1.52802476,  0.1311924 ],\n         [ 0.70299303,  0.1311924 , -8.34517902]]),\n  array([[19.18774015,  8.96374756, -5.64884073],\n         [ 8.96374756, 27.32900178, -1.28867627],\n         [-5.64884073, -1.28867627, 14.54581681]]),\n  array([[-3.9693671 , -0.69869292, -1.37680669],\n         [-0.69869292, 13.22256582, -0.11514343],\n         [-1.37680669, -0.11514343,  8.66172088]]),\n  array([[  7.35436508,  -9.3325025 ,  -3.56580701],\n         [ -9.3325025 ,  26.95537916, -10.85121586],\n         [ -3.56580701, -10.85121586,  19.25998333]]),\n  array([[65.59806651, -4.53065889, -6.73179059],\n         [-4.53065889, 63.29106578,  0.82536669],\n         [-6.73179059,  0.82536669, 35.02275354]]),\n  array([[52.91416717, -6.10128123, -5.17347029],\n         [-6.10128123, 50.83801854, -3.79178903],\n         [-5.17347029, -3.79178903, 53.40664641]]),\n  array([[ 55.66278369, -11.75374721,   6.39298501],\n         [-11.75374721,  38.0972031 ,  -0.45723697],\n         [  6.39298501,  -0.45723697,  55.83789198]]),\n  array([[12.52749739, -1.88859482,  1.16594546],\n         [-1.88859482, 36.04350122,  0.05244244],\n         [ 1.16594546,  0.05244244, 32.82946552]]),\n  array([[57.75126813, -6.96711671,  2.47569336],\n         [-6.96711671, 41.5054474 , -7.33227428],\n         [ 2.47569336, -7.33227428, 46.49728681]]),\n  array([[35.92748478, -1.36202329, -3.12424828],\n         [-1.36202329, 37.29137186, -6.93009292],\n         [-3.12424828, -6.93009292, 65.11922169]]),\n  array([[ 67.73788251,  13.97061235, -21.94648361],\n         [ 13.97061235,  63.07942363,  10.03504686],\n         [-21.94648361,  10.03504686,  56.80071586]]),\n  array([[56.83615036,  7.10771873,  7.36781585],\n         [ 7.10771873, 29.29017373,  4.78659647],\n         [ 7.36781585,  4.78659647, 43.67695488]]),\n  array([[139.82630671,   2.62856873,  -5.8231959 ],\n         [  2.62856873, 118.52244823,  -0.27222634],\n         [ -5.8231959 ,  -0.27222634, 107.18580854]]),\n  array([[100.52860791,  -8.43054986,  -6.51111785],\n         [ -8.43054986,  98.9182697 , -10.76998414],\n         [ -6.51111785, -10.76998414,  86.52118868]]),\n  array([[ 25.9334093 ,  -8.36570165,   2.99092336],\n         [ -8.36570165,  40.41501489, -25.957236  ],\n         [  2.99092336, -25.957236  ,  33.14434866]]),\n  array([[ 4.16349448e+01, -1.00264717e+01,  1.90672220e-02],\n         [-1.00264717e+01,  6.01207593e+01,  6.36324911e+00],\n         [ 1.90672220e-02,  6.36324911e+00,  5.83889099e+01]]),\n  array([[100.53325496,  -5.60775066,   0.62258976],\n         [ -5.60775066, 120.75330124,   1.72612614],\n         [  0.62258976,   1.72612614, 132.52148729]]),\n  array([[ 5.5857142 ,  1.12488211,  3.62949181],\n         [ 1.12488211, -1.44151224, -1.40981037],\n         [ 3.62949181, -1.40981037, 28.52760358]]),\n  array([[ 96.07823022,  -5.99417139,   8.02179185],\n         [ -5.99417139, 121.6949052 ,  -4.04271268],\n         [  8.02179185,  -4.04271268, 116.88828027]]),\n  array([[103.39251799,  22.40883991, -10.90925715],\n         [ 22.40883991, 139.33982768,   4.00811679],\n         [-10.90925715,   4.00811679, 106.49815717]])],\n [array([[ 0.14970417,  3.67597803, -2.33134873],\n         [ 3.67597803, -2.26278532,  6.25668592],\n         [-2.33134873,  6.25668592, 12.69126662]]),\n  array([[ 0.40116116,  8.81130153,  4.34012584],\n         [ 8.81130153, 18.43643851, -2.78907911],\n         [ 4.34012584, -2.78907911, -7.48178261]]),\n  array([[ 10.44096153,   6.25584119,   1.27543456],\n         [  6.25584119,  21.27340091, -10.46585556],\n         [  1.27543456, -10.46585556,   5.5743801 ]]),\n  array([[  9.98471407,   0.32484241,  -1.8778759 ],\n         [  0.32484241, -11.87053558, -10.94839663],\n         [ -1.8778759 , -10.94839663, -10.208538  ]]),\n  array([[-2.73136746,  2.74732041,  4.05723707],\n         [ 2.74732041,  6.73922448, -2.64001829],\n         [ 4.05723707, -2.64001829, -3.57704935]]),\n  array([[ 22.51235578, -14.60355363,  -3.68678246],\n         [-14.60355363,  26.5617083 ,   0.37407877],\n         [ -3.68678246,   0.37407877,  34.42314416]]),\n  array([[15.62560833, -6.86010998,  1.3053645 ],\n         [-6.86010998, 26.01091704,  4.60895866],\n         [ 1.3053645 ,  4.60895866, 23.4924606 ]]),\n  array([[29.20117094,  4.57627946,  3.4849566 ],\n         [ 4.57627946, -4.70460676,  5.47252941],\n         [ 3.4849566 ,  5.47252941, -2.79588521]]),\n  array([[19.73493791, -7.63240772, -1.76519674],\n         [-7.63240772,  5.5622522 ,  8.62305415],\n         [-1.76519674,  8.62305415, 13.90255399]]),\n  array([[  3.10058874,  -2.59713435, -11.7266908 ],\n         [ -2.59713435,   1.69356466,  -5.10293259],\n         [-11.7266908 ,  -5.10293259,  -0.2237281 ]]),\n  array([[31.70521182,  3.90420249, -1.71891665],\n         [ 3.90420249,  8.58735594, -9.62576246],\n         [-1.71891665, -9.62576246, 15.97250399]]),\n  array([[42.39177886, -4.72450832, -9.71951195],\n         [-4.72450832, 19.99854244,  3.09668416],\n         [-9.71951195,  3.09668416, 27.14383288]]),\n  array([[20.51436794,  3.00978934, -2.02927344],\n         [ 3.00978934, -0.5634857 , -5.68382577],\n         [-2.02927344, -5.68382577, 24.64436708]]),\n  array([[ 5.37466645, -2.42296688, -4.72546133],\n         [-2.42296688, 18.33501616, -0.64838904],\n         [-4.72546133, -0.64838904, -1.49991451]]),\n  array([[32.39862723, -6.27325357, -3.58999648],\n         [-6.27325357, 25.14079393,  0.76704339],\n         [-3.58999648,  0.76704339,  6.46527135]]),\n  array([[ 9.11686559,  2.45034167,  0.89893788],\n         [ 2.45034167, 28.35929171,  9.26700496],\n         [ 0.89893788,  9.26700496, 17.99688701]]),\n  array([[ 32.33474032,   3.53612673,   2.52717566],\n         [  3.53612673,  28.39472326, -12.61931419],\n         [  2.52717566, -12.61931419,  36.30571086]]),\n  array([[ 6.1061417 , -1.42066232, -5.74786303],\n         [-1.42066232, 13.70942547, 11.31044463],\n         [-5.74786303, 11.31044463,  3.30783517]]),\n  array([[24.06918851, -3.63029233,  6.63925753],\n         [-3.63029233, -1.9075085 , 12.31042406],\n         [ 6.63925753, 12.31042406, 21.63368371]]),\n  array([[ 9.12428577, -0.07277383,  3.54995498],\n         [-0.07277383, 20.8398616 , -5.82011638],\n         [ 3.54995498, -5.82011638, 27.31371813]]),\n  array([[38.74649438,  5.61630897, -8.51485846],\n         [ 5.61630897, 27.20421824, 10.99324587],\n         [-8.51485846, 10.99324587, 36.63350294]]),\n  array([[ -3.26390176,   4.7601144 ,  15.39951697],\n         [  4.7601144 ,  -0.08629543,   0.40319514],\n         [ 15.39951697,   0.40319514, -13.79642786]]),\n  array([[-10.77810153, -11.22953149,  14.80623761],\n         [-11.22953149,  24.79165604, -10.1038967 ],\n         [ 14.80623761, -10.1038967 ,   6.59203607]]),\n  array([[-2.6519873 ,  0.31598415, -1.60823088],\n         [ 0.31598415,  4.61274531, 10.1345312 ],\n         [-1.60823088, 10.1345312 , -0.40091454]]),\n  array([[-2.10640431,  6.86438833,  3.447567  ],\n         [ 6.86438833,  2.09982416,  5.25962698],\n         [ 3.447567  ,  5.25962698, 11.28750311]]),\n  array([[28.19641734, -5.61571768,  2.34978148],\n         [-5.61571768, 17.82212526, -4.46372042],\n         [ 2.34978148, -4.46372042, 10.05177938]]),\n  array([[-10.70203638, -10.77221348, -11.7014152 ],\n         [-10.77221348,   2.71714356, -10.37744832],\n         [-11.7014152 , -10.37744832,   0.15621043]]),\n  array([[ 21.67483312, -14.59674815,   2.45906334],\n         [-14.59674815,  28.16215678,   1.34445309],\n         [  2.45906334,   1.34445309,  19.24221717]]),\n  array([[12.56106928, -3.4095391 ,  6.84700862],\n         [-3.4095391 ,  7.99898046,  2.95214054],\n         [ 6.84700862,  2.95214054, 27.62128335]]),\n  array([[  5.23883436, -13.05446502,  -1.68094219],\n         [-13.05446502,  22.83328872,  -1.31366286],\n         [ -1.68094219,  -1.31366286,  15.99582413]]),\n  array([[28.39151312,  6.58034047, -7.6699721 ],\n         [ 6.58034047, 31.7411164 ,  6.66761548],\n         [-7.6699721 ,  6.66761548, 27.40639962]]),\n  array([[42.46208785, 13.20988445, -6.91325201],\n         [13.20988445, 17.54678905, -4.61732903],\n         [-6.91325201, -4.61732903, 19.83438709]]),\n  array([[ 4.56306234, 11.97549023,  9.01790705],\n         [11.97549023, 21.42757337,  3.55986041],\n         [ 9.01790705,  3.55986041, 28.08069755]]),\n  array([[-3.07446608, -2.02418486,  2.74334522],\n         [-2.02418486,  0.02306103,  9.31923479],\n         [ 2.74334522,  9.31923479, -7.08004542]]),\n  array([[ 6.41064098, -6.10002757,  1.83020368],\n         [-6.10002757,  9.29746977,  8.63392991],\n         [ 1.83020368,  8.63392991, 10.81115013]]),\n  array([[34.68801955,  9.45227189,  8.04004504],\n         [ 9.45227189, 14.57763802,  3.60197207],\n         [ 8.04004504,  3.60197207, 28.39138837]]),\n  array([[-0.87010905, -0.83872691, -6.29539707],\n         [-0.83872691,  3.32479644, -9.75815453],\n         [-6.29539707, -9.75815453,  2.5949992 ]]),\n  array([[34.15007213, -5.19953796,  5.68575099],\n         [-5.19953796, 27.13204796, -0.39776866],\n         [ 5.68575099, -0.39776866, 44.97708364]]),\n  array([[-7.17671993, -5.61839215,  3.49513294],\n         [-5.61839215, -1.66874289, 14.4203487 ],\n         [ 3.49513294, 14.4203487 ,  1.48763495]]),\n  array([[  0.25003695,  -2.40128071,  -1.55843184],\n         [ -2.40128071, -11.91978424,   1.38363701],\n         [ -1.55843184,   1.38363701,  -3.90366762]]),\n  array([[  3.0765447 ,   0.97294027,   2.25963612],\n         [  0.97294027,  12.29059955, -15.1966553 ],\n         [  2.25963612, -15.1966553 ,  12.59307994]]),\n  array([[ 6.65857493,  0.24893065,  9.29978418],\n         [ 0.24893065, 17.67882354, -0.99347864],\n         [ 9.29978418, -0.99347864, -4.47544777]]),\n  array([[  7.43507855,   3.85462343, -12.63603976],\n         [  3.85462343,  -7.40299602,   4.28183255],\n         [-12.63603976,   4.28183255, -21.77026985]]),\n  array([[ 52.95528802,  10.89003915,   9.990521  ],\n         [ 10.89003915,  46.25781454, -18.44273253],\n         [  9.990521  , -18.44273253,  58.12529808]]),\n  array([[ 17.91503972,  -0.43381886, -11.53685728],\n         [ -0.43381886,  12.49687782,  -7.5905711 ],\n         [-11.53685728,  -7.5905711 ,  32.19832959]]),\n  array([[ 39.49997392,   5.93517414, -24.75020427],\n         [  5.93517414,  38.70540464,  10.33383921],\n         [-24.75020427,  10.33383921,  51.98189306]]),\n  array([[ 16.32904367,  -5.1544382 , -15.94554688],\n         [ -5.1544382 ,   8.44953603,   0.67324077],\n         [-15.94554688,   0.67324077, -17.38964   ]]),\n  array([[42.97558325, -9.63288666, 24.66264179],\n         [-9.63288666, 33.79551258,  2.46917766],\n         [24.66264179,  2.46917766, 40.55978941]]),\n  array([[87.17163759, 18.8642856 , 25.12508967],\n         [18.8642856 , 89.40859086, 13.9822517 ],\n         [25.12508967, 13.9822517 , 78.63508182]]),\n  array([[ 53.03255277, -22.83153532,  23.31571403],\n         [-22.83153532,  63.90246259,   0.3159658 ],\n         [ 23.31571403,   0.3159658 ,  47.94697646]]),\n  array([[89.98443587,  2.82880052, -4.83327911],\n         [ 2.82880052, 77.38349609,  7.37885672],\n         [-4.83327911,  7.37885672, 92.75271632]]),\n  array([[ 5.24986887, 17.18694464,  6.22197939],\n         [17.18694464, 31.94393193, -3.49612765],\n         [ 6.22197939, -3.49612765, 38.40228874]]),\n  array([[133.61504841,  -2.9256064 ,  -4.25229811],\n         [ -2.9256064 ,  90.57258733,  11.32173306],\n         [ -4.25229811,  11.32173306,  98.50591668]]),\n  array([[  6.49560453, -10.76729368,   5.41673721],\n         [-10.76729368,  31.94229051, -11.68555943],\n         [  5.41673721, -11.68555943,  23.09063249]]),\n  array([[43.94988724,  7.67134658, 12.70049916],\n         [ 7.67134658, 15.65534631, -7.72860628],\n         [12.70049916, -7.72860628, 45.35954402]]),\n  array([[ 98.8664824 ,   9.57898569,   1.24049983],\n         [  9.57898569, 111.21504851,   1.19837438],\n         [  1.24049983,   1.19837438,  85.80780587]])],\n [array([[36.21082438, -0.1027572 , -4.78327016],\n         [-0.1027572 , 48.56345578,  2.48740345],\n         [-4.78327016,  2.48740345, 44.50783741]]),\n  array([[47.71579103, -2.57074154,  3.53624642],\n         [-2.57074154, 28.18749506,  5.69543117],\n         [ 3.53624642,  5.69543117, 23.7736532 ]]),\n  array([[22.20625558,  3.89037787, -8.80229682],\n         [ 3.89037787, 21.03432704, -0.61878072],\n         [-8.80229682, -0.61878072, 18.71945372]]),\n  array([[21.14652345,  4.66237163,  1.01524878],\n         [ 4.66237163, 18.50775642, -1.42595169],\n         [ 1.01524878, -1.42595169, 17.71225985]]),\n  array([[20.23862191, -2.09509966,  3.89967885],\n         [-2.09509966, 22.3168709 ,  4.139042  ],\n         [ 3.89967885,  4.139042  ,  9.29583584]]),\n  array([[ 6.39137504, -8.5903188 , -3.07458485],\n         [-8.5903188 , 30.12983347, -2.26458776],\n         [-3.07458485, -2.26458776,  1.50051541]]),\n  array([[29.86979346, -0.97164753, -7.43240801],\n         [-0.97164753, 19.60681702, -6.24555844],\n         [-7.43240801, -6.24555844, 18.4256532 ]]),\n  array([[21.71919083, -5.33012856, -2.4463023 ],\n         [-5.33012856, 38.88564607,  9.06517923],\n         [-2.4463023 ,  9.06517923, 30.76399707]]),\n  array([[33.09407726,  5.56429626,  1.52400051],\n         [ 5.56429626, 42.89263219,  4.25397279],\n         [ 1.52400051,  4.25397279, 49.06522297]]),\n  array([[20.09905674,  0.74705111,  4.71657137],\n         [ 0.74705111,  9.71897026,  0.57494688],\n         [ 4.71657137,  0.57494688,  6.88506972]]),\n  array([[36.08223461, -2.21903799,  1.11141625],\n         [-2.21903799, 34.80389402,  1.61073114],\n         [ 1.11141625,  1.61073114, 39.52333506]]),\n  array([[19.27465053, -4.18759233, 11.23747235],\n         [-4.18759233, 23.8479893 , -3.80250243],\n         [11.23747235, -3.80250243, -6.32844378]]),\n  array([[24.39603459,  9.27098322,  0.64364679],\n         [ 9.27098322, 21.79769146, -0.54464274],\n         [ 0.64364679, -0.54464274, 23.90726287]]),\n  array([[14.12938492,  3.09519245,  3.86472037],\n         [ 3.09519245,  6.02179893,  1.86077699],\n         [ 3.86472037,  1.86077699,  8.73645258]]),\n  array([[14.73035348, 10.73336116, -8.0985795 ],\n         [10.73336116, 17.85810731, -1.27253431],\n         [-8.0985795 , -1.27253431, 14.04751408]]),\n  array([[18.16963492,  1.57086619, -2.85018663],\n         [ 1.57086619,  5.4517535 ,  4.51513903],\n         [-2.85018663,  4.51513903, 17.03270818]]),\n  array([[ -9.94883461,   0.08150066,   1.87913366],\n         [  0.08150066,   7.06187338, -10.987312  ],\n         [  1.87913366, -10.987312  ,   7.35759835]]),\n  array([[ 13.8379582 ,   5.70941799, -10.03044693],\n         [  5.70941799,  31.38576275,   6.74211534],\n         [-10.03044693,   6.74211534,  40.00931308]]),\n  array([[10.55469058,  2.22061094, -4.85369957],\n         [ 2.22061094, -1.32567052, -3.67240722],\n         [-4.85369957, -3.67240722,  3.50004457]]),\n  array([[ 36.20491644, -11.53321775,  -8.01925298],\n         [-11.53321775,  28.33854977,   1.00816247],\n         [ -8.01925298,   1.00816247,  45.08333881]]),\n  array([[20.30416827,  1.54111881,  5.37526069],\n         [ 1.54111881, 38.206209  , -5.8341891 ],\n         [ 5.37526069, -5.8341891 , 26.1015959 ]]),\n  array([[30.99163897,  1.93304857,  3.3114114 ],\n         [ 1.93304857, 23.39221927, -2.34460683],\n         [ 3.3114114 , -2.34460683, 21.31867963]]),\n  array([[13.48758184, -1.18854466, 10.87446231],\n         [-1.18854466, 12.18186905, -2.42978263],\n         [10.87446231, -2.42978263, 13.35917463]]),\n  array([[26.50139105,  5.61865982, 11.25675456],\n         [ 5.61865982, 32.08310423, -4.15947033],\n         [11.25675456, -4.15947033, 27.03650866]]),\n  array([[18.06685175,  0.45788299,  5.24783906],\n         [ 0.45788299, -1.41282899, -5.99085799],\n         [ 5.24783906, -5.99085799, 24.61770652]]),\n  array([[27.36447161, -5.09558969, -7.555756  ],\n         [-5.09558969, 29.67257111,  8.73054094],\n         [-7.555756  ,  8.73054094, 38.30239701]]),\n  array([[18.63474161,  0.20102772,  1.29527626],\n         [ 0.20102772,  9.0125081 , -8.46533288],\n         [ 1.29527626, -8.46533288, -0.69530578]]),\n  array([[ 1.12496591,  6.1240984 , -0.636683  ],\n         [ 6.1240984 , -1.98325073, 10.66977937],\n         [-0.636683  , 10.66977937,  0.81802197]]),\n  array([[ 8.12367293, -0.95040417, -2.47746866],\n         [-0.95040417, 27.30344413, -2.32520265],\n         [-2.47746866, -2.32520265, 24.43721415]]),\n  array([[10.17347942, -3.91768588, -0.35311092],\n         [-3.91768588, 24.45913091, -1.60750336],\n         [-0.35311092, -1.60750336, 11.95769086]]),\n  array([[-2.22460175, -2.00208381, -4.08376692],\n         [-2.00208381, -2.37898663,  9.95841189],\n         [-4.08376692,  9.95841189,  1.00665949]]),\n  array([[25.68527855, -3.91010057, -9.11209079],\n         [-3.91010057, 28.85571943, -5.02880962],\n         [-9.11209079, -5.02880962, 23.88286579]]),\n  array([[36.65572646, -5.25525758,  0.10633179],\n         [-5.25525758, 42.31810104, -3.24139634],\n         [ 0.10633179, -3.24139634, 37.32462948]]),\n  array([[30.68289462, -1.28501228, -5.96921974],\n         [-1.28501228, 39.00871945,  6.43800668],\n         [-5.96921974,  6.43800668, 31.96018408]]),\n  array([[42.4542301 ,  8.51631937,  2.48525249],\n         [ 8.51631937, 41.43610922,  0.71335538],\n         [ 2.48525249,  0.71335538, 41.23833391]]),\n  array([[23.09348743,  3.40623972, -9.81589369],\n         [ 3.40623972,  0.44818672,  3.38657754],\n         [-9.81589369,  3.38657754, 15.9387958 ]]),\n  array([[26.19644688, -3.48450705,  5.22581156],\n         [-3.48450705, 32.81140766, -6.12213827],\n         [ 5.22581156, -6.12213827, 25.95487819]]),\n  array([[  9.80613214,  -0.84673553, -12.7239826 ],\n         [ -0.84673553,  11.79606818,  -5.24907988],\n         [-12.7239826 ,  -5.24907988,  20.83763367]]),\n  array([[38.46509852, -6.15579748, -0.19092239],\n         [-6.15579748, 48.41020161,  1.06892673],\n         [-0.19092239,  1.06892673, 36.21522842]]),\n  array([[26.99213555,  4.41294689,  2.38369219],\n         [ 4.41294689, 39.70532191,  9.12295653],\n         [ 2.38369219,  9.12295653, 42.29371033]]),\n  array([[53.91217425, -1.53046042, -5.9174986 ],\n         [-1.53046042, 39.47520849,  8.61814094],\n         [-5.9174986 ,  8.61814094, 55.71412782]]),\n  array([[  3.79434013, -13.56654485,  -8.95783027],\n         [-13.56654485,  16.84621562,   0.47409406],\n         [ -8.95783027,   0.47409406,  31.14663382]]),\n  array([[33.45036777, 23.20625367,  7.25955913],\n         [23.20625367, 49.5984111 , -4.94376041],\n         [ 7.25955913, -4.94376041, 48.79774148]]),\n  array([[59.53912726, -7.87721801,  4.07738718],\n         [-7.87721801, 31.44497197,  8.01491025],\n         [ 4.07738718,  8.01491025, 28.0960387 ]]),\n  array([[22.13515416,  2.37254859,  3.14648843],\n         [ 2.37254859, 19.44686416, -3.05141286],\n         [ 3.14648843, -3.05141286, -5.81896009]]),\n  array([[ 61.10073828,   2.60112763, -15.31495388],\n         [  2.60112763,  53.22852999,  -8.33003988],\n         [-15.31495388,  -8.33003988,  64.65759794]]),\n  array([[ 21.91466659,   0.92523187, -14.94667129],\n         [  0.92523187,  22.23221117,   4.89240145],\n         [-14.94667129,   4.89240145,  26.42756985]]),\n  array([[47.69982466, -2.36170588, 18.73237494],\n         [-2.36170588, 43.73666256, -2.49467337],\n         [18.73237494, -2.49467337, 53.39245537]]),\n  array([[ 87.89939745,   8.88826789,  13.35649067],\n         [  8.88826789, 116.73078258,  -4.72959112],\n         [ 13.35649067,  -4.72959112, 128.1449495 ]]),\n  array([[ 89.10488212,  -8.4494082 ,   3.26170691],\n         [ -8.4494082 ,  85.15984082, -13.8698786 ],\n         [  3.26170691, -13.8698786 ,  85.87915308]]),\n  array([[106.24388412,   6.75526883,   4.47466076],\n         [  6.75526883,  93.64552338,   2.95551111],\n         [  4.47466076,   2.95551111, 107.61276733]]),\n  array([[  9.27497096,  13.56651317,   0.63607548],\n         [ 13.56651317,   3.72527796, -13.84721185],\n         [  0.63607548, -13.84721185,  17.63917234]]),\n  array([[81.34579366,  2.51300125, -6.53314407],\n         [ 2.51300125, 67.53057901, 10.97999073],\n         [-6.53314407, 10.97999073, 61.09511448]]),\n  array([[ 72.936585  , -11.99087731,   2.35780508],\n         [-11.99087731,  60.15688569,   1.33405942],\n         [  2.35780508,   1.33405942,  56.65368134]]),\n  array([[ 71.8738646 ,  -2.61471669, -11.2356321 ],\n         [ -2.61471669,  86.87612037, -17.46001573],\n         [-11.2356321 , -17.46001573,  96.20332572]]),\n  array([[ 91.91399179,  11.57235648,  22.62331006],\n         [ 11.57235648, 105.85293013,   4.66718593],\n         [ 22.62331006,   4.66718593, 105.3311706 ]])]]"
     },
     "execution_count": 14,
     "metadata": {},
     "output_type": "execute_result"
    }
   ],
   "source": [
    "d155.data_dict.values()"
   ],
   "metadata": {
    "collapsed": false,
    "pycharm": {
     "name": "#%%\n"
    }
   }
  },
  {
   "cell_type": "code",
   "execution_count": 13,
   "outputs": [
    {
     "data": {
      "text/plain": "array([[  8.44017363,  -2.36454054,   1.78758717],\n       [ -2.36454054,  13.34803232,   1.68922878],\n       [  1.78758717,   1.68922878, -13.14022519]])"
     },
     "execution_count": 13,
     "metadata": {},
     "output_type": "execute_result"
    }
   ],
   "source": [
    "d155.T_configs[0][0].info['dft_virial']"
   ],
   "metadata": {
    "collapsed": false,
    "pycharm": {
     "name": "#%%\n"
    }
   }
  },
  {
   "cell_type": "code",
   "execution_count": null,
   "outputs": [],
   "source": [],
   "metadata": {
    "collapsed": false,
    "pycharm": {
     "name": "#%%\n"
    }
   }
  }
 ],
 "metadata": {
  "kernelspec": {
   "name": "quip",
   "language": "python",
   "display_name": "QUIP"
  },
  "language_info": {
   "codemirror_mode": {
    "name": "ipython",
    "version": 2
   },
   "file_extension": ".py",
   "mimetype": "text/x-python",
   "name": "python",
   "nbconvert_exporter": "python",
   "pygments_lexer": "ipython2",
   "version": "2.7.6"
  }
 },
 "nbformat": 4,
 "nbformat_minor": 0
}