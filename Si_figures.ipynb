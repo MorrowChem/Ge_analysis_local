{
 "cells": [
  {
   "cell_type": "markdown",
   "metadata": {
    "collapsed": true,
    "pycharm": {
     "name": "#%% md\n"
    }
   },
   "source": [
    "# Figures and finished data processing for Si from sparse and patchy data paper\n"
   ]
  },
  {
   "cell_type": "code",
   "execution_count": 177,
   "outputs": [],
   "source": [
    "from Ge_calculation import GAP, MD_run\n",
    "from Ge_analysis import *\n",
    "import pickle\n",
    "from ase.io.cfg import read_cfg\n",
    "import numpy as np\n",
    "import os\n",
    "from ase import build\n",
    "from ase.atoms import Atoms\n",
    "from quippy.potential import Potential\n",
    "from quippy.descriptors import Descriptor\n",
    "from copy import deepcopy\n",
    "from ase.io.extxyz import read_xyz, write_xyz\n",
    "import pandas as pd\n",
    "from sklearn import decomposition\n",
    "import matplotlib.pyplot as plt\n",
    "from glob import glob\n",
    "\n",
    "import numpy as np\n",
    "\n",
    "from scipy.stats import gaussian_kde\n",
    "\n",
    "import matplotlib\n",
    "import matplotlib.pyplot as plt\n",
    "\n",
    "%matplotlib inline\n",
    "\n",
    "from matplotlib import cm\n",
    "from matplotlib.colors import ListedColormap, LinearSegmentedColormap\n",
    "\n",
    "from ase.io import read, write\n",
    "from ase.neighborlist import neighbor_list\n",
    "\n",
    "from collections import Counter\n",
    "\n",
    "from quippy.descriptors import Descriptor\n",
    "\n",
    "from matscipy.rings import ring_statistics\n",
    "\n",
    "plt.rcParams['font.family'] = 'sans-serif'\n",
    "plt.rcParams['font.sans-serif'] = [ 'Helvetica', 'Arial', 'FreeSans', 'DejaVu Sans' ]\n",
    "\n",
    "plt.rcParams['axes.labelsize'] = 18\n",
    "plt.rcParams['xtick.labelsize'] = 15\n",
    "plt.rcParams['ytick.labelsize'] = 15\n",
    "\n",
    "plt.rcParams['legend.fontsize'] = 14\n",
    "plt.rcParams['legend.title_fontsize'] = 14\n",
    "plt.rcParams['legend.fancybox'] = False\n",
    "plt.rcParams['legend.edgecolor'] = 'k'\n",
    "plt.rcParams['legend.borderaxespad'] = 1.5\n",
    "\n",
    "plt.rcParams['lines.linewidth'] = 3.0\n",
    "plt.rcParams['axes.linewidth'] = 1.5\n",
    "\n",
    "plt.rcParams['xtick.direction'] = 'in'\n",
    "plt.rcParams['xtick.major.size'] = 10\n",
    "plt.rcParams['xtick.major.width'] = 1.0\n",
    "plt.rcParams['xtick.minor.size'] = 5\n",
    "plt.rcParams['xtick.minor.width'] = 1.0\n",
    "\n",
    "plt.rcParams['ytick.direction'] = 'in'\n",
    "plt.rcParams['ytick.major.size'] = 10\n",
    "plt.rcParams['ytick.major.width'] = 1.0\n",
    "plt.rcParams['ytick.minor.size'] = 5\n",
    "plt.rcParams['ytick.minor.width'] = 1.0\n"
   ],
   "metadata": {
    "collapsed": false,
    "pycharm": {
     "name": "#%%\n"
    }
   }
  },
  {
   "cell_type": "code",
   "execution_count": 114,
   "outputs": [],
   "source": [
    "os.chdir('/home/joe/Documents/Ge_od/Si_JCP_data')"
   ],
   "metadata": {
    "collapsed": false,
    "pycharm": {
     "name": "#%%\n"
    }
   }
  },
  {
   "cell_type": "markdown",
   "source": [
    "# Validation of the GAP fitting\n",
    "* RMS on a testing set, choose the GAP-18 database's liquid/amorphous/crystalline structures (separately)"
   ],
   "metadata": {
    "collapsed": false,
    "pycharm": {
     "name": "#%% md\n"
    }
   }
  },
  {
   "cell_type": "markdown",
   "source": [
    "## Regularisation"
   ],
   "metadata": {
    "collapsed": false,
    "pycharm": {
     "name": "#%% md\n"
    }
   }
  },
  {
   "cell_type": "code",
   "execution_count": 3,
   "outputs": [],
   "source": [
    "reg_DIR = '/home/joe/Documents/Ge_od/Potentials/Si_myDB_reg_testing/'\n",
    "red_DIR = '/home/joe/Documents/Ge_od/Potentials/Si_myDB_reduction_testing/'"
   ],
   "metadata": {
    "collapsed": false,
    "pycharm": {
     "name": "#%%\n"
    }
   }
  },
  {
   "cell_type": "code",
   "execution_count": 4,
   "outputs": [],
   "source": [
    "with open('/home/joe/Documents/Ge_od/Structure_databases/gp_iter6_sparse9k.xml.xyz', 'r') as f:\n",
    "    GAP_6 = list(read_xyz(f, index=slice(0,None)))\n",
    "with open('/home/joe/Documents/Ge_od/Potentials/Si_myDB_reg_testing/Si_myDB_64_125_216_train.xyz', 'r') as f:\n",
    "    MyDB_liqamo_train = list(read_xyz(f, index=slice(0,None)))\n",
    "with open('/home/joe/Documents/Ge_od/Potentials/Si_myDB_reg_testing/Si_myDB_64_125_216_validate.xyz', 'r') as f:\n",
    "    MyDB_liqamo_val = list(read_xyz(f, index=slice(0,None)))"
   ],
   "metadata": {
    "collapsed": false,
    "pycharm": {
     "name": "#%%\n"
    }
   }
  },
  {
   "cell_type": "markdown",
   "source": [
    "Plots here of:\n",
    "\n",
    "Structure factor FSP alongside RMSE (test set and *ab initio* MD for both MTP and GAP):\n",
    "* regularisation increasing from normal to very loose (GAP only)\n",
    "* DB reduction from 100% to 25%\n",
    "\n",
    "ensure test set is 20% portion of GAP-MD data, strictly totally separate runs (not correlated)\n",
    "\n",
    "systematic reduction: be *more* systematic, removing particular runs?"
   ],
   "metadata": {
    "collapsed": false,
    "pycharm": {
     "name": "#%% md\n"
    }
   }
  },
  {
   "cell_type": "markdown",
   "source": [
    "### Calculate RMSEs"
   ],
   "metadata": {
    "collapsed": false,
    "pycharm": {
     "name": "#%% md\n"
    }
   }
  },
  {
   "cell_type": "code",
   "execution_count": 34,
   "outputs": [
    {
     "name": "stdout",
     "output_type": "stream",
     "text": [
      "['/home/joe/Documents/Ge_od/Potentials/Si_myDB_reg_testing/Si_myDB_ds0.001_0.5_0.05_0.0.xml', '/home/joe/Documents/Ge_od/Potentials/Si_myDB_reg_testing/Si_myDB_ds0.025_0.25_0.125_0.0.xml', '/home/joe/Documents/Ge_od/Potentials/Si_myDB_reg_testing/Si_myDB_ds0.075_0.75_0.375_0.0.xml', '/home/joe/Documents/Ge_od/Potentials/Si_myDB_reg_testing/Si_myDB_ds0.1_1.0_0.5_0.0.xml']\n"
     ]
    },
    {
     "name": "stderr",
     "output_type": "stream",
     "text": [
      "/home/joe/ase/ase/calculators/calculator.py:507: FutureWarning: The keyword \"ignore_bad_restart_file\" is deprecated and will be removed in a future version of ASE.  Passing more than one positional argument to Calculator is also deprecated and will stop functioning in the future.  Please pass arguments by keyword (key=value) except optionally the \"restart\" keyword.\n",
      "  warnings.warn(FutureWarning(\n"
     ]
    }
   ],
   "source": [
    "MY_GAPs_reg_paths =  sorted([i for i in glob(os.path.join(reg_DIR, 'Si_myDB_ds*xml'))])\n",
    "print(MY_GAPs_reg_paths)\n",
    "MY_GAPs_reg_paths[0] = '/home/joe/Documents/Ge_od/Potentials/Si_myDB_216/Si_myDB_64_125_216.xml' # default_sigma={0.001 0.1 0.05 0.0}\n",
    "MY_GAPs_reg = [Potential(param_filename=i) for i in MY_GAPs_reg_paths]"
   ],
   "metadata": {
    "collapsed": false,
    "pycharm": {
     "name": "#%%\n"
    }
   }
  },
  {
   "cell_type": "code",
   "execution_count": null,
   "outputs": [],
   "source": [
    "reg_RMS_data = [[[], [], []] for i in MY_GAPs_reg]\n",
    "for i, val in enumerate(MY_GAPs_reg):\n",
    "    for j in GAP_6:\n",
    "        val.calculate(j, properties=['energies', 'forces', 'stress'])\n",
    "        reg_RMS_data[i][0].append(val.results['energy']/len(j))\n",
    "        reg_RMS_data[i][1].append(val.results['forces'])\n",
    "        reg_RMS_data[i][2].append(val.results['virial'])\n",
    "    print('pot {} done'.format(i))"
   ],
   "metadata": {
    "collapsed": false,
    "pycharm": {
     "name": "#%%\n"
    }
   }
  },
  {
   "cell_type": "code",
   "execution_count": 25,
   "outputs": [],
   "source": [
    "# for i, val in enumerate(MY_GAPs_reg):\n",
    "#     for j, val2 in enumerate(GAP_6):\n",
    "#         reg_RMS_data[i][0][j] *= 1/len(val2)"
   ],
   "metadata": {
    "collapsed": false,
    "pycharm": {
     "name": "#%%\n"
    }
   }
  },
  {
   "cell_type": "code",
   "execution_count": 35,
   "outputs": [
    {
     "name": "stdout",
     "output_type": "stream",
     "text": [
      "pot 0 done\n",
      "pot 1 done\n",
      "pot 2 done\n",
      "pot 3 done\n"
     ]
    }
   ],
   "source": [
    "reg_RMS_data_my = [[[], [], []] for i in MY_GAPs_reg]\n",
    "for i, val in enumerate(MY_GAPs_reg):\n",
    "    for j in MyDB_liqamo_val:\n",
    "        val.calculate(j, properties=['energies', 'forces', 'stress'])\n",
    "        reg_RMS_data_my[i][0].append(val.results['energy']/len(j))\n",
    "        reg_RMS_data_my[i][1].append(val.results['forces'])\n",
    "        reg_RMS_data_my[i][2].append(val.results['virial'])\n",
    "    print('pot {} done'.format(i))"
   ],
   "metadata": {
    "collapsed": false,
    "pycharm": {
     "name": "#%%\n"
    }
   }
  },
  {
   "cell_type": "code",
   "execution_count": 36,
   "outputs": [],
   "source": [
    "with open('tmp_save.pickle', 'wb') as f:\n",
    "    pickle.dump([reg_RMS_data, reg_RMS_data_my], f)"
   ],
   "metadata": {
    "collapsed": false,
    "pycharm": {
     "name": "#%%\n"
    }
   }
  },
  {
   "cell_type": "code",
   "execution_count": 6,
   "outputs": [],
   "source": [
    "with open('tmp_save.pickle', 'rb') as f:\n",
    "    reg_RMS_data, reg_RMS_data_my = pickle.load(f)"
   ],
   "metadata": {
    "collapsed": false,
    "pycharm": {
     "name": "#%%\n"
    }
   }
  },
  {
   "cell_type": "code",
   "execution_count": 37,
   "outputs": [],
   "source": [
    "MyDB_liqamo_val_E = np.array([i.info['dft_energy']/len(i) for i in MyDB_liqamo_val])"
   ],
   "metadata": {
    "collapsed": false,
    "pycharm": {
     "name": "#%%\n"
    }
   }
  },
  {
   "cell_type": "code",
   "execution_count": 38,
   "outputs": [],
   "source": [
    "MyDB_liqamo_val_F = np.array(flatten([i.arrays['dft_forces'].flatten() for i in MyDB_liqamo_val]))"
   ],
   "metadata": {
    "collapsed": false,
    "pycharm": {
     "name": "#%%\n"
    }
   }
  },
  {
   "cell_type": "code",
   "execution_count": 39,
   "outputs": [],
   "source": [
    "E_rmses_reg = [rms_dict(np.array(i[0]), MyDB_liqamo_val_E) for i in reg_RMS_data_my]"
   ],
   "metadata": {
    "collapsed": false,
    "pycharm": {
     "name": "#%%\n"
    }
   }
  },
  {
   "cell_type": "code",
   "execution_count": 52,
   "outputs": [],
   "source": [
    "reg_RMS_data_my_F_flat = [np.array(flatten(flatten(i[1]))) for i in reg_RMS_data_my]"
   ],
   "metadata": {
    "collapsed": false,
    "pycharm": {
     "name": "#%%\n"
    }
   }
  },
  {
   "cell_type": "code",
   "execution_count": 40,
   "outputs": [],
   "source": [
    "F_rmses_reg = [rms_dict(i, MyDB_liqamo_val_F) for i in reg_RMS_data_my_F_flat]"
   ],
   "metadata": {
    "collapsed": false,
    "pycharm": {
     "name": "#%%\n"
    }
   }
  },
  {
   "cell_type": "code",
   "execution_count": 41,
   "outputs": [
    {
     "data": {
      "text/plain": "[{'rmse': 0.1929440870407516, 'std': 0.05730850114780417},\n {'rmse': 0.18820631171077046, 'std': 0.056123225105518884},\n {'rmse': 0.2222674459109712, 'std': 0.08380907007687935},\n {'rmse': 0.23599597411051107, 'std': 0.0976601124896513}]"
     },
     "execution_count": 41,
     "metadata": {},
     "output_type": "execute_result"
    }
   ],
   "source": [
    "F_rmses_reg"
   ],
   "metadata": {
    "collapsed": false,
    "pycharm": {
     "name": "#%%\n"
    }
   }
  },
  {
   "cell_type": "code",
   "execution_count": 199,
   "outputs": [
    {
     "data": {
      "text/plain": "<Figure size 576x288 with 2 Axes>",
      "image/png": "[encoded data removed]"
     },
     "metadata": {
      "needs_background": "light"
     },
     "output_type": "display_data"
    }
   ],
   "source": [
    "fig, axs = plt.subplots(1,2, figsize=(8, 4))\n",
    "E_reg = np.array([0.001, 0.025, 0.075, 0.1])*1000\n",
    "F_reg = [0.1, 0.25, 0.75, 1.0]\n",
    "# axs.errorbar(reg, [i['rmse'] for i in E_rmses_reg], yerr=[i['std'] for i in E_rmses_reg])\n",
    "axs[0].errorbar(E_reg, np.array([i['rmse'] for i in E_rmses_reg])*1000,\n",
    "                yerr=None, fmt='s--', color=colors[0], markersize=10)\n",
    "axs[0].set(xlabel='$\\mathrm{\\sigma_E \\; / \\; meV}$', ylabel='Energy RMSE / meV')\n",
    "\n",
    "axs[1].errorbar(F_reg, [i['rmse'] for i in F_rmses_reg],\n",
    "                yerr=None, fmt='s--', color=colors[0], markersize=10)\n",
    "axs[1].set(xlabel='$\\mathrm{\\sigma_F \\; / \\; eV\\AA^{-1}}$', ylabel='Force RMSE / $\\mathrm{eV\\AA^{-1}}$')\n",
    "\n",
    "axs[0].tick_params(axis=\"both\",direction=\"in\", left=\"off\",labelleft=\"on\")\n",
    "axs[1].tick_params(axis=\"both\",direction=\"in\", left=\"off\",labelleft=\"on\")\n",
    "axs[0].xaxis.labelpad = 7\n",
    "# axs[1].xaxis.labelpad = 20\n",
    "plt.tight_layout()\n",
    "fig.savefig('temp_figs/reg_RMSE.png', dpi=100, bbox_inches='tight')"
   ],
   "metadata": {
    "collapsed": false,
    "pycharm": {
     "name": "#%%\n"
    }
   }
  },
  {
   "cell_type": "code",
   "execution_count": 192,
   "outputs": [
    {
     "data": {
      "text/plain": "<Figure size 432x288 with 1 Axes>",
      "image/png": "[encoded data removed]"
     },
     "metadata": {
      "needs_background": "light"
     },
     "output_type": "display_data"
    }
   ],
   "source": [
    "fig, axs = plt.subplots()\n",
    "colormap = plt.get_cmap('viridis')\n",
    "colors = [colormap(i) for i in np.linspace(F_reg[0], F_reg[-1], len(F_reg))]\n",
    "for i, val in enumerate(reg_RMS_data_my_F_flat):\n",
    "    axs.scatter(MyDB_liqamo_val_F, val, s=2, label=F_reg[i], color=colors[i])\n",
    "# axs.plot(x:=np.linspace(-168.8,-168.0), x, color='k', linewidth=0.5)\n",
    "axs.plot(x:=np.linspace(-5,5), x, color='k', linewidth=2)\n",
    "axs.set(xlim=(-5,5), ylim=(-5,5))\n",
    "axs.legend(title='$\\mathrm{\\sigma_F \\; / \\; eV\\AA^{-1}}$', markerscale=3)\n",
    "axs.set(xlabel='DFT Force / $\\mathrm{eV\\AA^{-1}}$', ylabel='GAP prediction / $\\mathrm{eV\\AA^{-1}}$')\n",
    "axs.tick_params(axis=\"both\",direction=\"in\", left=\"off\",labelleft=\"on\")\n",
    "plt.tight_layout()\n",
    "fig.savefig('temp_figs/reg_Force.png', dpi=100, bbox_inches='tight')"
   ],
   "metadata": {
    "collapsed": false,
    "pycharm": {
     "name": "#%%\n"
    }
   }
  },
  {
   "cell_type": "markdown",
   "source": [
    "### MD runs"
   ],
   "metadata": {
    "collapsed": false,
    "pycharm": {
     "name": "#%% md\n"
    }
   }
  },
  {
   "cell_type": "code",
   "execution_count": 76,
   "outputs": [
    {
     "data": {
      "text/plain": "['/home/joe/Documents/Ge_od/Potentials/Si_myDB_reg_testing/run_64_Si_myDB_ds0.001_0.5_0.05_0.0',\n '/home/joe/Documents/Ge_od/Potentials/Si_myDB_reg_testing/run_64_Si_myDB_ds0.025_0.25_0.125_0.0',\n '/home/joe/Documents/Ge_od/Potentials/Si_myDB_reg_testing/run_64_Si_myDB_ds0.075_0.75_0.375_0.0',\n '/home/joe/Documents/Ge_od/Potentials/Si_myDB_216/run_64_loose']"
     },
     "execution_count": 76,
     "metadata": {},
     "output_type": "execute_result"
    }
   ],
   "source": [
    "MD_reg_dir = '/home/joe/Documents/Ge_od/Potentials/Si_myDB_reg_testing'\n",
    "MD_64dirs_pre = [i for i in os.listdir(MD_reg_dir) if 'run_64' in i]\n",
    "selection = [1, 2, 4]\n",
    "MD_64dirs = [os.path.join(MD_reg_dir, MD_64dirs_pre[i]) for i in selection] + ['/home/joe/Documents/Ge_od/Potentials/Si_myDB_216/run_64_loose']\n",
    "MD_64dirs"
   ],
   "metadata": {
    "collapsed": false,
    "pycharm": {
     "name": "#%%\n"
    }
   }
  },
  {
   "cell_type": "code",
   "execution_count": 77,
   "outputs": [],
   "source": [
    "reg_run_64s = [MD_run(i, label=i.split('/')[-1][15:]) for i in MD_64dirs]"
   ],
   "metadata": {
    "collapsed": false,
    "pycharm": {
     "name": "#%%\n"
    }
   }
  },
  {
   "cell_type": "markdown",
   "source": [
    "### Coordination stats"
   ],
   "metadata": {
    "collapsed": false,
    "pycharm": {
     "name": "#%% md\n"
    }
   }
  },
  {
   "cell_type": "code",
   "execution_count": 82,
   "outputs": [],
   "source": [
    "cns = np.array([cn_count(i.df['Configs'][240000])[1] for i in reg_run_64s])"
   ],
   "metadata": {
    "collapsed": false,
    "pycharm": {
     "name": "#%%\n"
    }
   }
  },
  {
   "cell_type": "code",
   "execution_count": 193,
   "outputs": [
    {
     "data": {
      "text/plain": "<Figure size 432x288 with 1 Axes>",
      "image/png": "[encoded data removed]"
     },
     "metadata": {
      "needs_background": "light"
     },
     "output_type": "display_data"
    }
   ],
   "source": [
    "mins = cns.min(1)\n",
    "maxs = cns.max(1)\n",
    "means = cns.mean(1)\n",
    "std = cns.std(1)\n",
    "\n",
    "fig, axs = plt.subplots()\n",
    "l1 = axs.errorbar(E_reg, means, std, fmt='ok', lw=3)\n",
    "l2 = axs.errorbar(E_reg, means, [means - mins, maxs - means],\n",
    "             fmt='.k', ecolor='gray', lw=1)\n",
    "axs.axhline(4, color='k', linestyle='--')\n",
    "# axs.table(cellText=np.array([np.arange(n), [i.label for i in reg_run_64s]]).T,\n",
    "#           edges='', loc=14, colWidths=[0.1,0.5])\n",
    "axs.set(xlabel='$\\mathrm{\\sigma_E \\; / \\; meV}$', ylabel='C.N.')\n",
    "axs.legend([l1[0], l1[2], l2[2]], ('Mean', 'Std dev', 'min/max'), bbox_to_anchor=(1.03, 1.05))\n",
    "fig.savefig('temp_figs/reg_CN.png', dpi=100, bbox_inches='tight')"
   ],
   "metadata": {
    "collapsed": false,
    "pycharm": {
     "name": "#%%\n"
    }
   }
  },
  {
   "cell_type": "markdown",
   "source": [
    "## Ring stats"
   ],
   "metadata": {
    "collapsed": false,
    "pycharm": {
     "name": "#%% md\n"
    }
   }
  },
  {
   "cell_type": "code",
   "execution_count": 241,
   "outputs": [
    {
     "name": "stdout",
     "output_type": "stream",
     "text": [
      "[ 0  0  0 20 35 53 51 19  0  0  0]\n",
      "[ 0  0  0 18 81 58 81 10  0  0  0]\n",
      "[ 0  0  0  6  4 24 67 20  2  0  0]\n",
      "[ 0  0  0  5  2 26 56 42  2  0  0]\n"
     ]
    }
   ],
   "source": [
    "rs = [ring_statistics(i.df['Configs'][240000], cutoff=2.7) for i in reg_run_64s]\n",
    "max = 0\n",
    "for i in rs:\n",
    "    if max < len(i):\n",
    "        max = len(i)\n",
    "max += 2\n",
    "\n",
    "for ct, i in enumerate(rs):\n",
    "    if len(i) < max:\n",
    "        rs[ct] = np.pad(i, (0, max - len(i)))\n",
    "    print(rs[ct])\n",
    "rs = np.array(rs)"
   ],
   "metadata": {
    "collapsed": false,
    "pycharm": {
     "name": "#%%\n"
    }
   }
  },
  {
   "cell_type": "code",
   "execution_count": 248,
   "outputs": [
    {
     "data": {
      "text/plain": "<Figure size 432x288 with 1 Axes>",
      "image/png": "[encoded data removed]"
     },
     "metadata": {
      "needs_background": "light"
     },
     "output_type": "display_data"
    }
   ],
   "source": [
    "fig, axs = plt.subplots()\n",
    "colormap = plt.get_cmap('viridis')\n",
    "colors = [colormap(i) for i in np.linspace(F_reg[0], F_reg[-1], len(F_reg))]\n",
    "for i, val in enumerate(rs):\n",
    "    axs.plot(np.arange(2, len(rs[0])), val[2:], label=F_reg[i],\n",
    "             color=colors[i], marker='s')\n",
    "# axs.set(xlim=(2,11), ylim=(-5,5))\n",
    "axs.legend()\n",
    "axs.set(xlabel='Ring size', ylabel='Count')\n",
    "axs.tick_params(axis=\"both\",direction=\"in\", left=\"off\",labelleft=\"on\")\n",
    "axs.legend(title='$\\mathrm{\\sigma_F \\; / \\; eV\\AA^{-1}}$')\n",
    "plt.tight_layout()\n",
    "fig.savefig('temp_figs/reg_rings.png', dpi=100, bbox_inches='tight')"
   ],
   "metadata": {
    "collapsed": false,
    "pycharm": {
     "name": "#%%\n"
    }
   }
  },
  {
   "cell_type": "code",
   "source": [
    "test = Atoms('Si3', positions=[(1,0,0), (0,1,0), (0,0,1)], cell=[10,10,10], pbc=[1,1,1])\n",
    "ring_statistics(test, cutoff=2.7)"
   ],
   "metadata": {
    "collapsed": false,
    "pycharm": {
     "name": "#%%\n"
    }
   },
   "execution_count": null,
   "outputs": []
  },
  {
   "cell_type": "markdown",
   "source": [
    "### Diffraction"
   ],
   "metadata": {
    "collapsed": false,
    "pycharm": {
     "name": "#%% md\n"
    }
   }
  },
  {
   "cell_type": "code",
   "execution_count": 89,
   "outputs": [
    {
     "name": "stdout",
     "output_type": "stream",
     "text": [
      "R.I.N.G.S ran successfully\n"
     ]
    },
    {
     "ename": "FileNotFoundError",
     "evalue": "[Errno 2] No such file or directory: 'ring.log'",
     "output_type": "error",
     "traceback": [
      "\u001B[0;31m---------------------------------------------------------------------------\u001B[0m",
      "\u001B[0;31mFileNotFoundError\u001B[0m                         Traceback (most recent call last)",
      "\u001B[0;32m<ipython-input-89-f611dc5f150d>\u001B[0m in \u001B[0;36m<module>\u001B[0;34m\u001B[0m\n\u001B[1;32m      1\u001B[0m \u001B[0;32mfor\u001B[0m \u001B[0mct\u001B[0m\u001B[0;34m,\u001B[0m \u001B[0mi\u001B[0m \u001B[0;32min\u001B[0m \u001B[0menumerate\u001B[0m\u001B[0;34m(\u001B[0m\u001B[0mreg_run_64s\u001B[0m\u001B[0;34m)\u001B[0m\u001B[0;34m:\u001B[0m\u001B[0;34m\u001B[0m\u001B[0;34m\u001B[0m\u001B[0m\n\u001B[0;32m----> 2\u001B[0;31m     i.structure_factors(selection=[i for i in range(30,120)]+[i for i in range(220,240)],\n\u001B[0m\u001B[1;32m      3\u001B[0m                     \u001B[0mrings_dir\u001B[0m\u001B[0;34m=\u001B[0m\u001B[0;34m'Regularisation/Sq_'\u001B[0m\u001B[0;34m+\u001B[0m\u001B[0mi\u001B[0m\u001B[0;34m.\u001B[0m\u001B[0mlabel\u001B[0m\u001B[0;34m,\u001B[0m\u001B[0;34m\u001B[0m\u001B[0;34m\u001B[0m\u001B[0m\n\u001B[1;32m      4\u001B[0m                     \u001B[0mopts\u001B[0m\u001B[0;34m=\u001B[0m\u001B[0;34m{\u001B[0m\u001B[0;34m'Angles'\u001B[0m\u001B[0;34m:\u001B[0m\u001B[0;32mTrue\u001B[0m\u001B[0;34m,\u001B[0m \u001B[0;34m'Rings'\u001B[0m\u001B[0;34m:\u001B[0m\u001B[0;32mTrue\u001B[0m\u001B[0;34m,\u001B[0m \u001B[0;34m'ring_options'\u001B[0m\u001B[0;34m:\u001B[0m\u001B[0;34m{\u001B[0m\u001B[0;34m'Rings0'\u001B[0m\u001B[0;34m:\u001B[0m\u001B[0;32mTrue\u001B[0m\u001B[0;34m}\u001B[0m\u001B[0;34m}\u001B[0m\u001B[0;34m,\u001B[0m\u001B[0;34m\u001B[0m\u001B[0;34m\u001B[0m\u001B[0m\n\u001B[1;32m      5\u001B[0m                     \u001B[0mrings_in\u001B[0m\u001B[0;34m=\u001B[0m\u001B[0;34m{\u001B[0m\u001B[0;34m'species'\u001B[0m\u001B[0;34m:\u001B[0m\u001B[0;34m[\u001B[0m\u001B[0;34m'Si'\u001B[0m\u001B[0;34m]\u001B[0m\u001B[0;34m}\u001B[0m\u001B[0;34m,\u001B[0m\u001B[0;34m\u001B[0m\u001B[0;34m\u001B[0m\u001B[0m\n",
      "\u001B[0;32m~/PycharmProjects/Ge_analysis_local/Ge_calculation.py\u001B[0m in \u001B[0;36mstructure_factors\u001B[0;34m(self, selection, rings_dir, discard, read_only, opts, rings_in, do_bin_fit, bin_args, overwrite)\u001B[0m\n\u001B[1;32m    386\u001B[0m         \u001B[0;32mif\u001B[0m \u001B[0;32mnot\u001B[0m \u001B[0mread_only\u001B[0m\u001B[0;34m:\u001B[0m\u001B[0;34m\u001B[0m\u001B[0;34m\u001B[0m\u001B[0m\n\u001B[1;32m    387\u001B[0m             \u001B[0;32mfor\u001B[0m \u001B[0mi\u001B[0m \u001B[0;32min\u001B[0m \u001B[0mselection\u001B[0m\u001B[0;34m:\u001B[0m\u001B[0;34m\u001B[0m\u001B[0;34m\u001B[0m\u001B[0m\n\u001B[0;32m--> 388\u001B[0;31m                 flag = rings(str(i), atoms=self.configs[i], opts=rings_opts, rings_in=rings_in,\n\u001B[0m\u001B[1;32m    389\u001B[0m                              rings_command=rings_command)\n\u001B[1;32m    390\u001B[0m             \u001B[0;32mif\u001B[0m \u001B[0;32mnot\u001B[0m \u001B[0mflag\u001B[0m\u001B[0;34m:\u001B[0m\u001B[0;34m\u001B[0m\u001B[0;34m\u001B[0m\u001B[0m\n",
      "\u001B[0;32m~/PycharmProjects/Ge_analysis_local/Ge_analysis.py\u001B[0m in \u001B[0;36mrings\u001B[0;34m(rdir, cfg_file, atoms, opts, rings_in, rings_command)\u001B[0m\n\u001B[1;32m    660\u001B[0m     \u001B[0;32mif\u001B[0m \u001B[0mexit\u001B[0m\u001B[0;31m \u001B[0m\u001B[0;31m\\\u001B[0m\u001B[0;34m\u001B[0m\u001B[0;34m\u001B[0m\u001B[0m\n\u001B[1;32m    661\u001B[0m             \u001B[0;34m!=\u001B[0m \u001B[0;36m0\u001B[0m\u001B[0;34m:\u001B[0m\u001B[0;34m\u001B[0m\u001B[0;34m\u001B[0m\u001B[0m\n\u001B[0;32m--> 662\u001B[0;31m         \u001B[0;32mwith\u001B[0m \u001B[0mopen\u001B[0m\u001B[0;34m(\u001B[0m\u001B[0;34m'ring.log'\u001B[0m\u001B[0;34m,\u001B[0m \u001B[0;34m'r'\u001B[0m\u001B[0;34m)\u001B[0m \u001B[0;32mas\u001B[0m \u001B[0mf\u001B[0m\u001B[0;34m:\u001B[0m\u001B[0;34m\u001B[0m\u001B[0;34m\u001B[0m\u001B[0m\n\u001B[0m\u001B[1;32m    663\u001B[0m             \u001B[0;32mfor\u001B[0m \u001B[0mi\u001B[0m \u001B[0;32min\u001B[0m \u001B[0mf\u001B[0m\u001B[0;34m.\u001B[0m\u001B[0mreadlines\u001B[0m\u001B[0;34m(\u001B[0m\u001B[0;34m)\u001B[0m\u001B[0;34m:\u001B[0m\u001B[0;34m\u001B[0m\u001B[0;34m\u001B[0m\u001B[0m\n\u001B[1;32m    664\u001B[0m                 \u001B[0mprint\u001B[0m\u001B[0;34m(\u001B[0m\u001B[0mf\u001B[0m\u001B[0;34m)\u001B[0m\u001B[0;34m\u001B[0m\u001B[0;34m\u001B[0m\u001B[0m\n",
      "\u001B[0;31mFileNotFoundError\u001B[0m: [Errno 2] No such file or directory: 'ring.log'"
     ]
    }
   ],
   "source": [
    "for ct, i in enumerate(reg_run_64s):\n",
    "    i.structure_factors(selection=[i for i in range(30,120)]+[i for i in range(220,240)],\n",
    "                    rings_dir='Regularisation/Sq_'+i.label,\n",
    "                    opts={'Angles':True},\n",
    "                    rings_in={'species':['Si']},\n",
    "                    read_only=False)\n",
    "\n",
    "    i.bin_fit(s_selection=[i for i in range(90)], q_selection=[0.5,12])\n",
    "    i.bin_fit(s_selection=[i for i in range(90, 110)], q_selection=[0.5,12])"
   ],
   "metadata": {
    "collapsed": false,
    "pycharm": {
     "name": "#%%\n"
    }
   }
  },
  {
   "cell_type": "code",
   "execution_count": null,
   "outputs": [],
   "source": [
    "fig, axs = plt.subplots()\n",
    "for i in reg_run_64s:\n",
    "    axs.errorbar(*i.Sq_x_av[1], yerr=None,\n",
    "                label=i.label)\n",
    "axs.plot(*aSi_exp_Sq, color='Gray', linewidth=2, label='Exp. a-Si')\n",
    "axs.legend(bbox_to_anchor=(1.04, 1), loc='upper left')\n",
    "axs.set(xlim=(1,12))"
   ],
   "metadata": {
    "collapsed": false,
    "pycharm": {
     "name": "#%%\n"
    }
   }
  },
  {
   "cell_type": "markdown",
   "source": [
    "## Reduction of the DB: GAP and MTPs"
   ],
   "metadata": {
    "collapsed": false
   }
  },
  {
   "cell_type": "markdown",
   "source": [
    "## Generalisation to crystals: GAP vs. MTP (with and without crystal structures in database?)\n",
    "\n",
    "\n"
   ],
   "metadata": {
    "collapsed": false,
    "pycharm": {
     "name": "#%% md\n"
    }
   }
  },
  {
   "cell_type": "code",
   "execution_count": null,
   "outputs": [],
   "source": [],
   "metadata": {
    "collapsed": false,
    "pycharm": {
     "name": "#%%\n"
    }
   }
  }
 ],
 "metadata": {
  "kernelspec": {
   "display_name": "Python 3",
   "language": "python",
   "name": "python3"
  },
  "language_info": {
   "codemirror_mode": {
    "name": "ipython",
    "version": 2
   },
   "file_extension": ".py",
   "mimetype": "text/x-python",
   "name": "python",
   "nbconvert_exporter": "python",
   "pygments_lexer": "ipython2",
   "version": "2.7.6"
  }
 },
 "nbformat": 4,
 "nbformat_minor": 0
}